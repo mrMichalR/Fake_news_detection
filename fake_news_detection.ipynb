{
  "cells": [
    {
      "cell_type": "markdown",
      "metadata": {
        "id": "view-in-github",
        "colab_type": "text"
      },
      "source": [
        "<a href=\"https://colab.research.google.com/github/mrMichalR/Fake_news_detection/blob/main/fake_news_detection.ipynb\" target=\"_parent\"><img src=\"https://colab.research.google.com/assets/colab-badge.svg\" alt=\"Open In Colab\"/></a>"
      ]
    },
    {
      "cell_type": "markdown",
      "metadata": {
        "id": "QHrc-cKfl2f0"
      },
      "source": [
        "# Fake news detection\n"
      ]
    },
    {
      "cell_type": "code",
      "execution_count": null,
      "metadata": {
        "colab": {
          "base_uri": "https://localhost:8080/"
        },
        "outputId": "471545c0-e58f-4dca-b92c-9456b08684c0",
        "id": "2WFU3vjKl2f6"
      },
      "outputs": [
        {
          "output_type": "stream",
          "name": "stdout",
          "text": [
            "Looking in indexes: https://pypi.org/simple, https://us-python.pkg.dev/colab-wheels/public/simple/\n",
            "Collecting ydata_profiling\n",
            "  Downloading ydata_profiling-4.2.0-py2.py3-none-any.whl (352 kB)\n",
            "\u001b[2K     \u001b[90m━━━━━━━━━━━━━━━━━━━━━━━━━━━━━━━━━━━━━━━\u001b[0m \u001b[32m352.3/352.3 kB\u001b[0m \u001b[31m6.5 MB/s\u001b[0m eta \u001b[36m0:00:00\u001b[0m\n",
            "\u001b[?25hRequirement already satisfied: scipy<1.11,>=1.4.1 in /usr/local/lib/python3.10/dist-packages (from ydata_profiling) (1.10.1)\n",
            "Requirement already satisfied: pandas!=1.4.0,<2,>1.1 in /usr/local/lib/python3.10/dist-packages (from ydata_profiling) (1.5.3)\n",
            "Requirement already satisfied: matplotlib<4,>=3.2 in /usr/local/lib/python3.10/dist-packages (from ydata_profiling) (3.7.1)\n",
            "Requirement already satisfied: pydantic<2,>=1.8.1 in /usr/local/lib/python3.10/dist-packages (from ydata_profiling) (1.10.7)\n",
            "Requirement already satisfied: PyYAML<6.1,>=5.0.0 in /usr/local/lib/python3.10/dist-packages (from ydata_profiling) (6.0)\n",
            "Requirement already satisfied: jinja2<3.2,>=2.11.1 in /usr/local/lib/python3.10/dist-packages (from ydata_profiling) (3.1.2)\n",
            "Collecting visions[type_image_path]==0.7.5 (from ydata_profiling)\n",
            "  Downloading visions-0.7.5-py3-none-any.whl (102 kB)\n",
            "\u001b[2K     \u001b[90m━━━━━━━━━━━━━━━━━━━━━━━━━━━━━━━━━━━━━━━\u001b[0m \u001b[32m102.7/102.7 kB\u001b[0m \u001b[31m4.5 MB/s\u001b[0m eta \u001b[36m0:00:00\u001b[0m\n",
            "\u001b[?25hRequirement already satisfied: numpy<1.24,>=1.16.0 in /usr/local/lib/python3.10/dist-packages (from ydata_profiling) (1.22.4)\n",
            "Collecting htmlmin==0.1.12 (from ydata_profiling)\n",
            "  Downloading htmlmin-0.1.12.tar.gz (19 kB)\n",
            "  Preparing metadata (setup.py) ... \u001b[?25l\u001b[?25hdone\n",
            "Collecting phik<0.13,>=0.11.1 (from ydata_profiling)\n",
            "  Downloading phik-0.12.3-cp310-cp310-manylinux_2_17_x86_64.manylinux2014_x86_64.whl (679 kB)\n",
            "\u001b[2K     \u001b[90m━━━━━━━━━━━━━━━━━━━━━━━━━━━━━━━━━━━━━━\u001b[0m \u001b[32m679.5/679.5 kB\u001b[0m \u001b[31m32.4 MB/s\u001b[0m eta \u001b[36m0:00:00\u001b[0m\n",
            "\u001b[?25hRequirement already satisfied: requests<3,>=2.24.0 in /usr/local/lib/python3.10/dist-packages (from ydata_profiling) (2.27.1)\n",
            "Requirement already satisfied: tqdm<5,>=4.48.2 in /usr/local/lib/python3.10/dist-packages (from ydata_profiling) (4.65.0)\n",
            "Requirement already satisfied: seaborn<0.13,>=0.10.1 in /usr/local/lib/python3.10/dist-packages (from ydata_profiling) (0.12.2)\n",
            "Collecting multimethod<2,>=1.4 (from ydata_profiling)\n",
            "  Downloading multimethod-1.9.1-py3-none-any.whl (10 kB)\n",
            "Requirement already satisfied: statsmodels<1,>=0.13.2 in /usr/local/lib/python3.10/dist-packages (from ydata_profiling) (0.13.5)\n",
            "Collecting typeguard<3,>=2.13.2 (from ydata_profiling)\n",
            "  Downloading typeguard-2.13.3-py3-none-any.whl (17 kB)\n",
            "Collecting imagehash==4.3.1 (from ydata_profiling)\n",
            "  Downloading ImageHash-4.3.1-py2.py3-none-any.whl (296 kB)\n",
            "\u001b[2K     \u001b[90m━━━━━━━━━━━━━━━━━━━━━━━━━━━━━━━━━━━━━━\u001b[0m \u001b[32m296.5/296.5 kB\u001b[0m \u001b[31m25.8 MB/s\u001b[0m eta \u001b[36m0:00:00\u001b[0m\n",
            "\u001b[?25hCollecting wordcloud>=1.9.1 (from ydata_profiling)\n",
            "  Downloading wordcloud-1.9.2-cp310-cp310-manylinux_2_17_x86_64.manylinux2014_x86_64.whl (455 kB)\n",
            "\u001b[2K     \u001b[90m━━━━━━━━━━━━━━━━━━━━━━━━━━━━━━━━━━━━━━\u001b[0m \u001b[32m455.4/455.4 kB\u001b[0m \u001b[31m31.8 MB/s\u001b[0m eta \u001b[36m0:00:00\u001b[0m\n",
            "\u001b[?25hCollecting dacite>=1.8 (from ydata_profiling)\n",
            "  Downloading dacite-1.8.1-py3-none-any.whl (14 kB)\n",
            "Requirement already satisfied: PyWavelets in /usr/local/lib/python3.10/dist-packages (from imagehash==4.3.1->ydata_profiling) (1.4.1)\n",
            "Requirement already satisfied: pillow in /usr/local/lib/python3.10/dist-packages (from imagehash==4.3.1->ydata_profiling) (8.4.0)\n",
            "Requirement already satisfied: attrs>=19.3.0 in /usr/local/lib/python3.10/dist-packages (from visions[type_image_path]==0.7.5->ydata_profiling) (23.1.0)\n",
            "Requirement already satisfied: networkx>=2.4 in /usr/local/lib/python3.10/dist-packages (from visions[type_image_path]==0.7.5->ydata_profiling) (3.1)\n",
            "Collecting tangled-up-in-unicode>=0.0.4 (from visions[type_image_path]==0.7.5->ydata_profiling)\n",
            "  Downloading tangled_up_in_unicode-0.2.0-py3-none-any.whl (4.7 MB)\n",
            "\u001b[2K     \u001b[90m━━━━━━━━━━━━━━━━━━━━━━━━━━━━━━━━━━━━━━━━\u001b[0m \u001b[32m4.7/4.7 MB\u001b[0m \u001b[31m37.7 MB/s\u001b[0m eta \u001b[36m0:00:00\u001b[0m\n",
            "\u001b[?25hRequirement already satisfied: MarkupSafe>=2.0 in /usr/local/lib/python3.10/dist-packages (from jinja2<3.2,>=2.11.1->ydata_profiling) (2.1.2)\n",
            "Requirement already satisfied: contourpy>=1.0.1 in /usr/local/lib/python3.10/dist-packages (from matplotlib<4,>=3.2->ydata_profiling) (1.0.7)\n",
            "Requirement already satisfied: cycler>=0.10 in /usr/local/lib/python3.10/dist-packages (from matplotlib<4,>=3.2->ydata_profiling) (0.11.0)\n",
            "Requirement already satisfied: fonttools>=4.22.0 in /usr/local/lib/python3.10/dist-packages (from matplotlib<4,>=3.2->ydata_profiling) (4.39.3)\n",
            "Requirement already satisfied: kiwisolver>=1.0.1 in /usr/local/lib/python3.10/dist-packages (from matplotlib<4,>=3.2->ydata_profiling) (1.4.4)\n",
            "Requirement already satisfied: packaging>=20.0 in /usr/local/lib/python3.10/dist-packages (from matplotlib<4,>=3.2->ydata_profiling) (23.1)\n",
            "Requirement already satisfied: pyparsing>=2.3.1 in /usr/local/lib/python3.10/dist-packages (from matplotlib<4,>=3.2->ydata_profiling) (3.0.9)\n",
            "Requirement already satisfied: python-dateutil>=2.7 in /usr/local/lib/python3.10/dist-packages (from matplotlib<4,>=3.2->ydata_profiling) (2.8.2)\n",
            "Requirement already satisfied: pytz>=2020.1 in /usr/local/lib/python3.10/dist-packages (from pandas!=1.4.0,<2,>1.1->ydata_profiling) (2022.7.1)\n",
            "Requirement already satisfied: joblib>=0.14.1 in /usr/local/lib/python3.10/dist-packages (from phik<0.13,>=0.11.1->ydata_profiling) (1.2.0)\n",
            "Requirement already satisfied: typing-extensions>=4.2.0 in /usr/local/lib/python3.10/dist-packages (from pydantic<2,>=1.8.1->ydata_profiling) (4.5.0)\n",
            "Requirement already satisfied: urllib3<1.27,>=1.21.1 in /usr/local/lib/python3.10/dist-packages (from requests<3,>=2.24.0->ydata_profiling) (1.26.15)\n",
            "Requirement already satisfied: certifi>=2017.4.17 in /usr/local/lib/python3.10/dist-packages (from requests<3,>=2.24.0->ydata_profiling) (2022.12.7)\n",
            "Requirement already satisfied: charset-normalizer~=2.0.0 in /usr/local/lib/python3.10/dist-packages (from requests<3,>=2.24.0->ydata_profiling) (2.0.12)\n",
            "Requirement already satisfied: idna<4,>=2.5 in /usr/local/lib/python3.10/dist-packages (from requests<3,>=2.24.0->ydata_profiling) (3.4)\n",
            "Requirement already satisfied: patsy>=0.5.2 in /usr/local/lib/python3.10/dist-packages (from statsmodels<1,>=0.13.2->ydata_profiling) (0.5.3)\n",
            "Requirement already satisfied: six in /usr/local/lib/python3.10/dist-packages (from patsy>=0.5.2->statsmodels<1,>=0.13.2->ydata_profiling) (1.16.0)\n",
            "Building wheels for collected packages: htmlmin\n",
            "  Building wheel for htmlmin (setup.py) ... \u001b[?25l\u001b[?25hdone\n",
            "  Created wheel for htmlmin: filename=htmlmin-0.1.12-py3-none-any.whl size=27081 sha256=88f8c6b704153679b7b02b2cf06350d119fdb39e243107de77461aed92ab6a8a\n",
            "  Stored in directory: /root/.cache/pip/wheels/dd/91/29/a79cecb328d01739e64017b6fb9a1ab9d8cb1853098ec5966d\n",
            "Successfully built htmlmin\n",
            "Installing collected packages: htmlmin, typeguard, tangled-up-in-unicode, multimethod, dacite, imagehash, wordcloud, visions, phik, ydata_profiling\n",
            "  Attempting uninstall: wordcloud\n",
            "    Found existing installation: wordcloud 1.8.2.2\n",
            "    Uninstalling wordcloud-1.8.2.2:\n",
            "      Successfully uninstalled wordcloud-1.8.2.2\n",
            "Successfully installed dacite-1.8.1 htmlmin-0.1.12 imagehash-4.3.1 multimethod-1.9.1 phik-0.12.3 tangled-up-in-unicode-0.2.0 typeguard-2.13.3 visions-0.7.5 wordcloud-1.9.2 ydata_profiling-4.2.0\n",
            "Looking in indexes: https://pypi.org/simple, https://us-python.pkg.dev/colab-wheels/public/simple/\n",
            "Requirement already satisfied: torch in /usr/local/lib/python3.10/dist-packages (2.0.1+cu118)\n",
            "Requirement already satisfied: filelock in /usr/local/lib/python3.10/dist-packages (from torch) (3.12.0)\n",
            "Requirement already satisfied: typing-extensions in /usr/local/lib/python3.10/dist-packages (from torch) (4.5.0)\n",
            "Requirement already satisfied: sympy in /usr/local/lib/python3.10/dist-packages (from torch) (1.11.1)\n",
            "Requirement already satisfied: networkx in /usr/local/lib/python3.10/dist-packages (from torch) (3.1)\n",
            "Requirement already satisfied: jinja2 in /usr/local/lib/python3.10/dist-packages (from torch) (3.1.2)\n",
            "Requirement already satisfied: triton==2.0.0 in /usr/local/lib/python3.10/dist-packages (from torch) (2.0.0)\n",
            "Requirement already satisfied: cmake in /usr/local/lib/python3.10/dist-packages (from triton==2.0.0->torch) (3.25.2)\n",
            "Requirement already satisfied: lit in /usr/local/lib/python3.10/dist-packages (from triton==2.0.0->torch) (16.0.5)\n",
            "Requirement already satisfied: MarkupSafe>=2.0 in /usr/local/lib/python3.10/dist-packages (from jinja2->torch) (2.1.2)\n",
            "Requirement already satisfied: mpmath>=0.19 in /usr/local/lib/python3.10/dist-packages (from sympy->torch) (1.3.0)\n",
            "Looking in indexes: https://pypi.org/simple, https://us-python.pkg.dev/colab-wheels/public/simple/\n",
            "Collecting optuna\n",
            "  Downloading optuna-3.1.1-py3-none-any.whl (365 kB)\n",
            "\u001b[2K     \u001b[90m━━━━━━━━━━━━━━━━━━━━━━━━━━━━━━━━━━━━━━━\u001b[0m \u001b[32m365.7/365.7 kB\u001b[0m \u001b[31m7.9 MB/s\u001b[0m eta \u001b[36m0:00:00\u001b[0m\n",
            "\u001b[?25hCollecting alembic>=1.5.0 (from optuna)\n",
            "  Downloading alembic-1.11.1-py3-none-any.whl (224 kB)\n",
            "\u001b[2K     \u001b[90m━━━━━━━━━━━━━━━━━━━━━━━━━━━━━━━━━━━━━━\u001b[0m \u001b[32m224.5/224.5 kB\u001b[0m \u001b[31m21.7 MB/s\u001b[0m eta \u001b[36m0:00:00\u001b[0m\n",
            "\u001b[?25hCollecting cmaes>=0.9.1 (from optuna)\n",
            "  Downloading cmaes-0.9.1-py3-none-any.whl (21 kB)\n",
            "Collecting colorlog (from optuna)\n",
            "  Downloading colorlog-6.7.0-py2.py3-none-any.whl (11 kB)\n",
            "Requirement already satisfied: numpy in /usr/local/lib/python3.10/dist-packages (from optuna) (1.22.4)\n",
            "Requirement already satisfied: packaging>=20.0 in /usr/local/lib/python3.10/dist-packages (from optuna) (23.1)\n",
            "Requirement already satisfied: sqlalchemy>=1.3.0 in /usr/local/lib/python3.10/dist-packages (from optuna) (2.0.10)\n",
            "Requirement already satisfied: tqdm in /usr/local/lib/python3.10/dist-packages (from optuna) (4.65.0)\n",
            "Requirement already satisfied: PyYAML in /usr/local/lib/python3.10/dist-packages (from optuna) (6.0)\n",
            "Collecting Mako (from alembic>=1.5.0->optuna)\n",
            "  Downloading Mako-1.2.4-py3-none-any.whl (78 kB)\n",
            "\u001b[2K     \u001b[90m━━━━━━━━━━━━━━━━━━━━━━━━━━━━━━━━━━━━━━━━\u001b[0m \u001b[32m78.7/78.7 kB\u001b[0m \u001b[31m10.4 MB/s\u001b[0m eta \u001b[36m0:00:00\u001b[0m\n",
            "\u001b[?25hRequirement already satisfied: typing-extensions>=4 in /usr/local/lib/python3.10/dist-packages (from alembic>=1.5.0->optuna) (4.5.0)\n",
            "Requirement already satisfied: greenlet!=0.4.17 in /usr/local/lib/python3.10/dist-packages (from sqlalchemy>=1.3.0->optuna) (2.0.2)\n",
            "Requirement already satisfied: MarkupSafe>=0.9.2 in /usr/local/lib/python3.10/dist-packages (from Mako->alembic>=1.5.0->optuna) (2.1.2)\n",
            "Installing collected packages: Mako, colorlog, cmaes, alembic, optuna\n",
            "Successfully installed Mako-1.2.4 alembic-1.11.1 cmaes-0.9.1 colorlog-6.7.0 optuna-3.1.1\n",
            "Looking in indexes: https://pypi.org/simple, https://us-python.pkg.dev/colab-wheels/public/simple/\n",
            "Collecting sentence-transformers\n",
            "  Downloading sentence-transformers-2.2.2.tar.gz (85 kB)\n",
            "\u001b[2K     \u001b[90m━━━━━━━━━━━━━━━━━━━━━━━━━━━━━━━━━━━━━━━━\u001b[0m \u001b[32m86.0/86.0 kB\u001b[0m \u001b[31m3.9 MB/s\u001b[0m eta \u001b[36m0:00:00\u001b[0m\n",
            "\u001b[?25h  Preparing metadata (setup.py) ... \u001b[?25l\u001b[?25hdone\n",
            "Collecting transformers<5.0.0,>=4.6.0 (from sentence-transformers)\n",
            "  Downloading transformers-4.29.2-py3-none-any.whl (7.1 MB)\n",
            "\u001b[2K     \u001b[90m━━━━━━━━━━━━━━━━━━━━━━━━━━━━━━━━━━━━━━━━\u001b[0m \u001b[32m7.1/7.1 MB\u001b[0m \u001b[31m72.9 MB/s\u001b[0m eta \u001b[36m0:00:00\u001b[0m\n",
            "\u001b[?25hRequirement already satisfied: tqdm in /usr/local/lib/python3.10/dist-packages (from sentence-transformers) (4.65.0)\n",
            "Requirement already satisfied: torch>=1.6.0 in /usr/local/lib/python3.10/dist-packages (from sentence-transformers) (2.0.1+cu118)\n",
            "Requirement already satisfied: torchvision in /usr/local/lib/python3.10/dist-packages (from sentence-transformers) (0.15.2+cu118)\n",
            "Requirement already satisfied: numpy in /usr/local/lib/python3.10/dist-packages (from sentence-transformers) (1.22.4)\n",
            "Requirement already satisfied: scikit-learn in /usr/local/lib/python3.10/dist-packages (from sentence-transformers) (1.2.2)\n",
            "Requirement already satisfied: scipy in /usr/local/lib/python3.10/dist-packages (from sentence-transformers) (1.10.1)\n",
            "Requirement already satisfied: nltk in /usr/local/lib/python3.10/dist-packages (from sentence-transformers) (3.8.1)\n",
            "Collecting sentencepiece (from sentence-transformers)\n",
            "  Downloading sentencepiece-0.1.99-cp310-cp310-manylinux_2_17_x86_64.manylinux2014_x86_64.whl (1.3 MB)\n",
            "\u001b[2K     \u001b[90m━━━━━━━━━━━━━━━━━━━━━━━━━━━━━━━━━━━━━━━━\u001b[0m \u001b[32m1.3/1.3 MB\u001b[0m \u001b[31m82.6 MB/s\u001b[0m eta \u001b[36m0:00:00\u001b[0m\n",
            "\u001b[?25hCollecting huggingface-hub>=0.4.0 (from sentence-transformers)\n",
            "  Downloading huggingface_hub-0.14.1-py3-none-any.whl (224 kB)\n",
            "\u001b[2K     \u001b[90m━━━━━━━━━━━━━━━━━━━━━━━━━━━━━━━━━━━━━━\u001b[0m \u001b[32m224.5/224.5 kB\u001b[0m \u001b[31m28.0 MB/s\u001b[0m eta \u001b[36m0:00:00\u001b[0m\n",
            "\u001b[?25hRequirement already satisfied: filelock in /usr/local/lib/python3.10/dist-packages (from huggingface-hub>=0.4.0->sentence-transformers) (3.12.0)\n",
            "Requirement already satisfied: fsspec in /usr/local/lib/python3.10/dist-packages (from huggingface-hub>=0.4.0->sentence-transformers) (2023.4.0)\n",
            "Requirement already satisfied: requests in /usr/local/lib/python3.10/dist-packages (from huggingface-hub>=0.4.0->sentence-transformers) (2.27.1)\n",
            "Requirement already satisfied: pyyaml>=5.1 in /usr/local/lib/python3.10/dist-packages (from huggingface-hub>=0.4.0->sentence-transformers) (6.0)\n",
            "Requirement already satisfied: typing-extensions>=3.7.4.3 in /usr/local/lib/python3.10/dist-packages (from huggingface-hub>=0.4.0->sentence-transformers) (4.5.0)\n",
            "Requirement already satisfied: packaging>=20.9 in /usr/local/lib/python3.10/dist-packages (from huggingface-hub>=0.4.0->sentence-transformers) (23.1)\n",
            "Requirement already satisfied: sympy in /usr/local/lib/python3.10/dist-packages (from torch>=1.6.0->sentence-transformers) (1.11.1)\n",
            "Requirement already satisfied: networkx in /usr/local/lib/python3.10/dist-packages (from torch>=1.6.0->sentence-transformers) (3.1)\n",
            "Requirement already satisfied: jinja2 in /usr/local/lib/python3.10/dist-packages (from torch>=1.6.0->sentence-transformers) (3.1.2)\n",
            "Requirement already satisfied: triton==2.0.0 in /usr/local/lib/python3.10/dist-packages (from torch>=1.6.0->sentence-transformers) (2.0.0)\n",
            "Requirement already satisfied: cmake in /usr/local/lib/python3.10/dist-packages (from triton==2.0.0->torch>=1.6.0->sentence-transformers) (3.25.2)\n",
            "Requirement already satisfied: lit in /usr/local/lib/python3.10/dist-packages (from triton==2.0.0->torch>=1.6.0->sentence-transformers) (16.0.5)\n",
            "Requirement already satisfied: regex!=2019.12.17 in /usr/local/lib/python3.10/dist-packages (from transformers<5.0.0,>=4.6.0->sentence-transformers) (2022.10.31)\n",
            "Collecting tokenizers!=0.11.3,<0.14,>=0.11.1 (from transformers<5.0.0,>=4.6.0->sentence-transformers)\n",
            "  Downloading tokenizers-0.13.3-cp310-cp310-manylinux_2_17_x86_64.manylinux2014_x86_64.whl (7.8 MB)\n",
            "\u001b[2K     \u001b[90m━━━━━━━━━━━━━━━━━━━━━━━━━━━━━━━━━━━━━━━━\u001b[0m \u001b[32m7.8/7.8 MB\u001b[0m \u001b[31m83.9 MB/s\u001b[0m eta \u001b[36m0:00:00\u001b[0m\n",
            "\u001b[?25hRequirement already satisfied: click in /usr/local/lib/python3.10/dist-packages (from nltk->sentence-transformers) (8.1.3)\n",
            "Requirement already satisfied: joblib in /usr/local/lib/python3.10/dist-packages (from nltk->sentence-transformers) (1.2.0)\n",
            "Requirement already satisfied: threadpoolctl>=2.0.0 in /usr/local/lib/python3.10/dist-packages (from scikit-learn->sentence-transformers) (3.1.0)\n",
            "Requirement already satisfied: pillow!=8.3.*,>=5.3.0 in /usr/local/lib/python3.10/dist-packages (from torchvision->sentence-transformers) (8.4.0)\n",
            "Requirement already satisfied: MarkupSafe>=2.0 in /usr/local/lib/python3.10/dist-packages (from jinja2->torch>=1.6.0->sentence-transformers) (2.1.2)\n",
            "Requirement already satisfied: urllib3<1.27,>=1.21.1 in /usr/local/lib/python3.10/dist-packages (from requests->huggingface-hub>=0.4.0->sentence-transformers) (1.26.15)\n",
            "Requirement already satisfied: certifi>=2017.4.17 in /usr/local/lib/python3.10/dist-packages (from requests->huggingface-hub>=0.4.0->sentence-transformers) (2022.12.7)\n",
            "Requirement already satisfied: charset-normalizer~=2.0.0 in /usr/local/lib/python3.10/dist-packages (from requests->huggingface-hub>=0.4.0->sentence-transformers) (2.0.12)\n",
            "Requirement already satisfied: idna<4,>=2.5 in /usr/local/lib/python3.10/dist-packages (from requests->huggingface-hub>=0.4.0->sentence-transformers) (3.4)\n",
            "Requirement already satisfied: mpmath>=0.19 in /usr/local/lib/python3.10/dist-packages (from sympy->torch>=1.6.0->sentence-transformers) (1.3.0)\n",
            "Building wheels for collected packages: sentence-transformers\n",
            "  Building wheel for sentence-transformers (setup.py) ... \u001b[?25l\u001b[?25hdone\n",
            "  Created wheel for sentence-transformers: filename=sentence_transformers-2.2.2-py3-none-any.whl size=125926 sha256=2df11989f1a4d4f835d83300e459961eac704753fdee86d529093c01e21e774f\n",
            "  Stored in directory: /root/.cache/pip/wheels/62/f2/10/1e606fd5f02395388f74e7462910fe851042f97238cbbd902f\n",
            "Successfully built sentence-transformers\n",
            "Installing collected packages: tokenizers, sentencepiece, huggingface-hub, transformers, sentence-transformers\n",
            "Successfully installed huggingface-hub-0.14.1 sentence-transformers-2.2.2 sentencepiece-0.1.99 tokenizers-0.13.3 transformers-4.29.2\n"
          ]
        }
      ],
      "source": [
        "!pip install ydata_profiling\n",
        "!pip install torch\n",
        "!pip install optuna\n",
        "!pip install -U sentence-transformers"
      ]
    },
    {
      "cell_type": "code",
      "execution_count": null,
      "metadata": {
        "id": "3a2244lal2f7"
      },
      "outputs": [],
      "source": [
        "import pandas as pd\n",
        "import numpy as np\n",
        "import seaborn as sns\n",
        "import os, sys\n",
        "import string\n",
        "import matplotlib.pyplot as plt\n",
        "from sklearn.utils import resample\n",
        "import re\n",
        "import nltk\n",
        "import torch\n",
        "import torch.optim as optim\n",
        "import torch.nn as nn\n",
        "import optuna\n",
        "import copy\n",
        "from tqdm import tqdm\n",
        "from tqdm.notebook import tqdm\n",
        "tqdm.pandas()\n",
        "import torch.autograd as autograd\n",
        "from nltk.tokenize import sent_tokenize, word_tokenize\n",
        "from nltk.corpus import stopwords\n",
        "from nltk.stem import WordNetLemmatizer\n",
        "from ydata_profiling import ProfileReport\n",
        "from sklearn.model_selection import train_test_split, KFold, StratifiedKFold, cross_val_score\n",
        "from sklearn.metrics import mean_squared_error\n",
        "from wordcloud import WordCloud, STOPWORDS, ImageColorGenerator\n",
        "from sentence_transformers import SentenceTransformer\n",
        "from sklearn.feature_extraction.text import CountVectorizer, TfidfVectorizer"
      ]
    },
    {
      "cell_type": "code",
      "execution_count": null,
      "metadata": {
        "colab": {
          "base_uri": "https://localhost:8080/"
        },
        "outputId": "62272472-9bb8-47ba-cafd-8911fe262818",
        "id": "3Noo0rnll2f7"
      },
      "outputs": [
        {
          "output_type": "stream",
          "name": "stdout",
          "text": [
            "Mounted at /content/drive\n",
            "/content/drive/MyDrive/week2\n"
          ]
        }
      ],
      "source": [
        "from google.colab import drive\n",
        "drive.mount('/content/drive', force_remount=True)\n",
        "%cd drive/MyDrive/week2"
      ]
    },
    {
      "cell_type": "markdown",
      "metadata": {
        "id": "WWJ8Fihml2f7"
      },
      "source": [
        "## Datasets\n",
        "Get datasets from Kaggle.\n",
        "\n",
        "1. WELFake <br>\n",
        "https://www.kaggle.com/datasets/saurabhshahane/fake-news-classification\n",
        "2. Fake & Real <br>\n",
        "https://www.kaggle.com/datasets/clmentbisaillon/fake-and-real-news-dataset?select=True.csv\n",
        "3. Fake news net <br>\n",
        "https://www.kaggle.com/datasets/algord/fake-news\n",
        "\n"
      ]
    },
    {
      "cell_type": "code",
      "execution_count": null,
      "metadata": {
        "colab": {
          "base_uri": "https://localhost:8080/"
        },
        "outputId": "9b6feca9-4cdc-451c-e671-a86ac4861ed4",
        "id": "03wr6kxDl2f7"
      },
      "outputs": [
        {
          "output_type": "stream",
          "name": "stdout",
          "text": [
            "/content/drive/MyDrive/week2/Fake.csv\n",
            "/content/drive/MyDrive/week2/True.csv\n",
            "/content/drive/MyDrive/week2/FakeNewsNet.csv\n",
            "/content/drive/MyDrive/week2/WELFake_Dataset.csv\n",
            "/content/drive/MyDrive/week2/output3.html\n",
            "/content/drive/MyDrive/week2/output1.html\n",
            "/content/drive/MyDrive/week2/output2.html\n",
            "/content/drive/MyDrive/week2/ProfileReport1.html\n",
            "/content/drive/MyDrive/week2/ProfileReport3.html\n",
            "/content/drive/MyDrive/week2/ProfileReport2.html\n",
            "/content/drive/MyDrive/week2/df2_downsampled_Fake_&_Real.csv\n",
            "/content/drive/MyDrive/week2/df1_downsampled.csv\n",
            "/content/drive/MyDrive/week2/df3_downsampled.csv\n",
            "/content/drive/MyDrive/week2/df2_downsampled.csv\n"
          ]
        }
      ],
      "source": [
        "root = os.getcwd()\n",
        "path = os.path.join(root, \".csv\")\n",
        "files_list=[]\n",
        "\n",
        "for path, subdirs, files in os.walk(root):\n",
        "  for name in files:\n",
        "    temp_file = os.path.join(path, name)\n",
        "    print(temp_file)\n",
        "    files_list.append(temp_file)\n",
        "\n",
        "# print(files_list)"
      ]
    },
    {
      "cell_type": "code",
      "execution_count": null,
      "metadata": {
        "colab": {
          "base_uri": "https://localhost:8080/",
          "height": 441
        },
        "outputId": "9fe8e24c-aef5-4d7c-cadd-42ecb290c060",
        "id": "UqfZ5Dayl2f7"
      },
      "outputs": [
        {
          "output_type": "stream",
          "name": "stdout",
          "text": [
            "DataFrame of /content/drive/MyDrive/week2/Fake.csv and /content/drive/MyDrive/week2/True.csv file\n"
          ]
        },
        {
          "output_type": "execute_result",
          "data": {
            "text/plain": [
              "                                                   title  \\\n",
              "0       Donald Trump Sends Out Embarrassing New Year’...   \n",
              "1       Drunk Bragging Trump Staffer Started Russian ...   \n",
              "2       Sheriff David Clarke Becomes An Internet Joke...   \n",
              "3       Trump Is So Obsessed He Even Has Obama’s Name...   \n",
              "4       Pope Francis Just Called Out Donald Trump Dur...   \n",
              "...                                                  ...   \n",
              "21412  'Fully committed' NATO backs new U.S. approach...   \n",
              "21413  LexisNexis withdrew two products from Chinese ...   \n",
              "21414  Minsk cultural hub becomes haven from authorities   \n",
              "21415  Vatican upbeat on possibility of Pope Francis ...   \n",
              "21416  Indonesia to buy $1.14 billion worth of Russia...   \n",
              "\n",
              "                                                    text    subject  \\\n",
              "0      Donald Trump just couldn t wish all Americans ...       News   \n",
              "1      House Intelligence Committee Chairman Devin Nu...       News   \n",
              "2      On Friday, it was revealed that former Milwauk...       News   \n",
              "3      On Christmas day, Donald Trump announced that ...       News   \n",
              "4      Pope Francis used his annual Christmas Day mes...       News   \n",
              "...                                                  ...        ...   \n",
              "21412  BRUSSELS (Reuters) - NATO allies on Tuesday we...  worldnews   \n",
              "21413  LONDON (Reuters) - LexisNexis, a provider of l...  worldnews   \n",
              "21414  MINSK (Reuters) - In the shadow of disused Sov...  worldnews   \n",
              "21415  MOSCOW (Reuters) - Vatican Secretary of State ...  worldnews   \n",
              "21416  JAKARTA (Reuters) - Indonesia will buy 11 Sukh...  worldnews   \n",
              "\n",
              "                    date  fake  \n",
              "0      December 31, 2017     1  \n",
              "1      December 31, 2017     1  \n",
              "2      December 30, 2017     1  \n",
              "3      December 29, 2017     1  \n",
              "4      December 25, 2017     1  \n",
              "...                  ...   ...  \n",
              "21412   August 22, 2017      0  \n",
              "21413   August 22, 2017      0  \n",
              "21414   August 22, 2017      0  \n",
              "21415   August 22, 2017      0  \n",
              "21416   August 22, 2017      0  \n",
              "\n",
              "[44898 rows x 5 columns]"
            ],
            "text/html": [
              "\n",
              "  <div id=\"df-b367fbd5-7074-42f1-9e21-368fe309302d\">\n",
              "    <div class=\"colab-df-container\">\n",
              "      <div>\n",
              "<style scoped>\n",
              "    .dataframe tbody tr th:only-of-type {\n",
              "        vertical-align: middle;\n",
              "    }\n",
              "\n",
              "    .dataframe tbody tr th {\n",
              "        vertical-align: top;\n",
              "    }\n",
              "\n",
              "    .dataframe thead th {\n",
              "        text-align: right;\n",
              "    }\n",
              "</style>\n",
              "<table border=\"1\" class=\"dataframe\">\n",
              "  <thead>\n",
              "    <tr style=\"text-align: right;\">\n",
              "      <th></th>\n",
              "      <th>title</th>\n",
              "      <th>text</th>\n",
              "      <th>subject</th>\n",
              "      <th>date</th>\n",
              "      <th>fake</th>\n",
              "    </tr>\n",
              "  </thead>\n",
              "  <tbody>\n",
              "    <tr>\n",
              "      <th>0</th>\n",
              "      <td>Donald Trump Sends Out Embarrassing New Year’...</td>\n",
              "      <td>Donald Trump just couldn t wish all Americans ...</td>\n",
              "      <td>News</td>\n",
              "      <td>December 31, 2017</td>\n",
              "      <td>1</td>\n",
              "    </tr>\n",
              "    <tr>\n",
              "      <th>1</th>\n",
              "      <td>Drunk Bragging Trump Staffer Started Russian ...</td>\n",
              "      <td>House Intelligence Committee Chairman Devin Nu...</td>\n",
              "      <td>News</td>\n",
              "      <td>December 31, 2017</td>\n",
              "      <td>1</td>\n",
              "    </tr>\n",
              "    <tr>\n",
              "      <th>2</th>\n",
              "      <td>Sheriff David Clarke Becomes An Internet Joke...</td>\n",
              "      <td>On Friday, it was revealed that former Milwauk...</td>\n",
              "      <td>News</td>\n",
              "      <td>December 30, 2017</td>\n",
              "      <td>1</td>\n",
              "    </tr>\n",
              "    <tr>\n",
              "      <th>3</th>\n",
              "      <td>Trump Is So Obsessed He Even Has Obama’s Name...</td>\n",
              "      <td>On Christmas day, Donald Trump announced that ...</td>\n",
              "      <td>News</td>\n",
              "      <td>December 29, 2017</td>\n",
              "      <td>1</td>\n",
              "    </tr>\n",
              "    <tr>\n",
              "      <th>4</th>\n",
              "      <td>Pope Francis Just Called Out Donald Trump Dur...</td>\n",
              "      <td>Pope Francis used his annual Christmas Day mes...</td>\n",
              "      <td>News</td>\n",
              "      <td>December 25, 2017</td>\n",
              "      <td>1</td>\n",
              "    </tr>\n",
              "    <tr>\n",
              "      <th>...</th>\n",
              "      <td>...</td>\n",
              "      <td>...</td>\n",
              "      <td>...</td>\n",
              "      <td>...</td>\n",
              "      <td>...</td>\n",
              "    </tr>\n",
              "    <tr>\n",
              "      <th>21412</th>\n",
              "      <td>'Fully committed' NATO backs new U.S. approach...</td>\n",
              "      <td>BRUSSELS (Reuters) - NATO allies on Tuesday we...</td>\n",
              "      <td>worldnews</td>\n",
              "      <td>August 22, 2017</td>\n",
              "      <td>0</td>\n",
              "    </tr>\n",
              "    <tr>\n",
              "      <th>21413</th>\n",
              "      <td>LexisNexis withdrew two products from Chinese ...</td>\n",
              "      <td>LONDON (Reuters) - LexisNexis, a provider of l...</td>\n",
              "      <td>worldnews</td>\n",
              "      <td>August 22, 2017</td>\n",
              "      <td>0</td>\n",
              "    </tr>\n",
              "    <tr>\n",
              "      <th>21414</th>\n",
              "      <td>Minsk cultural hub becomes haven from authorities</td>\n",
              "      <td>MINSK (Reuters) - In the shadow of disused Sov...</td>\n",
              "      <td>worldnews</td>\n",
              "      <td>August 22, 2017</td>\n",
              "      <td>0</td>\n",
              "    </tr>\n",
              "    <tr>\n",
              "      <th>21415</th>\n",
              "      <td>Vatican upbeat on possibility of Pope Francis ...</td>\n",
              "      <td>MOSCOW (Reuters) - Vatican Secretary of State ...</td>\n",
              "      <td>worldnews</td>\n",
              "      <td>August 22, 2017</td>\n",
              "      <td>0</td>\n",
              "    </tr>\n",
              "    <tr>\n",
              "      <th>21416</th>\n",
              "      <td>Indonesia to buy $1.14 billion worth of Russia...</td>\n",
              "      <td>JAKARTA (Reuters) - Indonesia will buy 11 Sukh...</td>\n",
              "      <td>worldnews</td>\n",
              "      <td>August 22, 2017</td>\n",
              "      <td>0</td>\n",
              "    </tr>\n",
              "  </tbody>\n",
              "</table>\n",
              "<p>44898 rows × 5 columns</p>\n",
              "</div>\n",
              "      <button class=\"colab-df-convert\" onclick=\"convertToInteractive('df-b367fbd5-7074-42f1-9e21-368fe309302d')\"\n",
              "              title=\"Convert this dataframe to an interactive table.\"\n",
              "              style=\"display:none;\">\n",
              "        \n",
              "  <svg xmlns=\"http://www.w3.org/2000/svg\" height=\"24px\"viewBox=\"0 0 24 24\"\n",
              "       width=\"24px\">\n",
              "    <path d=\"M0 0h24v24H0V0z\" fill=\"none\"/>\n",
              "    <path d=\"M18.56 5.44l.94 2.06.94-2.06 2.06-.94-2.06-.94-.94-2.06-.94 2.06-2.06.94zm-11 1L8.5 8.5l.94-2.06 2.06-.94-2.06-.94L8.5 2.5l-.94 2.06-2.06.94zm10 10l.94 2.06.94-2.06 2.06-.94-2.06-.94-.94-2.06-.94 2.06-2.06.94z\"/><path d=\"M17.41 7.96l-1.37-1.37c-.4-.4-.92-.59-1.43-.59-.52 0-1.04.2-1.43.59L10.3 9.45l-7.72 7.72c-.78.78-.78 2.05 0 2.83L4 21.41c.39.39.9.59 1.41.59.51 0 1.02-.2 1.41-.59l7.78-7.78 2.81-2.81c.8-.78.8-2.07 0-2.86zM5.41 20L4 18.59l7.72-7.72 1.47 1.35L5.41 20z\"/>\n",
              "  </svg>\n",
              "      </button>\n",
              "      \n",
              "  <style>\n",
              "    .colab-df-container {\n",
              "      display:flex;\n",
              "      flex-wrap:wrap;\n",
              "      gap: 12px;\n",
              "    }\n",
              "\n",
              "    .colab-df-convert {\n",
              "      background-color: #E8F0FE;\n",
              "      border: none;\n",
              "      border-radius: 50%;\n",
              "      cursor: pointer;\n",
              "      display: none;\n",
              "      fill: #1967D2;\n",
              "      height: 32px;\n",
              "      padding: 0 0 0 0;\n",
              "      width: 32px;\n",
              "    }\n",
              "\n",
              "    .colab-df-convert:hover {\n",
              "      background-color: #E2EBFA;\n",
              "      box-shadow: 0px 1px 2px rgba(60, 64, 67, 0.3), 0px 1px 3px 1px rgba(60, 64, 67, 0.15);\n",
              "      fill: #174EA6;\n",
              "    }\n",
              "\n",
              "    [theme=dark] .colab-df-convert {\n",
              "      background-color: #3B4455;\n",
              "      fill: #D2E3FC;\n",
              "    }\n",
              "\n",
              "    [theme=dark] .colab-df-convert:hover {\n",
              "      background-color: #434B5C;\n",
              "      box-shadow: 0px 1px 3px 1px rgba(0, 0, 0, 0.15);\n",
              "      filter: drop-shadow(0px 1px 2px rgba(0, 0, 0, 0.3));\n",
              "      fill: #FFFFFF;\n",
              "    }\n",
              "  </style>\n",
              "\n",
              "      <script>\n",
              "        const buttonEl =\n",
              "          document.querySelector('#df-b367fbd5-7074-42f1-9e21-368fe309302d button.colab-df-convert');\n",
              "        buttonEl.style.display =\n",
              "          google.colab.kernel.accessAllowed ? 'block' : 'none';\n",
              "\n",
              "        async function convertToInteractive(key) {\n",
              "          const element = document.querySelector('#df-b367fbd5-7074-42f1-9e21-368fe309302d');\n",
              "          const dataTable =\n",
              "            await google.colab.kernel.invokeFunction('convertToInteractive',\n",
              "                                                     [key], {});\n",
              "          if (!dataTable) return;\n",
              "\n",
              "          const docLinkHtml = 'Like what you see? Visit the ' +\n",
              "            '<a target=\"_blank\" href=https://colab.research.google.com/notebooks/data_table.ipynb>data table notebook</a>'\n",
              "            + ' to learn more about interactive tables.';\n",
              "          element.innerHTML = '';\n",
              "          dataTable['output_type'] = 'display_data';\n",
              "          await google.colab.output.renderOutput(dataTable, element);\n",
              "          const docLink = document.createElement('div');\n",
              "          docLink.innerHTML = docLinkHtml;\n",
              "          element.appendChild(docLink);\n",
              "        }\n",
              "      </script>\n",
              "    </div>\n",
              "  </div>\n",
              "  "
            ]
          },
          "metadata": {},
          "execution_count": 5
        }
      ],
      "source": [
        "df_fake = pd.read_csv(files_list[0])\n",
        "df_true = pd.read_csv(files_list[1])\n",
        "df_fake['fake'] = 1\n",
        "df_true['fake'] = 0\n",
        "\n",
        "df1=pd.concat([df_fake, df_true], axis=0, ignore_index=False)\n",
        "print(f'DataFrame of {files_list[0]} and {files_list[1]} file')\n",
        "df1"
      ]
    },
    {
      "cell_type": "markdown",
      "source": [
        "**ATTENTION !\n",
        "Due to memory use datasets are sampled to 5000 records each."
      ],
      "metadata": {
        "id": "FE1wEoptl2f7"
      }
    },
    {
      "cell_type": "code",
      "execution_count": null,
      "metadata": {
        "colab": {
          "base_uri": "https://localhost:8080/",
          "height": 424
        },
        "outputId": "c81e0203-c86c-4d4b-eba2-84fb8f65ea85",
        "id": "lPrqLqf9l2f8"
      },
      "outputs": [
        {
          "output_type": "execute_result",
          "data": {
            "text/plain": [
              "                                                   title  fake\n",
              "17176  Son of Thailand's ex-PM Thaksin charged with m...     0\n",
              "17011  OBAMA Defends Black Lives Matter But Does He R...     1\n",
              "7264   Georgia congressman being eyed for top Trump h...     0\n",
              "10942  Struggling Republican Bush brings out the big ...     0\n",
              "1720   Ex-Trump aide Manafort's spokesman testifies t...     0\n",
              "...                                                  ...   ...\n",
              "11597  BREAKING #CNNLeak…James O’Keefe’s New Undercov...     1\n",
              "20130  OOPS! New App Allows Users To Remain ANONYMOUS...     1\n",
              "20854  Hurricane Irma to move over portions of Virgin...     0\n",
              "17815  China's Xi looks set to keep right-hand man on...     0\n",
              "234    U.S. lawyer defending travel ban grilled in co...     0\n",
              "\n",
              "[2500 rows x 2 columns]"
            ],
            "text/html": [
              "\n",
              "  <div id=\"df-f667c78f-a1ad-4152-bb7a-1f404c5a82d6\">\n",
              "    <div class=\"colab-df-container\">\n",
              "      <div>\n",
              "<style scoped>\n",
              "    .dataframe tbody tr th:only-of-type {\n",
              "        vertical-align: middle;\n",
              "    }\n",
              "\n",
              "    .dataframe tbody tr th {\n",
              "        vertical-align: top;\n",
              "    }\n",
              "\n",
              "    .dataframe thead th {\n",
              "        text-align: right;\n",
              "    }\n",
              "</style>\n",
              "<table border=\"1\" class=\"dataframe\">\n",
              "  <thead>\n",
              "    <tr style=\"text-align: right;\">\n",
              "      <th></th>\n",
              "      <th>title</th>\n",
              "      <th>fake</th>\n",
              "    </tr>\n",
              "  </thead>\n",
              "  <tbody>\n",
              "    <tr>\n",
              "      <th>17176</th>\n",
              "      <td>Son of Thailand's ex-PM Thaksin charged with m...</td>\n",
              "      <td>0</td>\n",
              "    </tr>\n",
              "    <tr>\n",
              "      <th>17011</th>\n",
              "      <td>OBAMA Defends Black Lives Matter But Does He R...</td>\n",
              "      <td>1</td>\n",
              "    </tr>\n",
              "    <tr>\n",
              "      <th>7264</th>\n",
              "      <td>Georgia congressman being eyed for top Trump h...</td>\n",
              "      <td>0</td>\n",
              "    </tr>\n",
              "    <tr>\n",
              "      <th>10942</th>\n",
              "      <td>Struggling Republican Bush brings out the big ...</td>\n",
              "      <td>0</td>\n",
              "    </tr>\n",
              "    <tr>\n",
              "      <th>1720</th>\n",
              "      <td>Ex-Trump aide Manafort's spokesman testifies t...</td>\n",
              "      <td>0</td>\n",
              "    </tr>\n",
              "    <tr>\n",
              "      <th>...</th>\n",
              "      <td>...</td>\n",
              "      <td>...</td>\n",
              "    </tr>\n",
              "    <tr>\n",
              "      <th>11597</th>\n",
              "      <td>BREAKING #CNNLeak…James O’Keefe’s New Undercov...</td>\n",
              "      <td>1</td>\n",
              "    </tr>\n",
              "    <tr>\n",
              "      <th>20130</th>\n",
              "      <td>OOPS! New App Allows Users To Remain ANONYMOUS...</td>\n",
              "      <td>1</td>\n",
              "    </tr>\n",
              "    <tr>\n",
              "      <th>20854</th>\n",
              "      <td>Hurricane Irma to move over portions of Virgin...</td>\n",
              "      <td>0</td>\n",
              "    </tr>\n",
              "    <tr>\n",
              "      <th>17815</th>\n",
              "      <td>China's Xi looks set to keep right-hand man on...</td>\n",
              "      <td>0</td>\n",
              "    </tr>\n",
              "    <tr>\n",
              "      <th>234</th>\n",
              "      <td>U.S. lawyer defending travel ban grilled in co...</td>\n",
              "      <td>0</td>\n",
              "    </tr>\n",
              "  </tbody>\n",
              "</table>\n",
              "<p>2500 rows × 2 columns</p>\n",
              "</div>\n",
              "      <button class=\"colab-df-convert\" onclick=\"convertToInteractive('df-f667c78f-a1ad-4152-bb7a-1f404c5a82d6')\"\n",
              "              title=\"Convert this dataframe to an interactive table.\"\n",
              "              style=\"display:none;\">\n",
              "        \n",
              "  <svg xmlns=\"http://www.w3.org/2000/svg\" height=\"24px\"viewBox=\"0 0 24 24\"\n",
              "       width=\"24px\">\n",
              "    <path d=\"M0 0h24v24H0V0z\" fill=\"none\"/>\n",
              "    <path d=\"M18.56 5.44l.94 2.06.94-2.06 2.06-.94-2.06-.94-.94-2.06-.94 2.06-2.06.94zm-11 1L8.5 8.5l.94-2.06 2.06-.94-2.06-.94L8.5 2.5l-.94 2.06-2.06.94zm10 10l.94 2.06.94-2.06 2.06-.94-2.06-.94-.94-2.06-.94 2.06-2.06.94z\"/><path d=\"M17.41 7.96l-1.37-1.37c-.4-.4-.92-.59-1.43-.59-.52 0-1.04.2-1.43.59L10.3 9.45l-7.72 7.72c-.78.78-.78 2.05 0 2.83L4 21.41c.39.39.9.59 1.41.59.51 0 1.02-.2 1.41-.59l7.78-7.78 2.81-2.81c.8-.78.8-2.07 0-2.86zM5.41 20L4 18.59l7.72-7.72 1.47 1.35L5.41 20z\"/>\n",
              "  </svg>\n",
              "      </button>\n",
              "      \n",
              "  <style>\n",
              "    .colab-df-container {\n",
              "      display:flex;\n",
              "      flex-wrap:wrap;\n",
              "      gap: 12px;\n",
              "    }\n",
              "\n",
              "    .colab-df-convert {\n",
              "      background-color: #E8F0FE;\n",
              "      border: none;\n",
              "      border-radius: 50%;\n",
              "      cursor: pointer;\n",
              "      display: none;\n",
              "      fill: #1967D2;\n",
              "      height: 32px;\n",
              "      padding: 0 0 0 0;\n",
              "      width: 32px;\n",
              "    }\n",
              "\n",
              "    .colab-df-convert:hover {\n",
              "      background-color: #E2EBFA;\n",
              "      box-shadow: 0px 1px 2px rgba(60, 64, 67, 0.3), 0px 1px 3px 1px rgba(60, 64, 67, 0.15);\n",
              "      fill: #174EA6;\n",
              "    }\n",
              "\n",
              "    [theme=dark] .colab-df-convert {\n",
              "      background-color: #3B4455;\n",
              "      fill: #D2E3FC;\n",
              "    }\n",
              "\n",
              "    [theme=dark] .colab-df-convert:hover {\n",
              "      background-color: #434B5C;\n",
              "      box-shadow: 0px 1px 3px 1px rgba(0, 0, 0, 0.15);\n",
              "      filter: drop-shadow(0px 1px 2px rgba(0, 0, 0, 0.3));\n",
              "      fill: #FFFFFF;\n",
              "    }\n",
              "  </style>\n",
              "\n",
              "      <script>\n",
              "        const buttonEl =\n",
              "          document.querySelector('#df-f667c78f-a1ad-4152-bb7a-1f404c5a82d6 button.colab-df-convert');\n",
              "        buttonEl.style.display =\n",
              "          google.colab.kernel.accessAllowed ? 'block' : 'none';\n",
              "\n",
              "        async function convertToInteractive(key) {\n",
              "          const element = document.querySelector('#df-f667c78f-a1ad-4152-bb7a-1f404c5a82d6');\n",
              "          const dataTable =\n",
              "            await google.colab.kernel.invokeFunction('convertToInteractive',\n",
              "                                                     [key], {});\n",
              "          if (!dataTable) return;\n",
              "\n",
              "          const docLinkHtml = 'Like what you see? Visit the ' +\n",
              "            '<a target=\"_blank\" href=https://colab.research.google.com/notebooks/data_table.ipynb>data table notebook</a>'\n",
              "            + ' to learn more about interactive tables.';\n",
              "          element.innerHTML = '';\n",
              "          dataTable['output_type'] = 'display_data';\n",
              "          await google.colab.output.renderOutput(dataTable, element);\n",
              "          const docLink = document.createElement('div');\n",
              "          docLink.innerHTML = docLinkHtml;\n",
              "          element.appendChild(docLink);\n",
              "        }\n",
              "      </script>\n",
              "    </div>\n",
              "  </div>\n",
              "  "
            ]
          },
          "metadata": {},
          "execution_count": 6
        }
      ],
      "source": [
        "df1 = df1.drop(['subject', 'date','text'], axis=1)\n",
        "df1 = df1.sample(2500)\n",
        "df1"
      ]
    },
    {
      "cell_type": "code",
      "execution_count": null,
      "metadata": {
        "colab": {
          "base_uri": "https://localhost:8080/",
          "height": 424
        },
        "outputId": "219e48d0-7212-4b7a-ac79-0c0a2aae0d6b",
        "id": "NMH7h0Qhl2f8"
      },
      "outputs": [
        {
          "output_type": "execute_result",
          "data": {
            "text/plain": [
              "                                                   title  fake\n",
              "6060   Vanessa Hudgens joining 'So You Think You Can ...     1\n",
              "8178                             June Thompson Net Worth     1\n",
              "546    Ellen DeGeneres Bio, Age, Married, Husband, Da...     0\n",
              "4773   Chris Stapleton announces he and wife are expe...     1\n",
              "18149  Celeb Glam Squads Reveal Tips From the Vanity ...     1\n",
              "...                                                  ...   ...\n",
              "962    Camila Cabello Is the New Face of Guess: Plus,...     1\n",
              "2367   Serena Williams, Alexis Ohanian 'Waiting' to L...     1\n",
              "17600  Tyler Perry’s House Of Payne Is Coming Back to...     1\n",
              "22432  Savannah Chrisley Splits from Boyfriend Luke K...     1\n",
              "16621  John Stamos Recalls Full House Baby Bump and C...     1\n",
              "\n",
              "[5000 rows x 2 columns]"
            ],
            "text/html": [
              "\n",
              "  <div id=\"df-86135eca-85f0-4964-a49c-28a0f7107a9e\">\n",
              "    <div class=\"colab-df-container\">\n",
              "      <div>\n",
              "<style scoped>\n",
              "    .dataframe tbody tr th:only-of-type {\n",
              "        vertical-align: middle;\n",
              "    }\n",
              "\n",
              "    .dataframe tbody tr th {\n",
              "        vertical-align: top;\n",
              "    }\n",
              "\n",
              "    .dataframe thead th {\n",
              "        text-align: right;\n",
              "    }\n",
              "</style>\n",
              "<table border=\"1\" class=\"dataframe\">\n",
              "  <thead>\n",
              "    <tr style=\"text-align: right;\">\n",
              "      <th></th>\n",
              "      <th>title</th>\n",
              "      <th>fake</th>\n",
              "    </tr>\n",
              "  </thead>\n",
              "  <tbody>\n",
              "    <tr>\n",
              "      <th>6060</th>\n",
              "      <td>Vanessa Hudgens joining 'So You Think You Can ...</td>\n",
              "      <td>1</td>\n",
              "    </tr>\n",
              "    <tr>\n",
              "      <th>8178</th>\n",
              "      <td>June Thompson Net Worth</td>\n",
              "      <td>1</td>\n",
              "    </tr>\n",
              "    <tr>\n",
              "      <th>546</th>\n",
              "      <td>Ellen DeGeneres Bio, Age, Married, Husband, Da...</td>\n",
              "      <td>0</td>\n",
              "    </tr>\n",
              "    <tr>\n",
              "      <th>4773</th>\n",
              "      <td>Chris Stapleton announces he and wife are expe...</td>\n",
              "      <td>1</td>\n",
              "    </tr>\n",
              "    <tr>\n",
              "      <th>18149</th>\n",
              "      <td>Celeb Glam Squads Reveal Tips From the Vanity ...</td>\n",
              "      <td>1</td>\n",
              "    </tr>\n",
              "    <tr>\n",
              "      <th>...</th>\n",
              "      <td>...</td>\n",
              "      <td>...</td>\n",
              "    </tr>\n",
              "    <tr>\n",
              "      <th>962</th>\n",
              "      <td>Camila Cabello Is the New Face of Guess: Plus,...</td>\n",
              "      <td>1</td>\n",
              "    </tr>\n",
              "    <tr>\n",
              "      <th>2367</th>\n",
              "      <td>Serena Williams, Alexis Ohanian 'Waiting' to L...</td>\n",
              "      <td>1</td>\n",
              "    </tr>\n",
              "    <tr>\n",
              "      <th>17600</th>\n",
              "      <td>Tyler Perry’s House Of Payne Is Coming Back to...</td>\n",
              "      <td>1</td>\n",
              "    </tr>\n",
              "    <tr>\n",
              "      <th>22432</th>\n",
              "      <td>Savannah Chrisley Splits from Boyfriend Luke K...</td>\n",
              "      <td>1</td>\n",
              "    </tr>\n",
              "    <tr>\n",
              "      <th>16621</th>\n",
              "      <td>John Stamos Recalls Full House Baby Bump and C...</td>\n",
              "      <td>1</td>\n",
              "    </tr>\n",
              "  </tbody>\n",
              "</table>\n",
              "<p>5000 rows × 2 columns</p>\n",
              "</div>\n",
              "      <button class=\"colab-df-convert\" onclick=\"convertToInteractive('df-86135eca-85f0-4964-a49c-28a0f7107a9e')\"\n",
              "              title=\"Convert this dataframe to an interactive table.\"\n",
              "              style=\"display:none;\">\n",
              "        \n",
              "  <svg xmlns=\"http://www.w3.org/2000/svg\" height=\"24px\"viewBox=\"0 0 24 24\"\n",
              "       width=\"24px\">\n",
              "    <path d=\"M0 0h24v24H0V0z\" fill=\"none\"/>\n",
              "    <path d=\"M18.56 5.44l.94 2.06.94-2.06 2.06-.94-2.06-.94-.94-2.06-.94 2.06-2.06.94zm-11 1L8.5 8.5l.94-2.06 2.06-.94-2.06-.94L8.5 2.5l-.94 2.06-2.06.94zm10 10l.94 2.06.94-2.06 2.06-.94-2.06-.94-.94-2.06-.94 2.06-2.06.94z\"/><path d=\"M17.41 7.96l-1.37-1.37c-.4-.4-.92-.59-1.43-.59-.52 0-1.04.2-1.43.59L10.3 9.45l-7.72 7.72c-.78.78-.78 2.05 0 2.83L4 21.41c.39.39.9.59 1.41.59.51 0 1.02-.2 1.41-.59l7.78-7.78 2.81-2.81c.8-.78.8-2.07 0-2.86zM5.41 20L4 18.59l7.72-7.72 1.47 1.35L5.41 20z\"/>\n",
              "  </svg>\n",
              "      </button>\n",
              "      \n",
              "  <style>\n",
              "    .colab-df-container {\n",
              "      display:flex;\n",
              "      flex-wrap:wrap;\n",
              "      gap: 12px;\n",
              "    }\n",
              "\n",
              "    .colab-df-convert {\n",
              "      background-color: #E8F0FE;\n",
              "      border: none;\n",
              "      border-radius: 50%;\n",
              "      cursor: pointer;\n",
              "      display: none;\n",
              "      fill: #1967D2;\n",
              "      height: 32px;\n",
              "      padding: 0 0 0 0;\n",
              "      width: 32px;\n",
              "    }\n",
              "\n",
              "    .colab-df-convert:hover {\n",
              "      background-color: #E2EBFA;\n",
              "      box-shadow: 0px 1px 2px rgba(60, 64, 67, 0.3), 0px 1px 3px 1px rgba(60, 64, 67, 0.15);\n",
              "      fill: #174EA6;\n",
              "    }\n",
              "\n",
              "    [theme=dark] .colab-df-convert {\n",
              "      background-color: #3B4455;\n",
              "      fill: #D2E3FC;\n",
              "    }\n",
              "\n",
              "    [theme=dark] .colab-df-convert:hover {\n",
              "      background-color: #434B5C;\n",
              "      box-shadow: 0px 1px 3px 1px rgba(0, 0, 0, 0.15);\n",
              "      filter: drop-shadow(0px 1px 2px rgba(0, 0, 0, 0.3));\n",
              "      fill: #FFFFFF;\n",
              "    }\n",
              "  </style>\n",
              "\n",
              "      <script>\n",
              "        const buttonEl =\n",
              "          document.querySelector('#df-86135eca-85f0-4964-a49c-28a0f7107a9e button.colab-df-convert');\n",
              "        buttonEl.style.display =\n",
              "          google.colab.kernel.accessAllowed ? 'block' : 'none';\n",
              "\n",
              "        async function convertToInteractive(key) {\n",
              "          const element = document.querySelector('#df-86135eca-85f0-4964-a49c-28a0f7107a9e');\n",
              "          const dataTable =\n",
              "            await google.colab.kernel.invokeFunction('convertToInteractive',\n",
              "                                                     [key], {});\n",
              "          if (!dataTable) return;\n",
              "\n",
              "          const docLinkHtml = 'Like what you see? Visit the ' +\n",
              "            '<a target=\"_blank\" href=https://colab.research.google.com/notebooks/data_table.ipynb>data table notebook</a>'\n",
              "            + ' to learn more about interactive tables.';\n",
              "          element.innerHTML = '';\n",
              "          dataTable['output_type'] = 'display_data';\n",
              "          await google.colab.output.renderOutput(dataTable, element);\n",
              "          const docLink = document.createElement('div');\n",
              "          docLink.innerHTML = docLinkHtml;\n",
              "          element.appendChild(docLink);\n",
              "        }\n",
              "      </script>\n",
              "    </div>\n",
              "  </div>\n",
              "  "
            ]
          },
          "metadata": {},
          "execution_count": 7
        }
      ],
      "source": [
        "df2=pd.read_csv(files_list[2])\n",
        "df2.rename(columns = {'real':'fake'}, inplace = True)\n",
        "df2 = df2.drop(['news_url', 'source_domain','tweet_num'], axis=1)\n",
        "df2 = df2.sample(5000)\n",
        "df2"
      ]
    },
    {
      "cell_type": "code",
      "execution_count": null,
      "metadata": {
        "colab": {
          "base_uri": "https://localhost:8080/",
          "height": 424
        },
        "outputId": "ea1c35f1-dcc7-4000-c944-f80cb26fa034",
        "id": "q8TGAXMql2f8"
      },
      "outputs": [
        {
          "output_type": "execute_result",
          "data": {
            "text/plain": [
              "                                                   title  fake\n",
              "13643  Hollywood Holiday Habits: Big Games, Small Gif...     0\n",
              "51512  Taiwan says shut out of U.N. climate talks due...     0\n",
              "16602   Trump Whines Like A Baby In Defense Of Russia...     1\n",
              "63468     Chile's Guillier concedes presidency to Pinera     0\n",
              "48613  Hillary Clinton Wants a Strong Russia. Wait, w...     1\n",
              "...                                                  ...   ...\n",
              "8329   U.N. urges calm as deadline nears for asylum s...     0\n",
              "21995  Protest against Bahraini king's visit to Downi...     1\n",
              "41730  Ex-Miss Finland Just Accused Trump Of Sexual A...     1\n",
              "67572  Why the latest Patriot Act reform won’t be eno...     0\n",
              "66389  Even before Super Tuesday, Clinton is thinking...     0\n",
              "\n",
              "[2500 rows x 2 columns]"
            ],
            "text/html": [
              "\n",
              "  <div id=\"df-56ed711c-bf71-4bfc-a6bd-444cca62fcba\">\n",
              "    <div class=\"colab-df-container\">\n",
              "      <div>\n",
              "<style scoped>\n",
              "    .dataframe tbody tr th:only-of-type {\n",
              "        vertical-align: middle;\n",
              "    }\n",
              "\n",
              "    .dataframe tbody tr th {\n",
              "        vertical-align: top;\n",
              "    }\n",
              "\n",
              "    .dataframe thead th {\n",
              "        text-align: right;\n",
              "    }\n",
              "</style>\n",
              "<table border=\"1\" class=\"dataframe\">\n",
              "  <thead>\n",
              "    <tr style=\"text-align: right;\">\n",
              "      <th></th>\n",
              "      <th>title</th>\n",
              "      <th>fake</th>\n",
              "    </tr>\n",
              "  </thead>\n",
              "  <tbody>\n",
              "    <tr>\n",
              "      <th>13643</th>\n",
              "      <td>Hollywood Holiday Habits: Big Games, Small Gif...</td>\n",
              "      <td>0</td>\n",
              "    </tr>\n",
              "    <tr>\n",
              "      <th>51512</th>\n",
              "      <td>Taiwan says shut out of U.N. climate talks due...</td>\n",
              "      <td>0</td>\n",
              "    </tr>\n",
              "    <tr>\n",
              "      <th>16602</th>\n",
              "      <td>Trump Whines Like A Baby In Defense Of Russia...</td>\n",
              "      <td>1</td>\n",
              "    </tr>\n",
              "    <tr>\n",
              "      <th>63468</th>\n",
              "      <td>Chile's Guillier concedes presidency to Pinera</td>\n",
              "      <td>0</td>\n",
              "    </tr>\n",
              "    <tr>\n",
              "      <th>48613</th>\n",
              "      <td>Hillary Clinton Wants a Strong Russia. Wait, w...</td>\n",
              "      <td>1</td>\n",
              "    </tr>\n",
              "    <tr>\n",
              "      <th>...</th>\n",
              "      <td>...</td>\n",
              "      <td>...</td>\n",
              "    </tr>\n",
              "    <tr>\n",
              "      <th>8329</th>\n",
              "      <td>U.N. urges calm as deadline nears for asylum s...</td>\n",
              "      <td>0</td>\n",
              "    </tr>\n",
              "    <tr>\n",
              "      <th>21995</th>\n",
              "      <td>Protest against Bahraini king's visit to Downi...</td>\n",
              "      <td>1</td>\n",
              "    </tr>\n",
              "    <tr>\n",
              "      <th>41730</th>\n",
              "      <td>Ex-Miss Finland Just Accused Trump Of Sexual A...</td>\n",
              "      <td>1</td>\n",
              "    </tr>\n",
              "    <tr>\n",
              "      <th>67572</th>\n",
              "      <td>Why the latest Patriot Act reform won’t be eno...</td>\n",
              "      <td>0</td>\n",
              "    </tr>\n",
              "    <tr>\n",
              "      <th>66389</th>\n",
              "      <td>Even before Super Tuesday, Clinton is thinking...</td>\n",
              "      <td>0</td>\n",
              "    </tr>\n",
              "  </tbody>\n",
              "</table>\n",
              "<p>2500 rows × 2 columns</p>\n",
              "</div>\n",
              "      <button class=\"colab-df-convert\" onclick=\"convertToInteractive('df-56ed711c-bf71-4bfc-a6bd-444cca62fcba')\"\n",
              "              title=\"Convert this dataframe to an interactive table.\"\n",
              "              style=\"display:none;\">\n",
              "        \n",
              "  <svg xmlns=\"http://www.w3.org/2000/svg\" height=\"24px\"viewBox=\"0 0 24 24\"\n",
              "       width=\"24px\">\n",
              "    <path d=\"M0 0h24v24H0V0z\" fill=\"none\"/>\n",
              "    <path d=\"M18.56 5.44l.94 2.06.94-2.06 2.06-.94-2.06-.94-.94-2.06-.94 2.06-2.06.94zm-11 1L8.5 8.5l.94-2.06 2.06-.94-2.06-.94L8.5 2.5l-.94 2.06-2.06.94zm10 10l.94 2.06.94-2.06 2.06-.94-2.06-.94-.94-2.06-.94 2.06-2.06.94z\"/><path d=\"M17.41 7.96l-1.37-1.37c-.4-.4-.92-.59-1.43-.59-.52 0-1.04.2-1.43.59L10.3 9.45l-7.72 7.72c-.78.78-.78 2.05 0 2.83L4 21.41c.39.39.9.59 1.41.59.51 0 1.02-.2 1.41-.59l7.78-7.78 2.81-2.81c.8-.78.8-2.07 0-2.86zM5.41 20L4 18.59l7.72-7.72 1.47 1.35L5.41 20z\"/>\n",
              "  </svg>\n",
              "      </button>\n",
              "      \n",
              "  <style>\n",
              "    .colab-df-container {\n",
              "      display:flex;\n",
              "      flex-wrap:wrap;\n",
              "      gap: 12px;\n",
              "    }\n",
              "\n",
              "    .colab-df-convert {\n",
              "      background-color: #E8F0FE;\n",
              "      border: none;\n",
              "      border-radius: 50%;\n",
              "      cursor: pointer;\n",
              "      display: none;\n",
              "      fill: #1967D2;\n",
              "      height: 32px;\n",
              "      padding: 0 0 0 0;\n",
              "      width: 32px;\n",
              "    }\n",
              "\n",
              "    .colab-df-convert:hover {\n",
              "      background-color: #E2EBFA;\n",
              "      box-shadow: 0px 1px 2px rgba(60, 64, 67, 0.3), 0px 1px 3px 1px rgba(60, 64, 67, 0.15);\n",
              "      fill: #174EA6;\n",
              "    }\n",
              "\n",
              "    [theme=dark] .colab-df-convert {\n",
              "      background-color: #3B4455;\n",
              "      fill: #D2E3FC;\n",
              "    }\n",
              "\n",
              "    [theme=dark] .colab-df-convert:hover {\n",
              "      background-color: #434B5C;\n",
              "      box-shadow: 0px 1px 3px 1px rgba(0, 0, 0, 0.15);\n",
              "      filter: drop-shadow(0px 1px 2px rgba(0, 0, 0, 0.3));\n",
              "      fill: #FFFFFF;\n",
              "    }\n",
              "  </style>\n",
              "\n",
              "      <script>\n",
              "        const buttonEl =\n",
              "          document.querySelector('#df-56ed711c-bf71-4bfc-a6bd-444cca62fcba button.colab-df-convert');\n",
              "        buttonEl.style.display =\n",
              "          google.colab.kernel.accessAllowed ? 'block' : 'none';\n",
              "\n",
              "        async function convertToInteractive(key) {\n",
              "          const element = document.querySelector('#df-56ed711c-bf71-4bfc-a6bd-444cca62fcba');\n",
              "          const dataTable =\n",
              "            await google.colab.kernel.invokeFunction('convertToInteractive',\n",
              "                                                     [key], {});\n",
              "          if (!dataTable) return;\n",
              "\n",
              "          const docLinkHtml = 'Like what you see? Visit the ' +\n",
              "            '<a target=\"_blank\" href=https://colab.research.google.com/notebooks/data_table.ipynb>data table notebook</a>'\n",
              "            + ' to learn more about interactive tables.';\n",
              "          element.innerHTML = '';\n",
              "          dataTable['output_type'] = 'display_data';\n",
              "          await google.colab.output.renderOutput(dataTable, element);\n",
              "          const docLink = document.createElement('div');\n",
              "          docLink.innerHTML = docLinkHtml;\n",
              "          element.appendChild(docLink);\n",
              "        }\n",
              "      </script>\n",
              "    </div>\n",
              "  </div>\n",
              "  "
            ]
          },
          "metadata": {},
          "execution_count": 8
        }
      ],
      "source": [
        "df3 = pd.read_csv(files_list[3])\n",
        "df3.rename(columns = {'label':'fake'}, inplace = True)\n",
        "df3 = df3.drop(['Unnamed: 0','text'], axis=1)\n",
        "df3 = df3.sample(2500)\n",
        "df3"
      ]
    },
    {
      "cell_type": "markdown",
      "metadata": {
        "id": "iAH7KSgul2f8"
      },
      "source": [
        "All 3 in 1 list"
      ]
    },
    {
      "cell_type": "code",
      "execution_count": null,
      "metadata": {
        "id": "8mfzO-yZl2f8"
      },
      "outputs": [],
      "source": [
        "df_list = []\n",
        "df_list.append(df1)\n",
        "df_list.append(df2)\n",
        "df_list.append(df3)"
      ]
    },
    {
      "cell_type": "markdown",
      "metadata": {
        "id": "Bg2WAKKgl2f8"
      },
      "source": [
        "## Data analysis\n",
        "Analyze the data and perform exploratory data analysis.\n",
        "\n",
        "1. Check if the dataset is balanced - if not think about methods to acquire balance.\n",
        "2. Use pandas-profiler\n"
      ]
    },
    {
      "cell_type": "code",
      "execution_count": null,
      "metadata": {
        "colab": {
          "base_uri": "https://localhost:8080/"
        },
        "outputId": "1ec39c0d-69cd-4832-e3eb-dc1ea1558289",
        "id": "3vPvmWTel2f8"
      },
      "outputs": [
        {
          "output_type": "stream",
          "name": "stdout",
          "text": [
            "Target value counts for df1:\n",
            "1    1332\n",
            "0    1168\n",
            "Name: fake, dtype: int64\n",
            "SUM:2500\n",
            "\n",
            "Target value counts for df2:\n",
            "1    3781\n",
            "0    1219\n",
            "Name: fake, dtype: int64\n",
            "SUM:5000\n",
            "\n",
            "Target value counts for df3:\n",
            "1    1296\n",
            "0    1204\n",
            "Name: fake, dtype: int64\n",
            "SUM:2500\n",
            "\n"
          ]
        }
      ],
      "source": [
        "target='fake'\n",
        "for number, elem in zip(range(1,4), df_list):\n",
        "  print(f'Target value counts for df{number}:\\n{elem[target].value_counts()}\\nSUM:{len(elem)}\\n')"
      ]
    },
    {
      "cell_type": "code",
      "execution_count": null,
      "metadata": {
        "colab": {
          "base_uri": "https://localhost:8080/"
        },
        "outputId": "0c7cbf82-0341-4575-eab2-e4c3f8484ce2",
        "id": "tlddzg7jl2f9"
      },
      "outputs": [
        {
          "output_type": "stream",
          "name": "stdout",
          "text": [
            "Duplicates for df1:\n",
            "24\n",
            "\n",
            "Duplicates for df2:\n",
            "91\n",
            "\n",
            "Duplicates for df3:\n",
            "25\n",
            "\n"
          ]
        }
      ],
      "source": [
        "# check duplicates in dataset\n",
        "for number, elem in zip(range(1,4), df_list):\n",
        "  print(f'Duplicates for df{number}:\\n{elem.duplicated(keep=\"last\").sum()}\\n')"
      ]
    },
    {
      "cell_type": "code",
      "execution_count": null,
      "metadata": {
        "colab": {
          "base_uri": "https://localhost:8080/"
        },
        "outputId": "ec4eef87-af84-437b-8c5a-de1ce599bb7e",
        "id": "Lhw9cQLyl2f9"
      },
      "outputs": [
        {
          "output_type": "stream",
          "name": "stdout",
          "text": [
            "Target value counts for df1:\n",
            "1    1309\n",
            "0    1167\n",
            "Name: fake, dtype: int64\n",
            "SUM:2476\n",
            "\n",
            "Target value counts for df2:\n",
            "1    3716\n",
            "0    1193\n",
            "Name: fake, dtype: int64\n",
            "SUM:4909\n",
            "\n",
            "Target value counts for df3:\n",
            "1    1271\n",
            "0    1204\n",
            "Name: fake, dtype: int64\n",
            "SUM:2475\n",
            "\n"
          ]
        }
      ],
      "source": [
        "# drop duplicates in dataframes\n",
        "for number, elem in zip(range(1,4), df_list):\n",
        "  elem.drop_duplicates(keep=\"last\", inplace=True)\n",
        "  print(f'Target value counts for df{number}:\\n{elem[target].value_counts()}\\nSUM:{len(elem)}\\n')"
      ]
    },
    {
      "cell_type": "code",
      "execution_count": null,
      "metadata": {
        "colab": {
          "base_uri": "https://localhost:8080/"
        },
        "outputId": "e47b4697-4ddc-4a49-8193-de48f4164ecd",
        "id": "tfJ4JeRil2f9"
      },
      "outputs": [
        {
          "output_type": "stream",
          "name": "stdout",
          "text": [
            "Target imbalance for df1:\n",
            "12.17 %\n",
            "\n",
            "Target imbalance for df2:\n",
            "211.48 %\n",
            "\n",
            "Target imbalance for df3:\n",
            "5.56 %\n",
            "\n"
          ]
        }
      ],
      "source": [
        "# imbalance check in %\n",
        "for number, elem in zip(range(1,4), df_list):\n",
        "  print(f'Target imbalance for df{number}:\\n{(elem[target].value_counts()[1]*100/elem[target].value_counts()[0]-100).round(2)} %\\n')"
      ]
    },
    {
      "cell_type": "markdown",
      "source": [
        "**Pandas profiling**\n",
        "\n",
        "Due to quite big of datasets minimal=True.\n",
        "\n",
        "\n",
        "Other solution is to take sample 10000 into account."
      ],
      "metadata": {
        "id": "1NUfCpX5l2f9"
      }
    },
    {
      "cell_type": "code",
      "execution_count": null,
      "metadata": {
        "id": "G3NR9HTFl2f9"
      },
      "outputs": [],
      "source": [
        "# description = \"Disclaimer: this profiling report was generated using minimal mode\"\n",
        "\n",
        "# for number, elem in zip(range(1,4), df_list):\n",
        "#   prof = elem.profile_report(dataset={\"description\": description}, minimal=True)\n",
        "#   prof.to_notebook_iframe()\n",
        "#   prof.to_file(output_file=f'ProfileReport{number}.html')"
      ]
    },
    {
      "cell_type": "markdown",
      "metadata": {
        "id": "gdVlQKIJl2f-"
      },
      "source": [
        "### Summary\n",
        "- All 3 datasets are unbalanced\n",
        "\n",
        "For further investigation:\n",
        "- Oversample minority class\n",
        "\n",
        "or\n",
        "\n",
        "- Undersample majority class"
      ]
    },
    {
      "cell_type": "markdown",
      "metadata": {
        "id": "KZ9OnPW8l2f-"
      },
      "source": [
        "## Data preprocessing\n",
        "Use preprocessing methods.\n",
        "\n",
        "1. Think how to handle nulls and nan values\n",
        "\n",
        "2. Propose other techniques to data preprocessing"
      ]
    },
    {
      "cell_type": "code",
      "execution_count": null,
      "metadata": {
        "colab": {
          "base_uri": "https://localhost:8080/"
        },
        "outputId": "ab0febc0-4c77-4203-b6fc-bd6d44276c4e",
        "id": "z65MSsMol2f-"
      },
      "outputs": [
        {
          "output_type": "stream",
          "name": "stdout",
          "text": [
            "Missing values in df1:\n",
            "title    0\n",
            "fake     0\n",
            "dtype: int64 %\n",
            "\n",
            "Missing values in df2:\n",
            "title    0\n",
            "fake     0\n",
            "dtype: int64 %\n",
            "\n",
            "Missing values in df3:\n",
            "title    1\n",
            "fake     0\n",
            "dtype: int64 %\n",
            "\n"
          ]
        }
      ],
      "source": [
        "# check for nan values\n",
        "for number, elem in zip(range(1,4), df_list):\n",
        "  print(f'Missing values in df{number}:\\n{elem.isna().sum()} %\\n')"
      ]
    },
    {
      "cell_type": "code",
      "execution_count": null,
      "metadata": {
        "colab": {
          "base_uri": "https://localhost:8080/"
        },
        "outputId": "cb4e3d59-425d-40d8-ecd6-e1627d2404fc",
        "id": "woLJzDIHl2f-"
      },
      "outputs": [
        {
          "output_type": "stream",
          "name": "stdout",
          "text": [
            "Target value counts for df1:\n",
            "1    1309\n",
            "0    1167\n",
            "Name: fake, dtype: int64\n",
            "SUM:2476\n",
            "\n",
            "Target value counts for df2:\n",
            "1    3716\n",
            "0    1193\n",
            "Name: fake, dtype: int64\n",
            "SUM:4909\n",
            "\n",
            "Target value counts for df3:\n",
            "1    1270\n",
            "0    1204\n",
            "Name: fake, dtype: int64\n",
            "SUM:2474\n",
            "\n"
          ]
        }
      ],
      "source": [
        "# drop nan values\n",
        "for number, elem in zip(range(1,4), df_list):\n",
        "  elem.dropna(inplace=True)\n",
        "  print(f'Target value counts for df{number}:\\n{elem[target].value_counts()}\\nSUM:{len(elem)}\\n')"
      ]
    },
    {
      "cell_type": "markdown",
      "source": [
        "### Undersampling (majority class)"
      ],
      "metadata": {
        "id": "uYb7SO-086Ox"
      }
    },
    {
      "cell_type": "code",
      "source": [
        "df1_majority = df1[df1['fake'] == 0]\n",
        "df1_minority = df1[(df1['fake'] == 1)]\n",
        "\n",
        "df1_majority_downsampled = resample(df1_majority, replace = True, n_samples = len(df1_minority), random_state = 42)\n",
        "df1_downsampled = pd.concat([df1_minority, df1_majority_downsampled])\n",
        "df1_downsampled.to_csv('df1_downsampled.csv', index=False)\n",
        "\n",
        "df1 = df1_downsampled\n",
        "df_list[0] = df1_downsampled\n",
        "print(f'Target value in df1 after udersampling:\\n{df_list[0].fake.value_counts()}')\n",
        "\n",
        "\n",
        "df2_majority = df2[df2['fake'] == 1]\n",
        "df2_minority = df2[(df2['fake'] == 0)]\n",
        "\n",
        "df2_majority_downsampled = resample(df2_majority, replace = True, n_samples = len(df2_minority), random_state = 42)\n",
        "df2_downsampled = pd.concat([df2_minority, df2_majority_downsampled])\n",
        "df2_downsampled.to_csv('df2_downsampled.csv', index=False)\n",
        "\n",
        "df2 = df2_downsampled\n",
        "df_list[1] = df2_downsampled\n",
        "print(f'Target value in df2 after udersampling:\\n{df_list[1].fake.value_counts()}')\n",
        "\n",
        "\n",
        "df3_majority = df3[df3['fake'] == 0]\n",
        "df3_minority = df3[(df3['fake'] == 1)]\n",
        "\n",
        "df3_majority_downsampled = resample(df3_majority, replace = True, n_samples = len(df3_minority), random_state = 42)\n",
        "df3_downsampled = pd.concat([df3_minority, df3_majority_downsampled])\n",
        "df3_downsampled.to_csv('df3_downsampled.csv', index=False)\n",
        "\n",
        "df3 = df3_downsampled\n",
        "df_list[2] = df3_downsampled\n",
        "print(f'Target value in df3 after udersampling:\\n{df_list[2].fake.value_counts()}')"
      ],
      "metadata": {
        "id": "iZyCkHyf9Ld2",
        "colab": {
          "base_uri": "https://localhost:8080/"
        },
        "outputId": "aec74013-2a5d-43ea-e794-ffd7ca14f0b6"
      },
      "execution_count": null,
      "outputs": [
        {
          "output_type": "stream",
          "name": "stdout",
          "text": [
            "Target value in df1 after udersampling:\n",
            "1    1309\n",
            "0    1309\n",
            "Name: fake, dtype: int64\n",
            "Target value in df2 after udersampling:\n",
            "0    1193\n",
            "1    1193\n",
            "Name: fake, dtype: int64\n",
            "Target value in df3 after udersampling:\n",
            "1    1270\n",
            "0    1270\n",
            "Name: fake, dtype: int64\n"
          ]
        }
      ]
    },
    {
      "cell_type": "markdown",
      "metadata": {
        "id": "rkhwFX-Hl2f-"
      },
      "source": [
        "## Data quality\n",
        "Check the quality of your data\n",
        "\n",
        "Source: https://www.geeksforgeeks.org/text-preprocessing-in-python-set-1/?ref=lbp  &  https://www.datacamp.com/tutorial/text-classification-python\n",
        "\n",
        "1. Convert them to lower or upper case\n",
        "2. Cut “stopwords”\n",
        "3. Convert words to their stem or lemma\n",
        "4. Plan how do you want to divide each sentence? There are a lot of tokenizers?\n",
        "5. *remove all special characters\n",
        "6. *remove digits\n",
        "7. *remove punctuation\n",
        "8. *remove whitespace"
      ]
    },
    {
      "cell_type": "code",
      "execution_count": null,
      "metadata": {
        "colab": {
          "base_uri": "https://localhost:8080/"
        },
        "outputId": "355c9d2c-4af7-4ed6-b99f-6ee9e7344de2",
        "id": "Wij3q1JTl2f-"
      },
      "outputs": [
        {
          "output_type": "stream",
          "name": "stderr",
          "text": [
            "[nltk_data] Downloading package stopwords to /root/nltk_data...\n",
            "[nltk_data]   Unzipping corpora/stopwords.zip.\n",
            "[nltk_data] Downloading package wordnet to /root/nltk_data...\n",
            "[nltk_data] Downloading package punkt to /root/nltk_data...\n",
            "[nltk_data]   Unzipping tokenizers/punkt.zip.\n"
          ]
        }
      ],
      "source": [
        "nltk.download('stopwords')\n",
        "nltk.download('wordnet')\n",
        "nltk.download('punkt')\n",
        "lemmatizer = WordNetLemmatizer()\n",
        "\n",
        "def clean_data(dataframe):\n",
        "  input_data = list(dataframe)\n",
        "  corpus = []\n",
        "  text = list(dataframe)\n",
        "  for i in range(len(text)):\n",
        "          # remove all special characters\n",
        "          tokens = re.sub('[^a-zA-Z]', ' ', text[i])\n",
        "          # remove digits\n",
        "          tokens = re.sub(r'\\d+', '', tokens)\n",
        "          # to lower case\n",
        "          tokens = tokens.lower()\n",
        "          # tokenize\n",
        "          tokens = word_tokenize(tokens)  #alternative tokens = tokens.split()\n",
        "          # remove punctuation\n",
        "          tokens = [word for word in tokens if word.isalpha()]\n",
        "          # filter out short tokens (<=1 character)\n",
        "          tokens = [word for word in tokens if len(word) > 1]\n",
        "          # remove stopwords\n",
        "          tokens = [word for word in tokens if word not in stopwords.words('english')]\n",
        "          # lemmatize\n",
        "          tokens = [lemmatizer.lemmatize(word) for word in tokens]\n",
        "          # tokens = [lemmatizer.lemmatize(word, pos ='v') for word in tokens] #lemmatize with provide context i.e. part-of-speech -> pos\n",
        "          # remove whitespace\n",
        "          tokens = ' '.join(tokens)\n",
        "\n",
        "          corpus.append(tokens)\n",
        "\n",
        "  # assign corpus to data column\n",
        "  input_data = corpus\n",
        "  return input_data"
      ]
    },
    {
      "cell_type": "code",
      "execution_count": null,
      "metadata": {
        "colab": {
          "base_uri": "https://localhost:8080/",
          "height": 49,
          "referenced_widgets": [
            "7a005946dff84148814cea45417256ab",
            "d48f578a53d147e2ab11077871300906",
            "7f99994c1e5a447ab48ae5845fafff39",
            "ddf596c3688246dc83d6ac9bf1b617c9",
            "9447bf6bf84f4766af902828d2f4e88a",
            "c246b408851241f288927db559e576ef",
            "c7e796ca0b154d498002b4cd0f86109b",
            "3fc070de6fe446819fe2aed0602f4ebb",
            "39e06527e15d4dd3a2427e389b4f67cf",
            "f769dae29aa546e0af02ecfb51b0a2fb",
            "ec411d617b5b4c72aaa5509b256f16f9"
          ]
        },
        "outputId": "7cdd0426-dcc1-4a7e-d428-db6a5da8cc43",
        "id": "nCZRGfTXl2f_"
      },
      "outputs": [
        {
          "output_type": "display_data",
          "data": {
            "text/plain": [
              "  0%|          | 0/3 [00:00<?, ?it/s]"
            ],
            "application/vnd.jupyter.widget-view+json": {
              "version_major": 2,
              "version_minor": 0,
              "model_id": "7a005946dff84148814cea45417256ab"
            }
          },
          "metadata": {}
        }
      ],
      "source": [
        "for df in tqdm(df_list):\n",
        "  df['title'] = clean_data(df['title'])"
      ]
    },
    {
      "cell_type": "markdown",
      "metadata": {
        "id": "NmJ-gRzrl2f_"
      },
      "source": [
        "## Bag of words\n",
        "Convert text to vector using classic algorithms\n",
        "\n",
        "1. Use bag-of-words algorithm\n",
        "2. Use Bag2Vec algorithm\n",
        "\n",
        "Sources:\n",
        "\n",
        "https://learn.microsoft.com/en-us/training/modules/intro-natural-language-processing-pytorch/3-bow-tfidf\n",
        "\n",
        "WordCloud:\n",
        "\n",
        "https://www.datacamp.com/tutorial/wordcloud-python\n"
      ]
    },
    {
      "cell_type": "markdown",
      "source": [
        "### Bag of words"
      ],
      "metadata": {
        "id": "7sv2oCXnl2f_"
      }
    },
    {
      "cell_type": "code",
      "source": [
        "vec_cv1 = CountVectorizer(ngram_range=(1,1)) #unigram = 1 word\n",
        "vec_cv2 = CountVectorizer(ngram_range=(1,1))\n",
        "vec_cv3 = CountVectorizer(ngram_range=(1,1))\n",
        "# vec_cv_bi = CountVectorizer(ngram_range=(2,2)) #bi-gram = 2 words\n",
        "\n",
        "df1_vec = vec_cv1.fit_transform(df1['title']).toarray()\n",
        "df2_vec = vec_cv2.fit_transform(df2['title']).toarray()\n",
        "df3_vec = vec_cv3.fit_transform(df3['title']).toarray()\n",
        "\n",
        "print(f'df1_vec shape is: {df1_vec.shape}')\n",
        "print(f'df2_vec shape is: {df2_vec.shape}')\n",
        "print(f'df3_vec shape is: {df3_vec.shape}')\n",
        "\n",
        "print(f'Type df1_vec: {type(df1_vec)}')\n",
        "print(f'Type df2_vec: {type(df2_vec)}')\n",
        "print(f'Type df3_vec: {type(df3_vec)}')\n",
        "\n",
        "print(f'VOCABULARY 1 (lenght {len(vec_cv1.vocabulary_)})\\n{vec_cv1.vocabulary_}')\n",
        "print(f'VOCABULARY 2 (lenght {len(vec_cv2.vocabulary_)})\\n{vec_cv2.vocabulary_}')\n",
        "print(f'VOCABULARY 3 (lenght {len(vec_cv3.vocabulary_)})\\n{vec_cv3.vocabulary_}')"
      ],
      "metadata": {
        "colab": {
          "base_uri": "https://localhost:8080/"
        },
        "outputId": "8494e161-0538-4583-839c-0fd40d06d2ae",
        "id": "1ArXxOwTl2f_"
      },
      "execution_count": null,
      "outputs": [
        {
          "output_type": "stream",
          "name": "stdout",
          "text": [
            "df1_vec shape is: (2618, 5237)\n",
            "df2_vec shape is: (2386, 5062)\n",
            "df3_vec shape is: (2540, 5464)\n",
            "Type df1_vec: <class 'numpy.ndarray'>\n",
            "Type df2_vec: <class 'numpy.ndarray'>\n",
            "Type df3_vec: <class 'numpy.ndarray'>\n",
            "VOCABULARY 1 (lenght 5237)\n",
            "{'obama': 3188, 'defends': 1222, 'black': 493, 'life': 2720, 'matter': 2878, 'really': 3773, 'want': 5058, 'support': 4562, 'video': 5005, 'updated': 4946, 'america': 155, 'conservative': 994, 'family': 1711, 'experience': 1645, 'shocking': 4244, 'abuse': 15, 'shaming': 4223, 'home': 2215, 'ordered': 3257, 'leftist': 2679, 'da': 1145, 'part': 3342, 'insane': 2388, 'vendetta': 4985, 'boom': 550, 'trump': 4835, 'show': 4256, 'good': 1996, 'business': 659, 'mind': 2967, 'never': 3131, 'let': 2697, 'opportunity': 3244, 'go': 1985, 'waste': 5078, 'online': 3230, 'lib': 2708, 'site': 4296, 'publishes': 3667, 'cell': 751, 'number': 3176, 'revives': 3954, 'keystone': 2555, 'dakota': 1150, 'access': 21, 'pipeline': 3447, 'state': 4464, 'american': 156, 'moving': 3060, 'build': 633, 'helipad': 2167, 'mar': 2853, 'lago': 2613, 'avoid': 313, 'protester': 3648, 'golfing': 1993, 'weekend': 5101, 'whoa': 5128, 'bill': 474, 'reilly': 3829, 'drop': 1438, 'bombshell': 542, 'report': 3881, 'key': 2554, 'accuser': 33, 'sexual': 4211, 'harassment': 2118, 'case': 725, 'could': 1053, 'prove': 3651, 'unjustly': 4922, 'fired': 1791, 'fox': 1870, 'news': 3135, 'reveals': 3944, 'comey': 914, 'thought': 4709, 'massive': 2873, 'teen': 4657, 'mall': 2835, 'brawl': 580, 'including': 2344, 'gunfire': 2067, 'break': 584, 'across': 40, 'day': 1174, 'christmas': 815, 'new': 3133, 'christian': 811, 'policy': 3489, 'advisor': 71, 'actually': 50, 'think': 4704, 'control': 1017, 'weather': 5096, 'told': 4749, 'prince': 3583, 'charles': 778, 'eat': 1478, 'sh': 4213, 'absolutely': 12, 'ridiculous': 3967, 'reason': 3774, 'unprecedented': 4934, 'fbi': 1733, 'asks': 264, 'doj': 1394, 'confirm': 974, 'lied': 2718, 'wiretap': 5155, 'detail': 1292, 'supporting': 4564, 'gop': 1999, 'rep': 3872, 'call': 678, 'veteran': 4993, 'moocher': 3037, 'town': 4780, 'hall': 2089, 'event': 1606, 'ohio': 3220, 'watch': 5079, 'mitt': 2996, 'romney': 4010, 'roy': 4022, 'moore': 3040, 'deserves': 1281, 'fair': 1698, 'treatment': 4810, 'questionable': 3700, 'year': 5207, 'old': 3225, 'sex': 4209, 'assault': 269, 'allegation': 128, 'already': 143, 'forgotten': 1855, 'harry': 2127, 'reid': 3827, 'lie': 2717, 'campaign': 690, 'veryfakenewscnn': 4990, 'busted': 661, 'getting': 1955, 'major': 2822, 'donald': 1399, 'jr': 2513, 'wikileaks': 5140, 'story': 4503, 'wrong': 5194, 'democrat': 1248, 'pushing': 3686, 'tax': 4644, 'return': 3937, 'scared': 4098, 'tless': 4744, 'maher': 2816, 'debatenight': 1188, 'live': 2746, 'tweetstorm': 4865, 'glorious': 1981, 'takedown': 4617, 'ever': 1607, 'internet': 2412, 'stop': 4498, 'laughing': 2637, 'sarah': 4073, 'huckabee': 2251, 'sander': 4067, 'dumbass': 1453, 'tweet': 4862, 'screenshots': 4127, 'throw': 4719, 'temper': 4666, 'tantrum': 4633, 'charge': 774, 'hillary': 2196, 'clinton': 862, 'lol': 2759, 'amazon': 150, 'user': 4965, 'write': 5191, 'gut': 2071, 'busting': 662, 'review': 3949, 'disastrous': 1339, 'stronger': 4518, 'together': 4748, 'book': 549, 'big': 468, 'mouth': 3055, 'rosie': 4016, 'donnell': 1404, 'heading': 2149, 'prison': 3588, 'taking': 4621, 'hate': 2138, 'president': 3560, 'far': 1720, 'oklahoma': 3224, 'gun': 2065, 'range': 3741, 'refused': 3816, 'service': 4195, 'muslim': 3080, 'man': 2837, 'giving': 1971, 'deserve': 1280, 'watergate': 5084, 'reporter': 3884, 'carl': 713, 'bernstein': 450, 'hammer': 2093, 'real': 3770, 'leaker': 2664, 'young': 5217, 'delivers': 1238, 'powerful': 3535, 'message': 2933, 'liberal': 2709, 'put': 3687, 'fist': 1801, 'take': 4616, 'mask': 2869, 'change': 767, 'going': 1988, 'lose': 2771, 'hilariously': 2195, 'awkward': 320, 'moment': 3021, 'rick': 3962, 'perry': 3402, 'al': 112, 'franken': 1876, 'oh': 3219, 'lord': 2768, 'starbucks': 4458, 'customer': 1138, 'chicago': 793, 'racist': 3717, 'rant': 3748, 'heard': 2154, 'anything': 197, 'like': 2726, 'zing': 5229, 'hell': 2168, 'jimmy': 2496, 'kimmel': 2570, 'fake': 1703, 'week': 5100, 'electronic': 1504, 'voting': 5037, 'die': 1314, 'york': 5215, 'magazine': 2813, 'confirms': 977, 'literally': 2743, 'care': 709, 'one': 3229, 'thing': 4703, 'winning': 5152, 'join': 2501, 'lady': 2612, 'view': 5008, 'rip': 3978, 'shred': 4261, 'publicist': 3664, 'breaking': 586, 'active': 44, 'shooter': 4247, 'reported': 3882, 'outside': 3286, 'los': 2770, 'angeles': 172, 'polling': 3498, 'location': 2752, 'dead': 1178, 'time': 4737, 'advocating': 74, 'censorship': 752, 'controlled': 1018, 'approved': 225, 'agent': 91, 'screw': 4128, 'front': 1891, 'runner': 4036, 'chosen': 808, 'people': 3390, 'establishment': 1591, 'plan': 3459, 'san': 4063, 'bernardino': 448, 'two': 4868, 'adult': 65, 'injured': 2381, 'school': 4108, 'murder': 3074, 'suicide': 4550, 'hannity': 2108, 'loses': 2773, 'refers': 3809, 'unhinged': 4911, 'republican': 3892, 'flip': 1822, 'law': 2647, 'would': 5186, 'require': 3895, 'woman': 5170, 'register': 3822, 'draft': 1416, 'hollywood': 2213, 'announces': 185, 'name': 3091, 'award': 315, 'replace': 3877, 'oscar': 3270, 'hilarious': 2194, 'crowd': 1108, 'erupts': 1585, 'boo': 547, 'military': 2961, 'mom': 3020, 'penny': 3386, 'khan': 2556, 'statement': 4467, 'morning': 3043, 'joe': 2498, 'elizabeth': 1510, 'warren': 5073, 'attack': 286, 'presidency': 3559, 'implodes': 2329, 'top': 4760, 'white': 5127, 'house': 2244, 'official': 3216, 'betray': 455, 'explosive': 1656, 'megyn': 2912, 'kelly': 2545, 'continues': 1011, 'obsession': 3197, 'angry': 177, 'apologize': 203, 'er': 1577, 'fan': 1713, 'burn': 650, 'colin': 895, 'kaepernick': 2526, 'jersey': 2484, 'national': 3100, 'anthem': 190, 'playing': 3470, 'awesome': 318, 'florida': 1829, 'voter': 5036, 'kick': 2558, 'corrupt': 1047, 'prosecutor': 3638, 'angela': 171, 'corey': 1037, 'office': 3214, 'running': 4037, 'lying': 2798, 'race': 3713, 'baiting': 347, 'ag': 87, 'back': 328, 'guess': 2055, 'whose': 5133, 'job': 2497, 'reportedly': 3883, 'hoping': 2232, 'afraid': 83, 'terrible': 4674, 'worried': 5182, 'priceless': 3575, 'embarrassing': 1519, 'rino': 3974, 'governor': 2008, 'reminded': 3858, 'endorse': 1545, 'general': 1942, 'election': 1501, 'forget': 1852, 'give': 1969, 'united': 4918, 'nation': 3099, 'billion': 475, 'dollar': 1395, 'brian': 592, 'stelter': 4478, 'slam': 4313, 'sean': 4139, 'disturbing': 1377, 'happen': 2110, 'host': 2237, 'problem': 3601, 'pope': 3506, 'get': 1954, 'visibly': 5022, 'scold': 4114, 'right': 3969, 'make': 2824, 'visit': 5024, 'nun': 3177, 'regime': 3819, 'suing': 4551, 'conforming': 980, 'obamacare': 3189, 'contraception': 1012, 'mandate': 2842, 'ignores': 2305, 'planned': 3461, 'parenthood': 3336, 'baby': 326, 'harvester': 2131, 'whistleblower': 5125, 'group': 2043, 'exposed': 1660, 'dad': 1147, 'beat': 404, 'daughter': 1171, 'frozen': 1894, 'bacon': 336, 'quoting': 3711, 'bible': 465, 'jesus': 2487, 'letterman': 2700, 'ignore': 2303, 'pocket': 3481, 'poverty': 3533, 'stimulus': 4488, 'gave': 1934, 'baltimore': 357, 'willing': 5147, 'working': 5179, 'risk': 3981, 'allowing': 136, 'predator': 3543, 'accused': 32, 'rapist': 3754, 'roam': 3988, 'student': 4521, 'demand': 1243, 'cornell': 1039, 'university': 4921, 'recruiting': 3799, 'ted': 4656, 'cruz': 1115, 'tell': 4663, 'fanatic': 1714, 'armor': 239, 'god': 1987, 'prepare': 3552, 'fight': 1763, 'taxpayer': 4645, 'tab': 4610, 'golf': 1992, 'trip': 4824, 'fundraiser': 1911, 'february': 1740, 'march': 2855, 'internal': 2410, 'memo': 2920, 'epa': 1568, 'flint': 1821, 'worth': 5185, 'limb': 2729, 'explains': 1652, 'james': 2466, 'cks': 835, 'admits': 62, 'impeached': 2326, 'ca': 670, 'start': 4460, 'petition': 3412, 'demanding': 1245, 'mental': 2926, 'evaluation': 1601, 'revolting': 3955, 'hot': 2240, 'mic': 2941, 'blown': 524, 'bit': 487, 'released': 3840, 'email': 1514, 'carly': 715, 'fiorina': 1787, 'illegally': 2310, 'super': 4560, 'pac': 3305, 'judge': 2514, 'order': 3256, 'punk': 3680, 'wearing': 5094, 'police': 3488, 'shirt': 4240, 'leave': 2671, 'courtroom': 1066, 'face': 1685, 'contempt': 1004, 'anti': 192, 'contractor': 1014, 'arrested': 244, 'leaking': 2665, 'classified': 847, 'info': 2371, 'medium': 2908, 'classless': 848, 'michelle': 2944, 'hit': 2205, 'outright': 3285, 'interview': 2415, 'oprah': 3248, 'lawmaker': 2650, 'freaking': 1880, 'dysfunction': 1467, 'update': 4945, 'victim': 5003, 'skull': 4309, 'missing': 2988, 'arrest': 243, 'graphic': 2021, 'philadelphia': 3422, 'ask': 261, 'help': 2171, 'identifying': 2295, 'gang': 1923, 'kid': 2561, 'mother': 3050, 'sub': 4531, 'human': 2258, 'homeless': 2217, 'staff': 4443, 'joke': 2504, 'laugh': 2635, 'july': 2518, 'th': 4691, 'ultimatum': 4877, 'caught': 737, 'delta': 1239, 'pilot': 3443, 'smack': 4332, 'fighting': 1765, 'deplaning': 1265, 'atlanta': 285, 'blame': 497, 'orange': 3253, 'clown': 874, 'hair': 2085, 'clerk': 857, 'claim': 836, 'rigged': 3968, 'bungled': 643, 'beyond': 461, 'belief': 432, 'dirty': 1332, 'pool': 3502, 'affirmed': 78, 'spied': 4413, 'without': 5168, 'proving': 3656, 'dossier': 1408, 'authenticity': 304, 'must': 3081, 'read': 3766, 'napolitano': 3094, 'secret': 4148, 'war': 5062, 'yr': 5220, 'son': 4375, 'arkansas': 234, 'prostitute': 3641, 'say': 4085, 'father': 1730, 'keep': 2539, 'away': 317, 'increase': 2350, 'unlicensed': 4926, 'abortion': 8, 'terrorism': 4678, 'leader': 2659, 'farrakahn': 1724, 'army': 240, 'stalk': 4447, 'kill': 2564, 'koran': 2591, 'retaliation': 3934, 'prescribed': 3556, 'fail': 1693, 'hard': 2120, 'trying': 4847, 'pander': 3319, 'wing': 5150, 'badass': 338, 'ad': 51, 'breitbart': 590, 'writer': 5192, 'need': 3111, 'pay': 3366, 'medical': 2906, 'smallest': 4336, 'violin': 5017, 'play': 3466, 'lax': 2654, 'endangering': 1542, 'public': 3662, 'attempt': 289, 'energize': 1551, 'zombie': 5231, 'base': 383, 'reminding': 3860, 'used': 4964, 'shopping': 4250, 'responds': 3920, 'devastating': 1299, 'slamming': 4315, 'look': 2764, 'closer': 871, 'becoming': 414, 'sweden': 4594, 'believe': 433, 'un': 4879, 'authority': 307, 'vet': 4992, 'refugee': 3812, 'latin': 2630, 'jeb': 2474, 'bush': 658, 'suspends': 4586, 'pressure': 3564, 'supporter': 4563, 'fellow': 1748, 'gopers': 2001, 'oops': 3232, 'security': 4155, 'guard': 2049, 'allow': 134, 'dude': 1448, 'founder': 1867, 'condemns': 966, 'nazi': 3105, 'misconduct': 2980, 'michael': 2942, 'way': 5088, 'behind': 429, 'ready': 3767, 'financial': 1779, 'crisis': 1092, 'round': 4018, 'crony': 1102, 'capitalism': 701, 'central': 754, 'planning': 3462, 'drained': 1420, 'sesame': 4197, 'street': 4509, 'using': 4967, 'bert': 451, 'ernie': 1582, 'sexually': 4212, 'transmitted': 4800, 'disease': 1352, 'alt': 145, 'left': 2678, 'professor': 3611, 'outrageous': 3284, 'flag': 1808, 'burning': 652, 'antifa': 194, 'preserving': 3558, 'fabric': 1682, 'catch': 733, 'someone': 4373, 'saying': 4086, 'thinking': 4705, 'presser': 3563, 'lawyer': 2653, 'destroys': 1290, 'chriswallace': 817, 'heated': 2160, 'exchange': 1625, 'chris': 809, 'deal': 1181, 'fact': 1689, 'hasta': 2134, 'la': 2607, 'vista': 5027, 'arnold': 241, 'guy': 2073, 'affair': 75, 'housekeeper': 2246, 'produced': 3607, 'destroyed': 1288, 'marriage': 2864, 'much': 3064, 'baggage': 341, 'quits': 3707, 'celebrity': 749, 'apprentice': 221, 'something': 4374, 'panic': 3322, 'mueller': 3065, 'investigation': 2422, 'close': 868, 'terrorist': 4679, 'jon': 2506, 'ritzheimer': 3982, 'us': 4961, 'sobbing': 4356, 'beg': 419, 'money': 3023, 'turning': 4858, 'pork': 3511, 'ban': 359, 'great': 2027, 'prisoner': 3589, 'bad': 337, 'pig': 3441, 'howard': 2248, 'stern': 4482, 'demean': 1246, 'talk': 4624, 'accident': 22, 'ben': 437, 'carson': 722, 'become': 412, 'first': 1797, 'destroy': 1287, 'nuclear': 3172, 'idea': 2292, 'ivanka': 2456, 'became': 409, 'fear': 1736, 'mongering': 3024, 'party': 3347, 'unrecognizable': 4937, 'cruelly': 1109, 'mock': 3003, 'misgender': 2982, 'trans': 4795, 'high': 2186, 'athlete': 284, 'listen': 2741, 'jeh': 2478, 'johnson': 2500, 'bizarre': 492, 'remove': 3864, 'confederate': 970, 'statue': 4469, 'homeland': 2216, 'threat': 4711, 'respond': 3918, 'mess': 2932, 'bringing': 601, 'bottle': 563, 'clean': 851, 'water': 5082, 'resident': 3907, 'double': 1410, 'standard': 4453, 'mlb': 2998, 'player': 3469, 'suspended': 4585, 'criticizing': 1099, 'blacklivesmatter': 495, 'nfl': 3139, 'instagram': 2394, 'post': 3520, 'cop': 1034, 'neck': 3110, 'slit': 4327, 'bowl': 565, 'qb': 3694, 'peyton': 3416, 'manning': 2847, 'bankrolling': 366, 'presidential': 3561, 'candidate': 698, 'image': 2315, 'hissy': 2202, 'fit': 1802, 'word': 5175, 'meet': 2909, 'vogue': 5028, 'fashion': 1727, 'editor': 1486, 'slammed': 4314, 'social': 4357, 'politicizing': 3494, 'melaniatrump': 2915, 'shoe': 4245, 'ferrell': 1754, 'skewer': 4305, 'reprises': 3890, 'george': 1947, 'impression': 2334, 'lesbian': 2694, 'couple': 1063, 'beaten': 405, 'holding': 2209, 'hand': 2097, 'win': 5148, 'settlement': 4203, 'ex': 1617, 'congressman': 989, 'howling': 2249, 'impeachment': 2327, 'cheerleader': 787, 'hiding': 2185, 'truth': 4845, 'ammosexual': 159, 'organizer': 3262, 'shoot': 4246, 'patriot': 3362, 'drunken': 1445, 'best': 452, 'date': 1170, 'agree': 93, 'desperate': 1282, 'spread': 4428, 'fleece': 1816, 'latest': 2629, 'vote': 5034, 'prof': 3609, 'russian': 4041, 'ship': 4238, 'disgusting': 1357, 'unemployed': 4905, 'obsessed': 3195, 'added': 54, 'smithsonian': 4343, 'history': 2204, 'museum': 3078, 'supreme': 4567, 'court': 1065, 'justice': 2524, 'clarence': 840, 'thomas': 4707, 'blacklisted': 494, 'senate': 4174, 'pass': 3349, 'repeal': 3874, 'resolution': 3913, 'almost': 140, 'unanimous': 4883, 'former': 1860, 'whispered': 5123, 'adorable': 64, 'hispanic': 2201, 'interviewed': 2416, 'dreamed': 1427, 'meeting': 2910, 'mr': 3062, 'col': 892, 'oliver': 3226, 'north': 3164, 'five': 1804, 'led': 2676, 'rise': 3980, 'isi': 2444, 'relax': 3837, 'sharpton': 4229, 'physical': 3430, 'question': 3699, 'firefighter': 1792, 'horrific': 2234, 'barack': 374, 'ceo': 755, 'bunch': 641, 'whiny': 5122, 'jew': 2489, 'union': 4916, 'form': 1856, 'facebook': 1686, 'page': 3309, 'organize': 3261, 'campus': 691, 'offensive': 3211, 'showing': 4259, 'keurig': 2553, 'coffee': 889, 'maker': 2825, 'boycottkeurig': 570, 'rudy': 4027, 'giuliani': 1968, 'accept': 18, 'role': 4006, 'cabinet': 671, 'trumpdom': 4838, 'curious': 1132, 'world': 5180, 'foreign': 1848, 'explained': 1649, 'monitor': 3027, 'owner': 3302, 'banned': 368, 'frighteningly': 1890, 'praise': 3537, 'korean': 2593, 'dictator': 1313, 'executing': 1629, 'stay': 4470, 'power': 3534, 'benghazi': 441, 'spokesliar': 4418, 'susan': 4582, 'rice': 3959, 'cnn': 878, 'expect': 1639, 'iran': 2431, 'use': 4963, 'fund': 1907, 'operation': 3239, 'heartwarming': 2158, 'socialism': 4358, 'college': 898, 'le': 2657, 'careless': 712, 'aide': 99, 'kept': 2551, 'department': 1261, 'unsafe': 4940, 'daniel': 1163, 'greenfield': 2029, 'nail': 3089, 'run': 4035, 'flop': 1828, 'highlight': 2189, 'reel': 3807, 'response': 3921, 'nh': 3141, 'focus': 1833, 'shock': 4241, 'msnbc': 3063, 'violent': 5015, 'thug': 4722, 'pelt': 3381, 'egg': 1492, 'commander': 917, 'chief': 797, 'racism': 3716, 'disciplinary': 1340, 'decision': 1200, 'west': 5113, 'point': 3483, 'cadet': 672, 'hottie': 2242, 'tomi': 4754, 'lahren': 2614, 'head': 2147, 'pro': 3595, 'panther': 3325, 'activist': 45, 'scream': 4123, 'protection': 3646, 'germany': 1952, 'wallace': 5056, 'smear': 4339, 'inauguration': 2339, 'size': 4302, 'brit': 604, 'hume': 2261, 'burned': 651, 'chance': 766, 'lindsey': 2734, 'graham': 2016, 'trash': 4804, 'portraying': 3514, 'kooky': 2590, 'forgets': 1853, 'swedish': 4595, 'assaulted': 270, 'broad': 608, 'daylight': 1175, 'migrant': 2953, 'boyfriend': 571, 'feminist': 1752, 'health': 2150, 'mn': 2999, 'somali': 4370, 'got': 2004, 'jihad': 2493, 'amy': 162, 'schumer': 4109, 'release': 3839, 'forbidden': 1844, 'violence': 5014, 'sketch': 4304, 'anyway': 198, 'goldman': 1991, 'sachs': 4047, 'chairman': 761, 'uk': 4874, 'appearance': 212, 'another': 188, 'congress': 987, 'dealt': 1183, 'blow': 523, 'favorite': 1732, 'terror': 4677, 'informant': 2373, 'gag': 1919, 'shaking': 4219, 'pantsuit': 3326, 'slays': 4322, 'science': 4111, 'denier': 1254, 'amazingly': 149, 'groundhog': 2042, 'brown': 617, 'friend': 1889, 'started': 4461, 'handsupdontshoot': 2104, 'soros': 4381, 'dump': 1456, 'million': 2964, 'flood': 1825, 'vetted': 4995, 'laura': 2642, 'ingraham': 2376, 'brilliant': 598, 'shake': 4217, 'scamming': 4093, 'proved': 3652, 'minute': 2978, 'required': 3896, 'formally': 1859, 'recognize': 3788, 'organization': 3260, 'exceeds': 1623, 'signature': 4278, 'add': 53, 'epic': 1569, 'teller': 4664, 'colonel': 905, 'ralph': 3731, 'peter': 3410, 'tough': 4771, 'language': 2619, 'describe': 1276, 'co': 881, 'chair': 760, 'fraud': 1878, 'commission': 924, 'may': 2883, 'legitimately': 2690, 'elected': 1500, 'crazy': 1081, 'said': 4053, 'shot': 4253, 'unreal': 4936, 'three': 4716, 'senator': 4175, 'healthcare': 2151, 'midnight': 2950, 'agrees': 96, 'network': 3127, 'celebrates': 748, 'gay': 1936, 'orlando': 3266, 'act': 41, 'filled': 1772, 'intolerant': 2418, 'flipped': 1823, 'hypocrite': 2282, 'mike': 2955, 'democratic': 1249, 'obstruction': 3202, 'nominee': 3161, 'henningsen': 2174, 'protest': 3647, 'similar': 4281, 'color': 908, 'revolution': 3956, 'abroad': 10, 'lid': 2716, 'debate': 1187, 'comment': 919, 'endorses': 1548, 'ahead': 97, 'california': 677, 'primary': 3581, 'charlotte': 780, 'station': 4468, 'dash': 1168, 'cam': 685, 'keithscott': 2542, 'coming': 916, 'toward': 4777, 'invited': 2425, 'charged': 775, 'pimping': 3445, 'teenage': 4658, 'girl': 1966, 'troll': 4826, 'austria': 302, 'game': 1922, 'concealing': 955, 'islamic': 2446, 'dress': 1429, 'integration': 2402, 'course': 1064, 'else': 1511, 'sign': 4276, 'stream': 4508, 'chase': 782, 'stunning': 4527, 'disney': 1363, 'tech': 4655, 'worker': 5178, 'emotional': 1532, 'testimony': 4685, 'humiliation': 2265, 'training': 4793, 'responded': 3919, 'directly': 1329, 'kathygriffin': 2533, 'beheaded': 428, 'photo': 3426, 'chalkening': 763, 'political': 3491, 'chalk': 762, 'drawing': 1424, 'bandit': 361, 'terrorizing': 4681, 'ny': 3181, 'gov': 2006, 'cuomo': 1126, 'threatens': 4715, 'boycott': 568, 'israel': 2450, 'heck': 2162, 'vega': 4982, 'proof': 3629, 'coroner': 1043, 'lockdown': 2754, 'equifax': 1575, 'tricking': 4820, 'consumer': 1003, 'waiving': 5050, 'sue': 4541, 'data': 1169, 'breach': 583, 'enact': 1536, 'place': 3456, 'latina': 2631, 'restaurant': 3924, 'threatened': 4713, 'called': 679, 'stage': 4445, 'rally': 3730, 'silence': 4279, 'joy': 2512, 'behar': 425, 'painful': 3312, 'reality': 3771, 'check': 784, 'maria': 2858, 'bartiromo': 382, 'dnc': 1386, 'tom': 4752, 'perez': 3393, 'hijacked': 2192, 'extreme': 1672, 'asked': 262, 'blank': 499, 'internment': 2413, 'camp': 689, 'chilling': 801, 'grows': 2046, 'john': 2499, 'mccain': 2887, 'opponent': 3243, 'bernie': 449, 'coronation': 1042, 'comfort': 915, 'armchair': 237, 'homophobic': 2220, 'kansa': 2528, 'gleefully': 1973, 'harasses': 2116, 'lgbtq': 2706, 'boast': 528, 'spicer': 4412, 'confuses': 983, 'marijuana': 2859, 'opioids': 3242, 'vow': 5038, 'fed': 1741, 'legalized': 2684, 'weed': 5099, 'declares': 1204, 'rape': 3751, 'elton': 1512, 'perform': 3396, 'enters': 1560, 'stance': 4451, 'sabo': 4046, 'artist': 253, 'tucker': 4849, 'carlson': 714, 'tonight': 4756, 'miss': 2986, 'weasel': 5095, 'alleged': 129, 'lyin': 2797, 'williams': 5146, 'saw': 4084, 'resigns': 3912, 'drug': 1442, 'solicitation': 4365, 'minor': 2976, 'wow': 5187, 'nasty': 3098, 'excited': 1626, 'see': 4156, 'viral': 5018, 'punch': 3674, 'lil': 2728, 'ha': 2077, 'mitch': 2995, 'mcconnell': 2888, 'viciously': 5002, 'cut': 1139, 'defend': 1219, 'firebrand': 1789, 'ann': 180, 'coulter': 1054, 'airline': 107, 'twitter': 4867, 'kicking': 2560, 'reserved': 3904, 'seat': 4142, 'dream': 1426, 'nightmare': 3150, 'illegal': 2309, 'alien': 123, 'commit': 926, 'avoiding': 314, 'deportation': 1268, 'lifetime': 2721, 'politician': 3493, 'cbs': 743, 'know': 2586, 'mean': 2893, 'grifter': 2035, 'promoter': 3624, 'selling': 4171, 'soul': 4385, 'devil': 1304, 'catholic': 735, 'priest': 3579, 'bishop': 486, 'jeopardizes': 2481, 'spiritual': 4416, 'well': 5111, 'receive': 3782, 'holy': 2214, 'communion': 934, 'primal': 3580, 'david': 1172, 'icke': 2288, 'result': 3930, 'apologized': 204, 'attacked': 287, 'reckless': 3787, 'responsible': 3923, 'death': 1186, 'cia': 820, 'retired': 3935, 'blast': 501, 'amateur': 148, 'navy': 3104, 'sailor': 4054, 'legislation': 2688, 'seth': 4201, 'macfarlane': 2801, 'important': 2331, 'extortion': 1666, 'nuke': 3174, 'force': 1845, 'retreat': 3936, 'red': 3802, 'line': 2735, 'syria': 4606, 'deceptive': 1196, 'nobody': 3156, 'humiliating': 2264, 'shun': 4262, 'swanky': 4592, 'putin': 3688, 'western': 5114, 'either': 1497, 'talking': 4626, 'finally': 1777, 'kind': 2571, 'closed': 869, 'coordinate': 1033, 'russia': 4040, 'sanction': 4065, 'find': 1781, 'least': 2670, 'satan': 4077, 'club': 875, 'allowed': 135, 'district': 1376, 'next': 3138, 'muhammad': 3067, 'ali': 120, 'sent': 4180, 'wife': 5139, 'british': 606, 'medic': 2904, 'radio': 3720, 'husband': 2278, 'processed': 3605, 'stuff': 4523, 'phone': 3424, 'men': 2924, 'push': 3684, 'child': 799, 'chant': 771, 'warning': 5069, 'trumpcare': 4836, 'na': 3086, 'hey': 2180, 'goodbye': 1997, 'billionaire': 476, 'mark': 2861, 'cuban': 1121, 'gone': 1995, 'batsh': 396, 'anniversary': 181, 'bragging': 574, 'attacking': 288, 'insulting': 2398, 'ally': 138, 'livid': 2747, 'kellyanne': 2546, 'conway': 1027, 'backlash': 333, 'entire': 1562, 'team': 4649, 'chaos': 773, 'lawlessness': 2649, 'ignored': 2304, 'misleading': 2983, 'mainstream': 2820, 'false': 1709, 'narrative': 3096, 'elector': 1502, 'steal': 4471, 'gon': 1994, 'democracy': 1247, 'exposing': 1661, 'officer': 3215, 'oregon': 3258, 'politely': 3490, 'cliven': 865, 'bundy': 642, 'lunatic': 2789, 'picture': 3437, 'emerging': 1527, 'everyone': 1610, 'known': 2587, 'grew': 2032, 'teach': 4647, 'jerk': 2482, 'truly': 4834, 'dark': 1167, 'skin': 4307, 'association': 279, 'research': 3902, 'single': 4289, 'federal': 1742, 'bureaucrat': 646, 'opened': 3235, 'door': 1406, 'foreigner': 1849, 'anchor': 167, 'shepard': 4234, 'smith': 4342, 'come': 910, 'dana': 1157, 'loesch': 2757, 'washington': 5077, 'snapping': 4349, 'tillerson': 4734, 'note': 3166, 'confirmation': 975, 'hearing': 2155, 'wapo': 5061, 'showed': 4257, 'whole': 5130, 'still': 4487, 'secretly': 4151, 'paid': 3311, 'ransom': 3747, 'bragged': 573, 'diplomatic': 1325, 'breakthrough': 587, 'kim': 2568, 'jong': 2509, 'basically': 389, 'person': 3405, 'cupp': 1128, 'feel': 1746, 'memory': 2922, 'pizza': 3453, 'spend': 4408, 'donation': 1401, 'received': 3783, 'shut': 4263, 'cloaked': 866, 'conspiracy': 998, 'overview': 3298, 'jfk': 2492, 'file': 1768, 'reopens': 3871, 'coup': 1062, 'tat': 4643, 'cold': 894, 'era': 1578, 'loving': 2783, 'calling': 681, 'handle': 2099, 'mexico': 2939, 'solved': 4369, 'pastor': 3356, 'cheered': 786, 'killing': 2567, 'pulse': 3672, 'molestation': 3018, 'texas': 4688, 'driving': 1436, 'pickup': 3435, 'truck': 4831, 'vile': 5011, 'unrelated': 4938, 'offense': 3210, 'last': 2625, 'holdout': 2210, 'declare': 1202, 'government': 2007, 'liberty': 2712, 'clive': 864, 'malheur': 2831, 'wildlife': 5142, 'refuge': 3811, 'reverend': 3946, 'franklin': 1877, 'arrives': 248, 'scene': 4105, 'standoff': 4456, 'feed': 1745, 'slow': 4328, 'motion': 3051, 'lavoy': 2645, 'finicum': 1784, 'shooting': 4248, 'michele': 2943, 'bachmann': 327, 'punishing': 3678, 'brussels': 623, 'considering': 996, 'replacing': 3880, 'reince': 3831, 'priebus': 3578, 'ten': 4668, 'undercover': 4893, 'welcoming': 5109, 'neighborhood': 3117, 'mosque': 3048, 'poll': 3497, 'majority': 2823, 'unconstitutional': 4891, 'executive': 1631, 'kneed': 2580, 'anger': 173, 'remark': 3854, 'disrespecting': 1372, 'immediately': 2319, 'coach': 882, 'six': 4299, 'curse': 1137, 'subway': 4537, 'rider': 3966, 'explode': 1653, 'crime': 1089, 'higher': 2187, 'open': 3234, 'transparent': 4802, 'action': 43, 'send': 4176, 'animal': 178, 'gitmo': 1967, 'starting': 4462, 'process': 3604, 'rid': 3964, 'chuck': 818, 'diversity': 1380, 'lottery': 2778, 'nyc': 3182, 'hello': 2169, 'neighbor': 3116, 'clooney': 867, 'begged': 420, 'border': 554, 'erected': 1580, 'yard': 5204, 'wish': 5158, 'south': 4388, 'civil': 830, 'finding': 1782, 'tennessee': 4670, 'foolish': 1840, 'travel': 4805, 'unfounded': 4909, 'moral': 3041, 'judgment': 2515, 'rowe': 4021, 'nationalist': 3101, 'buh': 632, 'bye': 668, 'glenn': 1974, 'beck': 411, 'final': 1775, 'coffin': 890, 'mayor': 2884, 'de': 1177, 'blasio': 500, 'putting': 3689, 'safety': 4052, 'okay': 3223, 'protect': 3643, 'drunk': 1444, 'driver': 1435, 'tried': 4821, 'claw': 849, 'refuse': 3815, 'resign': 3908, 'leak': 2662, 'ground': 2041, 'pulp': 3671, 'crush': 1112, 'apologizes': 205, 'raped': 3752, 'sociopath': 4361, 'method': 2937, 'predicted': 3545, 'every': 1608, 'modern': 3011, 'screwed': 4129, 'fire': 1788, 'acting': 42, 'attorney': 295, 'sally': 4058, 'yates': 5205, 'begging': 421, 'approve': 224, 'scotus': 4119, 'pick': 3434, 'charlottesville': 781, 'kkk': 2576, 'endorsed': 1546, 'flow': 1830, 'citizen': 827, 'devise': 1305, 'controversial': 1019, 'scheme': 4106, 'soar': 4355, 'michigan': 2945, 'cake': 676, 'international': 2411, 'company': 938, 'luring': 2792, 'illegals': 2311, 'buy': 665, 'meat': 2896, 'pas': 3348, 'popcorn': 3505, 'incensed': 2340, 'biden': 467, 'gold': 1989, 'star': 4457, 'forced': 1846, 'cancel': 694, 'canada': 692, 'privilege': 3593, 'reviewed': 3950, 'expose': 1659, 'phony': 3425, 'went': 5112, 'low': 2784, 'blm': 511, 'dem': 1242, 'hang': 2105, 'hating': 2142, 'art': 252, 'work': 5176, 'capitol': 702, 'building': 634, 'crushed': 1113, 'living': 2748, 'sold': 4363, 'lung': 2791, 'advise': 69, 'admin': 58, 'healthy': 2152, 'birth': 482, 'con': 953, 'stole': 4493, 'potter': 3529, 'sympathy': 4604, 'plow': 3477, 'wall': 5055, 'texan': 4687, 'notice': 3168, 'sell': 4170, 'land': 2616, 'taken': 4619, 'rogue': 4004, 'cowardly': 1073, 'dangerous': 1162, 'volunteer': 5032, 'creepy': 1087, 'loyalty': 2786, 'pledge': 3474, 'totalitarian': 4768, 'asian': 259, 'turn': 4855, 'table': 4611, 'racial': 3715, 'sununu': 4559, 'bother': 561, 'hiring': 2199, 'blatantly': 505, 'biased': 464, 'molester': 3019, 'jesse': 2486, 'jackson': 2460, 'damned': 1154, 'corruption': 1048, 'nbc': 3106, 'beating': 406, 'humiliated': 2262, 'tv': 4861, 'display': 1366, 'incompetence': 2348, 'brutalized': 625, 'lawsuit': 2652, 'city': 829, 'jose': 2510, 'forward': 1863, 'slapped': 4317, 'mississippi': 2990, 'digustingly': 1320, 'bigoted': 471, 'iraqi': 2434, 'pm': 3480, 'rebuff': 3777, 'decree': 1207, 'shia': 4236, 'militia': 2962, 'country': 1060, 'sara': 4072, 'carter': 723, 'gem': 1939, 'evidence': 1614, 'collusion': 903, 'hacking': 2081, 'heckle': 2163, 'podesta': 3482, 'evan': 1602, 'mcmullin': 2892, 'ball': 352, 'contributor': 1016, 'mention': 2928, 'slush': 4331, 'turned': 4857, 'accepting': 19, 'bruce': 619, 'jenner': 2479, 'came': 686, 'cancer': 696, 'conflict': 979, 'made': 2807, 'possible': 3518, 'jail': 2462, 'disrupting': 1374, 'begs': 423, 'press': 3562, 'conference': 972, 'please': 3473, 'box': 566, 'bomb': 539, 'rogan': 4002, 'tweeted': 4863, 'ck': 832, 'boycotting': 569, 'steve': 4483, 'movie': 3059, 'orrin': 3267, 'hatch': 2137, 'dems': 1252, 'posturing': 3525, 'idiot': 2297, 'ep': 1567, 'patrick': 3361, 'madness': 2808, 'guest': 2056, 'robert': 3995, 'parry': 3341, 'stopped': 4499, 'huge': 2255, 'riot': 3975, 'apartment': 201, 'punished': 3677, 'telling': 4665, 'radical': 3719, 'tearing': 4653, 'monument': 3035, 'orchestrated': 3255, 'hack': 2078, 'stonewalling': 4497, 'payment': 3370, 'legal': 2682, 'blogger': 518, 'whine': 5119, 'mommy': 3022, 'critic': 1094, 'manager': 2840, 'electoral': 1503, 'system': 4608, 'pin': 3446, 'speech': 4404, 'kidnapped': 2563, 'killed': 2565, 'voted': 5035, 'uber': 4870, 'multiple': 3071, 'include': 2342, 'transgender': 4798, 'curriculum': 1136, 'gender': 1941, 'sunni': 4558, 'represent': 3885, 'value': 4976, 'stunned': 4526, 'green': 2028, 'beret': 442, 'widow': 5137, 'scary': 4100, 'excuse': 1628, 'hundred': 2266, 'storm': 4502, 'citizenship': 828, 'wtf': 5196, 'paying': 3368, 'leaked': 2663, 'document': 1389, 'affect': 76, 'outcome': 3278, 'around': 242, 'weird': 5107, 'yankovic': 5203, 'relives': 3847, 'third': 4706, 'compare': 939, 'heroic': 2177, 'track': 4784, 'violently': 5016, 'jewish': 2491, 'yes': 5210, 'santorum': 4071, 'google': 1998, 'despite': 1285, 'frothy': 1893, 'definition': 1226, 'dumbest': 1455, 'totally': 4769, 'bristol': 603, 'palin': 3317, 'graduate': 2014, 'harvard': 2130, 'roasting': 3991, 'bathroom': 395, 'set': 4199, 'carolina': 717, 'mode': 3006, 'wake': 5051, 'minnesota': 2975, 'speak': 4398, 'caucus': 736, 'brutally': 626, 'toronto': 4764, 'imam': 2317, 'implement': 2328, 'sharia': 4227, 'broke': 611, 'list': 2739, 'entering': 1559, 'treated': 4809, 'hitler': 2206, 'describes': 1277, 'receiving': 3785, 'code': 888, 'answer': 189, 'inciting': 2341, 'following': 1836, 'daca': 1146, 'done': 1402, 'jeff': 2477, 'session': 4198, 'explain': 1648, 'harmed': 2123, 'surprise': 4573, 'rated': 3758, 'targeted': 4640, 'equal': 1572, 'amendment': 154, 'expected': 1640, 'cuba': 1120, 'sponsor': 4422, 'issue': 2452, 'boy': 567, 'scout': 4120, 'love': 2781, 'jamboree': 2465, 'jeanine': 2473, 'pirro': 3449, 'hypocrisy': 2281, 'opening': 3237, 'deported': 1269, 'belonged': 435, 'brutal': 624, 'releasing': 3841, 'wanted': 5059, 'trumpchicken': 4837, 'trending': 4813, 'rioter': 3976, 'sore': 4380, 'loser': 2772, 'gathered': 1933, 'tim': 4736, 'tebow': 4654, 'effort': 1491, 'ignites': 2301, 'rumor': 4034, 'brace': 572, 'mistrial': 2993, 'declared': 1203, 'freddie': 1881, 'gray': 2026, 'freshman': 1887, 'orientation': 3264, 'math': 2877, 'basketball': 391, 'insanity': 2389, 'eviscerates': 1616, 'rabid': 3712, 'accusation': 30, 'past': 3355, 'crazed': 1080, 'camera': 687, 'leg': 2681, 'walmart': 5057, 'tomato': 4753, 'ambassador': 151, 'samantha': 4062, 'unmasked': 4931, 'associate': 278, 'episode': 1571, 'sunday': 4557, 'wire': 5154, 'hesher': 2178, 'funk': 1913, 'oul': 3275, 'iraq': 2433, 'actress': 48, 'rose': 4015, 'mcgowan': 2889, 'enablers': 1535, 'op': 3233, 'ed': 1484, 'france': 1873, 'interior': 2409, 'minister': 2973, 'marksman': 2863, 'shouting': 4255, 'allahu': 127, 'akbar': 111, 'female': 1751, 'butcher': 663, 'knife': 2584, 'ambition': 152, 'dog': 1392, 'cosmopolitan': 1049, 'bias': 463, 'liar': 2707, 'air': 104, 'outlet': 3281, 'fakenews': 1704, 'mcmaster': 2891, 'piece': 3438, 'whyimnotvotingforhillary': 5134, 'vicente': 5000, 'cking': 834, 'convince': 1025, 'promise': 3620, 'exclusive': 1627, 'delegate': 1231, 'fled': 1814, 'boiler': 535, 'room': 4013, 'downtown': 1413, 'loss': 2775, 'arizona': 233, 'unfair': 4906, 'unveils': 4943, 'despicable': 1284, 'hawaiian': 2145, 'hammered': 2094, 'negative': 3112, 'banning': 370, 'rule': 4030, 'religious': 3846, 'freedom': 1884, 'memorial': 2921, 'alan': 114, 'dershowitz': 1275, 'ruling': 4032, 'issued': 2453, 'upheld': 4948, 'administration': 59, 'aim': 101, 'unlike': 4927, 'broken': 612, 'iowa': 2429, 'toll': 4751, 'community': 936, 'cry': 1116, 'milwaukee': 2966, 'ago': 92, 'brave': 579, 'grab': 2010, 'microphone': 2946, 'climate': 860, 'awful': 319, 'maxine': 2882, 'sure': 4568, 'poor': 3503, 'branded': 577, 'chickensh': 796, 'bolt': 538, 'briefing': 596, 'tea': 4646, 'handed': 2098, 'reverse': 3948, 'jake': 2464, 'tapper': 4637, 'denies': 1255, 'mass': 2870, 'happened': 2111, 'credit': 1086, 'sauce': 4080, 'withdraws': 5165, 'theft': 4699, 'deplorable': 1266, 'example': 1621, 'unacknowledged': 4882, 'project': 3617, 'budget': 629, 'industrial': 2364, 'complex': 947, 'libs': 2713, 'nut': 3179, 'couch': 1051, 'oval': 3287, 'probably': 3596, 'forgot': 1854, 'pic': 3433, 'asap': 255, 'biggest': 470, 'ups': 4953, 'director': 1330, 'firing': 1795, 'long': 2761, 'overdue': 3290, 'church': 819, 'magic': 2814, 'takei': 4618, 'woodshed': 5173, 'colluding': 902, 'ky': 2604, 'speaker': 4399, 'crushing': 1114, 'defeat': 1215, 'pull': 3669, 'remember': 3856, 'funny': 1915, 'hero': 2176, 'peace': 3374, 'prize': 3594, 'arm': 235, 'since': 4286, 'warns': 5070, 'holiday': 2212, 'disguise': 1355, 'kennedy': 2547, 'torch': 4762, 'screwing': 4130, 'income': 2346, 'turncoat': 4856, 'rank': 3743, 'stolen': 4494, 'mega': 2911, 'donor': 1405, 'ditch': 1378, 'scathing': 4101, 'dumb': 1452, 'as': 254, 'detroit': 1298, 'squatting': 4435, 'squatter': 4434, 'loudly': 2779, 'realize': 3772, 'drag': 1418, 'queen': 3698, 'interviewing': 2417, 'minion': 2972, 'julian': 2517, 'assange': 266, 'exploit': 1654, 'raise': 3726, 'levin': 2702, 'planted': 3463, 'seed': 4157, 'iii': 2307, 'eye': 1677, 'latino': 2632, 'held': 2165, 'mirror': 2979, 'becomes': 413, 'villian': 5012, 'created': 1083, 'squad': 4433, 'offended': 3208, 'faith': 1702, 'politico': 3495, 'suggests': 4548, 'remorse': 3862, 'malcolm': 2829, 'nance': 3092, 'wipe': 5153, 'floor': 1827, 'overtime': 3297, 'immigration': 2321, 'roast': 3989, 'throwing': 4720, 'snl': 4351, 'fueled': 1901, 'manhood': 2844, 'fails': 1695, 'miserably': 2981, 'adviser': 70, 'severs': 4208, 'tie': 4729, 'timeless': 4738, 'thanksgiving': 4698, 'address': 56, 'ronald': 4011, 'reagan': 3769, 'measure': 2895, 'gratitude': 2023, 'rededicate': 3803, 'preservation': 3557, 'free': 1882, 'congressional': 988, 'stuns': 4528, 'detractor': 1297, 'stock': 4491, 'market': 2862, 'obliterates': 3192, 'biker': 473, 'car': 706, 'purpose': 3683, 'escalates': 1586, 'masturbating': 2874, 'defecating': 1217, 'shower': 4258, 'locker': 2755, 'crackdown': 1076, 'violate': 5013, 'progressive': 3615, 'losing': 2774, 'stab': 4441, 'german': 1951, 'extremist': 1675, 'folk': 1834, 'protecting': 3645, 'concentrated': 957, 'satanic': 4078, 'kushner': 2602, 'asset': 273, 'disclosure': 1343, 'item': 2455, 'discovered': 1345, 'stirred': 4490, 'fully': 1904, 'scientist': 4112, 'harvesting': 2132, 'organ': 3259, 'creating': 1084, 'embryo': 1525, 'loose': 2767, 'dared': 1165, 'mooch': 3036, 'welcome': 5108, 'airhead': 106, 'stuffed': 4524, 'armadillo': 236, 'disproves': 1367, 'litmus': 2744, 'test': 4682, 'diva': 1379, 'beyonce': 460, 'easter': 1475, 'hunt': 2272, 'playboy': 3467, 'bunny': 644, 'style': 4530, 'attention': 293, 'starved': 4463, 'gas': 1930, 'bag': 340, 'sheila': 4232, 'lee': 2677, 'kneel': 2581, 'card': 708, 'eric': 1581, 'garner': 1928, 'backing': 332, 'strategy': 4507, 'toddler': 4747, 'standby': 4454, 'passenger': 3352, 'linda': 2733, 'sarsour': 4074, 'considers': 997, 'self': 4168, 'righteous': 3970, 'save': 4082, 'fish': 1798, 'fisherman': 1799, 'harassing': 2117, 'voldemort': 5031, 'perfect': 3394, 'multi': 3070, 'pharma': 3418, 'popular': 3507, 'dr': 1415, 'drew': 1430, 'viewer': 5009, 'gravely': 2025, 'concerned': 959, 'relationship': 3836, 'lead': 2658, 'scandal': 4094, 'moderator': 3010, 'appointing': 218, 'textbook': 4690, 'common': 931, 'core': 1036, 'grade': 2012, 'socialist': 4359, 'millennial': 2963, 'magnet': 2815, 'reminds': 3861, 'tapping': 4638, 'rival': 3983, 'sec': 4145, 'bashing': 387, 'defending': 1221, 'local': 2751, 'passing': 3353, 'impeach': 2325, 'survivor': 4581, 'threw': 4717, 'inaugural': 2338, 'tradition': 4787, 'window': 5149, 'fishy': 1800, 'hour': 2243, 'gift': 1960, 'uranium': 4955, 'shipment': 4239, 'develops': 1302, 'missile': 2987, 'spent': 4410, 'searching': 4141, 'cash': 726, 'chelsea': 789, 'paul': 3364, 'ryan': 4043, 'wildly': 5143, 'unpopular': 4933, 'uncensored': 4888, 'elite': 1509, 'total': 4767, 'nine': 3151, 'reveal': 3942, 'easing': 1473, 'end': 1541, 'nancy': 3093, 'pelosi': 3380, 'food': 1838, 'senior': 4178, 'shaquille': 4225, 'neal': 3107, 'earth': 1470, 'flat': 1811, 'guzzling': 2074, 'plane': 3460, 'sightseeing': 4275, 'global': 1976, 'warming': 5064, 'heritage': 2175, 'foundation': 1866, 'dc': 1176, 'shutting': 4266, 'employee': 1534, 'zuckerberg': 5235, 'responsibility': 3922, 'concealed': 954, 'permit': 3401, 'beef': 417, 'jerky': 2483, 'chew': 792, 'direct': 1327, 'appeal': 211, 'nevada': 3130, 'saturday': 4079, 'critical': 1095, 'speaks': 4400, 'controversy': 1020, 'panicking': 3323, 'introduce': 2419, 'probe': 3598, 'pissed': 3450, 'maine': 2819, 'poke': 3486, 'beautiful': 408, 'gary': 1929, 'amnesty': 160, 'tpp': 4783, 'operative': 3240, 'vp': 5039, 'ranting': 3749, 'accidentally': 23, 'claimed': 837, 'unless': 4925, 'scrooge': 4132, 'waiting': 5049, 'santa': 4069, 'exist': 1636, 'desegregates': 1279, 'assembly': 272, 'redneck': 3804, 'bath': 394, 'salt': 4059, 'dept': 1271, 'grant': 2020, 'immunity': 2323, 'staffer': 4444, 'mail': 2817, 'server': 4194, 'future': 1917, 'bless': 507, 'whoever': 5129, 'photoshopping': 3428, 'onto': 3231, 'sellout': 4172, 'buck': 627, 'night': 3149, 'making': 2826, 'fun': 1906, 'assaulting': 271, 'deep': 1210, 'wiretapping': 5156, 'true': 4833, 'steel': 4473, 'furious': 1916, 'destroying': 1289, 'dedicated': 1208, 'krugman': 2596, 'share': 4226, 'damning': 1155, 'publication': 3663, 'urge': 4957, 'protesting': 3649, 'infamous': 2366, 'romanian': 4009, 'hacker': 2080, 'easy': 1477, 'klan': 2577, 'endorsement': 1547, 'generates': 1943, 'newspaper': 3136, 'rock': 3999, 'deadbeat': 1179, 'almighty': 139, 'strength': 4510, 'lost': 2776, 'king': 2572, 'mi': 2940, 'concert': 960, 'newt': 3137, 'gingrich': 1964, 'influence': 2369, 'fitting': 1803, 'communist': 935, 'jeep': 2476, 'carrying': 721, 'castro': 729, 'ash': 257, 'pushed': 3685, 'terrified': 4675, 'happening': 2112, 'potential': 3527, 'sensitive': 4179, 'information': 2374, 'stupid': 4529, 'highly': 2190, 'anticipated': 193, 'thanks': 4697, 'inside': 2390, 'client': 859, 'coverup': 1071, 'potentially': 3528, 'deception': 1195, 'glitch': 1975, 'stephen': 4481, 'colbert': 893, 'vulgar': 5041, 'even': 1605, 'firecolbert': 1790, 'affords': 80, 'mansion': 2848, 'confirmed': 976, 'trick': 4819, 'obstruct': 3200, 'create': 1082, 'step': 4479, 'privatizing': 3592, 'nypd': 3183, 'threaten': 4712, 'tase': 4642, 'walking': 5054, 'fill': 1771, 'leadership': 2660, 'abandoned': 1, 'parade': 3329, 'ruined': 4029, 'brownface': 618, 'coal': 883, 'miner': 2969, 'cheer': 785, 'mine': 2968, 'debating': 1189, 'store': 4501, 'incoming': 2347, 'deputy': 1272, 'reopening': 3870, 'lobbying': 2750, 'legally': 2686, 'fly': 1831, 'luxurious': 2795, 'dropped': 1440, 'hear': 2153, 'criticize': 1098, 'permanently': 3400, 'christie': 814, 'ballistic': 354, 'selfish': 4169, 'dotard': 1409, 'effect': 1489, 'robinson': 3997, 'basil': 390, 'valentine': 4974, 'legend': 2687, 'bobby': 530, 'knight': 2585, 'felt': 1750, 'slave': 4320, 'option': 3251, 'fainting': 1697, 'spell': 4407, 'odor': 3207, 'failure': 1696, 'youth': 5218, 'pimp': 3444, 'dan': 1156, 'bongino': 545, 'kellog': 2544, 'backfire': 330, 'spectacularly': 4403, 'advertiser': 67, 'flee': 1815, 'em': 1513, 'lefty': 2680, 'gallery': 1921, 'narrated': 3095, 'torture': 4766, 'scalping': 4091, 'mentally': 2927, 'disabled': 1333, 'sentence': 4181, 'teacher': 4648, 'developing': 1300, 'feature': 1739, 'promote': 3623, 'handpicked': 2102, 'reminder': 3859, 'elephant': 1507, 'zoo': 5233, 'author': 305, 'appointed': 217, 'clear': 854, 'limbo': 2730, 'airport': 108, 'due': 1449, 'previously': 3572, 'comply': 948, 'record': 3793, 'manipulated': 2845, 'sanctuary': 4066, 'bee': 416, 'evangelicals': 1603, 'obsessing': 3196, 'defense': 1223, 'wait': 5048, 'enforcement': 1553, 'agency': 89, 'passed': 3351, 'uniformed': 4914, 'champ': 765, 'bust': 660, 'wh': 5116, 'snowflake': 4353, 'meltdown': 2917, 'spill': 4414, 'bean': 403, 'saudi': 4081, 'fortune': 1861, 'donates': 1400, 'yale': 5201, 'center': 753, 'squeaky': 4436, 'poster': 3522, 'buried': 648, 'cointel': 891, 'fascist': 1726, 'personality': 3406, 'gangsta': 1924, 'shakedown': 4218, 'giant': 1957, 'mortgage': 3046, 'quicken': 3703, 'loan': 2749, 'stand': 4452, 'looking': 2765, 'recount': 3795, 'nullify': 3175, 'wi': 5135, 'pa': 3304, 'scalia': 4089, 'pressured': 3565, 'glove': 1982, 'domestic': 1396, 'vicious': 5001, 'donna': 1403, 'brazile': 582, 'karl': 2529, 'rove': 4019, 'slavery': 4321, 'instead': 2395, 'blaming': 498, 'hole': 2211, 'christiandom': 812, 'revealed': 3943, 'chilcot': 798, 'spokesperson': 4420, 'upset': 4954, 'lack': 2610, 'pure': 3681, 'breed': 589, 'crybaby': 1117, 'katie': 2534, 'danforth': 1160, 'killer': 2566, 'assistant': 277, 'id': 2291, 'religion': 3845, 'bern': 447, 'walked': 5053, 'eve': 1604, 'phil': 3421, 'robertson': 3996, 'pill': 3442, 'expensive': 1644, 'india': 2356, 'agenda': 90, 'labor': 2608, 'prostitution': 3642, 'audio': 297, 'kerry': 2552, 'discussing': 1351, 'connection': 991, 'discus': 1349, 'whoopi': 5131, 'goldberg': 1990, 'surprised': 4574, 'warmongering': 5065, 'kimberly': 2569, 'guilfoyle': 2059, 'serious': 4192, 'surround': 4578, 'rachel': 3714, 'maddow': 2806, 'nra': 3170, 'commercial': 922, 'melt': 2916, 'brain': 575, 'zakharova': 5223, 'pompeo': 3501, 'fiction': 1759, 'dy': 1465, 'hotel': 2241, 'blood': 520, 'boil': 534, 'melania': 2914, 'wear': 5093, 'lbd': 2656, 'reception': 3786, 'smirk': 4341, 'consequence': 993, 'nj': 3153, 'resource': 3916, 'shall': 4220, 'assist': 275, 'baseball': 384, 'watermelon': 5085, 'eatin': 1479, 'baboon': 325, 'computer': 952, 'worldwide': 5181, 'caused': 739, 'assad': 265, 'also': 144, 'ugly': 4873, 'confronts': 981, 'sympathizer': 4603, 'corner': 1040, 'congratulation': 986, 'played': 3468, 'convicted': 1024, 'felon': 1749, 'dinesh': 1321, 'souza': 4390, 'film': 1773, 'happy': 2113, 'grader': 2013, 'skill': 4306, 'light': 2724, 'joint': 2503, 'pot': 3526, 'legalization': 2683, 'silent': 4280, 'thanking': 4696, 'might': 2952, 'sidewalk': 4272, 'dealmaker': 1182, 'visited': 5025, 'brand': 576, 'mormon': 3042, 'fundamentalist': 1908, 'escaped': 1588, 'cult': 1123, 'prevent': 3570, 'extracting': 1668, 'berkeley': 444, 'allegedly': 130, 'expert': 1647, 'circuit': 822, 'politics': 3496, 'solid': 4366, 'actual': 49, 'kidding': 2562, 'decide': 1197, 'topless': 4761, 'eliminate': 1508, 'confusion': 984, 'yea': 5206, 'spouting': 4427, 'gim': 1963, 'sheriff': 4235, 'bullied': 638, 'immigrant': 2320, 'apply': 215, 'lawbreaker': 2648, 'payback': 3367, 'paris': 3337, 'shocked': 4242, 'little': 2745, 'understand': 4899, 'bloodbath': 521, 'replacement': 3879, 'physically': 3431, 'independent': 2355, 'hq': 2250, 'institutional': 2396, 'believing': 434, 'obamatrade': 3190, 'later': 2628, 'deranged': 1273, 'cross': 1104, 'targeting': 4641, 'barron': 381, 'mockingbird': 3005, 'declassified': 1205, 'doc': 1387, 'depict': 1264, 'deeper': 1212, 'link': 2736, 'maury': 2881, 'cked': 833, 'caption': 704, 'broadcast': 610, 'mohammed': 3016, 'blasted': 502, 'anyone': 195, 'trust': 4843, 'prop': 3630, 'pollution': 3499, 'unrestricted': 4939, 'argument': 232, 'full': 1902, 'refund': 3814, 'nsa': 3171, 'warrantless': 5072, 'collection': 897, 'alinsky': 124, 'populist': 3510, 'movement': 3058, 'catching': 734, 'globalist': 1977, 'swiss': 4599, 'situation': 4298, 'scarier': 4099, 'promising': 3622, 'second': 4146, 'faced': 1687, 'admitting': 63, 'private': 3591, 'position': 3516, 'gush': 2070, 'monologue': 3029, 'undermine': 4895, 'current': 1135, 'refusing': 3817, 'visitor': 5026, 'log': 2758, 'middle': 2949, 'organizes': 3263, 'map': 2852, 'headed': 2148, 'landslide': 2617, 'comeback': 911, 'trolled': 4827, 'uproar': 4952, 'trey': 4815, 'gowdy': 2009, 'guilty': 2061, 'drink': 1433, 'poison': 3485, 'crappier': 1077, 'lgbt': 2705, 'discrimination': 1348, 'martial': 2867, 'whistleblowing': 5126, 'failed': 1694, 'hostage': 2238, 'rescue': 3899, 'quietly': 3706, 'kicked': 2559, 'stewart': 4484, 'omarosa': 3228, 'scrubbed': 4134, 'resurfaces': 3931, 'confiscated': 978, 'property': 3632, 'wwii': 5198, 'hung': 2267, 'haiti': 2087, 'dreadlock': 1425, 'tip': 4741, 'iceberg': 2287, 'replaced': 3878, 'representing': 3888, 'struggle': 4519, 'equality': 1573, 'admiral': 60, 'oversaw': 3294, 'bin': 478, 'laden': 2611, 'reaction': 3765, 'cubby': 1122, 'series': 4191, 'deplorables': 1267, 'monstrous': 3032, 'growing': 2045, 'stump': 4525, 'fool': 1839, 'shocker': 4243, 'overwhelmingly': 3300, 'sound': 4386, 'genius': 1945, 'sebastian': 4144, 'gorka': 2002, 'humiliates': 2263, 'pen': 3382, 'letter': 2699, 'explaining': 1651, 'exactly': 1619, 'footage': 1842, 'oakland': 3186, 'bullying': 640, 'openly': 3238, 'pentagon': 3389, 'request': 3894, 'denied': 1253, 'armed': 238, 'recruitment': 3800, 'hypocritical': 2283, 'alabama': 113, 'booted': 552, 'preacher': 3542, 'severely': 4207, 'tolerant': 4750, 'seattle': 4143, 'pride': 3577, 'vaccination': 4973, 'vaxxers': 4981, 'worst': 5184, 'sassy': 4076, 'switch': 4600, 'male': 2830, 'hairstyle': 2086, 'belonging': 436, 'culture': 1125, 'yikes': 5214, 'blue': 525, 'electronics': 1505, 'flight': 1820, 'east': 1474, 'affected': 77, 'ripped': 3979, 'london': 2760, 'absurdly': 13, 'abraham': 9, 'lincoln': 2732, 'banner': 369, 'dining': 1322, 'fearing': 1737, 'crossing': 1105, 'vu': 5040, 'matthew': 2879, 'richer': 3961, 'original': 3265, 'painting': 3313, 'sierra': 4274, 'sustainable': 4589, 'population': 3508, 'inner': 2384, 'circle': 821, 'desperately': 1283, 'reputation': 3893, 'discriminate': 1347, 'examiner': 1620, 'music': 3079, 'icon': 2289, 'gym': 2076, 'peterson': 3411, 'incredible': 2352, 'council': 1055, 'santilli': 4070, 'freed': 1883, 'plea': 3471, 'pact': 3308, 'cast': 728, 'shadow': 4215, 'trial': 4816, 'default': 1214, 'debt': 1191, 'print': 3586, 'theory': 4701, 'everything': 1611, 'rating': 3760, 'crasher': 1079, 'platform': 3465, 'dislike': 1359, 'warned': 5068, 'rich': 3960, 'murderer': 3076, 'abruptly': 11, 'ended': 1543, 'dominican': 1398, 'alec': 118, 'baldwin': 350, 'worse': 5183, 'shape': 4224, 'found': 1865, 'account': 26, 'confused': 982, 'afternoon': 86, 'term': 4672, 'limit': 2731, 'bewilder': 458, 'delusion': 1240, 'charity': 777, 'sickening': 4269, 'lecture': 2675, 'manufactured': 2849, 'exemption': 1632, 'helicopter': 2166, 'crash': 1078, 'arabia': 228, 'ranking': 3745, 'dozen': 1414, 'member': 2918, 'elementary': 1506, 'field': 1761, 'angel': 170, 'protected': 3644, 'pizzagate': 3454, 'whether': 5118, 'follow': 1835, 'mexican': 2938, 'giveaway': 1970, 'screen': 4125, 'unclassified': 4889, 'quid': 3705, 'quo': 3709, 'intent': 2405, 'todd': 4746, 'opposition': 3247, 'politically': 3492, 'petty': 3414, 'daily': 1148, 'sotu': 4383, 'ambush': 153, 'deliberate': 1234, 'prevented': 3571, 'massacre': 2872, 'listened': 2742, 'marine': 2860, 'ptsd': 3661, 'behavior': 427, 'blight': 509, 'lasvegas': 2626, 'correct': 1046, 'illustrate': 2313, 'diplomacy': 1323, 'hold': 2208, 'sit': 4295, 'lunch': 2790, 'fix': 1805, 'bigotry': 472, 'successfully': 4539, 'covering': 1070, 'fault': 1731, 'died': 1315, 'singer': 4288, 'kaya': 2535, 'jones': 2508, 'jason': 2471, 'aldean': 117, 'jill': 2494, 'stein': 4475, 'device': 1303, 'thousand': 4710, 'fairly': 1700, 'accurate': 29, 'cartoon': 724, 'harriet': 2126, 'tubman': 4848, 'drive': 1434, 'exterminating': 1665, 'ssy': 4439, 'zealand': 5225, 'prime': 3582, 'gate': 1931, 'unlimited': 4929, 'slash': 4318, 'dos': 1407, 'bogus': 533, 'cultural': 1124, 'intelligence': 2404, 'committee': 929, 'schiff': 4107, 'sorry': 4382, 'nothing': 3167, 'pummel': 3673, 'closely': 870, 'tied': 4730, 'watchdog': 5080, 'complying': 949, 'treaty': 4811, 'side': 4270, 'bloc': 513, 'follows': 1837, 'turkey': 4852, 'commie': 923, 'abandon': 0, 'aka': 110, 'wilhelm': 5145, 'touch': 4770, 'root': 4014, 'asst': 280, 'jim': 2495, 'danced': 1158, 'glad': 1972, 'bb': 400, 'surprising': 4575, 'announcement': 184, 'serve': 4193, 'sony': 4376, 'borat': 553, 'actor': 47, 'aid': 98, 'scarborough': 4096, 'sued': 4542, 'rat': 3757, 'stealing': 4472, 'meant': 2894, 'biological': 480, 'plumbing': 3479, 'match': 2875, 'abc': 2, 'shuts': 4265, 'allen': 131, 'standing': 4455, 'walk': 5052, 'commencement': 918, 'energy': 1552, 'secretary': 4149, 'stopping': 4500, 'marco': 2857, 'rubio': 4025, 'deciding': 1199, 'performance': 3397, 'chef': 788, 'inspector': 2391, 'investigate': 2421, 'pre': 3541, 'half': 2088, 'household': 2245, 'snatching': 4350, 'utah': 4969, 'rancher': 3739, 'giggle': 1961, 'nervously': 3123, 'met': 2934, 'prayed': 3539, 'park': 3338, 'takeoff': 4620, 'robotic': 3998, 'overly': 3292, 'scripted': 4131, 'smaller': 4335, 'small': 4334, 'insult': 2397, 'pandering': 3320, 'southern': 4389, 'accent': 17, 'memphis': 2923, 'dear': 1184, 'moron': 3045, 'seem': 4161, 'nato': 3103, 'educate': 1488, 'china': 802, 'ignorance': 2302, 'shop': 4249, 'target': 4639, 'trevor': 4814, 'noah': 3155, 'dropkick': 1439, 'jackass': 2459, 'brussel': 622, 'bombing': 541, 'hater': 2141, 'ramos': 3733, 'promotes': 3625, 'vigilante': 5010, 'dishonest': 1358, 'accountable': 28, 'arbitrary': 229, 'criterion': 1093, 'deny': 1260, 'lot': 2777, 'weekly': 5102, 'palm': 3318, 'beach': 402, 'qualify': 3696, 'otherwise': 3272, 'mayoral': 2885, 'disarm': 1337, 'unarmed': 4885, 'large': 2623, 'ran': 3737, 'stamp': 4450, 'ring': 3973, 'interrupt': 2414, 'accuse': 31, 'collapse': 896, 'dick': 1312, 'sends': 4177, 'seven': 4204, 'guardsman': 2051, 'resigned': 3910, 'biting': 489, 'stripper': 4516, 'whiner': 5120, 'wonderful': 5172, 'flynn': 1832, 'tape': 4635, 'infiltrate': 2368, 'disrupt': 1373, 'except': 1624, 'malia': 2833, 'rehash': 3826, 'rivalry': 3984, 'hysteria': 2284, 'recused': 3801, 'age': 88, 'transcript': 4796, 'gif': 1959, 'perfectly': 3395, 'sum': 4553, 'arresting': 245, 'prosecuting': 3637, 'militant': 2959, 'identity': 2296, 'stone': 4496, 'mountain': 3053, 'wonder': 5171, 'screaming': 4124, 'butt': 664, 'rioting': 3977, 'assistance': 276, 'unvetted': 4944, 'unserious': 4942, 'pathetic': 3359, 'analysis': 165, 'development': 1301, 'terrifyingly': 4676, 'tougher': 4772, 'mileage': 2957, 'pout': 3532, 'crow': 1107, 'emily': 1528, 'blunt': 526, 'dixie': 1385, 'chicked': 795, 'committed': 928, 'treason': 4807, 'mcafee': 2886, 'smartphones': 4338, 'bitcoin': 488, 'slain': 4312, 'seal': 4138, 'botched': 560, 'yemen': 5209, 'raid': 3722, 'ethiopian': 1593, 'monster': 3031, 'performing': 3398, 'clitorectomy': 863, 'scissors': 4113, 'irony': 2439, 'serving': 4196, 'redskin': 3805, 'supremacist': 4566, 'punched': 3675, 'mad': 2804, 'forcing': 1847, 'fruit': 1895, 'veggie': 4983, 'throat': 4718, 'mattis': 2880, 'fiery': 1762, 'korea': 2592, 'destruction': 1291, 'bat': 393, 'misspelled': 2991, 'budweiser': 630, 'fatal': 1729, 'bureau': 645, 'hiroshima': 2200, 'pearl': 3377, 'harbor': 2119, 'doctor': 1388, 'tear': 4651, 'apart': 200, 'division': 1383, 'plagiarizing': 3457, 'chanting': 772, 'lock': 2753, 'flashback': 1810, 'vacation': 4972, 'blister': 510, 'representation': 3886, 'construction': 1001, 'fl': 1807, 'scott': 4117, 'va': 4971, 'exasperated': 1622, 'anderson': 169, 'cooper': 1031, 'commentary': 920, 'opener': 3236, 'childishly': 800, 'breath': 588, 'lash': 2624, 'sacred': 4048, 'wtc': 5195, 'shout': 4254, 'tank': 4631, 'montel': 3033, 'publicly': 3665, 'oblivion': 3193, 'lately': 2627, 'homicide': 2219, 'mostly': 3049, 'criminal': 1091, 'jump': 2519, 'per': 3391, 'strategist': 4506, 'solution': 4368, 'settled': 4202, 'roasted': 3990, 'alive': 125, 'horrible': 2233, 'pedophile': 3379, 'milo': 2965, 'yiannopoulos': 5213, 'county': 1061, 'benefit': 439, 'scrub': 4133, 'delivered': 1236, 'lt': 2788, 'tony': 4757, 'shaffer': 4216, 'uncovered': 4892, 'scam': 4092, 'housing': 2247, 'bank': 363, 'continue': 1009, 'punish': 3676, 'wealthy': 5091, 'wanting': 5060, 'hawaii': 2144, 'cost': 1050, 'alone': 141, 'chick': 794, 'fil': 1767, 'persecution': 3403, 'launch': 2639, 'refugeeswelcome': 3813, 'anthony': 191, 'weiner': 5105, 'kinky': 2573, 'brunette': 621, 'saved': 4083, 'crack': 1075, 'testify': 4684, 'overdrive': 3289, 'clarke': 843, 'tenant': 4669, 'evicted': 1613, 'dire': 1326, 'cover': 1068, 'regarding': 3818, 'divisive': 1384, 'goper': 2000, 'receives': 3784, 'many': 2851, 'whining': 5121, 'convention': 1022, 'suffered': 4544, 'unelectable': 4904, 'simple': 4283, 'investigator': 2423, 'van': 4977, 'conversation': 1023, 'possibility': 3517, 'vicar': 4998, 'reach': 3762, 'exit': 1637, 'accord': 25, 'bannon': 371, 'pant': 3324, 'snap': 4348, 'football': 1843, 'identifies': 2294, 'anyonebuthillary': 196, 'wile': 5144, 'coyote': 1074, 'murdered': 3075, 'scrutiny': 4135, 'initiative': 2378, 'dumped': 1457, 'exxon': 1676, 'mobil': 3002, 'pop': 3504, 'profanity': 3610, 'pretty': 3569, 'smile': 4340, 'october': 3204, 'seizure': 4166, 'near': 3108, 'area': 230, 'incriminates': 2353, 'decided': 1198, 'demanded': 1244, 'bench': 438, 'disaster': 1338, 'urinate': 4960, 'scottish': 4118, 'guide': 2057, 'description': 1278, 'mumble': 3073, 'rainbow': 3725, 'dispute': 1368, 'townville': 4781, 'foot': 1841, 'soldier': 4364, 'rocket': 4000, 'launcher': 2640, 'thwarted': 4726, 'birther': 484, 'ginsburg': 1965, 'accuses': 34, 'initiating': 2377, 'wrecked': 5190, 'yelling': 5208, 'connected': 990, 'merkel': 2930, 'burka': 649, 'flooding': 1826, 'crosstalk': 1106, 'dumbed': 1454, 'heavily': 2161, 'rapper': 3755, 'fanboy': 1715, 'snoop': 4352, 'dogg': 1393, 'assassinate': 267, 'jade': 2461, 'helm': 2170, 'ranger': 3742, 'relay': 3838, 'train': 4792, 'newest': 3134, 'seeker': 4159, 'disagrees': 1335, 'yuge': 5221, 'unlikely': 4928, 'sc': 4088, 'traitor': 4794, 'rnc': 3986, 'everyday': 1609, 'writes': 5193, 'phenomenon': 3420, 'embarrass': 1517, 'caller': 680, 'span': 4394, 'outrage': 3283, 'indiegogo': 2360, 'robber': 3992, 'endorsing': 1549, 'christopher': 816, 'columbus': 909, 'guilt': 2060, 'economic': 1482, 'gawd': 1935, 'forever': 1850, 'bitter': 490, 'try': 4846, 'shame': 4221, 'osama': 3269, 'bodyguard': 532, 'winner': 5151, 'announced': 183, 'pulled': 3670, 'unpunished': 4935, 'dwayne': 1464, 'wade': 5044, 'cousin': 1067, 'african': 85, 'misogyny': 2984, 'traditionally': 4788, 'africa': 84, 'proud': 3650, 'kenyan': 2550, 'brother': 615, 'misplaced': 2985, 'dancing': 1159, 'ranch': 3738, 'defendant': 1220, 'wedding': 5097, 'attended': 290, 'class': 845, 'virginia': 5020, 'hodgkinson': 2207, 'devotee': 1307, 'spousal': 4426, 'eastern': 1476, 'harsher': 2129, 'rescuing': 3901, 'priority': 3587, 'meth': 2935, 'chat': 783, 'app': 208, 'wrath': 5188, 'med': 2898, 'stir': 4489, 'capture': 705, 'diabolical': 1310, 'federation': 1743, 'eyeball': 1678, 'fell': 1747, 'lap': 2622, 'gross': 2040, 'cave': 741, 'bottom': 564, 'personally': 3407, 'meddling': 2902, 'completely': 945, 'blew': 508, 'tallest': 4627, 'manhattan': 2843, 'promised': 3621, 'sick': 4268, 'crooked': 1103, 'blockbuster': 516, 'malik': 2834, 'ranked': 3744, 'bestseller': 453, 'nordstrom': 3163, 'tjmaxx': 4743, 'lemon': 2691, 'fearless': 1738, 'charleston': 779, 'funeral': 1912, 'damn': 1153, 'buzzfeed': 667, 'anywhere': 199, 'grave': 2024, 'danger': 1161, 'move': 3057, 'hampshire': 2096, 'stephanopoulos': 4480, 'sleeping': 4323, 'ignoring': 2306, 'threatening': 4714, 'funding': 1910, 'weapon': 5092, 'pose': 3515, 'drastically': 1422, 'ramp': 3734, 'tragedy': 4791, 'jonben': 2507, 'ramsey': 3736, 'hidden': 2183, 'blocking': 517, 'inundated': 2420, 'posted': 3521, 'zit': 5230, 'comedian': 912, 'kathy': 2532, 'griffin': 2034, 'venue': 4988, 'grow': 2044, 'embarrasses': 1518, 'learn': 2667, 'monica': 3026, 'pervert': 3408, 'tithing': 4742, 'journalist': 2511, 'funded': 1909, 'hide': 2184, 'gunman': 2068, 'caroline': 718, 'eyeing': 1681, 'bid': 466, 'lesson': 2696, 'renegade': 3865, 'warfare': 5063, 'drudge': 1441, 'beyonc': 459, 'urban': 4956, 'witch': 5162, 'huma': 2257, 'abedin': 6, 'icy': 2290, 'hug': 2254, 'terrorizes': 4680, 'leaving': 2672, 'ku': 2597, 'klux': 2578, 'robe': 3994, 'awkwardly': 321, 'angrily': 176, 'audience': 296, 'choose': 807, 'hope': 2230, 'row': 4020, 'nervous': 3122, 'tower': 4779, 'moscow': 3047, 'shamed': 4222, 'yet': 5212, 'woohoo': 5174, 'trumper': 4840, 'jumpin': 2520, 'commissioner': 925, 'hire': 2198, 'straight': 4505, 'heart': 2156, 'pres': 3555, 'leo': 2693, 'television': 4662, 'disgraceful': 1354, 'faraci': 1721, 'neocon': 3120, 'marching': 2856, 'trusted': 4844, 'apple': 214, 'product': 3608, 'thrown': 4721, 'rooftop': 4012, 'boston': 559, 'globe': 1979, 'neurosurgeon': 3128, 'prez': 3573, 'huffington': 2253, 'tree': 4812, 'trunk': 4842, 'coast': 885, 'potus': 3530, 'outfit': 3280, 'cause': 738, 'freak': 1879, 'demolished': 1250, 'criticism': 1097, 'hanukkah': 2109, 'vandalism': 4978, 'respect': 3917, 'dying': 1466, 'apologizing': 206, 'incoherent': 2345, 'inform': 2372, 'resigning': 3911, 'manufacturing': 2850, 'az': 324, 'constituent': 999, 'delivering': 1237, 'cooky': 1029, 'horror': 2235, 'gatecrash': 1932, 'cynical': 1143, 'ploy': 3478, 'asking': 263, 'extremely': 1673, 'heartless': 2157, 'rebuke': 3779, 'invite': 2424, 'xmas': 5200, 'sandy': 4068, 'hook': 2229, 'clapper': 839, 'debunks': 1192, 'hacked': 2079, 'meme': 2919, 'paper': 3327, 'suit': 4552, 'behalf': 424, 'pb': 3373, 'bloomberg': 522, 'hid': 2182, 'bury': 656, 'difference': 1316, 'whopper': 5132, 'begin': 422, 'withdraw': 5163, 'erupt': 1584, 'laughter': 2638, 'banquet': 372, 'japan': 2469, 'banking': 365, 'monopoly': 3030, 'nwa': 3180, 'niggaz': 3148, 'wit': 5161, 'attitude': 294, 'famous': 1712, 'rap': 3750, 'cahoot': 673, 'keeping': 2541, 'betrayal': 456, 'emailed': 1515, 'secretive': 4150, 'material': 2876, 'unsecured': 4941, 'indiana': 2358, 'several': 4205, 'usa': 4962, 'syrian': 4607, 'yesterday': 5211, 'disrespect': 1370, 'knee': 2579, 'rescued': 3900, 'harvey': 2133, 'remaking': 3853, 'unbearable': 4886, 'waging': 5047, 'libertarian': 2711, 'today': 4745, 'basic': 388, 'rustic': 4042, 'hometown': 2218, 'illustrates': 2314, 'embarrassingly': 1520, 'chemical': 790, 'sharing': 4228, 'space': 4392, 'likely': 2727, 'earned': 1469, 'smackdown': 4333, 'relentlessly': 3842, 'booed': 548, 'heckled': 2164, 'bleeding': 506, 'parent': 3334, 'dreamer': 1428, 'changed': 768, 'charitable': 776, 'hank': 2106, 'analogy': 164, 'wreck': 5189, 'globalists': 1978, 'spokeswoman': 4421, 'collision': 900, 'sitting': 4297, 'duck': 1447, 'peaceful': 3375, 'brick': 593, 'partisan': 3344, 'oversee': 3295, 'doe': 1391, 'crusade': 1111, 'brotherhood': 616, 'peddling': 3378, 'seldom': 4167, 'hat': 2136, 'ing': 2375, 'branko': 578, 'mali': 2832, 'fourth': 1869, 'firework': 1794, 'picnic': 3436, 'billy': 477, 'crystal': 1119, 'injects': 2379, 'jab': 2458, 'eulogy': 1596, 'curiously': 1133, 'boss': 558, 'admit': 61, 'scare': 4097, 'via': 4997, 'rec': 3780, 'naked': 3090, 'vice': 4999, 'mount': 3052, 'rushmore': 4039, 'mika': 2954, 'psycho': 3660, 'sixty': 4301, 'percent': 3392, 'hostile': 2239, 'kaine': 2527, 'unfit': 4908, 'blatant': 504, 'everywhere': 1612, 'diseased': 1353, 'ssn': 4438, 'passport': 3354, 'upon': 4951, 'arrival': 246, 'neil': 3118, 'gorsuch': 2003, 'beau': 407, 'married': 2865, 'nyu': 3185, 'apesh': 202, 'elect': 1499, 'terminates': 4673, 'knew': 2583, 'deficiency': 1224, 'beforehand': 418, 'baio': 346, 'dunk': 1459, 'barkley': 377, 'confederatestatues': 971, 'advice': 68, 'ruin': 4028, 'career': 710, 'accepts': 20, 'nomination': 3160, 'skit': 4308, 'drugging': 1443, 'raping': 3753, 'lesley': 2695, 'closet': 872, 'aware': 316, 'obstacle': 3199, 'counted': 1058, 'fuming': 1905, 'smoking': 4344, 'irs': 2443, 'editorial': 1487, 'based': 385, 'testing': 4686, 'guideline': 2058, 'deliver': 1235, 'reconquista': 3791, 'hint': 2197, 'crypt': 1118, 'keeper': 2540, 'body': 531, 'surveillance': 4579, 'uneducated': 4903, 'english': 1554, 'fleeing': 1818, 'hunting': 2273, 'badge': 339, 'enter': 1558, 'restricted': 3927, 'figure': 1766, 'bonnie': 546, 'clyde': 876, 'fairfax': 1699, 'board': 527, 'opt': 3249, 'innocent': 2386, 'proven': 3653, 'forfeiture': 1851, 'cherokee': 791, 'express': 1662, 'disgust': 1356, 'faking': 1705, 'native': 3102, 'prestigious': 3566, 'psychic': 3659, 'apparently': 210, 'predict': 3544, 'martin': 2868, 'luther': 2793, 'scorecard': 4115, 'carrier': 719, 'appalling': 209, 'hijack': 2191, 'announcing': 186, 'pardon': 3333, 'toughest': 4773, 'khizr': 2557, 'special': 4401, 'counsel': 1056, 'cornering': 1041, 'harney': 2124, 'trio': 4823, 'ballad': 353, 'nominates': 3158, 'merrick': 2931, 'garland': 1927, 'sasse': 4075, 'declaration': 1201, 'independence': 2354, 'crock': 1101, 'waaambulance': 5042, 'better': 457, 'buckle': 628, 'filibuster': 1769, 'gw': 2075, 'unity': 4919, 'unified': 4913, 'prayer': 3540, 'rand': 3740, 'somebody': 4372, 'spying': 4432, 'ouch': 3274, 'bargaining': 376, 'chip': 804, 'spoken': 4417, 'kate': 2531, 'steinle': 4477, 'lay': 2655, 'francisco': 1875, 'pier': 3439, 'bar': 373, 'seen': 4162, 'questioned': 3701, 'extravaganza': 1671, 'calm': 683, 'bash': 386, 'spending': 4409, 'backward': 335, 'sleezy': 4324, 'fabricating': 1683, 'colluded': 901, 'nevertrump': 3132, 'sexist': 4210, 'lewinsky': 2704, 'backfired': 331, 'casualty': 730, 'honduran': 2222, 'chaffetz': 759, 'weinstein': 5106, 'loretta': 2769, 'lynch': 2799, 'nugent': 3173, 'appears': 213, 'grope': 2037, 'spewing': 4411, 'irrelevant': 2442, 'tour': 4774, 'till': 4733, 'ticket': 4728, 'circus': 823, 'filmmaker': 1774, 'islamophobia': 2448, 'spoof': 4425, 'georgia': 1949, 'cyber': 1142, 'dhs': 1309, 'claiming': 838, 'firewall': 1793, 'considered': 995, 'corp': 1044, 'unannounced': 4884, 'enemy': 1550, 'repeat': 3875, 'exact': 1618, 'phrase': 3429, 'cow': 1072, 'lutheran': 2794, 'talentless': 4623, 'gigi': 1962, 'hadid': 2082, 'apology': 207, 'mocking': 3004, 'understands': 4901, 'sky': 4310, 'scramble': 4121, 'month': 3034, 'concern': 958, 'trolling': 4828, 'rihanna': 3972, 'sings': 4290, 'four': 1868, 'rather': 3759, 'resort': 3915, 'hurling': 2275, 'slur': 4330, 'moderate': 3009, 'prefer': 3547, 'christ': 810, 'minority': 2977, 'wolf': 5169, 'suspect': 4583, 'probed': 3599, 'leading': 2661, 'bigger': 469, 'spirit': 4415, 'cancelled': 695, 'screening': 4126, 'counter': 1059, 'celebrate': 747, 'yuuge': 5222, 'search': 4140, 'always': 147, 'roger': 4003, 'ailes': 100, 'bos': 556, 'physicist': 3432, 'carbon': 707, 'harm': 2122, 'bam': 358, 'illusion': 2312, 'fantasy': 1719, 'pretend': 3567, 'neo': 3119, 'kek': 2543, 'pizzatown': 3455, 'familiar': 1710, 'took': 4758, 'bonfire': 544, 'rail': 3723, 'asshat': 274, 'transparency': 4801, 'petulant': 3415, 'birtherism': 485, 'simpson': 4284, 'parody': 3340, 'stomp': 4495, 'blackmail': 496, 'schwarzenegger': 4110, 'spontaneous': 4424, 'medal': 2899, 'valor': 4975, 'honored': 2227, 'practice': 3536, 'foul': 1864, 'mouthed': 3056, 'whack': 5117, 'trumpism': 4841, 'aside': 260, 'sixth': 4300, 'hw': 2280, 'groped': 2038, 'embrace': 1524, 'colonization': 907, 'smarter': 4337, 'bullsh': 639, 'cane': 699, 'mile': 2956, 'road': 3987, 'encourages': 1538, 'veryfakenews': 4989, 'involved': 2427, 'fleeced': 1817, 'ucla': 4871, 'fee': 1744, 'fall': 1706, 'injury': 2383, 'pathetically': 3360, 'frothing': 1892, 'christianity': 813, 'buying': 666, 'blasting': 503, 'duke': 1451, 'payout': 3372, 'ice': 2286, 'manafort': 2838, 'francis': 1874, 'burst': 654, 'coughing': 1052, 'tiny': 4740, 'ft': 1898, 'pierce': 3440, 'delusional': 1241, 'react': 3764, 'longer': 2762, 'marshall': 2866, 'hannan': 2107, 'rude': 4026, 'discovery': 1346, 'model': 3007, 'activity': 46, 'fabulous': 1684, 'birthday': 483, 'argentinian': 231, 'whistle': 5124, 'parental': 3335, 'consent': 992, 'tanning': 4632, 'bed': 415, 'gutted': 2072, 'maintains': 2821, 'arsenal': 250, 'videotaping': 5006, 'towards': 4778, 'tearful': 4652, 'condemnation': 965, 'ironic': 2438, 'interest': 2406, 'smug': 4345, 'wwe': 5197, 'creator': 1085, 'remarkable': 3855, 'tampering': 4630, 'intel': 2403, 'firm': 1796, 'dig': 1318, 'dirt': 1331, 'discover': 1344, 'supposed': 4565, 'soil': 4362, 'disparage': 1365, 'jv': 2525, 'slaughter': 4319, 'innocence': 2385, 'iranian': 2432, 'swap': 4593, 'returned': 3938, 'puerto': 3668, 'rico': 3963, 'tweeting': 4864, 'vanity': 4979, 'watching': 5081, 'twin': 4866, 'humbly': 2260, 'seahawks': 4137, 'learned': 2668, 'hurricane': 2276, 'divide': 1382, 'behaves': 426, 'deblasio': 1190, 'stare': 4459, 'wished': 5159, 'assassinated': 268, 'alicia': 122, 'machado': 2802, 'dumpster': 1458, 'relation': 3835, 'lavish': 2644, 'outline': 3282, 'overwhelming': 3299, 'disrespectful': 1371, 'gloria': 1980, 'steinem': 4476, 'huh': 2256, 'kiss': 2574, 'cleveland': 858, 'inspired': 2392, 'modeling': 3008, 'trafficking': 4790, 'defund': 1227, 'allah': 126, 'dallas': 1151, 'suffering': 4545, 'derangement': 1274, 'rightfully': 3971, 'snagged': 4347, 'compared': 940, 'greet': 2030, 'chinese': 803, 'lavar': 2643, 'yank': 5202, 'progressivism': 3616, 'partnership': 3346, 'propaganda': 3631, 'manipulation': 2846, 'comedy': 913, 'insurance': 2399, 'espn': 1589, 'unleashes': 4924, 'jcpenney': 2472, 'inspiring': 2393, 'geraldo': 1950, 'rivera': 3985, 'touting': 4776, 'profound': 3612, 'quote': 3710, 'offshore': 3217, 'vomit': 5033, 'accusing': 35, 'pretending': 3568, 'madonna': 2809, 'testifies': 4683, 'predicting': 3546, 'tumble': 4850, 'grabbing': 2011, 'gotcha': 2005, 'dragged': 1419, 'groping': 2039, 'bipartisan': 481, 'facilitate': 1688, 'announce': 182, 'gentleman': 1946, 'coat': 886, 'freezing': 1885, 'militarized': 2960, 'zone': 5232, 'identified': 2293, 'adapt': 52, 'non': 3162, 'binary': 479, 'blonde': 519, 'triggly': 4822, 'convulsion': 1026, 'barbell': 375, 'arrogant': 249, 'industry': 2365, 'honor': 2226, 'vision': 5023, 'panel': 3321, 'princeton': 3584, 'channel': 770, 'soothe': 4379, 'battered': 397, 'ego': 1493, 'cleaner': 852, 'afford': 79, 'salute': 4060, 'plenty': 3475, 'eminem': 1529, 'farrakhan': 1725, 'mit': 2994, 'promptly': 3627, 'nusra': 3178, 'separating': 4183, 'duh': 1450, 'tapped': 4636, 'sale': 4057, 'theorist': 4700, 'swag': 4591, 'defy': 1228, 'solidarity': 4367, 'brilliantly': 599, 'uncle': 4890, 'troop': 4829, 'complete': 943, 'jennifer': 2480, 'hudson': 2252, 'fantastic': 1718, 'traffic': 4789, 'extravagant': 1670, 'appointment': 219, 'subpoena': 4535, 'ok': 3222, 'wdbj': 5089, 'reprimanded': 3889, 'sticker': 4486, 'damage': 1152, 'eyeglass': 1680, 'irrational': 2440, 'georgetown': 1948, 'spring': 4429, 'accountability': 27, 'honest': 2224, 'payoff': 3371, 'toxic': 4782, 'bug': 631, 'infestation': 2367, 'acosta': 39, 'main': 2818, 'finished': 1785, 'wage': 5046, 'lean': 2666, 'minimum': 2970, 'sweep': 4596, 'nabs': 3087, 'unbelievable': 4887, 'koch': 2588, 'washed': 5076, 'reigniting': 3828, 'suspicion': 4588, 'restored': 3925, 'jewel': 2490, 'hateful': 2140, 'rhetoric': 3957, 'thunderous': 4723, 'dodger': 1390, 'scratched': 4122, 'clawed': 850, 'libya': 2714, 'fantasized': 1717, 'waterboarding': 5083, 'equally': 1574, 'hated': 2139, 'loved': 2782, 'cnnleak': 880, 'keefe': 2537, 'recording': 3794, 'cnnfakenews': 879, 'allows': 137, 'remain': 3850, 'anonymous': 187, 'defies': 1225, 'deeply': 1213, 'addressed': 57, 'duterte': 1462, 'spokesman': 4419, 'guptas': 2069, 'dismissal': 1361, 'narrow': 3097, 'brexit': 591, 'tribute': 4818, 'eu': 1595, 'achievement': 36, 'retweet': 3939, 'austrian': 303, 'ruled': 4031, 'delay': 1230, 'menendez': 2925, 'september': 4185, 'aclu': 38, 'friday': 1888, 'recruiter': 3798, 'subsidy': 4536, 'thursday': 4724, 'moon': 3039, 'born': 555, 'opioid': 3241, 'dependency': 1263, 'seek': 4158, 'ultimate': 4876, 'victory': 5004, 'bangladesh': 362, 'rohingya': 4005, 'remote': 3863, 'prone': 3628, 'island': 2449, 'abducted': 4, 'sudan': 4540, 'stalling': 4449, 'tactic': 4614, 'program': 3613, 'ig': 2300, 'misstep': 2992, 'source': 4387, 'hammond': 2095, 'kremlin': 2595, 'consulate': 1002, 'diplomat': 1324, 'embassy': 1521, 'thai': 4692, 'occupying': 3203, 'disclose': 1342, 'condemn': 964, 'kenya': 2549, 'factbox': 1690, 'draw': 1423, 'el': 1498, 'salvador': 4061, 'guatemala': 2052, 'decline': 1206, 'laundering': 2641, 'reviewing': 3951, 'vatican': 4980, 'bring': 600, 'netherlands': 3126, 'irma': 2437, 'dutch': 1461, 'saint': 4055, 'sisi': 4294, 'egypt': 1494, 'islamist': 2447, 'contentious': 1007, 'islam': 2445, 'widens': 5136, 'ethic': 1592, 'farenthold': 1722, 'congo': 985, 'peacekeeper': 3376, 'turkish': 4853, 'challenge': 764, 'erdogan': 1579, 'boost': 551, 'ownership': 3303, 'northern': 3165, 'kyrgyzstan': 2606, 'concedes': 956, 'european': 1599, 'parliament': 3339, 'britain': 605, 'asia': 258, 'encouraging': 1539, 'possibly': 3519, 'ningbo': 3152, 'unknown': 4923, 'forum': 1862, 'belgian': 431, 'yorker': 5216, 'among': 161, 'appoint': 216, 'relief': 3844, 'negotiate': 3113, 'expects': 1641, 'built': 635, 'japanese': 2470, 'crew': 1088, 'arrive': 247, 'catalan': 731, 'impact': 2324, 'spain': 4393, 'growth': 2047, 'guindos': 2062, 'coalition': 884, 'deadly': 1180, 'strike': 4512, 'deir': 1229, 'zor': 5234, 'obrador': 3194, 'completed': 944, 'wave': 5086, 'graft': 2015, 'purge': 3682, 'renewed': 3868, 'commitment': 927, 'afghanistan': 82, 'carry': 720, 'aiming': 103, 'sidestep': 4271, 'xi': 5199, 'commerce': 921, 'ross': 4017, 'equity': 1576, 'stake': 4446, 'catalonia': 732, 'resolved': 3914, 'abe': 5, 'quake': 3695, 'bus': 657, 'eight': 1496, 'homs': 2221, 'restructuring': 3929, 'kentucky': 2548, 'recanvass': 3781, 'cite': 824, 'progress': 3614, 'warms': 5066, 'invoke': 2426, 'bone': 543, 'contention': 1006, 'australia': 300, 'ancient': 168, 'aboriginal': 7, 'remains': 3852, 'outback': 3277, 'burial': 647, 'venezuela': 4986, 'detained': 1294, 'citgo': 825, 'poland': 3487, 'reform': 3810, 'completion': 946, 'kurd': 2599, 'destabilize': 1286, 'kurdish': 2600, 'historic': 2203, 'turmoil': 4854, 'prophet': 3633, 'extremism': 1674, 'irish': 2436, 'devolution': 1306, 'indo': 2361, 'pacific': 3306, 'uae': 4869, 'french': 1886, 'block': 514, 'fuel': 1900, 'depot': 1270, 'scenario': 4104, 'venezuelan': 4987, 'rajoy': 3728, 'insurgent': 2401, 'temporary': 4667, 'ceasefire': 744, 'amid': 157, 'humanitarian': 2259, 'classic': 846, 'sad': 4049, 'zimbabwe': 5227, 'axed': 322, 'safe': 4050, 'traveling': 4806, 'indonesian': 2363, 'suu': 4590, 'kyi': 2605, 'includes': 2343, 'deduction': 1209, 'sheikh': 4231, 'sabah': 4045, 'rebuild': 3778, 'gibraltar': 1958, 'scaramucci': 4095, 'communication': 933, 'nyt': 3184, 'oas': 3187, 'recommend': 3789, 'honduras': 2223, 'irregularity': 2441, 'fixed': 1806, 'surreal': 4576, 'pleads': 3472, 'hawk': 2146, 'oic': 3221, 'jerusalem': 2485, 'withdrawal': 5164, 'hurdle': 2274, 'approves': 226, 'embargo': 1516, 'encryption': 1540, 'reject': 3833, 'casino': 727, 'bankruptcy': 367, 'trumped': 4839, 'fiasco': 1758, 'cool': 1030, 'burundi': 655, 'extension': 1664, 'early': 1468, 'december': 1194, 'countdown': 1057, 'nafta': 3088, 'mid': 2948, 'august': 298, 'slum': 4329, 'decade': 1193, 'referendum': 3808, 'geneva': 1944, 'envoy': 1566, 'skeptical': 4303, 'serbia': 4187, 'kosovo': 2594, 'summons': 4556, 'questioning': 3702, 'anadolu': 163, 'ukraine': 4875, 'lethal': 2698, 'shortage': 4252, 'sanaa': 4064, 'trap': 4803, 'civilian': 831, 'halt': 2090, 'brazil': 581, 'wash': 5075, 'capital': 700, 'undersecretary': 4898, 'visa': 5021, 'raqqa': 3756, 'fallen': 1707, 'unacceptably': 4881, 'afghan': 81, 'digital': 1319, 'permanent': 3399, 'philippine': 3423, 'changing': 769, 'alliance': 133, 'overhaul': 3291, 'eyed': 1679, 'postpones': 3523, 'peninsula': 3384, 'hurt': 2277, 'olympics': 3227, 'sooner': 4378, 'barnier': 378, 'stick': 4485, 'balanced': 349, 'fidel': 1760, 'dissident': 1375, 'provider': 3655, 'reopen': 3869, 'clinic': 861, 'trade': 4785, 'weigh': 5103, 'others': 3271, 'supply': 4561, 'tap': 4634, 'representative': 3887, 'becerra': 410, 'spd': 4397, 'wet': 5115, 'dry': 1446, 'obsolete': 3198, 'involvement': 2428, 'taiwan': 4615, 'appoints': 220, 'premier': 3551, 'myanmar': 3084, 'bosnian': 557, 'croat': 1100, 'praljak': 3538, 'cyanide': 1141, 'fdp': 1735, 'offer': 3212, 'macron': 2803, 'bittersweet': 491, 'euro': 1597, 'juncker': 2521, 'proposal': 3634, 'sync': 4605, 'thiel': 4702, 'fallout': 1708, 'shelter': 4233, 'attending': 291, 'pyeongchang': 3690, 'hopeful': 2231, 'revenge': 3945, 'bridgegate': 594, 'complaint': 942, 'proceed': 3603, 'treasury': 4808, 'lew': 2703, 'ensure': 1556, 'fairness': 1701, 'exporter': 1658, 'avert': 311, 'shutdown': 4264, 'proposes': 3636, 'oversight': 3296, 'rebel': 3776, 'curfew': 1131, 'rejoice': 3834, 'ireland': 2435, 'stall': 4448, 'steer': 4474, 'troublesome': 4830, 'sri': 4437, 'lanka': 2620, 'keen': 2538, 'conclusion': 962, 'tallying': 4629, 'regulation': 3824, 'pfizer': 3417, 'allergan': 132, 'cooperate': 1032, 'lavrov': 2646, 'ministry': 2974, 'massachusetts': 2871, 'subject': 4532, 'conduct': 968, 'prepares': 3553, 'zuma': 5236, 'inquiry': 2387, 'havana': 2143, 'tension': 4671, 'flare': 1809, 'constitutional': 1000, 'turnout': 4859, 'slightly': 4325, 'lower': 2785, 'militancy': 2958, 'asean': 256, 'singapore': 4287, 'commodity': 930, 'regulator': 3825, 'sinai': 4285, 'carnage': 716, 'tribe': 4817, 'broadband': 609, 'privacy': 3590, 'heat': 2159, 'simmer': 4282, 'surface': 4569, 'pena': 3383, 'nieto': 3144, 'anc': 166, 'plague': 3458, 'madagascar': 2805, 'greets': 2031, 'netanyahu': 3125, 'handshake': 2103, 'jolt': 2505, 'lebanon': 2674, 'hezbollah': 2181, 'cnbc': 877, 'guantanamo': 2048, 'mute': 3083, 'voice': 5029, 'thailand': 4693, 'provide': 3654, 'quickly': 3704, 'rollback': 4007, 'medicaid': 2905, 'expansion': 1638, 'ifax': 2299, 'ride': 3965, 'grassroots': 2022, 'statehouse': 4466, 'gain': 1920, 'eating': 1480, 'disorder': 1364, 'advance': 66, 'corker': 1038, 'reasonable': 3775, 'transition': 4799, 'unicef': 4912, 'clash': 844, 'rumble': 4033, 'bahrain': 343, 'linked': 2737, 'negotiator': 3115, 'wednesday': 5098, 'propose': 3635, 'slap': 4316, 'restriction': 3928, 'sweeping': 4597, 'frame': 1872, 'partner': 3345, 'jan': 2467, 'frustrated': 1896, 'weighs': 5104, 'jury': 2523, 'suspension': 4587, 'lira': 2738, 'nice': 3143, 'principle': 3585, 'lieutenant': 2719, 'surge': 4570, 'nhc': 3142, 'fcc': 1734, 'torrential': 4765, 'rain': 3724, 'bulgaria': 636, 'conyers': 1028, 'mounting': 3054, 'hungry': 2271, 'imposes': 2333, 'pitch': 3452, 'directed': 1328, 'implying': 2330, 'kurdistan': 2601, 'baghdad': 342, 'italy': 2454, 'upholds': 4949, 'banker': 364, 'geronzi': 1953, 'insurer': 2400, 'fewer': 1757, 'errand': 1583, 'statehood': 4465, 'frustration': 1897, 'vietnam': 5007, 'plot': 3476, 'preparing': 3554, 'trader': 4786, 'impose': 2332, 'ankara': 179, 'guatemalan': 2053, 'effigy': 1490, 'scatter': 4102, 'evil': 1615, 'idlib': 2298, 'sector': 4153, 'suffer': 4543, 'revers': 3947, 'detente': 1295, 'ugandan': 4872, 'entirely': 1563, 'phase': 3419, 'sergeant': 4190, 'bergdahl': 443, 'crumbled': 1110, 'lebanese': 2673, 'hariri': 2121, 'beirut': 430, 'ria': 3958, 'grilled': 2036, 'expense': 1643, 'advocate': 73, 'prod': 3606, 'strong': 4517, 'torn': 4763, 'darfur': 1166, 'stress': 4511, 'waffle': 5045, 'choke': 805, 'imminent': 2322, 'pakistan': 3314, 'currency': 1134, 'mull': 3068, 'quitting': 3708, 'egyptian': 1495, 'spanish': 4395, 'delete': 1233, 'ballot': 355, 'speed': 4405, 'revised': 3952, 'grandee': 2018, 'compromise': 950, 'stability': 4442, 'battle': 398, 'interim': 2408, 'transfer': 4797, 'pound': 3531, 'telegraph': 4661, 'encouraged': 1537, 'colombia': 904, 'cholera': 806, 'uzbek': 4970, 'mnuchin': 3001, 'madrid': 2810, 'regional': 3821, 'farmer': 1723, 'jailed': 2463, 'exercise': 1633, 'malaysia': 2827, 'suspected': 4584, 'abu': 14, 'sayyaf': 4087, 'sufficient': 4546, 'compulsory': 951, 'bruising': 620, 'brings': 602, 'reluctant': 3849, 'drone': 1437, 'qaeda': 3692, 'regret': 3823, 'dairy': 1149, 'spat': 4396, 'universal': 4920, 'defeated': 1216, 'unofficial': 4932, 'tally': 4628, 'corporate': 1045, 'doubt': 1411, 'enough': 1555, 'barred': 379, 'sea': 4136, 'nigerian': 3147, 'repels': 3876, 'boko': 536, 'haram': 2114, 'luxury': 2796, 'disagree': 1334, 'reuters': 3941, 'ipsos': 2430, 'ramaphosa': 3732, 'warn': 5067, 'nominate': 3157, 'cftc': 758, 'giancarlo': 1956, 'determined': 1296, 'careful': 711, 'exile': 1634, 'reaffirms': 3768, 'mylan': 3085, 'epipen': 1570, 'pricing': 3576, 'interference': 2407, 'hong': 2225, 'kong': 2589, 'reaching': 3763, 'alarming': 116, 'level': 2701, 'january': 2468, 'est': 1590, 'gmt': 1984, 'port': 3512, 'agreement': 95, 'callista': 682, 'renewable': 3867, 'paraguay': 3330, 'legalizes': 2685, 'planting': 3464, 'mercury': 2929, 'fends': 1753, 'gabbard': 1918, 'submits': 4534, 'confidence': 973, 'alarmed': 115, 'berlin': 445, 'bavaria': 399, 'uneasy': 4902, 'hungarian': 2268, 'orban': 3254, 'hail': 2084, 'australian': 301, 'loom': 2766, 'hunger': 2270, 'striker': 4513, 'remainder': 3851, 'talked': 4625, 'influencing': 2370, 'curb': 1129, 'methane': 2936, 'emission': 1531, 'inappropriate': 2337, 'drill': 1432, 'waving': 5087, 'underpins': 4897, 'brill': 597, 'easily': 1472, 'veto': 4994, 'extra': 1667, 'fighter': 1764, 'baltic': 356, 'conciliatory': 961, 'tone': 4755, 'peso': 3409, 'sentenced': 4182, 'kung': 2598, 'fu': 1899, 'serenade': 4189, 'st': 4440, 'qatar': 3693, 'arab': 227, 'setback': 4200, 'cloud': 873, 'specific': 4402, 'suggestion': 4547, 'cordial': 1035, 'lockheed': 2756, 'contract': 1013, 'fine': 1783, 'czech': 1144, 'owned': 3301, 'cez': 756, 'liberian': 2710, 'collins': 899, 'prominent': 3619, 'drama': 1421, 'moody': 3038, 'downgrade': 1412, 'outdated': 3279, 'harsh': 2128, 'vessel': 4991, 'harass': 2115, 'undermines': 4896, 'coverage': 1069, 'requirement': 3897, 'warring': 5074, 'faction': 1691, 'poised': 3484, 'unmanned': 4930, 'aircraft': 105, 'export': 1657, 'durbin': 1460, 'undergoes': 4894, 'procedure': 3602, 'environment': 1564, 'pit': 3451, 'mining': 2971, 'rakhine': 3729, 'indian': 2357, 'nephew': 3121, 'kashmir': 2530, 'lease': 2669, 'signal': 4277, 'shift': 4237, 'separatist': 4184, 'unionist': 4917, 'wistfully': 5160, 'disputed': 1369, 'cfpb': 757, 'preliminary': 3550, 'injunction': 2380, 'filing': 1770, 'canadian': 693, 'amigo': 158, 'reimburses': 3830, 'passage': 3350, 'backed': 329, 'detain': 1293, 'tianjin': 4727, 'skyscraper': 4311, 'retailer': 3932, 'bet': 454, 'bolivia': 537, 'thwart': 4725, 'stockholm': 4492, 'maduro': 2811, 'vetting': 4996, 'clearance': 855, 'urgency': 4958, 'helping': 2173, 'funnel': 1914, 'contribution': 1015, 'expels': 1642, 'scalise': 4090, 'surgery': 4571, 'sworn': 4602, 'restoring': 3926, 'tilt': 4735, 'marawi': 2854, 'price': 3574, 'promotion': 3626, 'asylum': 282, 'papua': 3328, 'guinea': 2063, 'longtime': 2763, 'scavino': 4103, 'negotiation': 3114, 'tusk': 4860, 'triumph': 4825, 'arsonist': 251, 'disappointment': 1336, 'nearly': 3109, 'improvement': 2335, 'unacceptable': 4880, 'ypg': 5219, 'astana': 281, 'grid': 2033, 'study': 4522, 'denounces': 1257, 'legislature': 2689, 'warrant': 5071, 'modi': 3012, 'recovering': 3796, 'severe': 4206, 'malnutrition': 2836, 'tight': 4731, 'bypass': 669, 'radar': 3718, 'piracy': 3448, 'remembrance': 3857, 'meddle': 2900, 'contender': 1005, 'discipline': 1341, 'handling': 2100, 'pennsylvania': 3385, 'survives': 4580, 'soviet': 4391, 'ceiling': 746, 'reconstruction': 3792, 'kuwait': 2603, 'israeli': 2451, 'siren': 4292, 'gaza': 1937, 'strip': 4515, 'zika': 5226, 'inadequate': 2336, 'flattery': 1812, 'flavor': 1813, 'striking': 4514, 'seizing': 4165, 'upkeep': 4950, 'automaker': 309, 'economy': 1483, 'jeddah': 2475, 'royal': 4023, 'palace': 3315, 'judicial': 2516, 'overreach': 3293, 'relocates': 3848, 'obligation': 3191, 'fracking': 1871, 'mogul': 3015, 'harold': 2125, 'hamm': 2092, 'mnangagwa': 3000, 'mugabe': 3066, 'upends': 4947, 'extends': 1663, 'emergency': 1526, 'gazette': 1938, 'hustled': 2279, 'zambia': 5224, 'lauds': 2634, 'denver': 1259, 'bronco': 614, 'agreed': 94, 'unhcr': 4910, 'finnish': 1786, 'clarify': 841, 'increased': 2351, 'bomber': 540, 'qualm': 3697, 'teaming': 4650, 'jet': 2488, 'urgent': 4959, 'unfamiliar': 4907, 'listed': 2740, 'nmc': 3154, 'struggling': 4520, 'hospital': 2236, 'emperor': 1533, 'cede': 745, 'duty': 1463, 'abdication': 3, 'hooded': 2228, 'recommends': 3790, 'safeguard': 4051, 'thaksin': 4694, 'sponsored': 4423, 'region': 3820, 'backpedals': 334, 'telecom': 4660, 'tackled': 4613, 'mowing': 3061, 'lawn': 2651, 'dialogue': 1311, 'provocative': 3657, 'benefiting': 440, 'bailouts': 345, 'bln': 512, 'gap': 1925, 'mongolian': 3025, 'ousts': 3276, 'reshuffle': 3905, 'continued': 1010, 'lift': 2722, 'secrecy': 4147, 'tighter': 4732, 'execution': 1630, 'switzerland': 4601, 'commute': 937, 'offender': 3209, 'iaea': 2285, 'clarity': 842, 'section': 4152, 'wilbur': 5141, 'offshored': 3218, 'surplus': 4572, 'sirleaf': 4293, 'thankful': 4695, 'nominating': 3159, 'contest': 1008, 'bail': 344, 'reiterates': 3832, 'formal': 1857, 'timing': 4739, 'seeking': 4160, 'understanding': 4900, 'serbian': 4188, 'ta': 4609, 'gundlach': 2066, 'causing': 740, 'mission': 2989, 'accomplished': 24, 'partial': 3343, 'berlusconi': 446, 'mafia': 2812, 'exim': 1635, 'toolbox': 4759, 'petrol': 3413, 'athens': 283, 'incomplete': 2349, 'salacious': 4056, 'garbage': 1926, 'overcome': 3288, 'raised': 3727, 'scotland': 4116, 'auto': 308, 'advocacy': 72, 'recovery': 3797, 'slip': 4326, 'meirelles': 2913, 'candidacy': 697, 'repatriation': 3873, 'cure': 1130, 'weakness': 5090, 'drian': 1431, 'mediterranean': 2907, 'axis': 323, 'patrol': 3363, 'joining': 2502, 'resignation': 3909, 'goal': 1986, 'shattering': 4230, 'retaliate': 3933, 'ottoman': 3273, 'retweets': 3940, 'fannie': 1716, 'kitten': 2575, 'spy': 4431, 'prowess': 3658, 'additional': 55, 'barrier': 380, 'competing': 941, 'prolong': 3618, 'guardian': 2050, 'rocky': 4001, 'talabani': 4622, 'sought': 4384, 'coconut': 887, 'lao': 2621, 'imagery': 2316, 'mixed': 2997, 'libyan': 2715, 'smuggling': 4346, 'raytheon': 3761, 'modification': 3013, 'snubbed': 4354, 'reserve': 3903, 'welfare': 5110, 'formalizes': 1858, 'probing': 3600, 'net': 3124, 'neutrality': 3129, 'ajit': 109, 'pai': 3310, 'trudeau': 4832, 'june': 2522, 'grand': 2017, 'kazakh': 2536, 'ramping': 3735, 'briton': 607, 'nigeria': 3146, 'mediate': 2903, 'denounce': 1256, 'bharara': 462, 'anglophones': 175, 'cameroon': 688, 'demonstration': 1251, 'seize': 4163, 'environmental': 1565, 'dismiss': 1360, 'indictment': 2359, 'prostate': 3640, 'banana': 360, 'republic': 3891, 'approach': 222, 'pensioner': 3388, 'pension': 3387, 'pompe': 3500, 'lauded': 2633, 'patel': 3358, 'bbc': 401, 'burnt': 653, 'morocco': 3044, 'cup': 1127, 'success': 4538, 'obstructed': 3201, 'boat': 529, 'capsizes': 703, 'bulgarian': 637, 'macedonian': 2800, 'orthodox': 3268, 'edge': 1485, 'thorny': 4708, 'tel': 4659, 'aviv': 312, 'postponing': 3524, 'louisiana': 2780, 'hike': 2193, 'short': 4251, 'helped': 2172, 'dominate': 1397, 'gulf': 2064, 'meddled': 2901, 'secure': 4154, 'discussed': 1350, 'delegation': 1232, 'reliance': 3843, 'within': 5167, 'pyongyang': 3691, 'shown': 4260, 'persist': 3404, 'denuclearization': 1258, 'mcmahon': 2890, 'gen': 1940, 'society': 4360, 'ethnic': 1594, 'cleansing': 853, 'surrender': 4577, 'punishment': 3679, 'acid': 37, 'revive': 3953, 'optimistic': 3250, 'prospect': 3639, 'caitlyn': 675, 'celebs': 750, 'mulling': 3069, 'siemens': 4273, 'crimea': 1090, 'turbine': 4851, 'hamas': 2091, 'cairo': 674, 'blockade': 515, 'stowaway': 4504, 'ferry': 1755, 'offered': 3213, 'brief': 595, 'somalia': 4371, 'withhold': 5166, 'malaysian': 2828, 'indonesia': 2362, 'bali': 351, 'davis': 1173, 'summit': 4554, 'palestinian': 3316, 'handover': 2101, 'lpga': 2787, 'usga': 4966, 'haftar': 2083, 'opposes': 3245, 'calorie': 684, 'vehicle': 4984, 'dhabi': 1308, 'labour': 2609, 'cutting': 1140, 'summon': 4555, 'cleared': 856, 'condition': 967, 'mogadishu': 3014, 'alter': 146, 'explainer': 1650, 'wields': 5138, 'colonial': 906, 'sink': 4291, 'ngo': 3140, 'portion': 3513, 'virgin': 5019, 'soon': 4377, 'package': 3307, 'difficult': 1317, 'gm': 1983, 'mustard': 3082, 'finalize': 1776, 'broker': 613, 'anglophone': 174, 'breakdown': 585, 'manage': 2839, 'feud': 1756, 'tout': 4775, 'reduce': 3806, 'dearly': 1185, 'sputnik': 4430, 'rt': 4024, 'lighthizer': 2725, 'zimbabwean': 5228, 'seizes': 4164, 'wacky': 5043, 'microsoft': 2947, 'paranoia': 3332, 'speedy': 4406, 'communicating': 932, 'drafting': 1417, 'financing': 1780, 'lifting': 2723, 'payload': 3369, 'kneeling': 2582, 'attends': 292, 'romania': 4008, 'serb': 4186, 'photographing': 3427, 'fast': 1728, 'lane': 2618, 'renegotiated': 3866, 'deepens': 1211, 'float': 1824, 'authoritarian': 306, 'populism': 3509, 'suicidal': 4549, 'danish': 1164, 'submarine': 4533, 'explores': 1655, 'cavern': 742, 'hastert': 2135, 'probation': 3597, 'grandma': 2019, 'ustr': 4968, 'appropriate': 223, 'mechanism': 2897, 'pastry': 3357, 'factory': 1692, 'avalanche': 310, 'alp': 142, 'botswana': 562, 'manchester': 2841, 'extradite': 1669, 'finance': 1778, 'moldovans': 3017, 'ivory': 2457, 'experiment': 1646, 'sicily': 4267, 'lender': 2692, 'sabadell': 4044, 'alicante': 121, 'lame': 2615, 'text': 4689, 'immediate': 2318, 'evacuation': 1600, 'highest': 2188, 'alert': 119, 'volcano': 5030, 'pregnant': 3549, 'mum': 3072, 'ill': 2308, 'entertainment': 1561, 'rush': 4038, 'embattled': 1522, 'aimed': 102, 'ensuring': 1557, 'reschedule': 3898, 'tackle': 4612, 'bastion': 392, 'midwest': 2951, 'opposing': 3246, 'emboldened': 1523, 'citing': 826, 'critically': 1096, 'injures': 2382, 'murdering': 3077, 'publish': 3666, 'unilateral': 4915, 'conducting': 969, 'niger': 3145, 'divest': 1381, 'fuller': 1903, 'academic': 16, 'residency': 3906, 'opts': 3252, 'pregnancy': 3548, 'convenience': 1021, 'ending': 1544, 'echoing': 1481, 'concrete': 963, 'balance': 348, 'rankles': 3746, 'paramedic': 3331, 'worked': 5177, 'auschwitz': 299, 'umbrella': 4878, 'shade': 4214, 'europe': 1598, 'wisconsin': 5157, 'monitoring': 3028, 'raf': 3721, 'guerrilla': 2054, 'robbery': 3993, 'hesitation': 2179, 'defector': 1218, 'escalation': 1587, 'fleet': 1819, 'hungary': 2269, 'eas': 1471, 'odinga': 3206, 'pave': 3365, 'emissary': 1530, 'swift': 4598, 'odds': 3205, 'dismisses': 1362, 'departure': 1262, 'laughable': 2636, 'november': 3169, 'sen': 4173}\n",
            "VOCABULARY 2 (lenght 5062)\n",
            "{'ellen': 1475, 'degeneres': 1221, 'bio': 470, 'age': 76, 'married': 2873, 'husband': 2249, 'daughter': 1181, 'partner': 3339, 'salary': 3944, 'net': 3143, 'worth': 5010, 'simpson': 4175, 'reportedly': 3771, 'keep': 2506, 'kardashians': 2491, 'prison': 3552, 'drake': 1389, 'odell': 3217, 'beckham': 397, 'jr': 2463, 'watch': 4893, 'kourtney': 2568, 'ex': 1567, 'younes': 5042, 'bendjima': 425, 'brutally': 624, 'attack': 271, 'man': 2839, 'breaking': 581, 'malia': 2831, 'obama': 3208, 'expelled': 1584, 'harvard': 2075, 'khlo': 2524, 'kardashian': 2490, 'boycotting': 561, 'facetime': 1606, 'baby': 310, 'true': 4711, 'explanation': 1590, 'hilarious': 2153, 'ariana': 221, 'grande': 1972, 'calling': 676, 'wedding': 4913, 'pete': 3404, 'davidson': 1184, 'despite': 1262, 'tabloid': 4498, 'report': 3769, 'grammys': 1970, 'complete': 965, 'list': 2717, 'winner': 4968, 'nominee': 3185, 'sean': 4017, 'spicer': 4290, 'say': 3978, 'snl': 4232, 'went': 4931, 'line': 2709, 'first': 1719, 'post': 3501, 'resignation': 3785, 'interview': 2337, 'hannity': 2055, 'rihanna': 3842, 'learn': 2642, 'use': 4792, 'gun': 2008, 'needed': 3131, 'video': 4835, 'harvey': 2076, 'weinstein': 4922, 'could': 1055, 'face': 1603, 'even': 1556, 'charge': 805, 'investigation': 2348, 'looking': 2748, 'sexual': 4080, 'assault': 261, 'allegation': 108, 'katie': 2504, 'holmes': 2179, 'jamie': 2385, 'foxx': 1793, 'expecting': 1583, 'new': 3149, 'claim': 883, 'want': 4878, 'start': 4343, 'family': 1630, 'khloe': 2525, 'given': 1919, 'birth': 478, 'girl': 1913, 'need': 3130, 'know': 2560, 'possible': 3500, 'name': 3100, 'justin': 2480, 'bieber': 453, 'dating': 1180, 'history': 2166, 'alex': 99, 'rodriguez': 3873, 'recording': 3705, 'album': 95, 'weird': 4923, 'marriage': 2872, 'rule': 3913, 'tom': 4637, 'cruise': 1114, 'imposed': 2280, 'silence': 4167, 'labour': 2588, 'public': 3595, 'split': 4298, 'full': 1828, 'statement': 4347, 'john': 2437, 'mccain': 2908, 'vote': 4857, 'graham': 1968, 'cassidy': 739, 'health': 2098, 'care': 711, 'bill': 462, 'best': 434, 'celebrity': 772, 'liposuction': 2715, 'image': 2273, 'pinterest': 3435, 'kim': 2541, 'kanye': 2487, 'west': 4933, 'look': 2745, 'happier': 2058, 'ever': 1557, 'timeline': 4620, 'selena': 4035, 'gomez': 1942, 'rocky': 3870, 'relationship': 3739, 'finish': 1713, 'mel': 2939, 'witness': 4986, 'intimidation': 2339, 'divorce': 1341, 'drama': 1390, 'continues': 1019, 'ocean': 3212, 'cast': 741, 'kindly': 2545, 'request': 3779, 'stop': 4383, 'asking': 256, 'question': 3618, 'jennifer': 2408, 'aniston': 170, 'casually': 745, 'meghan': 2936, 'markle': 2869, 'criticized': 1105, 'inappropriate': 2285, 'shoulder': 4144, 'dress': 1393, 'queen': 3615, 'birthday': 479, 'parade': 3324, 'celebs': 775, 'respond': 3789, 'trumpcare': 4715, 'fail': 1610, 'martin': 2880, 'landau': 2599, 'dead': 1190, 'react': 3672, 'cannibal': 699, 'arrested': 236, 'florida': 1749, 'eating': 1446, 'human': 2237, 'flesh': 1735, 'cure': 1133, 'diabetes': 1275, 'depression': 1253, 'nasa': 3108, 'confirmed': 988, 'earth': 1438, 'moon': 3041, 'blog': 502, 'picture': 3427, 'wordpress': 4997, 'top': 4646, 'begging': 407, 'actress': 42, 'star': 4338, 'sequel': 4056, 'opposes': 3255, 'kate': 2497, 'upton': 4786, 'cosmetic': 1050, 'surgery': 4460, 'boob': 531, 'job': 2433, 'nose': 3189, 'lip': 2714, 'filler': 1697, 'brad': 565, 'pitt': 3442, 'fire': 1715, 'back': 315, 'angelina': 165, 'jolie': 2445, 'paid': 3305, 'million': 2990, 'child': 841, 'support': 4456, 'sound': 4265, 'like': 2697, 'liked': 2698, 'tristan': 4703, 'thompson': 4588, 'keith': 2509, 'urban': 4788, 'sophie': 4258, 'monk': 3035, 'nicole': 3165, 'furious': 1838, 'hassan': 2077, 'jameel': 2383, 'moving': 3064, 'together': 4634, 'house': 2222, 'hunting': 2244, 'paris': 3329, 'elon': 1477, 'musk': 3090, 'pedo': 3369, 'tweet': 4731, 'inquiry': 2316, 'answered': 187, 'thai': 4571, 'rescue': 3780, 'diver': 1339, 'lawyer': 2626, 'prep': 3528, 'lawsuit': 2624, 'getting': 1897, 'secretly': 4025, 'jelena': 2402, 'engaged': 1507, 'threatens': 4598, 'bring': 597, 'kid': 2528, 'around': 232, 'gwen': 2019, 'stefani': 4360, 'blake': 491, 'shelton': 4118, 'voice': 4855, 'flirting': 1741, 'leaf': 2633, 'fan': 1633, 'unimpressed': 4768, 'kylie': 2582, 'jenner': 2406, 'travis': 4691, 'scott': 4004, 'spotted': 4309, 'breakup': 582, 'rumor': 3916, 'nene': 3137, 'leakes': 2638, 'turned': 4725, 'weight': 4921, 'loss': 2756, 'spokesperson': 4304, 'real': 3680, 'housewife': 2223, 'reach': 3671, 'summer': 4445, 'custody': 1140, 'agreement': 83, 'reveals': 3813, 'struggle': 4408, 'dyslexia': 1432, 'anger': 166, 'shrug': 4152, 'oscar': 3269, 'snub': 4234, 'jackson': 2376, 'fear': 1659, 'heading': 2095, 'meltdown': 2942, 'ready': 3678, 'wife': 4952, 'lose': 2754, 'primary': 3547, 'allowed': 118, 'access': 22, 'thing': 4583, 'get': 1895, 'body': 518, 'high': 2143, 'heel': 2115, 'hell': 2121, 'crippling': 1099, 'cait': 668, 'facing': 1608, 'knee': 2558, 'refusing': 3723, 'ditch': 1336, 'stiletto': 4373, 'feud': 1679, 'jealous': 2398, 'camilla': 685, 'bowles': 556, 'prince': 3548, 'harry': 2072, 'chicago': 839, 'royal': 3906, 'started': 4344, 'timberlake': 4618, 'jessica': 2417, 'biel': 454, 'cover': 1065, 'story': 4389, 'sofia': 4245, 'richie': 3833, 'take': 4500, 'disick': 1319, 'messy': 2958, 'behind': 413, 'scene': 3990, 'live': 2722, 'kelly': 2510, 'ryan': 3931, 'seacrest': 4015, 'leave': 2648, 'ripa': 3851, 'dust': 1423, 'leah': 2635, 'remini': 3754, 'scientology': 4001, 'accused': 30, 'ruining': 3912, 'horrible': 2207, 'behavior': 412, 'kristen': 2571, 'bell': 419, 'lincoln': 2706, 'shepard': 4121, 'boy': 559, 'screaming': 4007, 'fight': 1692, 'quitting': 3627, 'hollywood': 2177, 'midwest': 2980, 'miscarriage': 3004, 'nightmare': 3169, 'pregnant': 3525, 'miranda': 3001, 'kerr': 2518, 'already': 124, 'spent': 4288, 'nursery': 3201, 'sue': 4431, 'nation': 3114, 'stampede': 4333, 'left': 2653, 'broken': 609, 'leg': 2655, 'text': 4567, 'jeff': 2401, 'flake': 1728, 'trump': 4714, 'speech': 4283, 'transcript': 4678, 'inevitable': 2304, 'taylor': 4520, 'swift': 4485, 'backlash': 317, 'begin': 409, 'watching': 4895, 'critical': 1103, 'mad': 2801, 'love': 2762, 'crumble': 1115, 'right': 3841, 'schedule': 3991, 'fergie': 1672, 'release': 3741, 'profit': 3571, 'josh': 2455, 'duhamel': 1412, 'secret': 4024, 'donald': 1364, 'lady': 2591, 'melania': 2940, 'separate': 4052, 'bedroom': 401, 'potter': 3507, 'year': 5032, 'later': 2609, 'movie': 3063, 'busted': 656, 'gossip': 1956, 'cop': 1036, 'sued': 4432, 'allegedly': 110, 'stealing': 4355, 'lighting': 2694, 'technique': 4532, 'selfies': 4039, 'rachel': 3632, 'bilson': 468, 'eddie': 1452, 'cibrian': 870, 'two': 4739, 'stray': 4397, 'mama': 2837, 'tormented': 4649, 'spend': 4285, 'four': 1789, 'hour': 2221, 'christmas': 863, 'day': 1187, 'stalling': 4330, 'construction': 1011, 'dream': 1392, 'home': 2181, 'overwhelmed': 3293, 'etiquette': 1545, 'helping': 2126, 'stamos': 4331, 'talk': 4505, 'caitlin': 669, 'minute': 2998, 'childbirth': 842, 'finally': 1708, 'way': 4903, 'missing': 3011, 'correspondence': 1047, 'suri': 4461, 'end': 1501, 'party': 3341, 'blow': 507, 'katy': 2505, 'perry': 3399, 'orlando': 3264, 'bloom': 505, 'month': 3040, 'friend': 1815, 'compete': 963, 'finding': 1711, 'rebound': 3691, 'romance': 3879, 'makeover': 2825, 'theroux': 4580, 'shuts': 4156, 'couple': 1060, 'therapy': 4578, 'rumour': 3918, 'made': 2805, 'food': 1760, 'stamp': 4332, 'enrollment': 1516, 'drop': 1400, 'one': 3243, 'style': 4425, 'liam': 2682, 'payne': 3364, 'heart': 2104, 'cheryl': 835, 'fernandez': 1674, 'versini': 4823, 'recount': 3706, 'christian': 860, 'past': 3346, 'hrc': 2226, 'gala': 1850, 'conversion': 1024, 'praying': 3519, 'gay': 1874, 'away': 302, 'people': 3384, 'change': 795, 'believe': 417, 'prenup': 3527, 'marrying': 2877, 'planning': 3449, 'elope': 1478, 'mila': 2984, 'kunis': 2576, 'ashton': 250, 'kutcher': 2579, 'straight': 4392, 'romantic': 3880, 'comedy': 945, 'noah': 3178, 'cyrus': 1150, 'austin': 290, 'mahone': 2816, 'proposed': 3583, 'cozy': 1072, 'night': 3167, 'roasting': 3857, 'chicken': 840, 'easter': 1442, 'share': 4101, 'message': 2956, 'social': 4241, 'medium': 2929, 'carrying': 730, 'twin': 4736, 'upset': 4783, 'ed': 1451, 'sheeran': 4114, 'slept': 4211, 'member': 2943, 'squad': 4315, 'truth': 4717, 'promise': 3575, 'carrie': 728, 'fisher': 1723, 'final': 1703, 'war': 4882, 'appearance': 209, 'buy': 661, 'mansion': 2847, 'prepping': 3530, 'see': 4027, 'pic': 3421, 'inside': 2319, 'beyonce': 445, 'jay': 2395, 'battle': 380, 'blue': 510, 'ivy': 2370, 'date': 1178, 'calum': 678, 'emma': 1491, 'stone': 4380, 'wireler': 4976, 'discus': 1314, 'curse': 1136, 'gq': 1963, 'purim': 3606, 'spiel': 4292, 'gal': 1849, 'gadot': 1845, 'slated': 4206, 'play': 3452, 'esther': 1540, 'never': 3148, 'jake': 2381, 'gyllenhaal': 2021, 'going': 1937, 'display': 1326, 'person': 3400, 'online': 3245, 'rob': 3858, 'cut': 1142, 'dodge': 1350, 'paparazzo': 3323, 'confront': 992, 'pregnancy': 3524, 'slam': 4203, 'decision': 1204, 'daca': 1152, 'callous': 677, 'disgusting': 1317, 'grave': 1978, 'mistake': 3012, 'mexico': 2963, 'next': 3155, 'president': 3534, 'call': 674, 'invasion': 2345, 'miley': 2987, 'publicly': 3598, 'reject': 3733, 'plea': 3458, 'state': 4346, 'banned': 346, 'sharia': 4103, 'law': 2622, 'christmasgifts': 864, 'clarkson': 890, 'explosive': 1594, 'backstage': 319, 'teri': 4551, 'hatcher': 2079, 'broke': 608, 'homeless': 2183, 'snubbed': 4235, 'middleton': 2974, 'william': 4959, 'debunked': 1199, 'nick': 3160, 'jonas': 2449, 'victoria': 4833, 'model': 3026, 'sara': 3961, 'sampaio': 3952, 'michael': 2969, 'strahan': 4391, 'along': 122, 'set': 4070, 'caitlyn': 670, 'proud': 3591, 'meeting': 2933, 'kendall': 2511, 'shade': 4085, 'photo': 3415, 'adele': 52, 'panicking': 3318, 'entourage': 1520, 'making': 2828, 'official': 3226, 'source': 4268, 'revenge': 3815, 'ewan': 1566, 'mcgregor': 2920, 'scrap': 4006, 'uk': 4747, 'show': 4147, 'visit': 4846, 'pier': 3430, 'morgan': 3046, 'woman': 4991, 'march': 2855, 'barb': 349, 'portia': 3492, 'de': 1189, 'rossi': 3897, 'rock': 3867, 'coordinating': 1035, 'outfit': 3274, 'concert': 976, 'warning': 4887, 'help': 2124, 'working': 5002, 'issue': 2366, 'exclusive': 1573, 'barbara': 350, 'cook': 1029, 'broadway': 605, 'mourns': 3057, 'passing': 3344, 'legend': 2659, 'anniversary': 177, 'card': 707, 'ethan': 1543, 'hawke': 2088, 'sandra': 3957, 'bullock': 638, 'break': 578, 'nina': 3173, 'dobrev': 1347, 'ian': 2257, 'somerhalder': 4249, 'label': 2584, 'nervous': 3142, 'pop': 3483, 'american': 145, 'news': 3153, 'mom': 3030, 'applies': 211, 'remedy': 3750, 'moment': 3031, 'dy': 1428, 'careful': 713, 'turning': 4727, 'dog': 1353, 'mandy': 2842, 'teefey': 4535, 'speaks': 4278, 'quash': 3614, 'beef': 403, 'trivia': 4704, 'game': 1857, 'blunder': 511, 'suggests': 4439, 'would': 5011, 'kris': 2570, 'hammered': 2044, 'karaoke': 2489, 'boozy': 541, 'reese': 3717, 'witherspoon': 4984, 'pelting': 3379, 'ice': 2258, 'cream': 1085, 'meryl': 2953, 'streep': 4400, 'everything': 1561, 'beyonc': 444, 'knowles': 2561, 'absolute': 14, 'diva': 1338, 'invited': 2351, 'everyone': 1560, 'ignored': 2267, 'guest': 2003, 'ben': 423, 'affleck': 71, 'pushed': 3610, 'garner': 1865, 'join': 2440, 'church': 866, 'team': 4526, 'denies': 1240, 'smitten': 4223, 'young': 5043, 'lookalike': 2746, 'barker': 357, 'changed': 796, 'lo': 2726, 'rod': 3871, 'think': 4584, 'charles': 808, 'father': 1650, 'diana': 1279, 'lover': 2766, 'something': 4250, 'hudson': 2229, 'tease': 4529, 'assisted': 266, 'world': 5004, 'listen': 2718, 'relieved': 3745, 'accepted': 21, 'olive': 3237, 'branch': 571, 'weeknd': 4918, 'quote': 3630, 'posted': 3502, 'hollywoodlife': 2178, 'fake': 1619, 'cindy': 873, 'crawford': 1081, 'supermodel': 4454, 'swim': 4486, 'morning': 3048, 'dip': 1299, 'gif': 1906, 'mindy': 2994, 'kaling': 2485, 'give': 1918, 'welcome': 4926, 'katherine': 2500, 'selleck': 4041, 'weighs': 4920, 'magnum': 2813, 'reboot': 3690, 'make': 2823, 'cameo': 681, 'detail': 1266, 'stewart': 4370, 'robert': 3862, 'pattinson': 3357, 'surprise': 4462, 'reunion': 3806, 'pot': 3505, 'save': 3974, 'wham': 4935, 'producer': 3563, 'hottest': 2219, 'george': 1886, 'biopic': 473, 'falling': 1624, 'apart': 199, 'scary': 3989, 'sign': 4163, 'burnt': 649, 'headed': 2094, 'breakdown': 579, 'la': 2583, 'vega': 4813, 'shooting': 4138, 'multiple': 3074, 'gunman': 2009, 'dressed': 1394, 'security': 4026, 'guard': 1998, 'oct': 3213, 'peter': 3405, 'strzok': 4411, 'fbi': 1658, 'agent': 78, 'texting': 4569, 'scandal': 3983, 'testify': 4562, 'congress': 998, 'amal': 136, 'billion': 465, 'announcement': 180, 'staying': 4353, 'held': 2119, 'hand': 2046, 'transgender': 4682, 'andreja': 159, 'pejic': 3376, 'leonardo': 2665, 'dicaprio': 1282, 'losing': 2755, 'interest': 2333, 'life': 2688, 'amid': 147, 'midlife': 2977, 'crisis': 1100, 'verge': 4820, 'mental': 2951, 'spending': 4286, 'quality': 3613, 'time': 4619, 'amanda': 137, 'seyfried': 4084, 'good': 1946, 'advice': 66, 'used': 4793, 'introducing': 2344, 'finn': 1714, 'bindi': 469, 'irwin': 2361, 'chandler': 793, 'powell': 3510, 'late': 2608, 'dad': 1153, 'reincarnation': 3730, 'wrong': 5020, 'comprehensive': 972, 'bella': 420, 'hadid': 2026, 'julianne': 2472, 'hough': 2220, 'brook': 613, 'laich': 2594, 'weekend': 4917, 'every': 1559, 'special': 4280, 'lindsay': 2708, 'shookus': 4136, 'complicated': 970, 'blame': 492, 'shutting': 4157, 'prof': 3566, 'quite': 3625, 'yet': 5038, 'lea': 2630, 'michele': 2970, 'biggest': 457, 'faux': 1655, 'pa': 3299, 'visiting': 4848, 'outraged': 3278, 'linkin': 2712, 'park': 3330, 'chester': 837, 'bennington': 429, 'tribute': 4698, 'stream': 4398, 'caught': 758, 'nazi': 3119, 'satanism': 3968, 'hearing': 2102, 'lean': 2639, 'girlfriend': 1914, 'go': 1932, 'deaf': 1193, 'reacts': 3675, 'matt': 2894, 'lauer': 2613, 'firing': 1718, 'let': 2673, 'door': 1372, 'hit': 2167, 'shockingly': 4134, 'involving': 2352, 'future': 1840, 'daddy': 1155, 'hard': 2064, 'bottom': 549, 'chris': 856, 'hemsworth': 2128, 'comment': 951, 'co': 916, 'elsa': 1479, 'pataky': 3348, 'expose': 1595, 'elite': 1470, 'pedophile': 3370, 'satanic': 3967, 'illuminati': 2272, 'actor': 41, 'terry': 4558, 'crew': 1094, 'sexually': 4082, 'assaulted': 262, 'executive': 1575, 'britney': 603, 'spear': 4279, 'fall': 1622, 'laughing': 2615, 'matter': 2895, 'gunning': 2011, 'replace': 3767, 'gma': 1931, 'north': 3188, 'struggling': 4410, 'sister': 4185, 'arrival': 237, 'acting': 39, 'seeking': 4030, 'attention': 276, 'boyfriend': 562, 'steve': 4368, 'lepore': 2667, 'demanding': 1232, 'tell': 4541, 'oj': 3233, 'rep': 3764, 'natural': 3117, 'preggo': 3523, 'happy': 2060, 'becoming': 399, 'considering': 1008, 'london': 2738, 'lopez': 2749, 'checking': 825, 'song': 4254, 'cute': 1143, 'flip': 1736, 'flop': 1746, 'christina': 861, 'el': 1464, 'moussa': 3059, 'fast': 1645, 'admits': 56, 'residency': 3783, 'musical': 3087, 'journey': 2461, 'settling': 4073, 'joe': 2435, 'alwyn': 130, 'billboard': 463, 'award': 301, 'intimate': 2338, 'affair': 69, 'prove': 3592, 'worse': 5007, 'white': 4942, 'chef': 830, 'quits': 3626, 'eaten': 1445, 'olivia': 3238, 'munn': 3076, 'dish': 1318, 'private': 3554, 'aaron': 1, 'rodgers': 3872, 'accord': 25, 'variety': 4810, 'anytime': 198, 'soon': 4255, 'anti': 191, 'defamation': 1214, 'league': 2634, 'blast': 496, 'larry': 2605, 'david': 1183, 'concentration': 975, 'camp': 687, 'joke': 2443, 'offensive': 3221, 'insensitive': 2318, 'unfunny': 4764, 'burke': 647, 'return': 3803, 'dancing': 1164, 'really': 3683, 'throwing': 4607, 'dinner': 1297, 'single': 4180, 'find': 1710, 'biography': 471, 'cena': 777, 'wanting': 4880, 'nikki': 3172, 'opened': 3252, 'living': 2725, 'came': 680, 'exec': 1574, 'homecoming': 2182, 'teaser': 4530, 'julia': 2471, 'twilight': 4735, 'th': 4570, 'major': 2821, 'update': 4781, 'bit': 483, 'st': 4318, 'century': 781, 'wed': 4912, 'justice': 2479, 'downey': 1381, 'whistle': 4941, 'ring': 3844, 'singer': 4178, 'hurt': 2248, 'obsession': 3210, 'nicki': 3161, 'minaj': 2992, 'reunites': 3809, 'sienna': 4162, 'miller': 2989, 'chaos': 801, 'launch': 2616, 'york': 5041, 'city': 880, 'honeymoon': 2190, 'revealed': 3812, 'island': 2364, 'confident': 986, 'coming': 949, 'prayer': 3518, 'hurricane': 2247, 'irma': 2359, 'experience': 1586, 'unusual': 4778, 'tool': 4645, 'us': 4790, 'glowing': 1930, 'skin': 4197, 'hold': 2172, 'pratt': 3517, 'amy': 152, 'poehler': 3466, 'drew': 1395, 'barrymore': 361, 'timothy': 4623, 'olyphant': 3242, 'enjoy': 1513, 'spot': 4307, 'downtime': 1383, 'filming': 1700, 'santa': 3959, 'clarita': 887, 'diet': 1288, 'keeping': 2508, 'stiffed': 4371, 'role': 3876, 'extreme': 1598, 'hair': 2030, 'color': 936, 'daytime': 1188, 'emmy': 1492, 'nomination': 3184, 'annual': 184, 'ethnicity': 1544, 'plan': 3446, 'road': 3856, 'epic': 1524, 'stealth': 4356, 'chlo': 847, 'grace': 1966, 'moretz': 3045, 'shaming': 4095, 'red': 3710, 'shoe': 4135, 'dwarf': 1426, 'ad': 45, 'walk': 4869, 'espn': 1537, 'donating': 1367, 'relief': 3744, 'effort': 1457, 'third': 4585, 'absentee': 13, 'mystery': 3095, 'might': 2981, 'confusing': 995, 'situation': 4189, 'introduces': 2343, 'friendship': 1817, 'flirtation': 1740, 'began': 406, 'still': 4374, 'zayn': 5050, 'desperate': 1261, 'defend': 1215, 'gigi': 1911, 'mariah': 2859, 'carey': 714, 'malik': 2833, 'nine': 3174, 'spill': 4293, 'sex': 4078, 'book': 533, 'lambert': 2597, 'nastier': 3111, 'anna': 173, 'faris': 1637, 'point': 3468, 'enters': 1517, 'rehab': 3726, 'hugh': 2233, 'jackman': 2375, 'fat': 1647, 'done': 1369, 'playing': 3456, 'wolverine': 4990, 'contestant': 1017, 'cry': 1120, 'reality': 3681, 'leak': 2636, 'tune': 4722, 'men': 2949, 'room': 3887, 'singing': 4179, 'peeing': 3372, 'winslet': 4970, 'seek': 4029, 'ban': 339, 'publication': 3596, 'partly': 3338, 'naked': 3099, 'lautner': 2619, 'billie': 464, 'lourd': 2760, 'address': 51, 'rumored': 3917, 'sophia': 4257, 'hutchins': 2251, 'little': 2720, 'carry': 729, 'learning': 2644, 'coping': 1037, 'belief': 416, 'guiding': 2005, 'son': 4253, 'admit': 55, 'wannabe': 4877, 'rapper': 3661, 'colin': 927, 'farrell': 1640, 'craziest': 1083, 'antic': 192, 'ariel': 223, 'winter': 4972, 'sarah': 3962, 'hyland': 2255, 'modern': 3027, 'watson': 4900, 'seemingly': 4031, 'golden': 1940, 'globe': 1926, 'kidman': 2532, 'booked': 534, 'entire': 1519, 'centre': 780, 'hotel': 2218, 'ahead': 85, 'manchester': 2841, 'gig': 1909, 'lawrence': 2623, 'wapo': 4881, 'reporter': 3772, 'judge': 2466, 'roy': 3905, 'moore': 3043, 'criminal': 1098, 'faking': 1621, 'percentfedup': 3385, 'com': 941, 'eric': 1530, 'johnson': 2439, 'divorcing': 1342, 'drinking': 1396, 'tour': 4660, 'cancellation': 692, 'sustainable': 4473, 'fiercely': 1689, 'channing': 800, 'tatum': 4516, 'jenna': 2405, 'dewan': 1274, 'announce': 178, 'quit': 3624, 'humiliating': 2239, 'hang': 2051, 'dj': 1343, 'khaled': 2523, 'asahd': 245, 'cia': 868, 'document': 1349, 'citizen': 879, 'recreate': 3708, 'candis': 695, 'cayne': 763, 'actually': 44, 'removed': 3757, 'crumbling': 1116, 'absolutely': 15, 'nothing': 3192, 'trueamericans': 4712, 'nbspthis': 3122, 'website': 4910, 'sale': 3946, 'nbsptrueamericans': 3123, 'resource': 3788, 'information': 2309, 'leaving': 2649, 'announcing': 182, 'shep': 4120, 'smith': 4222, 'canned': 697, 'control': 1022, 'hate': 2080, 'lionel': 2713, 'threatened': 4596, 'dump': 1413, 'cheating': 822, 'dina': 1295, 'lohan': 2736, 'upcoming': 4780, 'james': 2384, 'corden': 1041, 'bromance': 611, 'crown': 1112, 'season': 4020, 'gordonstoun': 1952, 'lazy': 2627, 'af': 68, 'crush': 1117, 'performance': 3390, 'root': 3889, 'england': 1509, 'comedian': 944, 'kevin': 2521, 'hart': 2073, 'condition': 978, 'gory': 1954, 'car': 705, 'crash': 1077, 'emotional': 1493, 'michelle': 2971, 'afraid': 73, 'may': 2901, 'marry': 2876, 'levi': 2677, 'meaden': 2923, 'sooner': 4256, 'serious': 4061, 'british': 602, 'nra': 3194, 'jim': 2427, 'porter': 3491, 'falsely': 1628, 'saying': 3979, 'colored': 938, 'driving': 1399, 'insane': 2317, 'jealousy': 2399, 'throw': 4605, 'megyn': 2937, 'bus': 650, 'defends': 1216, 'initial': 2311, 'remark': 3749, 'charlottesville': 811, 'side': 4159, 'annoyed': 183, 'lamar': 2596, 'odom': 3219, 'hung': 2240, 'joaquin': 2432, 'phoenix': 3413, 'rooney': 3888, 'mara': 2853, 'nfl': 3156, 'using': 4795, 'leather': 2647, 'football': 1764, 'madonna': 2809, 'fired': 1716, 'assistant': 265, 'midflight': 2975, 'propose': 3582, 'reason': 3686, 'jet': 2419, 'failing': 1612, 'rekindle': 3735, 'daily': 1157, 'mail': 2819, 'publishes': 3599, 'apology': 206, 'sir': 4183, 'elton': 1481, 'misleading': 3009, 'pressparty': 3537, 'aggressive': 79, 'depth': 1254, 'analysis': 153, 'language': 2602, 'versus': 4824, 'nun': 3200, 'legal': 2657, 'mayhem': 2904, 'big': 456, 'betrayal': 439, 'athenaeum': 268, 'sick': 4158, 'biological': 472, 'paulson': 3362, 'announces': 181, 'brooklyn': 614, 'dropped': 1401, 'college': 931, 'due': 1409, 'homesickness': 2185, 'clooney': 908, 'terrified': 4554, 'safety': 3941, 'photographer': 3418, 'sneak': 4231, 'onto': 3248, 'property': 3581, 'wintour': 4973, 'parental': 3327, 'choice': 851, 'must': 3092, 'worried': 5005, 'overseeing': 3291, 'expert': 1587, 'shamed': 4093, 'straightening': 4393, 'immigration': 2276, 'order': 3259, 'agdal': 75, 'feel': 1664, 'brown': 618, 'found': 1785, 'note': 3191, 'kaia': 2482, 'gerber': 1890, 'wear': 4906, 'wig': 4953, 'dining': 1296, 'film': 1698, 'reuniting': 3810, 'screen': 4009, 'clogged': 907, 'toilet': 4635, 'victorian': 4834, 'promote': 3577, 'company': 960, 'jong': 2451, 'un': 4750, 'killed': 2537, 'overnight': 3289, 'black': 489, 'op': 3250, 'korea': 2566, 'adam': 46, 'levine': 2678, 'cooled': 1032, 'sun': 4446, 'introduce': 2341, 'neri': 3141, 'oxman': 3295, 'six': 4190, 'hire': 2163, 'bouncer': 552, 'protect': 3586, 'newborn': 3150, 'rome': 3881, 'bang': 341, 'theory': 4577, 'catfight': 754, 'kaley': 2484, 'mayim': 2905, 'icy': 2261, 'run': 3920, 'super': 4449, 'bowl': 555, 'lii': 2696, 'patriot': 3355, 'eagle': 1433, 'sausage': 3971, 'factory': 1609, 'income': 2295, 'shut': 4154, 'grammy': 1969, 'category': 752, 'limiting': 2703, 'kuwtk': 2580, 'barely': 354, 'tv': 4729, 'confirm': 987, 'infatuated': 2306, 'rushed': 3924, 'hospital': 2211, 'complication': 971, 'ok': 3234, 'much': 3069, 'younger': 5044, 'manager': 2840, 'employee': 1495, 'checker': 824, 'ave': 295, 'bear': 385, 'born': 543, 'mean': 2926, 'trial': 4696, 'separation': 4054, 'sleeping': 4210, 'inspiration': 2323, 'lure': 2788, 'wild': 4955, 'princess': 3549, 'charlotte': 810, 'muslim': 3091, 'disturbing': 1335, 'come': 942, 'grocery': 1991, 'store': 4385, 'bare': 353, 'prepare': 3529, 'wish': 4978, 'read': 3676, 'twitter': 4738, 'community': 957, 'angry': 168, 'kiss': 2552, 'gosling': 1955, 'eva': 1548, 'mendes': 2950, 'fed': 1663, 'hefner': 2116, 'crystal': 1122, 'harris': 2070, 'inherit': 2310, 'jimmy': 2428, 'kimmel': 2542, 'surprising': 4464, 'gavin': 1873, 'rossdale': 3896, 'elin': 1469, 'nordegren': 3186, 'daniel': 1167, 'radcliffe': 3639, 'erin': 1532, 'darke': 1172, 'host': 2214, 'national': 3115, 'enquirer': 1515, 'worry': 5006, 'overseas': 3290, 'xmas': 5025, 'griffin': 1986, 'injury': 2314, 'blamed': 493, 'renee': 3760, 'zellweger': 5052, 'doyle': 1385, 'bramhall': 570, 'ii': 2270, 'ron': 3884, 'perlman': 3394, 'knew': 2559, 'abuse': 16, 'coward': 1069, 'silent': 4168, 'heidi': 2117, 'klum': 2557, 'bf': 447, 'vito': 4849, 'schnabel': 3993, 'responds': 3790, 'forward': 1782, 'abc': 6, 'herpes': 2137, 'usher': 4794, 'dismissed': 1320, 'sexy': 4083, 'teresa': 4550, 'giudice': 1916, 'businessman': 654, 'karrueche': 2494, 'tran': 4676, 'screw': 4011, 'whoever': 4947, 'shock': 4131, 'untrue': 4777, 'noel': 3180, 'gallagher': 1854, 'solo': 4247, 'debut': 1201, 'cat': 746, 'written': 5019, 'musician': 3088, 'tillis': 4616, 'death': 1196, 'critic': 1102, 'goop': 1950, 'gwyneth': 2020, 'paltrow': 3312, 'camila': 684, 'alves': 128, 'lifestyle': 2689, 'site': 4187, 'resigns': 3786, 'blanket': 495, 'guardian': 1999, 'seen': 4033, 'cheat': 819, 'admitted': 57, 'struggled': 4409, 'balance': 329, 'work': 4999, 'double': 1377, 'hank': 2053, 'rita': 3853, 'wilson': 4962, 'autopsy': 293, 'result': 3796, 'vince': 4839, 'foster': 1783, 'exhumed': 1577, 'cause': 759, 'wendy': 4930, 'williams': 4960, 'sits': 4188, 'hot': 2217, 'seat': 4021, 'handling': 2049, 'embarrassed': 1484, 'ghost': 1900, 'haunted': 2086, 'residence': 3782, 'reconciling': 3702, 'failed': 1611, 'ferguson': 1673, 'parker': 3331, 'plot': 3462, 'vanessa': 4808, 'grimaldi': 1988, 'dumping': 1415, 'viall': 4827, 'smallville': 4218, 'alum': 127, 'rosenbaum': 3893, 'billionaire': 466, 'tired': 4626, 'leann': 2640, 'rime': 3843, 'short': 4142, 'haircut': 2031, 'signify': 4165, 'dna': 1345, 'tested': 4560, 'paternity': 3350, 'created': 1087, 'character': 804, 'called': 675, 'katheryn': 2501, 'hillary': 2156, 'clinton': 904, 'monster': 3037, 'truck': 4710, 'mishap': 3008, 'peta': 3402, 'murgatroyd': 3081, 'maksim': 2829, 'chmerkovskiy': 849, 'reaction': 3674, 'thought': 4592, 'kidding': 2531, 'miss': 3010, 'seeing': 4028, 'since': 4176, 'facetoface': 1607, 'transition': 4683, 'bruce': 620, 'suffering': 4434, 'regret': 3724, 'number': 3199, 'three': 4599, 'gad': 1844, 'jonah': 2448, 'hill': 2155, 'mistaken': 3013, 'identity': 2263, 'bust': 655, 'joint': 2442, 'stag': 4324, 'hen': 2129, 'open': 3251, 'explodes': 1592, 'patriarch': 3352, 'funeral': 1834, 'cushy': 1138, 'internship': 2335, 'spanish': 4273, 'embassy': 1485, 'jab': 2372, 'believed': 418, 'last': 2607, 'win': 4964, 'well': 4929, 'hanging': 2052, 'aubrey': 280, 'plaza': 3457, 'elizabeth': 1472, 'blacklisting': 490, 'joy': 2462, 'thrilled': 4600, 'october': 3215, 'alicia': 104, 'cargile': 715, 'got': 1958, 'remember': 3751, 'pulse': 3602, 'nightclub': 3168, 'victim': 4831, 'memorial': 2947, 'galaxy': 1851, 'search': 4018, 'talent': 4504, 'signing': 4166, 'margot': 2857, 'robbie': 3860, 'crushing': 1118, 'cher': 833, 'chaz': 817, 'bono': 529, 'die': 1286, 'soulmate': 4264, 'destined': 1263, 'stepdad': 4363, 'old': 3235, 'happened': 2056, 'rap': 3658, 'complex': 969, 'shiloh': 4127, 'joliepitt': 2446, 'hint': 2161, 'confirms': 990, 'kind': 2544, 'fka': 1727, 'twig': 4734, 'lesbian': 2668, 'flirt': 1739, 'thon': 4589, 'instagram': 2326, 'shady': 4087, 'pre': 3520, 'phone': 3414, 'several': 4074, 'savannah': 3973, 'guthrie': 2017, 'today': 4631, 'saddest': 3938, 'cleveland': 899, 'cavalier': 761, 'turner': 4726, 'seriously': 4062, 'committed': 954, 'safaree': 3939, 'samuel': 3953, 'challenge': 788, 'meek': 2930, 'mill': 2988, 'bet': 436, 'slimmed': 4212, 'unrecognizable': 4775, 'visited': 4847, 'counseling': 1057, 'retreat': 3801, 'gaga': 1847, 'halftime': 2035, 'delivery': 1228, 'scooter': 4002, 'braun': 576, 'estranged': 1542, 'stephen': 4365, 'belafonte': 415, 'settle': 4072, 'domestic': 1360, 'violence': 4842, 'thomalla': 4586, 'german': 1892, 'presenter': 3533, 'jayz': 2397, 'ridiculous': 3839, 'speculation': 4282, 'begs': 411, 'empire': 1494, 'marilyn': 2861, 'manson': 2848, 'testicle': 4561, 'stage': 4325, 'prop': 3580, 'accident': 24, 'engagement': 1508, 'leaked': 2637, 'apologizes': 205, 'amfar': 146, 'truly': 4713, 'sorry': 4260, 'massive': 2888, 'bump': 639, 'rejected': 3734, 'confronted': 993, 'nancy': 3102, 'pelosi': 3378, 'suffers': 4435, 'taken': 4501, 'capitol': 702, 'stretcher': 4404, 'gunnin': 2010, 'gunsmoke': 2012, 'shocked': 4132, 'nominated': 3183, 'magazine': 2810, 'lack': 2590, 'integrity': 2330, 'bradley': 566, 'cooper': 1034, 'stunk': 4418, 'dirty': 1305, 'diaper': 1280, 'backseat': 318, 'tbt': 4521, 'hilton': 2158, 'lie': 2686, 'occupy': 3211, 'democrat': 1235, 'kathy': 2503, 'neighbor': 3134, 'stupid': 4424, 'tch': 4522, 'escalates': 1535, 'returning': 3804, 'coach': 917, 'hilariously': 2154, 'pranked': 3516, 'compared': 961, 'adopting': 60, 'darren': 1175, 'aronofsky': 231, 'frosty': 1820, 'latest': 2610, 'float': 1743, 'office': 3224, 'step': 4362, 'stella': 4361, 'maxwell': 2900, 'bogus': 520, 'malibu': 2832, 'injured': 2313, 'dismisses': 1321, 'mueller': 3070, 'case': 735, 'wreck': 5014, 'iggy': 2265, 'azeala': 307, 'corey': 1042, 'gamble': 1855, 'monaco': 3033, 'dry': 1407, 'economist': 1449, 'starbucks': 4340, 'placed': 3445, 'floor': 1744, 'customer': 1141, 'te': 4523, 'ward': 4883, 'clint': 903, 'eastwood': 1443, 'greatest': 1980, 'hoax': 2168, 'perpetrated': 3396, 'matthew': 2896, 'director': 1304, 'kushner': 2578, 'ivanka': 2369, 'tossed': 4652, 'cutting': 1146, 'audition': 285, 'idol': 2264, 'san': 3954, 'francisco': 1798, 'brings': 599, 'helplessly': 2127, 'womanizing': 4992, 'tim': 4617, 'mcgraw': 2919, 'asked': 255, 'faith': 1618, 'dumpling': 1416, 'charged': 806, 'trying': 4720, 'murder': 3078, 'maxine': 2899, 'water': 4896, 'allowance': 117, 'appear': 208, 'adopt': 58, 'syrian': 4493, 'refugee': 3720, 'shoot': 4137, 'fueled': 1826, 'facebook': 1604, 'pick': 3422, 'alabama': 93, 'senate': 4043, 'race': 3631, 'gateway': 1870, 'pundit': 3604, 'breitbart': 587, 'discredited': 1313, 'allred': 119, 'accuser': 31, 'mika': 2982, 'brzezinski': 626, 'facelift': 1605, 'alexis': 103, 'bledel': 497, 'lends': 2664, 'hope': 2202, 'sisterhood': 4186, 'traveling': 4690, 'pant': 3319, 'reynolds': 3822, 'lively': 2723, 'trouble': 4707, 'poke': 3470, 'fun': 1831, 'popularity': 3487, 'rumi': 3915, 'colorado': 937, 'rockies': 3868, 'baseball': 365, 'sell': 4040, 'marijuana': 2860, 'brownie': 619, 'concession': 977, 'stand': 4334, 'irish': 2357, 'superstar': 4455, 'saoirse': 3960, 'ronan': 3885, 'lucia': 2776, 'judy': 2467, 'garland': 1863, 'drive': 1397, 'amidst': 148, 'anmer': 171, 'hall': 2037, 'frustrated': 1823, 'overshadowed': 3292, 'mum': 3075, 'slammed': 4204, 'georgina': 1888, 'chapman': 802, 'cash': 737, 'cow': 1068, 'meet': 2932, 'sweet': 4482, 'racially': 3633, 'profiled': 3570, 'airport': 90, 'wearing': 4907, 'headscarf': 2097, 'nanny': 3103, 'unfairly': 4761, 'demonizing': 1237, 'simon': 4172, 'cowell': 1070, 'america': 144, 'urging': 4789, 'fairy': 1617, 'tale': 4503, 'ending': 1502, 'halloween': 2040, 'richard': 3830, 'simmons': 4171, 'radaronline': 3638, 'privacy': 3553, 'tax': 4518, 'protest': 3587, 'bisexual': 482, 'garlic': 1864, 'allergy': 113, 'either': 1463, 'fastest': 1646, 'fassbender': 1644, 'racing': 3634, 'perfect': 3387, 'pr': 3513, 'russell': 3926, 'crowe': 1111, 'forrest': 1778, 'questioning': 3619, 'douchebag': 1378, 'stiller': 4375, 'try': 4719, 'brandi': 574, 'glanville': 1923, 'dark': 1171, 'decline': 1210, 'holland': 2175, 'marisa': 2864, 'tomei': 4638, 'selfie': 4038, 'colosseum': 939, 'deal': 1194, 'collapse': 930, 'september': 4055, 'digital': 1293, 'queer': 3616, 'amber': 141, 'rose': 3891, 'club': 913, 'kissing': 2554, 'bryan': 625, 'tanaka': 4508, 'posting': 3503, 'flashback': 1730, 'ten': 4545, 'thousand': 4593, 'scientist': 4000, 'declare': 1207, 'climate': 902, 'competing': 964, 'size': 4192, 'jen': 2403, 'radar': 3637, 'reigniting': 3729, 'court': 1062, 'french': 1810, 'miraval': 3002, 'castle': 743, 'hailey': 2027, 'baldwin': 332, 'band': 340, 'fiance': 1684, 'crop': 1108, 'festival': 1677, 'decided': 1203, 'blac': 488, 'chyna': 867, 'embarrass': 1483, 'refuse': 3721, 'eye': 1600, 'jersey': 2415, 'governor': 1961, 'premiere': 3526, 'icon': 2259, 'jean': 2400, 'king': 2546, 'upstage': 4784, 'bride': 591, 'minor': 2997, 'odd': 3216, 'craving': 1080, 'peanut': 3368, 'butter': 659, 'pickle': 3425, 'billy': 467, 'ray': 3669, 'jump': 2475, 'miracle': 3000, 'val': 4799, 'cancer': 693, 'horror': 2209, 'bizarre': 487, 'power': 3511, 'direct': 1302, 'adult': 64, 'bachmann': 314, 'suffered': 4433, 'slavery': 4207, 'arnett': 229, 'lee': 2652, 'rickles': 3835, 'pay': 3363, 'sag': 3942, 'halladay': 2038, 'plane': 3447, 'former': 1777, 'mlb': 3021, 'pitcher': 3441, 'hijab': 2149, 'sparking': 4275, 'mixed': 3018, 'feeling': 1665, 'mehgan': 2938, 'lying': 2792, 'mingle': 2995, 'move': 3061, 'voter': 4858, 'fraud': 1802, 'taking': 4502, 'rest': 3793, 'track': 4668, 'niall': 3158, 'horan': 2205, 'transporter': 4686, 'skrein': 4202, 'politics': 3476, 'throne': 4604, 'departure': 1250, 'building': 636, 'pool': 3482, 'sober': 4239, 'pink': 3433, 'boozing': 540, 'armie': 227, 'hammer': 2043, 'hero': 2135, 'gave': 1872, 'yesterday': 5037, 'onstage': 3247, 'messin': 2957, 'met': 2959, 'ye': 5031, 'important': 2279, 'apologises': 203, 'deeply': 1213, 'without': 4985, 'permission': 3395, 'happiest': 2059, 'week': 4916, 'enamored': 1499, 'vmas': 4852, 'attacked': 272, 'los': 2753, 'angeles': 164, 'mobbed': 3024, 'israel': 2365, 'cancel': 690, 'pm': 3465, 'benjamin': 428, 'netanyahu': 3144, 'entertainment': 1518, 'firstpost': 1720, 'thread': 4594, 'shocking': 4133, 'saw': 3977, 'mike': 2983, 'tyson': 4745, 'offered': 3223, 'ca': 664, 'russian': 3928, 'dictator': 1284, 'vladimir': 4850, 'putin': 3612, 'hiding': 2141, 'stedman': 4358, 'dadbod': 1154, 'sidekick': 4160, 'retweeted': 3805, 'cartoon': 732, 'train': 4674, 'killing': 2539, 'cnn': 915, 'dean': 1195, 'mcdermott': 2914, 'memoir': 2945, 'georgia': 1887, 'mosque': 3050, 'donation': 1368, 'send': 4045, 'instead': 2328, 'survived': 4467, 'thrived': 4602, 'academy': 19, 'chaffetz': 785, 'thumb': 4609, 'investigating': 2347, 'email': 1482, 'server': 4066, 'virginia': 4845, 'republican': 3777, 'school': 3995, 'check': 823, 'genitals': 1882, 'bathroom': 376, 'chose': 854, 'royalty': 3908, 'angel': 163, 'clash': 891, 'dragged': 1387, 'handcuff': 2047, 'wiretapping': 4977, 'cutest': 1145, 'cusp': 1139, 'youngest': 5045, 'self': 4036, 'forbes': 1766, 'estimating': 1541, 'large': 2604, 'allow': 116, 'fury': 1839, 'replacement': 3768, 'tye': 4741, 'sheridan': 4124, 'botch': 545, 'bst': 627, 'hyde': 2254, 'diamond': 1278, 'forbids': 1767, 'magic': 2811, 'dancer': 1163, 'audience': 283, 'randall': 3651, 'indefinitely': 2300, 'canceled': 691, 'arjun': 225, 'ogale': 3230, 'heather': 2111, 'locklear': 2732, 'joining': 2441, 'rhobh': 3825, 'celeb': 766, 'agree': 82, 'mary': 2883, 'ashley': 249, 'olsen': 3239, 'soaked': 4236, 'bitchy': 485, 'evil': 1563, 'caribbean': 716, 'fever': 1682, 'transform': 4679, 'chrissy': 857, 'teigen': 4539, 'plastic': 3450, 'except': 1570, 'cheek': 827, 'surgeon': 4459, 'procedure': 3560, 'cuddle': 1123, 'conor': 1004, 'kennedy': 2514, 'strong': 4407, 'obsessed': 3209, 'glow': 1929, 'confirming': 989, 'couric': 1061, 'agony': 81, 'steamy': 4357, 'miserable': 3007, 'mural': 3077, 'disck': 1311, 'lynne': 2793, 'cocaine': 919, 'bombshell': 525, 'withdrawn': 4982, 'ignoring': 2269, 'sexiest': 4079, 'alive': 106, 'seth': 4071, 'rogen': 3874, 'franco': 1799, 'matching': 2892, 'leftover': 2654, 'physical': 3419, 'sleep': 4209, 'spoiling': 4301, 'stormi': 4388, 'webster': 4911, 'perfected': 3388, 'art': 240, 'controlling': 1023, 'narrative': 3107, 'backup': 321, 'absence': 12, 'tiara': 4611, 'mother': 3052, 'led': 2650, 'heartbroken': 2108, 'tobey': 4630, 'maguire': 2815, 'torn': 4650, 'career': 712, 'ackerley': 34, 'macaulay': 2797, 'culkin': 1126, 'friendly': 1816, 'tried': 4699, 'expected': 1582, 'iraq': 2353, 'trip': 4702, 'publicity': 3597, 'stunt': 4422, 'comfort': 947, 'tank': 4509, 'dornan': 1375, 'dakota': 1158, 'bed': 400, 'forced': 1769, 'reshoot': 3781, 'fifty': 1691, 'darker': 1173, 'catastrophic': 748, 'music': 3086, 'preview': 3543, 'naomi': 3104, 'watt': 4901, 'neeson': 3132, 'false': 1627, 'article': 242, 'le': 2629, 'fox': 1792, 'tucker': 4721, 'carlson': 719, 'head': 2093, 'collision': 933, 'camera': 682, 'wandering': 4876, 'nude': 3197, 'ish': 2362, 'brody': 607, 'police': 3471, 'female': 1670, 'freezer': 1809, 'carved': 734, 'dolly': 1358, 'parton': 3340, 'better': 442, 'bush': 651, 'put': 3611, 'liberal': 2684, 'impeach': 2277, 'standing': 4336, 'forever': 1772, 'civil': 881, 'erupts': 1534, 'sweden': 4481, 'irate': 2354, 'swede': 4480, 'burn': 648, 'center': 778, 'ground': 1994, 'cate': 751, 'blanchett': 494, 'andrew': 160, 'fine': 1712, 'cole': 926, 'strain': 4394, 'ordered': 3260, 'repair': 3765, 'ab': 2, 'simple': 4174, 'exercise': 1576, 'serena': 4058, 'mcenroe': 2916, 'circuit': 877, 'scarlett': 3988, 'johansson': 2436, 'laugh': 2614, 'jost': 2458, 'quickie': 3620, 'longoria': 2743, 'uncomfortable': 4754, 'lopsided': 2750, 'triangle': 4697, 'gift': 1908, 'forgive': 1774, 'session': 4069, 'powered': 3512, 'testimony': 4563, 'retires': 3799, 'will': 4958, 'coronation': 1045, 'steely': 4359, 'dan': 1161, 'walter': 4874, 'becker': 396, 'ballistic': 336, 'contraction': 1021, 'rush': 3923, 'sunny': 4448, 'seems': 4032, 'talking': 4507, 'ironclad': 2360, 'metoo': 2960, 'timesup': 4621, 'jewel': 2420, 'abused': 17, 'shape': 4099, 'opinion': 3254, 'whose': 4949, 'else': 1480, 'scared': 3986, 'speaking': 4277, 'greeting': 1982, 'whatsapp': 4937, 'status': 4351, 'yahoo': 5028, 'headline': 2096, 'great': 1979, 'grandmother': 1974, 'mj': 3020, 'probably': 3558, 'hopeless': 2203, 'fish': 1722, 'across': 37, 'sushi': 4469, 'restaurant': 3794, 'labelled': 2585, 'sought': 4262, 'seal': 4016, 'approval': 214, 'proposing': 3584, 'dye': 1429, 'avenger': 296, 'alec': 97, 'meyers': 2965, 'many': 2850, 'worst': 5009, 'macklemore': 2799, 'twice': 4733, 'nyc': 3204, 'terror': 4556, 'ep': 1523, 'stormed': 4387, 'tear': 4528, 'mayer': 2903, 'sent': 4050, 'savage': 3972, 'irene': 2355, 'shark': 4105, 'swimming': 4487, 'street': 4401, 'surprised': 4463, 'sasha': 3963, 'crashed': 1078, 'expensive': 1585, 'lake': 2595, 'wanted': 4879, 'aisle': 91, 'business': 653, 'nobody': 3179, 'said': 3943, 'satan': 3966, 'nice': 3159, 'guy': 2018, 'misunderstood': 3016, 'forget': 1773, 'memoriam': 2948, 'segment': 4034, 'air': 89, 'balding': 331, 'guess': 2001, 'suspect': 4470, 'gf': 1899, 'hook': 2197, 'gone': 1943, 'benet': 427, 'halle': 2039, 'berry': 433, 'boo': 530, 'da': 1151, 'bora': 542, 'baecation': 324, 'tisdale': 4627, 'maid': 2818, 'honour': 2194, 'hannibal': 2054, 'buress': 645, 'miami': 2968, 'disorderly': 1325, 'intoxication': 2340, 'incident': 2288, 'reinstated': 3732, 'sacred': 3933, 'clarifies': 886, 'completely': 967, 'context': 1018, 'declares': 1209, 'consort': 1010, 'marries': 2874, 'ceremony': 782, 'plus': 3464, 'haines': 2029, 'hired': 2164, 'detective': 1268, 'casey': 736, 'harassment': 2062, 'texted': 4568, 'comic': 948, 'con': 973, 'panel': 3316, 'anne': 176, 'hathaway': 2083, 'angering': 167, 'barbie': 351, 'demand': 1231, 'warns': 4888, 'scam': 3982, 'artist': 243, 'hillsong': 2157, 'rinsing': 3847, 'follower': 1756, 'money': 3034, 'cult': 1129, 'accusation': 29, 'ultimate': 4748, 'bff': 448, 'txt': 4740, 'master': 2889, 'hrldcpr': 2227, 'buzzfeed': 663, 'github': 1915, 'bid': 451, 'emilia': 1488, 'clarke': 889, 'flashnewscorner': 1731, 'felt': 1668, 'impulsive': 2284, 'diplo': 1300, 'flirty': 1742, 'coachella': 918, 'ago': 80, 'ange': 162, 'sweating': 4479, 'pilate': 3432, 'workout': 5003, 'class': 892, 'celebrating': 770, 'cozying': 1073, 'grimy': 1990, 'paula': 3359, 'abdul': 7, 'spark': 4274, 'disorder': 1324, 'relapse': 3736, 'elaborate': 1465, 'suing': 4441, 'pusha': 3609, 'yoga': 5039, 'rearranges': 3685, 'deck': 1205, 'chair': 786, 'redacted': 3711, 'spring': 4311, 'reunite': 3807, 'netflix': 3145, 'maniac': 2844, 'superbad': 4450, 'bothered': 547, 'farm': 1638, 'animal': 169, 'consolation': 1009, 'validate': 4803, 'existence': 1578, 'mgm': 2966, 'bringing': 598, 'gang': 1858, 'legally': 2658, 'blonde': 503, 'bracelet': 564, 'lena': 2663, 'dunham': 1418, 'affectionate': 70, 'jack': 2373, 'antonoff': 194, 'winning': 4969, 'gretchen': 1984, 'nd': 3125, 'amendment': 143, 'invented': 2346, 'hide': 2140, 'gross': 1992, 'stuff': 4417, 'blowout': 509, 'eniko': 1512, 'title': 4628, 'stranger': 4395, 'creator': 1090, 'heartbreaking': 2107, 'cold': 925, 'divided': 1340, 'ferrell': 1675, 'frenemies': 1811, 'steal': 4354, 'thunder': 4610, 'jt': 2464, 'breast': 583, 'lift': 2691, 'causing': 760, 'problem': 3559, 'raise': 3647, 'ranking': 3655, 'pad': 3303, 'library': 2685, 'following': 1757, 'robbery': 3859, 'dumped': 1414, 'exchange': 1571, 'loving': 2767, 'celebration': 771, 'swearing': 4477, 'drown': 1404, 'fatherhood': 1651, 'bitter': 486, 'blood': 504, 'rage': 3643, 'katharine': 2499, 'mcphee': 2921, 'jane': 2386, 'doe': 1352, 'charlie': 809, 'hunnam': 2243, 'booed': 532, 'senior': 4047, 'selfhelp': 4037, 'writing': 5018, 'unsual': 4776, 'sauna': 3970, 'addiction': 50, 'comey': 946, 'total': 4653, 'vindication': 4840, 'hudgens': 2228, 'butler': 658, 'remembers': 3752, 'brother': 615, 'tyga': 4742, 'springsteen': 4313, 'meadow': 2924, 'walker': 4870, 'denise': 1242, 'richards': 3831, 'explains': 1589, 'pee': 3371, 'stain': 4327, 'spilled': 4294, 'area': 218, 'heavyweight': 2113, 'small': 4217, 'yes': 5036, 'analyzing': 154, 'reputation': 3778, 'usual': 4797, 'scowling': 4005, 'venus': 4818, 'wimbledon': 4963, 'spain': 4272, 'garbi': 1860, 'muguruza': 3072, 'raid': 3645, 'hidden': 2139, 'duo': 1420, 'fm': 1753, 'finalized': 1706, 'injection': 2312, 'kinney': 2549, 'ford': 1770, 'resurrecting': 3797, 'texas': 4566, 'enforcement': 1505, 'officer': 3225, 'fatally': 1648, 'shot': 4143, 'upon': 4782, 'arriving': 239, 'deport': 1251, 'highest': 2145, 'liv': 2721, 'tyler': 4743, 'waiting': 4864, 'fourth': 1790, 'waitress': 4865, 'tip': 4625, 'picking': 3424, 'soldier': 4246, 'tab': 4497, 'nbc': 3121, 'anchor': 156, 'florence': 1748, 'blown': 508, 'amas': 138, 'kidney': 2534, 'australia': 291, 'flash': 1729, 'beard': 386, 'petra': 3407, 'collins': 932, 'crazy': 1084, 'proved': 3593, 'dominance': 1361, 'economy': 1450, 'curious': 1134, 'robocall': 3865, 'damaging': 1159, 'supporting': 4457, 'jason': 2391, 'aldean': 96, 'exploit': 1593, 'chinese': 845, 'lunar': 2784, 'rover': 3902, 'evidence': 1562, 'landing': 2601, 'dissed': 1331, 'lusting': 2789, 'funniest': 1835, 'bug': 635, 'prank': 3515, 'spider': 4291, 'firefighter': 1717, 'others': 3271, 'penalty': 3381, 'breaker': 580, 'introduced': 2342, 'pal': 3308, 'catch': 749, 'hooking': 2199, 'hunger': 2241, 'strike': 4405, 'pooh': 3481, 'sweetest': 4483, 'flaunt': 1733, 'beach': 383, 'romp': 3883, 'suki': 4443, 'waterhouse': 4898, 'heartbreak': 2105, 'response': 3791, 'carnival': 721, 'offer': 3222, 'free': 1805, 'betrayed': 440, 'cashing': 738, 'record': 3704, 'fonda': 1758, 'patrick': 3353, 'dempsey': 1238, 'jillian': 2426, 'arrest': 234, 'fairmont': 1616, 'terrace': 4553, 'apartment': 200, 'destroy': 1264, 'stokes': 4377, 'barack': 348, 'died': 1287, 'parent': 3326, 'disagree': 1307, 'nsync': 3196, 'filing': 1694, 'jada': 2378, 'pinkett': 3434, 'place': 3444, 'district': 1333, 'craig': 1076, 'jacket': 2374, 'maker': 2826, 'huge': 2231, 'alleged': 109, 'carter': 731, 'attracted': 279, 'letter': 2675, 'shame': 4092, 'rip': 3850, 'tragic': 4672, 'episode': 1525, 'mar': 2852, 'lago': 2592, 'destroyed': 1265, 'jared': 2389, 'philanthropist': 3410, 'holliday': 2176, 'inauguration': 2286, 'afford': 72, 'nadine': 3098, 'leopold': 2666, 'abasolo': 3, 'brave': 577, 'rain': 3646, 'errand': 1533, 'dying': 1430, 'treat': 4693, 'ton': 4640, 'schwimmer': 3999, 'trapped': 4687, 'nasty': 3112, 'laguna': 2593, 'antifa': 193, 'hogg': 2170, 'attend': 274, 'parkland': 3333, 'redondo': 3714, 'shore': 4141, 'california': 673, 'graduated': 1967, 'yearbook': 5033, 'chance': 792, 'sandler': 3956, 'safdie': 3940, 'uncut': 4756, 'gem': 1878, 'throat': 4603, 'panic': 3317, 'bette': 441, 'midler': 2976, 'pierce': 3431, 'hello': 2123, 'july': 2474, 'took': 4644, 'clothes': 912, 'cheekily': 828, 'grab': 1964, 'tush': 4728, 'enough': 1514, 'attract': 278, 'underwood': 4758, 'warped': 4889, 'mit': 3017, 'professor': 3568, 'pleads': 3459, 'prevent': 3541, 'hip': 2162, 'hop': 2201, 'shaded': 4086, 'trainer': 4675, 'nutritionist': 3202, 'goldie': 1941, 'hawn': 2089, 'kurt': 2577, 'match': 2891, 'helped': 2125, 'recover': 3707, 'transplant': 4685, 'giving': 1920, 'connecting': 1002, 'literally': 2719, 'massage': 2887, 'bought': 550, 'penthouse': 3383, 'presented': 3532, 'vlogmail': 4851, 'offender': 3220, 'celebritynews': 773, 'celebrityrumors': 774, 'fakenews': 1620, 'gossipcop': 1957, 'sabotaging': 3932, 'trademark': 4670, 'officially': 3227, 'denied': 1239, 'deep': 1212, 'download': 1382, 'hq': 2225, 'porn': 3488, 'massacre': 2886, 'saved': 3975, 'lost': 2757, 'cory': 1048, 'booker': 535, 'dis': 1306, 'wood': 4994, 'denouncing': 1246, 'turn': 4724, 'gerard': 1889, 'bankrupt': 345, 'lexus': 2681, 'suv': 4474, 'denounces': 1245, 'reference': 3718, 'renovating': 3763, 'rumoured': 3919, 'debunking': 1200, 'mccarthyism': 2910, 'accuses': 32, 'wire': 4975, 'tapping': 4511, 'election': 1466, 'guilty': 2007, 'conduct': 982, 'cattrall': 757, 'toxic': 4663, 'weather': 4908, 'buying': 662, 'alivetales': 107, 'learns': 2645, 'sing': 4177, 'maddox': 2804, 'scare': 3985, 'lead': 2631, 'kicked': 2527, 'direction': 1303, 'pope': 3484, 'francis': 1797, 'koran': 2564, 'holy': 2180, 'bible': 450, 'adoption': 61, 'fashion': 1642, 'apprentice': 212, 'confuses': 994, 'evans': 1552, 'service': 4067, 'ask': 254, 'londoner': 2739, 'tattoo': 4515, 'tragedy': 4671, 'shatters': 4106, 'jeopardy': 2410, 'troubled': 4708, 'temper': 4543, 'mcconaughey': 2911, 'original': 3263, 'lyric': 2794, 'gorgeous': 1953, 'telling': 4542, 'letterman': 2676, 'retired': 3798, 'risk': 3852, 'fortune': 1780, 'gambling': 1856, 'ralphie': 3649, 'broderick': 606, 'butterfly': 660, 'adorable': 62, 'tempting': 4544, 'endless': 1503, 'exaggerated': 1568, 'bonding': 528, 'feuding': 1681, 'guide': 2004, 'increasingly': 2297, 'intense': 2331, 'irina': 2356, 'shayk': 4111, 'tonya': 4643, 'harding': 2067, 'finale': 1704, 'livid': 2724, 'kerry': 2519, 'bond': 527, 'pippa': 3436, 'sharing': 4104, 'rushing': 3925, 'universe': 4772, 'guayana': 2000, 'arrestada': 235, 'kilo': 2540, 'en': 1498, 'african': 74, 'doll': 1356, 'produce': 3562, 'spends': 4287, 'kick': 2526, 'derek': 1256, 'witnessed': 4987, 'here': 2134, 'terrifying': 4555, 'zac': 5049, 'efron': 1458, 'serial': 4059, 'killer': 2538, 'ted': 4533, 'bundy': 642, 'freed': 1807, 'fill': 1695, 'studio': 4415, 'kashing': 2496, 'shopping': 4140, 'spree': 4310, 'dollar': 1357, 'burglarized': 646, 'awkward': 304, 'avoid': 297, 'bash': 367, 'spook': 4305, 'slowly': 4215, 'poisoning': 3469, 'fuming': 1830, 'copycat': 1038, 'perfume': 3392, 'reconciliation': 3701, 'higgins': 2142, 'lauren': 2618, 'bushnell': 652, 'bad': 322, 'cuddling': 1124, 'close': 909, 'confesses': 983, 'recall': 3692, 'screech': 4008, 'dustin': 1424, 'courteney': 1063, 'cox': 1071, 'mistress': 3015, 'thug': 4608, 'osborne': 3268, 'industry': 2303, 'act': 38, 'gentleman': 1884, 'taunt': 4517, 'packer': 3301, 'branded': 573, 'remove': 3756, 'showmance': 4150, 'staging': 4326, 'barrel': 358, 'contain': 1013, 'part': 3336, 'liev': 2687, 'schreiber': 3996, 'stepped': 4366, 'spotlight': 4308, 'stunning': 4420, 'cannes': 698, 'carpet': 725, 'france': 1795, 'criticism': 1104, 'axl': 305, 'passionate': 3345, 'makeup': 2827, 'explained': 1588, 'stunned': 4419, 'pretty': 3539, 'bridesmaid': 592, 'among': 150, 'racist': 3636, 'battling': 381, 'pursuing': 3608, 'spokesman': 4303, 'erika': 1531, 'cardenas': 708, 'stake': 4328, 'multimillion': 3073, 'juan': 2465, 'council': 1056, 'unanimously': 4751, 'hating': 2084, 'mayor': 2906, 'also': 125, 'insider': 2320, 'gibson': 1905, 'sherry': 4125, 'lansing': 2603, 'hines': 2159, 'freak': 1803, 'rfk': 3823, 'forum': 1781, 'considered': 1007, 'feuded': 1680, 'heche': 2114, 'rd': 3670, 'palace': 3309, 'barstool': 362, 'sport': 4306, 'nolan': 3181, 'kept': 2516, 'casting': 742, 'whether': 4939, 'played': 3454, 'outsize': 3281, 'political': 3472, 'bollywood': 522, 'ordering': 3261, 'conway': 1028, 'politicizing': 3475, 'disrespectful': 1327, 'via': 4826, 'surrogate': 4465, 'bikini': 459, 'vacation': 4798, 'turk': 4723, 'caicos': 667, 'sends': 4046, 'flower': 1750, 'gender': 1879, 'gap': 1859, 'least': 2646, 'horse': 2210, 'waterfront': 4897, 'estate': 1539, 'bernie': 432, 'madoff': 2808, 'orchestrated': 3258, 'bos': 544, 'mistreats': 3014, 'staff': 4322, 'heard': 2101, 'booty': 539, 'gate': 1869, 'reagan': 3679, 'passed': 3343, 'united': 4770, 'beginning': 410, 'separated': 4053, 'stolen': 4379, 'jewellery': 2421, 'funding': 1833, 'terrorism': 4557, 'pleased': 3461, 'ski': 4195, 'discover': 1312, 'huma': 2236, 'abedin': 8, 'dumpster': 1417, 'recognizing': 3700, 'potential': 3506, 'peril': 3393, 'limitless': 2704, 'mind': 2993, 'near': 3127, 'vanity': 4809, 'fair': 1615, 'uspet': 4796, 'deadpool': 1192, 'mainly': 2820, 'fiancee': 1685, 'pissed': 3439, 'gym': 2022, 'lifted': 2692, 'conjugal': 1001, 'hookup': 2200, 'exposed': 1596, 'became': 394, 'pampered': 3314, 'pooch': 3480, 'ruined': 3911, 'luxury': 2790, 'venue': 4817, 'hoping': 2204, 'nba': 3120, 'brolin': 610, 'almost': 120, 'choking': 852, 'different': 1291, 'priority': 3551, 'removing': 3758, 'marine': 2862, 'navy': 3118, 'smokin': 4224, 'inc': 2287, 'resign': 3784, 'fascinating': 1641, 'undercover': 4757, 'acms': 36, 'cara': 706, 'delevingne': 1225, 'deleted': 1224, 'storm': 4386, 'ditching': 1337, 'agency': 77, 'focus': 1754, 'alessandra': 98, 'ambrosio': 142, 'insisting': 2321, 'chelsea': 831, 'handler': 2048, 'fault': 1654, 'schumer': 3997, 'cocktail': 920, 'phelps': 3409, 'april': 216, 'fool': 1761, 'hug': 2230, 'fuel': 1825, 'houston': 2224, 'texan': 4565, 'goo': 1945, 'lifetime': 2690, 'freeman': 1808, 'narrates': 3106, 'closing': 911, 'campaign': 688, 'ungrateful': 4766, 'threatening': 4597, 'starboy': 4339, 'liar': 2683, 'administration': 54, 'politician': 3474, 'disapproval': 1310, 'perrie': 3398, 'edward': 1456, 'sunglass': 4447, 'welcoming': 4927, 'whirlwind': 4940, 'damon': 1160, 'alyssa': 133, 'milano': 2985, 'condone': 981, 'misconduct': 3006, 'baio': 328, 'beloved': 422, 'conservatism': 1006, 'arnold': 230, 'cohen': 924, 'pro': 3557, 'russia': 3927, 'weed': 4915, 'assange': 259, 'gop': 1951, 'congressman': 1000, 'tough': 4658, 'beat': 389, 'hosting': 2216, 'postoscars': 3504, 'starting': 4345, 'fostering': 1784, 'tiger': 4614, 'lin': 2705, 'manuel': 2849, 'puerto': 3600, 'rico': 3837, 'extortion': 1597, 'attempt': 273, 'suggestive': 4438, 'renew': 3761, 'vow': 4860, 'lovingly': 2768, 'stay': 4352, 'warm': 4885, 'sized': 4193, 'scarf': 3987, 'weigh': 4919, 'attorney': 277, 'general': 1880, 'recusal': 3709, 'ruling': 3914, 'darkness': 1174, 'denzel': 1248, 'washington': 4892, 'avoided': 298, 'orwellian': 3266, 'al': 92, 'roker': 3875, 'recent': 3697, 'redford': 3713, 'five': 1725, 'murdered': 3079, 'dnc': 1346, 'staffer': 4323, 'rich': 3829, 'wikileaks': 4954, 'covered': 1066, 'sweetheart': 4484, 'bachelor': 312, 'whitney': 4945, 'bischoff': 481, 'didnt': 1285, 'johnny': 2438, 'depp': 1252, 'deadly': 1191, 'disease': 1316, 'ticket': 4612, 'carrey': 727, 'brainwashing': 569, 'worshipping': 5008, 'paulina': 3361, 'rubio': 3910, 'collaborating': 928, 'snake': 4227, 'forthcoming': 1779, 'outside': 3280, 'buckingham': 630, 'backfire': 316, 'revelation': 3814, 'aspen': 258, 'epitome': 1526, 'beauty': 393, 'brain': 568, 'jon': 2447, 'hamm': 2042, 'lauded': 2612, 'juggling': 2469, 'wine': 4966, 'leaping': 2641, 'svu': 4475, 'renewed': 3762, 'showrunner': 4151, 'rick': 3834, 'eid': 1460, 'exit': 1580, 'pd': 3365, 'nickname': 3163, 'approve': 215, 'barrett': 359, 'corinne': 1044, 'olympios': 3241, 'demario': 1233, 'transitioning': 4684, 'catelynn': 753, 'lowell': 2770, 'treatment': 4694, 'charm': 812, 'casual': 744, 'sweat': 4478, 'front': 1819, 'row': 3903, 'nyfw': 3205, 'leighton': 2661, 'meester': 2931, 'platinum': 3451, 'juelia': 2468, 'evan': 1550, 'bass': 372, 'montag': 3038, 'spencer': 4284, 'ranked': 3654, 'including': 2293, 'kissable': 2553, 'sam': 3949, 'asghari': 246, 'montage': 3039, 'harrison': 2071, 'rooting': 3890, 'announced': 179, 'footage': 1763, 'jordan': 2452, 'glo': 1925, 'feldman': 1666, 'rape': 3659, 'coreys': 1043, 'aside': 253, 'fame': 1629, 'mess': 2955, 'financially': 1709, 'beau': 390, 'benefit': 426, 'gold': 1938, 'ronnie': 3886, 'dissects': 1330, 'penn': 3382, 'haiti': 2033, 'atlanta': 270, 'shia': 4126, 'labeouf': 2586, 'weirdest': 4924, 'lesson': 2672, 'learned': 2643, 'mac': 2796, 'fianc': 1683, 'longer': 2742, 'worked': 5000, 'thor': 4590, 'ragnarok': 3644, 'theater': 4574, 'mark': 2867, 'zuckerberg': 5061, 'booster': 537, 'claire': 884, 'declared': 1208, 'independence': 2301, 'loved': 2764, 'second': 4023, 'metz': 2962, 'banked': 343, 'series': 4060, 'evolution': 1564, 'quickly': 3621, 'shampoo': 4096, 'ncis': 3124, 'cbs': 765, 'harmon': 2068, 'ink': 2315, 'teen': 4536, 'og': 3229, 'mackenzie': 2798, 'standifer': 4335, 'douglas': 1379, 'praise': 3514, 'catherine': 755, 'zeta': 5054, 'jones': 2450, 'earning': 1437, 'success': 4430, 'ramona': 3650, 'shaking': 4090, 'megan': 2935, 'rare': 3662, 'river': 3854, 'green': 1981, 'alike': 105, 'kamilla': 2486, 'osman': 3270, 'roll': 3877, 'stupak': 4423, 'lisa': 2716, 'rinna': 3846, 'beverly': 443, 'totally': 4654, 'oh': 3231, 'asian': 252, 'cried': 1095, 'petty': 3408, 'cardiac': 710, 'recites': 3699, 'favourite': 1657, 'fetch': 1678, 'paradise': 3325, 'kirsten': 2550, 'dunst': 1419, 'beautiful': 392, 'don': 1363, 'glossy': 1927, 'companion': 959, 'duchess': 1408, 'mette': 2961, 'marit': 2866, 'frozen': 1821, 'vibe': 4828, 'hoodie': 2196, 'hike': 2150, 'outrageous': 3279, 'fashioned': 1643, 'meal': 2925, 'sews': 4077, 'refrain': 3719, 'googling': 1949, 'participant': 3337, 'rebecca': 3688, 'raped': 3660, 'vartan': 4811, 'conflict': 991, 'arrangement': 233, 'annalynne': 175, 'mccord': 2912, 'ego': 1459, 'shenae': 4119, 'grime': 1989, 'valley': 4805, 'brittany': 604, 'touni': 4659, 'rupaul': 3922, 'legacy': 2656, 'jessie': 2418, 'decker': 1206, 'della': 1229, 'touched': 4656, 'cressida': 1093, 'bonas': 526, 'carol': 722, 'evelyn': 1555, 'lozada': 2774, 'carl': 717, 'touching': 4657, 'monologue': 3036, 'somewhere': 4252, 'fund': 1832, 'wyd': 5022, 'fails': 1613, 'saturday': 3969, 'saving': 3976, 'lupita': 2786, 'nyong': 3207, 'fur': 1837, 'bargain': 356, 'snapchat': 4229, 'showcase': 4148, 'mention': 2952, 'wealthy': 4904, 'dick': 1283, 'clark': 888, 'rockin': 3869, 'eve': 1554, 'cabello': 665, 'hussey': 2250, 'pictured': 3428, 'venice': 4814, 'joss': 2457, 'whedon': 4938, 'hypocrite': 2256, 'preaching': 3521, 'feminist': 1671, 'ideal': 2262, 'kai': 2481, 'rhonj': 3826, 'warned': 4886, 'depaola': 1249, 'chic': 838, 'sheer': 4113, 'clear': 896, 'cinderella': 872, 'denim': 1241, 'skirt': 4200, 'snag': 4226, 'onion': 3244, 'instagrams': 2327, 'account': 27, 'siriano': 4184, 'walsh': 4873, 'nearly': 3128, 'aguilera': 84, 'strip': 4406, 'bathtub': 377, 'elle': 1474, 'favorite': 1656, 'dated': 1179, 'valid': 4802, 'forgot': 1776, 'file': 1693, 'niro': 3176, 'yell': 5034, 'tony': 4642, 'receives': 3696, 'ovation': 3283, 'actual': 43, 'degrassi': 1222, 'revival': 3819, 'according': 26, 'horoscope': 2206, 'kristin': 2572, 'cavallari': 762, 'newlywed': 3152, 'shutdown': 4155, 'birkins': 477, 'maybachs': 2902, 'revisiting': 3818, 'bethenny': 438, 'frankel': 1800, 'charter': 814, 'aid': 86, 'maria': 2858, 'zone': 5059, 'dietary': 1289, 'trend': 4695, 'protester': 3588, 'disrupt': 1328, 'costume': 1054, 'keri': 2517, 'yara': 5030, 'shahidi': 4088, 'raven': 3667, 'opening': 3253, 'credit': 1091, 'theme': 4575, 'catchy': 750, 'brow': 617, 'gel': 1876, 'microblading': 2973, 'baier': 327, 'physically': 3420, 'abusing': 18, 'portwood': 3495, 'disneyland': 1323, 'colonoscopy': 935, 'finalist': 1705, 'chosen': 855, 'walking': 4871, 'katelyn': 2498, 'nacon': 3097, 'item': 2368, 'zombie': 5058, 'apocalypse': 201, 'hugt': 2234, 'planned': 3448, 'parenthood': 3328, 'organization': 3262, 'recap': 3693, 'briana': 590, 'javi': 2392, 'garfield': 1862, 'reunited': 3808, 'oprah': 3256, 'god': 1934, 'told': 4636, 'peele': 3374, 'peretti': 3386, 'beaumont': 391, 'stile': 4372, 'wolf': 4989, 'posey': 3497, 'nylon': 3206, 'keeper': 2507, 'murderer': 3080, 'breath': 585, 'alexander': 101, 'mcqueen': 2922, 'busy': 657, 'heath': 2110, 'ledger': 2651, 'cfda': 783, 'demi': 1234, 'lovato': 2761, 'luis': 2780, 'fonsi': 1759, 'chame': 789, 'culpa': 1127, 'hat': 2078, 'nativity': 3116, 'lowe': 2769, 'celebrate': 767, 'moana': 3022, 'enviable': 1522, 'closet': 910, 'shawn': 4110, 'holiday': 2174, 'toronto': 4651, 'gellar': 1877, 'irl': 2358, 'earned': 1436, 'describes': 1258, 'fainting': 1614, 'brought': 616, 'disrupts': 1329, 'another': 185, 'priceless': 3544, 'ghosted': 1902, 'bromantic': 612, 'grown': 1996, 'geoffrey': 1885, 'australian': 292, 'newspaper': 3154, 'medal': 2928, 'shaun': 4107, 'olympics': 3240, 'roseanne': 3892, 'overall': 3284, 'spice': 4289, 'niece': 3166, 'petal': 3403, 'filled': 1696, 'getaway': 1896, 'eminem': 1490, 'selling': 4042, 'spaghetti': 4271, 'shop': 4139, 'culpo': 1128, 'allison': 115, 'goodbye': 1947, 'confidence': 985, 'patient': 3351, 'jordyn': 2454, 'commitment': 953, 'neve': 3147, 'campbell': 689, 'adopted': 59, 'maryse': 2884, 'freaking': 1804, 'scarborough': 3984, 'chipotle': 846, 'changing': 798, 'queso': 3617, 'recipe': 3698, 'mario': 2863, 'batali': 373, 'included': 2291, 'cinnamon': 875, 'fiscal': 1721, 'todd': 4632, 'strategic': 4396, 'budgetary': 633, 'assessment': 263, 'dance': 1162, 'verlander': 4821, 'brink': 600, 'chloe': 848, 'lukasiak': 2781, 'rub': 3909, 'abby': 5, 'supportive': 4458, 'attends': 275, 'board': 514, 'reporting': 3773, 'duty': 1425, 'hostage': 2215, 'port': 3490, 'usa': 4791, 'kara': 2488, 'mccullough': 2913, 'backtracks': 320, 'ohanian': 3232, 'babymoon': 311, 'gina': 1912, 'latino': 2611, 'cazzie': 764, 'shine': 4128, 'sequined': 4057, 'philipps': 3412, 'pain': 3306, 'flipped': 1737, 'ovary': 3282, 'university': 4773, 'journal': 2459, 'popular': 3486, 'study': 4416, 'jurassic': 2478, 'key': 2522, 'franchise': 1796, 'filmmaking': 1702, 'fulfilled': 1827, 'shaunie': 4108, 'neal': 3126, 'jaw': 2393, 'dropper': 1402, 'aboard': 10, 'pirate': 3438, 'ride': 3838, 'colombian': 934, 'maluma': 2836, 'aunt': 288, 'congratulated': 996, 'philip': 3411, 'hospitalization': 2212, 'gush': 2015, 'lorde': 2752, 'er': 1528, 'wide': 4950, 'receiver': 3695, 'marquise': 2871, 'goodwin': 1948, 'score': 4003, 'touchdown': 4655, 'travel': 4689, 'nephew': 3139, 'congratulates': 997, 'dove': 1380, 'cameron': 683, 'thomas': 4587, 'doherty': 1354, 'magical': 2812, 'auli': 287, 'cravalho': 1079, 'blessed': 498, 'dwts': 1427, 'lollapalooza': 2737, 'evacuated': 1549, 'lovely': 2765, 'floral': 1747, 'honest': 2187, 'balvin': 337, 'neon': 3138, 'yellow': 5035, 'based': 366, 'shirt': 4129, 'brand': 572, 'wonder': 4993, 'baywatch': 382, 'cooking': 1030, 'grey': 1985, 'anatomy': 155, 'spinoff': 4296, 'clique': 906, 'luann': 2775, 'lesseps': 2671, 'grant': 1975, 'earlier': 1435, 'paul': 3358, 'nassif': 3110, 'impeachment': 2278, 'becomes': 398, 'cynical': 1149, 'botched': 546, 'ottavio': 3272, 'doctor': 1348, 'logan': 2733, 'suicide': 4440, 'accurate': 28, 'infamous': 2305, 'tennis': 4548, 'thorne': 4591, 'lana': 2598, 'del': 1223, 'rey': 3821, 'severed': 4076, 'foot': 1762, 'hxg': 2253, 'accessorized': 23, 'gown': 1962, 'poem': 3467, 'flask': 1732, 'mr': 3066, 'robot': 3866, 'cardi': 709, 'narrate': 3105, 'spoken': 4302, 'devastating': 1271, 'promotes': 3578, 'severe': 4075, 'view': 4836, 'overhaul': 3287, 'hospitalized': 2213, 'kendra': 2512, 'wilkinson': 4957, 'snow': 4233, 'panther': 3321, 'racism': 3635, 'daphne': 1169, 'oz': 3297, 'realness': 3684, 'bounce': 551, 'ansel': 186, 'elgort': 1467, 'riff': 3840, 'purposely': 3607, 'releasing': 3743, 'anthony': 190, 'gary': 1868, 'goddard': 1935, 'molested': 3028, 'photographed': 3417, 'proof': 3579, 'jesse': 2416, 'basically': 369, 'professional': 3567, 'clayne': 894, 'lethal': 2674, 'weapon': 4905, 'fallon': 1625, 'wore': 4998, 'batman': 378, 'terminal': 4552, 'greta': 1983, 'gerwig': 1894, 'woody': 4995, 'allen': 112, 'realized': 3682, 'increased': 2296, 'nicky': 3164, 'teddy': 4534, 'precious': 3522, 'kyle': 2581, 'stalker': 4329, 'target': 4514, 'stuart': 4412, 'weitzman': 4925, 'sock': 4243, 'patti': 3356, 'lupone': 2787, 'chastain': 815, 'disturbed': 1334, 'representation': 3775, 'presidential': 3535, 'candidate': 694, 'contempt': 1014, 'journalist': 2460, 'filmed': 1699, 'soules': 4263, 'cycling': 1148, 'wisin': 4980, 'yandel': 5029, 'famous': 1631, 'culture': 1130, 'pancreatic': 3315, 'aretha': 220, 'franklin': 1801, 'nostalgic': 3190, 'unwritten': 4779, 'sussex': 4472, 'southern': 4269, 'ravenel': 3668, 'jacob': 2377, 'mouthing': 3060, 'kathryn': 2502, 'dennis': 1244, 'desiree': 1260, 'hartsock': 2074, 'siegfried': 4161, 'andy': 161, 'riverdale': 3855, 'tracee': 4667, 'elli': 1476, 'ross': 3895, 'crowned': 1113, 'mirrorball': 3003, 'champ': 790, 'june': 2476, 'sheknows': 4115, 'spacey': 4270, 'recapping': 3694, 'peak': 3367, 'lachey': 2589, 'responsibility': 3792, 'cassie': 740, 'rank': 3653, 'pat': 3347, 'mcgrath': 2918, 'newest': 3151, 'muse': 3084, 'fa': 1602, 'cup': 1131, 'acceptance': 20, 'smile': 4220, 'cherry': 834, 'seaborn': 4014, 'marvel': 2882, 'cinematic': 874, 'unbreakable': 4753, 'kimmy': 2543, 'schmidt': 3992, 'lemonade': 2662, 'parody': 3334, 'sadder': 3937, 'jayne': 2396, 'confession': 984, 'truthful': 4718, 'chat': 816, 'jenny': 2409, 'mccarthy': 2909, 'liner': 2710, 'fuller': 1829, 'pout': 3509, 'treasure': 4692, 'shower': 4149, 'bale': 333, 'fattened': 1652, 'cheney': 832, 'vice': 4829, 'skincare': 4198, 'product': 3564, 'ashamed': 247, 'azalea': 306, 'collaboration': 929, 'azealia': 308, 'bank': 342, 'longtime': 2744, 'carole': 723, 'radziwill': 3642, 'murphy': 3082, 'determined': 1269, 'sexualize': 4081, 'older': 3236, 'fifth': 1690, 'harmony': 2069, 'dragon': 1388, 'always': 129, 'halsey': 2041, 'gushing': 2016, 'eazy': 1447, 'jinger': 2429, 'duggar': 1411, 'growing': 1995, 'coon': 1033, 'infinity': 2308, 'villain': 4838, 'inspired': 2324, 'shelter': 4117, 'as': 244, 'jordin': 2453, 'amazing': 139, 'valerie': 4801, 'jarrett': 2390, 'rant': 3656, 'teaching': 4525, 'bam': 338, 'margera': 2856, 'sheree': 4123, 'whitfield': 4944, 'dramatic': 1391, 'rhoa': 3824, 'english': 1510, 'immigrated': 2275, 'janet': 2387, 'welfare': 4928, 'felton': 1669, 'incognito': 2294, 'muggles': 3071, 'screening': 4010, 'shazam': 4112, 'pulled': 3601, 'overdose': 3286, 'victor': 4832, 'celebrates': 769, 'timoth': 4622, 'chalamet': 787, 'smolder': 4225, 'zig': 5055, 'spin': 4295, 'relationshep': 3738, 'vent': 4815, 'malika': 2834, 'haqq': 2061, 'centered': 779, 'bitch': 484, 'glam': 1921, 'wednesday': 4914, 'addams': 48, 'lingerie': 2711, 'market': 2868, 'profile': 3569, 'hole': 2173, 'assassination': 260, 'gianni': 1904, 'versace': 4822, 'crime': 1096, 'bachelorette': 313, 'hardcore': 2065, 'stylish': 4426, 'glover': 1928, 'historic': 2165, 'insists': 2322, 'transformation': 4680, 'whatever': 4936, 'slate': 4205, 'acm': 35, 'jughead': 2470, 'ta': 4496, 'cradling': 1075, 'clipper': 905, 'defense': 1217, 'filmmaker': 1701, 'mahoney': 2817, 'include': 2290, 'xl': 5024, 'ball': 335, 'long': 2741, 'memorable': 2946, 'criss': 1101, 'stood': 4381, 'equality': 1527, 'boycott': 560, 'robby': 3861, 'bip': 474, 'lot': 2758, 'baggage': 325, 'trace': 4666, 'adkins': 53, 'serving': 4068, 'advisor': 67, 'light': 2693, 'action': 40, 'henderson': 2130, 'christine': 862, 'evangelista': 1551, 'emergency': 1487, 'hears': 2103, 'winfrey': 4967, 'jodie': 2434, 'whittaker': 4946, 'neil': 3135, 'touring': 4661, 'parkinson': 3332, 'diagnosis': 1276, 'relive': 3746, 'apollo': 202, 'hardcover': 2066, 'rice': 3828, 'jhene': 2424, 'aiko': 88, 'finalizes': 1707, 'dot': 1376, 'genius': 1883, 'serve': 4065, 'tequila': 4549, 'calvin': 679, 'snapped': 4230, 'ranting': 3657, 'reveal': 3811, 'dimitri': 1294, 'review': 3816, 'ace': 33, 'grudge': 1997, 'shannon': 4098, 'awesome': 303, 'melanie': 2941, 'scrofano': 4013, 'alycia': 132, 'debnam': 1198, 'mtv': 3067, 'generation': 1881, 'comparison': 962, 'rolling': 3878, 'embrace': 1486, 'fandom': 1634, 'carpool': 726, 'europe': 1547, 'xxxtentacion': 5027, 'exited': 1581, 'vampire': 4806, 'diary': 1281, 'onscreen': 3246, 'pairing': 3307, 'named': 3101, 'musing': 3089, 'motherhood': 3053, 'breastfeeding': 584, 'boundary': 553, 'topless': 4648, 'nsfw': 3195, 'flipping': 1738, 'script': 4012, 'corcoran': 1040, 'keo': 2515, 'motsepe': 3054, 'raul': 3666, 'esparza': 1536, 'beador': 384, 'brandon': 575, 'brian': 589, 'revision': 3817, 'map': 2851, 'shared': 4102, 'shoutout': 4146, 'anderson': 157, 'east': 1441, 'garth': 1867, 'syncing': 4492, 'cma': 914, 'portrait': 3494, 'karlie': 2493, 'kloss': 2556, 'fragrance': 1794, 'bottle': 548, 'toy': 4664, 'eden': 1453, 'sassoon': 3964, 'spirit': 4297, 'maxim': 2898, 'twerk': 4732, 'sizzling': 4194, 'hear': 2100, 'robinson': 3864, 'bolted': 523, 'baptism': 347, 'heroin': 2136, 'possession': 3498, 'arie': 222, 'luyendyk': 2791, 'promo': 3576, 'unconventional': 4755, 'please': 3460, 'speak': 4276, 'overboard': 3285, 'remake': 3748, 'pantelion': 3320, 'sizable': 4191, 'wake': 4866, 'rosie': 3894, 'donnell': 1370, 'reconnected': 3703, 'quiz': 3628, 'scale': 3980, 'drag': 1386, 'cost': 1051, 'tiffany': 4613, 'haddish': 2025, 'barbra': 352, 'streisand': 4402, 'teach': 4524, 'janney': 2388, 'shirtless': 4130, 'hunk': 2242, 'mira': 2999, 'sorvino': 4261, 'reed': 3715, 'maternity': 2893, 'adrift': 63, 'christening': 858, 'louis': 2759, 'ponders': 3479, 'surrounding': 4466, 'spoiler': 4300, 'heartbreaker': 2106, 'channel': 799, 'likely': 2699, 'toast': 4629, 'follow': 1755, 'hilaria': 2152, 'stuns': 4421, 'daring': 1170, 'incredible': 2298, 'cleavage': 898, 'cw': 1147, 'charmed': 813, 'soundtrack': 4267, 'includes': 2292, 'hayden': 2090, 'christensen': 859, 'lowriders': 2772, 'dominguez': 1362, 'heithoff': 2118, 'gotten': 1959, 'stacey': 4321, 'dash': 1176, 'withdraw': 4981, 'congressional': 999, 'numb': 3198, 'jail': 2380, 'kraines': 2569, 'iconic': 2260, 'humanitarian': 2238, 'cody': 923, 'lovebird': 2763, 'senator': 4044, 'sometimes': 4251, 'bumpy': 640, 'porsha': 3489, 'kordell': 2565, 'jewelry': 2422, 'tape': 4510, 'negotiation': 3133, 'royale': 3907, 'trailer': 4673, 'feature': 1661, 'bridge': 593, 'priest': 3546, 'cuteness': 1144, 'overload': 3288, 'coco': 921, 'chanel': 794, 'sense': 4048, 'quintanilla': 3623, 'relative': 3740, 'sterling': 4367, 'beth': 437, 'meyer': 2964, 'polo': 3477, 'kailyn': 2483, 'lowry': 2773, 'tenley': 4547, 'molzahn': 3029, 'gabbery': 1842, 'smart': 4219, 'kidnapper': 2533, 'wanda': 4875, 'barzee': 364, 'released': 3742, 'espys': 1538, 'voting': 4859, 'athlete': 269, 'childhood': 843, 'frogmore': 1818, 'windsor': 4965, 'lavish': 2621, 'evolved': 1565, 'fowler': 1791, 'izombie': 2371, 'fry': 1824, 'freebie': 1806, 'fresno': 1814, 'fellow': 1667, 'player': 3455, 'caroline': 724, 'wozniacki': 5012, 'impression': 2283, 'mock': 3025, 'press': 3536, 'page': 3304, 'production': 3565, 'skill': 4196, 'briefcase': 595, 'bestie': 435, 'development': 1273, 'pact': 3302, 'network': 3146, 'notice': 3193, 'data': 1177, 'available': 294, 'bureau': 644, 'labor': 2587, 'statistic': 4349, 'kidd': 2529, 'wrestler': 5015, 'chilling': 844, 'unexplained': 4760, 'disappearance': 1309, 'maura': 2897, 'murray': 3083, 'goal': 1933, 'throwback': 4606, 'superman': 4453, 'kidder': 2530, 'criticizes': 1106, 'lobbyist': 2728, 'reba': 3687, 'mcentire': 2917, 'soar': 4237, 'duet': 1410, 'zendaya': 5053, 'vogue': 4854, 'decade': 1202, 'midseason': 2978, 'fate': 1649, 'connection': 1003, 'statham': 4348, 'shake': 4089, 'reported': 3770, 'os': 3267, 'myia': 3094, 'enhancement': 1511, 'asiah': 251, 'creates': 1088, 'taco': 4499, 'invite': 2350, 'naacp': 3096, 'waterproof': 4899, 'hooked': 2198, 'invictus': 2349, 'happens': 2057, 'abbey': 4, 'slut': 4216, 'marissa': 2865, 'cheater': 821, 'edition': 1454, 'vaughn': 4812, 'suspicion': 4471, 'resisting': 3787, 'manhattan': 2843, 'checkpoint': 826, 'larsa': 2606, 'pippen': 3437, 'bankrolled': 344, 'immigrant': 2274, 'worker': 5001, 'wary': 4890, 'auntie': 289, 'pretzel': 3540, 'sync': 4491, 'makeout': 2824, 'bubble': 629, 'bath': 374, 'fresh': 1813, 'pickup': 3426, 'superfan': 4451, 'project': 3574, 'runway': 3921, 'capshaw': 703, 'balancing': 330, 'serum': 4064, 'bristol': 601, 'palin': 3311, 'costars': 1053, 'buffy': 634, 'slayer': 4208, 'looked': 2747, 'extremely': 1599, 'normal': 3187, 'hiking': 2151, 'disney': 1322, 'pride': 3545, 'mickey': 2972, 'mouse': 3058, 'ear': 1434, 'wall': 4872, 'repeat': 3766, 'logo': 2735, 'van': 4807, 'der': 1255, 'beek': 404, 'delivers': 1227, 'inspiring': 2325, 'supergirl': 4452, 'danvers': 1168, 'midvale': 2979, 'peth': 3406, 'pack': 3300, 'add': 47, 'biden': 452, 'springfield': 4312, 'ill': 2271, 'dax': 1186, 'amazon': 140, 'virgin': 4844, 'fertilizer': 1676, 'regrowth': 3725, 'oxygen': 3296, 'programming': 3573, 'ashlee': 248, 'xscape': 5026, 'leader': 2632, 'budget': 632, 'economic': 1448, 'outlook': 3277, 'morrison': 3049, 'zolciak': 5057, 'biermann': 455, 'brielle': 596, 'kash': 2495, 'onward': 3249, 'upwards': 4787, 'downton': 1384, 'lb': 2628, 'hugging': 2232, 'healthy': 2099, 'ella': 1473, 'manicure': 2845, 'mile': 2986, 'toya': 4665, 'wept': 4932, 'interstellar': 2336, 'joan': 2431, 'sof': 4244, 'vergara': 4819, 'locked': 2731, 'amada': 135, 'hola': 2171, 'bunch': 641, 'honestly': 2188, 'tender': 4546, 'galecki': 1852, 'bahamian': 326, 'avril': 299, 'lavigne': 2620, 'italy': 2367, 'viewer': 4837, 'anthem': 189, 'rendition': 3759, 'arm': 226, 'nerd': 3140, 'audible': 282, 'audio': 284, 'curtis': 1137, 'armstrong': 228, 'macmillan': 2800, 'hbo': 2092, 'thankful': 4573, 'grabbing': 1965, 'feather': 1660, 'eyeshadow': 1601, 'palette': 3310, 'jill': 2425, 'word': 4996, 'mtvu': 3068, 'editorial': 1455, 'bunton': 643, 'lucky': 2777, 'trade': 4669, 'cropped': 1109, 'thriller': 4601, 'serratos': 4063, 'peek': 3373, 'minivan': 2996, 'shania': 4097, 'twain': 4730, 'approach': 213, 'crack': 1074, 'ghosting': 1903, 'fallout': 1626, 'badass': 323, 'kingsman': 2548, 'circle': 876, 'gifs': 1907, 'stanton': 4337, 'hayes': 2091, 'carla': 718, 'bruni': 622, 'starring': 4341, 'sloan': 4213, 'nk': 3177, 'jerking': 2411, 'claw': 893, 'hulu': 2235, 'retracts': 3800, 'mamma': 2838, 'mia': 2967, 'roundup': 3900, 'catapulting': 747, 'lily': 2702, 'crossover': 1110, 'fiction': 1686, 'stopped': 4384, 'moonlight': 3042, 'sander': 3955, 'jharrel': 2423, 'jerome': 2413, 'wale': 4868, 'cheated': 820, 'parrish': 3335, 'shel': 4116, 'honor': 2191, 'tina': 4624, 'salute': 3948, 'drugstore': 1406, 'conditioner': 980, 'mask': 2885, 'difference': 1290, 'kkw': 2555, 'starstruck': 4342, 'lowes': 2771, 'quinn': 3622, 'higher': 2144, 'funny': 1836, 'tonight': 4641, 'disagreed': 1308, 'winston': 4971, 'wwe': 5021, 'heat': 2109, 'alexa': 100, 'bliss': 500, 'nia': 3157, 'jax': 2394, 'outlander': 3275, 'veteran': 4825, 'pivotal': 3443, 'christopher': 865, 'boykin': 563, 'shouting': 4145, 'meme': 2944, 'exploded': 1591, 'contagious': 1012, 'jokester': 2444, 'stephanie': 4364, 'shepherd': 4122, 'outlives': 3276, 'cicada': 871, 'barry': 360, 'rowland': 3904, 'sob': 4238, 'lunch': 2785, 'moss': 3051, 'drug': 1405, 'maroon': 2870, 'subway': 4429, 'commuter': 958, 'becca': 395, 'kufrin': 2574, 'garrett': 1866, 'yrigoyen': 5047, 'handmaid': 2050, 'offred': 3228, 'ozuna': 3298, 'bull': 637, 'cannon': 700, 'deserves': 1259, 'boomer': 536, 'aly': 131, 'raisman': 3648, 'gymnastics': 2023, 'nassar': 3109, 'leslie': 2670, 'pressured': 3538, 'able': 9, 'trust': 4716, 'cruz': 1119, 'vocal': 4853, 'range': 3652, 'robin': 3863, 'wright': 5016, 'ultimately': 4749, 'saddened': 3936, 'carly': 720, 'waddell': 4861, 'basketball': 370, 'mount': 3055, 'comeback': 943, 'swish': 4488, 'rhony': 3827, 'apple': 210, 'dorinda': 1374, 'ignites': 2266, 'samira': 3951, 'wiley': 4956, 'process': 3561, 'nom': 3182, 'giuliani': 1917, 'hampshire': 2045, 'far': 1635, 'dedicated': 1211, 'reading': 3677, 'whole': 4948, 'reminds': 3753, 'rewind': 3820, 'create': 1086, 'storyline': 4390, 'bffs': 449, 'bellas': 421, 'honoured': 2195, 'godfather': 1936, 'natalie': 3113, 'portman': 3493, 'guessing': 2002, 'suit': 4442, 'donates': 1366, 'devastated': 1270, 'student': 4414, 'floored': 1745, 'impressed': 2282, 'cking': 882, 'tommy': 4639, 'hoda': 2169, 'kotb': 2567, 'lightweight': 2695, 'foundation': 1786, 'alternative': 126, 'breezy': 586, 'widow': 4951, 'sugar': 4436, 'test': 4559, 'honey': 2189, 'wishing': 4979, 'shamers': 4094, 'brett': 588, 'ratner': 3665, 'teaming': 4527, 'engage': 1506, 'beghe': 408, 'radiohead': 3641, 'pauley': 3360, 'perrette': 3397, 'sad': 3935, 'lochte': 2729, 'grandfather': 1973, 'watched': 4894, 'lili': 2701, 'reinhart': 3731, 'sprouse': 4314, 'salling': 3947, 'glee': 1924, 'laura': 2617, 'gallacher': 1853, 'mabel': 2795, 'kirsy': 2551, 'giggle': 1910, 'developer': 1272, 'contest': 1016, 'skirting': 4201, 'harbour': 2063, 'bipolar': 475, 'asylum': 267, 'topher': 4647, 'hinshaw': 2160, 'ruthie': 3929, 'ann': 172, 'sang': 3958, 'unborn': 4752, 'benson': 430, 'marc': 2854, 'haunt': 2085, 'contract': 1020, 'wrap': 5013, 'technicolor': 4531, 'highway': 2148, 'amnayzh': 149, 'troy': 4709, 'aikman': 87, 'capa': 701, 'mooty': 3044, 'talked': 4506, 'dawson': 1185, 'creek': 1092, 'donovan': 1371, 'xavier': 5023, 'dolan': 1355, 'marroquin': 2875, 'jingle': 2430, 'buddy': 631, 'blooper': 506, 'reel': 3716, 'bathe': 375, 'eli': 1468, 'manning': 2846, 'donatella': 1365, 'richest': 3832, 'beyond': 446, 'luke': 2782, 'pell': 3377, 'quot': 3629, 'lesley': 2669, 'unglert': 4765, 'cleaning': 895, 'commence': 950, 'bilingual': 461, 'conditional': 979, 'anymore': 195, 'lock': 2730, 'jungle': 2477, 'themed': 4576, 'incredibly': 2299, 'plump': 3463, 'denying': 1247, 'defined': 1218, 'enchant': 1500, 'sensually': 4049, 'passage': 3342, 'picked': 3423, 'bouquet': 554, 'country': 1058, 'sinister': 4182, 'surviving': 4468, 'alleges': 111, 'yolanda': 5040, 'jennie': 2407, 'wardrobe': 4884, 'wag': 4862, 'kulture': 2575, 'wipe': 4974, 'alone': 121, 'exciting': 1572, 'force': 1768, 'anyone': 196, 'danger': 1165, 'maddie': 2803, 'imposter': 2281, 'brie': 594, 'personal': 3401, 'birdie': 476, 'graphic': 1977, 'definitive': 1220, 'swaggiest': 4476, 'gabbana': 1841, 'bowling': 557, 'auctioning': 281, 'logic': 2734, 'andrea': 158, 'willow': 4961, 'candy': 696, 'rehearsal': 3727, 'charity': 807, 'dior': 1298, 'landed': 2600, 'kiev': 2535, 'crimea': 1097, 'changer': 797, 'madcap': 2802, 'delivered': 1226, 'sobering': 4240, 'examination': 1569, 'taye': 4519, 'diggs': 1292, 'rebel': 3689, 'beast': 388, 'blocked': 501, 'bomb': 524, 'empty': 1497, 'alba': 94, 'adulting': 65, 'easier': 1439, 'subscription': 4428, 'box': 558, 'bobbi': 516, 'kristina': 2573, 'sings': 4181, 'masturbation': 2890, 'circulating': 878, 'covfefe': 1067, 'typo': 4744, 'definition': 1219, 'stitch': 4376, 'hailie': 2028, 'orange': 3257, 'bekah': 414, 'martinez': 2881, 'bts': 628, 'ama': 134, 'wage': 4863, 'gather': 1871, 'mourn': 3056, 'dolores': 1359, 'riordan': 3848, 'reposal': 3774, 'zootopia': 5060, 'dmv': 1344, 'sloth': 4214, 'youtube': 5046, 'sears': 4019, 'validated': 4804, 'hairstyle': 2032, 'heavy': 2112, 'trilogy': 4700, 'asks': 257, 'fix': 1726, 'chest': 836, 'jermaine': 2412, 'dupri': 1421, 'creative': 1089, 'democratic': 1236, 'debate': 1197, 'socialist': 4242, 'eisenhower': 1462, 'westwick': 4934, 'prosecuted': 3585, 'unforgettable': 4763, 'hometown': 2186, 'energy': 1504, 'commerce': 952, 'committee': 955, 'mak': 2822, 'skipped': 4199, 'seattle': 4022, 'diagon': 1277, 'alley': 114, 'driveway': 1398, 'nickihndrxx': 3162, 'chocolate': 850, 'fountain': 1788, 'champagne': 791, 'fallen': 1623, 'kingdom': 2547, 'schnapp': 3994, 'lobbied': 2727, 'kill': 2536, 'dave': 1182, 'annable': 174, 'odette': 3218, 'uh': 4746, 'trinity': 4701, 'fatu': 1653, 'preventing': 3542, 'flu': 1751, 'habit': 2024, 'germ': 1891, 'concealer': 974, 'huntington': 2245, 'whiteley': 4943, 'ignores': 2268, 'radio': 3640, 'arrive': 238, 'forgiving': 1775, 'martha': 2879, 'performer': 3391, 'gael': 1846, 'garc': 1861, 'bernal': 431, 'blige': 499, 'common': 956, 'museum': 3085, 'dropping': 1403, 'ciara': 869, 'sugarland': 4437, 'perform': 3389, 'square': 4316, 'flavor': 1734, 'toffee': 4633, 'jalapeno': 2382, 'coconut': 922, 'legging': 2660, 'apologized': 204, 'contender': 1015, 'thicke': 4581, 'geary': 1875, 'lonely': 2740, 'addict': 49, 'highlight': 2146, 'asset': 264, 'bodycon': 519, 'madison': 2806, 'beer': 405, 'biggs': 458, 'pie': 3429, 'eugene': 1546, 'levy': 2679, 'poppe': 3485, 'caleb': 672, 'hutchinson': 2252, 'dorado': 1373, 'shakira': 4091, 'alpha': 123, 'male': 2830, 'madness': 2807, 'bob': 515, 'morley': 3047, 'heughan': 2138, 'reacted': 3673, 'brady': 567, 'unexpected': 4759, 'neiman': 3136, 'lucy': 2778, 'hale': 2034, 'valentine': 4800, 'withdraws': 4983, 'present': 3531, 'shushing': 4153, 'zebra': 5051, 'print': 3550, 'pit': 3440, 'grand': 1971, 'prix': 3555, 'jenelle': 2404, 'pumpkin': 3603, 'patch': 3349, 'eason': 1440, 'unity': 4771, 'farrah': 1639, 'abraham': 11, 'rating': 3664, 'stooge': 4382, 'teenmom': 4538, 'hurley': 2246, 'stabbing': 4319, 'remains': 3747, 'glamorous': 1922, 'vicki': 4830, 'gunvalson': 2013, 'culberson': 1125, 'completes': 968, 'corp': 1046, 'boot': 538, 'hellish': 2122, 'playboy': 3453, 'founder': 1787, 'dodgeball': 1351, 'puppy': 3605, 'snap': 4228, 'germany': 1893, 'diplomacy': 1301, 'boldest': 521, 'dissolving': 1332, 'government': 1960, 'apparent': 207, 'fluid': 1752, 'pdf': 3366, 'isi': 2363, 'gain': 1848, 'troop': 4706, 'chad': 784, 'karina': 2492, 'smirnoff': 4221, 'famously': 1632, 'denmark': 1243, 'henrik': 2131, 'signature': 4164, 'unfollow': 4762, 'everly': 1558, 'individuality': 2302, 'halfway': 2036, 'milo': 2991, 'ventimiglia': 4816, 'cliffhanger': 901, 'roswell': 3899, 'pose': 3496, 'shapewear': 4100, 'ghostbusters': 1901, 'streaming': 4399, 'waldo': 4867, 'rascal': 3663, 'cartwright': 733, 'caitriona': 671, 'balfe': 334, 'wizard': 4988, 'waverly': 4902, 'samberg': 3950, 'otunga': 3273, 'cleared': 897, 'battery': 379, 'camille': 686, 'cosby': 1049, 'conviction': 1026, 'mob': 3023, 'violetta': 4843, 'komyshan': 2563, 'clare': 885, 'crawley': 1082, 'grossman': 1993, 'coven': 1064, 'protocol': 3590, 'granted': 1976, 'restraining': 3795, 'joshua': 2456, 'lewis': 2680, 'studded': 4413, 'telethon': 4540, 'threaten': 4595, 'testino': 4564, 'weber': 4909, 'basic': 368, 'cool': 1031, 'unmiracle': 4774, 'pound': 3508, 'szohr': 4495, 'removal': 3755, 'bobby': 517, 'moynihan': 3065, 'meaningful': 2927, 'bending': 424, 'polyamorous': 3478, 'cryptic': 1121, 'internet': 2334, 'frenzy': 1812, 'danica': 1166, 'celebrated': 768, 'thigh': 4582, 'silly': 4169, 'unicorn': 4767, 'retrial': 3802, 'ringing': 3845, 'traumatized': 4688, 'grill': 1987, 'guru': 2014, 'pantry': 3322, 'have': 2087, 'county': 1059, 'jerry': 2414, 'gong': 1944, 'myers': 3093, 'lil': 2700, 'peep': 3375, 'curated': 1132, 'twist': 4737, 'nipple': 3175, 'entrepreneur': 1521, 'click': 900, 'schwartz': 3998, 'maloney': 2835, 'rossum': 3898, 'rwanda': 3930, 'theresa': 4579, 'caputo': 704, 'discussed': 1315, 'cathy': 756, 'foreclosure': 1771, 'subprime': 4427, 'homeowner': 2184, 'inciting': 2289, 'riot': 3849, 'completed': 966, 'intensive': 2332, 'program': 3572, 'cellulite': 776, 'stretch': 4403, 'priyanka': 3556, 'chopra': 853, 'yuletide': 5048, 'reign': 3728, 'kendrick': 2513, 'sza': 4494, 'gabrielle': 1843, 'union': 4769, 'infertility': 2307, 'eight': 1461, 'linden': 2707, 'mcadams': 2907, 'ortiz': 3265, 'magro': 2814, 'stability': 4320, 'blur': 513, 'steven': 4369, 'alexandra': 102, 'silva': 4170, 'brunette': 621, 'baskett': 371, 'swoon': 4489, 'octavia': 3214, 'redemption': 3712, 'geyer': 1898, 'amount': 151, 'descendant': 1257, 'honored': 2193, 'soundsational': 4266, 'marshal': 2878, 'ownership': 3294, 'photograph': 3416, 'copyright': 1039, 'lawusit': 2625, 'conrad': 1005, 'anything': 197, 'nightshade': 3170, 'fruit': 1822, 'arizona': 224, 'deluca': 1230, 'audrina': 286, 'patridge': 3354, 'cabrera': 666, 'shaved': 4109, 'currently': 1135, 'meg': 2934, 'babe': 309, 'cromwell': 1107, 'protesting': 3589, 'upstate': 4785, 'ny': 3203, 'existential': 1579, 'henry': 2132, 'sylvester': 4490, 'movement': 3062, 'che': 818, 'hater': 2082, 'taraji': 4512, 'henson': 2133, 'beech': 402, 'squash': 4317, 'ludacris': 2779, 'mommy': 3032, 'convincing': 1027, 'guillermo': 2006, 'vol': 4856, 'bares': 355, 'scalloped': 3981, 'simone': 4173, 'bile': 460, 'field': 1688, 'honorary': 2192, 'cheerleader': 829, 'trolling': 4705, 'sassy': 3965, 'sorrentino': 4259, 'sentenced': 4051, 'evasion': 1553, 'birthing': 480, 'nears': 3129, 'writer': 5017, 'lumet': 2783, 'violated': 4841, 'column': 940, 'highly': 2147, 'farewell': 1636, 'possibility': 3499, 'footstep': 1765, 'eliza': 1471, 'dushku': 1422, 'awakened': 300, 'horrific': 2208, 'kesha': 2520, 'hated': 2081, 'psa': 3594, 'washing': 4891, 'politically': 3473, 'chappelle': 803, 'dylan': 1431, 'palvin': 3313, 'reprise': 3776, 'nighttime': 3171, 'routine': 3901, 'spectatorship': 4281, 'goldblum': 1939, 'statue': 4350, 'erected': 1529, 'tourist': 4662, 'mesmerized': 2954, 'detailed': 1267, 'ricky': 3836, 'fiebre': 1687, 'featuring': 1662, 'convert': 1025, 'costar': 1052, 'refused': 3722, 'someone': 4248, 'stole': 4378, 'helena': 2120, 'pen': 3380, 'till': 4615, 'aaliyah': 0, 'sultry': 4444, 'arena': 219, 'miz': 3019, 'zoe': 5056, 'saldana': 3945, 'daenerys': 1156, 'targaryen': 4513, 'sacrifice': 3934, 'spoil': 4299, 'bearing': 387, 'mcdormand': 2915, 'arthur': 241, 'mischa': 3005, 'barton': 363, 'knox': 2562, 'relatable': 3737, 'fitness': 1724, 'instructor': 2329, 'easy': 1444, 'emily': 1489, 'blunt': 512, 'romeo': 3882, 'juliet': 2473, 'bruno': 623, 'antebellum': 188, 'thank': 4572, 'lord': 2751, 'transformer': 4681, 'arc': 217, 'trans': 4677, 'empowering': 1496, 'teenage': 4537, 'jaden': 2379}\n",
            "VOCABULARY 3 (lenght 5464)\n",
            "{'trump': 5049, 'whine': 5322, 'like': 2832, 'baby': 367, 'defense': 1269, 'russia': 4197, 'get': 2036, 'obliterated': 3335, 'twitter': 5086, 'hillary': 2268, 'clinton': 897, 'want': 5256, 'strong': 4713, 'wait': 5247, 'say': 4244, 'must': 3197, 'watch': 5276, 'monica': 3141, 'crowley': 1156, 'warns': 5267, 'force': 1913, 'destroy': 1339, 'war': 5259, 'video': 5202, 'left': 2785, 'go': 2073, 'nut': 3319, 'chemist': 834, 'dc': 1223, 'win': 5356, 'miss': 3105, 'usa': 5164, 'title': 4947, 'saying': 4245, 'health': 2223, 'care': 740, 'privilege': 3748, 'right': 4124, 'sunday': 4762, 'screening': 4292, 'deep': 1261, 'state': 4656, 'hiding': 2254, 'plain': 3605, 'sight': 4452, 'comment': 959, 'nutritious': 3320, 'food': 1906, 'help': 2239, 'reduce': 3962, 'asthma': 315, 'attack': 322, 'boost': 574, 'alternative': 170, 'solution': 4547, 'happens': 2193, 'brain': 604, 'lie': 2823, 'studie': 4720, 'beweist': 484, 'indianer': 2448, 'kennen': 2653, 'doch': 1448, 'schmerz': 4265, 'laura': 2751, 'ingraham': 2468, 'rip': 4131, 'press': 3721, 'crowd': 1154, 'wild': 5347, 'job': 2598, 'accuses': 33, 'obama': 3327, 'founding': 1940, 'daesh': 1195, 'hardest': 2197, 'feeling': 1815, 'fight': 1832, 'former': 1927, 'baywatch': 433, 'babe': 366, 'bond': 570, 'first': 1862, 'lady': 2717, 'melania': 3032, 'unlikely': 5128, 'cause': 766, 'hate': 2208, 'told': 4955, 'black': 518, 'voter': 5237, 'could': 1101, 'gop': 2095, 'breaking': 617, 'huma': 2340, 'abedin': 5, 'thrown': 4925, 'campaign': 721, 'plane': 3607, 'iraq': 2536, 'confident': 1011, 'retake': 4083, 'mosul': 3157, 'conduct': 1004, 'full': 1983, 'fledged': 1882, 'military': 3081, 'action': 44, 'freedom': 1961, 'center': 789, 'urge': 5160, 'college': 931, 'president': 3719, 'end': 1599, 'aid': 114, 'campus': 724, 'supporter': 4774, 'terror': 4884, 'lewandowski': 2807, 'admits': 66, 'fbi': 1800, 'comey': 951, 'letter': 2804, 'election': 1564, 'mar': 2967, 'lago': 2719, 'trip': 5035, 'secret': 4313, 'service': 4364, 'divert': 1441, 'crime': 1138, 'fighting': 1834, 'fund': 1986, 'pay': 3512, 'security': 4317, 'need': 3237, 'burn': 681, 'fat': 1791, 'eat': 1533, 'dinner': 1376, 'early': 1525, 'skip': 4485, 'weight': 5303, 'loss': 2884, 'slam': 4493, 'dunk': 1519, 'golden': 2083, 'nba': 3227, 'punk': 3830, 'stephen': 4670, 'curry': 1180, 'bragged': 602, 'going': 2080, 'white': 5328, 'house': 2328, 'celebrate': 776, 'championship': 806, 'mike': 3077, 'penny': 3536, 'viciously': 5199, 'refused': 3974, 'pardon': 3475, 'man': 2947, 'wrongfully': 5419, 'imprisoned': 2421, 'year': 5434, 'humiliates': 2346, 'chris': 850, 'christie': 853, 'face': 1748, 'hated': 2209, 'make': 2936, 'point': 3636, 'texas': 4894, 'elector': 1565, 'resigns': 4055, 'voting': 5238, 'would': 5402, 'bring': 636, 'dishonor': 1411, 'god': 2076, 'tough': 4975, 'message': 3053, 'serious': 4358, 'woman': 5383, 'use': 5165, 'genitalia': 2023, 'reason': 3927, 'vote': 5235, 'next': 3264, 'feel': 1814, 'safe': 4209, 'warned': 5264, 'american': 184, 'sick': 4443, 'winning': 5362, 'cnn': 911, 'cry': 1165, 'making': 2939, 'stock': 4680, 'market': 2978, 'rise': 4134, 'much': 3173, 'hurt': 2356, 'chance': 807, 'fired': 1859, 'racist': 3877, 'breitbart': 621, 'writer': 5415, 'medical': 3021, 'bill': 500, 'smallest': 4509, 'violin': 5219, 'play': 3613, 'whopping': 5335, 'ohio': 3361, 'pennsylvania': 3535, 'support': 4773, 'michelle': 3066, 'replacement': 4031, 'nominee': 3288, 'email': 1577, 'investigation': 2525, 'hilarious': 2264, 'totally': 4974, 'rabid': 3871, 'liberal': 2813, 'msnbc': 3172, 'host': 2320, 'rachel': 3873, 'maddow': 2915, 'announces': 219, 'bombshell': 569, 'release': 4001, 'tax': 4855, 'tonight': 4963, 'show': 4429, 'isi': 2544, 'declares': 1252, 'kill': 2668, 'palestinian': 3458, 'one': 3377, 'yet': 5440, 'remains': 4009, 'quiet': 3862, 'israel': 2551, 'sharapova': 4397, 'becomes': 444, 'un': 5101, 'ambassador': 175, 'global': 2062, 'drug': 1510, 'runner': 4190, 'guess': 2143, 'leftist': 2786, 'millennials': 3086, 'life': 2825, 'matter': 3001, 'moron': 3153, 'decided': 1249, 'th': 4895, 'july': 2623, 'syria': 4821, 'waiting': 5248, 'move': 3165, 'representative': 4039, 'government': 2104, 'thugocracy': 4927, 'tree': 5026, 'shaped': 4395, 'vertical': 5191, 'farm': 1784, 'grow': 2132, 'acre': 40, 'crop': 1150, 'lol': 2866, 'new': 3258, 'anti': 229, 'ad': 52, 'backfire': 370, 'amazing': 173, 'pro': 3750, 'broke': 647, 'law': 2753, 'raise': 3885, 'money': 3139, 'yes': 5439, 'appoint': 253, 'supreme': 4779, 'court': 1111, 'justice': 2630, 'leaf': 2765, 'ted': 4865, 'cruz': 1164, 'used': 5166, 'sciencefacts': 4276, 'hashtag': 2205, 'instantly': 2486, 'became': 441, 'laughingstock': 2747, 'scientific': 4277, 'community': 972, 'believe': 462, 'foundation': 1938, 'case': 757, 'moving': 3169, 'towards': 4982, 'likely': 2833, 'indictment': 2451, 'justin': 2632, 'timberlake': 4940, 'day': 1222, 'jail': 2567, 'taking': 4834, 'selfie': 4329, 'booth': 577, 'glenn': 2061, 'sad': 4207, 'sack': 4206, 'santorum': 4229, 'visited': 5225, 'pizza': 3602, 'ranch': 3894, 'iowa': 2531, 'ceo': 794, 'endorsed': 1604, 'lest': 2801, 'forget': 1924, 'independent': 2442, 'mueller': 3174, 'part': 3485, 'establishment': 1659, 'helped': 2240, 'sell': 4331, 'scalia': 4246, 'found': 1937, 'dead': 1226, 'pillow': 3587, 'head': 2219, 'autopsy': 347, 'nancy': 3211, 'pelosi': 3527, 'went': 5313, 'grandchild': 2114, 'disgusting': 1409, 'fox': 1943, 'news': 3260, 'jesse': 2590, 'watters': 5281, 'take': 4831, 'vacation': 5173, 'ivanka': 2559, 'girl': 2048, 'behaving': 454, 'comedy': 950, 'gold': 2081, 'bernie': 477, 'sander': 4226, 'meltdown': 3035, 'repeal': 4026, 'obamacare': 3328, 'old': 3369, 'yr': 5450, 'age': 97, 'insurance': 2492, 'die': 1367, 'surrogate': 4788, 'appear': 246, 'network': 3250, 'promote': 3776, 'agenda': 99, 'nasty': 3216, 'san': 4222, 'juan': 2619, 'mayor': 3008, 'continues': 1058, 'bite': 514, 'hand': 2185, 'feed': 1813, 'people': 3540, 'elected': 1563, 'supremacist': 4778, 'congressman': 1028, 'colleague': 929, 'patting': 3507, 'back': 368, 'tweet': 5081, 'beef': 446, 'jerky': 2587, 'company': 974, 'bit': 513, 'chew': 836, 'direct': 1381, 'appeal': 245, 'nazi': 3226, 'apple': 251, 'kindly': 2674, 'offer': 3352, 'time': 4941, 'remaining': 4008, 'calais': 706, 'refugee': 3971, 'child': 840, 'doj': 1456, 'announcement': 218, 'gun': 2151, 'era': 1644, 'operation': 3387, 'choke': 846, 'commends': 958, 'weinstein': 5306, 'accuser': 32, 'coming': 953, 'forward': 1933, 'sex': 4379, 'claim': 876, 'clearly': 890, 'past': 3498, 'admitted': 67, 'sexual': 4381, 'assaulter': 307, 'oval': 3431, 'office': 3353, 'rural': 4193, 'hospital': 2318, 'medium': 3025, 'ignores': 2383, 'director': 1384, 'vince': 5211, 'foster': 1934, 'gave': 2014, 'birth': 508, 'know': 2689, 'reilly': 3993, 'embarrasses': 1580, 'megyn': 3029, 'kelly': 2649, 'publishes': 3817, 'wrote': 5420, 'thanking': 4897, 'dear': 1235, 'friend': 1970, 'bashed': 421, 'flailing': 1871, 'nbc': 3228, 'morning': 3152, 'islamic': 2546, 'rape': 3901, 'europe': 1670, 'nation': 3217, 'politically': 3649, 'incorrect': 2435, 'way': 5283, 'psychic': 3808, 'listen': 2847, 'word': 5388, 'ago': 104, 'look': 2873, 'happened': 2191, 'huffing': 2336, 'ton': 4961, 'post': 3679, 'cover': 1114, 'republican': 4044, 'frontrunner': 1974, 'donald': 1461, 'foul': 1936, 'mouthed': 3164, 'model': 3131, 'chrissy': 851, 'teigen': 4868, 'blame': 524, 'mental': 3044, 'physical': 3575, 'breakdown': 615, 'demand': 1291, 'amount': 190, 'kid': 2664, 'local': 2861, 'night': 3276, 'club': 907, 'brad': 600, 'pitt': 3600, 'shock': 4416, 'america': 183, 'tired': 4945, 'ex': 1696, 'manager': 2949, 'even': 1682, 'star': 4648, 'family': 1774, 'body': 560, 'shamed': 4391, 'bos': 582, 'response': 4067, 'perfect': 3545, 'image': 2394, 'oops': 3380, 'proof': 3780, 'schlonged': 4264, 'referring': 3967, 'cowardice': 1118, 'congress': 1026, 'proved': 3801, 'planted': 3612, 'spy': 4623, 'ensure': 1622, 'cabinet': 698, 'loyalty': 2895, 'calling': 712, 'terrifying': 4883, 'church': 859, 'never': 3254, 'paid': 3448, 'taxpayer': 4856, 'playground': 3616, 'democrat': 1295, 'niece': 3272, 'percent': 3543, 'behind': 456, 'choice': 845, 'selfish': 4330, 'aunt': 339, 'charged': 817, 'obstruction': 3339, 'prison': 3743, 'kingdom': 2676, 'ag': 96, 'lynch': 2907, 'recuse': 3955, 'mail': 2927, 'probe': 3752, 'asap': 290, 'blast': 529, 'precise': 3702, 'sonoma': 4556, 'county': 1107, 'california': 709, 'voted': 5236, 'create': 1129, 'largest': 2733, 'gmo': 2071, 'free': 1957, 'zone': 5458, 'immigrant': 2401, 'grew': 2126, 'communism': 970, 'equality': 1641, 'double': 1473, 'amputee': 191, 'vet': 5193, 'strategy': 4702, 'saw': 4243, 'expendable': 1724, 'explains': 1730, 'wish': 5367, 'quid': 3861, 'quo': 3867, 'wikileaks': 5345, 'reveals': 4097, 'eyeing': 1746, 'paul': 3508, 'ryan': 4201, 'relative': 4000, 'lenore': 2796, 'lee': 2783, 'hard': 2196, 'truth': 5055, 'country': 1106, 'evolves': 1694, 'fascism': 1786, 'meme': 3038, 'wow': 5404, 'awesome': 362, 'billboard': 501, 'slamming': 4495, 'abc': 3, 'fake': 1766, 'coverage': 1115, 'sent': 4346, 'staff': 4635, 'admitting': 69, 'botched': 585, 'angry': 210, 'dems': 1299, 'outraged': 3426, 'detail': 1342, 'revealed': 4096, 'classified': 884, 'briefing': 633, 'kidding': 2665, 'forcing': 1915, 'manhattan': 2954, 'landlord': 2724, 'give': 2052, 'month': 3144, 'apartment': 238, 'follow': 1903, 'receiving': 3939, 'treatment': 5025, 'blood': 547, 'clot': 905, 'york': 5442, 'city': 870, 'value': 5178, 'masturbation': 2994, 'station': 4658, 'set': 4369, 'men': 3041, 'relieve': 4004, 'stress': 4706, 'midday': 3071, 'view': 5206, 'hammer': 2182, 'ignoring': 2384, 'scandal': 4249, 'survive': 4791, 'lost': 2885, 'wood': 5386, 'tip': 4944, 'trick': 5030, 'may': 3007, 'save': 4240, 'encryption': 1597, 'telling': 4872, 'battle': 430, 'bernardino': 475, 'acknowledges': 36, 'al': 129, 'qaeda': 3841, 'priority': 3742, 'silence': 4457, 'pentagon': 3539, 'deploys': 1314, 'ranger': 3897, 'armoured': 276, 'regiment': 3981, 'ground': 2129, 'speak': 4582, 'teen': 4867, 'caught': 765, 'robbery': 4146, 'shot': 4426, 'killed': 2670, 'clothes': 906, 'school': 4267, 'someone': 4551, 'finally': 1846, 'done': 1464, 'long': 2871, 'inciting': 2429, 'violence': 5217, 'debbie': 1240, 'wasserman': 5274, 'schultz': 4271, 'refuse': 3973, 'debate': 1239, 'primary': 3736, 'challenger': 802, 'orleans': 3409, 'learn': 2771, 'history': 2276, 'erased': 1646, 'rocked': 4149, 'wounded': 5403, 'warrior': 5270, 'project': 3772, 'fire': 1858, 'top': 4967, 'exec': 1709, 'intruder': 2517, 'got': 2100, 'close': 900, 'comfort': 952, 'tch': 4857, 'nfl': 3265, 'tell': 4871, 'ck': 873, 'huge': 2338, 'shady': 4386, 'bully': 674, 'artist': 288, 'artwork': 289, 'wall': 5253, 'embarrassed': 1579, 'seen': 4324, 'exact': 1697, 'moment': 3137, 'marco': 2972, 'rubio': 4178, 'presidential': 3720, 'hope': 2309, 'super': 4765, 'bowl': 590, 'shocking': 4418, 'connects': 1030, 'beyonc': 485, 'dallas': 1199, 'cop': 1081, 'killer': 2671, 'wtf': 5423, 'already': 167, 'paying': 3515, 'myth': 3201, 'mcmahon': 3013, 'line': 2841, 'ukraine': 5096, 'economy': 1539, 'away': 361, 'european': 1671, 'standard': 4644, 'ever': 1685, 'hodges': 2284, 'hagmann': 2166, 'hour': 2327, 'last': 2736, 'conservative': 1037, 'convicted': 1067, 'trying': 5059, 'assassinate': 303, 'slingshot': 4502, 'screenshots': 4293, 'hypocritical': 2362, 'alabama': 130, 'governor': 2105, 'booted': 576, 'affair': 83, 'staffer': 4636, 'pastor': 3499, 'preaches': 3700, 'banned': 402, 'confined': 1012, 'home': 2295, 'wittingly': 5378, 'james': 2571, 'clapper': 879, 'bitterness': 516, 'institution': 2488, 'assault': 306, 'dirty': 1385, 'daca': 1193, 'recipient': 3942, 'really': 3926, 'criminal': 1139, 'record': 3947, 'airhead': 122, 'stuffed': 4723, 'armadillo': 274, 'disproves': 1424, 'climate': 895, 'change': 808, 'boom': 573, 'vp': 5241, 'candidate': 730, 'tim': 4939, 'kaine': 2634, 'skirt': 4487, 'issue': 2553, 'trustworthiness': 5054, 'condemns': 1001, 'david': 1219, 'duke': 1515, 'call': 710, 'bigot': 496, 'open': 3383, 'border': 579, 'advisor': 80, 'leak': 2767, 'tape': 4844, 'setting': 4372, 'romney': 4164, 'bid': 491, 'misleading': 3104, 'mainstream': 2932, 'pushing': 3836, 'false': 1771, 'narrative': 3213, 'steal': 4664, 'gon': 2088, 'na': 3202, 'happen': 2190, 'democracy': 1294, 'bad': 375, 'idea': 2369, 'shocker': 4417, 'public': 3813, 'turn': 5073, 'computer': 990, 'lab': 2713, 'mosque': 3155, 'bar': 405, 'non': 3289, 'muslim': 3196, 'student': 4719, 'expert': 1726, 'recommend': 3944, 'crushing': 1163, 'defeat': 1264, 'smaller': 4508, 'manageable': 2948, 'failure': 1762, 'onion': 3378, 'finest': 1852, 'source': 4567, 'something': 4552, 'lgbt': 2809, 'explode': 1732, 'albert': 133, 'pike': 3586, 'migrant': 3075, 'crisis': 1142, 'defiant': 1271, 'national': 3218, 'park': 3480, 'rogue': 4155, 'mount': 3162, 'headed': 2220, 'treason': 5021, 'fraud': 1954, 'holter': 2292, 'eu': 1667, 'red': 3958, 'scare': 4253, 'brussels': 658, 'pass': 3493, 'resolution': 4058, 'counter': 1104, 'russian': 4198, 'propaganda': 3782, 'target': 4848, 'decision': 1250, 'endanger': 1600, 'allowing': 159, 'little': 2856, 'bathroom': 428, 'rigged': 4122, 'system': 4823, 'materialist': 3000, 'analysis': 196, 'green': 2125, 'cia': 863, 'brennan': 622, 'opposing': 3395, 'insist': 2483, 'expose': 1734, 'sealed': 4304, 'caution': 768, 'document': 1451, 'whoa': 5330, 'disturbing': 1435, 'faked': 1767, 'audience': 333, 'nc': 3229, 'rally': 3887, 'alcoholic': 136, 'jonathan': 2606, 'brook': 651, 'profit': 3769, 'carly': 748, 'fiorina': 1857, 'ambush': 179, 'preschooler': 3717, 'field': 1831, 'prove': 3800, 'abortion': 10, 'massive': 2992, 'marine': 2975, 'declared': 1251, 'antarctic': 226, 'ocean': 3341, 'heartbroken': 2231, 'death': 1237, 'rep': 4025, 'steve': 4672, 'scalise': 4247, 'still': 4678, 'alive': 146, 'terrible': 4882, 'deal': 1232, 'iran': 2534, 'brilliant': 634, 'recount': 3949, 'battleground': 431, 'throw': 4924, 'gasoline': 2010, 'terrorist': 4887, 'aha': 111, 'honcho': 2300, 'rupert': 4192, 'murdoch': 3191, 'ordered': 3403, 'august': 338, 'mock': 3128, 'constitutional': 1047, 'scholar': 4266, 'nato': 3221, 'buildup': 668, 'eastern': 1531, 'iceberg': 2366, 'group': 2131, 'absolutely': 15, 'destroys': 1341, 'nra': 3306, 'marketing': 2979, 'senior': 4342, 'senator': 4337, 'stupid': 4732, 'collude': 934, 'asks': 296, 'wrong': 5418, 'question': 3854, 'slammed': 4494, 'bratty': 608, 'said': 4213, 'screw': 4294, 'drew': 1498, 'carey': 743, 'son': 4553, 'coincidence': 923, 'effect': 1547, 'ford': 1916, 'course': 1110, 'brings': 638, 'mexico': 3062, 'plant': 3611, 'threat': 4917, 'outsourcing': 3430, 'fan': 1776, 'wisconsin': 5366, 'game': 2002, 'wear': 5288, 'mask': 2987, 'noose': 3292, 'attached': 321, 'federal': 1808, 'crush': 1161, 'labor': 2715, 'union': 5117, 'nationwide': 3219, 'dramatic': 1488, 'increase': 2436, 'blm': 540, 'employee': 1593, 'thanks': 4898, 'bundy': 675, 'two': 5087, 'poll': 3653, 'washington': 5273, 'hit': 2277, 'roy': 4175, 'moore': 3147, 'backfired': 371, 'sollers': 4546, 'start': 4651, 'serial': 4356, 'production': 3764, 'car': 738, 'glonass': 2065, 'father': 1795, 'slain': 4492, 'soldier': 4541, 'ripped': 4132, 'ban': 394, 'pick': 3578, 'senate': 4336, 'bipartisan': 505, 'facilitate': 1752, 'better': 482, 'access': 22, 'gov': 2101, 'juror': 2628, 'oregon': 3405, 'militia': 3082, 'trial': 5028, 'dismissed': 1414, 'bias': 490, 'judge': 2620, 'spokesperson': 4608, 'katrina': 2642, 'pierson': 3585, 'blatant': 531, 'threatened': 4919, 'lawsuit': 2757, 'claiming': 877, 'hypocrite': 2361, 'quote': 3868, 'volunteer': 5234, 'deliver': 1286, 'lawless': 2754, 'restore': 4072, 'order': 3402, 'honor': 2304, 'veteran': 5194, 'blacklivesmatter': 521, 'activist': 47, 'staged': 4638, 'police': 3645, 'brutality': 660, 'protestor': 3798, 'golf': 2085, 'addicted': 55, 'le': 2760, 'hundred': 2349, 'classmate': 885, 'parent': 3476, 'protest': 3795, 'let': 2802, 'transgender': 5008, 'boy': 593, 'missouri': 3108, 'dcg': 1224, 'self': 4328, 'proclaimed': 3760, 'defender': 1267, 'speech': 4588, 'maher': 2926, 'belief': 461, 'comedian': 949, 'russell': 4196, 'brand': 607, 'stand': 4643, 'routine': 4172, 'anniversary': 216, 'berlin': 473, 'building': 667, 'crazy': 1127, 'japanese': 2575, 'invention': 2520, 'simply': 4465, 'beck': 442, 'bullsh': 673, 'bigoted': 497, 'pure': 3831, 'stupidity': 4733, 'audio': 334, 'secretary': 4314, 'mattis': 3003, 'speaks': 4585, 'incompetent': 2434, 'north': 3296, 'korea': 2698, 'definitely': 1273, 'cnbc': 910, 'hack': 2162, 'prof': 3766, 'allegiance': 150, 'party': 3490, 'celebrating': 778, 'mass': 2988, 'murder': 3187, 'fugitive': 1980, 'preparing': 3716, 'run': 4188, 'qatar': 3842, 'billion': 502, 'principal': 3738, 'picture': 3579, 'yearbook': 5435, 'dad': 1194, 'steaming': 4666, 'mad': 2914, 'live': 2857, 'pummel': 3823, 'donation': 1463, 'pa': 3441, 'epic': 1638, 'challenge': 801, 'jump': 2624, 'shark': 4401, 'server': 4363, 'conspiracy': 1042, 'theory': 4902, 'statement': 4657, 'dangerous': 1205, 'cult': 1172, 'asked': 294, 'bribery': 628, 'immediately': 2399, 'boiler': 562, 'room': 4165, 'smoking': 4516, 'gunz': 2155, 'jedi': 2582, 'mind': 3091, 'mark': 2977, 'hamill': 2181, 'panic': 3464, 'threaten': 4918, 'harm': 2198, 'reporter': 4037, 'snapping': 4520, 'photo': 3573, 'tillerson': 4937, 'note': 3301, 'confirmation': 1015, 'hearing': 2227, 'break': 614, 'update': 5148, 'wapo': 5258, 'four': 1941, 'desperately': 1335, 'try': 5058, 'explain': 1728, 'polling': 3654, 'number': 3316, 'dnc': 1447, 'leaked': 2768, 'nd': 3231, 'dodge': 1453, 'goldman': 2084, 'sachs': 4205, 'shut': 4439, 'st': 4632, 'mn': 3120, 'interstate': 2509, 'molotov': 3135, 'cocktail': 916, 'concrete': 999, 'injure': 2470, 'attempt': 325, 'christian': 852, 'evangelist': 1678, 'jewish': 2595, 'hitler': 2278, 'card': 739, 'tumbling': 5067, 'mutiny': 3198, 'billionaire': 503, 'guru': 2156, 'benefit': 467, 'paleo': 3456, 'diet': 1369, 'banana': 395, 'republic': 4043, 'putin': 3838, 'valdai': 5175, 'act': 42, 'ny': 3321, 'shakedown': 4388, 'sharpton': 4403, 'meet': 3026, 'gm': 2070, 'pressure': 3723, 'dropping': 1508, 'rock': 4148, 'confederatef': 1008, 'flag': 1870, 'michael': 3065, 'though': 4913, 'majority': 2935, 'er': 1643, 'send': 4338, 'clear': 889, 'anthem': 227, 'singer': 4472, 'shirt': 4415, 'keep': 2645, 'politics': 3652, 'moderator': 3132, 'fact': 1755, 'irrelevant': 2542, 'matthew': 3002, 'compare': 975, 'jared': 2576, 'kushner': 2708, 'saddam': 4208, 'hussein': 2359, 'murderous': 3190, 'rapist': 3903, 'eye': 1744, 'contact': 1051, 'without': 5376, 'getting': 2038, 'best': 478, 'comeback': 948, 'allegation': 147, 'worker': 5391, 'skipping': 4486, 'work': 5389, 'behalf': 453, 'illegal': 2387, 'employer': 1594, 'welcome': 5307, 'germany': 2034, 'interview': 2510, 'swear': 4802, 'oath': 3326, 'store': 4690, 'owner': 3439, 'report': 4034, 'florida': 1895, 'week': 5297, 'massacre': 2990, 'hoax': 2281, 'biggest': 494, 'season': 4308, 'lawyer': 2758, 'skewer': 4483, 'village': 5209, 'idiot': 2374, 'violation': 5216, 'advises': 79, 'changing': 809, 'doxxed': 1481, 'chicago': 837, 'strip': 4712, 'honorary': 2305, 'street': 4705, 'designation': 1330, 'training': 5002, 'teacher': 4859, 'hood': 2307, 'britain': 641, 'longer': 2872, 'sovereign': 4574, 'investor': 2527, 'pulled': 3820, 'deutsche': 1352, 'bank': 400, 'etf': 1663, 'unit': 5120, 'cuomo': 1176, 'defends': 1268, 'endorsing': 1607, 'de': 1225, 'blasio': 528, 'offensive': 3351, 'statue': 4660, 'christopher': 855, 'columbus': 944, 'stealing': 4665, 'cbs': 772, 'anyone': 234, 'easy': 1532, 'rig': 4121, 'pretend': 3725, 'started': 4652, 'race': 3872, 'push': 3834, 'untangle': 5142, 'motif': 3159, 'shooter': 4422, 'nypd': 3323, 'koala': 2691, 'excited': 1704, 'map': 2965, 'podesta': 3634, 'alphabetical': 166, 'index': 2443, 'sender': 4339, 'version': 5189, 'updated': 5149, 'anderson': 200, 'cooper': 1077, 'air': 120, 'busted': 688, 'using': 5169, 'crap': 1124, 'suppress': 4777, 'nostradamus': 3300, 'predicted': 3706, 'alien': 145, 'invasion': 2519, 'nyc': 3322, 'ramping': 3892, 'million': 3088, 'illegals': 2388, 'chairman': 799, 'yell': 5437, 'together': 4953, 'shoot': 4421, 'middle': 3072, 'finger': 1853, 'stage': 4637, 'crooked': 1148, 'soros': 4560, 'popular': 3664, 'landslide': 2726, 'lose': 2881, 'electoral': 1566, 'tubman': 5064, 'jackson': 2564, 'democratic': 1296, 'base': 417, 'ready': 3921, 'rid': 4117, 'hilariously': 2265, 'rib': 4111, 'insane': 2478, 'obsession': 3337, 'impeaching': 2409, 'illegitimate': 2389, 'elect': 1562, 'delay': 1279, 'schedule': 4258, 'fed': 1807, 'control': 1061, 'okeefe': 3366, 'radio': 3879, 'wed': 5292, 'oct': 3342, 'bottom': 586, 'pm': 3629, 'edt': 1542, 'description': 1328, 'uk': 5095, 'brexit': 624, 'cheer': 830, 'accuse': 30, 'intimidation': 2512, 'reminding': 4014, 'wan': 5255, 'ignore': 2381, 'criticism': 1146, 'west': 5314, 'youth': 5448, 'another': 223, 'world': 5394, 'possible': 3677, 'clone': 899, 'translated': 5011, 'chinese': 844, 'english': 1617, 'subtitle': 4742, 'jorge': 2610, 'ramos': 3890, 'hannity': 2189, 'coddling': 918, 'lengthy': 2795, 'article': 287, 'dem': 1289, 'corruption': 1094, 'critical': 1145, 'story': 4692, 'mother': 3158, 'daughter': 1217, 'arrive': 283, 'nude': 3311, 'exam': 1699, 'radical': 3878, 'whose': 5336, 'includes': 2431, 'aiding': 116, 'cross': 1151, 'dump': 1518, 'corey': 1086, 'spa': 4575, 'enferm': 1611, 'depuis': 1320, 'trois': 5037, 'jours': 2615, 'dans': 1208, 'une': 5113, 'cage': 700, 'mi': 3063, 'gaillard': 1997, 'serum': 4361, 'euthanasi': 1673, 'demain': 1290, 'il': 2386, 'est': 1658, 'adopt': 70, 'gorafi': 2097, 'henningsen': 2242, 'nuclear': 3310, 'deterrent': 1349, 'rabbi': 3870, 'lerner': 2798, 'ali': 144, 'funeral': 1989, 'colbert': 925, 'tapper': 4846, 'feud': 1826, 'master': 2993, 'estate': 1660, 'moscow': 3154, 'working': 5392, 'arranging': 280, 'palestine': 3457, 'summit': 4759, 'hugging': 2339, 'peaceful': 3519, 'charlotte': 821, 'riot': 4128, 'objective': 3334, 'loud': 2888, 'outburst': 3418, 'latina': 2741, 'guest': 2144, 'forbids': 1912, 'private': 3745, 'jet': 2592, 'travel': 5017, 'cost': 1096, 'brother': 654, 'prosecuted': 3787, 'nevada': 3253, 'following': 1905, 'acquittal': 39, 'sean': 4305, 'spicer': 4594, 'december': 1246, 'strongly': 4714, 'opposed': 3394, 'exactly': 1698, 'today': 4951, 'tx': 5088, 'professor': 3767, 'upset': 5156, 'armed': 275, 'avoid': 353, 'shooting': 4423, 'carry': 751, 'dumbass': 1516, 'alaska': 132, 'lawmaker': 2755, 'different': 1371, 'sot': 4563, 'manchester': 2951, 'council': 1103, 'contender': 1053, 'facepalm': 1751, 'semitic': 4334, 'actually': 51, 'freechrischristie': 1959, 'reacts': 3918, 'hostage': 2321, 'situation': 4480, 'think': 4908, 'nyt': 3324, 'called': 711, 'potus': 3688, 'society': 4534, 'sue': 4752, 'small': 4507, 'massachusetts': 2989, 'town': 4985, 'allocate': 156, 'space': 4576, 'embroiled': 1585, 'nsfw': 3309, 'flashback': 1876, 'labeled': 2714, 'high': 2255, 'priest': 3734, 'goddess': 2077, 'occult': 3340, 'guccifer': 2141, 'redflag': 3959, 'freebie': 1958, 'george': 2030, 'stunning': 4729, 'appoints': 255, 'coffee': 921, 'mug': 3176, 'transition': 5010, 'team': 4860, 'endorses': 1606, 'hurricane': 2355, 'storm': 4691, 'thing': 4907, 'awkward': 363, 'hoda': 2283, 'spike': 4597, 'miserable': 3101, 'rating': 3912, 'shielding': 4409, 'driver': 1503, 'protester': 3796, 'blocking': 544, 'road': 4143, 'seeing': 4319, 'easily': 1529, 'stolen': 4685, 'electronic': 1567, 'machine': 2910, 'quarterback': 3848, 'citizenship': 869, 'risk': 4135, 'annihilation': 215, 'wildly': 5350, 'unpopular': 5135, 'nh': 3267, 'uncensored': 5105, 'facebook': 1749, 'user': 5168, 'french': 1966, 'journalist': 2613, 'fine': 1851, 'true': 5047, 'designed': 1331, 'fail': 1759, 'knew': 2687, 'along': 165, 'kellyanne': 2650, 'conway': 1072, 'humiliated': 2345, 'tv': 5079, 'display': 1422, 'incompetence': 2433, 'made': 2916, 'major': 2934, 'blow': 550, 'aggressively': 102, 'defend': 1266, 'bringing': 637, 'imax': 2396, 'film': 1842, 'glory': 2067, 'shouting': 4428, 'insider': 2482, 'warning': 5266, 'nomination': 3287, 'every': 1686, 'derailed': 1324, 'information': 2463, 'wolf': 5382, 'blitzer': 539, 'walk': 5250, 'olive': 3372, 'garden': 2007, 'commercial': 961, 'announce': 217, 'result': 4077, 'lying': 2906, 'forum': 1932, 'lock': 2862, 'weiner': 5305, 'laptop': 2730, 'illuminati': 2392, 'pedophile': 3523, 'ring': 4125, 'older': 3370, 'naturally': 3222, 'improve': 2422, 'wellness': 5311, 'da': 1192, 'department': 1309, 'setzt': 4375, 'den': 1300, 'widerstand': 5340, 'gegen': 2018, 'imperialismus': 2411, 'terrorismus': 4886, 'gleich': 2060, 'carl': 746, 'jung': 2626, 'attitude': 331, 'type': 5089, 'sash': 4234, 'solitude': 4545, 'welfare': 5309, 'leech': 2784, 'boston': 584, 'jihadist': 2596, 'jury': 2629, 'class': 883, 'ticket': 4931, 'hell': 2238, 'iraqi': 2537, 'elite': 1571, 'stretched': 4708, 'thin': 4906, 'tactic': 4829, 'around': 279, 'losing': 2883, 'band': 396, 'member': 3037, 'predicts': 3707, 'cker': 874, 'dhs': 1359, 'johnson': 2602, 'drinking': 1501, 'kool': 2696, 'verdict': 5187, 'crookedhillary': 1149, 'deleted': 1284, 'personal': 3557, 'recovered': 3950, 'benghazi': 468, 'linked': 2845, 'political': 3648, 'endingfed': 1602, 'hacking': 2165, 'tomi': 4959, 'lahren': 2720, 'rocker': 4151, 'marilyn': 2974, 'manson': 2961, 'thrilled': 4923, 'imploding': 2415, 'tally': 4838, 'total': 4973, 'queen': 3851, 'syndicate': 4819, 'ridiculous': 4119, 'maxine': 3006, 'water': 5279, 'receives': 3938, 'glamour': 2057, 'award': 359, 'lead': 2761, 'screaming': 4290, 'chant': 811, 'libertarian': 2817, 'jake': 2569, 'touting': 4981, 'assassination': 305, 'place': 3603, 'worry': 5397, 'wing': 5359, 'regret': 3986, 'turned': 5074, 'monster': 3143, 'return': 4091, 'furious': 1993, 'smack': 4506, 'everyone': 1688, 'complex': 984, 'attention': 330, 'see': 4318, 'switching': 4814, 'agree': 105, 'camera': 718, 'fatal': 1792, 'illusion': 2393, 'bag': 377, 'weed': 5295, 'rushed': 4195, 'london': 2867, 'arkansas': 272, 'pas': 3492, 'giving': 2054, 'power': 3694, 'stop': 4687, 'victim': 5200, 'patriot': 3502, 'removal': 4016, 'communist': 971, 'neighbor': 3241, 'indicted': 2450, 'hacker': 2164, 'five': 1867, 'crowdstrike': 1155, 'completely': 983, 'chelsea': 832, 'spread': 4619, 'outrageous': 3427, 'michigan': 3067, 'gay': 2015, 'passed': 3495, 'sergei': 4355, 'shoigu': 4420, 'admiral': 62, 'kuznetsov': 2710, 'aircraft': 121, 'carrying': 752, 'cruiser': 1158, 'begun': 452, 'navy': 3225, 'nusra': 3318, 'including': 2432, 'commander': 955, 'aleppo': 139, 'logic': 2865, 'find': 1849, 'supposed': 4776, 'anything': 235, 'anymore': 233, 'tesla': 4888, 'elon': 1575, 'musk': 3195, 'sends': 4341, 'bail': 384, 'paris': 3479, 'approval': 256, 'took': 4965, 'nosedive': 3299, 'sieben': 4450, 'sprachen': 4616, 'nur': 3317, 'vier': 5204, 'jahren': 2566, 'ist': 2554, 'bella': 464, 'ein': 1557, 'wunderkind': 5424, 'stamp': 4641, 'takedown': 4832, 'common': 968, 'thread': 4916, 'jamelle': 2570, 'bouie': 587, 'science': 4275, 'half': 2174, 'deplorable': 1313, 'debt': 1241, 'paula': 3509, 'jones': 2607, 'stunned': 4727, 'pope': 3662, 'rome': 4163, 'erdogan': 1648, 'thug': 4926, 'rough': 4170, 'outrage': 3425, 'instruction': 2489, 'acceptable': 21, 'migration': 3076, 'conquering': 1032, 'nobel': 3283, 'prize': 3749, 'economist': 1538, 'unreal': 5136, 'scream': 4288, 'prayer': 3699, 'pledge': 3621, 'hall': 2175, 'laser': 2734, 'truly': 5048, 'upon': 5153, 'john': 2601, 'oliver': 3373, 'smear': 4512, 'exposed': 1735, 'sailor': 4215, 'held': 2237, 'iranian': 2535, 'sign': 4453, 'neocon': 3244, 'stunt': 4731, 'future': 1994, 'declaring': 1253, 'winner': 5361, 'goon': 2094, 'schooled': 4268, 'hysterical': 2364, 'confused': 1020, 'cosby': 1095, 'bargained': 408, 'tried': 5032, 'discredit': 1401, 'husband': 2358, 'ruffalo': 4182, 'delivers': 1287, 'mobile': 3125, 'solar': 4539, 'trailer': 5000, 'standing': 4645, 'camp': 720, 'preparation': 3714, 'harsh': 2203, 'winter': 5363, 'attacking': 324, 'grandson': 2116, 'okay': 3365, 'loudmouth': 2889, 'entertainer': 1628, 'milo': 3089, 'kicked': 2663, 'williamsburg': 5353, 'punch': 3824, 'mouth': 3163, 'concerned': 995, 'potential': 3687, 'xi': 5427, 'western': 5316, 'xjp': 5429, 'lightly': 2831, 'beijing': 457, 'express': 1737, 'saker': 4216, 'latest': 2739, 'scapegoat': 4250, 'implosion': 2416, 'nothing': 3302, 'short': 4425, 'absurd': 16, 'talk': 4836, 'admittedly': 68, 'joke': 2605, 'nail': 3204, 'immigration': 2402, 'violent': 5218, 'ferguson': 1822, 'cellphone': 781, 'capture': 737, 'traffic': 4997, 'mowed': 3170, 'erupt': 1654, 'maryland': 2985, 'switched': 4813, 'nrcc': 3307, 'brag': 601, 'movement': 3167, 'spent': 4593, 'gambling': 2001, 'unknowable': 5125, 'ben': 465, 'jerry': 2588, 'ice': 2365, 'cream': 1128, 'founder': 1939, 'arrested': 282, 'capitol': 736, 'submarine': 4737, 'sea': 4301, 'poverty': 3692, 'rose': 4166, 'district': 1433, 'presidency': 3718, 'petition': 3564, 'remove': 4017, 'owned': 3438, 'signature': 4455, 'brutally': 661, 'hilarity': 2266, 'ensues': 1621, 'rap': 3900, 'song': 4554, 'oligarchy': 3371, 'exit': 1716, 'outlook': 3423, 'cheaper': 827, 'worst': 5400, 'doucyet': 1475, 'fcc': 1801, 'net': 3247, 'neutrality': 3252, 'rule': 4185, 'bomb': 566, 'whining': 5324, 'rush': 4194, 'limbaugh': 2834, 'financial': 1848, 'ruin': 4183, 'boycott': 594, 'palin': 3459, 'stuns': 4730, 'latino': 2742, 'enticed': 1630, 'soccer': 4530, 'ball': 390, 'filled': 1841, 'gift': 2045, 'basket': 424, 'risked': 4136, 'legal': 2789, 'mill': 3084, 'ep': 1636, 'simple': 4464, 'chart': 823, 'journal': 2612, 'wrecked': 5410, 'trumpcare': 5050, 'love': 2891, 'spineless': 4601, 'doctor': 1450, 'list': 2846, 'procedure': 3756, 'hot': 2324, 'dog': 1455, 'cart': 754, 'causing': 767, 'warming': 5262, 'dr': 1483, 'eowyn': 1635, 'lavar': 2752, 'allegedly': 149, 'surgery': 4783, 'portion': 3670, 'skull': 4488, 'flat': 1878, 'admit': 65, 'promising': 3775, 'internet': 2508, 'career': 741, 'vine': 5213, 'write': 5414, 'newsbiscuit': 3261, 'copied': 1082, 'east': 1530, 'coast': 914, 'seth': 4371, 'rich': 4114, 'sickening': 4444, 'lecture': 2780, 'mom': 3136, 'terrorism': 4885, 'manufactured': 2962, 'remember': 4011, 'operative': 3388, 'bragging': 603, 'wi': 5337, 'funny': 1991, 'asking': 295, 'postman': 3682, 'spider': 4595, 'flasher': 1877, 'sheriff': 4407, 'clarke': 881, 'conglomeration': 1022, 'misfit': 3102, 'plan': 3606, 'giddy': 2043, 'frothing': 1975, 'intercepted': 2502, 'communication': 969, 'implicate': 2413, 'three': 4922, 'plot': 3622, 'francis': 1950, 'assimilate': 310, 'superstar': 4770, 'marc': 2970, 'anthony': 228, 'madison': 2918, 'square': 4626, 'veritas': 5188, 'bartender': 415, 'recorded': 3948, 'coordinated': 1079, 'invited': 2530, 'pop': 3661, 'perform': 3547, 'inauguration': 2426, 'sing': 4471, 'lynching': 2908, 'flip': 1886, 'flop': 1893, 'met': 3055, 'dictator': 1365, 'la': 2712, 'vega': 5183, 'suspect': 4794, 'drive': 1502, 'missing': 3107, 'price': 3729, 'rex': 4108, 'rolling': 4159, 'thunder': 4929, 'player': 3615, 'patrick': 3501, 'parallax': 3472, 'daniel': 1206, 'faraci': 1781, 'bahaha': 381, 'bet': 480, 'homeless': 2297, 'guard': 2139, 'hollywood': 2290, 'blvd': 555, 'sleep': 4501, 'intel': 2498, 'produce': 3761, 'showing': 4432, 'administration': 61, 'spied': 4596, 'sings': 4474, 'bird': 506, 'dickileak': 1364, 'provides': 3803, 'sequestered': 4353, 'weather': 5290, 'comprehensive': 988, 'date': 1215, 'ally': 162, 'offended': 3348, 'evidence': 1691, 'reopens': 4024, 'charleston': 820, 'eggshell': 1550, 'eve': 1681, 'racially': 3875, 'tool': 4966, 'swedish': 4805, 'colonizer': 941, 'preference': 3708, 'housing': 2329, 'native': 3220, 'swede': 4803, 'cold': 926, 'object': 3333, 'jennifer': 2586, 'lopez': 2877, 'shake': 4387, 'thong': 4911, 'stuff': 4722, 'homeland': 2296, 'mishandling': 3103, 'truthfeed': 5057, 'anchor': 198, 'lemon': 2793, 'georgia': 2032, 'openly': 3385, 'displaying': 1423, 'dislike': 1413, 'barnicle': 411, 'andrea': 202, 'mitchell': 3116, 'annoyed': 221, 'trash': 5014, 'newt': 3263, 'available': 348, 'televised': 4870, 'since': 4470, 'ambushed': 180, 'outside': 3429, 'courthouse': 1112, 'gunman': 2153, 'riveting': 4141, 'youtube': 5449, 'urging': 5162, 'execute': 1710, 'dan': 1203, 'rather': 3911, 'shame': 4390, 'great': 2120, 'reopening': 4023, 'due': 1514, 'recent': 3940, 'development': 1356, 'empty': 1595, 'barrel': 413, 'noise': 3285, 'general': 2021, 'disgrace': 1406, 'uniform': 5115, 'far': 1780, 'mccain': 3010, 'pieczenik': 3582, 'intelligence': 2499, 'waging': 5245, 'coup': 1108, 'corrupt': 1093, 'regated': 3977, 'maga': 2924, 'mania': 2956, 'motor': 3160, 'diamond': 1361, 'silk': 4459, 'large': 2731, 'whoop': 5333, 'painfully': 3450, 'come': 947, 'big': 493, 'somali': 4549, 'smithsonian': 4514, 'museum': 3193, 'planning': 3610, 'hero': 2244, 'third': 4910, 'rate': 3908, 'qb': 3843, 'agitator': 103, 'colin': 927, 'kaepernick': 2633, 'affleck': 86, 'realized': 3925, 'batman': 429, 'superman': 4769, 'aide': 115, 'advised': 77, 'stranger': 4698, 'fiction': 1828, 'survivor': 4792, 'sponsored': 4611, 'firm': 1861, 'phony': 3572, 'pull': 3819, 'jay': 2578, 'beyonce': 486, 'gig': 2046, 'glass': 2059, 'ceiling': 775, 'crack': 1122, 'concentration': 993, 'dapl': 1209, 'kennel': 2652, 'sharon': 4402, 'jeanguenat': 2580, 'redux': 3963, 'neurosurgeon': 3251, 'prez': 3728, 'huffington': 2337, 'living': 2858, 'trunk': 5052, 'oppression': 3397, 'commiseration': 963, 'similar': 4462, 'topic': 4968, 'woo': 5385, 'meditation': 3023, 'shout': 4427, 'killing': 2672, 'wife': 5343, 'persecution': 3553, 'evangelism': 1677, 'china': 843, 'torn': 4969, 'lawn': 2756, 'beyond': 487, 'limit': 2836, 'minnesota': 3098, 'join': 2603, 'voice': 5231, 'dossier': 1471, 'spoke': 4605, 'fate': 1794, 'ucla': 5092, 'basketball': 425, 'detained': 1343, 'allow': 157, 'convenient': 1065, 'active': 45, 'fort': 1930, 'lauderdale': 2743, 'agreeing': 107, 'predator': 3703, 'harvey': 2204, 'fundraiser': 1988, 'anyway': 236, 'fabricating': 1747, 'innocent': 2475, 'dreamer': 1495, 'deported': 1317, 'session': 4368, 'intimidated': 2511, 'answer': 224, 'harris': 2201, 'scorch': 4282, 'actor': 48, 'approved': 257, 'meryl': 3051, 'streep': 4704, 'rant': 3899, 'check': 828, 'vaughn': 5182, 'mel': 3031, 'gibson': 2042, 'reaction': 3917, 'reportedly': 4036, 'tower': 4983, 'layout': 2759, 'sneak': 4521, 'peek': 3525, 'sits': 4479, 'portrays': 3673, 'laughing': 2746, 'demonstration': 1298, 'coke': 924, 'harmful': 2199, 'informed': 2464, 'mascot': 2986, 'real': 3923, 'art': 286, 'donated': 1462, 'tourist': 4979, 'decaying': 1245, 'charm': 822, 'dublin': 1513, 'least': 2773, 'corporate': 1089, 'presstitutes': 3722, 'colluded': 935, 'hide': 2252, 'explodes': 1733, 'moral': 3148, 'stance': 4642, 'bizarre': 517, 'starring': 4650, 'omarosa': 3376, 'surface': 4781, 'hair': 2170, 'ewao': 1695, 'hawking': 2217, 'searching': 4307, 'late': 2737, 'mitch': 3115, 'mcconnell': 3012, 'beat': 436, 'snorting': 4525, 'cocaine': 915, 'hotel': 2326, 'cyber': 1188, 'pocalypse': 3632, 'mcafee': 3009, 'pressured': 3724, 'argentina': 268, 'honoring': 2306, 'jimmy': 2597, 'carter': 756, 'turkey': 5071, 'rivalry': 4139, 'kurd': 2705, 'complicate': 985, 'raqqa': 3905, 'placed': 3604, 'donor': 1465, 'funding': 1987, 'allows': 160, 'christmas': 854, 'light': 2830, 'offending': 3350, 'pittsburgh': 3601, 'officer': 3354, 'boycotting': 596, 'baiting': 386, 'diva': 1436, 'concert': 996, 'forced': 1914, 'satanist': 4235, 'brilliantly': 635, 'troll': 5038, 'baker': 387, 'requesting': 4046, 'birthday': 509, 'cake': 705, 'lucifer': 2897, 'decide': 1248, 'screwed': 4295, 'steel': 4667, 'buying': 693, 'metal': 3056, 'instead': 2487, 'ya': 5431, 'mitt': 3117, 'chooses': 849, 'exxon': 1743, 'mobil': 3124, 'sec': 4310, 'path': 3500, 'consortiumnews': 1041, 'congratulates': 1024, 'bless': 533, 'discovered': 1399, 'sunken': 4763, 'roman': 4160, 'atlantis': 319, 'official': 3355, 'exposing': 1736, 'german': 2033, 'us': 5163, 'nudity': 3312, 'outlet': 3421, 'loon': 2876, 'versus': 5190, 'sarah': 4230, 'entertainingly': 1629, 'apart': 237, 'toblerone': 4949, 'sponsor': 4610, 'premier': 3712, 'league': 2766, 'goalpost': 2075, 'metre': 3060, 'soon': 4558, 'confirms': 1017, 'sold': 4540, 'weapon': 5287, 'drop': 1506, 'italian': 2555, 'struggling': 4717, 'stay': 4662, 'afloat': 90, 'warship': 5271, 'targeting': 4850, 'syrian': 4822, 'civilian': 872, 'slapped': 4497, 'dose': 1470, 'reality': 3924, 'brexiter': 625, 'refusing': 3975, 'finance': 1847, 'bn': 556, 'worse': 5398, 'written': 5417, 'bus': 684, 'rosneft': 4168, 'baut': 432, 'ehemalige': 1555, 'romanow': 4162, 'residenz': 4053, 'wieder': 5341, 'auf': 336, 'regular': 3987, 'pulse': 3822, 'nightclub': 3277, 'often': 3359, 'dating': 1216, 'app': 242, 'abuse': 17, 'multibillion': 3181, 'dollar': 1458, 'adele': 58, 'pregnant': 3710, 'aint': 119, 'fun': 1985, 'mum': 3185, 'paper': 3467, 'fourth': 1942, 'nonexistent': 3291, 'rethink': 4086, 'surprise': 4784, 'pride': 3732, 'parade': 3470, 'apparently': 244, 'predict': 3705, 'couple': 1109, 'stump': 4726, 'admire': 63, 'beautiful': 439, 'jr': 2618, 'pushed': 3835, 'read': 3919, 'eight': 1556, 'wrought': 5421, 'pitch': 3598, 'daily': 1197, 'perfectly': 3546, 'encyclopaedia': 1598, 'pokiespedia': 3641, 'rob': 4145, 'fannie': 1778, 'freddie': 1956, 'carson': 753, 'discovery': 1400, 'hud': 2335, 'clue': 908, 'globo': 2064, 'pokego': 3640, 'rnc': 4142, 'chair': 798, 'loses': 2882, 'honestly': 2301, 'lecturing': 2781, 'seriousness': 4360, 'smart': 4510, 'shamelessly': 4392, 'freeloader': 1962, 'subway': 4745, 'riding': 4120, 'book': 572, 'level': 2806, 'shred': 4434, 'clean': 887, 'scotus': 4286, 'disney': 1417, 'rated': 3909, 'targeted': 4849, 'kidnapping': 2667, 'slavery': 4500, 'charity': 819, 'author': 344, 'mongering': 3140, 'dot': 1472, 'connect': 1029, 'huckabee': 2334, 'cool': 1074, 'cucumber': 1171, 'appointed': 254, 'yates': 5433, 'defying': 1275, 'monumentally': 3146, 'humiliating': 2347, 'constituent': 1044, 'expertly': 1727, 'trolled': 5039, 'dress': 1497, 'code': 919, 'promotes': 3777, 'culture': 1173, 'underoos': 5111, 'officially': 3356, 'wad': 5242, 'tupolev': 5070, 'tu': 5062, 'bomber': 567, 'potent': 3686, 'rapidly': 3902, 'hoarding': 2280, 'currency': 1179, 'brave': 609, 'digital': 1373, 'amnesty': 188, 'koch': 2693, 'influence': 2460, 'awakened': 358, 'humanity': 2343, 'awaits': 356, 'fully': 1984, 'scripted': 4297, 'ending': 1601, 'robert': 4147, 'deniro': 1303, 'wanted': 5257, 'rioter': 4129, 'movie': 3168, 'sub': 4736, 'human': 2341, 'mob': 3123, 'young': 5445, 'begging': 449, 'mercy': 3048, 'parking': 3481, 'garage': 2005, 'joe': 2599, 'piscopo': 3595, 'imitates': 2398, 'adam': 53, 'schiff': 4261, 'finish': 1854, 'slap': 4496, 'regulation': 3988, 'tiny': 4943, 'citizen': 868, 'tom': 4957, 'brokaw': 646, 'threatening': 4920, 'paranoid': 3474, 'apoplexy': 241, 'russkies': 4199, 'rundown': 4189, 'looking': 2875, 'admission': 64, 'obamas': 3331, 'reading': 3920, 'pensacola': 3537, 'fl': 1869, 'charge': 816, 'transcript': 5006, 'apologizes': 240, 'review': 4100, 'insult': 2490, 'fly': 1897, 'lao': 2729, 'except': 1702, 'directed': 1382, 'devotes': 1358, 'champ': 804, 'cast': 759, 'toll': 4956, 'milwaukee': 3090, 'neighborhood': 3242, 'literally': 2853, 'praise': 3698, 'economic': 1537, 'flynn': 1899, 'flame': 1873, 'credibility': 1135, 'important': 2418, 'horoscope': 2313, 'november': 3305, 'martha': 2983, 'stewart': 4675, 'lewd': 2808, 'gesture': 2035, 'portrait': 3672, 'fair': 1763, 'seems': 4323, 'jealous': 2579, 'leading': 2764, 'adult': 73, 'overdose': 3432, 'warmer': 5261, 'ponder': 3656, 'budgeting': 664, 'good': 2090, 'legend': 2791, 'buffalo': 665, 'thousand': 4915, 'bison': 512, 'holder': 2286, 'key': 2658, 'collusion': 936, 'unveils': 5146, 'afford': 87, 'healthcare': 2224, 'frogtown': 1972, 'alt': 169, 'triumph': 5036, 'transhumanism': 5009, 'assad': 299, 'navigate': 3224, 'aspirant': 297, 'toby': 4950, 'protect': 3792, 'librarian': 2819, 'rt': 4176, 'fear': 1802, 'begin': 450, 'raid': 3881, 'madness': 2920, 'parry': 3484, 'keith': 2648, 'olbermann': 3368, 'lash': 2735, 'fukushima': 1982, 'untouchable': 5144, 'eco': 1536, 'apocalypse': 239, 'talking': 4837, 'coolest': 1076, 'anna': 213, 'frozen': 1976, 'disneyland': 1418, 'antifa': 231, 'biker': 498, 'ask': 293, 'resume': 4078, 'bombing': 568, 'muschniwogdowis': 3192, 'business': 686, 'usual': 5171, 'alert': 140, 'destroyed': 1340, 'intent': 2501, 'stopping': 4689, 'baltimore': 393, 'embarrass': 1578, 'suggests': 4755, 'solve': 4548, 'documentary': 1452, 'hd': 2218, 'credit': 1137, 'desperate': 1334, 'mistake': 3111, 'committed': 966, 'keeping': 2646, 'divisive': 1444, 'cannabis': 732, 'incurable': 2440, 'cancer': 728, 'criminalized': 1140, 'actress': 49, 'panicking': 3465, 'ugly': 5094, 'divorce': 1445, 'unsealed': 5141, 'seal': 4303, 'dare': 1210, 'worthy': 5401, 'serving': 4366, 'separate': 4349, 'emotion': 1590, 'spiritual': 4603, 'therapy': 4903, 'loving': 2893, 'srt': 4630, 'animal': 211, 'executes': 1711, 'front': 1973, 'unthinkable': 5143, 'plus': 3627, 'wildfire': 5348, 'october': 3343, 'running': 4191, 'reopened': 4022, 'wiretapping': 5365, 'accusation': 29, 'complete': 982, 'lesser': 2799, 'evil': 1692, 'argument': 270, 'block': 542, 'flint': 1885, 'backlash': 373, 'betraying': 481, 'laugh': 2744, 'philippine': 3570, 'leader': 2762, 'routinely': 4173, 'murdered': 3188, 'fill': 1840, 'exhausted': 1714, 'sidekick': 4446, 'valerie': 5177, 'jarrett': 2577, 'speaking': 4584, 'fee': 1812, 'university': 5124, 'witness': 5377, 'breathtaking': 620, 'century': 793, 'event': 1684, 'nic': 3269, 'mega': 3028, 'enough': 1620, 'vile': 5208, 'fooled': 1907, 'disguised': 1407, 'lied': 2824, 'misspoke': 3110, 'bowling': 591, 'franklin': 1953, 'graham': 2112, 'pulling': 3821, 'marriage': 2980, 'adoption': 71, 'osu': 3413, 'diversity': 1440, 'sympathizes': 4818, 'sharing': 4400, 'share': 4398, 'truck': 5045, 'minute': 3099, 'oil': 3362, 'tanker': 4840, 'mln': 3119, 'scientist': 4278, 'piece': 3581, 'dna': 1446, 'genome': 2027, 'anonymous': 222, 'vindicate': 5212, 'entire': 1631, 'felon': 1817, 'girlfriend': 2049, 'grab': 2107, 'stick': 4676, 'partner': 3489, 'exonerated': 1717, 'penalty': 3530, 'kevin': 2657, 'proposition': 3786, 'whoopi': 5334, 'goldberg': 2082, 'surprised': 4785, 'hindu': 2269, 'religious': 4006, 'bloc': 541, 'ok': 3364, 'promise': 3774, 'grandfather': 2115, 'ran': 3893, 'canadian': 726, 'brothel': 653, 'optimistic': 3399, 'ahead': 112, 'pack': 3445, 'assembly': 308, 'disrespectful': 1429, 'also': 168, 'boycotted': 595, 'bush': 685, 'fought': 1935, 'palm': 3460, 'beach': 435, 'welcomed': 5308, 'jew': 2594, 'excluded': 1705, 'african': 93, 'leave': 2774, 'napolitano': 3212, 'surveillance': 4790, 'success': 4746, 'mean': 3016, 'denzel': 1308, 'blaming': 526, 'despicable': 1337, 'kick': 2662, 'neverforget': 3255, 'gummy': 2150, 'candy': 731, 'churchgoer': 860, 'trapped': 5013, 'inside': 2481, 'cathedral': 763, 'guarding': 2140, 'authority': 345, 'mentor': 3046, 'kkk': 2684, 'byrd': 696, 'deserves': 1329, 'scaramucci': 4251, 'uncomfortable': 5106, 'wallace': 5254, 'creates': 1131, 'arizona': 271, 'poster': 3681, 'study': 4721, 'insurer': 2493, 'aca': 19, 'pharma': 3567, 'prep': 3713, 'spend': 4591, 'creator': 1134, 'mess': 3052, 'created': 1130, 'knock': 2688, 'stamen': 4640, 'gate': 2012, 'unlimited': 5129, 'permit': 3551, 'slash': 4498, 'saudi': 4238, 'cut': 1185, 'breast': 618, 'social': 4531, 'activism': 46, 'dramatically': 1489, 'chaos': 814, 'irs': 2543, 'audit': 335, 'breakfast': 616, 'bahrain': 382, 'rajab': 3886, 'hospitalized': 2319, 'heart': 2229, 'condition': 1002, 'sense': 4343, 'expansion': 1720, 'nasa': 3214, 'six': 4481, 'glossed': 2068, 'emerge': 1586, 'antonin': 232, 'primaried': 3735, 'horrified': 2315, 'nevertrump': 3256, 'gutless': 2157, 'coward': 1117, 'simpson': 4466, 'idiocy': 2373, 'correct': 1091, 'lamb': 2722, 'murderer': 3189, 'put': 3837, 'vetted': 5196, 'notice': 3303, 'name': 3208, 'minded': 3092, 'snake': 4518, 'salesman': 4219, 'chief': 839, 'guy': 2159, 'executive': 1712, 'traced': 4990, 'barack': 406, 'swinging': 4810, 'reply': 4033, 'aclu': 37, 'page': 3447, 'via': 5197, 'hole': 2287, 'sucker': 4751, 'southside': 4571, 'sucked': 4750, 'erik': 1651, 'erikson': 1652, 'reported': 4035, 'delusional': 1288, 'facing': 1754, 'filming': 1843, 'tar': 4847, 'sand': 4225, 'pipeline': 3592, 'dakota': 1198, 'nj': 3282, 'infiltrate': 2456, 'colorado': 943, 'discriminate': 1402, 'reward': 4107, 'person': 3556, 'bacon': 374, 'bonkers': 571, 'withdrawal': 5370, 'accord': 26, 'hail': 2168, 'victory': 5201, 'salute': 4221, 'everyday': 1687, 'woke': 5381, 'neil': 3243, 'armstrong': 277, 'ship': 4413, 'superior': 4768, 'soul': 4564, 'forest': 1921, 'joel': 2600, 'osteen': 3412, 'wrath': 5408, 'locking': 2864, 'door': 1467, 'devastated': 1353, 'houston': 2330, 'flood': 1889, 'difference': 1370, 'ratgeber': 3910, 'alles': 153, 'sie': 4449, 'jetzt': 2593, 'ber': 469, 'wahl': 5246, 'wissen': 5368, 'ssen': 4631, 'entering': 1627, 'chalkening': 800, 'across': 41, 'chuck': 857, 'todd': 4952, 'normalize': 3295, 'dartmouth': 1213, 'ethical': 1665, 'awkwardly': 364, 'angrily': 209, 'choose': 848, 'row': 4174, 'nervous': 3246, 'handle': 2186, 'jeff': 2583, 'flake': 1872, 'denounced': 1304, 'brent': 623, 'bozell': 598, 'conscience': 1033, 'photographer': 3574, 'eyebrow': 1745, 'problem': 3755, 'roll': 4158, 'ramadi': 3888, 'rudy': 4181, 'giuliani': 2051, 'blew': 535, 'khantroversy': 2661, 'wide': 5338, 'warplane': 5268, 'fleeing': 1883, 'fighter': 1833, 'weighs': 5302, 'hissy': 2274, 'fit': 1866, 'appears': 249, 'disoriented': 1419, 'airport': 125, 'racism': 3876, 'dumbest': 1517, 'imaginable': 2395, 'creative': 1133, 'chriswallace': 856, 'heated': 2233, 'exchange': 1703, 'tie': 4932, 'mod': 3130, 'shrinking': 4437, 'core': 1085, 'capital': 735, 'signal': 4454, 'recession': 3941, 'socialist': 4533, 'pee': 3524, 'came': 717, 'underage': 5107, 'pest': 3561, 'egyptian': 1554, 'troop': 5041, 'train': 5001, 'boris': 580, 'egorov': 1551, 'voucher': 5239, 'kasich': 2641, 'education': 1545, 'cair': 702, 'ignorance': 2379, 'hijab': 2260, 'hike': 2263, 'gitmo': 2050, 'serviceman': 4365, 'punished': 3827, 'heat': 2232, 'saved': 4241, 'leavenworth': 2775, 'spokesman': 4607, 'fogle': 1902, 'attacked': 323, 'beaten': 437, 'beg': 448, 'goer': 2079, 'sexy': 4383, 'sandy': 4227, 'hook': 2308, 'known': 2690, 'prior': 3741, 'ignored': 2382, 'urgent': 5161, 'consulate': 1049, 'lt': 2896, 'statistic': 4659, 'damned': 1202, 'tease': 4862, 'pale': 3455, 'gore': 2098, 'gone': 2089, 'snl': 4524, 'failing': 1761, 'clip': 898, 'writing': 5416, 'pen': 3529, 'hailed': 2169, 'twatty': 5080, 'midnight': 3073, 'loretta': 2879, 'grassley': 2118, 'testimony': 4892, 'detroit': 1351, 'assistant': 313, 'supervisor': 4771, 'special': 4586, 'received': 3937, 'cash': 758, 'woodshed': 5387, 'trail': 4999, 'heartbreaking': 2230, 'tweeted': 5082, 'oh': 3360, 'lovely': 2892, 'gang': 2003, 'broadcasted': 644, 'stuck': 4718, 'brink': 639, 'civil': 871, 'kamala': 2636, 'scathing': 4255, 'athlete': 318, 'diplomatic': 1380, 'kerry': 2656, 'kirby': 2679, 'shilling': 4412, 'highlight': 2258, 'pervert': 3559, 'appearance': 247, 'holy': 2293, 'released': 4002, 'closing': 903, 'sociopathic': 4535, 'liar': 2811, 'hid': 2250, 'moratorium': 3150, 'demented': 1293, 'imbecile': 2397, 'killary': 2669, 'reign': 3992, 'soar': 4528, 'asia': 291, 'libs': 2820, 'shoe': 4419, 'couch': 1098, 'probably': 3751, 'forgot': 1925, 'pic': 3577, 'cdc': 773, 'whistle': 5326, 'severe': 4378, 'malpractice': 2943, 'accused': 31, 'injury': 2472, 'blog': 545, 'investigating': 2524, 'lunatic': 2902, 'scolded': 4280, 'pier': 3583, 'morgan': 3151, 'trashing': 5015, 'wearing': 5289, 'confederate': 1007, 'whiner': 5323, 'georgetown': 2031, 'track': 4991, 'recruit': 3951, 'descendant': 1327, 'slave': 4499, 'vow': 5240, 'fascist': 1787, 'critic': 1144, 'saboteur': 4204, 'blind': 536, 'opera': 3386, 'performance': 3548, 'imminent': 2403, 'trolling': 5040, 'susan': 4793, 'sarandon': 4231, 'cleavage': 891, 'elderly': 1561, 'hispanic': 2273, 'pepper': 3541, 'sprayed': 4618, 'eric': 1650, 'vision': 5223, 'publicly': 3815, 'starting': 4653, 'cave': 770, 'scrabble': 4287, 'spell': 4590, 'doom': 1466, 'racial': 3874, 'hypothesis': 2363, 'reset': 4049, 'tabloid': 4825, 'rambling': 3889, 'turkish': 5072, 'disinfo': 1412, 'baghdadi': 380, 'follower': 1904, 'side': 4445, 'wedding': 5293, 'fanboy': 1777, 'blasted': 530, 'tweeting': 5083, 'wonder': 5384, 'else': 1576, 'fence': 1820, 'mansion': 2960, 'islamophobia': 2548, 'ultra': 5099, 'melissa': 3033, 'mccarthy': 3011, 'add': 54, 'admin': 60, 'ridicule': 4118, 'glorious': 2066, 'spoof': 4612, 'clueless': 909, 'unaware': 5103, 'adviser': 78, 'foreign': 1919, 'agent': 100, 'sinatra': 4469, 'firing': 1860, 'squad': 4625, 'testifying': 4891, 'unless': 5126, 'obey': 3332, 'modesty': 3133, 'denier': 1302, 'madonna': 2921, 'trey': 5027, 'gowdy': 2106, 'deemed': 1259, 'oklahoma': 3367, 'substitute': 4741, 'intoxication': 2513, 'bangalore': 398, 'km': 2685, 'search': 4306, 'reach': 3914, 'hampshire': 2184, 'almost': 164, 'collide': 932, 'portland': 3671, 'elijah': 1570, 'cummings': 1174, 'sure': 4780, 'well': 5310, 'aware': 360, 'regarding': 3976, 'indianapolis': 2447, 'screamed': 4289, 'tricked': 5031, 'fiddling': 1829, 'temperature': 4874, 'data': 1214, 'scam': 4248, 'welp': 5312, 'belgian': 459, 'receive': 3936, 'visa': 5222, 'asylum': 317, 'cycle': 1189, 'complacency': 979, 'servitude': 4367, 'sniveling': 4523, 'nevertrumpers': 3257, 'erect': 1649, 'foot': 1909, 'naked': 3206, 'stare': 4649, 'monument': 3145, 'several': 4377, 'energize': 1609, 'mobilize': 3127, 'grisly': 2128, 'scene': 4256, 'decapitated': 1244, 'doll': 1457, 'overrun': 3435, 'darpa': 1212, 'transfer': 5007, 'sophisticated': 4559, 'telescope': 4869, 'developed': 1355, 'command': 954, 'scarborough': 4252, 'emotional': 1591, 'weil': 5304, 'sich': 4442, 'pr': 3696, 'gelten': 2019, 'gef': 2017, 'ngnisdirektor': 3266, 'erteilt': 1653, 'ftlingen': 1979, 'lebenslanges': 2778, 'hausverbot': 2213, 'committee': 967, 'honey': 2302, 'fatally': 1793, 'gunned': 2154, 'bitter': 515, 'account': 27, 'blackliesmatter': 519, 'bastard': 426, 'handsupdontshoot': 2188, 'bpa': 599, 'malia': 2942, 'pounding': 3689, 'fist': 1865, 'lallapalooza': 2721, 'festival': 1824, 'arrives': 285, 'hawaii': 2215, 'wealthy': 5286, 'drunk': 1511, 'disrespect': 1428, 'carolina': 749, 'porn': 3668, 'site': 4478, 'blocked': 543, 'vladimir': 5228, 'united': 5121, 'warren': 5269, 'drag': 1485, 'sideways': 4448, 'brutal': 659, 'commencement': 957, 'serve': 4362, 'become': 443, 'facto': 1757, 'regime': 3980, 'turning': 5075, 'blessed': 534, 'congressional': 1027, 'hawk': 2216, 'intensify': 2500, 'recruitment': 3953, 'obamaphone': 3330, 'program': 3770, 'stashed': 4655, 'windfall': 5357, 'phone': 3571, 'creating': 1132, 'actual': 50, 'screen': 4291, 'hurting': 2357, 'growth': 2134, 'whole': 5332, 'alex': 141, 'episode': 1639, 'drank': 1490, 'gallon': 2000, 'younger': 5446, 'commie': 962, 'pictured': 3580, 'vietnam': 5205, 'attorney': 332, 'janet': 2572, 'reno': 4021, 'opeds': 3382, 'zuesse': 5460, 'link': 2844, 'zwo': 5463, 'drei': 1496, 'threatens': 4921, 'bench': 466, 'inappropriate': 2424, 'behavior': 455, 'facility': 1753, 'impeached': 2408, 'enter': 1625, 'reviewing': 4102, 'giant': 2041, 'tantrum': 4841, 'decries': 1257, 'letting': 2805, 'extortion': 1741, 'nuke': 3314, 'retreat': 4089, 'embarrassing': 1581, 'hacked': 2163, 'choking': 847, 'coughing': 1099, 'alma': 163, 'mater': 2998, 'cleverer': 894, 'schachzug': 4257, 'spd': 4581, 'schickt': 4260, 'ebenfalls': 1534, 'angela': 205, 'merkel': 3050, 'kandidatin': 2638, 'in': 2423, 'rennen': 4020, 'reckless': 3943, 'population': 3666, 'exceed': 1701, 'birmingham': 507, 'highest': 2257, 'minimum': 3094, 'wage': 5244, 'south': 4568, 'unlike': 5127, 'horse': 2317, 'humor': 2348, 'crazed': 1126, 'lefty': 2788, 'protesting': 3797, 'disagrees': 1387, 'phew': 3568, 'easier': 1528, 'convulsing': 1070, 'falling': 1769, 'lift': 2827, 'van': 5179, 'inquiry': 2477, 'launched': 2749, 'smashed': 4511, 'pint': 3591, 'pub': 3812, 'sarcastic': 4232, 'safer': 4210, 'strike': 4710, 'grounded': 2130, 'fix': 1868, 'postmodernism': 3683, 'diego': 1368, 'zoo': 5459, 'taped': 4845, 'planet': 3608, 'podcast': 3633, 'serenity': 4354, 'stoicism': 4682, 'inflatable': 2457, 'chicken': 838, 'spirit': 4602, 'peeping': 3526, 'might': 3074, 'penis': 3534, 'jailed': 2568, 'egypt': 1552, 'secured': 4316, 'kim': 2673, 'davis': 1220, 'publicity': 3814, 'disparity': 1421, 'bribe': 627, 'prop': 3781, 'iceland': 2367, 'proudly': 3799, 'eradicated': 1645, 'syndrome': 4820, 'gruesome': 2136, 'stir': 4679, 'pot': 3684, 'rigging': 4123, 'yorkers': 5444, 'opinion': 3389, 'wire': 5364, 'drill': 1499, 'dyer': 1524, 'harry': 2202, 'reid': 3991, 'sound': 4565, 'pleading': 3618, 'seriously': 4359, 'physically': 3576, 'contraception': 1059, 'latin': 2740, 'condom': 1003, 'drama': 1487, 'tear': 4861, 'happening': 2192, 'philadelphia': 3569, 'delete': 1283, 'dropped': 1507, 'wwn': 5426, 'allen': 152, 'allowed': 158, 'reminds': 4015, 'herpes': 2246, 'gabby': 1995, 'giffords': 2044, 'excuse': 1708, 'controlled': 1062, 'arrived': 284, 'greece': 2123, 'glow': 2069, 'dark': 1211, 'withholding': 5374, 'butt': 689, 'rioting': 4130, 'crybaby': 1166, 'assistance': 312, 'viral': 5220, 'powerful': 3695, 'reconquista': 3946, 'arab': 260, 'brotherhood': 655, 'kiss': 2680, 'cam': 714, 'featured': 1805, 'nhl': 3268, 'waste': 5275, 'deceptive': 1247, 'clinic': 896, 'horror': 2316, 'gatecrash': 2013, 'cynical': 1190, 'ploy': 3624, 'crisitunity': 1143, 'india': 2444, 'crunch': 1160, 'defy': 1274, 'kneel': 2686, 'solidarity': 4542, 'celebrates': 777, 'unity': 5122, 'liberation': 2816, 'polish': 3647, 'papist': 3468, 'army': 278, 'hill': 2267, 'highly': 2259, 'partisan': 3488, 'bye': 695, 'leaving': 2776, 'property': 3784, 'selling': 4332, 'hotcake': 2325, 'tendency': 4879, 'color': 942, 'binary': 504, 'blonde': 546, 'triggly': 5034, 'convulsion': 1071, 'tomgram': 4958, 'nomi': 3286, 'prins': 3739, 'style': 4735, 'retaliate': 4084, 'cutting': 1187, 'cell': 780, 'cowardly': 1119, 'listening': 2849, 'bride': 630, 'liberalism': 2814, 'silly': 4460, 'leonardo': 2797, 'dicaprio': 1362, 'outed': 3420, 'unimaginable': 5116, 'violated': 5214, 'iv': 2558, 'belize': 463, 'returned': 4092, 'agriculture': 110, 'infuriate': 2466, 'pelt': 3528, 'egg': 1549, 'reprimanded': 4041, 'comparing': 976, 'female': 1819, 'dehumanizing': 1277, 'devastating': 1354, 'wiki': 5344, 'scope': 4281, 'boil': 561, 'equal': 1640, 'bridge': 631, 'heckler': 2235, 'bold': 563, 'chanting': 812, 'cpac': 1121, 'attendee': 328, 'wave': 5282, 'stunner': 4728, 'haitian': 2172, 'unbelievable': 5104, 'burned': 682, 'spray': 4617, 'painted': 3451, 'reich': 3990, 'nearly': 3234, 'melt': 3034, 'needed': 3238, 'sober': 4529, 'afternoon': 95, 'introduces': 2516, 'decorated': 1255, 'sending': 4340, 'fellow': 1816, 'leaker': 2769, 'lindsey': 2840, 'focus': 1900, 'energy': 1610, 'always': 172, 'wwiii': 5425, 'grand': 2113, 'greatest': 2121, 'hometown': 2298, 'resident': 4052, 'surrounded': 4789, 'louis': 2890, 'window': 5358, 'burka': 679, 'flooding': 1891, 'mostly': 3156, 'sunlight': 4764, 'per': 3542, 'depression': 1318, 'proving': 3804, 'witch': 5369, 'hunt': 2352, 'remind': 4013, 'upside': 5157, 'miley': 3078, 'cyrus': 1191, 'score': 4283, 'feature': 1804, 'yikes': 5441, 'trace': 4989, 'hypocrisy': 2360, 'federalist': 1809, 'quasi': 3849, 'quietly': 3863, 'backing': 372, 'peace': 3518, 'yemen': 5438, 'advice': 75, 'insulting': 2491, 'forever': 1922, 'dupont': 1520, 'freeze': 1964, 'payment': 3516, 'pension': 3538, 'famille': 1773, 'erdo': 1647, 'et': 1662, 'suite': 4758, 'thanksgiving': 4899, 'ii': 2385, 'memo': 3039, 'single': 4473, 'delegate': 1281, 'nightmare': 3278, 'land': 2723, 'position': 3675, 'keiser': 2647, 'gaddafi': 1996, 'opec': 3381, 'cartel': 755, 'whiff': 5321, 'marathon': 2968, 'golfing': 2087, 'despite': 1338, 'ordering': 3404, 'pool': 3657, 'horizon': 2312, 'confirming': 1016, 'complicit': 986, 'stevens': 4674, 'cs': 1167, 'printed': 3740, 'barge': 409, 'haired': 2171, 'thought': 4914, 'ouch': 3414, 'given': 2053, 'disclaimer': 1393, 'sharia': 4399, 'patrolling': 3506, 'gove': 2102, 'partying': 3491, 'relationship': 3999, 'biden': 492, 'commitment': 965, 'champion': 805, 'overpriced': 3434, 'chachkies': 797, 'cahoot': 701, 'confronts': 1019, 'board': 557, 'finding': 1850, 'taught': 4854, 'islam': 2545, 'chase': 824, 'tackle': 4826, 'vogue': 5230, 'teach': 4858, 'anal': 195, 'beginner': 451, 'nordstrom': 3293, 'discontinues': 1397, 'trashy': 5016, 'bashing': 422, 'obsessed': 3336, 'consequence': 1036, 'sanctuary': 4224, 'resource': 4063, 'shall': 4389, 'assist': 311, 'enforcement': 1614, 'liberty': 2818, 'registered': 3985, 'applauds': 250, 'infuriates': 2467, 'eviscerates': 1693, 'gasp': 2011, 'sounded': 4566, 'lot': 2886, 'skype': 4490, 'fortune': 1931, 'built': 669, 'protects': 3794, 'endorse': 1603, 'priceless': 3730, 'heritage': 2243, 'generation': 2022, 'brit': 640, 'dearly': 1236, 'naive': 3205, 'arm': 273, 'policy': 3646, 'football': 1911, 'build': 666, 'purifier': 3832, 'salt': 4220, 'fresh': 1968, 'bravo': 610, 'bailout': 385, 'puerto': 3818, 'rico': 4116, 'madman': 2919, 'closed': 901, 'funhouse': 1990, 'manufacturing': 2963, 'consent': 1035, 'suffering': 4754, 'rockefeller': 4150, 'kissinger': 2681, 'industrial': 2454, 'scheme': 4259, 'possibly': 3678, 'violates': 5215, 'raider': 3883, 'dereck': 1326, 'carr': 750, 'injured': 2471, 'payback': 3513, 'supporting': 4775, 'gingrich': 2047, 'enforce': 1613, 'skyrocket': 4491, 'prepare': 3715, 'considering': 1039, 'incredibly': 2439, 'ironic': 2541, 'vatican': 5181, 'ambassadorship': 176, 'historic': 2275, 'google': 2093, 'domination': 1460, 'tech': 4864, 'crash': 1125, 'recycled': 3957, 'diverse': 1439, 'londoner': 2868, 'demanding': 1292, 'autonomy': 346, 'reuters': 4094, 'agency': 98, 'dragged': 1486, 'courtroom': 1113, 'arrest': 281, 'globalists': 2063, 'lebron': 2779, 'spoken': 4606, 'proceeds': 3758, 'vocabulary': 5229, 'pollution': 3655, 'tony': 4964, 'blair': 523, 'second': 4312, 'referendum': 3965, 'reverse': 4099, 'commuted': 973, 'manning': 2959, 'sentence': 4347, 'brian': 626, 'stelter': 4668, 'manages': 2950, 'socialism': 4532, 'stepping': 4671, 'stone': 4686, 'goper': 2096, 'resurrected': 4080, 'brake': 606, 'iphone': 2532, 'android': 204, 'int': 2497, 'tradition': 4995, 'worldwide': 5395, 'hatred': 2211, 'dent': 1305, 'notre': 3304, 'batal': 427, 'coul': 1100, 'par': 3469, 'homme': 2299, 'qui': 3856, 'fait': 1764, 'blagues': 522, 'douteuses': 1477, 'pendant': 3531, 'naufrage': 3223, 'zing': 5457, 'defeating': 1265, 'snowden': 4526, 'hire': 2270, 'breach': 613, 'bullied': 672, 'dorm': 1469, 'speechless': 4589, 'spox': 4615, 'amendment': 182, 'meeting': 3027, 'strain': 4694, 'hears': 2228, 'tenant': 4877, 'arabic': 262, 'rage': 3880, 'gary': 2008, 'embrace': 1584, 'colonization': 940, 'roast': 4144, 'ignorant': 2380, 'directly': 1383, 'tied': 4933, 'hold': 2285, 'wrenching': 5411, 'flavor': 1879, 'favorite': 1799, 'rick': 4115, 'perry': 3552, 'extremely': 1742, 'franken': 1952, 'resettlement': 4050, 'pointless': 3637, 'ambulance': 178, 'draw': 1491, 'restaurant': 4070, 'jeanine': 2581, 'towergate': 4984, 'wildlife': 5349, 'fall': 1768, 'unsc': 5140, 'zealand': 5453, 'draft': 1484, 'blamed': 525, 'holocaust': 2291, 'lord': 2878, 'france': 1949, 'reject': 3997, 'elizabeth': 1572, 'pocahontas': 3631, 'pet': 3562, 'cambodia': 715, 'thorny': 4912, 'aftermath': 94, 'twin': 5084, 'quake': 3845, 'italy': 2556, 'drone': 1505, 'footage': 1910, 'gardasil': 2006, 'vaccine': 5174, 'buried': 677, 'mentioned': 3045, 'suicide': 4756, 'stabbing': 4633, 'everywhere': 1690, 'organic': 3406, 'beauty': 440, 'product': 3763, 'containing': 1052, 'chemical': 833, 'dick': 1363, 'durbin': 1521, 'confirm': 1014, 'circuit': 866, 'gorsuch': 2099, 'caring': 745, 'dedicated': 1258, 'successfully': 4748, 'whitewash': 5329, 'andrew': 203, 'replaced': 4030, 'harriet': 2200, 'mistrial': 3113, 'prosecutor': 3789, 'willfully': 5351, 'withheld': 5372, 'sniper': 4522, 'standoff': 4646, 'entered': 1626, 'menagh': 3042, 'alchemy': 135, 'israeli': 2552, 'trumpess': 5051, 'bash': 420, 'obamaites': 3329, 'shuts': 4441, 'pooper': 3658, 'responds': 4066, 'outcry': 3419, 'crude': 1157, 'swipe': 4811, 'weekend': 5298, 'flying': 1898, 'banner': 403, 'investigate': 2521, 'islamist': 2547, 'among': 189, 'espn': 1657, 'employed': 1592, 'berating': 471, 'attendant': 327, 'curt': 1181, 'schilling': 4262, 'dodger': 1454, 'baseball': 418, 'mid': 3070, 'corporation': 1090, 'bilderberger': 499, 'nullify': 3315, 'straight': 4693, 'parenting': 3478, 'fault': 1796, 'melting': 3036, 'glacier': 2055, 'bolivian': 564, 'andes': 201, 'laughed': 2745, 'sh': 4384, 'planned': 3609, 'parenthood': 3477, 'term': 4881, 'incapable': 2427, 'answering': 225, 'surge': 4782, 'blue': 553, 'investigates': 2523, 'abusing': 18, 'straw': 4703, 'treat': 5023, 'treated': 5024, 'ellen': 1573, 'degeneres': 1276, 'medal': 3019, 'freezing': 1965, 'reagan': 3922, 'rest': 4069, 'crosstalk': 1153, 'sorry': 4561, 'qualified': 3846, 'microsoft': 3069, 'introduce': 2515, 'button': 691, 'en': 1596, 'masse': 2991, 'status': 4661, 'responsible': 4068, 'hijacking': 2262, 'utah': 5172, 'opposition': 3396, 'dictatorship': 1366, 'shadow': 4385, 'silent': 4458, 'buries': 678, 'temper': 4873, 'british': 642, 'mp': 3171, 'nigel': 3273, 'evans': 1679, 'parliament': 3482, 'roundly': 4171, 'condemned': 1000, 'politician': 3650, 'uranium': 5159, 'shipment': 4414, 'develops': 1357, 'range': 3896, 'missile': 3106, 'joseph': 2611, 'watson': 5280, 'censoring': 786, 'zapatistas': 5451, 'solidarizam': 4543, 'se': 4300, 'com': 945, 'resist': 4056, 'ncia': 3230, 'yaqui': 5432, 'tutor': 5078, 'euklidean': 1668, 'geometry': 2029, 'pundit': 3826, 'greek': 2124, 'spending': 4592, 'coercing': 920, 'virginia': 5221, 'qualify': 3847, 'subsidized': 4739, 'palo': 3461, 'alto': 171, 'idiotic': 2375, 'inflation': 2458, 'floor': 1892, 'sexism': 4380, 'shifted': 4411, 'significantly': 4456, 'favor': 1798, 'performing': 3549, 'pax': 3511, 'americana': 185, 'exclusive': 1706, 'eduard': 1543, 'popov': 3663, 'failed': 1760, 'remembered': 4012, 'mocking': 3129, 'eulogy': 1669, 'walking': 5252, 'ft': 1978, 'pierce': 3584, 'king': 2675, 'stumble': 4725, 'rd': 3913, 'grader': 2109, 'pronounce': 3779, 'disturbance': 1434, 'offend': 3347, 'remark': 4010, 'indian': 2445, 'kit': 2682, 'channel': 810, 'responded': 4065, 'withdrawing': 5371, 'strangely': 4697, 'gulag': 2148, 'schooling': 4270, 'bedtime': 445, 'ritual': 4137, 'disgust': 1408, 'requirement': 4047, 'ransom': 3898, 'peacenik': 3521, 'swoop': 4815, 'loneliest': 2870, 'abandoned': 2, 'traditional': 4996, 'structure': 4715, 'banking': 401, 'broken': 648, 'insolvent': 2484, 'workplace': 5393, 'microaggression': 3068, 'alluha': 161, 'akbar': 128, 'accidentally': 24, 'blowing': 552, 'inner': 2474, 'pain': 3449, 'gain': 1998, 'lockheed': 2863, 'struggle': 4716, 'finalize': 1845, 'norwegian': 3298, 'deport': 1315, 'swamped': 4799, 'ten': 4876, 'invader': 2518, 'fade': 1758, 'eisenhower': 1558, 'restoring': 4073, 'balance': 388, 'acting': 43, 'fragile': 1944, 'snowflake': 4527, 'ruining': 4184, 'meddling': 3020, 'petrodollar': 3566, 'pouring': 3691, 'leaning': 2770, 'stuffing': 4724, 'absentee': 14, 'ballot': 391, 'literature': 2854, 'el': 1559, 'nuevo': 3313, 'consejo': 1034, 'ministros': 3096, 'rosenstein': 4167, 'karma': 2640, 'considers': 1040, 'sailing': 4214, 'mediterranean': 3024, 'moved': 3166, 'oust': 3416, 'willst': 5354, 'du': 1512, 'mich': 3064, 'heiraten': 2236, 'hat': 2206, 'kampf': 2637, 'ums': 5100, 'wei': 5299, 'haus': 2212, 'noch': 3284, 'nicht': 3271, 'aufgegeben': 337, 'trigger': 5033, 'titanic': 4946, 'celebs': 779, 'lister': 2850, 'plutonium': 3628, 'patrol': 3505, 'denied': 1301, 'mandatory': 2953, 'offender': 3349, 'conflict': 1018, 'faith': 1765, 'visit': 5224, 'cooler': 1075, 'refusal': 3972, 'acknowledge': 35, 'uniqueness': 5119, 'constitutes': 1045, 'genocide': 2026, 'ammon': 187, 'tackled': 4827, 'tasered': 4852, 'marshal': 2982, 'surreal': 4786, 'whether': 5320, 'legalize': 2790, 'marijuana': 2973, 'continue': 1057, 'truthbomb': 5056, 'pissed': 3596, 'collapse': 928, 'ultimate': 5098, 'bagged': 378, 'pitfall': 3599, 'partial': 3486, 'disclosure': 1396, 'string': 4711, 'necessary': 3236, 'purple': 3833, 'http': 2332, 'fedup': 1811, 'wpengine': 5406, 'wp': 5405, 'content': 1054, 'uploads': 5152, 'entitled': 1632, 'jpg': 2617, 'buy': 692, 'orlando': 3408, 'godfather': 2078, 'williams': 5352, 'airstrikes': 127, 'kansa': 2639, 'impeach': 2407, 'disagree': 1386, 'thumb': 4928, 'hopelessly': 2311, 'confusing': 1021, 'payer': 3514, 'healthy': 2225, 'smile': 4513, 'coconut': 917, 'hateful': 2210, 'drawing': 1492, 'effort': 1548, 'berned': 476, 'maine': 2931, 'horrible': 2314, 'outright': 3428, 'enemy': 1608, 'insanely': 2479, 'somebody': 4550, 'bannon': 404, 'slur': 4505, 'wh': 5318, 'toxic': 4986, 'quickly': 3860, 'jesuit': 2591, 'gala': 1999, 'seek': 4320, 'info': 2462, 'berates': 470, 'evasive': 1680, 'difficult': 1372, 'turnover': 5077, 'controversial': 1063, 'famine': 1775, 'potato': 3685, 'affecting': 85, 'clerk': 893, 'hired': 2271, 'illiterate': 2391, 'semen': 4333, 'breastmilk': 619, 'whistleblower': 5327, 'chilling': 842, 'percentfedup': 3544, 'patriotism': 3504, 'tribute': 5029, 'birthers': 510, 'candace': 729, 'cameron': 719, 'bure': 676, 'dish': 1410, 'main': 2930, 'driving': 1504, 'jacket': 2562, 'rwanda': 4200, 'crushed': 1162, 'lung': 2904, 'advise': 76, 'peddling': 3522, 'tty': 5061, 'morale': 3149, 'lunacy': 2901, 'justified': 2631, 'unarmed': 5102, 'swastika': 4801, 'malcolm': 2940, 'chump': 858, 'traitor': 5003, 'pirro': 3594, 'handling': 2187, 'whale': 5319, 'floating': 1888, 'near': 3233, 'daly': 1200, 'reince': 3995, 'priebus': 3733, 'freak': 1955, 'decrease': 1256, 'playboy': 3614, 'centerfold': 790, 'increasing': 2438, 'deportation': 1316, 'bolton': 565, 'divide': 1442, 'canoe': 733, 'reek': 3964, 'panther': 3466, 'examine': 1700, 'pimp': 3589, 'prostitute': 3791, 'biggie': 495, 'designer': 1332, 'forscher': 1929, 'entdecken': 1624, 'abgelegenen': 7, 'regenwaldstamm': 3979, 'der': 1322, 'immer': 2400, 'verwendet': 5192, 'reasonable': 3928, 'confidence': 1010, 'reveal': 4095, 'happy': 2194, 'grabbing': 2108, 'protection': 3793, 'unsafe': 5138, 'punishes': 3828, 'loan': 2859, 'music': 3194, 'looked': 2874, 'amazon': 174, 'julian': 2622, 'assange': 302, 'viewer': 5207, 'jackpot': 2563, 'many': 2964, 'lottery': 2887, 'hey': 2248, 'schumer': 4273, 'tighten': 4936, 'average': 350, 'astroturfing': 316, 'brainwashing': 605, 'manipulate': 2957, 'tucker': 5065, 'carlson': 747, 'ayaan': 365, 'hirsi': 2272, 'discus': 1404, 'danger': 1204, 'ricains': 4112, 'ne': 3232, 'sont': 4557, 'qu': 3844, 'quelques': 3853, 'heures': 2247, 'tre': 5020, 'enfin': 1612, 'tranquilles': 5004, 'pour': 3690, 'quatre': 3850, 'an': 194, 'underhanded': 5110, 'cuba': 1169, 'ra': 3869, 'castro': 760, 'appearing': 248, 'unnamed': 5133, 'sinking': 4476, 'secessionist': 4311, 'dream': 1494, 'revisited': 4105, 'sweeping': 4807, 'invite': 2529, 'netanyahu': 3248, 'menon': 3043, 'assassinating': 304, 'interest': 2503, 'saga': 4211, 'adequate': 59, 'evacuation': 1675, 'churkin': 861, 'launch': 2748, 'opnodapl': 3390, 'seahawks': 4302, 'spill': 4598, 'river': 4140, 'epa': 1637, 'secure': 4315, 'superfund': 4767, 'cringe': 1141, 'watching': 5278, 'sexually': 4382, 'humiliate': 2344, 'revenge': 4098, 'bahraini': 383, 'downing': 1480, 'squashed': 4627, 'finland': 1855, 'australia': 340, 'ustr': 5170, 'trade': 4992, 'convenes': 1064, 'gaza': 2016, 'reconcile': 3945, 'hamas': 2180, 'denying': 1307, 'resolve': 4059, 'slovenia': 4503, 'tourism': 4978, 'enmeshed': 1618, 'coalition': 913, 'agreed': 106, 'eurozone': 1672, 'budget': 663, 'penguin': 3533, 'stanley': 4647, 'cup': 1177, 'reform': 3969, 'blueprint': 554, 'ninth': 3281, 'australian': 341, 'quits': 3866, 'widens': 5339, 'afghan': 88, 'reunite': 4093, 'tension': 4880, 'simmer': 4463, 'irma': 2540, 'havana': 2214, 'deadly': 1230, 'crumbling': 1159, 'taiwan': 4830, 'tsai': 5060, 'shift': 4410, 'flare': 1875, 'embassy': 1582, 'lebanon': 2777, 'crossing': 1152, 'hurdle': 2353, 'faced': 1750, 'yearn': 5436, 'ipsos': 2533, 'pakistan': 3453, 'crackdown': 1123, 'cuny': 1175, 'hosting': 2323, 'bd': 434, 'linda': 2839, 'sarsour': 4233, 'watchdog': 5277, 'shepherded': 4406, 'panama': 3462, 'constrained': 1048, 'deems': 1260, 'skeptical': 4482, 'predatory': 3704, 'lending': 2794, 'illinois': 2390, 'speaker': 4583, 'proceed': 3757, 'sumner': 4760, 'redstone': 3961, 'replace': 4029, 'ousted': 3417, 'trust': 5053, 'sanction': 4223, 'drudge': 1509, 'mammoth': 2946, 'bust': 687, 'transportation': 5012, 'tunnel': 5069, 'withhold': 5373, 'related': 3998, 'rhetoric': 4109, 'aside': 292, 'listened': 2848, 'venezuela': 5184, 'reiterates': 3996, 'resolving': 4061, 'xinhua': 5428, 'agrees': 109, 'cowboy': 1120, 'saakashvili': 4202, 'catalan': 761, 'increased': 2437, 'abe': 4, 'spanish': 4578, 'custody': 1183, 'pending': 3532, 'webb': 5291, 'mull': 3179, 'deepstategate': 1263, 'innuendo': 2476, 'dealing': 1233, 'tune': 5068, 'opening': 3384, 'custom': 1184, 'minister': 3095, 'austrian': 343, 'interior': 2507, 'ministry': 3097, 'westchester': 5315, 'shutdown': 4440, 'boast': 558, 'greatness': 2122, 'lesson': 2800, 'learned': 2772, 'danish': 1207, 'identify': 2370, 'torso': 4971, 'please': 3620, 'leadership': 2763, 'commission': 964, 'instant': 2485, 'replay': 4032, 'corner': 1088, 'elaine': 1560, 'chao': 813, 'collect': 930, 'fargo': 1783, 'panel': 3463, 'january': 2573, 'spokeswoman': 4609, 'dozen': 1482, 'barrio': 414, 'gangster': 2004, 'escape': 1655, 'ruling': 4186, 'twisted': 5085, 'factbox': 1756, 'seven': 4376, 'contention': 1055, 'central': 791, 'seeking': 4322, 'shelter': 4405, 'fiscal': 1863, 'buddhist': 662, 'mistrust': 3114, 'hamper': 2183, 'relief': 4003, 'myanmar': 3199, 'rohingya': 4156, 'biafra': 489, 'separatist': 4350, 'nigerian': 3275, 'opponent': 3391, 'damaged': 1201, 'baloch': 392, 'militant': 3079, 'surrender': 4787, 'step': 4669, 'shaping': 4396, 'canada': 725, 'trudeau': 5046, 'shuffle': 4438, 'aboriginal': 9, 'woe': 5380, 'final': 1844, 'friday': 1969, 'reviewed': 4101, 'freeport': 1963, 'indonesia': 2453, 'mine': 3093, 'fragment': 1945, 'florence': 1894, 'basilica': 423, 'blazing': 532, 'hockey': 2282, 'larger': 2732, 'tougher': 4976, 'specific': 4587, 'expands': 1719, 'disappointed': 1388, 'wsj': 5422, 'multiplied': 3183, 'june': 2625, 'detention': 1347, 'coincide': 922, 'dip': 1377, 'constant': 1043, 'rarely': 3907, 'abroad': 11, 'script': 4296, 'process': 3759, 'uproar': 5155, 'disparaging': 1420, 'trademark': 4993, 'berlusconi': 474, 'probed': 3753, 'mafia': 2923, 'meal': 3015, 'brooklyn': 652, 'fast': 1789, 'pleads': 3619, 'guilty': 2147, 'theft': 4901, 'resurfaces': 4079, 'aim': 117, 'disrupt': 1430, 'organizer': 3407, 'engaged': 1615, 'strict': 4709, 'upbringing': 5147, 'repressed': 4040, 'obsolete': 3338, 'bob': 559, 'iger': 2378, 'advisory': 81, 'agreement': 108, 'argentine': 269, 'cook': 1073, 'macau': 2909, 'suspends': 4797, 'extend': 1739, 'doping': 1468, 'test': 4889, 'lower': 2894, 'tier': 4934, 'silver': 4461, 'lining': 2843, 'cheese': 831, 'producer': 3762, 'defensive': 1270, 'amber': 177, 'heard': 2226, 'humanitarian': 2342, 'worsen': 5399, 'saleh': 4218, 'poet': 3635, 'dock': 1449, 'lone': 2869, 'assailant': 300, 'online': 3379, 'expected': 1721, 'cap': 734, 'bossie': 583, 'snapchat': 4519, 'discover': 1398, 'explicit': 1731, 'maduro': 2922, 'hague': 2167, 'lincoln': 2838, 'abrupt': 12, 'departure': 1310, 'prompted': 3778, 'gen': 2020, 'petraeus': 3565, 'stability': 4634, 'backed': 369, 'uprising': 5154, 'jerusalem': 2589, 'complain': 980, 'slow': 4504, 'mein': 3030, 'bestseller': 479, 'publisher': 3816, 'spar': 4579, 'kurdish': 2706, 'rudaw': 4180, 'wake': 5249, 'solitary': 4544, 'uphill': 5150, 'bishop': 511, 'suspected': 4795, 'congratulation': 1025, 'option': 3400, 'accusing': 34, 'flight': 1884, 'pregnancy': 3709, 'semitism': 4335, 'legislator': 2792, 'caucus': 764, 'intrigued': 2514, 'swiss': 4812, 'clarify': 880, 'port': 3669, 'conducting': 1006, 'niger': 3274, 'mali': 2941, 'afghanistan': 89, 'avert': 351, 'travis': 5019, 'kalanick': 2635, 'uber': 5090, 'volkswagen': 5233, 'cfo': 795, 'hr': 2331, 'raided': 3882, 'upholds': 5151, 'quickie': 3859, 'wilbur': 5346, 'ross': 4169, 'commerce': 960, 'offshored': 3358, 'divided': 1443, 'colombia': 937, 'farc': 1782, 'rebel': 3931, 'include': 2430, 'boot': 575, 'kitchen': 2683, 'supply': 4772, 'asset': 309, 'poised': 3638, 'grueling': 2135, 'antidoping': 230, 'barred': 412, 'rio': 4127, 'olympics': 3374, 'determined': 1348, 'maintain': 2933, 'accession': 23, 'multi': 3180, 'macron': 2912, 'unique': 5118, 'stranded': 4695, 'cuban': 1170, 'traveler': 5018, 'box': 592, 'strange': 4696, 'lucky': 2898, 'marvel': 2984, 'amy': 193, 'netflix': 3249, 'flooded': 1890, 'kris': 2703, 'kobach': 2692, 'calculator': 707, 'affect': 84, 'ann': 212, 'coulter': 1102, 'miller': 3087, 'patriotic': 3503, 'genius': 2024, 'figure': 1835, 'austria': 342, 'mailer': 2929, 'li': 2810, 'indigenous': 2452, 'undergoes': 5108, 'census': 788, 'goodlatte': 2092, 'peacefully': 3520, 'libyan': 2822, 'airliner': 124, 'malta': 2944, 'limiting': 2837, 'blacklist': 520, 'hubbard': 2333, 'felony': 1818, 'ethic': 1664, 'cordon': 1084, 'japan': 2574, 'toyota': 4987, 'broadside': 645, 'mexican': 3061, 'aimed': 118, 'ensuring': 1623, 'editorialist': 1541, 'abadi': 0, 'area': 267, 'gas': 2009, 'formula': 1928, 'treasury': 5022, 'april': 259, 'lifted': 2828, 'cbo': 771, 'repealed': 4027, 'uganda': 5093, 'role': 4157, 'jacqueline': 2565, 'kennedy': 2651, 'marry': 2981, 'dismissing': 1416, 'gennifer': 2025, 'flower': 1896, 'attend': 326, 'hunger': 2351, 'bloody': 548, 'plead': 3617, 'profile': 3768, 'jong': 2608, 'nam': 3207, 'indiana': 2446, 'painting': 3452, 'graffiti': 2110, 'rice': 4113, 'memorial': 3040, 'amending': 181, 'constitution': 1046, 'miracle': 3100, 'metaxas': 3057, 'universe': 5123, 'bettor': 483, 'odds': 3345, 'coal': 912, 'rehearses': 3989, 'spin': 4599, 'makeover': 2937, 'diplomacy': 1378, 'impact': 2404, 'rocket': 4152, 'calendar': 708, 'dependent': 1311, 'korean': 2699, 'caitlyn': 704, 'jenner': 2585, 'repealing': 4028, 'rare': 3906, 'insurgent': 2495, 'southern': 4570, 'thailand': 4896, 'recusal': 3954, 'request': 4045, 'cementing': 783, 'cigar': 864, 'rum': 4187, 'dahlan': 1196, 'tackling': 4828, 'los': 2880, 'angeles': 206, 'smog': 4515, 'tuesday': 5066, 'ifx': 2377, 'cite': 867, 'kremlin': 2702, 'ireland': 2538, 'deputy': 1321, 'quit': 3864, 'guantanamo': 2137, 'oversight': 3437, 'disclose': 1394, 'estimate': 1661, 'equifax': 1642, 'consumer': 1050, 'mulvaney': 3184, 'cfpb': 796, 'disregard': 1427, 'polarized': 3644, 'jack': 2561, 'oscar': 3411, 'dialogue': 1360, 'northern': 3297, 'respect': 4064, 'concern': 994, 'mobility': 3126, 'poor': 3659, 'expulsion': 1738, 'diplomat': 1379, 'schulz': 4272, 'lifting': 2829, 'teaser': 4863, 'series': 4357, 'convince': 1069, 'provocation': 3806, 'monday': 3138, 'parliamentary': 3483, 'sued': 4753, 'newspaper': 3262, 'libel': 2812, 'decade': 1243, 'deny': 1306, 'cambodian': 716, 'plum': 3625, 'ideological': 2372, 'ifax': 2376, 'holiday': 2288, 'macy': 2913, 'retail': 4082, 'colombian': 938, 'symbolic': 4817, 'shanghai': 4393, 'haley': 2173, 'desperation': 1336, 'conducted': 1005, 'corbyn': 1083, 'invitation': 2528, 'ruckus': 4179, 'curb': 1178, 'calm': 713, 'zimbabwe': 5456, 'vice': 5198, 'mugabe': 3177, 'successor': 4749, 'poisoned': 3639, 'mnuchin': 3122, 'proposed': 3785, 'negotiable': 3239, 'awake': 357, 'newly': 3259, 'avoids': 355, 'borrowed': 581, 'expanded': 1718, 'canal': 727, 'successful': 4747, 'passage': 3494, 'alarmed': 131, 'ease': 1527, 'zuma': 5461, 'africa': 92, 'higher': 2256, 'fiscally': 1864, 'sustainable': 4798, 'manner': 2958, 'limbo': 2835, 'oxford': 3440, 'academic': 20, 'deadlock': 1229, 'bang': 397, 'demonstrate': 1297, 'edward': 1546, 'enninful': 1619, 'named': 3209, 'editor': 1540, 'irish': 2539, 'queue': 3855, 'revised': 4103, 'curtail': 1182, 'wreck': 5409, 'allied': 155, 'sink': 4475, 'softwood': 4538, 'lumber': 2900, 'resolved': 4060, 'spain': 4577, 'catalonia': 762, 'bark': 410, 'tariff': 4851, 'understanding': 5112, 'split': 4604, 'framed': 1946, 'framework': 1947, 'september': 4352, 'warm': 5260, 'countering': 1105, 'tout': 4980, 'cooperation': 1078, 'pacific': 3444, 'shrine': 4436, 'ethnic': 1666, 'cleansing': 888, 'monitor': 3142, 'jordan': 2609, 'schoolgirl': 4269, 'rampage': 3891, 'weighing': 5301, 'revision': 4104, 'populate': 3665, 'wimp': 5355, 'apply': 252, 'disclosing': 1395, 'flaw': 1880, 'regent': 3978, 'campaigning': 723, 'thursday': 4930, 'fearing': 1803, 'bulgarian': 671, 'detects': 1346, 'finnish': 1856, 'dismisses': 1415, 'eligibility': 1569, 'complaint': 981, 'centre': 792, 'falter': 1772, 'sit': 4477, 'poland': 3642, 'frequently': 1967, 'leftward': 2787, 'sprint': 4621, 'resistance': 4057, 'deficit': 1272, 'impacting': 2405, 'burkina': 680, 'faso': 1788, 'recall': 3934, 'libya': 2821, 'valeant': 5176, 'contractor': 1060, 'accountable': 28, 'torture': 4972, 'kazakhstan': 2643, 'kyrgyzstan': 2711, 'redskin': 3960, 'march': 2971, 'growing': 2133, 'dread': 1493, 'vitaly': 5226, 'dy': 1523, 'torrential': 4970, 'rain': 3884, 'bulgaria': 670, 'kurt': 2707, 'andersen': 199, 'alec': 138, 'baldwin': 389, 'satire': 4236, 'cottage': 1097, 'industry': 2455, 'dims': 1374, 'spotlight': 4614, 'delaware': 1278, 'worked': 5390, 'associate': 314, 'reassurance': 3929, 'tour': 4977, 'lethem': 2803, 'oddball': 3344, 'trove': 5044, 'souvenir': 4573, 'junk': 2627, 'populist': 3667, 'impeachment': 2410, 'whip': 5325, 'brazil': 612, 'lula': 2899, 'extends': 1740, 'graft': 2111, 'conviction': 1068, 'nice': 3270, 'id': 2368, 'charging': 818, 'merit': 3049, 'superdelegates': 4766, 'simultaneous': 4468, 'overhaul': 3433, 'medicare': 3022, 'thinking': 4909, 'matchup': 2996, 'broad': 643, 'retirement': 4088, 'graphic': 2117, 'arabia': 261, 'warner': 5265, 'foolish': 1908, 'zeleny': 5454, 'disputed': 1426, 'region': 3982, 'expecting': 1722, 'weaken': 5284, 'aggressive': 101, 'combat': 946, 'manhunt': 2955, 'cabin': 697, 'upstate': 5158, 'prisoner': 3744, 'hideout': 2253, 'addressing': 57, 'practice': 3697, 'iud': 2557, 'scold': 4279, 'shield': 4408, 'weedkiller': 5296, 'seizes': 4326, 'absence': 13, 'ghana': 2040, 'ivory': 2560, 'implement': 2412, 'maritime': 2976, 'dispute': 1425, 'ria': 4110, 'journey': 2614, 'confinement': 1013, 'resonates': 4062, 'halted': 2177, 'booze': 578, 'polarize': 3643, 'avoided': 354, 'setback': 4370, 'productive': 3765, 'mailbag': 2928, 'faulty': 1797, 'headline': 2222, 'insensitive': 2480, 'maximum': 3005, 'strangest': 4699, 'shown': 4433, 'sundance': 4761, 'commando': 956, 'hijack': 2261, 'simulation': 4467, 'postage': 3680, 'homage': 2294, 'che': 826, 'guevara': 2145, 'stokes': 4683, 'genuine': 2028, 'abide': 8, 'referred': 3966, 'preventing': 3727, 'proliferation': 3773, 'halve': 2178, 'stockpile': 4681, 'arctic': 266, 'refuge': 3970, 'drilling': 1500, 'kohei': 2694, 'uchimura': 5091, 'gymnastics': 2160, 'dethroning': 1350, 'regional': 3983, 'kuwait': 2709, 'renewing': 4018, 'identity': 2371, 'unmasked': 5132, 'krauthammer': 2701, 'showed': 4430, 'judicial': 2621, 'rebuffed': 3932, 'orthodoxy': 3410, 'advocate': 82, 'emigration': 1587, 'airstrike': 126, 'overseas': 3436, 'poorly': 3660, 'educated': 1544, 'clamor': 878, 'rescue': 4048, 'nepal': 3245, 'earthquake': 1526, 'testify': 4890, 'bloomberg': 549, 'marathoner': 2969, 'mapmaking': 2966, 'fantasy': 1779, 'glance': 2058, 'swing': 4809, 'ought': 3415, 'delight': 1285, 'led': 2782, 'emigre': 1588, 'scott': 4285, 'walker': 5251, 'gutted': 2158, 'punishment': 3829, 'discharged': 1390, 'whoever': 5331, 'helpless': 2241, 'prevent': 3726, 'quite': 3865, 'doubtful': 1474, 'punched': 3825, 'dominated': 1459, 'suburb': 4743, 'brief': 632, 'credible': 1136, 'atrocity': 320, 'eln': 1574, 'alleged': 148, 'ringleader': 4126, 'venezuelan': 5185, 'chased': 825, 'nine': 3280, 'foreigner': 1920, 'plow': 3623, 'nafta': 3203, 'insures': 2494, 'lite': 2852, 'belgium': 460, 'warn': 5263, 'fran': 1948, 'ois': 3363, 'hollande': 2289, 'buzz': 694, 'aldrin': 137, 'archive': 265, 'hidden': 2251, 'foe': 1901, 'passion': 3497, 'ahmet': 113, 'davutoglu': 1221, 'prime': 3737, 'envoy': 1634, 'theresa': 4904, 'wednesday': 5294, 'evening': 1683, 'veto': 5195, 'hama': 2179, 'feb': 1806, 'forecaster': 1918, 'saving': 4242, 'sentencing': 4348, 'prospective': 3790, 'discipline': 1391, 'cutback': 1186, 'con': 991, 'roe': 4154, 'wade': 5243, 'texan': 4893, 'steven': 4673, 'symbol': 4816, 'despair': 1333, 'repository': 4038, 'selection': 4327, 'theater': 4900, 'peril': 3550, 'sri': 4629, 'lanka': 2728, 'hurl': 2354, 'decline': 1254, 'blowback': 551, 'startle': 4654, 'shaunae': 4404, 'dive': 1437, 'meter': 3059, 'muffle': 3175, 'fervent': 1823, 'multiple': 3182, 'restriction': 4075, 'excursion': 1707, 'unlock': 5130, 'vie': 5203, 'seat': 4309, 'kenya': 2654, 'announcing': 220, 'frustrated': 1977, 'pace': 3443, 'mnangagwa': 3121, 'form': 1926, 'vengeful': 5186, 'retribution': 4090, 'suspend': 4796, 'bourse': 588, 'aramco': 263, 'listing': 2851, 'debacle': 1238, 'subpoena': 4738, 'deadline': 1228, 'nears': 3235, 'seeker': 4321, 'jeffrey': 2584, 'wright': 5412, 'ass': 298, 'cking': 875, 'amid': 186, 'sale': 4217, 'convention': 1066, 'stake': 4639, 'trooper': 5042, 'investigated': 2522, 'deaf': 1231, 'motorist': 3161, 'exist': 1715, 'scotland': 4284, 'sturgeon': 4734, 'staying': 4663, 'sensible': 4344, 'restrictive': 4076, 'measure': 3017, 'boyle': 597, 'sideline': 4447, 'lunch': 2903, 'menu': 3047, 'assails': 301, 'island': 2549, 'opportunity': 3392, 'joint': 2604, 'disarm': 1389, 'delegation': 1282, 'pyongyang': 3840, 'retaliates': 4085, 'closure': 904, 'annex': 214, 'insurrection': 2496, 'taste': 4853, 'stopgap': 4688, 'conference': 1009, 'washing': 5272, 'diverge': 1438, 'endorsement': 1605, 'approves': 258, 'rebuild': 3933, 'liberated': 2815, 'adopts': 72, 'mural': 3186, 'depicts': 1312, 'portuguese': 3674, 'mugshot': 3178, 'soft': 4536, 'impasse': 2406, 'romanian': 4161, 'habit': 2161, 'joy': 2616, 'villager': 5210, 'bruising': 657, 'reluctant': 4007, 'brics': 629, 'based': 419, 'mistakenly': 3112, 'shredded': 4435, 'conciliatory': 998, 'debut': 1242, 'shannon': 4394, 'lure': 2905, 'youngster': 5447, 'paradise': 3471, 'outline': 3422, 'chapo': 815, 'ptsd': 3811, 'psychological': 3809, 'zika': 5455, 'burr': 683, 'tillis': 4938, 'oppose': 3393, 'dourson': 1476, 'interference': 2505, 'ukrainian': 5097, 'maker': 2938, 'sky': 4489, 'alleging': 151, 'flawed': 1881, 'colonial': 939, 'prosecutes': 3788, 'rubber': 4177, 'classy': 886, 'tone': 4962, 'infringement': 2465, 'suit': 4757, 'trader': 4994, 'pirate': 3593, 'perseids': 3554, 'meteor': 3058, 'shower': 4431, 'rival': 4138, 'beer': 447, 'sticking': 4677, 'worried': 5396, 'probing': 3754, 'interested': 2504, 'misspells': 3109, 'chyron': 862, 'segment': 4325, 'ripping': 4133, 'covfefe': 1116, 'impose': 2419, 'temporary': 4875, 'weigh': 5300, 'disciplining': 1392, 'millennial': 3085, 'register': 3984, 'turnout': 5076, 'linger': 2842, 'unopposed': 5134, 'competition': 978, 'franco': 1951, 'fallon': 1770, 'sept': 4351, 'odebrecht': 3346, 'peru': 3558, 'kuczynski': 2704, 'checking': 829, 'address': 56, 'amt': 192, 'hatch': 2207, 'modified': 3134, 'independence': 2441, 'baghdad': 379, 'concession': 997, 'kenyan': 2655, 'guarantee': 2138, 'bangladesh': 399, 'siege': 4451, 'recalled': 3935, 'grave': 2119, 'tube': 5063, 'incident': 2428, 'filipino': 1839, 'material': 2999, 'tight': 4935, 'mixed': 3118, 'attending': 329, 'pyeongchang': 3839, 'toilet': 4954, 'proper': 3783, 'plumbing': 3626, 'isolated': 2550, 'davi': 1218, 'freed': 1960, 'floated': 1887, 'swap': 4800, 'timetable': 4942, 'glamor': 2056, 'omar': 3375, 'mateen': 2997, 'strap': 4701, 'restive': 4071, 'southwestern': 4572, 'refinement': 3968, 'messed': 3054, 'rapper': 3904, 'wiz': 5379, 'khalifa': 2660, 'anger': 207, 'pablo': 3442, 'escobar': 1656, 'barzani': 416, 'downfall': 1478, 'laundering': 2750, 'settlement': 4374, 'tee': 4866, 'golfer': 2086, 'strangled': 4700, 'beirut': 458, 'sanford': 4228, 'partially': 3487, 'environment': 1633, 'alexandria': 143, 'filing': 1838, 'opt': 3398, 'aviation': 352, 'pact': 3446, 'deepen': 1262, 'coordination': 1080, 'quicken': 3858, 'governance': 2103, 'nason': 3215, 'corker': 1087, 'nytimes': 3325, 'ho': 2279, 'england': 1616, 'later': 2738, 'csx': 1168, 'normal': 3294, 'vito': 5227, 'acconci': 25, 'influential': 2461, 'eccentric': 1535, 'privatize': 3747, 'guerrilla': 2142, 'mandate': 2952, 'kosovo': 2700, 'reached': 3915, 'alliance': 154, 'heading': 2221, 'lobbyist': 2860, 'wrinkle': 5413, 'brown': 656, 'duterte': 1522, 'kidnapped': 2666, 'fi': 1827, 'kiosk': 2678, 'unsavory': 5139, 'spurred': 4622, 'underground': 5109, 'avenue': 349, 'lifetime': 2826, 'soften': 4537, 'keaton': 2644, 'recruiting': 3952, 'tommy': 4960, 'diner': 1375, 'contest': 1056, 'brokered': 649, 'thief': 4905, 'discriminating': 1403, 'sable': 4203, 'fur': 1992, 'shop': 4424, 'investigator': 2526, 'sonic': 4555, 'payouts': 3517, 'flammable': 1874, 'corrects': 1092, 'stressing': 4707, 'importance': 2417, 'tpp': 4988, 'sort': 4562, 'lag': 2718, 'delayed': 1280, 'file': 1837, 'challenging': 803, 'subsidy': 4740, 'abandon': 1, 'none': 3290, 'religion': 4005, 'berkeley': 472, 'lithuania': 2855, 'schism': 4263, 'within': 5375, 'tanzania': 4842, 'elephant': 1568, 'poaching': 3630, 'architect': 264, 'resuscitating': 4081, 'landmark': 2725, 'yorker': 5443, 'conquered': 1031, 'provision': 3805, 'goodbye': 2091, 'rein': 3994, 'nsa': 3308, 'hungarian': 2350, 'orban': 3401, 'precedent': 3701, 'negotiator': 3240, 'sahel': 4212, 'scrubland': 4298, 'sweden': 4804, 'baffle': 376, 'harassment': 2195, 'swift': 4808, 'implicated': 2414, 'compete': 977, 'angering': 208, 'getty': 2039, 'evacuated': 1674, 'collides': 933, 'unrest': 5137, 'emboldened': 1583, 'comply': 987, 'consider': 1038, 'censuring': 787, 'skinned': 4484, 'wingnuts': 5360, 'grip': 2127, 'macri': 2911, 'sweep': 4806, 'transcanada': 5005, 'keystone': 2659, 'xl': 5430, 'exercise': 1713, 'scared': 4254, 'butter': 690, 'fentanyl': 1821, 'outpaces': 3424, 'heroin': 2245, 'deadliest': 1227, 'hopeful': 2310, 'spinach': 4600, 'beating': 438, 'impossible': 2420, 'tancredo': 4839, 'brawl': 611, 'squeaky': 4628, 'zurich': 5462, 'tend': 4878, 'progress': 3771, 'quick': 3857, 'southeast': 4569, 'faster': 1790, 'indict': 2449, 'table': 4824, 'rand': 3895, 'crocodile': 1147, 'dept': 1319, 'forecast': 1917, 'retiree': 4087, 'fiduciary': 1830, 'resignation': 4054, 'revival': 4106, 'evangelical': 1676, 'peter': 3563, 'schweizer': 4274, 'naming': 3210, 'cleric': 892, 'apparent': 243, 'dissent': 1432, 'spying': 4624, 'alexander': 142, 'acosta': 38, 'dean': 1234, 'blankfein': 527, 'tap': 4843, 'powell': 3693, 'reassures': 3930, 'lack': 2716, 'airline': 123, 'cairo': 703, 'egyptair': 1553, 'pricing': 3731, 'initiative': 2469, 'compromised': 989, 'politico': 3651, 'derail': 1323, 'everything': 1689, 'language': 2727, 'disrupter': 1431, 'cement': 782, 'friendship': 1971, 'taken': 4833, 'offshore': 3357, 'toast': 4948, 'bromance': 650, 'wrap': 5407, 'carefree': 742, 'getaway': 2037, 'persian': 3555, 'gulf': 2149, 'maltese': 2945, 'expects': 1723, 'bow': 589, 'passenger': 3496, 'derails': 1325, 'vandalized': 5180, 'cemetery': 784, 'prejudice': 3711, 'abertis': 6, 'stole': 4684, 'pakistani': 3454, 'taliban': 4835, 'pessimistic': 3560, 'reaching': 3916, 'renews': 4019, 'clash': 882, 'sport': 4613, 'emirate': 1589, 'reshuffle': 4051, 'afraid': 91, 'madeleine': 2917, 'albright': 134, 'inflow': 2459, 'gunfire': 2152, 'recuses': 3956, 'closely': 902, 'provide': 3802, 'smooth': 4517, 'blinken': 538, 'savage': 4239, 'md': 3014, 'max': 3004, 'downgraded': 1479, 'tropical': 5043, 'inland': 2473, 'restraint': 4074, 'sdf': 4299, 'volcanic': 5232, 'koppel': 2697, 'paralyzed': 3473, 'detective': 1345, 'forgave': 1923, 'fujimori': 1981, 'zarrab': 5452, 'settle': 4373, 'nile': 3279, 'blindly': 537, 'chess': 835, 'federation': 1810, 'hosted': 2322, 'match': 2995, 'explainer': 1729, 'wields': 5342, 'discussed': 1405, 'possibility': 3676, 'halt': 2176, 'caribbean': 744, 'hong': 2303, 'kong': 2695, 'milkshake': 3083, 'farmer': 1785, 'hezbollah': 2249, 'cease': 774, 'interfering': 2506, 'useless': 5167, 'campaigned': 722, 'magazine': 2925, 'kingmaker': 2677, 'unveil': 5145, 'cavani': 769, 'goal': 2074, 'psg': 3807, 'caen': 699, 'bezos': 488, 'pilot': 3588, 'mech': 3018, 'inaugural': 2425, 'festivity': 1825, 'barefoot': 407, 'tragedy': 4998, 'satisfaction': 4237, 'reprisal': 4042, 'suburban': 4744, 'experiment': 1725, 'censored': 785, 'sensitive': 4345, 'anc': 197, 'pistorius': 3597, 'unfit': 5114, 'psychologist': 3810, 'figurehead': 1836, 'unlocking': 5131, 'rocky': 4153, 'wfp': 5317, 'congo': 1023, 'detains': 1344, 'circle': 865, 'privatization': 3746, 'heavy': 2234, 'spring': 4620, 'quelle': 3852, 'gmt': 2072, 'pause': 3510, 'spare': 4580, 'chile': 841, 'guillier': 2146, 'concedes': 992, 'pinera': 3590, 'mysterious': 3200, 'advantage': 74, 'weakening': 5285, 'militarily': 3080}\n"
          ]
        }
      ]
    },
    {
      "cell_type": "markdown",
      "source": [
        "As extras we can add code to keep words that occurs specific minimum times and reduce the size of voacb."
      ],
      "metadata": {
        "id": "cfx3MUrBl2f_"
      }
    },
    {
      "cell_type": "code",
      "source": [
        "# keep tokens/words with a min occurrence\n",
        "min_occurence = 5\n",
        "words_to_drop = []\n",
        "\n",
        "\n",
        "bow1 = pd.DataFrame(df1_vec, columns = vec_cv1.get_feature_names_out())\n",
        "bow2 = pd.DataFrame(df2_vec, columns = vec_cv2.get_feature_names_out())\n",
        "bow3 = pd.DataFrame(df3_vec, columns = vec_cv3.get_feature_names_out())\n",
        "\n",
        "\n",
        "def filter_words(bow_df):\n",
        "  words_to_drop = []\n",
        "  for col in bow_df.columns:\n",
        "    if bow_df[col].sum() < min_occurence:\n",
        "      words_to_drop.append(col)\n",
        "  # print(f'Words to drop: {len(words_to_drop)}')\n",
        "  bow_df_filter = bow_df.drop(words_to_drop, axis=1)\n",
        "  # print(f'BoW vocab shape after reduction: {bow1_filter.shape}')\n",
        "  return bow_df_filter\n",
        "\n",
        "\n",
        "bow1_filter = filter_words(bow1)\n",
        "bow1_vocab_size = bow1_filter.shape[1]\n",
        "print(f'BoW 1 shape: {bow1_filter.shape}, length of vocab is: {bow1_vocab_size}')\n",
        "\n",
        "bow2_filter = filter_words(bow2)\n",
        "bow2_vocab_size = bow2_filter.shape[1]\n",
        "print(f'BoW 2 shape: {bow2_filter.shape}, length of vocab is: {bow2_vocab_size}')\n",
        "\n",
        "bow3_filter = filter_words(bow3)\n",
        "bow3_vocab_size = bow3_filter.shape[1]\n",
        "print(f'BoW 3 shape: {bow3_filter.shape}, length of vocab is: {bow3_vocab_size}')\n",
        "\n",
        "def get_vocab_size(df):\n",
        "  return df.shape[1]"
      ],
      "metadata": {
        "colab": {
          "base_uri": "https://localhost:8080/"
        },
        "outputId": "27152f31-8466-4ee0-ebf5-5558553b2bdc",
        "id": "Aa1RyO3Gl2f_"
      },
      "execution_count": null,
      "outputs": [
        {
          "output_type": "stream",
          "name": "stdout",
          "text": [
            "BoW 1 shape: (2618, 1184), length of vocab is: 1184\n",
            "BoW 2 shape: (2386, 923), length of vocab is: 923\n",
            "BoW 3 shape: (2540, 1070), length of vocab is: 1070\n"
          ]
        }
      ]
    },
    {
      "cell_type": "markdown",
      "source": [
        "### TF-IDF"
      ],
      "metadata": {
        "id": "7pfD4n21l2gA"
      }
    },
    {
      "cell_type": "code",
      "source": [
        "# fit & transform\n",
        "def tfidf_transform(df_features):\n",
        "  tfidf = TfidfVectorizer()\n",
        "  df = tfidf.fit_transform(df_features)\n",
        "  vocab_size = len(tfidf.vocabulary_)\n",
        "  print(f'Shape is: {df.shape}')\n",
        "  print(f'Type: {type(df)}')\n",
        "  print(f'VOCABULARY (lenght {vocab_size})\\n{tfidf.vocabulary_}')\n",
        "  # print(tfidf1.vocabulary_)\n",
        "  # print(tfidf.idf_)\n",
        "  return df, vocab_size\n",
        "\n",
        "tfidf1, tfidf1_vocab_size = tfidf_transform(df1['title'])\n",
        "tfidf2, tfidf2_vocab_size = tfidf_transform(df2['title'])\n",
        "tfidf3, tfidf3_vocab_size = tfidf_transform(df3['title'])\n",
        "\n",
        "tfidf1 = tfidf1.toarray()\n",
        "tfidf2 = tfidf2.toarray()\n",
        "tfidf3 = tfidf3.toarray()"
      ],
      "metadata": {
        "colab": {
          "base_uri": "https://localhost:8080/"
        },
        "outputId": "7a2babd9-2a6b-452a-e083-fce637c388d8",
        "id": "dL6b9awcl2gA"
      },
      "execution_count": null,
      "outputs": [
        {
          "output_type": "stream",
          "name": "stdout",
          "text": [
            "Shape is: (2618, 5237)\n",
            "Type: <class 'scipy.sparse._csr.csr_matrix'>\n",
            "VOCABULARY (lenght 5237)\n",
            "{'obama': 3188, 'defends': 1222, 'black': 493, 'life': 2720, 'matter': 2878, 'really': 3773, 'want': 5058, 'support': 4562, 'video': 5005, 'updated': 4946, 'america': 155, 'conservative': 994, 'family': 1711, 'experience': 1645, 'shocking': 4244, 'abuse': 15, 'shaming': 4223, 'home': 2215, 'ordered': 3257, 'leftist': 2679, 'da': 1145, 'part': 3342, 'insane': 2388, 'vendetta': 4985, 'boom': 550, 'trump': 4835, 'show': 4256, 'good': 1996, 'business': 659, 'mind': 2967, 'never': 3131, 'let': 2697, 'opportunity': 3244, 'go': 1985, 'waste': 5078, 'online': 3230, 'lib': 2708, 'site': 4296, 'publishes': 3667, 'cell': 751, 'number': 3176, 'revives': 3954, 'keystone': 2555, 'dakota': 1150, 'access': 21, 'pipeline': 3447, 'state': 4464, 'american': 156, 'moving': 3060, 'build': 633, 'helipad': 2167, 'mar': 2853, 'lago': 2613, 'avoid': 313, 'protester': 3648, 'golfing': 1993, 'weekend': 5101, 'whoa': 5128, 'bill': 474, 'reilly': 3829, 'drop': 1438, 'bombshell': 542, 'report': 3881, 'key': 2554, 'accuser': 33, 'sexual': 4211, 'harassment': 2118, 'case': 725, 'could': 1053, 'prove': 3651, 'unjustly': 4922, 'fired': 1791, 'fox': 1870, 'news': 3135, 'reveals': 3944, 'comey': 914, 'thought': 4709, 'massive': 2873, 'teen': 4657, 'mall': 2835, 'brawl': 580, 'including': 2344, 'gunfire': 2067, 'break': 584, 'across': 40, 'day': 1174, 'christmas': 815, 'new': 3133, 'christian': 811, 'policy': 3489, 'advisor': 71, 'actually': 50, 'think': 4704, 'control': 1017, 'weather': 5096, 'told': 4749, 'prince': 3583, 'charles': 778, 'eat': 1478, 'sh': 4213, 'absolutely': 12, 'ridiculous': 3967, 'reason': 3774, 'unprecedented': 4934, 'fbi': 1733, 'asks': 264, 'doj': 1394, 'confirm': 974, 'lied': 2718, 'wiretap': 5155, 'detail': 1292, 'supporting': 4564, 'gop': 1999, 'rep': 3872, 'call': 678, 'veteran': 4993, 'moocher': 3037, 'town': 4780, 'hall': 2089, 'event': 1606, 'ohio': 3220, 'watch': 5079, 'mitt': 2996, 'romney': 4010, 'roy': 4022, 'moore': 3040, 'deserves': 1281, 'fair': 1698, 'treatment': 4810, 'questionable': 3700, 'year': 5207, 'old': 3225, 'sex': 4209, 'assault': 269, 'allegation': 128, 'already': 143, 'forgotten': 1855, 'harry': 2127, 'reid': 3827, 'lie': 2717, 'campaign': 690, 'veryfakenewscnn': 4990, 'busted': 661, 'getting': 1955, 'major': 2822, 'donald': 1399, 'jr': 2513, 'wikileaks': 5140, 'story': 4503, 'wrong': 5194, 'democrat': 1248, 'pushing': 3686, 'tax': 4644, 'return': 3937, 'scared': 4098, 'tless': 4744, 'maher': 2816, 'debatenight': 1188, 'live': 2746, 'tweetstorm': 4865, 'glorious': 1981, 'takedown': 4617, 'ever': 1607, 'internet': 2412, 'stop': 4498, 'laughing': 2637, 'sarah': 4073, 'huckabee': 2251, 'sander': 4067, 'dumbass': 1453, 'tweet': 4862, 'screenshots': 4127, 'throw': 4719, 'temper': 4666, 'tantrum': 4633, 'charge': 774, 'hillary': 2196, 'clinton': 862, 'lol': 2759, 'amazon': 150, 'user': 4965, 'write': 5191, 'gut': 2071, 'busting': 662, 'review': 3949, 'disastrous': 1339, 'stronger': 4518, 'together': 4748, 'book': 549, 'big': 468, 'mouth': 3055, 'rosie': 4016, 'donnell': 1404, 'heading': 2149, 'prison': 3588, 'taking': 4621, 'hate': 2138, 'president': 3560, 'far': 1720, 'oklahoma': 3224, 'gun': 2065, 'range': 3741, 'refused': 3816, 'service': 4195, 'muslim': 3080, 'man': 2837, 'giving': 1971, 'deserve': 1280, 'watergate': 5084, 'reporter': 3884, 'carl': 713, 'bernstein': 450, 'hammer': 2093, 'real': 3770, 'leaker': 2664, 'young': 5217, 'delivers': 1238, 'powerful': 3535, 'message': 2933, 'liberal': 2709, 'put': 3687, 'fist': 1801, 'take': 4616, 'mask': 2869, 'change': 767, 'going': 1988, 'lose': 2771, 'hilariously': 2195, 'awkward': 320, 'moment': 3021, 'rick': 3962, 'perry': 3402, 'al': 112, 'franken': 1876, 'oh': 3219, 'lord': 2768, 'starbucks': 4458, 'customer': 1138, 'chicago': 793, 'racist': 3717, 'rant': 3748, 'heard': 2154, 'anything': 197, 'like': 2726, 'zing': 5229, 'hell': 2168, 'jimmy': 2496, 'kimmel': 2570, 'fake': 1703, 'week': 5100, 'electronic': 1504, 'voting': 5037, 'die': 1314, 'york': 5215, 'magazine': 2813, 'confirms': 977, 'literally': 2743, 'care': 709, 'one': 3229, 'thing': 4703, 'winning': 5152, 'join': 2501, 'lady': 2612, 'view': 5008, 'rip': 3978, 'shred': 4261, 'publicist': 3664, 'breaking': 586, 'active': 44, 'shooter': 4247, 'reported': 3882, 'outside': 3286, 'los': 2770, 'angeles': 172, 'polling': 3498, 'location': 2752, 'dead': 1178, 'time': 4737, 'advocating': 74, 'censorship': 752, 'controlled': 1018, 'approved': 225, 'agent': 91, 'screw': 4128, 'front': 1891, 'runner': 4036, 'chosen': 808, 'people': 3390, 'establishment': 1591, 'plan': 3459, 'san': 4063, 'bernardino': 448, 'two': 4868, 'adult': 65, 'injured': 2381, 'school': 4108, 'murder': 3074, 'suicide': 4550, 'hannity': 2108, 'loses': 2773, 'refers': 3809, 'unhinged': 4911, 'republican': 3892, 'flip': 1822, 'law': 2647, 'would': 5186, 'require': 3895, 'woman': 5170, 'register': 3822, 'draft': 1416, 'hollywood': 2213, 'announces': 185, 'name': 3091, 'award': 315, 'replace': 3877, 'oscar': 3270, 'hilarious': 2194, 'crowd': 1108, 'erupts': 1585, 'boo': 547, 'military': 2961, 'mom': 3020, 'penny': 3386, 'khan': 2556, 'statement': 4467, 'morning': 3043, 'joe': 2498, 'elizabeth': 1510, 'warren': 5073, 'attack': 286, 'presidency': 3559, 'implodes': 2329, 'top': 4760, 'white': 5127, 'house': 2244, 'official': 3216, 'betray': 455, 'explosive': 1656, 'megyn': 2912, 'kelly': 2545, 'continues': 1011, 'obsession': 3197, 'angry': 177, 'apologize': 203, 'er': 1577, 'fan': 1713, 'burn': 650, 'colin': 895, 'kaepernick': 2526, 'jersey': 2484, 'national': 3100, 'anthem': 190, 'playing': 3470, 'awesome': 318, 'florida': 1829, 'voter': 5036, 'kick': 2558, 'corrupt': 1047, 'prosecutor': 3638, 'angela': 171, 'corey': 1037, 'office': 3214, 'running': 4037, 'lying': 2798, 'race': 3713, 'baiting': 347, 'ag': 87, 'back': 328, 'guess': 2055, 'whose': 5133, 'job': 2497, 'reportedly': 3883, 'hoping': 2232, 'afraid': 83, 'terrible': 4674, 'worried': 5182, 'priceless': 3575, 'embarrassing': 1519, 'rino': 3974, 'governor': 2008, 'reminded': 3858, 'endorse': 1545, 'general': 1942, 'election': 1501, 'forget': 1852, 'give': 1969, 'united': 4918, 'nation': 3099, 'billion': 475, 'dollar': 1395, 'brian': 592, 'stelter': 4478, 'slam': 4313, 'sean': 4139, 'disturbing': 1377, 'happen': 2110, 'host': 2237, 'problem': 3601, 'pope': 3506, 'get': 1954, 'visibly': 5022, 'scold': 4114, 'right': 3969, 'make': 2824, 'visit': 5024, 'nun': 3177, 'regime': 3819, 'suing': 4551, 'conforming': 980, 'obamacare': 3189, 'contraception': 1012, 'mandate': 2842, 'ignores': 2305, 'planned': 3461, 'parenthood': 3336, 'baby': 326, 'harvester': 2131, 'whistleblower': 5125, 'group': 2043, 'exposed': 1660, 'dad': 1147, 'beat': 404, 'daughter': 1171, 'frozen': 1894, 'bacon': 336, 'quoting': 3711, 'bible': 465, 'jesus': 2487, 'letterman': 2700, 'ignore': 2303, 'pocket': 3481, 'poverty': 3533, 'stimulus': 4488, 'gave': 1934, 'baltimore': 357, 'willing': 5147, 'working': 5179, 'risk': 3981, 'allowing': 136, 'predator': 3543, 'accused': 32, 'rapist': 3754, 'roam': 3988, 'student': 4521, 'demand': 1243, 'cornell': 1039, 'university': 4921, 'recruiting': 3799, 'ted': 4656, 'cruz': 1115, 'tell': 4663, 'fanatic': 1714, 'armor': 239, 'god': 1987, 'prepare': 3552, 'fight': 1763, 'taxpayer': 4645, 'tab': 4610, 'golf': 1992, 'trip': 4824, 'fundraiser': 1911, 'february': 1740, 'march': 2855, 'internal': 2410, 'memo': 2920, 'epa': 1568, 'flint': 1821, 'worth': 5185, 'limb': 2729, 'explains': 1652, 'james': 2466, 'cks': 835, 'admits': 62, 'impeached': 2326, 'ca': 670, 'start': 4460, 'petition': 3412, 'demanding': 1245, 'mental': 2926, 'evaluation': 1601, 'revolting': 3955, 'hot': 2240, 'mic': 2941, 'blown': 524, 'bit': 487, 'released': 3840, 'email': 1514, 'carly': 715, 'fiorina': 1787, 'illegally': 2310, 'super': 4560, 'pac': 3305, 'judge': 2514, 'order': 3256, 'punk': 3680, 'wearing': 5094, 'police': 3488, 'shirt': 4240, 'leave': 2671, 'courtroom': 1066, 'face': 1685, 'contempt': 1004, 'anti': 192, 'contractor': 1014, 'arrested': 244, 'leaking': 2665, 'classified': 847, 'info': 2371, 'medium': 2908, 'classless': 848, 'michelle': 2944, 'hit': 2205, 'outright': 3285, 'interview': 2415, 'oprah': 3248, 'lawmaker': 2650, 'freaking': 1880, 'dysfunction': 1467, 'update': 4945, 'victim': 5003, 'skull': 4309, 'missing': 2988, 'arrest': 243, 'graphic': 2021, 'philadelphia': 3422, 'ask': 261, 'help': 2171, 'identifying': 2295, 'gang': 1923, 'kid': 2561, 'mother': 3050, 'sub': 4531, 'human': 2258, 'homeless': 2217, 'staff': 4443, 'joke': 2504, 'laugh': 2635, 'july': 2518, 'th': 4691, 'ultimatum': 4877, 'caught': 737, 'delta': 1239, 'pilot': 3443, 'smack': 4332, 'fighting': 1765, 'deplaning': 1265, 'atlanta': 285, 'blame': 497, 'orange': 3253, 'clown': 874, 'hair': 2085, 'clerk': 857, 'claim': 836, 'rigged': 3968, 'bungled': 643, 'beyond': 461, 'belief': 432, 'dirty': 1332, 'pool': 3502, 'affirmed': 78, 'spied': 4413, 'without': 5168, 'proving': 3656, 'dossier': 1408, 'authenticity': 304, 'must': 3081, 'read': 3766, 'napolitano': 3094, 'secret': 4148, 'war': 5062, 'yr': 5220, 'son': 4375, 'arkansas': 234, 'prostitute': 3641, 'say': 4085, 'father': 1730, 'keep': 2539, 'away': 317, 'increase': 2350, 'unlicensed': 4926, 'abortion': 8, 'terrorism': 4678, 'leader': 2659, 'farrakahn': 1724, 'army': 240, 'stalk': 4447, 'kill': 2564, 'koran': 2591, 'retaliation': 3934, 'prescribed': 3556, 'fail': 1693, 'hard': 2120, 'trying': 4847, 'pander': 3319, 'wing': 5150, 'badass': 338, 'ad': 51, 'breitbart': 590, 'writer': 5192, 'need': 3111, 'pay': 3366, 'medical': 2906, 'smallest': 4336, 'violin': 5017, 'play': 3466, 'lax': 2654, 'endangering': 1542, 'public': 3662, 'attempt': 289, 'energize': 1551, 'zombie': 5231, 'base': 383, 'reminding': 3860, 'used': 4964, 'shopping': 4250, 'responds': 3920, 'devastating': 1299, 'slamming': 4315, 'look': 2764, 'closer': 871, 'becoming': 414, 'sweden': 4594, 'believe': 433, 'un': 4879, 'authority': 307, 'vet': 4992, 'refugee': 3812, 'latin': 2630, 'jeb': 2474, 'bush': 658, 'suspends': 4586, 'pressure': 3564, 'supporter': 4563, 'fellow': 1748, 'gopers': 2001, 'oops': 3232, 'security': 4155, 'guard': 2049, 'allow': 134, 'dude': 1448, 'founder': 1867, 'condemns': 966, 'nazi': 3105, 'misconduct': 2980, 'michael': 2942, 'way': 5088, 'behind': 429, 'ready': 3767, 'financial': 1779, 'crisis': 1092, 'round': 4018, 'crony': 1102, 'capitalism': 701, 'central': 754, 'planning': 3462, 'drained': 1420, 'sesame': 4197, 'street': 4509, 'using': 4967, 'bert': 451, 'ernie': 1582, 'sexually': 4212, 'transmitted': 4800, 'disease': 1352, 'alt': 145, 'left': 2678, 'professor': 3611, 'outrageous': 3284, 'flag': 1808, 'burning': 652, 'antifa': 194, 'preserving': 3558, 'fabric': 1682, 'catch': 733, 'someone': 4373, 'saying': 4086, 'thinking': 4705, 'presser': 3563, 'lawyer': 2653, 'destroys': 1290, 'chriswallace': 817, 'heated': 2160, 'exchange': 1625, 'chris': 809, 'deal': 1181, 'fact': 1689, 'hasta': 2134, 'la': 2607, 'vista': 5027, 'arnold': 241, 'guy': 2073, 'affair': 75, 'housekeeper': 2246, 'produced': 3607, 'destroyed': 1288, 'marriage': 2864, 'much': 3064, 'baggage': 341, 'quits': 3707, 'celebrity': 749, 'apprentice': 221, 'something': 4374, 'panic': 3322, 'mueller': 3065, 'investigation': 2422, 'close': 868, 'terrorist': 4679, 'jon': 2506, 'ritzheimer': 3982, 'us': 4961, 'sobbing': 4356, 'beg': 419, 'money': 3023, 'turning': 4858, 'pork': 3511, 'ban': 359, 'great': 2027, 'prisoner': 3589, 'bad': 337, 'pig': 3441, 'howard': 2248, 'stern': 4482, 'demean': 1246, 'talk': 4624, 'accident': 22, 'ben': 437, 'carson': 722, 'become': 412, 'first': 1797, 'destroy': 1287, 'nuclear': 3172, 'idea': 2292, 'ivanka': 2456, 'became': 409, 'fear': 1736, 'mongering': 3024, 'party': 3347, 'unrecognizable': 4937, 'cruelly': 1109, 'mock': 3003, 'misgender': 2982, 'trans': 4795, 'high': 2186, 'athlete': 284, 'listen': 2741, 'jeh': 2478, 'johnson': 2500, 'bizarre': 492, 'remove': 3864, 'confederate': 970, 'statue': 4469, 'homeland': 2216, 'threat': 4711, 'respond': 3918, 'mess': 2932, 'bringing': 601, 'bottle': 563, 'clean': 851, 'water': 5082, 'resident': 3907, 'double': 1410, 'standard': 4453, 'mlb': 2998, 'player': 3469, 'suspended': 4585, 'criticizing': 1099, 'blacklivesmatter': 495, 'nfl': 3139, 'instagram': 2394, 'post': 3520, 'cop': 1034, 'neck': 3110, 'slit': 4327, 'bowl': 565, 'qb': 3694, 'peyton': 3416, 'manning': 2847, 'bankrolling': 366, 'presidential': 3561, 'candidate': 698, 'image': 2315, 'hissy': 2202, 'fit': 1802, 'word': 5175, 'meet': 2909, 'vogue': 5028, 'fashion': 1727, 'editor': 1486, 'slammed': 4314, 'social': 4357, 'politicizing': 3494, 'melaniatrump': 2915, 'shoe': 4245, 'ferrell': 1754, 'skewer': 4305, 'reprises': 3890, 'george': 1947, 'impression': 2334, 'lesbian': 2694, 'couple': 1063, 'beaten': 405, 'holding': 2209, 'hand': 2097, 'win': 5148, 'settlement': 4203, 'ex': 1617, 'congressman': 989, 'howling': 2249, 'impeachment': 2327, 'cheerleader': 787, 'hiding': 2185, 'truth': 4845, 'ammosexual': 159, 'organizer': 3262, 'shoot': 4246, 'patriot': 3362, 'drunken': 1445, 'best': 452, 'date': 1170, 'agree': 93, 'desperate': 1282, 'spread': 4428, 'fleece': 1816, 'latest': 2629, 'vote': 5034, 'prof': 3609, 'russian': 4041, 'ship': 4238, 'disgusting': 1357, 'unemployed': 4905, 'obsessed': 3195, 'added': 54, 'smithsonian': 4343, 'history': 2204, 'museum': 3078, 'supreme': 4567, 'court': 1065, 'justice': 2524, 'clarence': 840, 'thomas': 4707, 'blacklisted': 494, 'senate': 4174, 'pass': 3349, 'repeal': 3874, 'resolution': 3913, 'almost': 140, 'unanimous': 4883, 'former': 1860, 'whispered': 5123, 'adorable': 64, 'hispanic': 2201, 'interviewed': 2416, 'dreamed': 1427, 'meeting': 2910, 'mr': 3062, 'col': 892, 'oliver': 3226, 'north': 3164, 'five': 1804, 'led': 2676, 'rise': 3980, 'isi': 2444, 'relax': 3837, 'sharpton': 4229, 'physical': 3430, 'question': 3699, 'firefighter': 1792, 'horrific': 2234, 'barack': 374, 'ceo': 755, 'bunch': 641, 'whiny': 5122, 'jew': 2489, 'union': 4916, 'form': 1856, 'facebook': 1686, 'page': 3309, 'organize': 3261, 'campus': 691, 'offensive': 3211, 'showing': 4259, 'keurig': 2553, 'coffee': 889, 'maker': 2825, 'boycottkeurig': 570, 'rudy': 4027, 'giuliani': 1968, 'accept': 18, 'role': 4006, 'cabinet': 671, 'trumpdom': 4838, 'curious': 1132, 'world': 5180, 'foreign': 1848, 'explained': 1649, 'monitor': 3027, 'owner': 3302, 'banned': 368, 'frighteningly': 1890, 'praise': 3537, 'korean': 2593, 'dictator': 1313, 'executing': 1629, 'stay': 4470, 'power': 3534, 'benghazi': 441, 'spokesliar': 4418, 'susan': 4582, 'rice': 3959, 'cnn': 878, 'expect': 1639, 'iran': 2431, 'use': 4963, 'fund': 1907, 'operation': 3239, 'heartwarming': 2158, 'socialism': 4358, 'college': 898, 'le': 2657, 'careless': 712, 'aide': 99, 'kept': 2551, 'department': 1261, 'unsafe': 4940, 'daniel': 1163, 'greenfield': 2029, 'nail': 3089, 'run': 4035, 'flop': 1828, 'highlight': 2189, 'reel': 3807, 'response': 3921, 'nh': 3141, 'focus': 1833, 'shock': 4241, 'msnbc': 3063, 'violent': 5015, 'thug': 4722, 'pelt': 3381, 'egg': 1492, 'commander': 917, 'chief': 797, 'racism': 3716, 'disciplinary': 1340, 'decision': 1200, 'west': 5113, 'point': 3483, 'cadet': 672, 'hottie': 2242, 'tomi': 4754, 'lahren': 2614, 'head': 2147, 'pro': 3595, 'panther': 3325, 'activist': 45, 'scream': 4123, 'protection': 3646, 'germany': 1952, 'wallace': 5056, 'smear': 4339, 'inauguration': 2339, 'size': 4302, 'brit': 604, 'hume': 2261, 'burned': 651, 'chance': 766, 'lindsey': 2734, 'graham': 2016, 'trash': 4804, 'portraying': 3514, 'kooky': 2590, 'forgets': 1853, 'swedish': 4595, 'assaulted': 270, 'broad': 608, 'daylight': 1175, 'migrant': 2953, 'boyfriend': 571, 'feminist': 1752, 'health': 2150, 'mn': 2999, 'somali': 4370, 'got': 2004, 'jihad': 2493, 'amy': 162, 'schumer': 4109, 'release': 3839, 'forbidden': 1844, 'violence': 5014, 'sketch': 4304, 'anyway': 198, 'goldman': 1991, 'sachs': 4047, 'chairman': 761, 'uk': 4874, 'appearance': 212, 'another': 188, 'congress': 987, 'dealt': 1183, 'blow': 523, 'favorite': 1732, 'terror': 4677, 'informant': 2373, 'gag': 1919, 'shaking': 4219, 'pantsuit': 3326, 'slays': 4322, 'science': 4111, 'denier': 1254, 'amazingly': 149, 'groundhog': 2042, 'brown': 617, 'friend': 1889, 'started': 4461, 'handsupdontshoot': 2104, 'soros': 4381, 'dump': 1456, 'million': 2964, 'flood': 1825, 'vetted': 4995, 'laura': 2642, 'ingraham': 2376, 'brilliant': 598, 'shake': 4217, 'scamming': 4093, 'proved': 3652, 'minute': 2978, 'required': 3896, 'formally': 1859, 'recognize': 3788, 'organization': 3260, 'exceeds': 1623, 'signature': 4278, 'add': 53, 'epic': 1569, 'teller': 4664, 'colonel': 905, 'ralph': 3731, 'peter': 3410, 'tough': 4771, 'language': 2619, 'describe': 1276, 'co': 881, 'chair': 760, 'fraud': 1878, 'commission': 924, 'may': 2883, 'legitimately': 2690, 'elected': 1500, 'crazy': 1081, 'said': 4053, 'shot': 4253, 'unreal': 4936, 'three': 4716, 'senator': 4175, 'healthcare': 2151, 'midnight': 2950, 'agrees': 96, 'network': 3127, 'celebrates': 748, 'gay': 1936, 'orlando': 3266, 'act': 41, 'filled': 1772, 'intolerant': 2418, 'flipped': 1823, 'hypocrite': 2282, 'mike': 2955, 'democratic': 1249, 'obstruction': 3202, 'nominee': 3161, 'henningsen': 2174, 'protest': 3647, 'similar': 4281, 'color': 908, 'revolution': 3956, 'abroad': 10, 'lid': 2716, 'debate': 1187, 'comment': 919, 'endorses': 1548, 'ahead': 97, 'california': 677, 'primary': 3581, 'charlotte': 780, 'station': 4468, 'dash': 1168, 'cam': 685, 'keithscott': 2542, 'coming': 916, 'toward': 4777, 'invited': 2425, 'charged': 775, 'pimping': 3445, 'teenage': 4658, 'girl': 1966, 'troll': 4826, 'austria': 302, 'game': 1922, 'concealing': 955, 'islamic': 2446, 'dress': 1429, 'integration': 2402, 'course': 1064, 'else': 1511, 'sign': 4276, 'stream': 4508, 'chase': 782, 'stunning': 4527, 'disney': 1363, 'tech': 4655, 'worker': 5178, 'emotional': 1532, 'testimony': 4685, 'humiliation': 2265, 'training': 4793, 'responded': 3919, 'directly': 1329, 'kathygriffin': 2533, 'beheaded': 428, 'photo': 3426, 'chalkening': 763, 'political': 3491, 'chalk': 762, 'drawing': 1424, 'bandit': 361, 'terrorizing': 4681, 'ny': 3181, 'gov': 2006, 'cuomo': 1126, 'threatens': 4715, 'boycott': 568, 'israel': 2450, 'heck': 2162, 'vega': 4982, 'proof': 3629, 'coroner': 1043, 'lockdown': 2754, 'equifax': 1575, 'tricking': 4820, 'consumer': 1003, 'waiving': 5050, 'sue': 4541, 'data': 1169, 'breach': 583, 'enact': 1536, 'place': 3456, 'latina': 2631, 'restaurant': 3924, 'threatened': 4713, 'called': 679, 'stage': 4445, 'rally': 3730, 'silence': 4279, 'joy': 2512, 'behar': 425, 'painful': 3312, 'reality': 3771, 'check': 784, 'maria': 2858, 'bartiromo': 382, 'dnc': 1386, 'tom': 4752, 'perez': 3393, 'hijacked': 2192, 'extreme': 1672, 'asked': 262, 'blank': 499, 'internment': 2413, 'camp': 689, 'chilling': 801, 'grows': 2046, 'john': 2499, 'mccain': 2887, 'opponent': 3243, 'bernie': 449, 'coronation': 1042, 'comfort': 915, 'armchair': 237, 'homophobic': 2220, 'kansa': 2528, 'gleefully': 1973, 'harasses': 2116, 'lgbtq': 2706, 'boast': 528, 'spicer': 4412, 'confuses': 983, 'marijuana': 2859, 'opioids': 3242, 'vow': 5038, 'fed': 1741, 'legalized': 2684, 'weed': 5099, 'declares': 1204, 'rape': 3751, 'elton': 1512, 'perform': 3396, 'enters': 1560, 'stance': 4451, 'sabo': 4046, 'artist': 253, 'tucker': 4849, 'carlson': 714, 'tonight': 4756, 'miss': 2986, 'weasel': 5095, 'alleged': 129, 'lyin': 2797, 'williams': 5146, 'saw': 4084, 'resigns': 3912, 'drug': 1442, 'solicitation': 4365, 'minor': 2976, 'wow': 5187, 'nasty': 3098, 'excited': 1626, 'see': 4156, 'viral': 5018, 'punch': 3674, 'lil': 2728, 'ha': 2077, 'mitch': 2995, 'mcconnell': 2888, 'viciously': 5002, 'cut': 1139, 'defend': 1219, 'firebrand': 1789, 'ann': 180, 'coulter': 1054, 'airline': 107, 'twitter': 4867, 'kicking': 2560, 'reserved': 3904, 'seat': 4142, 'dream': 1426, 'nightmare': 3150, 'illegal': 2309, 'alien': 123, 'commit': 926, 'avoiding': 314, 'deportation': 1268, 'lifetime': 2721, 'politician': 3493, 'cbs': 743, 'know': 2586, 'mean': 2893, 'grifter': 2035, 'promoter': 3624, 'selling': 4171, 'soul': 4385, 'devil': 1304, 'catholic': 735, 'priest': 3579, 'bishop': 486, 'jeopardizes': 2481, 'spiritual': 4416, 'well': 5111, 'receive': 3782, 'holy': 2214, 'communion': 934, 'primal': 3580, 'david': 1172, 'icke': 2288, 'result': 3930, 'apologized': 204, 'attacked': 287, 'reckless': 3787, 'responsible': 3923, 'death': 1186, 'cia': 820, 'retired': 3935, 'blast': 501, 'amateur': 148, 'navy': 3104, 'sailor': 4054, 'legislation': 2688, 'seth': 4201, 'macfarlane': 2801, 'important': 2331, 'extortion': 1666, 'nuke': 3174, 'force': 1845, 'retreat': 3936, 'red': 3802, 'line': 2735, 'syria': 4606, 'deceptive': 1196, 'nobody': 3156, 'humiliating': 2264, 'shun': 4262, 'swanky': 4592, 'putin': 3688, 'western': 5114, 'either': 1497, 'talking': 4626, 'finally': 1777, 'kind': 2571, 'closed': 869, 'coordinate': 1033, 'russia': 4040, 'sanction': 4065, 'find': 1781, 'least': 2670, 'satan': 4077, 'club': 875, 'allowed': 135, 'district': 1376, 'next': 3138, 'muhammad': 3067, 'ali': 120, 'sent': 4180, 'wife': 5139, 'british': 606, 'medic': 2904, 'radio': 3720, 'husband': 2278, 'processed': 3605, 'stuff': 4523, 'phone': 3424, 'men': 2924, 'push': 3684, 'child': 799, 'chant': 771, 'warning': 5069, 'trumpcare': 4836, 'na': 3086, 'hey': 2180, 'goodbye': 1997, 'billionaire': 476, 'mark': 2861, 'cuban': 1121, 'gone': 1995, 'batsh': 396, 'anniversary': 181, 'bragging': 574, 'attacking': 288, 'insulting': 2398, 'ally': 138, 'livid': 2747, 'kellyanne': 2546, 'conway': 1027, 'backlash': 333, 'entire': 1562, 'team': 4649, 'chaos': 773, 'lawlessness': 2649, 'ignored': 2304, 'misleading': 2983, 'mainstream': 2820, 'false': 1709, 'narrative': 3096, 'elector': 1502, 'steal': 4471, 'gon': 1994, 'democracy': 1247, 'exposing': 1661, 'officer': 3215, 'oregon': 3258, 'politely': 3490, 'cliven': 865, 'bundy': 642, 'lunatic': 2789, 'picture': 3437, 'emerging': 1527, 'everyone': 1610, 'known': 2587, 'grew': 2032, 'teach': 4647, 'jerk': 2482, 'truly': 4834, 'dark': 1167, 'skin': 4307, 'association': 279, 'research': 3902, 'single': 4289, 'federal': 1742, 'bureaucrat': 646, 'opened': 3235, 'door': 1406, 'foreigner': 1849, 'anchor': 167, 'shepard': 4234, 'smith': 4342, 'come': 910, 'dana': 1157, 'loesch': 2757, 'washington': 5077, 'snapping': 4349, 'tillerson': 4734, 'note': 3166, 'confirmation': 975, 'hearing': 2155, 'wapo': 5061, 'showed': 4257, 'whole': 5130, 'still': 4487, 'secretly': 4151, 'paid': 3311, 'ransom': 3747, 'bragged': 573, 'diplomatic': 1325, 'breakthrough': 587, 'kim': 2568, 'jong': 2509, 'basically': 389, 'person': 3405, 'cupp': 1128, 'feel': 1746, 'memory': 2922, 'pizza': 3453, 'spend': 4408, 'donation': 1401, 'received': 3783, 'shut': 4263, 'cloaked': 866, 'conspiracy': 998, 'overview': 3298, 'jfk': 2492, 'file': 1768, 'reopens': 3871, 'coup': 1062, 'tat': 4643, 'cold': 894, 'era': 1578, 'loving': 2783, 'calling': 681, 'handle': 2099, 'mexico': 2939, 'solved': 4369, 'pastor': 3356, 'cheered': 786, 'killing': 2567, 'pulse': 3672, 'molestation': 3018, 'texas': 4688, 'driving': 1436, 'pickup': 3435, 'truck': 4831, 'vile': 5011, 'unrelated': 4938, 'offense': 3210, 'last': 2625, 'holdout': 2210, 'declare': 1202, 'government': 2007, 'liberty': 2712, 'clive': 864, 'malheur': 2831, 'wildlife': 5142, 'refuge': 3811, 'reverend': 3946, 'franklin': 1877, 'arrives': 248, 'scene': 4105, 'standoff': 4456, 'feed': 1745, 'slow': 4328, 'motion': 3051, 'lavoy': 2645, 'finicum': 1784, 'shooting': 4248, 'michele': 2943, 'bachmann': 327, 'punishing': 3678, 'brussels': 623, 'considering': 996, 'replacing': 3880, 'reince': 3831, 'priebus': 3578, 'ten': 4668, 'undercover': 4893, 'welcoming': 5109, 'neighborhood': 3117, 'mosque': 3048, 'poll': 3497, 'majority': 2823, 'unconstitutional': 4891, 'executive': 1631, 'kneed': 2580, 'anger': 173, 'remark': 3854, 'disrespecting': 1372, 'immediately': 2319, 'coach': 882, 'six': 4299, 'curse': 1137, 'subway': 4537, 'rider': 3966, 'explode': 1653, 'crime': 1089, 'higher': 2187, 'open': 3234, 'transparent': 4802, 'action': 43, 'send': 4176, 'animal': 178, 'gitmo': 1967, 'starting': 4462, 'process': 3604, 'rid': 3964, 'chuck': 818, 'diversity': 1380, 'lottery': 2778, 'nyc': 3182, 'hello': 2169, 'neighbor': 3116, 'clooney': 867, 'begged': 420, 'border': 554, 'erected': 1580, 'yard': 5204, 'wish': 5158, 'south': 4388, 'civil': 830, 'finding': 1782, 'tennessee': 4670, 'foolish': 1840, 'travel': 4805, 'unfounded': 4909, 'moral': 3041, 'judgment': 2515, 'rowe': 4021, 'nationalist': 3101, 'buh': 632, 'bye': 668, 'glenn': 1974, 'beck': 411, 'final': 1775, 'coffin': 890, 'mayor': 2884, 'de': 1177, 'blasio': 500, 'putting': 3689, 'safety': 4052, 'okay': 3223, 'protect': 3643, 'drunk': 1444, 'driver': 1435, 'tried': 4821, 'claw': 849, 'refuse': 3815, 'resign': 3908, 'leak': 2662, 'ground': 2041, 'pulp': 3671, 'crush': 1112, 'apologizes': 205, 'raped': 3752, 'sociopath': 4361, 'method': 2937, 'predicted': 3545, 'every': 1608, 'modern': 3011, 'screwed': 4129, 'fire': 1788, 'acting': 42, 'attorney': 295, 'sally': 4058, 'yates': 5205, 'begging': 421, 'approve': 224, 'scotus': 4119, 'pick': 3434, 'charlottesville': 781, 'kkk': 2576, 'endorsed': 1546, 'flow': 1830, 'citizen': 827, 'devise': 1305, 'controversial': 1019, 'scheme': 4106, 'soar': 4355, 'michigan': 2945, 'cake': 676, 'international': 2411, 'company': 938, 'luring': 2792, 'illegals': 2311, 'buy': 665, 'meat': 2896, 'pas': 3348, 'popcorn': 3505, 'incensed': 2340, 'biden': 467, 'gold': 1989, 'star': 4457, 'forced': 1846, 'cancel': 694, 'canada': 692, 'privilege': 3593, 'reviewed': 3950, 'expose': 1659, 'phony': 3425, 'went': 5112, 'low': 2784, 'blm': 511, 'dem': 1242, 'hang': 2105, 'hating': 2142, 'art': 252, 'work': 5176, 'capitol': 702, 'building': 634, 'crushed': 1113, 'living': 2748, 'sold': 4363, 'lung': 2791, 'advise': 69, 'admin': 58, 'healthy': 2152, 'birth': 482, 'con': 953, 'stole': 4493, 'potter': 3529, 'sympathy': 4604, 'plow': 3477, 'wall': 5055, 'texan': 4687, 'notice': 3168, 'sell': 4170, 'land': 2616, 'taken': 4619, 'rogue': 4004, 'cowardly': 1073, 'dangerous': 1162, 'volunteer': 5032, 'creepy': 1087, 'loyalty': 2786, 'pledge': 3474, 'totalitarian': 4768, 'asian': 259, 'turn': 4855, 'table': 4611, 'racial': 3715, 'sununu': 4559, 'bother': 561, 'hiring': 2199, 'blatantly': 505, 'biased': 464, 'molester': 3019, 'jesse': 2486, 'jackson': 2460, 'damned': 1154, 'corruption': 1048, 'nbc': 3106, 'beating': 406, 'humiliated': 2262, 'tv': 4861, 'display': 1366, 'incompetence': 2348, 'brutalized': 625, 'lawsuit': 2652, 'city': 829, 'jose': 2510, 'forward': 1863, 'slapped': 4317, 'mississippi': 2990, 'digustingly': 1320, 'bigoted': 471, 'iraqi': 2434, 'pm': 3480, 'rebuff': 3777, 'decree': 1207, 'shia': 4236, 'militia': 2962, 'country': 1060, 'sara': 4072, 'carter': 723, 'gem': 1939, 'evidence': 1614, 'collusion': 903, 'hacking': 2081, 'heckle': 2163, 'podesta': 3482, 'evan': 1602, 'mcmullin': 2892, 'ball': 352, 'contributor': 1016, 'mention': 2928, 'slush': 4331, 'turned': 4857, 'accepting': 19, 'bruce': 619, 'jenner': 2479, 'came': 686, 'cancer': 696, 'conflict': 979, 'made': 2807, 'possible': 3518, 'jail': 2462, 'disrupting': 1374, 'begs': 423, 'press': 3562, 'conference': 972, 'please': 3473, 'box': 566, 'bomb': 539, 'rogan': 4002, 'tweeted': 4863, 'ck': 832, 'boycotting': 569, 'steve': 4483, 'movie': 3059, 'orrin': 3267, 'hatch': 2137, 'dems': 1252, 'posturing': 3525, 'idiot': 2297, 'ep': 1567, 'patrick': 3361, 'madness': 2808, 'guest': 2056, 'robert': 3995, 'parry': 3341, 'stopped': 4499, 'huge': 2255, 'riot': 3975, 'apartment': 201, 'punished': 3677, 'telling': 4665, 'radical': 3719, 'tearing': 4653, 'monument': 3035, 'orchestrated': 3255, 'hack': 2078, 'stonewalling': 4497, 'payment': 3370, 'legal': 2682, 'blogger': 518, 'whine': 5119, 'mommy': 3022, 'critic': 1094, 'manager': 2840, 'electoral': 1503, 'system': 4608, 'pin': 3446, 'speech': 4404, 'kidnapped': 2563, 'killed': 2565, 'voted': 5035, 'uber': 4870, 'multiple': 3071, 'include': 2342, 'transgender': 4798, 'curriculum': 1136, 'gender': 1941, 'sunni': 4558, 'represent': 3885, 'value': 4976, 'stunned': 4526, 'green': 2028, 'beret': 442, 'widow': 5137, 'scary': 4100, 'excuse': 1628, 'hundred': 2266, 'storm': 4502, 'citizenship': 828, 'wtf': 5196, 'paying': 3368, 'leaked': 2663, 'document': 1389, 'affect': 76, 'outcome': 3278, 'around': 242, 'weird': 5107, 'yankovic': 5203, 'relives': 3847, 'third': 4706, 'compare': 939, 'heroic': 2177, 'track': 4784, 'violently': 5016, 'jewish': 2491, 'yes': 5210, 'santorum': 4071, 'google': 1998, 'despite': 1285, 'frothy': 1893, 'definition': 1226, 'dumbest': 1455, 'totally': 4769, 'bristol': 603, 'palin': 3317, 'graduate': 2014, 'harvard': 2130, 'roasting': 3991, 'bathroom': 395, 'set': 4199, 'carolina': 717, 'mode': 3006, 'wake': 5051, 'minnesota': 2975, 'speak': 4398, 'caucus': 736, 'brutally': 626, 'toronto': 4764, 'imam': 2317, 'implement': 2328, 'sharia': 4227, 'broke': 611, 'list': 2739, 'entering': 1559, 'treated': 4809, 'hitler': 2206, 'describes': 1277, 'receiving': 3785, 'code': 888, 'answer': 189, 'inciting': 2341, 'following': 1836, 'daca': 1146, 'done': 1402, 'jeff': 2477, 'session': 4198, 'explain': 1648, 'harmed': 2123, 'surprise': 4573, 'rated': 3758, 'targeted': 4640, 'equal': 1572, 'amendment': 154, 'expected': 1640, 'cuba': 1120, 'sponsor': 4422, 'issue': 2452, 'boy': 567, 'scout': 4120, 'love': 2781, 'jamboree': 2465, 'jeanine': 2473, 'pirro': 3449, 'hypocrisy': 2281, 'opening': 3237, 'deported': 1269, 'belonged': 435, 'brutal': 624, 'releasing': 3841, 'wanted': 5059, 'trumpchicken': 4837, 'trending': 4813, 'rioter': 3976, 'sore': 4380, 'loser': 2772, 'gathered': 1933, 'tim': 4736, 'tebow': 4654, 'effort': 1491, 'ignites': 2301, 'rumor': 4034, 'brace': 572, 'mistrial': 2993, 'declared': 1203, 'freddie': 1881, 'gray': 2026, 'freshman': 1887, 'orientation': 3264, 'math': 2877, 'basketball': 391, 'insanity': 2389, 'eviscerates': 1616, 'rabid': 3712, 'accusation': 30, 'past': 3355, 'crazed': 1080, 'camera': 687, 'leg': 2681, 'walmart': 5057, 'tomato': 4753, 'ambassador': 151, 'samantha': 4062, 'unmasked': 4931, 'associate': 278, 'episode': 1571, 'sunday': 4557, 'wire': 5154, 'hesher': 2178, 'funk': 1913, 'oul': 3275, 'iraq': 2433, 'actress': 48, 'rose': 4015, 'mcgowan': 2889, 'enablers': 1535, 'op': 3233, 'ed': 1484, 'france': 1873, 'interior': 2409, 'minister': 2973, 'marksman': 2863, 'shouting': 4255, 'allahu': 127, 'akbar': 111, 'female': 1751, 'butcher': 663, 'knife': 2584, 'ambition': 152, 'dog': 1392, 'cosmopolitan': 1049, 'bias': 463, 'liar': 2707, 'air': 104, 'outlet': 3281, 'fakenews': 1704, 'mcmaster': 2891, 'piece': 3438, 'whyimnotvotingforhillary': 5134, 'vicente': 5000, 'cking': 834, 'convince': 1025, 'promise': 3620, 'exclusive': 1627, 'delegate': 1231, 'fled': 1814, 'boiler': 535, 'room': 4013, 'downtown': 1413, 'loss': 2775, 'arizona': 233, 'unfair': 4906, 'unveils': 4943, 'despicable': 1284, 'hawaiian': 2145, 'hammered': 2094, 'negative': 3112, 'banning': 370, 'rule': 4030, 'religious': 3846, 'freedom': 1884, 'memorial': 2921, 'alan': 114, 'dershowitz': 1275, 'ruling': 4032, 'issued': 2453, 'upheld': 4948, 'administration': 59, 'aim': 101, 'unlike': 4927, 'broken': 612, 'iowa': 2429, 'toll': 4751, 'community': 936, 'cry': 1116, 'milwaukee': 2966, 'ago': 92, 'brave': 579, 'grab': 2010, 'microphone': 2946, 'climate': 860, 'awful': 319, 'maxine': 2882, 'sure': 4568, 'poor': 3503, 'branded': 577, 'chickensh': 796, 'bolt': 538, 'briefing': 596, 'tea': 4646, 'handed': 2098, 'reverse': 3948, 'jake': 2464, 'tapper': 4637, 'denies': 1255, 'mass': 2870, 'happened': 2111, 'credit': 1086, 'sauce': 4080, 'withdraws': 5165, 'theft': 4699, 'deplorable': 1266, 'example': 1621, 'unacknowledged': 4882, 'project': 3617, 'budget': 629, 'industrial': 2364, 'complex': 947, 'libs': 2713, 'nut': 3179, 'couch': 1051, 'oval': 3287, 'probably': 3596, 'forgot': 1854, 'pic': 3433, 'asap': 255, 'biggest': 470, 'ups': 4953, 'director': 1330, 'firing': 1795, 'long': 2761, 'overdue': 3290, 'church': 819, 'magic': 2814, 'takei': 4618, 'woodshed': 5173, 'colluding': 902, 'ky': 2604, 'speaker': 4399, 'crushing': 1114, 'defeat': 1215, 'pull': 3669, 'remember': 3856, 'funny': 1915, 'hero': 2176, 'peace': 3374, 'prize': 3594, 'arm': 235, 'since': 4286, 'warns': 5070, 'holiday': 2212, 'disguise': 1355, 'kennedy': 2547, 'torch': 4762, 'screwing': 4130, 'income': 2346, 'turncoat': 4856, 'rank': 3743, 'stolen': 4494, 'mega': 2911, 'donor': 1405, 'ditch': 1378, 'scathing': 4101, 'dumb': 1452, 'as': 254, 'detroit': 1298, 'squatting': 4435, 'squatter': 4434, 'loudly': 2779, 'realize': 3772, 'drag': 1418, 'queen': 3698, 'interviewing': 2417, 'minion': 2972, 'julian': 2517, 'assange': 266, 'exploit': 1654, 'raise': 3726, 'levin': 2702, 'planted': 3463, 'seed': 4157, 'iii': 2307, 'eye': 1677, 'latino': 2632, 'held': 2165, 'mirror': 2979, 'becomes': 413, 'villian': 5012, 'created': 1083, 'squad': 4433, 'offended': 3208, 'faith': 1702, 'politico': 3495, 'suggests': 4548, 'remorse': 3862, 'malcolm': 2829, 'nance': 3092, 'wipe': 5153, 'floor': 1827, 'overtime': 3297, 'immigration': 2321, 'roast': 3989, 'throwing': 4720, 'snl': 4351, 'fueled': 1901, 'manhood': 2844, 'fails': 1695, 'miserably': 2981, 'adviser': 70, 'severs': 4208, 'tie': 4729, 'timeless': 4738, 'thanksgiving': 4698, 'address': 56, 'ronald': 4011, 'reagan': 3769, 'measure': 2895, 'gratitude': 2023, 'rededicate': 3803, 'preservation': 3557, 'free': 1882, 'congressional': 988, 'stuns': 4528, 'detractor': 1297, 'stock': 4491, 'market': 2862, 'obliterates': 3192, 'biker': 473, 'car': 706, 'purpose': 3683, 'escalates': 1586, 'masturbating': 2874, 'defecating': 1217, 'shower': 4258, 'locker': 2755, 'crackdown': 1076, 'violate': 5013, 'progressive': 3615, 'losing': 2774, 'stab': 4441, 'german': 1951, 'extremist': 1675, 'folk': 1834, 'protecting': 3645, 'concentrated': 957, 'satanic': 4078, 'kushner': 2602, 'asset': 273, 'disclosure': 1343, 'item': 2455, 'discovered': 1345, 'stirred': 4490, 'fully': 1904, 'scientist': 4112, 'harvesting': 2132, 'organ': 3259, 'creating': 1084, 'embryo': 1525, 'loose': 2767, 'dared': 1165, 'mooch': 3036, 'welcome': 5108, 'airhead': 106, 'stuffed': 4524, 'armadillo': 236, 'disproves': 1367, 'litmus': 2744, 'test': 4682, 'diva': 1379, 'beyonce': 460, 'easter': 1475, 'hunt': 2272, 'playboy': 3467, 'bunny': 644, 'style': 4530, 'attention': 293, 'starved': 4463, 'gas': 1930, 'bag': 340, 'sheila': 4232, 'lee': 2677, 'kneel': 2581, 'card': 708, 'eric': 1581, 'garner': 1928, 'backing': 332, 'strategy': 4507, 'toddler': 4747, 'standby': 4454, 'passenger': 3352, 'linda': 2733, 'sarsour': 4074, 'considers': 997, 'self': 4168, 'righteous': 3970, 'save': 4082, 'fish': 1798, 'fisherman': 1799, 'harassing': 2117, 'voldemort': 5031, 'perfect': 3394, 'multi': 3070, 'pharma': 3418, 'popular': 3507, 'dr': 1415, 'drew': 1430, 'viewer': 5009, 'gravely': 2025, 'concerned': 959, 'relationship': 3836, 'lead': 2658, 'scandal': 4094, 'moderator': 3010, 'appointing': 218, 'textbook': 4690, 'common': 931, 'core': 1036, 'grade': 2012, 'socialist': 4359, 'millennial': 2963, 'magnet': 2815, 'reminds': 3861, 'tapping': 4638, 'rival': 3983, 'sec': 4145, 'bashing': 387, 'defending': 1221, 'local': 2751, 'passing': 3353, 'impeach': 2325, 'survivor': 4581, 'threw': 4717, 'inaugural': 2338, 'tradition': 4787, 'window': 5149, 'fishy': 1800, 'hour': 2243, 'gift': 1960, 'uranium': 4955, 'shipment': 4239, 'develops': 1302, 'missile': 2987, 'spent': 4410, 'searching': 4141, 'cash': 726, 'chelsea': 789, 'paul': 3364, 'ryan': 4043, 'wildly': 5143, 'unpopular': 4933, 'uncensored': 4888, 'elite': 1509, 'total': 4767, 'nine': 3151, 'reveal': 3942, 'easing': 1473, 'end': 1541, 'nancy': 3093, 'pelosi': 3380, 'food': 1838, 'senior': 4178, 'shaquille': 4225, 'neal': 3107, 'earth': 1470, 'flat': 1811, 'guzzling': 2074, 'plane': 3460, 'sightseeing': 4275, 'global': 1976, 'warming': 5064, 'heritage': 2175, 'foundation': 1866, 'dc': 1176, 'shutting': 4266, 'employee': 1534, 'zuckerberg': 5235, 'responsibility': 3922, 'concealed': 954, 'permit': 3401, 'beef': 417, 'jerky': 2483, 'chew': 792, 'direct': 1327, 'appeal': 211, 'nevada': 3130, 'saturday': 4079, 'critical': 1095, 'speaks': 4400, 'controversy': 1020, 'panicking': 3323, 'introduce': 2419, 'probe': 3598, 'pissed': 3450, 'maine': 2819, 'poke': 3486, 'beautiful': 408, 'gary': 1929, 'amnesty': 160, 'tpp': 4783, 'operative': 3240, 'vp': 5039, 'ranting': 3749, 'accidentally': 23, 'claimed': 837, 'unless': 4925, 'scrooge': 4132, 'waiting': 5049, 'santa': 4069, 'exist': 1636, 'desegregates': 1279, 'assembly': 272, 'redneck': 3804, 'bath': 394, 'salt': 4059, 'dept': 1271, 'grant': 2020, 'immunity': 2323, 'staffer': 4444, 'mail': 2817, 'server': 4194, 'future': 1917, 'bless': 507, 'whoever': 5129, 'photoshopping': 3428, 'onto': 3231, 'sellout': 4172, 'buck': 627, 'night': 3149, 'making': 2826, 'fun': 1906, 'assaulting': 271, 'deep': 1210, 'wiretapping': 5156, 'true': 4833, 'steel': 4473, 'furious': 1916, 'destroying': 1289, 'dedicated': 1208, 'krugman': 2596, 'share': 4226, 'damning': 1155, 'publication': 3663, 'urge': 4957, 'protesting': 3649, 'infamous': 2366, 'romanian': 4009, 'hacker': 2080, 'easy': 1477, 'klan': 2577, 'endorsement': 1547, 'generates': 1943, 'newspaper': 3136, 'rock': 3999, 'deadbeat': 1179, 'almighty': 139, 'strength': 4510, 'lost': 2776, 'king': 2572, 'mi': 2940, 'concert': 960, 'newt': 3137, 'gingrich': 1964, 'influence': 2369, 'fitting': 1803, 'communist': 935, 'jeep': 2476, 'carrying': 721, 'castro': 729, 'ash': 257, 'pushed': 3685, 'terrified': 4675, 'happening': 2112, 'potential': 3527, 'sensitive': 4179, 'information': 2374, 'stupid': 4529, 'highly': 2190, 'anticipated': 193, 'thanks': 4697, 'inside': 2390, 'client': 859, 'coverup': 1071, 'potentially': 3528, 'deception': 1195, 'glitch': 1975, 'stephen': 4481, 'colbert': 893, 'vulgar': 5041, 'even': 1605, 'firecolbert': 1790, 'affords': 80, 'mansion': 2848, 'confirmed': 976, 'trick': 4819, 'obstruct': 3200, 'create': 1082, 'step': 4479, 'privatizing': 3592, 'nypd': 3183, 'threaten': 4712, 'tase': 4642, 'walking': 5054, 'fill': 1771, 'leadership': 2660, 'abandoned': 1, 'parade': 3329, 'ruined': 4029, 'brownface': 618, 'coal': 883, 'miner': 2969, 'cheer': 785, 'mine': 2968, 'debating': 1189, 'store': 4501, 'incoming': 2347, 'deputy': 1272, 'reopening': 3870, 'lobbying': 2750, 'legally': 2686, 'fly': 1831, 'luxurious': 2795, 'dropped': 1440, 'hear': 2153, 'criticize': 1098, 'permanently': 3400, 'christie': 814, 'ballistic': 354, 'selfish': 4169, 'dotard': 1409, 'effect': 1489, 'robinson': 3997, 'basil': 390, 'valentine': 4974, 'legend': 2687, 'bobby': 530, 'knight': 2585, 'felt': 1750, 'slave': 4320, 'option': 3251, 'fainting': 1697, 'spell': 4407, 'odor': 3207, 'failure': 1696, 'youth': 5218, 'pimp': 3444, 'dan': 1156, 'bongino': 545, 'kellog': 2544, 'backfire': 330, 'spectacularly': 4403, 'advertiser': 67, 'flee': 1815, 'em': 1513, 'lefty': 2680, 'gallery': 1921, 'narrated': 3095, 'torture': 4766, 'scalping': 4091, 'mentally': 2927, 'disabled': 1333, 'sentence': 4181, 'teacher': 4648, 'developing': 1300, 'feature': 1739, 'promote': 3623, 'handpicked': 2102, 'reminder': 3859, 'elephant': 1507, 'zoo': 5233, 'author': 305, 'appointed': 217, 'clear': 854, 'limbo': 2730, 'airport': 108, 'due': 1449, 'previously': 3572, 'comply': 948, 'record': 3793, 'manipulated': 2845, 'sanctuary': 4066, 'bee': 416, 'evangelicals': 1603, 'obsessing': 3196, 'defense': 1223, 'wait': 5048, 'enforcement': 1553, 'agency': 89, 'passed': 3351, 'uniformed': 4914, 'champ': 765, 'bust': 660, 'wh': 5116, 'snowflake': 4353, 'meltdown': 2917, 'spill': 4414, 'bean': 403, 'saudi': 4081, 'fortune': 1861, 'donates': 1400, 'yale': 5201, 'center': 753, 'squeaky': 4436, 'poster': 3522, 'buried': 648, 'cointel': 891, 'fascist': 1726, 'personality': 3406, 'gangsta': 1924, 'shakedown': 4218, 'giant': 1957, 'mortgage': 3046, 'quicken': 3703, 'loan': 2749, 'stand': 4452, 'looking': 2765, 'recount': 3795, 'nullify': 3175, 'wi': 5135, 'pa': 3304, 'scalia': 4089, 'pressured': 3565, 'glove': 1982, 'domestic': 1396, 'vicious': 5001, 'donna': 1403, 'brazile': 582, 'karl': 2529, 'rove': 4019, 'slavery': 4321, 'instead': 2395, 'blaming': 498, 'hole': 2211, 'christiandom': 812, 'revealed': 3943, 'chilcot': 798, 'spokesperson': 4420, 'upset': 4954, 'lack': 2610, 'pure': 3681, 'breed': 589, 'crybaby': 1117, 'katie': 2534, 'danforth': 1160, 'killer': 2566, 'assistant': 277, 'id': 2291, 'religion': 3845, 'bern': 447, 'walked': 5053, 'eve': 1604, 'phil': 3421, 'robertson': 3996, 'pill': 3442, 'expensive': 1644, 'india': 2356, 'agenda': 90, 'labor': 2608, 'prostitution': 3642, 'audio': 297, 'kerry': 2552, 'discussing': 1351, 'connection': 991, 'discus': 1349, 'whoopi': 5131, 'goldberg': 1990, 'surprised': 4574, 'warmongering': 5065, 'kimberly': 2569, 'guilfoyle': 2059, 'serious': 4192, 'surround': 4578, 'rachel': 3714, 'maddow': 2806, 'nra': 3170, 'commercial': 922, 'melt': 2916, 'brain': 575, 'zakharova': 5223, 'pompeo': 3501, 'fiction': 1759, 'dy': 1465, 'hotel': 2241, 'blood': 520, 'boil': 534, 'melania': 2914, 'wear': 5093, 'lbd': 2656, 'reception': 3786, 'smirk': 4341, 'consequence': 993, 'nj': 3153, 'resource': 3916, 'shall': 4220, 'assist': 275, 'baseball': 384, 'watermelon': 5085, 'eatin': 1479, 'baboon': 325, 'computer': 952, 'worldwide': 5181, 'caused': 739, 'assad': 265, 'also': 144, 'ugly': 4873, 'confronts': 981, 'sympathizer': 4603, 'corner': 1040, 'congratulation': 986, 'played': 3468, 'convicted': 1024, 'felon': 1749, 'dinesh': 1321, 'souza': 4390, 'film': 1773, 'happy': 2113, 'grader': 2013, 'skill': 4306, 'light': 2724, 'joint': 2503, 'pot': 3526, 'legalization': 2683, 'silent': 4280, 'thanking': 4696, 'might': 2952, 'sidewalk': 4272, 'dealmaker': 1182, 'visited': 5025, 'brand': 576, 'mormon': 3042, 'fundamentalist': 1908, 'escaped': 1588, 'cult': 1123, 'prevent': 3570, 'extracting': 1668, 'berkeley': 444, 'allegedly': 130, 'expert': 1647, 'circuit': 822, 'politics': 3496, 'solid': 4366, 'actual': 49, 'kidding': 2562, 'decide': 1197, 'topless': 4761, 'eliminate': 1508, 'confusion': 984, 'yea': 5206, 'spouting': 4427, 'gim': 1963, 'sheriff': 4235, 'bullied': 638, 'immigrant': 2320, 'apply': 215, 'lawbreaker': 2648, 'payback': 3367, 'paris': 3337, 'shocked': 4242, 'little': 2745, 'understand': 4899, 'bloodbath': 521, 'replacement': 3879, 'physically': 3431, 'independent': 2355, 'hq': 2250, 'institutional': 2396, 'believing': 434, 'obamatrade': 3190, 'later': 2628, 'deranged': 1273, 'cross': 1104, 'targeting': 4641, 'barron': 381, 'mockingbird': 3005, 'declassified': 1205, 'doc': 1387, 'depict': 1264, 'deeper': 1212, 'link': 2736, 'maury': 2881, 'cked': 833, 'caption': 704, 'broadcast': 610, 'mohammed': 3016, 'blasted': 502, 'anyone': 195, 'trust': 4843, 'prop': 3630, 'pollution': 3499, 'unrestricted': 4939, 'argument': 232, 'full': 1902, 'refund': 3814, 'nsa': 3171, 'warrantless': 5072, 'collection': 897, 'alinsky': 124, 'populist': 3510, 'movement': 3058, 'catching': 734, 'globalist': 1977, 'swiss': 4599, 'situation': 4298, 'scarier': 4099, 'promising': 3622, 'second': 4146, 'faced': 1687, 'admitting': 63, 'private': 3591, 'position': 3516, 'gush': 2070, 'monologue': 3029, 'undermine': 4895, 'current': 1135, 'refusing': 3817, 'visitor': 5026, 'log': 2758, 'middle': 2949, 'organizes': 3263, 'map': 2852, 'headed': 2148, 'landslide': 2617, 'comeback': 911, 'trolled': 4827, 'uproar': 4952, 'trey': 4815, 'gowdy': 2009, 'guilty': 2061, 'drink': 1433, 'poison': 3485, 'crappier': 1077, 'lgbt': 2705, 'discrimination': 1348, 'martial': 2867, 'whistleblowing': 5126, 'failed': 1694, 'hostage': 2238, 'rescue': 3899, 'quietly': 3706, 'kicked': 2559, 'stewart': 4484, 'omarosa': 3228, 'scrubbed': 4134, 'resurfaces': 3931, 'confiscated': 978, 'property': 3632, 'wwii': 5198, 'hung': 2267, 'haiti': 2087, 'dreadlock': 1425, 'tip': 4741, 'iceberg': 2287, 'replaced': 3878, 'representing': 3888, 'struggle': 4519, 'equality': 1573, 'admiral': 60, 'oversaw': 3294, 'bin': 478, 'laden': 2611, 'reaction': 3765, 'cubby': 1122, 'series': 4191, 'deplorables': 1267, 'monstrous': 3032, 'growing': 2045, 'stump': 4525, 'fool': 1839, 'shocker': 4243, 'overwhelmingly': 3300, 'sound': 4386, 'genius': 1945, 'sebastian': 4144, 'gorka': 2002, 'humiliates': 2263, 'pen': 3382, 'letter': 2699, 'explaining': 1651, 'exactly': 1619, 'footage': 1842, 'oakland': 3186, 'bullying': 640, 'openly': 3238, 'pentagon': 3389, 'request': 3894, 'denied': 1253, 'armed': 238, 'recruitment': 3800, 'hypocritical': 2283, 'alabama': 113, 'booted': 552, 'preacher': 3542, 'severely': 4207, 'tolerant': 4750, 'seattle': 4143, 'pride': 3577, 'vaccination': 4973, 'vaxxers': 4981, 'worst': 5184, 'sassy': 4076, 'switch': 4600, 'male': 2830, 'hairstyle': 2086, 'belonging': 436, 'culture': 1125, 'yikes': 5214, 'blue': 525, 'electronics': 1505, 'flight': 1820, 'east': 1474, 'affected': 77, 'ripped': 3979, 'london': 2760, 'absurdly': 13, 'abraham': 9, 'lincoln': 2732, 'banner': 369, 'dining': 1322, 'fearing': 1737, 'crossing': 1105, 'vu': 5040, 'matthew': 2879, 'richer': 3961, 'original': 3265, 'painting': 3313, 'sierra': 4274, 'sustainable': 4589, 'population': 3508, 'inner': 2384, 'circle': 821, 'desperately': 1283, 'reputation': 3893, 'discriminate': 1347, 'examiner': 1620, 'music': 3079, 'icon': 2289, 'gym': 2076, 'peterson': 3411, 'incredible': 2352, 'council': 1055, 'santilli': 4070, 'freed': 1883, 'plea': 3471, 'pact': 3308, 'cast': 728, 'shadow': 4215, 'trial': 4816, 'default': 1214, 'debt': 1191, 'print': 3586, 'theory': 4701, 'everything': 1611, 'rating': 3760, 'crasher': 1079, 'platform': 3465, 'dislike': 1359, 'warned': 5068, 'rich': 3960, 'murderer': 3076, 'abruptly': 11, 'ended': 1543, 'dominican': 1398, 'alec': 118, 'baldwin': 350, 'worse': 5183, 'shape': 4224, 'found': 1865, 'account': 26, 'confused': 982, 'afternoon': 86, 'term': 4672, 'limit': 2731, 'bewilder': 458, 'delusion': 1240, 'charity': 777, 'sickening': 4269, 'lecture': 2675, 'manufactured': 2849, 'exemption': 1632, 'helicopter': 2166, 'crash': 1078, 'arabia': 228, 'ranking': 3745, 'dozen': 1414, 'member': 2918, 'elementary': 1506, 'field': 1761, 'angel': 170, 'protected': 3644, 'pizzagate': 3454, 'whether': 5118, 'follow': 1835, 'mexican': 2938, 'giveaway': 1970, 'screen': 4125, 'unclassified': 4889, 'quid': 3705, 'quo': 3709, 'intent': 2405, 'todd': 4746, 'opposition': 3247, 'politically': 3492, 'petty': 3414, 'daily': 1148, 'sotu': 4383, 'ambush': 153, 'deliberate': 1234, 'prevented': 3571, 'massacre': 2872, 'listened': 2742, 'marine': 2860, 'ptsd': 3661, 'behavior': 427, 'blight': 509, 'lasvegas': 2626, 'correct': 1046, 'illustrate': 2313, 'diplomacy': 1323, 'hold': 2208, 'sit': 4295, 'lunch': 2790, 'fix': 1805, 'bigotry': 472, 'successfully': 4539, 'covering': 1070, 'fault': 1731, 'died': 1315, 'singer': 4288, 'kaya': 2535, 'jones': 2508, 'jason': 2471, 'aldean': 117, 'jill': 2494, 'stein': 4475, 'device': 1303, 'thousand': 4710, 'fairly': 1700, 'accurate': 29, 'cartoon': 724, 'harriet': 2126, 'tubman': 4848, 'drive': 1434, 'exterminating': 1665, 'ssy': 4439, 'zealand': 5225, 'prime': 3582, 'gate': 1931, 'unlimited': 4929, 'slash': 4318, 'dos': 1407, 'bogus': 533, 'cultural': 1124, 'intelligence': 2404, 'committee': 929, 'schiff': 4107, 'sorry': 4382, 'nothing': 3167, 'pummel': 3673, 'closely': 870, 'tied': 4730, 'watchdog': 5080, 'complying': 949, 'treaty': 4811, 'side': 4270, 'bloc': 513, 'follows': 1837, 'turkey': 4852, 'commie': 923, 'abandon': 0, 'aka': 110, 'wilhelm': 5145, 'touch': 4770, 'root': 4014, 'asst': 280, 'jim': 2495, 'danced': 1158, 'glad': 1972, 'bb': 400, 'surprising': 4575, 'announcement': 184, 'serve': 4193, 'sony': 4376, 'borat': 553, 'actor': 47, 'aid': 98, 'scarborough': 4096, 'sued': 4542, 'rat': 3757, 'stealing': 4472, 'meant': 2894, 'biological': 480, 'plumbing': 3479, 'match': 2875, 'abc': 2, 'shuts': 4265, 'allen': 131, 'standing': 4455, 'walk': 5052, 'commencement': 918, 'energy': 1552, 'secretary': 4149, 'stopping': 4500, 'marco': 2857, 'rubio': 4025, 'deciding': 1199, 'performance': 3397, 'chef': 788, 'inspector': 2391, 'investigate': 2421, 'pre': 3541, 'half': 2088, 'household': 2245, 'snatching': 4350, 'utah': 4969, 'rancher': 3739, 'giggle': 1961, 'nervously': 3123, 'met': 2934, 'prayed': 3539, 'park': 3338, 'takeoff': 4620, 'robotic': 3998, 'overly': 3292, 'scripted': 4131, 'smaller': 4335, 'small': 4334, 'insult': 2397, 'pandering': 3320, 'southern': 4389, 'accent': 17, 'memphis': 2923, 'dear': 1184, 'moron': 3045, 'seem': 4161, 'nato': 3103, 'educate': 1488, 'china': 802, 'ignorance': 2302, 'shop': 4249, 'target': 4639, 'trevor': 4814, 'noah': 3155, 'dropkick': 1439, 'jackass': 2459, 'brussel': 622, 'bombing': 541, 'hater': 2141, 'ramos': 3733, 'promotes': 3625, 'vigilante': 5010, 'dishonest': 1358, 'accountable': 28, 'arbitrary': 229, 'criterion': 1093, 'deny': 1260, 'lot': 2777, 'weekly': 5102, 'palm': 3318, 'beach': 402, 'qualify': 3696, 'otherwise': 3272, 'mayoral': 2885, 'disarm': 1337, 'unarmed': 4885, 'large': 2623, 'ran': 3737, 'stamp': 4450, 'ring': 3973, 'interrupt': 2414, 'accuse': 31, 'collapse': 896, 'dick': 1312, 'sends': 4177, 'seven': 4204, 'guardsman': 2051, 'resigned': 3910, 'biting': 489, 'stripper': 4516, 'whiner': 5120, 'wonderful': 5172, 'flynn': 1832, 'tape': 4635, 'infiltrate': 2368, 'disrupt': 1373, 'except': 1624, 'malia': 2833, 'rehash': 3826, 'rivalry': 3984, 'hysteria': 2284, 'recused': 3801, 'age': 88, 'transcript': 4796, 'gif': 1959, 'perfectly': 3395, 'sum': 4553, 'arresting': 245, 'prosecuting': 3637, 'militant': 2959, 'identity': 2296, 'stone': 4496, 'mountain': 3053, 'wonder': 5171, 'screaming': 4124, 'butt': 664, 'rioting': 3977, 'assistance': 276, 'unvetted': 4944, 'unserious': 4942, 'pathetic': 3359, 'analysis': 165, 'development': 1301, 'terrifyingly': 4676, 'tougher': 4772, 'mileage': 2957, 'pout': 3532, 'crow': 1107, 'emily': 1528, 'blunt': 526, 'dixie': 1385, 'chicked': 795, 'committed': 928, 'treason': 4807, 'mcafee': 2886, 'smartphones': 4338, 'bitcoin': 488, 'slain': 4312, 'seal': 4138, 'botched': 560, 'yemen': 5209, 'raid': 3722, 'ethiopian': 1593, 'monster': 3031, 'performing': 3398, 'clitorectomy': 863, 'scissors': 4113, 'irony': 2439, 'serving': 4196, 'redskin': 3805, 'supremacist': 4566, 'punched': 3675, 'mad': 2804, 'forcing': 1847, 'fruit': 1895, 'veggie': 4983, 'throat': 4718, 'mattis': 2880, 'fiery': 1762, 'korea': 2592, 'destruction': 1291, 'bat': 393, 'misspelled': 2991, 'budweiser': 630, 'fatal': 1729, 'bureau': 645, 'hiroshima': 2200, 'pearl': 3377, 'harbor': 2119, 'doctor': 1388, 'tear': 4651, 'apart': 200, 'division': 1383, 'plagiarizing': 3457, 'chanting': 772, 'lock': 2753, 'flashback': 1810, 'vacation': 4972, 'blister': 510, 'representation': 3886, 'construction': 1001, 'fl': 1807, 'scott': 4117, 'va': 4971, 'exasperated': 1622, 'anderson': 169, 'cooper': 1031, 'commentary': 920, 'opener': 3236, 'childishly': 800, 'breath': 588, 'lash': 2624, 'sacred': 4048, 'wtc': 5195, 'shout': 4254, 'tank': 4631, 'montel': 3033, 'publicly': 3665, 'oblivion': 3193, 'lately': 2627, 'homicide': 2219, 'mostly': 3049, 'criminal': 1091, 'jump': 2519, 'per': 3391, 'strategist': 4506, 'solution': 4368, 'settled': 4202, 'roasted': 3990, 'alive': 125, 'horrible': 2233, 'pedophile': 3379, 'milo': 2965, 'yiannopoulos': 5213, 'county': 1061, 'benefit': 439, 'scrub': 4133, 'delivered': 1236, 'lt': 2788, 'tony': 4757, 'shaffer': 4216, 'uncovered': 4892, 'scam': 4092, 'housing': 2247, 'bank': 363, 'continue': 1009, 'punish': 3676, 'wealthy': 5091, 'wanting': 5060, 'hawaii': 2144, 'cost': 1050, 'alone': 141, 'chick': 794, 'fil': 1767, 'persecution': 3403, 'launch': 2639, 'refugeeswelcome': 3813, 'anthony': 191, 'weiner': 5105, 'kinky': 2573, 'brunette': 621, 'saved': 4083, 'crack': 1075, 'testify': 4684, 'overdrive': 3289, 'clarke': 843, 'tenant': 4669, 'evicted': 1613, 'dire': 1326, 'cover': 1068, 'regarding': 3818, 'divisive': 1384, 'goper': 2000, 'receives': 3784, 'many': 2851, 'whining': 5121, 'convention': 1022, 'suffered': 4544, 'unelectable': 4904, 'simple': 4283, 'investigator': 2423, 'van': 4977, 'conversation': 1023, 'possibility': 3517, 'vicar': 4998, 'reach': 3762, 'exit': 1637, 'accord': 25, 'bannon': 371, 'pant': 3324, 'snap': 4348, 'football': 1843, 'identifies': 2294, 'anyonebuthillary': 196, 'wile': 5144, 'coyote': 1074, 'murdered': 3075, 'scrutiny': 4135, 'initiative': 2378, 'dumped': 1457, 'exxon': 1676, 'mobil': 3002, 'pop': 3504, 'profanity': 3610, 'pretty': 3569, 'smile': 4340, 'october': 3204, 'seizure': 4166, 'near': 3108, 'area': 230, 'incriminates': 2353, 'decided': 1198, 'demanded': 1244, 'bench': 438, 'disaster': 1338, 'urinate': 4960, 'scottish': 4118, 'guide': 2057, 'description': 1278, 'mumble': 3073, 'rainbow': 3725, 'dispute': 1368, 'townville': 4781, 'foot': 1841, 'soldier': 4364, 'rocket': 4000, 'launcher': 2640, 'thwarted': 4726, 'birther': 484, 'ginsburg': 1965, 'accuses': 34, 'initiating': 2377, 'wrecked': 5190, 'yelling': 5208, 'connected': 990, 'merkel': 2930, 'burka': 649, 'flooding': 1826, 'crosstalk': 1106, 'dumbed': 1454, 'heavily': 2161, 'rapper': 3755, 'fanboy': 1715, 'snoop': 4352, 'dogg': 1393, 'assassinate': 267, 'jade': 2461, 'helm': 2170, 'ranger': 3742, 'relay': 3838, 'train': 4792, 'newest': 3134, 'seeker': 4159, 'disagrees': 1335, 'yuge': 5221, 'unlikely': 4928, 'sc': 4088, 'traitor': 4794, 'rnc': 3986, 'everyday': 1609, 'writes': 5193, 'phenomenon': 3420, 'embarrass': 1517, 'caller': 680, 'span': 4394, 'outrage': 3283, 'indiegogo': 2360, 'robber': 3992, 'endorsing': 1549, 'christopher': 816, 'columbus': 909, 'guilt': 2060, 'economic': 1482, 'gawd': 1935, 'forever': 1850, 'bitter': 490, 'try': 4846, 'shame': 4221, 'osama': 3269, 'bodyguard': 532, 'winner': 5151, 'announced': 183, 'pulled': 3670, 'unpunished': 4935, 'dwayne': 1464, 'wade': 5044, 'cousin': 1067, 'african': 85, 'misogyny': 2984, 'traditionally': 4788, 'africa': 84, 'proud': 3650, 'kenyan': 2550, 'brother': 615, 'misplaced': 2985, 'dancing': 1159, 'ranch': 3738, 'defendant': 1220, 'wedding': 5097, 'attended': 290, 'class': 845, 'virginia': 5020, 'hodgkinson': 2207, 'devotee': 1307, 'spousal': 4426, 'eastern': 1476, 'harsher': 2129, 'rescuing': 3901, 'priority': 3587, 'meth': 2935, 'chat': 783, 'app': 208, 'wrath': 5188, 'med': 2898, 'stir': 4489, 'capture': 705, 'diabolical': 1310, 'federation': 1743, 'eyeball': 1678, 'fell': 1747, 'lap': 2622, 'gross': 2040, 'cave': 741, 'bottom': 564, 'personally': 3407, 'meddling': 2902, 'completely': 945, 'blew': 508, 'tallest': 4627, 'manhattan': 2843, 'promised': 3621, 'sick': 4268, 'crooked': 1103, 'blockbuster': 516, 'malik': 2834, 'ranked': 3744, 'bestseller': 453, 'nordstrom': 3163, 'tjmaxx': 4743, 'lemon': 2691, 'fearless': 1738, 'charleston': 779, 'funeral': 1912, 'damn': 1153, 'buzzfeed': 667, 'anywhere': 199, 'grave': 2024, 'danger': 1161, 'move': 3057, 'hampshire': 2096, 'stephanopoulos': 4480, 'sleeping': 4323, 'ignoring': 2306, 'threatening': 4714, 'funding': 1910, 'weapon': 5092, 'pose': 3515, 'drastically': 1422, 'ramp': 3734, 'tragedy': 4791, 'jonben': 2507, 'ramsey': 3736, 'hidden': 2183, 'blocking': 517, 'inundated': 2420, 'posted': 3521, 'zit': 5230, 'comedian': 912, 'kathy': 2532, 'griffin': 2034, 'venue': 4988, 'grow': 2044, 'embarrasses': 1518, 'learn': 2667, 'monica': 3026, 'pervert': 3408, 'tithing': 4742, 'journalist': 2511, 'funded': 1909, 'hide': 2184, 'gunman': 2068, 'caroline': 718, 'eyeing': 1681, 'bid': 466, 'lesson': 2696, 'renegade': 3865, 'warfare': 5063, 'drudge': 1441, 'beyonc': 459, 'urban': 4956, 'witch': 5162, 'huma': 2257, 'abedin': 6, 'icy': 2290, 'hug': 2254, 'terrorizes': 4680, 'leaving': 2672, 'ku': 2597, 'klux': 2578, 'robe': 3994, 'awkwardly': 321, 'angrily': 176, 'audience': 296, 'choose': 807, 'hope': 2230, 'row': 4020, 'nervous': 3122, 'tower': 4779, 'moscow': 3047, 'shamed': 4222, 'yet': 5212, 'woohoo': 5174, 'trumper': 4840, 'jumpin': 2520, 'commissioner': 925, 'hire': 2198, 'straight': 4505, 'heart': 2156, 'pres': 3555, 'leo': 2693, 'television': 4662, 'disgraceful': 1354, 'faraci': 1721, 'neocon': 3120, 'marching': 2856, 'trusted': 4844, 'apple': 214, 'product': 3608, 'thrown': 4721, 'rooftop': 4012, 'boston': 559, 'globe': 1979, 'neurosurgeon': 3128, 'prez': 3573, 'huffington': 2253, 'tree': 4812, 'trunk': 4842, 'coast': 885, 'potus': 3530, 'outfit': 3280, 'cause': 738, 'freak': 1879, 'demolished': 1250, 'criticism': 1097, 'hanukkah': 2109, 'vandalism': 4978, 'respect': 3917, 'dying': 1466, 'apologizing': 206, 'incoherent': 2345, 'inform': 2372, 'resigning': 3911, 'manufacturing': 2850, 'az': 324, 'constituent': 999, 'delivering': 1237, 'cooky': 1029, 'horror': 2235, 'gatecrash': 1932, 'cynical': 1143, 'ploy': 3478, 'asking': 263, 'extremely': 1673, 'heartless': 2157, 'rebuke': 3779, 'invite': 2424, 'xmas': 5200, 'sandy': 4068, 'hook': 2229, 'clapper': 839, 'debunks': 1192, 'hacked': 2079, 'meme': 2919, 'paper': 3327, 'suit': 4552, 'behalf': 424, 'pb': 3373, 'bloomberg': 522, 'hid': 2182, 'bury': 656, 'difference': 1316, 'whopper': 5132, 'begin': 422, 'withdraw': 5163, 'erupt': 1584, 'laughter': 2638, 'banquet': 372, 'japan': 2469, 'banking': 365, 'monopoly': 3030, 'nwa': 3180, 'niggaz': 3148, 'wit': 5161, 'attitude': 294, 'famous': 1712, 'rap': 3750, 'cahoot': 673, 'keeping': 2541, 'betrayal': 456, 'emailed': 1515, 'secretive': 4150, 'material': 2876, 'unsecured': 4941, 'indiana': 2358, 'several': 4205, 'usa': 4962, 'syrian': 4607, 'yesterday': 5211, 'disrespect': 1370, 'knee': 2579, 'rescued': 3900, 'harvey': 2133, 'remaking': 3853, 'unbearable': 4886, 'waging': 5047, 'libertarian': 2711, 'today': 4745, 'basic': 388, 'rustic': 4042, 'hometown': 2218, 'illustrates': 2314, 'embarrassingly': 1520, 'chemical': 790, 'sharing': 4228, 'space': 4392, 'likely': 2727, 'earned': 1469, 'smackdown': 4333, 'relentlessly': 3842, 'booed': 548, 'heckled': 2164, 'bleeding': 506, 'parent': 3334, 'dreamer': 1428, 'changed': 768, 'charitable': 776, 'hank': 2106, 'analogy': 164, 'wreck': 5189, 'globalists': 1978, 'spokeswoman': 4421, 'collision': 900, 'sitting': 4297, 'duck': 1447, 'peaceful': 3375, 'brick': 593, 'partisan': 3344, 'oversee': 3295, 'doe': 1391, 'crusade': 1111, 'brotherhood': 616, 'peddling': 3378, 'seldom': 4167, 'hat': 2136, 'ing': 2375, 'branko': 578, 'mali': 2832, 'fourth': 1869, 'firework': 1794, 'picnic': 3436, 'billy': 477, 'crystal': 1119, 'injects': 2379, 'jab': 2458, 'eulogy': 1596, 'curiously': 1133, 'boss': 558, 'admit': 61, 'scare': 4097, 'via': 4997, 'rec': 3780, 'naked': 3090, 'vice': 4999, 'mount': 3052, 'rushmore': 4039, 'mika': 2954, 'psycho': 3660, 'sixty': 4301, 'percent': 3392, 'hostile': 2239, 'kaine': 2527, 'unfit': 4908, 'blatant': 504, 'everywhere': 1612, 'diseased': 1353, 'ssn': 4438, 'passport': 3354, 'upon': 4951, 'arrival': 246, 'neil': 3118, 'gorsuch': 2003, 'beau': 407, 'married': 2865, 'nyu': 3185, 'apesh': 202, 'elect': 1499, 'terminates': 4673, 'knew': 2583, 'deficiency': 1224, 'beforehand': 418, 'baio': 346, 'dunk': 1459, 'barkley': 377, 'confederatestatues': 971, 'advice': 68, 'ruin': 4028, 'career': 710, 'accepts': 20, 'nomination': 3160, 'skit': 4308, 'drugging': 1443, 'raping': 3753, 'lesley': 2695, 'closet': 872, 'aware': 316, 'obstacle': 3199, 'counted': 1058, 'fuming': 1905, 'smoking': 4344, 'irs': 2443, 'editorial': 1487, 'based': 385, 'testing': 4686, 'guideline': 2058, 'deliver': 1235, 'reconquista': 3791, 'hint': 2197, 'crypt': 1118, 'keeper': 2540, 'body': 531, 'surveillance': 4579, 'uneducated': 4903, 'english': 1554, 'fleeing': 1818, 'hunting': 2273, 'badge': 339, 'enter': 1558, 'restricted': 3927, 'figure': 1766, 'bonnie': 546, 'clyde': 876, 'fairfax': 1699, 'board': 527, 'opt': 3249, 'innocent': 2386, 'proven': 3653, 'forfeiture': 1851, 'cherokee': 791, 'express': 1662, 'disgust': 1356, 'faking': 1705, 'native': 3102, 'prestigious': 3566, 'psychic': 3659, 'apparently': 210, 'predict': 3544, 'martin': 2868, 'luther': 2793, 'scorecard': 4115, 'carrier': 719, 'appalling': 209, 'hijack': 2191, 'announcing': 186, 'pardon': 3333, 'toughest': 4773, 'khizr': 2557, 'special': 4401, 'counsel': 1056, 'cornering': 1041, 'harney': 2124, 'trio': 4823, 'ballad': 353, 'nominates': 3158, 'merrick': 2931, 'garland': 1927, 'sasse': 4075, 'declaration': 1201, 'independence': 2354, 'crock': 1101, 'waaambulance': 5042, 'better': 457, 'buckle': 628, 'filibuster': 1769, 'gw': 2075, 'unity': 4919, 'unified': 4913, 'prayer': 3540, 'rand': 3740, 'somebody': 4372, 'spying': 4432, 'ouch': 3274, 'bargaining': 376, 'chip': 804, 'spoken': 4417, 'kate': 2531, 'steinle': 4477, 'lay': 2655, 'francisco': 1875, 'pier': 3439, 'bar': 373, 'seen': 4162, 'questioned': 3701, 'extravaganza': 1671, 'calm': 683, 'bash': 386, 'spending': 4409, 'backward': 335, 'sleezy': 4324, 'fabricating': 1683, 'colluded': 901, 'nevertrump': 3132, 'sexist': 4210, 'lewinsky': 2704, 'backfired': 331, 'casualty': 730, 'honduran': 2222, 'chaffetz': 759, 'weinstein': 5106, 'loretta': 2769, 'lynch': 2799, 'nugent': 3173, 'appears': 213, 'grope': 2037, 'spewing': 4411, 'irrelevant': 2442, 'tour': 4774, 'till': 4733, 'ticket': 4728, 'circus': 823, 'filmmaker': 1774, 'islamophobia': 2448, 'spoof': 4425, 'georgia': 1949, 'cyber': 1142, 'dhs': 1309, 'claiming': 838, 'firewall': 1793, 'considered': 995, 'corp': 1044, 'unannounced': 4884, 'enemy': 1550, 'repeat': 3875, 'exact': 1618, 'phrase': 3429, 'cow': 1072, 'lutheran': 2794, 'talentless': 4623, 'gigi': 1962, 'hadid': 2082, 'apology': 207, 'mocking': 3004, 'understands': 4901, 'sky': 4310, 'scramble': 4121, 'month': 3034, 'concern': 958, 'trolling': 4828, 'rihanna': 3972, 'sings': 4290, 'four': 1868, 'rather': 3759, 'resort': 3915, 'hurling': 2275, 'slur': 4330, 'moderate': 3009, 'prefer': 3547, 'christ': 810, 'minority': 2977, 'wolf': 5169, 'suspect': 4583, 'probed': 3599, 'leading': 2661, 'bigger': 469, 'spirit': 4415, 'cancelled': 695, 'screening': 4126, 'counter': 1059, 'celebrate': 747, 'yuuge': 5222, 'search': 4140, 'always': 147, 'roger': 4003, 'ailes': 100, 'bos': 556, 'physicist': 3432, 'carbon': 707, 'harm': 2122, 'bam': 358, 'illusion': 2312, 'fantasy': 1719, 'pretend': 3567, 'neo': 3119, 'kek': 2543, 'pizzatown': 3455, 'familiar': 1710, 'took': 4758, 'bonfire': 544, 'rail': 3723, 'asshat': 274, 'transparency': 4801, 'petulant': 3415, 'birtherism': 485, 'simpson': 4284, 'parody': 3340, 'stomp': 4495, 'blackmail': 496, 'schwarzenegger': 4110, 'spontaneous': 4424, 'medal': 2899, 'valor': 4975, 'honored': 2227, 'practice': 3536, 'foul': 1864, 'mouthed': 3056, 'whack': 5117, 'trumpism': 4841, 'aside': 260, 'sixth': 4300, 'hw': 2280, 'groped': 2038, 'embrace': 1524, 'colonization': 907, 'smarter': 4337, 'bullsh': 639, 'cane': 699, 'mile': 2956, 'road': 3987, 'encourages': 1538, 'veryfakenews': 4989, 'involved': 2427, 'fleeced': 1817, 'ucla': 4871, 'fee': 1744, 'fall': 1706, 'injury': 2383, 'pathetically': 3360, 'frothing': 1892, 'christianity': 813, 'buying': 666, 'blasting': 503, 'duke': 1451, 'payout': 3372, 'ice': 2286, 'manafort': 2838, 'francis': 1874, 'burst': 654, 'coughing': 1052, 'tiny': 4740, 'ft': 1898, 'pierce': 3440, 'delusional': 1241, 'react': 3764, 'longer': 2762, 'marshall': 2866, 'hannan': 2107, 'rude': 4026, 'discovery': 1346, 'model': 3007, 'activity': 46, 'fabulous': 1684, 'birthday': 483, 'argentinian': 231, 'whistle': 5124, 'parental': 3335, 'consent': 992, 'tanning': 4632, 'bed': 415, 'gutted': 2072, 'maintains': 2821, 'arsenal': 250, 'videotaping': 5006, 'towards': 4778, 'tearful': 4652, 'condemnation': 965, 'ironic': 2438, 'interest': 2406, 'smug': 4345, 'wwe': 5197, 'creator': 1085, 'remarkable': 3855, 'tampering': 4630, 'intel': 2403, 'firm': 1796, 'dig': 1318, 'dirt': 1331, 'discover': 1344, 'supposed': 4565, 'soil': 4362, 'disparage': 1365, 'jv': 2525, 'slaughter': 4319, 'innocence': 2385, 'iranian': 2432, 'swap': 4593, 'returned': 3938, 'puerto': 3668, 'rico': 3963, 'tweeting': 4864, 'vanity': 4979, 'watching': 5081, 'twin': 4866, 'humbly': 2260, 'seahawks': 4137, 'learned': 2668, 'hurricane': 2276, 'divide': 1382, 'behaves': 426, 'deblasio': 1190, 'stare': 4459, 'wished': 5159, 'assassinated': 268, 'alicia': 122, 'machado': 2802, 'dumpster': 1458, 'relation': 3835, 'lavish': 2644, 'outline': 3282, 'overwhelming': 3299, 'disrespectful': 1371, 'gloria': 1980, 'steinem': 4476, 'huh': 2256, 'kiss': 2574, 'cleveland': 858, 'inspired': 2392, 'modeling': 3008, 'trafficking': 4790, 'defund': 1227, 'allah': 126, 'dallas': 1151, 'suffering': 4545, 'derangement': 1274, 'rightfully': 3971, 'snagged': 4347, 'compared': 940, 'greet': 2030, 'chinese': 803, 'lavar': 2643, 'yank': 5202, 'progressivism': 3616, 'partnership': 3346, 'propaganda': 3631, 'manipulation': 2846, 'comedy': 913, 'insurance': 2399, 'espn': 1589, 'unleashes': 4924, 'jcpenney': 2472, 'inspiring': 2393, 'geraldo': 1950, 'rivera': 3985, 'touting': 4776, 'profound': 3612, 'quote': 3710, 'offshore': 3217, 'vomit': 5033, 'accusing': 35, 'pretending': 3568, 'madonna': 2809, 'testifies': 4683, 'predicting': 3546, 'tumble': 4850, 'grabbing': 2011, 'gotcha': 2005, 'dragged': 1419, 'groping': 2039, 'bipartisan': 481, 'facilitate': 1688, 'announce': 182, 'gentleman': 1946, 'coat': 886, 'freezing': 1885, 'militarized': 2960, 'zone': 5232, 'identified': 2293, 'adapt': 52, 'non': 3162, 'binary': 479, 'blonde': 519, 'triggly': 4822, 'convulsion': 1026, 'barbell': 375, 'arrogant': 249, 'industry': 2365, 'honor': 2226, 'vision': 5023, 'panel': 3321, 'princeton': 3584, 'channel': 770, 'soothe': 4379, 'battered': 397, 'ego': 1493, 'cleaner': 852, 'afford': 79, 'salute': 4060, 'plenty': 3475, 'eminem': 1529, 'farrakhan': 1725, 'mit': 2994, 'promptly': 3627, 'nusra': 3178, 'separating': 4183, 'duh': 1450, 'tapped': 4636, 'sale': 4057, 'theorist': 4700, 'swag': 4591, 'defy': 1228, 'solidarity': 4367, 'brilliantly': 599, 'uncle': 4890, 'troop': 4829, 'complete': 943, 'jennifer': 2480, 'hudson': 2252, 'fantastic': 1718, 'traffic': 4789, 'extravagant': 1670, 'appointment': 219, 'subpoena': 4535, 'ok': 3222, 'wdbj': 5089, 'reprimanded': 3889, 'sticker': 4486, 'damage': 1152, 'eyeglass': 1680, 'irrational': 2440, 'georgetown': 1948, 'spring': 4429, 'accountability': 27, 'honest': 2224, 'payoff': 3371, 'toxic': 4782, 'bug': 631, 'infestation': 2367, 'acosta': 39, 'main': 2818, 'finished': 1785, 'wage': 5046, 'lean': 2666, 'minimum': 2970, 'sweep': 4596, 'nabs': 3087, 'unbelievable': 4887, 'koch': 2588, 'washed': 5076, 'reigniting': 3828, 'suspicion': 4588, 'restored': 3925, 'jewel': 2490, 'hateful': 2140, 'rhetoric': 3957, 'thunderous': 4723, 'dodger': 1390, 'scratched': 4122, 'clawed': 850, 'libya': 2714, 'fantasized': 1717, 'waterboarding': 5083, 'equally': 1574, 'hated': 2139, 'loved': 2782, 'cnnleak': 880, 'keefe': 2537, 'recording': 3794, 'cnnfakenews': 879, 'allows': 137, 'remain': 3850, 'anonymous': 187, 'defies': 1225, 'deeply': 1213, 'addressed': 57, 'duterte': 1462, 'spokesman': 4419, 'guptas': 2069, 'dismissal': 1361, 'narrow': 3097, 'brexit': 591, 'tribute': 4818, 'eu': 1595, 'achievement': 36, 'retweet': 3939, 'austrian': 303, 'ruled': 4031, 'delay': 1230, 'menendez': 2925, 'september': 4185, 'aclu': 38, 'friday': 1888, 'recruiter': 3798, 'subsidy': 4536, 'thursday': 4724, 'moon': 3039, 'born': 555, 'opioid': 3241, 'dependency': 1263, 'seek': 4158, 'ultimate': 4876, 'victory': 5004, 'bangladesh': 362, 'rohingya': 4005, 'remote': 3863, 'prone': 3628, 'island': 2449, 'abducted': 4, 'sudan': 4540, 'stalling': 4449, 'tactic': 4614, 'program': 3613, 'ig': 2300, 'misstep': 2992, 'source': 4387, 'hammond': 2095, 'kremlin': 2595, 'consulate': 1002, 'diplomat': 1324, 'embassy': 1521, 'thai': 4692, 'occupying': 3203, 'disclose': 1342, 'condemn': 964, 'kenya': 2549, 'factbox': 1690, 'draw': 1423, 'el': 1498, 'salvador': 4061, 'guatemala': 2052, 'decline': 1206, 'laundering': 2641, 'reviewing': 3951, 'vatican': 4980, 'bring': 600, 'netherlands': 3126, 'irma': 2437, 'dutch': 1461, 'saint': 4055, 'sisi': 4294, 'egypt': 1494, 'islamist': 2447, 'contentious': 1007, 'islam': 2445, 'widens': 5136, 'ethic': 1592, 'farenthold': 1722, 'congo': 985, 'peacekeeper': 3376, 'turkish': 4853, 'challenge': 764, 'erdogan': 1579, 'boost': 551, 'ownership': 3303, 'northern': 3165, 'kyrgyzstan': 2606, 'concedes': 956, 'european': 1599, 'parliament': 3339, 'britain': 605, 'asia': 258, 'encouraging': 1539, 'possibly': 3519, 'ningbo': 3152, 'unknown': 4923, 'forum': 1862, 'belgian': 431, 'yorker': 5216, 'among': 161, 'appoint': 216, 'relief': 3844, 'negotiate': 3113, 'expects': 1641, 'built': 635, 'japanese': 2470, 'crew': 1088, 'arrive': 247, 'catalan': 731, 'impact': 2324, 'spain': 4393, 'growth': 2047, 'guindos': 2062, 'coalition': 884, 'deadly': 1180, 'strike': 4512, 'deir': 1229, 'zor': 5234, 'obrador': 3194, 'completed': 944, 'wave': 5086, 'graft': 2015, 'purge': 3682, 'renewed': 3868, 'commitment': 927, 'afghanistan': 82, 'carry': 720, 'aiming': 103, 'sidestep': 4271, 'xi': 5199, 'commerce': 921, 'ross': 4017, 'equity': 1576, 'stake': 4446, 'catalonia': 732, 'resolved': 3914, 'abe': 5, 'quake': 3695, 'bus': 657, 'eight': 1496, 'homs': 2221, 'restructuring': 3929, 'kentucky': 2548, 'recanvass': 3781, 'cite': 824, 'progress': 3614, 'warms': 5066, 'invoke': 2426, 'bone': 543, 'contention': 1006, 'australia': 300, 'ancient': 168, 'aboriginal': 7, 'remains': 3852, 'outback': 3277, 'burial': 647, 'venezuela': 4986, 'detained': 1294, 'citgo': 825, 'poland': 3487, 'reform': 3810, 'completion': 946, 'kurd': 2599, 'destabilize': 1286, 'kurdish': 2600, 'historic': 2203, 'turmoil': 4854, 'prophet': 3633, 'extremism': 1674, 'irish': 2436, 'devolution': 1306, 'indo': 2361, 'pacific': 3306, 'uae': 4869, 'french': 1886, 'block': 514, 'fuel': 1900, 'depot': 1270, 'scenario': 4104, 'venezuelan': 4987, 'rajoy': 3728, 'insurgent': 2401, 'temporary': 4667, 'ceasefire': 744, 'amid': 157, 'humanitarian': 2259, 'classic': 846, 'sad': 4049, 'zimbabwe': 5227, 'axed': 322, 'safe': 4050, 'traveling': 4806, 'indonesian': 2363, 'suu': 4590, 'kyi': 2605, 'includes': 2343, 'deduction': 1209, 'sheikh': 4231, 'sabah': 4045, 'rebuild': 3778, 'gibraltar': 1958, 'scaramucci': 4095, 'communication': 933, 'nyt': 3184, 'oas': 3187, 'recommend': 3789, 'honduras': 2223, 'irregularity': 2441, 'fixed': 1806, 'surreal': 4576, 'pleads': 3472, 'hawk': 2146, 'oic': 3221, 'jerusalem': 2485, 'withdrawal': 5164, 'hurdle': 2274, 'approves': 226, 'embargo': 1516, 'encryption': 1540, 'reject': 3833, 'casino': 727, 'bankruptcy': 367, 'trumped': 4839, 'fiasco': 1758, 'cool': 1030, 'burundi': 655, 'extension': 1664, 'early': 1468, 'december': 1194, 'countdown': 1057, 'nafta': 3088, 'mid': 2948, 'august': 298, 'slum': 4329, 'decade': 1193, 'referendum': 3808, 'geneva': 1944, 'envoy': 1566, 'skeptical': 4303, 'serbia': 4187, 'kosovo': 2594, 'summons': 4556, 'questioning': 3702, 'anadolu': 163, 'ukraine': 4875, 'lethal': 2698, 'shortage': 4252, 'sanaa': 4064, 'trap': 4803, 'civilian': 831, 'halt': 2090, 'brazil': 581, 'wash': 5075, 'capital': 700, 'undersecretary': 4898, 'visa': 5021, 'raqqa': 3756, 'fallen': 1707, 'unacceptably': 4881, 'afghan': 81, 'digital': 1319, 'permanent': 3399, 'philippine': 3423, 'changing': 769, 'alliance': 133, 'overhaul': 3291, 'eyed': 1679, 'postpones': 3523, 'peninsula': 3384, 'hurt': 2277, 'olympics': 3227, 'sooner': 4378, 'barnier': 378, 'stick': 4485, 'balanced': 349, 'fidel': 1760, 'dissident': 1375, 'provider': 3655, 'reopen': 3869, 'clinic': 861, 'trade': 4785, 'weigh': 5103, 'others': 3271, 'supply': 4561, 'tap': 4634, 'representative': 3887, 'becerra': 410, 'spd': 4397, 'wet': 5115, 'dry': 1446, 'obsolete': 3198, 'involvement': 2428, 'taiwan': 4615, 'appoints': 220, 'premier': 3551, 'myanmar': 3084, 'bosnian': 557, 'croat': 1100, 'praljak': 3538, 'cyanide': 1141, 'fdp': 1735, 'offer': 3212, 'macron': 2803, 'bittersweet': 491, 'euro': 1597, 'juncker': 2521, 'proposal': 3634, 'sync': 4605, 'thiel': 4702, 'fallout': 1708, 'shelter': 4233, 'attending': 291, 'pyeongchang': 3690, 'hopeful': 2231, 'revenge': 3945, 'bridgegate': 594, 'complaint': 942, 'proceed': 3603, 'treasury': 4808, 'lew': 2703, 'ensure': 1556, 'fairness': 1701, 'exporter': 1658, 'avert': 311, 'shutdown': 4264, 'proposes': 3636, 'oversight': 3296, 'rebel': 3776, 'curfew': 1131, 'rejoice': 3834, 'ireland': 2435, 'stall': 4448, 'steer': 4474, 'troublesome': 4830, 'sri': 4437, 'lanka': 2620, 'keen': 2538, 'conclusion': 962, 'tallying': 4629, 'regulation': 3824, 'pfizer': 3417, 'allergan': 132, 'cooperate': 1032, 'lavrov': 2646, 'ministry': 2974, 'massachusetts': 2871, 'subject': 4532, 'conduct': 968, 'prepares': 3553, 'zuma': 5236, 'inquiry': 2387, 'havana': 2143, 'tension': 4671, 'flare': 1809, 'constitutional': 1000, 'turnout': 4859, 'slightly': 4325, 'lower': 2785, 'militancy': 2958, 'asean': 256, 'singapore': 4287, 'commodity': 930, 'regulator': 3825, 'sinai': 4285, 'carnage': 716, 'tribe': 4817, 'broadband': 609, 'privacy': 3590, 'heat': 2159, 'simmer': 4282, 'surface': 4569, 'pena': 3383, 'nieto': 3144, 'anc': 166, 'plague': 3458, 'madagascar': 2805, 'greets': 2031, 'netanyahu': 3125, 'handshake': 2103, 'jolt': 2505, 'lebanon': 2674, 'hezbollah': 2181, 'cnbc': 877, 'guantanamo': 2048, 'mute': 3083, 'voice': 5029, 'thailand': 4693, 'provide': 3654, 'quickly': 3704, 'rollback': 4007, 'medicaid': 2905, 'expansion': 1638, 'ifax': 2299, 'ride': 3965, 'grassroots': 2022, 'statehouse': 4466, 'gain': 1920, 'eating': 1480, 'disorder': 1364, 'advance': 66, 'corker': 1038, 'reasonable': 3775, 'transition': 4799, 'unicef': 4912, 'clash': 844, 'rumble': 4033, 'bahrain': 343, 'linked': 2737, 'negotiator': 3115, 'wednesday': 5098, 'propose': 3635, 'slap': 4316, 'restriction': 3928, 'sweeping': 4597, 'frame': 1872, 'partner': 3345, 'jan': 2467, 'frustrated': 1896, 'weighs': 5104, 'jury': 2523, 'suspension': 4587, 'lira': 2738, 'nice': 3143, 'principle': 3585, 'lieutenant': 2719, 'surge': 4570, 'nhc': 3142, 'fcc': 1734, 'torrential': 4765, 'rain': 3724, 'bulgaria': 636, 'conyers': 1028, 'mounting': 3054, 'hungry': 2271, 'imposes': 2333, 'pitch': 3452, 'directed': 1328, 'implying': 2330, 'kurdistan': 2601, 'baghdad': 342, 'italy': 2454, 'upholds': 4949, 'banker': 364, 'geronzi': 1953, 'insurer': 2400, 'fewer': 1757, 'errand': 1583, 'statehood': 4465, 'frustration': 1897, 'vietnam': 5007, 'plot': 3476, 'preparing': 3554, 'trader': 4786, 'impose': 2332, 'ankara': 179, 'guatemalan': 2053, 'effigy': 1490, 'scatter': 4102, 'evil': 1615, 'idlib': 2298, 'sector': 4153, 'suffer': 4543, 'revers': 3947, 'detente': 1295, 'ugandan': 4872, 'entirely': 1563, 'phase': 3419, 'sergeant': 4190, 'bergdahl': 443, 'crumbled': 1110, 'lebanese': 2673, 'hariri': 2121, 'beirut': 430, 'ria': 3958, 'grilled': 2036, 'expense': 1643, 'advocate': 73, 'prod': 3606, 'strong': 4517, 'torn': 4763, 'darfur': 1166, 'stress': 4511, 'waffle': 5045, 'choke': 805, 'imminent': 2322, 'pakistan': 3314, 'currency': 1134, 'mull': 3068, 'quitting': 3708, 'egyptian': 1495, 'spanish': 4395, 'delete': 1233, 'ballot': 355, 'speed': 4405, 'revised': 3952, 'grandee': 2018, 'compromise': 950, 'stability': 4442, 'battle': 398, 'interim': 2408, 'transfer': 4797, 'pound': 3531, 'telegraph': 4661, 'encouraged': 1537, 'colombia': 904, 'cholera': 806, 'uzbek': 4970, 'mnuchin': 3001, 'madrid': 2810, 'regional': 3821, 'farmer': 1723, 'jailed': 2463, 'exercise': 1633, 'malaysia': 2827, 'suspected': 4584, 'abu': 14, 'sayyaf': 4087, 'sufficient': 4546, 'compulsory': 951, 'bruising': 620, 'brings': 602, 'reluctant': 3849, 'drone': 1437, 'qaeda': 3692, 'regret': 3823, 'dairy': 1149, 'spat': 4396, 'universal': 4920, 'defeated': 1216, 'unofficial': 4932, 'tally': 4628, 'corporate': 1045, 'doubt': 1411, 'enough': 1555, 'barred': 379, 'sea': 4136, 'nigerian': 3147, 'repels': 3876, 'boko': 536, 'haram': 2114, 'luxury': 2796, 'disagree': 1334, 'reuters': 3941, 'ipsos': 2430, 'ramaphosa': 3732, 'warn': 5067, 'nominate': 3157, 'cftc': 758, 'giancarlo': 1956, 'determined': 1296, 'careful': 711, 'exile': 1634, 'reaffirms': 3768, 'mylan': 3085, 'epipen': 1570, 'pricing': 3576, 'interference': 2407, 'hong': 2225, 'kong': 2589, 'reaching': 3763, 'alarming': 116, 'level': 2701, 'january': 2468, 'est': 1590, 'gmt': 1984, 'port': 3512, 'agreement': 95, 'callista': 682, 'renewable': 3867, 'paraguay': 3330, 'legalizes': 2685, 'planting': 3464, 'mercury': 2929, 'fends': 1753, 'gabbard': 1918, 'submits': 4534, 'confidence': 973, 'alarmed': 115, 'berlin': 445, 'bavaria': 399, 'uneasy': 4902, 'hungarian': 2268, 'orban': 3254, 'hail': 2084, 'australian': 301, 'loom': 2766, 'hunger': 2270, 'striker': 4513, 'remainder': 3851, 'talked': 4625, 'influencing': 2370, 'curb': 1129, 'methane': 2936, 'emission': 1531, 'inappropriate': 2337, 'drill': 1432, 'waving': 5087, 'underpins': 4897, 'brill': 597, 'easily': 1472, 'veto': 4994, 'extra': 1667, 'fighter': 1764, 'baltic': 356, 'conciliatory': 961, 'tone': 4755, 'peso': 3409, 'sentenced': 4182, 'kung': 2598, 'fu': 1899, 'serenade': 4189, 'st': 4440, 'qatar': 3693, 'arab': 227, 'setback': 4200, 'cloud': 873, 'specific': 4402, 'suggestion': 4547, 'cordial': 1035, 'lockheed': 2756, 'contract': 1013, 'fine': 1783, 'czech': 1144, 'owned': 3301, 'cez': 756, 'liberian': 2710, 'collins': 899, 'prominent': 3619, 'drama': 1421, 'moody': 3038, 'downgrade': 1412, 'outdated': 3279, 'harsh': 2128, 'vessel': 4991, 'harass': 2115, 'undermines': 4896, 'coverage': 1069, 'requirement': 3897, 'warring': 5074, 'faction': 1691, 'poised': 3484, 'unmanned': 4930, 'aircraft': 105, 'export': 1657, 'durbin': 1460, 'undergoes': 4894, 'procedure': 3602, 'environment': 1564, 'pit': 3451, 'mining': 2971, 'rakhine': 3729, 'indian': 2357, 'nephew': 3121, 'kashmir': 2530, 'lease': 2669, 'signal': 4277, 'shift': 4237, 'separatist': 4184, 'unionist': 4917, 'wistfully': 5160, 'disputed': 1369, 'cfpb': 757, 'preliminary': 3550, 'injunction': 2380, 'filing': 1770, 'canadian': 693, 'amigo': 158, 'reimburses': 3830, 'passage': 3350, 'backed': 329, 'detain': 1293, 'tianjin': 4727, 'skyscraper': 4311, 'retailer': 3932, 'bet': 454, 'bolivia': 537, 'thwart': 4725, 'stockholm': 4492, 'maduro': 2811, 'vetting': 4996, 'clearance': 855, 'urgency': 4958, 'helping': 2173, 'funnel': 1914, 'contribution': 1015, 'expels': 1642, 'scalise': 4090, 'surgery': 4571, 'sworn': 4602, 'restoring': 3926, 'tilt': 4735, 'marawi': 2854, 'price': 3574, 'promotion': 3626, 'asylum': 282, 'papua': 3328, 'guinea': 2063, 'longtime': 2763, 'scavino': 4103, 'negotiation': 3114, 'tusk': 4860, 'triumph': 4825, 'arsonist': 251, 'disappointment': 1336, 'nearly': 3109, 'improvement': 2335, 'unacceptable': 4880, 'ypg': 5219, 'astana': 281, 'grid': 2033, 'study': 4522, 'denounces': 1257, 'legislature': 2689, 'warrant': 5071, 'modi': 3012, 'recovering': 3796, 'severe': 4206, 'malnutrition': 2836, 'tight': 4731, 'bypass': 669, 'radar': 3718, 'piracy': 3448, 'remembrance': 3857, 'meddle': 2900, 'contender': 1005, 'discipline': 1341, 'handling': 2100, 'pennsylvania': 3385, 'survives': 4580, 'soviet': 4391, 'ceiling': 746, 'reconstruction': 3792, 'kuwait': 2603, 'israeli': 2451, 'siren': 4292, 'gaza': 1937, 'strip': 4515, 'zika': 5226, 'inadequate': 2336, 'flattery': 1812, 'flavor': 1813, 'striking': 4514, 'seizing': 4165, 'upkeep': 4950, 'automaker': 309, 'economy': 1483, 'jeddah': 2475, 'royal': 4023, 'palace': 3315, 'judicial': 2516, 'overreach': 3293, 'relocates': 3848, 'obligation': 3191, 'fracking': 1871, 'mogul': 3015, 'harold': 2125, 'hamm': 2092, 'mnangagwa': 3000, 'mugabe': 3066, 'upends': 4947, 'extends': 1663, 'emergency': 1526, 'gazette': 1938, 'hustled': 2279, 'zambia': 5224, 'lauds': 2634, 'denver': 1259, 'bronco': 614, 'agreed': 94, 'unhcr': 4910, 'finnish': 1786, 'clarify': 841, 'increased': 2351, 'bomber': 540, 'qualm': 3697, 'teaming': 4650, 'jet': 2488, 'urgent': 4959, 'unfamiliar': 4907, 'listed': 2740, 'nmc': 3154, 'struggling': 4520, 'hospital': 2236, 'emperor': 1533, 'cede': 745, 'duty': 1463, 'abdication': 3, 'hooded': 2228, 'recommends': 3790, 'safeguard': 4051, 'thaksin': 4694, 'sponsored': 4423, 'region': 3820, 'backpedals': 334, 'telecom': 4660, 'tackled': 4613, 'mowing': 3061, 'lawn': 2651, 'dialogue': 1311, 'provocative': 3657, 'benefiting': 440, 'bailouts': 345, 'bln': 512, 'gap': 1925, 'mongolian': 3025, 'ousts': 3276, 'reshuffle': 3905, 'continued': 1010, 'lift': 2722, 'secrecy': 4147, 'tighter': 4732, 'execution': 1630, 'switzerland': 4601, 'commute': 937, 'offender': 3209, 'iaea': 2285, 'clarity': 842, 'section': 4152, 'wilbur': 5141, 'offshored': 3218, 'surplus': 4572, 'sirleaf': 4293, 'thankful': 4695, 'nominating': 3159, 'contest': 1008, 'bail': 344, 'reiterates': 3832, 'formal': 1857, 'timing': 4739, 'seeking': 4160, 'understanding': 4900, 'serbian': 4188, 'ta': 4609, 'gundlach': 2066, 'causing': 740, 'mission': 2989, 'accomplished': 24, 'partial': 3343, 'berlusconi': 446, 'mafia': 2812, 'exim': 1635, 'toolbox': 4759, 'petrol': 3413, 'athens': 283, 'incomplete': 2349, 'salacious': 4056, 'garbage': 1926, 'overcome': 3288, 'raised': 3727, 'scotland': 4116, 'auto': 308, 'advocacy': 72, 'recovery': 3797, 'slip': 4326, 'meirelles': 2913, 'candidacy': 697, 'repatriation': 3873, 'cure': 1130, 'weakness': 5090, 'drian': 1431, 'mediterranean': 2907, 'axis': 323, 'patrol': 3363, 'joining': 2502, 'resignation': 3909, 'goal': 1986, 'shattering': 4230, 'retaliate': 3933, 'ottoman': 3273, 'retweets': 3940, 'fannie': 1716, 'kitten': 2575, 'spy': 4431, 'prowess': 3658, 'additional': 55, 'barrier': 380, 'competing': 941, 'prolong': 3618, 'guardian': 2050, 'rocky': 4001, 'talabani': 4622, 'sought': 4384, 'coconut': 887, 'lao': 2621, 'imagery': 2316, 'mixed': 2997, 'libyan': 2715, 'smuggling': 4346, 'raytheon': 3761, 'modification': 3013, 'snubbed': 4354, 'reserve': 3903, 'welfare': 5110, 'formalizes': 1858, 'probing': 3600, 'net': 3124, 'neutrality': 3129, 'ajit': 109, 'pai': 3310, 'trudeau': 4832, 'june': 2522, 'grand': 2017, 'kazakh': 2536, 'ramping': 3735, 'briton': 607, 'nigeria': 3146, 'mediate': 2903, 'denounce': 1256, 'bharara': 462, 'anglophones': 175, 'cameroon': 688, 'demonstration': 1251, 'seize': 4163, 'environmental': 1565, 'dismiss': 1360, 'indictment': 2359, 'prostate': 3640, 'banana': 360, 'republic': 3891, 'approach': 222, 'pensioner': 3388, 'pension': 3387, 'pompe': 3500, 'lauded': 2633, 'patel': 3358, 'bbc': 401, 'burnt': 653, 'morocco': 3044, 'cup': 1127, 'success': 4538, 'obstructed': 3201, 'boat': 529, 'capsizes': 703, 'bulgarian': 637, 'macedonian': 2800, 'orthodox': 3268, 'edge': 1485, 'thorny': 4708, 'tel': 4659, 'aviv': 312, 'postponing': 3524, 'louisiana': 2780, 'hike': 2193, 'short': 4251, 'helped': 2172, 'dominate': 1397, 'gulf': 2064, 'meddled': 2901, 'secure': 4154, 'discussed': 1350, 'delegation': 1232, 'reliance': 3843, 'within': 5167, 'pyongyang': 3691, 'shown': 4260, 'persist': 3404, 'denuclearization': 1258, 'mcmahon': 2890, 'gen': 1940, 'society': 4360, 'ethnic': 1594, 'cleansing': 853, 'surrender': 4577, 'punishment': 3679, 'acid': 37, 'revive': 3953, 'optimistic': 3250, 'prospect': 3639, 'caitlyn': 675, 'celebs': 750, 'mulling': 3069, 'siemens': 4273, 'crimea': 1090, 'turbine': 4851, 'hamas': 2091, 'cairo': 674, 'blockade': 515, 'stowaway': 4504, 'ferry': 1755, 'offered': 3213, 'brief': 595, 'somalia': 4371, 'withhold': 5166, 'malaysian': 2828, 'indonesia': 2362, 'bali': 351, 'davis': 1173, 'summit': 4554, 'palestinian': 3316, 'handover': 2101, 'lpga': 2787, 'usga': 4966, 'haftar': 2083, 'opposes': 3245, 'calorie': 684, 'vehicle': 4984, 'dhabi': 1308, 'labour': 2609, 'cutting': 1140, 'summon': 4555, 'cleared': 856, 'condition': 967, 'mogadishu': 3014, 'alter': 146, 'explainer': 1650, 'wields': 5138, 'colonial': 906, 'sink': 4291, 'ngo': 3140, 'portion': 3513, 'virgin': 5019, 'soon': 4377, 'package': 3307, 'difficult': 1317, 'gm': 1983, 'mustard': 3082, 'finalize': 1776, 'broker': 613, 'anglophone': 174, 'breakdown': 585, 'manage': 2839, 'feud': 1756, 'tout': 4775, 'reduce': 3806, 'dearly': 1185, 'sputnik': 4430, 'rt': 4024, 'lighthizer': 2725, 'zimbabwean': 5228, 'seizes': 4164, 'wacky': 5043, 'microsoft': 2947, 'paranoia': 3332, 'speedy': 4406, 'communicating': 932, 'drafting': 1417, 'financing': 1780, 'lifting': 2723, 'payload': 3369, 'kneeling': 2582, 'attends': 292, 'romania': 4008, 'serb': 4186, 'photographing': 3427, 'fast': 1728, 'lane': 2618, 'renegotiated': 3866, 'deepens': 1211, 'float': 1824, 'authoritarian': 306, 'populism': 3509, 'suicidal': 4549, 'danish': 1164, 'submarine': 4533, 'explores': 1655, 'cavern': 742, 'hastert': 2135, 'probation': 3597, 'grandma': 2019, 'ustr': 4968, 'appropriate': 223, 'mechanism': 2897, 'pastry': 3357, 'factory': 1692, 'avalanche': 310, 'alp': 142, 'botswana': 562, 'manchester': 2841, 'extradite': 1669, 'finance': 1778, 'moldovans': 3017, 'ivory': 2457, 'experiment': 1646, 'sicily': 4267, 'lender': 2692, 'sabadell': 4044, 'alicante': 121, 'lame': 2615, 'text': 4689, 'immediate': 2318, 'evacuation': 1600, 'highest': 2188, 'alert': 119, 'volcano': 5030, 'pregnant': 3549, 'mum': 3072, 'ill': 2308, 'entertainment': 1561, 'rush': 4038, 'embattled': 1522, 'aimed': 102, 'ensuring': 1557, 'reschedule': 3898, 'tackle': 4612, 'bastion': 392, 'midwest': 2951, 'opposing': 3246, 'emboldened': 1523, 'citing': 826, 'critically': 1096, 'injures': 2382, 'murdering': 3077, 'publish': 3666, 'unilateral': 4915, 'conducting': 969, 'niger': 3145, 'divest': 1381, 'fuller': 1903, 'academic': 16, 'residency': 3906, 'opts': 3252, 'pregnancy': 3548, 'convenience': 1021, 'ending': 1544, 'echoing': 1481, 'concrete': 963, 'balance': 348, 'rankles': 3746, 'paramedic': 3331, 'worked': 5177, 'auschwitz': 299, 'umbrella': 4878, 'shade': 4214, 'europe': 1598, 'wisconsin': 5157, 'monitoring': 3028, 'raf': 3721, 'guerrilla': 2054, 'robbery': 3993, 'hesitation': 2179, 'defector': 1218, 'escalation': 1587, 'fleet': 1819, 'hungary': 2269, 'eas': 1471, 'odinga': 3206, 'pave': 3365, 'emissary': 1530, 'swift': 4598, 'odds': 3205, 'dismisses': 1362, 'departure': 1262, 'laughable': 2636, 'november': 3169, 'sen': 4173}\n",
            "Shape is: (2386, 5062)\n",
            "Type: <class 'scipy.sparse._csr.csr_matrix'>\n",
            "VOCABULARY (lenght 5062)\n",
            "{'ellen': 1475, 'degeneres': 1221, 'bio': 470, 'age': 76, 'married': 2873, 'husband': 2249, 'daughter': 1181, 'partner': 3339, 'salary': 3944, 'net': 3143, 'worth': 5010, 'simpson': 4175, 'reportedly': 3771, 'keep': 2506, 'kardashians': 2491, 'prison': 3552, 'drake': 1389, 'odell': 3217, 'beckham': 397, 'jr': 2463, 'watch': 4893, 'kourtney': 2568, 'ex': 1567, 'younes': 5042, 'bendjima': 425, 'brutally': 624, 'attack': 271, 'man': 2839, 'breaking': 581, 'malia': 2831, 'obama': 3208, 'expelled': 1584, 'harvard': 2075, 'khlo': 2524, 'kardashian': 2490, 'boycotting': 561, 'facetime': 1606, 'baby': 310, 'true': 4711, 'explanation': 1590, 'hilarious': 2153, 'ariana': 221, 'grande': 1972, 'calling': 676, 'wedding': 4913, 'pete': 3404, 'davidson': 1184, 'despite': 1262, 'tabloid': 4498, 'report': 3769, 'grammys': 1970, 'complete': 965, 'list': 2717, 'winner': 4968, 'nominee': 3185, 'sean': 4017, 'spicer': 4290, 'say': 3978, 'snl': 4232, 'went': 4931, 'line': 2709, 'first': 1719, 'post': 3501, 'resignation': 3785, 'interview': 2337, 'hannity': 2055, 'rihanna': 3842, 'learn': 2642, 'use': 4792, 'gun': 2008, 'needed': 3131, 'video': 4835, 'harvey': 2076, 'weinstein': 4922, 'could': 1055, 'face': 1603, 'even': 1556, 'charge': 805, 'investigation': 2348, 'looking': 2748, 'sexual': 4080, 'assault': 261, 'allegation': 108, 'katie': 2504, 'holmes': 2179, 'jamie': 2385, 'foxx': 1793, 'expecting': 1583, 'new': 3149, 'claim': 883, 'want': 4878, 'start': 4343, 'family': 1630, 'khloe': 2525, 'given': 1919, 'birth': 478, 'girl': 1913, 'need': 3130, 'know': 2560, 'possible': 3500, 'name': 3100, 'justin': 2480, 'bieber': 453, 'dating': 1180, 'history': 2166, 'alex': 99, 'rodriguez': 3873, 'recording': 3705, 'album': 95, 'weird': 4923, 'marriage': 2872, 'rule': 3913, 'tom': 4637, 'cruise': 1114, 'imposed': 2280, 'silence': 4167, 'labour': 2588, 'public': 3595, 'split': 4298, 'full': 1828, 'statement': 4347, 'john': 2437, 'mccain': 2908, 'vote': 4857, 'graham': 1968, 'cassidy': 739, 'health': 2098, 'care': 711, 'bill': 462, 'best': 434, 'celebrity': 772, 'liposuction': 2715, 'image': 2273, 'pinterest': 3435, 'kim': 2541, 'kanye': 2487, 'west': 4933, 'look': 2745, 'happier': 2058, 'ever': 1557, 'timeline': 4620, 'selena': 4035, 'gomez': 1942, 'rocky': 3870, 'relationship': 3739, 'finish': 1713, 'mel': 2939, 'witness': 4986, 'intimidation': 2339, 'divorce': 1341, 'drama': 1390, 'continues': 1019, 'ocean': 3212, 'cast': 741, 'kindly': 2545, 'request': 3779, 'stop': 4383, 'asking': 256, 'question': 3618, 'jennifer': 2408, 'aniston': 170, 'casually': 745, 'meghan': 2936, 'markle': 2869, 'criticized': 1105, 'inappropriate': 2285, 'shoulder': 4144, 'dress': 1393, 'queen': 3615, 'birthday': 479, 'parade': 3324, 'celebs': 775, 'respond': 3789, 'trumpcare': 4715, 'fail': 1610, 'martin': 2880, 'landau': 2599, 'dead': 1190, 'react': 3672, 'cannibal': 699, 'arrested': 236, 'florida': 1749, 'eating': 1446, 'human': 2237, 'flesh': 1735, 'cure': 1133, 'diabetes': 1275, 'depression': 1253, 'nasa': 3108, 'confirmed': 988, 'earth': 1438, 'moon': 3041, 'blog': 502, 'picture': 3427, 'wordpress': 4997, 'top': 4646, 'begging': 407, 'actress': 42, 'star': 4338, 'sequel': 4056, 'opposes': 3255, 'kate': 2497, 'upton': 4786, 'cosmetic': 1050, 'surgery': 4460, 'boob': 531, 'job': 2433, 'nose': 3189, 'lip': 2714, 'filler': 1697, 'brad': 565, 'pitt': 3442, 'fire': 1715, 'back': 315, 'angelina': 165, 'jolie': 2445, 'paid': 3305, 'million': 2990, 'child': 841, 'support': 4456, 'sound': 4265, 'like': 2697, 'liked': 2698, 'tristan': 4703, 'thompson': 4588, 'keith': 2509, 'urban': 4788, 'sophie': 4258, 'monk': 3035, 'nicole': 3165, 'furious': 1838, 'hassan': 2077, 'jameel': 2383, 'moving': 3064, 'together': 4634, 'house': 2222, 'hunting': 2244, 'paris': 3329, 'elon': 1477, 'musk': 3090, 'pedo': 3369, 'tweet': 4731, 'inquiry': 2316, 'answered': 187, 'thai': 4571, 'rescue': 3780, 'diver': 1339, 'lawyer': 2626, 'prep': 3528, 'lawsuit': 2624, 'getting': 1897, 'secretly': 4025, 'jelena': 2402, 'engaged': 1507, 'threatens': 4598, 'bring': 597, 'kid': 2528, 'around': 232, 'gwen': 2019, 'stefani': 4360, 'blake': 491, 'shelton': 4118, 'voice': 4855, 'flirting': 1741, 'leaf': 2633, 'fan': 1633, 'unimpressed': 4768, 'kylie': 2582, 'jenner': 2406, 'travis': 4691, 'scott': 4004, 'spotted': 4309, 'breakup': 582, 'rumor': 3916, 'nene': 3137, 'leakes': 2638, 'turned': 4725, 'weight': 4921, 'loss': 2756, 'spokesperson': 4304, 'real': 3680, 'housewife': 2223, 'reach': 3671, 'summer': 4445, 'custody': 1140, 'agreement': 83, 'reveals': 3813, 'struggle': 4408, 'dyslexia': 1432, 'anger': 166, 'shrug': 4152, 'oscar': 3269, 'snub': 4234, 'jackson': 2376, 'fear': 1659, 'heading': 2095, 'meltdown': 2942, 'ready': 3678, 'wife': 4952, 'lose': 2754, 'primary': 3547, 'allowed': 118, 'access': 22, 'thing': 4583, 'get': 1895, 'body': 518, 'high': 2143, 'heel': 2115, 'hell': 2121, 'crippling': 1099, 'cait': 668, 'facing': 1608, 'knee': 2558, 'refusing': 3723, 'ditch': 1336, 'stiletto': 4373, 'feud': 1679, 'jealous': 2398, 'camilla': 685, 'bowles': 556, 'prince': 3548, 'harry': 2072, 'chicago': 839, 'royal': 3906, 'started': 4344, 'timberlake': 4618, 'jessica': 2417, 'biel': 454, 'cover': 1065, 'story': 4389, 'sofia': 4245, 'richie': 3833, 'take': 4500, 'disick': 1319, 'messy': 2958, 'behind': 413, 'scene': 3990, 'live': 2722, 'kelly': 2510, 'ryan': 3931, 'seacrest': 4015, 'leave': 2648, 'ripa': 3851, 'dust': 1423, 'leah': 2635, 'remini': 3754, 'scientology': 4001, 'accused': 30, 'ruining': 3912, 'horrible': 2207, 'behavior': 412, 'kristen': 2571, 'bell': 419, 'lincoln': 2706, 'shepard': 4121, 'boy': 559, 'screaming': 4007, 'fight': 1692, 'quitting': 3627, 'hollywood': 2177, 'midwest': 2980, 'miscarriage': 3004, 'nightmare': 3169, 'pregnant': 3525, 'miranda': 3001, 'kerr': 2518, 'already': 124, 'spent': 4288, 'nursery': 3201, 'sue': 4431, 'nation': 3114, 'stampede': 4333, 'left': 2653, 'broken': 609, 'leg': 2655, 'text': 4567, 'jeff': 2401, 'flake': 1728, 'trump': 4714, 'speech': 4283, 'transcript': 4678, 'inevitable': 2304, 'taylor': 4520, 'swift': 4485, 'backlash': 317, 'begin': 409, 'watching': 4895, 'critical': 1103, 'mad': 2801, 'love': 2762, 'crumble': 1115, 'right': 3841, 'schedule': 3991, 'fergie': 1672, 'release': 3741, 'profit': 3571, 'josh': 2455, 'duhamel': 1412, 'secret': 4024, 'donald': 1364, 'lady': 2591, 'melania': 2940, 'separate': 4052, 'bedroom': 401, 'potter': 3507, 'year': 5032, 'later': 2609, 'movie': 3063, 'busted': 656, 'gossip': 1956, 'cop': 1036, 'sued': 4432, 'allegedly': 110, 'stealing': 4355, 'lighting': 2694, 'technique': 4532, 'selfies': 4039, 'rachel': 3632, 'bilson': 468, 'eddie': 1452, 'cibrian': 870, 'two': 4739, 'stray': 4397, 'mama': 2837, 'tormented': 4649, 'spend': 4285, 'four': 1789, 'hour': 2221, 'christmas': 863, 'day': 1187, 'stalling': 4330, 'construction': 1011, 'dream': 1392, 'home': 2181, 'overwhelmed': 3293, 'etiquette': 1545, 'helping': 2126, 'stamos': 4331, 'talk': 4505, 'caitlin': 669, 'minute': 2998, 'childbirth': 842, 'finally': 1708, 'way': 4903, 'missing': 3011, 'correspondence': 1047, 'suri': 4461, 'end': 1501, 'party': 3341, 'blow': 507, 'katy': 2505, 'perry': 3399, 'orlando': 3264, 'bloom': 505, 'month': 3040, 'friend': 1815, 'compete': 963, 'finding': 1711, 'rebound': 3691, 'romance': 3879, 'makeover': 2825, 'theroux': 4580, 'shuts': 4156, 'couple': 1060, 'therapy': 4578, 'rumour': 3918, 'made': 2805, 'food': 1760, 'stamp': 4332, 'enrollment': 1516, 'drop': 1400, 'one': 3243, 'style': 4425, 'liam': 2682, 'payne': 3364, 'heart': 2104, 'cheryl': 835, 'fernandez': 1674, 'versini': 4823, 'recount': 3706, 'christian': 860, 'past': 3346, 'hrc': 2226, 'gala': 1850, 'conversion': 1024, 'praying': 3519, 'gay': 1874, 'away': 302, 'people': 3384, 'change': 795, 'believe': 417, 'prenup': 3527, 'marrying': 2877, 'planning': 3449, 'elope': 1478, 'mila': 2984, 'kunis': 2576, 'ashton': 250, 'kutcher': 2579, 'straight': 4392, 'romantic': 3880, 'comedy': 945, 'noah': 3178, 'cyrus': 1150, 'austin': 290, 'mahone': 2816, 'proposed': 3583, 'cozy': 1072, 'night': 3167, 'roasting': 3857, 'chicken': 840, 'easter': 1442, 'share': 4101, 'message': 2956, 'social': 4241, 'medium': 2929, 'carrying': 730, 'twin': 4736, 'upset': 4783, 'ed': 1451, 'sheeran': 4114, 'slept': 4211, 'member': 2943, 'squad': 4315, 'truth': 4717, 'promise': 3575, 'carrie': 728, 'fisher': 1723, 'final': 1703, 'war': 4882, 'appearance': 209, 'buy': 661, 'mansion': 2847, 'prepping': 3530, 'see': 4027, 'pic': 3421, 'inside': 2319, 'beyonce': 445, 'jay': 2395, 'battle': 380, 'blue': 510, 'ivy': 2370, 'date': 1178, 'calum': 678, 'emma': 1491, 'stone': 4380, 'wireler': 4976, 'discus': 1314, 'curse': 1136, 'gq': 1963, 'purim': 3606, 'spiel': 4292, 'gal': 1849, 'gadot': 1845, 'slated': 4206, 'play': 3452, 'esther': 1540, 'never': 3148, 'jake': 2381, 'gyllenhaal': 2021, 'going': 1937, 'display': 1326, 'person': 3400, 'online': 3245, 'rob': 3858, 'cut': 1142, 'dodge': 1350, 'paparazzo': 3323, 'confront': 992, 'pregnancy': 3524, 'slam': 4203, 'decision': 1204, 'daca': 1152, 'callous': 677, 'disgusting': 1317, 'grave': 1978, 'mistake': 3012, 'mexico': 2963, 'next': 3155, 'president': 3534, 'call': 674, 'invasion': 2345, 'miley': 2987, 'publicly': 3598, 'reject': 3733, 'plea': 3458, 'state': 4346, 'banned': 346, 'sharia': 4103, 'law': 2622, 'christmasgifts': 864, 'clarkson': 890, 'explosive': 1594, 'backstage': 319, 'teri': 4551, 'hatcher': 2079, 'broke': 608, 'homeless': 2183, 'snubbed': 4235, 'middleton': 2974, 'william': 4959, 'debunked': 1199, 'nick': 3160, 'jonas': 2449, 'victoria': 4833, 'model': 3026, 'sara': 3961, 'sampaio': 3952, 'michael': 2969, 'strahan': 4391, 'along': 122, 'set': 4070, 'caitlyn': 670, 'proud': 3591, 'meeting': 2933, 'kendall': 2511, 'shade': 4085, 'photo': 3415, 'adele': 52, 'panicking': 3318, 'entourage': 1520, 'making': 2828, 'official': 3226, 'source': 4268, 'revenge': 3815, 'ewan': 1566, 'mcgregor': 2920, 'scrap': 4006, 'uk': 4747, 'show': 4147, 'visit': 4846, 'pier': 3430, 'morgan': 3046, 'woman': 4991, 'march': 2855, 'barb': 349, 'portia': 3492, 'de': 1189, 'rossi': 3897, 'rock': 3867, 'coordinating': 1035, 'outfit': 3274, 'concert': 976, 'warning': 4887, 'help': 2124, 'working': 5002, 'issue': 2366, 'exclusive': 1573, 'barbara': 350, 'cook': 1029, 'broadway': 605, 'mourns': 3057, 'passing': 3344, 'legend': 2659, 'anniversary': 177, 'card': 707, 'ethan': 1543, 'hawke': 2088, 'sandra': 3957, 'bullock': 638, 'break': 578, 'nina': 3173, 'dobrev': 1347, 'ian': 2257, 'somerhalder': 4249, 'label': 2584, 'nervous': 3142, 'pop': 3483, 'american': 145, 'news': 3153, 'mom': 3030, 'applies': 211, 'remedy': 3750, 'moment': 3031, 'dy': 1428, 'careful': 713, 'turning': 4727, 'dog': 1353, 'mandy': 2842, 'teefey': 4535, 'speaks': 4278, 'quash': 3614, 'beef': 403, 'trivia': 4704, 'game': 1857, 'blunder': 511, 'suggests': 4439, 'would': 5011, 'kris': 2570, 'hammered': 2044, 'karaoke': 2489, 'boozy': 541, 'reese': 3717, 'witherspoon': 4984, 'pelting': 3379, 'ice': 2258, 'cream': 1085, 'meryl': 2953, 'streep': 4400, 'everything': 1561, 'beyonc': 444, 'knowles': 2561, 'absolute': 14, 'diva': 1338, 'invited': 2351, 'everyone': 1560, 'ignored': 2267, 'guest': 2003, 'ben': 423, 'affleck': 71, 'pushed': 3610, 'garner': 1865, 'join': 2440, 'church': 866, 'team': 4526, 'denies': 1240, 'smitten': 4223, 'young': 5043, 'lookalike': 2746, 'barker': 357, 'changed': 796, 'lo': 2726, 'rod': 3871, 'think': 4584, 'charles': 808, 'father': 1650, 'diana': 1279, 'lover': 2766, 'something': 4250, 'hudson': 2229, 'tease': 4529, 'assisted': 266, 'world': 5004, 'listen': 2718, 'relieved': 3745, 'accepted': 21, 'olive': 3237, 'branch': 571, 'weeknd': 4918, 'quote': 3630, 'posted': 3502, 'hollywoodlife': 2178, 'fake': 1619, 'cindy': 873, 'crawford': 1081, 'supermodel': 4454, 'swim': 4486, 'morning': 3048, 'dip': 1299, 'gif': 1906, 'mindy': 2994, 'kaling': 2485, 'give': 1918, 'welcome': 4926, 'katherine': 2500, 'selleck': 4041, 'weighs': 4920, 'magnum': 2813, 'reboot': 3690, 'make': 2823, 'cameo': 681, 'detail': 1266, 'stewart': 4370, 'robert': 3862, 'pattinson': 3357, 'surprise': 4462, 'reunion': 3806, 'pot': 3505, 'save': 3974, 'wham': 4935, 'producer': 3563, 'hottest': 2219, 'george': 1886, 'biopic': 473, 'falling': 1624, 'apart': 199, 'scary': 3989, 'sign': 4163, 'burnt': 649, 'headed': 2094, 'breakdown': 579, 'la': 2583, 'vega': 4813, 'shooting': 4138, 'multiple': 3074, 'gunman': 2009, 'dressed': 1394, 'security': 4026, 'guard': 1998, 'oct': 3213, 'peter': 3405, 'strzok': 4411, 'fbi': 1658, 'agent': 78, 'texting': 4569, 'scandal': 3983, 'testify': 4562, 'congress': 998, 'amal': 136, 'billion': 465, 'announcement': 180, 'staying': 4353, 'held': 2119, 'hand': 2046, 'transgender': 4682, 'andreja': 159, 'pejic': 3376, 'leonardo': 2665, 'dicaprio': 1282, 'losing': 2755, 'interest': 2333, 'life': 2688, 'amid': 147, 'midlife': 2977, 'crisis': 1100, 'verge': 4820, 'mental': 2951, 'spending': 4286, 'quality': 3613, 'time': 4619, 'amanda': 137, 'seyfried': 4084, 'good': 1946, 'advice': 66, 'used': 4793, 'introducing': 2344, 'finn': 1714, 'bindi': 469, 'irwin': 2361, 'chandler': 793, 'powell': 3510, 'late': 2608, 'dad': 1153, 'reincarnation': 3730, 'wrong': 5020, 'comprehensive': 972, 'bella': 420, 'hadid': 2026, 'julianne': 2472, 'hough': 2220, 'brook': 613, 'laich': 2594, 'weekend': 4917, 'every': 1559, 'special': 4280, 'lindsay': 2708, 'shookus': 4136, 'complicated': 970, 'blame': 492, 'shutting': 4157, 'prof': 3566, 'quite': 3625, 'yet': 5038, 'lea': 2630, 'michele': 2970, 'biggest': 457, 'faux': 1655, 'pa': 3299, 'visiting': 4848, 'outraged': 3278, 'linkin': 2712, 'park': 3330, 'chester': 837, 'bennington': 429, 'tribute': 4698, 'stream': 4398, 'caught': 758, 'nazi': 3119, 'satanism': 3968, 'hearing': 2102, 'lean': 2639, 'girlfriend': 1914, 'go': 1932, 'deaf': 1193, 'reacts': 3675, 'matt': 2894, 'lauer': 2613, 'firing': 1718, 'let': 2673, 'door': 1372, 'hit': 2167, 'shockingly': 4134, 'involving': 2352, 'future': 1840, 'daddy': 1155, 'hard': 2064, 'bottom': 549, 'chris': 856, 'hemsworth': 2128, 'comment': 951, 'co': 916, 'elsa': 1479, 'pataky': 3348, 'expose': 1595, 'elite': 1470, 'pedophile': 3370, 'satanic': 3967, 'illuminati': 2272, 'actor': 41, 'terry': 4558, 'crew': 1094, 'sexually': 4082, 'assaulted': 262, 'executive': 1575, 'britney': 603, 'spear': 4279, 'fall': 1622, 'laughing': 2615, 'matter': 2895, 'gunning': 2011, 'replace': 3767, 'gma': 1931, 'north': 3188, 'struggling': 4410, 'sister': 4185, 'arrival': 237, 'acting': 39, 'seeking': 4030, 'attention': 276, 'boyfriend': 562, 'steve': 4368, 'lepore': 2667, 'demanding': 1232, 'tell': 4541, 'oj': 3233, 'rep': 3764, 'natural': 3117, 'preggo': 3523, 'happy': 2060, 'becoming': 399, 'considering': 1008, 'london': 2738, 'lopez': 2749, 'checking': 825, 'song': 4254, 'cute': 1143, 'flip': 1736, 'flop': 1746, 'christina': 861, 'el': 1464, 'moussa': 3059, 'fast': 1645, 'admits': 56, 'residency': 3783, 'musical': 3087, 'journey': 2461, 'settling': 4073, 'joe': 2435, 'alwyn': 130, 'billboard': 463, 'award': 301, 'intimate': 2338, 'affair': 69, 'prove': 3592, 'worse': 5007, 'white': 4942, 'chef': 830, 'quits': 3626, 'eaten': 1445, 'olivia': 3238, 'munn': 3076, 'dish': 1318, 'private': 3554, 'aaron': 1, 'rodgers': 3872, 'accord': 25, 'variety': 4810, 'anytime': 198, 'soon': 4255, 'anti': 191, 'defamation': 1214, 'league': 2634, 'blast': 496, 'larry': 2605, 'david': 1183, 'concentration': 975, 'camp': 687, 'joke': 2443, 'offensive': 3221, 'insensitive': 2318, 'unfunny': 4764, 'burke': 647, 'return': 3803, 'dancing': 1164, 'really': 3683, 'throwing': 4607, 'dinner': 1297, 'single': 4180, 'find': 1710, 'biography': 471, 'cena': 777, 'wanting': 4880, 'nikki': 3172, 'opened': 3252, 'living': 2725, 'came': 680, 'exec': 1574, 'homecoming': 2182, 'teaser': 4530, 'julia': 2471, 'twilight': 4735, 'th': 4570, 'major': 2821, 'update': 4781, 'bit': 483, 'st': 4318, 'century': 781, 'wed': 4912, 'justice': 2479, 'downey': 1381, 'whistle': 4941, 'ring': 3844, 'singer': 4178, 'hurt': 2248, 'obsession': 3210, 'nicki': 3161, 'minaj': 2992, 'reunites': 3809, 'sienna': 4162, 'miller': 2989, 'chaos': 801, 'launch': 2616, 'york': 5041, 'city': 880, 'honeymoon': 2190, 'revealed': 3812, 'island': 2364, 'confident': 986, 'coming': 949, 'prayer': 3518, 'hurricane': 2247, 'irma': 2359, 'experience': 1586, 'unusual': 4778, 'tool': 4645, 'us': 4790, 'glowing': 1930, 'skin': 4197, 'hold': 2172, 'pratt': 3517, 'amy': 152, 'poehler': 3466, 'drew': 1395, 'barrymore': 361, 'timothy': 4623, 'olyphant': 3242, 'enjoy': 1513, 'spot': 4307, 'downtime': 1383, 'filming': 1700, 'santa': 3959, 'clarita': 887, 'diet': 1288, 'keeping': 2508, 'stiffed': 4371, 'role': 3876, 'extreme': 1598, 'hair': 2030, 'color': 936, 'daytime': 1188, 'emmy': 1492, 'nomination': 3184, 'annual': 184, 'ethnicity': 1544, 'plan': 3446, 'road': 3856, 'epic': 1524, 'stealth': 4356, 'chlo': 847, 'grace': 1966, 'moretz': 3045, 'shaming': 4095, 'red': 3710, 'shoe': 4135, 'dwarf': 1426, 'ad': 45, 'walk': 4869, 'espn': 1537, 'donating': 1367, 'relief': 3744, 'effort': 1457, 'third': 4585, 'absentee': 13, 'mystery': 3095, 'might': 2981, 'confusing': 995, 'situation': 4189, 'introduces': 2343, 'friendship': 1817, 'flirtation': 1740, 'began': 406, 'still': 4374, 'zayn': 5050, 'desperate': 1261, 'defend': 1215, 'gigi': 1911, 'mariah': 2859, 'carey': 714, 'malik': 2833, 'nine': 3174, 'spill': 4293, 'sex': 4078, 'book': 533, 'lambert': 2597, 'nastier': 3111, 'anna': 173, 'faris': 1637, 'point': 3468, 'enters': 1517, 'rehab': 3726, 'hugh': 2233, 'jackman': 2375, 'fat': 1647, 'done': 1369, 'playing': 3456, 'wolverine': 4990, 'contestant': 1017, 'cry': 1120, 'reality': 3681, 'leak': 2636, 'tune': 4722, 'men': 2949, 'room': 3887, 'singing': 4179, 'peeing': 3372, 'winslet': 4970, 'seek': 4029, 'ban': 339, 'publication': 3596, 'partly': 3338, 'naked': 3099, 'lautner': 2619, 'billie': 464, 'lourd': 2760, 'address': 51, 'rumored': 3917, 'sophia': 4257, 'hutchins': 2251, 'little': 2720, 'carry': 729, 'learning': 2644, 'coping': 1037, 'belief': 416, 'guiding': 2005, 'son': 4253, 'admit': 55, 'wannabe': 4877, 'rapper': 3661, 'colin': 927, 'farrell': 1640, 'craziest': 1083, 'antic': 192, 'ariel': 223, 'winter': 4972, 'sarah': 3962, 'hyland': 2255, 'modern': 3027, 'watson': 4900, 'seemingly': 4031, 'golden': 1940, 'globe': 1926, 'kidman': 2532, 'booked': 534, 'entire': 1519, 'centre': 780, 'hotel': 2218, 'ahead': 85, 'manchester': 2841, 'gig': 1909, 'lawrence': 2623, 'wapo': 4881, 'reporter': 3772, 'judge': 2466, 'roy': 3905, 'moore': 3043, 'criminal': 1098, 'faking': 1621, 'percentfedup': 3385, 'com': 941, 'eric': 1530, 'johnson': 2439, 'divorcing': 1342, 'drinking': 1396, 'tour': 4660, 'cancellation': 692, 'sustainable': 4473, 'fiercely': 1689, 'channing': 800, 'tatum': 4516, 'jenna': 2405, 'dewan': 1274, 'announce': 178, 'quit': 3624, 'humiliating': 2239, 'hang': 2051, 'dj': 1343, 'khaled': 2523, 'asahd': 245, 'cia': 868, 'document': 1349, 'citizen': 879, 'recreate': 3708, 'candis': 695, 'cayne': 763, 'actually': 44, 'removed': 3757, 'crumbling': 1116, 'absolutely': 15, 'nothing': 3192, 'trueamericans': 4712, 'nbspthis': 3122, 'website': 4910, 'sale': 3946, 'nbsptrueamericans': 3123, 'resource': 3788, 'information': 2309, 'leaving': 2649, 'announcing': 182, 'shep': 4120, 'smith': 4222, 'canned': 697, 'control': 1022, 'hate': 2080, 'lionel': 2713, 'threatened': 4596, 'dump': 1413, 'cheating': 822, 'dina': 1295, 'lohan': 2736, 'upcoming': 4780, 'james': 2384, 'corden': 1041, 'bromance': 611, 'crown': 1112, 'season': 4020, 'gordonstoun': 1952, 'lazy': 2627, 'af': 68, 'crush': 1117, 'performance': 3390, 'root': 3889, 'england': 1509, 'comedian': 944, 'kevin': 2521, 'hart': 2073, 'condition': 978, 'gory': 1954, 'car': 705, 'crash': 1077, 'emotional': 1493, 'michelle': 2971, 'afraid': 73, 'may': 2901, 'marry': 2876, 'levi': 2677, 'meaden': 2923, 'sooner': 4256, 'serious': 4061, 'british': 602, 'nra': 3194, 'jim': 2427, 'porter': 3491, 'falsely': 1628, 'saying': 3979, 'colored': 938, 'driving': 1399, 'insane': 2317, 'jealousy': 2399, 'throw': 4605, 'megyn': 2937, 'bus': 650, 'defends': 1216, 'initial': 2311, 'remark': 3749, 'charlottesville': 811, 'side': 4159, 'annoyed': 183, 'lamar': 2596, 'odom': 3219, 'hung': 2240, 'joaquin': 2432, 'phoenix': 3413, 'rooney': 3888, 'mara': 2853, 'nfl': 3156, 'using': 4795, 'leather': 2647, 'football': 1764, 'madonna': 2809, 'fired': 1716, 'assistant': 265, 'midflight': 2975, 'propose': 3582, 'reason': 3686, 'jet': 2419, 'failing': 1612, 'rekindle': 3735, 'daily': 1157, 'mail': 2819, 'publishes': 3599, 'apology': 206, 'sir': 4183, 'elton': 1481, 'misleading': 3009, 'pressparty': 3537, 'aggressive': 79, 'depth': 1254, 'analysis': 153, 'language': 2602, 'versus': 4824, 'nun': 3200, 'legal': 2657, 'mayhem': 2904, 'big': 456, 'betrayal': 439, 'athenaeum': 268, 'sick': 4158, 'biological': 472, 'paulson': 3362, 'announces': 181, 'brooklyn': 614, 'dropped': 1401, 'college': 931, 'due': 1409, 'homesickness': 2185, 'clooney': 908, 'terrified': 4554, 'safety': 3941, 'photographer': 3418, 'sneak': 4231, 'onto': 3248, 'property': 3581, 'wintour': 4973, 'parental': 3327, 'choice': 851, 'must': 3092, 'worried': 5005, 'overseeing': 3291, 'expert': 1587, 'shamed': 4093, 'straightening': 4393, 'immigration': 2276, 'order': 3259, 'agdal': 75, 'feel': 1664, 'brown': 618, 'found': 1785, 'note': 3191, 'kaia': 2482, 'gerber': 1890, 'wear': 4906, 'wig': 4953, 'dining': 1296, 'film': 1698, 'reuniting': 3810, 'screen': 4009, 'clogged': 907, 'toilet': 4635, 'victorian': 4834, 'promote': 3577, 'company': 960, 'jong': 2451, 'un': 4750, 'killed': 2537, 'overnight': 3289, 'black': 489, 'op': 3250, 'korea': 2566, 'adam': 46, 'levine': 2678, 'cooled': 1032, 'sun': 4446, 'introduce': 2341, 'neri': 3141, 'oxman': 3295, 'six': 4190, 'hire': 2163, 'bouncer': 552, 'protect': 3586, 'newborn': 3150, 'rome': 3881, 'bang': 341, 'theory': 4577, 'catfight': 754, 'kaley': 2484, 'mayim': 2905, 'icy': 2261, 'run': 3920, 'super': 4449, 'bowl': 555, 'lii': 2696, 'patriot': 3355, 'eagle': 1433, 'sausage': 3971, 'factory': 1609, 'income': 2295, 'shut': 4154, 'grammy': 1969, 'category': 752, 'limiting': 2703, 'kuwtk': 2580, 'barely': 354, 'tv': 4729, 'confirm': 987, 'infatuated': 2306, 'rushed': 3924, 'hospital': 2211, 'complication': 971, 'ok': 3234, 'much': 3069, 'younger': 5044, 'manager': 2840, 'employee': 1495, 'checker': 824, 'ave': 295, 'bear': 385, 'born': 543, 'mean': 2926, 'trial': 4696, 'separation': 4054, 'sleeping': 4210, 'inspiration': 2323, 'lure': 2788, 'wild': 4955, 'princess': 3549, 'charlotte': 810, 'muslim': 3091, 'disturbing': 1335, 'come': 942, 'grocery': 1991, 'store': 4385, 'bare': 353, 'prepare': 3529, 'wish': 4978, 'read': 3676, 'twitter': 4738, 'community': 957, 'angry': 168, 'kiss': 2552, 'gosling': 1955, 'eva': 1548, 'mendes': 2950, 'fed': 1663, 'hefner': 2116, 'crystal': 1122, 'harris': 2070, 'inherit': 2310, 'jimmy': 2428, 'kimmel': 2542, 'surprising': 4464, 'gavin': 1873, 'rossdale': 3896, 'elin': 1469, 'nordegren': 3186, 'daniel': 1167, 'radcliffe': 3639, 'erin': 1532, 'darke': 1172, 'host': 2214, 'national': 3115, 'enquirer': 1515, 'worry': 5006, 'overseas': 3290, 'xmas': 5025, 'griffin': 1986, 'injury': 2314, 'blamed': 493, 'renee': 3760, 'zellweger': 5052, 'doyle': 1385, 'bramhall': 570, 'ii': 2270, 'ron': 3884, 'perlman': 3394, 'knew': 2559, 'abuse': 16, 'coward': 1069, 'silent': 4168, 'heidi': 2117, 'klum': 2557, 'bf': 447, 'vito': 4849, 'schnabel': 3993, 'responds': 3790, 'forward': 1782, 'abc': 6, 'herpes': 2137, 'usher': 4794, 'dismissed': 1320, 'sexy': 4083, 'teresa': 4550, 'giudice': 1916, 'businessman': 654, 'karrueche': 2494, 'tran': 4676, 'screw': 4011, 'whoever': 4947, 'shock': 4131, 'untrue': 4777, 'noel': 3180, 'gallagher': 1854, 'solo': 4247, 'debut': 1201, 'cat': 746, 'written': 5019, 'musician': 3088, 'tillis': 4616, 'death': 1196, 'critic': 1102, 'goop': 1950, 'gwyneth': 2020, 'paltrow': 3312, 'camila': 684, 'alves': 128, 'lifestyle': 2689, 'site': 4187, 'resigns': 3786, 'blanket': 495, 'guardian': 1999, 'seen': 4033, 'cheat': 819, 'admitted': 57, 'struggled': 4409, 'balance': 329, 'work': 4999, 'double': 1377, 'hank': 2053, 'rita': 3853, 'wilson': 4962, 'autopsy': 293, 'result': 3796, 'vince': 4839, 'foster': 1783, 'exhumed': 1577, 'cause': 759, 'wendy': 4930, 'williams': 4960, 'sits': 4188, 'hot': 2217, 'seat': 4021, 'handling': 2049, 'embarrassed': 1484, 'ghost': 1900, 'haunted': 2086, 'residence': 3782, 'reconciling': 3702, 'failed': 1611, 'ferguson': 1673, 'parker': 3331, 'plot': 3462, 'vanessa': 4808, 'grimaldi': 1988, 'dumping': 1415, 'viall': 4827, 'smallville': 4218, 'alum': 127, 'rosenbaum': 3893, 'billionaire': 466, 'tired': 4626, 'leann': 2640, 'rime': 3843, 'short': 4142, 'haircut': 2031, 'signify': 4165, 'dna': 1345, 'tested': 4560, 'paternity': 3350, 'created': 1087, 'character': 804, 'called': 675, 'katheryn': 2501, 'hillary': 2156, 'clinton': 904, 'monster': 3037, 'truck': 4710, 'mishap': 3008, 'peta': 3402, 'murgatroyd': 3081, 'maksim': 2829, 'chmerkovskiy': 849, 'reaction': 3674, 'thought': 4592, 'kidding': 2531, 'miss': 3010, 'seeing': 4028, 'since': 4176, 'facetoface': 1607, 'transition': 4683, 'bruce': 620, 'suffering': 4434, 'regret': 3724, 'number': 3199, 'three': 4599, 'gad': 1844, 'jonah': 2448, 'hill': 2155, 'mistaken': 3013, 'identity': 2263, 'bust': 655, 'joint': 2442, 'stag': 4324, 'hen': 2129, 'open': 3251, 'explodes': 1592, 'patriarch': 3352, 'funeral': 1834, 'cushy': 1138, 'internship': 2335, 'spanish': 4273, 'embassy': 1485, 'jab': 2372, 'believed': 418, 'last': 2607, 'win': 4964, 'well': 4929, 'hanging': 2052, 'aubrey': 280, 'plaza': 3457, 'elizabeth': 1472, 'blacklisting': 490, 'joy': 2462, 'thrilled': 4600, 'october': 3215, 'alicia': 104, 'cargile': 715, 'got': 1958, 'remember': 3751, 'pulse': 3602, 'nightclub': 3168, 'victim': 4831, 'memorial': 2947, 'galaxy': 1851, 'search': 4018, 'talent': 4504, 'signing': 4166, 'margot': 2857, 'robbie': 3860, 'crushing': 1118, 'cher': 833, 'chaz': 817, 'bono': 529, 'die': 1286, 'soulmate': 4264, 'destined': 1263, 'stepdad': 4363, 'old': 3235, 'happened': 2056, 'rap': 3658, 'complex': 969, 'shiloh': 4127, 'joliepitt': 2446, 'hint': 2161, 'confirms': 990, 'kind': 2544, 'fka': 1727, 'twig': 4734, 'lesbian': 2668, 'flirt': 1739, 'thon': 4589, 'instagram': 2326, 'shady': 4087, 'pre': 3520, 'phone': 3414, 'several': 4074, 'savannah': 3973, 'guthrie': 2017, 'today': 4631, 'saddest': 3938, 'cleveland': 899, 'cavalier': 761, 'turner': 4726, 'seriously': 4062, 'committed': 954, 'safaree': 3939, 'samuel': 3953, 'challenge': 788, 'meek': 2930, 'mill': 2988, 'bet': 436, 'slimmed': 4212, 'unrecognizable': 4775, 'visited': 4847, 'counseling': 1057, 'retreat': 3801, 'gaga': 1847, 'halftime': 2035, 'delivery': 1228, 'scooter': 4002, 'braun': 576, 'estranged': 1542, 'stephen': 4365, 'belafonte': 415, 'settle': 4072, 'domestic': 1360, 'violence': 4842, 'thomalla': 4586, 'german': 1892, 'presenter': 3533, 'jayz': 2397, 'ridiculous': 3839, 'speculation': 4282, 'begs': 411, 'empire': 1494, 'marilyn': 2861, 'manson': 2848, 'testicle': 4561, 'stage': 4325, 'prop': 3580, 'accident': 24, 'engagement': 1508, 'leaked': 2637, 'apologizes': 205, 'amfar': 146, 'truly': 4713, 'sorry': 4260, 'massive': 2888, 'bump': 639, 'rejected': 3734, 'confronted': 993, 'nancy': 3102, 'pelosi': 3378, 'suffers': 4435, 'taken': 4501, 'capitol': 702, 'stretcher': 4404, 'gunnin': 2010, 'gunsmoke': 2012, 'shocked': 4132, 'nominated': 3183, 'magazine': 2810, 'lack': 2590, 'integrity': 2330, 'bradley': 566, 'cooper': 1034, 'stunk': 4418, 'dirty': 1305, 'diaper': 1280, 'backseat': 318, 'tbt': 4521, 'hilton': 2158, 'lie': 2686, 'occupy': 3211, 'democrat': 1235, 'kathy': 2503, 'neighbor': 3134, 'stupid': 4424, 'tch': 4522, 'escalates': 1535, 'returning': 3804, 'coach': 917, 'hilariously': 2154, 'pranked': 3516, 'compared': 961, 'adopting': 60, 'darren': 1175, 'aronofsky': 231, 'frosty': 1820, 'latest': 2610, 'float': 1743, 'office': 3224, 'step': 4362, 'stella': 4361, 'maxwell': 2900, 'bogus': 520, 'malibu': 2832, 'injured': 2313, 'dismisses': 1321, 'mueller': 3070, 'case': 735, 'wreck': 5014, 'iggy': 2265, 'azeala': 307, 'corey': 1042, 'gamble': 1855, 'monaco': 3033, 'dry': 1407, 'economist': 1449, 'starbucks': 4340, 'placed': 3445, 'floor': 1744, 'customer': 1141, 'te': 4523, 'ward': 4883, 'clint': 903, 'eastwood': 1443, 'greatest': 1980, 'hoax': 2168, 'perpetrated': 3396, 'matthew': 2896, 'director': 1304, 'kushner': 2578, 'ivanka': 2369, 'tossed': 4652, 'cutting': 1146, 'audition': 285, 'idol': 2264, 'san': 3954, 'francisco': 1798, 'brings': 599, 'helplessly': 2127, 'womanizing': 4992, 'tim': 4617, 'mcgraw': 2919, 'asked': 255, 'faith': 1618, 'dumpling': 1416, 'charged': 806, 'trying': 4720, 'murder': 3078, 'maxine': 2899, 'water': 4896, 'allowance': 117, 'appear': 208, 'adopt': 58, 'syrian': 4493, 'refugee': 3720, 'shoot': 4137, 'fueled': 1826, 'facebook': 1604, 'pick': 3422, 'alabama': 93, 'senate': 4043, 'race': 3631, 'gateway': 1870, 'pundit': 3604, 'breitbart': 587, 'discredited': 1313, 'allred': 119, 'accuser': 31, 'mika': 2982, 'brzezinski': 626, 'facelift': 1605, 'alexis': 103, 'bledel': 497, 'lends': 2664, 'hope': 2202, 'sisterhood': 4186, 'traveling': 4690, 'pant': 3319, 'reynolds': 3822, 'lively': 2723, 'trouble': 4707, 'poke': 3470, 'fun': 1831, 'popularity': 3487, 'rumi': 3915, 'colorado': 937, 'rockies': 3868, 'baseball': 365, 'sell': 4040, 'marijuana': 2860, 'brownie': 619, 'concession': 977, 'stand': 4334, 'irish': 2357, 'superstar': 4455, 'saoirse': 3960, 'ronan': 3885, 'lucia': 2776, 'judy': 2467, 'garland': 1863, 'drive': 1397, 'amidst': 148, 'anmer': 171, 'hall': 2037, 'frustrated': 1823, 'overshadowed': 3292, 'mum': 3075, 'slammed': 4204, 'georgina': 1888, 'chapman': 802, 'cash': 737, 'cow': 1068, 'meet': 2932, 'sweet': 4482, 'racially': 3633, 'profiled': 3570, 'airport': 90, 'wearing': 4907, 'headscarf': 2097, 'nanny': 3103, 'unfairly': 4761, 'demonizing': 1237, 'simon': 4172, 'cowell': 1070, 'america': 144, 'urging': 4789, 'fairy': 1617, 'tale': 4503, 'ending': 1502, 'halloween': 2040, 'richard': 3830, 'simmons': 4171, 'radaronline': 3638, 'privacy': 3553, 'tax': 4518, 'protest': 3587, 'bisexual': 482, 'garlic': 1864, 'allergy': 113, 'either': 1463, 'fastest': 1646, 'fassbender': 1644, 'racing': 3634, 'perfect': 3387, 'pr': 3513, 'russell': 3926, 'crowe': 1111, 'forrest': 1778, 'questioning': 3619, 'douchebag': 1378, 'stiller': 4375, 'try': 4719, 'brandi': 574, 'glanville': 1923, 'dark': 1171, 'decline': 1210, 'holland': 2175, 'marisa': 2864, 'tomei': 4638, 'selfie': 4038, 'colosseum': 939, 'deal': 1194, 'collapse': 930, 'september': 4055, 'digital': 1293, 'queer': 3616, 'amber': 141, 'rose': 3891, 'club': 913, 'kissing': 2554, 'bryan': 625, 'tanaka': 4508, 'posting': 3503, 'flashback': 1730, 'ten': 4545, 'thousand': 4593, 'scientist': 4000, 'declare': 1207, 'climate': 902, 'competing': 964, 'size': 4192, 'jen': 2403, 'radar': 3637, 'reigniting': 3729, 'court': 1062, 'french': 1810, 'miraval': 3002, 'castle': 743, 'hailey': 2027, 'baldwin': 332, 'band': 340, 'fiance': 1684, 'crop': 1108, 'festival': 1677, 'decided': 1203, 'blac': 488, 'chyna': 867, 'embarrass': 1483, 'refuse': 3721, 'eye': 1600, 'jersey': 2415, 'governor': 1961, 'premiere': 3526, 'icon': 2259, 'jean': 2400, 'king': 2546, 'upstage': 4784, 'bride': 591, 'minor': 2997, 'odd': 3216, 'craving': 1080, 'peanut': 3368, 'butter': 659, 'pickle': 3425, 'billy': 467, 'ray': 3669, 'jump': 2475, 'miracle': 3000, 'val': 4799, 'cancer': 693, 'horror': 2209, 'bizarre': 487, 'power': 3511, 'direct': 1302, 'adult': 64, 'bachmann': 314, 'suffered': 4433, 'slavery': 4207, 'arnett': 229, 'lee': 2652, 'rickles': 3835, 'pay': 3363, 'sag': 3942, 'halladay': 2038, 'plane': 3447, 'former': 1777, 'mlb': 3021, 'pitcher': 3441, 'hijab': 2149, 'sparking': 4275, 'mixed': 3018, 'feeling': 1665, 'mehgan': 2938, 'lying': 2792, 'mingle': 2995, 'move': 3061, 'voter': 4858, 'fraud': 1802, 'taking': 4502, 'rest': 3793, 'track': 4668, 'niall': 3158, 'horan': 2205, 'transporter': 4686, 'skrein': 4202, 'politics': 3476, 'throne': 4604, 'departure': 1250, 'building': 636, 'pool': 3482, 'sober': 4239, 'pink': 3433, 'boozing': 540, 'armie': 227, 'hammer': 2043, 'hero': 2135, 'gave': 1872, 'yesterday': 5037, 'onstage': 3247, 'messin': 2957, 'met': 2959, 'ye': 5031, 'important': 2279, 'apologises': 203, 'deeply': 1213, 'without': 4985, 'permission': 3395, 'happiest': 2059, 'week': 4916, 'enamored': 1499, 'vmas': 4852, 'attacked': 272, 'los': 2753, 'angeles': 164, 'mobbed': 3024, 'israel': 2365, 'cancel': 690, 'pm': 3465, 'benjamin': 428, 'netanyahu': 3144, 'entertainment': 1518, 'firstpost': 1720, 'thread': 4594, 'shocking': 4133, 'saw': 3977, 'mike': 2983, 'tyson': 4745, 'offered': 3223, 'ca': 664, 'russian': 3928, 'dictator': 1284, 'vladimir': 4850, 'putin': 3612, 'hiding': 2141, 'stedman': 4358, 'dadbod': 1154, 'sidekick': 4160, 'retweeted': 3805, 'cartoon': 732, 'train': 4674, 'killing': 2539, 'cnn': 915, 'dean': 1195, 'mcdermott': 2914, 'memoir': 2945, 'georgia': 1887, 'mosque': 3050, 'donation': 1368, 'send': 4045, 'instead': 2328, 'survived': 4467, 'thrived': 4602, 'academy': 19, 'chaffetz': 785, 'thumb': 4609, 'investigating': 2347, 'email': 1482, 'server': 4066, 'virginia': 4845, 'republican': 3777, 'school': 3995, 'check': 823, 'genitals': 1882, 'bathroom': 376, 'chose': 854, 'royalty': 3908, 'angel': 163, 'clash': 891, 'dragged': 1387, 'handcuff': 2047, 'wiretapping': 4977, 'cutest': 1145, 'cusp': 1139, 'youngest': 5045, 'self': 4036, 'forbes': 1766, 'estimating': 1541, 'large': 2604, 'allow': 116, 'fury': 1839, 'replacement': 3768, 'tye': 4741, 'sheridan': 4124, 'botch': 545, 'bst': 627, 'hyde': 2254, 'diamond': 1278, 'forbids': 1767, 'magic': 2811, 'dancer': 1163, 'audience': 283, 'randall': 3651, 'indefinitely': 2300, 'canceled': 691, 'arjun': 225, 'ogale': 3230, 'heather': 2111, 'locklear': 2732, 'joining': 2441, 'rhobh': 3825, 'celeb': 766, 'agree': 82, 'mary': 2883, 'ashley': 249, 'olsen': 3239, 'soaked': 4236, 'bitchy': 485, 'evil': 1563, 'caribbean': 716, 'fever': 1682, 'transform': 4679, 'chrissy': 857, 'teigen': 4539, 'plastic': 3450, 'except': 1570, 'cheek': 827, 'surgeon': 4459, 'procedure': 3560, 'cuddle': 1123, 'conor': 1004, 'kennedy': 2514, 'strong': 4407, 'obsessed': 3209, 'glow': 1929, 'confirming': 989, 'couric': 1061, 'agony': 81, 'steamy': 4357, 'miserable': 3007, 'mural': 3077, 'disck': 1311, 'lynne': 2793, 'cocaine': 919, 'bombshell': 525, 'withdrawn': 4982, 'ignoring': 2269, 'sexiest': 4079, 'alive': 106, 'seth': 4071, 'rogen': 3874, 'franco': 1799, 'matching': 2892, 'leftover': 2654, 'physical': 3419, 'sleep': 4209, 'spoiling': 4301, 'stormi': 4388, 'webster': 4911, 'perfected': 3388, 'art': 240, 'controlling': 1023, 'narrative': 3107, 'backup': 321, 'absence': 12, 'tiara': 4611, 'mother': 3052, 'led': 2650, 'heartbroken': 2108, 'tobey': 4630, 'maguire': 2815, 'torn': 4650, 'career': 712, 'ackerley': 34, 'macaulay': 2797, 'culkin': 1126, 'friendly': 1816, 'tried': 4699, 'expected': 1582, 'iraq': 2353, 'trip': 4702, 'publicity': 3597, 'stunt': 4422, 'comfort': 947, 'tank': 4509, 'dornan': 1375, 'dakota': 1158, 'bed': 400, 'forced': 1769, 'reshoot': 3781, 'fifty': 1691, 'darker': 1173, 'catastrophic': 748, 'music': 3086, 'preview': 3543, 'naomi': 3104, 'watt': 4901, 'neeson': 3132, 'false': 1627, 'article': 242, 'le': 2629, 'fox': 1792, 'tucker': 4721, 'carlson': 719, 'head': 2093, 'collision': 933, 'camera': 682, 'wandering': 4876, 'nude': 3197, 'ish': 2362, 'brody': 607, 'police': 3471, 'female': 1670, 'freezer': 1809, 'carved': 734, 'dolly': 1358, 'parton': 3340, 'better': 442, 'bush': 651, 'put': 3611, 'liberal': 2684, 'impeach': 2277, 'standing': 4336, 'forever': 1772, 'civil': 881, 'erupts': 1534, 'sweden': 4481, 'irate': 2354, 'swede': 4480, 'burn': 648, 'center': 778, 'ground': 1994, 'cate': 751, 'blanchett': 494, 'andrew': 160, 'fine': 1712, 'cole': 926, 'strain': 4394, 'ordered': 3260, 'repair': 3765, 'ab': 2, 'simple': 4174, 'exercise': 1576, 'serena': 4058, 'mcenroe': 2916, 'circuit': 877, 'scarlett': 3988, 'johansson': 2436, 'laugh': 2614, 'jost': 2458, 'quickie': 3620, 'longoria': 2743, 'uncomfortable': 4754, 'lopsided': 2750, 'triangle': 4697, 'gift': 1908, 'forgive': 1774, 'session': 4069, 'powered': 3512, 'testimony': 4563, 'retires': 3799, 'will': 4958, 'coronation': 1045, 'steely': 4359, 'dan': 1161, 'walter': 4874, 'becker': 396, 'ballistic': 336, 'contraction': 1021, 'rush': 3923, 'sunny': 4448, 'seems': 4032, 'talking': 4507, 'ironclad': 2360, 'metoo': 2960, 'timesup': 4621, 'jewel': 2420, 'abused': 17, 'shape': 4099, 'opinion': 3254, 'whose': 4949, 'else': 1480, 'scared': 3986, 'speaking': 4277, 'greeting': 1982, 'whatsapp': 4937, 'status': 4351, 'yahoo': 5028, 'headline': 2096, 'great': 1979, 'grandmother': 1974, 'mj': 3020, 'probably': 3558, 'hopeless': 2203, 'fish': 1722, 'across': 37, 'sushi': 4469, 'restaurant': 3794, 'labelled': 2585, 'sought': 4262, 'seal': 4016, 'approval': 214, 'proposing': 3584, 'dye': 1429, 'avenger': 296, 'alec': 97, 'meyers': 2965, 'many': 2850, 'worst': 5009, 'macklemore': 2799, 'twice': 4733, 'nyc': 3204, 'terror': 4556, 'ep': 1523, 'stormed': 4387, 'tear': 4528, 'mayer': 2903, 'sent': 4050, 'savage': 3972, 'irene': 2355, 'shark': 4105, 'swimming': 4487, 'street': 4401, 'surprised': 4463, 'sasha': 3963, 'crashed': 1078, 'expensive': 1585, 'lake': 2595, 'wanted': 4879, 'aisle': 91, 'business': 653, 'nobody': 3179, 'said': 3943, 'satan': 3966, 'nice': 3159, 'guy': 2018, 'misunderstood': 3016, 'forget': 1773, 'memoriam': 2948, 'segment': 4034, 'air': 89, 'balding': 331, 'guess': 2001, 'suspect': 4470, 'gf': 1899, 'hook': 2197, 'gone': 1943, 'benet': 427, 'halle': 2039, 'berry': 433, 'boo': 530, 'da': 1151, 'bora': 542, 'baecation': 324, 'tisdale': 4627, 'maid': 2818, 'honour': 2194, 'hannibal': 2054, 'buress': 645, 'miami': 2968, 'disorderly': 1325, 'intoxication': 2340, 'incident': 2288, 'reinstated': 3732, 'sacred': 3933, 'clarifies': 886, 'completely': 967, 'context': 1018, 'declares': 1209, 'consort': 1010, 'marries': 2874, 'ceremony': 782, 'plus': 3464, 'haines': 2029, 'hired': 2164, 'detective': 1268, 'casey': 736, 'harassment': 2062, 'texted': 4568, 'comic': 948, 'con': 973, 'panel': 3316, 'anne': 176, 'hathaway': 2083, 'angering': 167, 'barbie': 351, 'demand': 1231, 'warns': 4888, 'scam': 3982, 'artist': 243, 'hillsong': 2157, 'rinsing': 3847, 'follower': 1756, 'money': 3034, 'cult': 1129, 'accusation': 29, 'ultimate': 4748, 'bff': 448, 'txt': 4740, 'master': 2889, 'hrldcpr': 2227, 'buzzfeed': 663, 'github': 1915, 'bid': 451, 'emilia': 1488, 'clarke': 889, 'flashnewscorner': 1731, 'felt': 1668, 'impulsive': 2284, 'diplo': 1300, 'flirty': 1742, 'coachella': 918, 'ago': 80, 'ange': 162, 'sweating': 4479, 'pilate': 3432, 'workout': 5003, 'class': 892, 'celebrating': 770, 'cozying': 1073, 'grimy': 1990, 'paula': 3359, 'abdul': 7, 'spark': 4274, 'disorder': 1324, 'relapse': 3736, 'elaborate': 1465, 'suing': 4441, 'pusha': 3609, 'yoga': 5039, 'rearranges': 3685, 'deck': 1205, 'chair': 786, 'redacted': 3711, 'spring': 4311, 'reunite': 3807, 'netflix': 3145, 'maniac': 2844, 'superbad': 4450, 'bothered': 547, 'farm': 1638, 'animal': 169, 'consolation': 1009, 'validate': 4803, 'existence': 1578, 'mgm': 2966, 'bringing': 598, 'gang': 1858, 'legally': 2658, 'blonde': 503, 'bracelet': 564, 'lena': 2663, 'dunham': 1418, 'affectionate': 70, 'jack': 2373, 'antonoff': 194, 'winning': 4969, 'gretchen': 1984, 'nd': 3125, 'amendment': 143, 'invented': 2346, 'hide': 2140, 'gross': 1992, 'stuff': 4417, 'blowout': 509, 'eniko': 1512, 'title': 4628, 'stranger': 4395, 'creator': 1090, 'heartbreaking': 2107, 'cold': 925, 'divided': 1340, 'ferrell': 1675, 'frenemies': 1811, 'steal': 4354, 'thunder': 4610, 'jt': 2464, 'breast': 583, 'lift': 2691, 'causing': 760, 'problem': 3559, 'raise': 3647, 'ranking': 3655, 'pad': 3303, 'library': 2685, 'following': 1757, 'robbery': 3859, 'dumped': 1414, 'exchange': 1571, 'loving': 2767, 'celebration': 771, 'swearing': 4477, 'drown': 1404, 'fatherhood': 1651, 'bitter': 486, 'blood': 504, 'rage': 3643, 'katharine': 2499, 'mcphee': 2921, 'jane': 2386, 'doe': 1352, 'charlie': 809, 'hunnam': 2243, 'booed': 532, 'senior': 4047, 'selfhelp': 4037, 'writing': 5018, 'unsual': 4776, 'sauna': 3970, 'addiction': 50, 'comey': 946, 'total': 4653, 'vindication': 4840, 'hudgens': 2228, 'butler': 658, 'remembers': 3752, 'brother': 615, 'tyga': 4742, 'springsteen': 4313, 'meadow': 2924, 'walker': 4870, 'denise': 1242, 'richards': 3831, 'explains': 1589, 'pee': 3371, 'stain': 4327, 'spilled': 4294, 'area': 218, 'heavyweight': 2113, 'small': 4217, 'yes': 5036, 'analyzing': 154, 'reputation': 3778, 'usual': 4797, 'scowling': 4005, 'venus': 4818, 'wimbledon': 4963, 'spain': 4272, 'garbi': 1860, 'muguruza': 3072, 'raid': 3645, 'hidden': 2139, 'duo': 1420, 'fm': 1753, 'finalized': 1706, 'injection': 2312, 'kinney': 2549, 'ford': 1770, 'resurrecting': 3797, 'texas': 4566, 'enforcement': 1505, 'officer': 3225, 'fatally': 1648, 'shot': 4143, 'upon': 4782, 'arriving': 239, 'deport': 1251, 'highest': 2145, 'liv': 2721, 'tyler': 4743, 'waiting': 4864, 'fourth': 1790, 'waitress': 4865, 'tip': 4625, 'picking': 3424, 'soldier': 4246, 'tab': 4497, 'nbc': 3121, 'anchor': 156, 'florence': 1748, 'blown': 508, 'amas': 138, 'kidney': 2534, 'australia': 291, 'flash': 1729, 'beard': 386, 'petra': 3407, 'collins': 932, 'crazy': 1084, 'proved': 3593, 'dominance': 1361, 'economy': 1450, 'curious': 1134, 'robocall': 3865, 'damaging': 1159, 'supporting': 4457, 'jason': 2391, 'aldean': 96, 'exploit': 1593, 'chinese': 845, 'lunar': 2784, 'rover': 3902, 'evidence': 1562, 'landing': 2601, 'dissed': 1331, 'lusting': 2789, 'funniest': 1835, 'bug': 635, 'prank': 3515, 'spider': 4291, 'firefighter': 1717, 'others': 3271, 'penalty': 3381, 'breaker': 580, 'introduced': 2342, 'pal': 3308, 'catch': 749, 'hooking': 2199, 'hunger': 2241, 'strike': 4405, 'pooh': 3481, 'sweetest': 4483, 'flaunt': 1733, 'beach': 383, 'romp': 3883, 'suki': 4443, 'waterhouse': 4898, 'heartbreak': 2105, 'response': 3791, 'carnival': 721, 'offer': 3222, 'free': 1805, 'betrayed': 440, 'cashing': 738, 'record': 3704, 'fonda': 1758, 'patrick': 3353, 'dempsey': 1238, 'jillian': 2426, 'arrest': 234, 'fairmont': 1616, 'terrace': 4553, 'apartment': 200, 'destroy': 1264, 'stokes': 4377, 'barack': 348, 'died': 1287, 'parent': 3326, 'disagree': 1307, 'nsync': 3196, 'filing': 1694, 'jada': 2378, 'pinkett': 3434, 'place': 3444, 'district': 1333, 'craig': 1076, 'jacket': 2374, 'maker': 2826, 'huge': 2231, 'alleged': 109, 'carter': 731, 'attracted': 279, 'letter': 2675, 'shame': 4092, 'rip': 3850, 'tragic': 4672, 'episode': 1525, 'mar': 2852, 'lago': 2592, 'destroyed': 1265, 'jared': 2389, 'philanthropist': 3410, 'holliday': 2176, 'inauguration': 2286, 'afford': 72, 'nadine': 3098, 'leopold': 2666, 'abasolo': 3, 'brave': 577, 'rain': 3646, 'errand': 1533, 'dying': 1430, 'treat': 4693, 'ton': 4640, 'schwimmer': 3999, 'trapped': 4687, 'nasty': 3112, 'laguna': 2593, 'antifa': 193, 'hogg': 2170, 'attend': 274, 'parkland': 3333, 'redondo': 3714, 'shore': 4141, 'california': 673, 'graduated': 1967, 'yearbook': 5033, 'chance': 792, 'sandler': 3956, 'safdie': 3940, 'uncut': 4756, 'gem': 1878, 'throat': 4603, 'panic': 3317, 'bette': 441, 'midler': 2976, 'pierce': 3431, 'hello': 2123, 'july': 2474, 'took': 4644, 'clothes': 912, 'cheekily': 828, 'grab': 1964, 'tush': 4728, 'enough': 1514, 'attract': 278, 'underwood': 4758, 'warped': 4889, 'mit': 3017, 'professor': 3568, 'pleads': 3459, 'prevent': 3541, 'hip': 2162, 'hop': 2201, 'shaded': 4086, 'trainer': 4675, 'nutritionist': 3202, 'goldie': 1941, 'hawn': 2089, 'kurt': 2577, 'match': 2891, 'helped': 2125, 'recover': 3707, 'transplant': 4685, 'giving': 1920, 'connecting': 1002, 'literally': 2719, 'massage': 2887, 'bought': 550, 'penthouse': 3383, 'presented': 3532, 'vlogmail': 4851, 'offender': 3220, 'celebritynews': 773, 'celebrityrumors': 774, 'fakenews': 1620, 'gossipcop': 1957, 'sabotaging': 3932, 'trademark': 4670, 'officially': 3227, 'denied': 1239, 'deep': 1212, 'download': 1382, 'hq': 2225, 'porn': 3488, 'massacre': 2886, 'saved': 3975, 'lost': 2757, 'cory': 1048, 'booker': 535, 'dis': 1306, 'wood': 4994, 'denouncing': 1246, 'turn': 4724, 'gerard': 1889, 'bankrupt': 345, 'lexus': 2681, 'suv': 4474, 'denounces': 1245, 'reference': 3718, 'renovating': 3763, 'rumoured': 3919, 'debunking': 1200, 'mccarthyism': 2910, 'accuses': 32, 'wire': 4975, 'tapping': 4511, 'election': 1466, 'guilty': 2007, 'conduct': 982, 'cattrall': 757, 'toxic': 4663, 'weather': 4908, 'buying': 662, 'alivetales': 107, 'learns': 2645, 'sing': 4177, 'maddox': 2804, 'scare': 3985, 'lead': 2631, 'kicked': 2527, 'direction': 1303, 'pope': 3484, 'francis': 1797, 'koran': 2564, 'holy': 2180, 'bible': 450, 'adoption': 61, 'fashion': 1642, 'apprentice': 212, 'confuses': 994, 'evans': 1552, 'service': 4067, 'ask': 254, 'londoner': 2739, 'tattoo': 4515, 'tragedy': 4671, 'shatters': 4106, 'jeopardy': 2410, 'troubled': 4708, 'temper': 4543, 'mcconaughey': 2911, 'original': 3263, 'lyric': 2794, 'gorgeous': 1953, 'telling': 4542, 'letterman': 2676, 'retired': 3798, 'risk': 3852, 'fortune': 1780, 'gambling': 1856, 'ralphie': 3649, 'broderick': 606, 'butterfly': 660, 'adorable': 62, 'tempting': 4544, 'endless': 1503, 'exaggerated': 1568, 'bonding': 528, 'feuding': 1681, 'guide': 2004, 'increasingly': 2297, 'intense': 2331, 'irina': 2356, 'shayk': 4111, 'tonya': 4643, 'harding': 2067, 'finale': 1704, 'livid': 2724, 'kerry': 2519, 'bond': 527, 'pippa': 3436, 'sharing': 4104, 'rushing': 3925, 'universe': 4772, 'guayana': 2000, 'arrestada': 235, 'kilo': 2540, 'en': 1498, 'african': 74, 'doll': 1356, 'produce': 3562, 'spends': 4287, 'kick': 2526, 'derek': 1256, 'witnessed': 4987, 'here': 2134, 'terrifying': 4555, 'zac': 5049, 'efron': 1458, 'serial': 4059, 'killer': 2538, 'ted': 4533, 'bundy': 642, 'freed': 1807, 'fill': 1695, 'studio': 4415, 'kashing': 2496, 'shopping': 4140, 'spree': 4310, 'dollar': 1357, 'burglarized': 646, 'awkward': 304, 'avoid': 297, 'bash': 367, 'spook': 4305, 'slowly': 4215, 'poisoning': 3469, 'fuming': 1830, 'copycat': 1038, 'perfume': 3392, 'reconciliation': 3701, 'higgins': 2142, 'lauren': 2618, 'bushnell': 652, 'bad': 322, 'cuddling': 1124, 'close': 909, 'confesses': 983, 'recall': 3692, 'screech': 4008, 'dustin': 1424, 'courteney': 1063, 'cox': 1071, 'mistress': 3015, 'thug': 4608, 'osborne': 3268, 'industry': 2303, 'act': 38, 'gentleman': 1884, 'taunt': 4517, 'packer': 3301, 'branded': 573, 'remove': 3756, 'showmance': 4150, 'staging': 4326, 'barrel': 358, 'contain': 1013, 'part': 3336, 'liev': 2687, 'schreiber': 3996, 'stepped': 4366, 'spotlight': 4308, 'stunning': 4420, 'cannes': 698, 'carpet': 725, 'france': 1795, 'criticism': 1104, 'axl': 305, 'passionate': 3345, 'makeup': 2827, 'explained': 1588, 'stunned': 4419, 'pretty': 3539, 'bridesmaid': 592, 'among': 150, 'racist': 3636, 'battling': 381, 'pursuing': 3608, 'spokesman': 4303, 'erika': 1531, 'cardenas': 708, 'stake': 4328, 'multimillion': 3073, 'juan': 2465, 'council': 1056, 'unanimously': 4751, 'hating': 2084, 'mayor': 2906, 'also': 125, 'insider': 2320, 'gibson': 1905, 'sherry': 4125, 'lansing': 2603, 'hines': 2159, 'freak': 1803, 'rfk': 3823, 'forum': 1781, 'considered': 1007, 'feuded': 1680, 'heche': 2114, 'rd': 3670, 'palace': 3309, 'barstool': 362, 'sport': 4306, 'nolan': 3181, 'kept': 2516, 'casting': 742, 'whether': 4939, 'played': 3454, 'outsize': 3281, 'political': 3472, 'bollywood': 522, 'ordering': 3261, 'conway': 1028, 'politicizing': 3475, 'disrespectful': 1327, 'via': 4826, 'surrogate': 4465, 'bikini': 459, 'vacation': 4798, 'turk': 4723, 'caicos': 667, 'sends': 4046, 'flower': 1750, 'gender': 1879, 'gap': 1859, 'least': 2646, 'horse': 2210, 'waterfront': 4897, 'estate': 1539, 'bernie': 432, 'madoff': 2808, 'orchestrated': 3258, 'bos': 544, 'mistreats': 3014, 'staff': 4322, 'heard': 2101, 'booty': 539, 'gate': 1869, 'reagan': 3679, 'passed': 3343, 'united': 4770, 'beginning': 410, 'separated': 4053, 'stolen': 4379, 'jewellery': 2421, 'funding': 1833, 'terrorism': 4557, 'pleased': 3461, 'ski': 4195, 'discover': 1312, 'huma': 2236, 'abedin': 8, 'dumpster': 1417, 'recognizing': 3700, 'potential': 3506, 'peril': 3393, 'limitless': 2704, 'mind': 2993, 'near': 3127, 'vanity': 4809, 'fair': 1615, 'uspet': 4796, 'deadpool': 1192, 'mainly': 2820, 'fiancee': 1685, 'pissed': 3439, 'gym': 2022, 'lifted': 2692, 'conjugal': 1001, 'hookup': 2200, 'exposed': 1596, 'became': 394, 'pampered': 3314, 'pooch': 3480, 'ruined': 3911, 'luxury': 2790, 'venue': 4817, 'hoping': 2204, 'nba': 3120, 'brolin': 610, 'almost': 120, 'choking': 852, 'different': 1291, 'priority': 3551, 'removing': 3758, 'marine': 2862, 'navy': 3118, 'smokin': 4224, 'inc': 2287, 'resign': 3784, 'fascinating': 1641, 'undercover': 4757, 'acms': 36, 'cara': 706, 'delevingne': 1225, 'deleted': 1224, 'storm': 4386, 'ditching': 1337, 'agency': 77, 'focus': 1754, 'alessandra': 98, 'ambrosio': 142, 'insisting': 2321, 'chelsea': 831, 'handler': 2048, 'fault': 1654, 'schumer': 3997, 'cocktail': 920, 'phelps': 3409, 'april': 216, 'fool': 1761, 'hug': 2230, 'fuel': 1825, 'houston': 2224, 'texan': 4565, 'goo': 1945, 'lifetime': 2690, 'freeman': 1808, 'narrates': 3106, 'closing': 911, 'campaign': 688, 'ungrateful': 4766, 'threatening': 4597, 'starboy': 4339, 'liar': 2683, 'administration': 54, 'politician': 3474, 'disapproval': 1310, 'perrie': 3398, 'edward': 1456, 'sunglass': 4447, 'welcoming': 4927, 'whirlwind': 4940, 'damon': 1160, 'alyssa': 133, 'milano': 2985, 'condone': 981, 'misconduct': 3006, 'baio': 328, 'beloved': 422, 'conservatism': 1006, 'arnold': 230, 'cohen': 924, 'pro': 3557, 'russia': 3927, 'weed': 4915, 'assange': 259, 'gop': 1951, 'congressman': 1000, 'tough': 4658, 'beat': 389, 'hosting': 2216, 'postoscars': 3504, 'starting': 4345, 'fostering': 1784, 'tiger': 4614, 'lin': 2705, 'manuel': 2849, 'puerto': 3600, 'rico': 3837, 'extortion': 1597, 'attempt': 273, 'suggestive': 4438, 'renew': 3761, 'vow': 4860, 'lovingly': 2768, 'stay': 4352, 'warm': 4885, 'sized': 4193, 'scarf': 3987, 'weigh': 4919, 'attorney': 277, 'general': 1880, 'recusal': 3709, 'ruling': 3914, 'darkness': 1174, 'denzel': 1248, 'washington': 4892, 'avoided': 298, 'orwellian': 3266, 'al': 92, 'roker': 3875, 'recent': 3697, 'redford': 3713, 'five': 1725, 'murdered': 3079, 'dnc': 1346, 'staffer': 4323, 'rich': 3829, 'wikileaks': 4954, 'covered': 1066, 'sweetheart': 4484, 'bachelor': 312, 'whitney': 4945, 'bischoff': 481, 'didnt': 1285, 'johnny': 2438, 'depp': 1252, 'deadly': 1191, 'disease': 1316, 'ticket': 4612, 'carrey': 727, 'brainwashing': 569, 'worshipping': 5008, 'paulina': 3361, 'rubio': 3910, 'collaborating': 928, 'snake': 4227, 'forthcoming': 1779, 'outside': 3280, 'buckingham': 630, 'backfire': 316, 'revelation': 3814, 'aspen': 258, 'epitome': 1526, 'beauty': 393, 'brain': 568, 'jon': 2447, 'hamm': 2042, 'lauded': 2612, 'juggling': 2469, 'wine': 4966, 'leaping': 2641, 'svu': 4475, 'renewed': 3762, 'showrunner': 4151, 'rick': 3834, 'eid': 1460, 'exit': 1580, 'pd': 3365, 'nickname': 3163, 'approve': 215, 'barrett': 359, 'corinne': 1044, 'olympios': 3241, 'demario': 1233, 'transitioning': 4684, 'catelynn': 753, 'lowell': 2770, 'treatment': 4694, 'charm': 812, 'casual': 744, 'sweat': 4478, 'front': 1819, 'row': 3903, 'nyfw': 3205, 'leighton': 2661, 'meester': 2931, 'platinum': 3451, 'juelia': 2468, 'evan': 1550, 'bass': 372, 'montag': 3038, 'spencer': 4284, 'ranked': 3654, 'including': 2293, 'kissable': 2553, 'sam': 3949, 'asghari': 246, 'montage': 3039, 'harrison': 2071, 'rooting': 3890, 'announced': 179, 'footage': 1763, 'jordan': 2452, 'glo': 1925, 'feldman': 1666, 'rape': 3659, 'coreys': 1043, 'aside': 253, 'fame': 1629, 'mess': 2955, 'financially': 1709, 'beau': 390, 'benefit': 426, 'gold': 1938, 'ronnie': 3886, 'dissects': 1330, 'penn': 3382, 'haiti': 2033, 'atlanta': 270, 'shia': 4126, 'labeouf': 2586, 'weirdest': 4924, 'lesson': 2672, 'learned': 2643, 'mac': 2796, 'fianc': 1683, 'longer': 2742, 'worked': 5000, 'thor': 4590, 'ragnarok': 3644, 'theater': 4574, 'mark': 2867, 'zuckerberg': 5061, 'booster': 537, 'claire': 884, 'declared': 1208, 'independence': 2301, 'loved': 2764, 'second': 4023, 'metz': 2962, 'banked': 343, 'series': 4060, 'evolution': 1564, 'quickly': 3621, 'shampoo': 4096, 'ncis': 3124, 'cbs': 765, 'harmon': 2068, 'ink': 2315, 'teen': 4536, 'og': 3229, 'mackenzie': 2798, 'standifer': 4335, 'douglas': 1379, 'praise': 3514, 'catherine': 755, 'zeta': 5054, 'jones': 2450, 'earning': 1437, 'success': 4430, 'ramona': 3650, 'shaking': 4090, 'megan': 2935, 'rare': 3662, 'river': 3854, 'green': 1981, 'alike': 105, 'kamilla': 2486, 'osman': 3270, 'roll': 3877, 'stupak': 4423, 'lisa': 2716, 'rinna': 3846, 'beverly': 443, 'totally': 4654, 'oh': 3231, 'asian': 252, 'cried': 1095, 'petty': 3408, 'cardiac': 710, 'recites': 3699, 'favourite': 1657, 'fetch': 1678, 'paradise': 3325, 'kirsten': 2550, 'dunst': 1419, 'beautiful': 392, 'don': 1363, 'glossy': 1927, 'companion': 959, 'duchess': 1408, 'mette': 2961, 'marit': 2866, 'frozen': 1821, 'vibe': 4828, 'hoodie': 2196, 'hike': 2150, 'outrageous': 3279, 'fashioned': 1643, 'meal': 2925, 'sews': 4077, 'refrain': 3719, 'googling': 1949, 'participant': 3337, 'rebecca': 3688, 'raped': 3660, 'vartan': 4811, 'conflict': 991, 'arrangement': 233, 'annalynne': 175, 'mccord': 2912, 'ego': 1459, 'shenae': 4119, 'grime': 1989, 'valley': 4805, 'brittany': 604, 'touni': 4659, 'rupaul': 3922, 'legacy': 2656, 'jessie': 2418, 'decker': 1206, 'della': 1229, 'touched': 4656, 'cressida': 1093, 'bonas': 526, 'carol': 722, 'evelyn': 1555, 'lozada': 2774, 'carl': 717, 'touching': 4657, 'monologue': 3036, 'somewhere': 4252, 'fund': 1832, 'wyd': 5022, 'fails': 1613, 'saturday': 3969, 'saving': 3976, 'lupita': 2786, 'nyong': 3207, 'fur': 1837, 'bargain': 356, 'snapchat': 4229, 'showcase': 4148, 'mention': 2952, 'wealthy': 4904, 'dick': 1283, 'clark': 888, 'rockin': 3869, 'eve': 1554, 'cabello': 665, 'hussey': 2250, 'pictured': 3428, 'venice': 4814, 'joss': 2457, 'whedon': 4938, 'hypocrite': 2256, 'preaching': 3521, 'feminist': 1671, 'ideal': 2262, 'kai': 2481, 'rhonj': 3826, 'warned': 4886, 'depaola': 1249, 'chic': 838, 'sheer': 4113, 'clear': 896, 'cinderella': 872, 'denim': 1241, 'skirt': 4200, 'snag': 4226, 'onion': 3244, 'instagrams': 2327, 'account': 27, 'siriano': 4184, 'walsh': 4873, 'nearly': 3128, 'aguilera': 84, 'strip': 4406, 'bathtub': 377, 'elle': 1474, 'favorite': 1656, 'dated': 1179, 'valid': 4802, 'forgot': 1776, 'file': 1693, 'niro': 3176, 'yell': 5034, 'tony': 4642, 'receives': 3696, 'ovation': 3283, 'actual': 43, 'degrassi': 1222, 'revival': 3819, 'according': 26, 'horoscope': 2206, 'kristin': 2572, 'cavallari': 762, 'newlywed': 3152, 'shutdown': 4155, 'birkins': 477, 'maybachs': 2902, 'revisiting': 3818, 'bethenny': 438, 'frankel': 1800, 'charter': 814, 'aid': 86, 'maria': 2858, 'zone': 5059, 'dietary': 1289, 'trend': 4695, 'protester': 3588, 'disrupt': 1328, 'costume': 1054, 'keri': 2517, 'yara': 5030, 'shahidi': 4088, 'raven': 3667, 'opening': 3253, 'credit': 1091, 'theme': 4575, 'catchy': 750, 'brow': 617, 'gel': 1876, 'microblading': 2973, 'baier': 327, 'physically': 3420, 'abusing': 18, 'portwood': 3495, 'disneyland': 1323, 'colonoscopy': 935, 'finalist': 1705, 'chosen': 855, 'walking': 4871, 'katelyn': 2498, 'nacon': 3097, 'item': 2368, 'zombie': 5058, 'apocalypse': 201, 'hugt': 2234, 'planned': 3448, 'parenthood': 3328, 'organization': 3262, 'recap': 3693, 'briana': 590, 'javi': 2392, 'garfield': 1862, 'reunited': 3808, 'oprah': 3256, 'god': 1934, 'told': 4636, 'peele': 3374, 'peretti': 3386, 'beaumont': 391, 'stile': 4372, 'wolf': 4989, 'posey': 3497, 'nylon': 3206, 'keeper': 2507, 'murderer': 3080, 'breath': 585, 'alexander': 101, 'mcqueen': 2922, 'busy': 657, 'heath': 2110, 'ledger': 2651, 'cfda': 783, 'demi': 1234, 'lovato': 2761, 'luis': 2780, 'fonsi': 1759, 'chame': 789, 'culpa': 1127, 'hat': 2078, 'nativity': 3116, 'lowe': 2769, 'celebrate': 767, 'moana': 3022, 'enviable': 1522, 'closet': 910, 'shawn': 4110, 'holiday': 2174, 'toronto': 4651, 'gellar': 1877, 'irl': 2358, 'earned': 1436, 'describes': 1258, 'fainting': 1614, 'brought': 616, 'disrupts': 1329, 'another': 185, 'priceless': 3544, 'ghosted': 1902, 'bromantic': 612, 'grown': 1996, 'geoffrey': 1885, 'australian': 292, 'newspaper': 3154, 'medal': 2928, 'shaun': 4107, 'olympics': 3240, 'roseanne': 3892, 'overall': 3284, 'spice': 4289, 'niece': 3166, 'petal': 3403, 'filled': 1696, 'getaway': 1896, 'eminem': 1490, 'selling': 4042, 'spaghetti': 4271, 'shop': 4139, 'culpo': 1128, 'allison': 115, 'goodbye': 1947, 'confidence': 985, 'patient': 3351, 'jordyn': 2454, 'commitment': 953, 'neve': 3147, 'campbell': 689, 'adopted': 59, 'maryse': 2884, 'freaking': 1804, 'scarborough': 3984, 'chipotle': 846, 'changing': 798, 'queso': 3617, 'recipe': 3698, 'mario': 2863, 'batali': 373, 'included': 2291, 'cinnamon': 875, 'fiscal': 1721, 'todd': 4632, 'strategic': 4396, 'budgetary': 633, 'assessment': 263, 'dance': 1162, 'verlander': 4821, 'brink': 600, 'chloe': 848, 'lukasiak': 2781, 'rub': 3909, 'abby': 5, 'supportive': 4458, 'attends': 275, 'board': 514, 'reporting': 3773, 'duty': 1425, 'hostage': 2215, 'port': 3490, 'usa': 4791, 'kara': 2488, 'mccullough': 2913, 'backtracks': 320, 'ohanian': 3232, 'babymoon': 311, 'gina': 1912, 'latino': 2611, 'cazzie': 764, 'shine': 4128, 'sequined': 4057, 'philipps': 3412, 'pain': 3306, 'flipped': 1737, 'ovary': 3282, 'university': 4773, 'journal': 2459, 'popular': 3486, 'study': 4416, 'jurassic': 2478, 'key': 2522, 'franchise': 1796, 'filmmaking': 1702, 'fulfilled': 1827, 'shaunie': 4108, 'neal': 3126, 'jaw': 2393, 'dropper': 1402, 'aboard': 10, 'pirate': 3438, 'ride': 3838, 'colombian': 934, 'maluma': 2836, 'aunt': 288, 'congratulated': 996, 'philip': 3411, 'hospitalization': 2212, 'gush': 2015, 'lorde': 2752, 'er': 1528, 'wide': 4950, 'receiver': 3695, 'marquise': 2871, 'goodwin': 1948, 'score': 4003, 'touchdown': 4655, 'travel': 4689, 'nephew': 3139, 'congratulates': 997, 'dove': 1380, 'cameron': 683, 'thomas': 4587, 'doherty': 1354, 'magical': 2812, 'auli': 287, 'cravalho': 1079, 'blessed': 498, 'dwts': 1427, 'lollapalooza': 2737, 'evacuated': 1549, 'lovely': 2765, 'floral': 1747, 'honest': 2187, 'balvin': 337, 'neon': 3138, 'yellow': 5035, 'based': 366, 'shirt': 4129, 'brand': 572, 'wonder': 4993, 'baywatch': 382, 'cooking': 1030, 'grey': 1985, 'anatomy': 155, 'spinoff': 4296, 'clique': 906, 'luann': 2775, 'lesseps': 2671, 'grant': 1975, 'earlier': 1435, 'paul': 3358, 'nassif': 3110, 'impeachment': 2278, 'becomes': 398, 'cynical': 1149, 'botched': 546, 'ottavio': 3272, 'doctor': 1348, 'logan': 2733, 'suicide': 4440, 'accurate': 28, 'infamous': 2305, 'tennis': 4548, 'thorne': 4591, 'lana': 2598, 'del': 1223, 'rey': 3821, 'severed': 4076, 'foot': 1762, 'hxg': 2253, 'accessorized': 23, 'gown': 1962, 'poem': 3467, 'flask': 1732, 'mr': 3066, 'robot': 3866, 'cardi': 709, 'narrate': 3105, 'spoken': 4302, 'devastating': 1271, 'promotes': 3578, 'severe': 4075, 'view': 4836, 'overhaul': 3287, 'hospitalized': 2213, 'kendra': 2512, 'wilkinson': 4957, 'snow': 4233, 'panther': 3321, 'racism': 3635, 'daphne': 1169, 'oz': 3297, 'realness': 3684, 'bounce': 551, 'ansel': 186, 'elgort': 1467, 'riff': 3840, 'purposely': 3607, 'releasing': 3743, 'anthony': 190, 'gary': 1868, 'goddard': 1935, 'molested': 3028, 'photographed': 3417, 'proof': 3579, 'jesse': 2416, 'basically': 369, 'professional': 3567, 'clayne': 894, 'lethal': 2674, 'weapon': 4905, 'fallon': 1625, 'wore': 4998, 'batman': 378, 'terminal': 4552, 'greta': 1983, 'gerwig': 1894, 'woody': 4995, 'allen': 112, 'realized': 3682, 'increased': 2296, 'nicky': 3164, 'teddy': 4534, 'precious': 3522, 'kyle': 2581, 'stalker': 4329, 'target': 4514, 'stuart': 4412, 'weitzman': 4925, 'sock': 4243, 'patti': 3356, 'lupone': 2787, 'chastain': 815, 'disturbed': 1334, 'representation': 3775, 'presidential': 3535, 'candidate': 694, 'contempt': 1014, 'journalist': 2460, 'filmed': 1699, 'soules': 4263, 'cycling': 1148, 'wisin': 4980, 'yandel': 5029, 'famous': 1631, 'culture': 1130, 'pancreatic': 3315, 'aretha': 220, 'franklin': 1801, 'nostalgic': 3190, 'unwritten': 4779, 'sussex': 4472, 'southern': 4269, 'ravenel': 3668, 'jacob': 2377, 'mouthing': 3060, 'kathryn': 2502, 'dennis': 1244, 'desiree': 1260, 'hartsock': 2074, 'siegfried': 4161, 'andy': 161, 'riverdale': 3855, 'tracee': 4667, 'elli': 1476, 'ross': 3895, 'crowned': 1113, 'mirrorball': 3003, 'champ': 790, 'june': 2476, 'sheknows': 4115, 'spacey': 4270, 'recapping': 3694, 'peak': 3367, 'lachey': 2589, 'responsibility': 3792, 'cassie': 740, 'rank': 3653, 'pat': 3347, 'mcgrath': 2918, 'newest': 3151, 'muse': 3084, 'fa': 1602, 'cup': 1131, 'acceptance': 20, 'smile': 4220, 'cherry': 834, 'seaborn': 4014, 'marvel': 2882, 'cinematic': 874, 'unbreakable': 4753, 'kimmy': 2543, 'schmidt': 3992, 'lemonade': 2662, 'parody': 3334, 'sadder': 3937, 'jayne': 2396, 'confession': 984, 'truthful': 4718, 'chat': 816, 'jenny': 2409, 'mccarthy': 2909, 'liner': 2710, 'fuller': 1829, 'pout': 3509, 'treasure': 4692, 'shower': 4149, 'bale': 333, 'fattened': 1652, 'cheney': 832, 'vice': 4829, 'skincare': 4198, 'product': 3564, 'ashamed': 247, 'azalea': 306, 'collaboration': 929, 'azealia': 308, 'bank': 342, 'longtime': 2744, 'carole': 723, 'radziwill': 3642, 'murphy': 3082, 'determined': 1269, 'sexualize': 4081, 'older': 3236, 'fifth': 1690, 'harmony': 2069, 'dragon': 1388, 'always': 129, 'halsey': 2041, 'gushing': 2016, 'eazy': 1447, 'jinger': 2429, 'duggar': 1411, 'growing': 1995, 'coon': 1033, 'infinity': 2308, 'villain': 4838, 'inspired': 2324, 'shelter': 4117, 'as': 244, 'jordin': 2453, 'amazing': 139, 'valerie': 4801, 'jarrett': 2390, 'rant': 3656, 'teaching': 4525, 'bam': 338, 'margera': 2856, 'sheree': 4123, 'whitfield': 4944, 'dramatic': 1391, 'rhoa': 3824, 'english': 1510, 'immigrated': 2275, 'janet': 2387, 'welfare': 4928, 'felton': 1669, 'incognito': 2294, 'muggles': 3071, 'screening': 4010, 'shazam': 4112, 'pulled': 3601, 'overdose': 3286, 'victor': 4832, 'celebrates': 769, 'timoth': 4622, 'chalamet': 787, 'smolder': 4225, 'zig': 5055, 'spin': 4295, 'relationshep': 3738, 'vent': 4815, 'malika': 2834, 'haqq': 2061, 'centered': 779, 'bitch': 484, 'glam': 1921, 'wednesday': 4914, 'addams': 48, 'lingerie': 2711, 'market': 2868, 'profile': 3569, 'hole': 2173, 'assassination': 260, 'gianni': 1904, 'versace': 4822, 'crime': 1096, 'bachelorette': 313, 'hardcore': 2065, 'stylish': 4426, 'glover': 1928, 'historic': 2165, 'insists': 2322, 'transformation': 4680, 'whatever': 4936, 'slate': 4205, 'acm': 35, 'jughead': 2470, 'ta': 4496, 'cradling': 1075, 'clipper': 905, 'defense': 1217, 'filmmaker': 1701, 'mahoney': 2817, 'include': 2290, 'xl': 5024, 'ball': 335, 'long': 2741, 'memorable': 2946, 'criss': 1101, 'stood': 4381, 'equality': 1527, 'boycott': 560, 'robby': 3861, 'bip': 474, 'lot': 2758, 'baggage': 325, 'trace': 4666, 'adkins': 53, 'serving': 4068, 'advisor': 67, 'light': 2693, 'action': 40, 'henderson': 2130, 'christine': 862, 'evangelista': 1551, 'emergency': 1487, 'hears': 2103, 'winfrey': 4967, 'jodie': 2434, 'whittaker': 4946, 'neil': 3135, 'touring': 4661, 'parkinson': 3332, 'diagnosis': 1276, 'relive': 3746, 'apollo': 202, 'hardcover': 2066, 'rice': 3828, 'jhene': 2424, 'aiko': 88, 'finalizes': 1707, 'dot': 1376, 'genius': 1883, 'serve': 4065, 'tequila': 4549, 'calvin': 679, 'snapped': 4230, 'ranting': 3657, 'reveal': 3811, 'dimitri': 1294, 'review': 3816, 'ace': 33, 'grudge': 1997, 'shannon': 4098, 'awesome': 303, 'melanie': 2941, 'scrofano': 4013, 'alycia': 132, 'debnam': 1198, 'mtv': 3067, 'generation': 1881, 'comparison': 962, 'rolling': 3878, 'embrace': 1486, 'fandom': 1634, 'carpool': 726, 'europe': 1547, 'xxxtentacion': 5027, 'exited': 1581, 'vampire': 4806, 'diary': 1281, 'onscreen': 3246, 'pairing': 3307, 'named': 3101, 'musing': 3089, 'motherhood': 3053, 'breastfeeding': 584, 'boundary': 553, 'topless': 4648, 'nsfw': 3195, 'flipping': 1738, 'script': 4012, 'corcoran': 1040, 'keo': 2515, 'motsepe': 3054, 'raul': 3666, 'esparza': 1536, 'beador': 384, 'brandon': 575, 'brian': 589, 'revision': 3817, 'map': 2851, 'shared': 4102, 'shoutout': 4146, 'anderson': 157, 'east': 1441, 'garth': 1867, 'syncing': 4492, 'cma': 914, 'portrait': 3494, 'karlie': 2493, 'kloss': 2556, 'fragrance': 1794, 'bottle': 548, 'toy': 4664, 'eden': 1453, 'sassoon': 3964, 'spirit': 4297, 'maxim': 2898, 'twerk': 4732, 'sizzling': 4194, 'hear': 2100, 'robinson': 3864, 'bolted': 523, 'baptism': 347, 'heroin': 2136, 'possession': 3498, 'arie': 222, 'luyendyk': 2791, 'promo': 3576, 'unconventional': 4755, 'please': 3460, 'speak': 4276, 'overboard': 3285, 'remake': 3748, 'pantelion': 3320, 'sizable': 4191, 'wake': 4866, 'rosie': 3894, 'donnell': 1370, 'reconnected': 3703, 'quiz': 3628, 'scale': 3980, 'drag': 1386, 'cost': 1051, 'tiffany': 4613, 'haddish': 2025, 'barbra': 352, 'streisand': 4402, 'teach': 4524, 'janney': 2388, 'shirtless': 4130, 'hunk': 2242, 'mira': 2999, 'sorvino': 4261, 'reed': 3715, 'maternity': 2893, 'adrift': 63, 'christening': 858, 'louis': 2759, 'ponders': 3479, 'surrounding': 4466, 'spoiler': 4300, 'heartbreaker': 2106, 'channel': 799, 'likely': 2699, 'toast': 4629, 'follow': 1755, 'hilaria': 2152, 'stuns': 4421, 'daring': 1170, 'incredible': 2298, 'cleavage': 898, 'cw': 1147, 'charmed': 813, 'soundtrack': 4267, 'includes': 2292, 'hayden': 2090, 'christensen': 859, 'lowriders': 2772, 'dominguez': 1362, 'heithoff': 2118, 'gotten': 1959, 'stacey': 4321, 'dash': 1176, 'withdraw': 4981, 'congressional': 999, 'numb': 3198, 'jail': 2380, 'kraines': 2569, 'iconic': 2260, 'humanitarian': 2238, 'cody': 923, 'lovebird': 2763, 'senator': 4044, 'sometimes': 4251, 'bumpy': 640, 'porsha': 3489, 'kordell': 2565, 'jewelry': 2422, 'tape': 4510, 'negotiation': 3133, 'royale': 3907, 'trailer': 4673, 'feature': 1661, 'bridge': 593, 'priest': 3546, 'cuteness': 1144, 'overload': 3288, 'coco': 921, 'chanel': 794, 'sense': 4048, 'quintanilla': 3623, 'relative': 3740, 'sterling': 4367, 'beth': 437, 'meyer': 2964, 'polo': 3477, 'kailyn': 2483, 'lowry': 2773, 'tenley': 4547, 'molzahn': 3029, 'gabbery': 1842, 'smart': 4219, 'kidnapper': 2533, 'wanda': 4875, 'barzee': 364, 'released': 3742, 'espys': 1538, 'voting': 4859, 'athlete': 269, 'childhood': 843, 'frogmore': 1818, 'windsor': 4965, 'lavish': 2621, 'evolved': 1565, 'fowler': 1791, 'izombie': 2371, 'fry': 1824, 'freebie': 1806, 'fresno': 1814, 'fellow': 1667, 'player': 3455, 'caroline': 724, 'wozniacki': 5012, 'impression': 2283, 'mock': 3025, 'press': 3536, 'page': 3304, 'production': 3565, 'skill': 4196, 'briefcase': 595, 'bestie': 435, 'development': 1273, 'pact': 3302, 'network': 3146, 'notice': 3193, 'data': 1177, 'available': 294, 'bureau': 644, 'labor': 2587, 'statistic': 4349, 'kidd': 2529, 'wrestler': 5015, 'chilling': 844, 'unexplained': 4760, 'disappearance': 1309, 'maura': 2897, 'murray': 3083, 'goal': 1933, 'throwback': 4606, 'superman': 4453, 'kidder': 2530, 'criticizes': 1106, 'lobbyist': 2728, 'reba': 3687, 'mcentire': 2917, 'soar': 4237, 'duet': 1410, 'zendaya': 5053, 'vogue': 4854, 'decade': 1202, 'midseason': 2978, 'fate': 1649, 'connection': 1003, 'statham': 4348, 'shake': 4089, 'reported': 3770, 'os': 3267, 'myia': 3094, 'enhancement': 1511, 'asiah': 251, 'creates': 1088, 'taco': 4499, 'invite': 2350, 'naacp': 3096, 'waterproof': 4899, 'hooked': 2198, 'invictus': 2349, 'happens': 2057, 'abbey': 4, 'slut': 4216, 'marissa': 2865, 'cheater': 821, 'edition': 1454, 'vaughn': 4812, 'suspicion': 4471, 'resisting': 3787, 'manhattan': 2843, 'checkpoint': 826, 'larsa': 2606, 'pippen': 3437, 'bankrolled': 344, 'immigrant': 2274, 'worker': 5001, 'wary': 4890, 'auntie': 289, 'pretzel': 3540, 'sync': 4491, 'makeout': 2824, 'bubble': 629, 'bath': 374, 'fresh': 1813, 'pickup': 3426, 'superfan': 4451, 'project': 3574, 'runway': 3921, 'capshaw': 703, 'balancing': 330, 'serum': 4064, 'bristol': 601, 'palin': 3311, 'costars': 1053, 'buffy': 634, 'slayer': 4208, 'looked': 2747, 'extremely': 1599, 'normal': 3187, 'hiking': 2151, 'disney': 1322, 'pride': 3545, 'mickey': 2972, 'mouse': 3058, 'ear': 1434, 'wall': 4872, 'repeat': 3766, 'logo': 2735, 'van': 4807, 'der': 1255, 'beek': 404, 'delivers': 1227, 'inspiring': 2325, 'supergirl': 4452, 'danvers': 1168, 'midvale': 2979, 'peth': 3406, 'pack': 3300, 'add': 47, 'biden': 452, 'springfield': 4312, 'ill': 2271, 'dax': 1186, 'amazon': 140, 'virgin': 4844, 'fertilizer': 1676, 'regrowth': 3725, 'oxygen': 3296, 'programming': 3573, 'ashlee': 248, 'xscape': 5026, 'leader': 2632, 'budget': 632, 'economic': 1448, 'outlook': 3277, 'morrison': 3049, 'zolciak': 5057, 'biermann': 455, 'brielle': 596, 'kash': 2495, 'onward': 3249, 'upwards': 4787, 'downton': 1384, 'lb': 2628, 'hugging': 2232, 'healthy': 2099, 'ella': 1473, 'manicure': 2845, 'mile': 2986, 'toya': 4665, 'wept': 4932, 'interstellar': 2336, 'joan': 2431, 'sof': 4244, 'vergara': 4819, 'locked': 2731, 'amada': 135, 'hola': 2171, 'bunch': 641, 'honestly': 2188, 'tender': 4546, 'galecki': 1852, 'bahamian': 326, 'avril': 299, 'lavigne': 2620, 'italy': 2367, 'viewer': 4837, 'anthem': 189, 'rendition': 3759, 'arm': 226, 'nerd': 3140, 'audible': 282, 'audio': 284, 'curtis': 1137, 'armstrong': 228, 'macmillan': 2800, 'hbo': 2092, 'thankful': 4573, 'grabbing': 1965, 'feather': 1660, 'eyeshadow': 1601, 'palette': 3310, 'jill': 2425, 'word': 4996, 'mtvu': 3068, 'editorial': 1455, 'bunton': 643, 'lucky': 2777, 'trade': 4669, 'cropped': 1109, 'thriller': 4601, 'serratos': 4063, 'peek': 3373, 'minivan': 2996, 'shania': 4097, 'twain': 4730, 'approach': 213, 'crack': 1074, 'ghosting': 1903, 'fallout': 1626, 'badass': 323, 'kingsman': 2548, 'circle': 876, 'gifs': 1907, 'stanton': 4337, 'hayes': 2091, 'carla': 718, 'bruni': 622, 'starring': 4341, 'sloan': 4213, 'nk': 3177, 'jerking': 2411, 'claw': 893, 'hulu': 2235, 'retracts': 3800, 'mamma': 2838, 'mia': 2967, 'roundup': 3900, 'catapulting': 747, 'lily': 2702, 'crossover': 1110, 'fiction': 1686, 'stopped': 4384, 'moonlight': 3042, 'sander': 3955, 'jharrel': 2423, 'jerome': 2413, 'wale': 4868, 'cheated': 820, 'parrish': 3335, 'shel': 4116, 'honor': 2191, 'tina': 4624, 'salute': 3948, 'drugstore': 1406, 'conditioner': 980, 'mask': 2885, 'difference': 1290, 'kkw': 2555, 'starstruck': 4342, 'lowes': 2771, 'quinn': 3622, 'higher': 2144, 'funny': 1836, 'tonight': 4641, 'disagreed': 1308, 'winston': 4971, 'wwe': 5021, 'heat': 2109, 'alexa': 100, 'bliss': 500, 'nia': 3157, 'jax': 2394, 'outlander': 3275, 'veteran': 4825, 'pivotal': 3443, 'christopher': 865, 'boykin': 563, 'shouting': 4145, 'meme': 2944, 'exploded': 1591, 'contagious': 1012, 'jokester': 2444, 'stephanie': 4364, 'shepherd': 4122, 'outlives': 3276, 'cicada': 871, 'barry': 360, 'rowland': 3904, 'sob': 4238, 'lunch': 2785, 'moss': 3051, 'drug': 1405, 'maroon': 2870, 'subway': 4429, 'commuter': 958, 'becca': 395, 'kufrin': 2574, 'garrett': 1866, 'yrigoyen': 5047, 'handmaid': 2050, 'offred': 3228, 'ozuna': 3298, 'bull': 637, 'cannon': 700, 'deserves': 1259, 'boomer': 536, 'aly': 131, 'raisman': 3648, 'gymnastics': 2023, 'nassar': 3109, 'leslie': 2670, 'pressured': 3538, 'able': 9, 'trust': 4716, 'cruz': 1119, 'vocal': 4853, 'range': 3652, 'robin': 3863, 'wright': 5016, 'ultimately': 4749, 'saddened': 3936, 'carly': 720, 'waddell': 4861, 'basketball': 370, 'mount': 3055, 'comeback': 943, 'swish': 4488, 'rhony': 3827, 'apple': 210, 'dorinda': 1374, 'ignites': 2266, 'samira': 3951, 'wiley': 4956, 'process': 3561, 'nom': 3182, 'giuliani': 1917, 'hampshire': 2045, 'far': 1635, 'dedicated': 1211, 'reading': 3677, 'whole': 4948, 'reminds': 3753, 'rewind': 3820, 'create': 1086, 'storyline': 4390, 'bffs': 449, 'bellas': 421, 'honoured': 2195, 'godfather': 1936, 'natalie': 3113, 'portman': 3493, 'guessing': 2002, 'suit': 4442, 'donates': 1366, 'devastated': 1270, 'student': 4414, 'floored': 1745, 'impressed': 2282, 'cking': 882, 'tommy': 4639, 'hoda': 2169, 'kotb': 2567, 'lightweight': 2695, 'foundation': 1786, 'alternative': 126, 'breezy': 586, 'widow': 4951, 'sugar': 4436, 'test': 4559, 'honey': 2189, 'wishing': 4979, 'shamers': 4094, 'brett': 588, 'ratner': 3665, 'teaming': 4527, 'engage': 1506, 'beghe': 408, 'radiohead': 3641, 'pauley': 3360, 'perrette': 3397, 'sad': 3935, 'lochte': 2729, 'grandfather': 1973, 'watched': 4894, 'lili': 2701, 'reinhart': 3731, 'sprouse': 4314, 'salling': 3947, 'glee': 1924, 'laura': 2617, 'gallacher': 1853, 'mabel': 2795, 'kirsy': 2551, 'giggle': 1910, 'developer': 1272, 'contest': 1016, 'skirting': 4201, 'harbour': 2063, 'bipolar': 475, 'asylum': 267, 'topher': 4647, 'hinshaw': 2160, 'ruthie': 3929, 'ann': 172, 'sang': 3958, 'unborn': 4752, 'benson': 430, 'marc': 2854, 'haunt': 2085, 'contract': 1020, 'wrap': 5013, 'technicolor': 4531, 'highway': 2148, 'amnayzh': 149, 'troy': 4709, 'aikman': 87, 'capa': 701, 'mooty': 3044, 'talked': 4506, 'dawson': 1185, 'creek': 1092, 'donovan': 1371, 'xavier': 5023, 'dolan': 1355, 'marroquin': 2875, 'jingle': 2430, 'buddy': 631, 'blooper': 506, 'reel': 3716, 'bathe': 375, 'eli': 1468, 'manning': 2846, 'donatella': 1365, 'richest': 3832, 'beyond': 446, 'luke': 2782, 'pell': 3377, 'quot': 3629, 'lesley': 2669, 'unglert': 4765, 'cleaning': 895, 'commence': 950, 'bilingual': 461, 'conditional': 979, 'anymore': 195, 'lock': 2730, 'jungle': 2477, 'themed': 4576, 'incredibly': 2299, 'plump': 3463, 'denying': 1247, 'defined': 1218, 'enchant': 1500, 'sensually': 4049, 'passage': 3342, 'picked': 3423, 'bouquet': 554, 'country': 1058, 'sinister': 4182, 'surviving': 4468, 'alleges': 111, 'yolanda': 5040, 'jennie': 2407, 'wardrobe': 4884, 'wag': 4862, 'kulture': 2575, 'wipe': 4974, 'alone': 121, 'exciting': 1572, 'force': 1768, 'anyone': 196, 'danger': 1165, 'maddie': 2803, 'imposter': 2281, 'brie': 594, 'personal': 3401, 'birdie': 476, 'graphic': 1977, 'definitive': 1220, 'swaggiest': 4476, 'gabbana': 1841, 'bowling': 557, 'auctioning': 281, 'logic': 2734, 'andrea': 158, 'willow': 4961, 'candy': 696, 'rehearsal': 3727, 'charity': 807, 'dior': 1298, 'landed': 2600, 'kiev': 2535, 'crimea': 1097, 'changer': 797, 'madcap': 2802, 'delivered': 1226, 'sobering': 4240, 'examination': 1569, 'taye': 4519, 'diggs': 1292, 'rebel': 3689, 'beast': 388, 'blocked': 501, 'bomb': 524, 'empty': 1497, 'alba': 94, 'adulting': 65, 'easier': 1439, 'subscription': 4428, 'box': 558, 'bobbi': 516, 'kristina': 2573, 'sings': 4181, 'masturbation': 2890, 'circulating': 878, 'covfefe': 1067, 'typo': 4744, 'definition': 1219, 'stitch': 4376, 'hailie': 2028, 'orange': 3257, 'bekah': 414, 'martinez': 2881, 'bts': 628, 'ama': 134, 'wage': 4863, 'gather': 1871, 'mourn': 3056, 'dolores': 1359, 'riordan': 3848, 'reposal': 3774, 'zootopia': 5060, 'dmv': 1344, 'sloth': 4214, 'youtube': 5046, 'sears': 4019, 'validated': 4804, 'hairstyle': 2032, 'heavy': 2112, 'trilogy': 4700, 'asks': 257, 'fix': 1726, 'chest': 836, 'jermaine': 2412, 'dupri': 1421, 'creative': 1089, 'democratic': 1236, 'debate': 1197, 'socialist': 4242, 'eisenhower': 1462, 'westwick': 4934, 'prosecuted': 3585, 'unforgettable': 4763, 'hometown': 2186, 'energy': 1504, 'commerce': 952, 'committee': 955, 'mak': 2822, 'skipped': 4199, 'seattle': 4022, 'diagon': 1277, 'alley': 114, 'driveway': 1398, 'nickihndrxx': 3162, 'chocolate': 850, 'fountain': 1788, 'champagne': 791, 'fallen': 1623, 'kingdom': 2547, 'schnapp': 3994, 'lobbied': 2727, 'kill': 2536, 'dave': 1182, 'annable': 174, 'odette': 3218, 'uh': 4746, 'trinity': 4701, 'fatu': 1653, 'preventing': 3542, 'flu': 1751, 'habit': 2024, 'germ': 1891, 'concealer': 974, 'huntington': 2245, 'whiteley': 4943, 'ignores': 2268, 'radio': 3640, 'arrive': 238, 'forgiving': 1775, 'martha': 2879, 'performer': 3391, 'gael': 1846, 'garc': 1861, 'bernal': 431, 'blige': 499, 'common': 956, 'museum': 3085, 'dropping': 1403, 'ciara': 869, 'sugarland': 4437, 'perform': 3389, 'square': 4316, 'flavor': 1734, 'toffee': 4633, 'jalapeno': 2382, 'coconut': 922, 'legging': 2660, 'apologized': 204, 'contender': 1015, 'thicke': 4581, 'geary': 1875, 'lonely': 2740, 'addict': 49, 'highlight': 2146, 'asset': 264, 'bodycon': 519, 'madison': 2806, 'beer': 405, 'biggs': 458, 'pie': 3429, 'eugene': 1546, 'levy': 2679, 'poppe': 3485, 'caleb': 672, 'hutchinson': 2252, 'dorado': 1373, 'shakira': 4091, 'alpha': 123, 'male': 2830, 'madness': 2807, 'bob': 515, 'morley': 3047, 'heughan': 2138, 'reacted': 3673, 'brady': 567, 'unexpected': 4759, 'neiman': 3136, 'lucy': 2778, 'hale': 2034, 'valentine': 4800, 'withdraws': 4983, 'present': 3531, 'shushing': 4153, 'zebra': 5051, 'print': 3550, 'pit': 3440, 'grand': 1971, 'prix': 3555, 'jenelle': 2404, 'pumpkin': 3603, 'patch': 3349, 'eason': 1440, 'unity': 4771, 'farrah': 1639, 'abraham': 11, 'rating': 3664, 'stooge': 4382, 'teenmom': 4538, 'hurley': 2246, 'stabbing': 4319, 'remains': 3747, 'glamorous': 1922, 'vicki': 4830, 'gunvalson': 2013, 'culberson': 1125, 'completes': 968, 'corp': 1046, 'boot': 538, 'hellish': 2122, 'playboy': 3453, 'founder': 1787, 'dodgeball': 1351, 'puppy': 3605, 'snap': 4228, 'germany': 1893, 'diplomacy': 1301, 'boldest': 521, 'dissolving': 1332, 'government': 1960, 'apparent': 207, 'fluid': 1752, 'pdf': 3366, 'isi': 2363, 'gain': 1848, 'troop': 4706, 'chad': 784, 'karina': 2492, 'smirnoff': 4221, 'famously': 1632, 'denmark': 1243, 'henrik': 2131, 'signature': 4164, 'unfollow': 4762, 'everly': 1558, 'individuality': 2302, 'halfway': 2036, 'milo': 2991, 'ventimiglia': 4816, 'cliffhanger': 901, 'roswell': 3899, 'pose': 3496, 'shapewear': 4100, 'ghostbusters': 1901, 'streaming': 4399, 'waldo': 4867, 'rascal': 3663, 'cartwright': 733, 'caitriona': 671, 'balfe': 334, 'wizard': 4988, 'waverly': 4902, 'samberg': 3950, 'otunga': 3273, 'cleared': 897, 'battery': 379, 'camille': 686, 'cosby': 1049, 'conviction': 1026, 'mob': 3023, 'violetta': 4843, 'komyshan': 2563, 'clare': 885, 'crawley': 1082, 'grossman': 1993, 'coven': 1064, 'protocol': 3590, 'granted': 1976, 'restraining': 3795, 'joshua': 2456, 'lewis': 2680, 'studded': 4413, 'telethon': 4540, 'threaten': 4595, 'testino': 4564, 'weber': 4909, 'basic': 368, 'cool': 1031, 'unmiracle': 4774, 'pound': 3508, 'szohr': 4495, 'removal': 3755, 'bobby': 517, 'moynihan': 3065, 'meaningful': 2927, 'bending': 424, 'polyamorous': 3478, 'cryptic': 1121, 'internet': 2334, 'frenzy': 1812, 'danica': 1166, 'celebrated': 768, 'thigh': 4582, 'silly': 4169, 'unicorn': 4767, 'retrial': 3802, 'ringing': 3845, 'traumatized': 4688, 'grill': 1987, 'guru': 2014, 'pantry': 3322, 'have': 2087, 'county': 1059, 'jerry': 2414, 'gong': 1944, 'myers': 3093, 'lil': 2700, 'peep': 3375, 'curated': 1132, 'twist': 4737, 'nipple': 3175, 'entrepreneur': 1521, 'click': 900, 'schwartz': 3998, 'maloney': 2835, 'rossum': 3898, 'rwanda': 3930, 'theresa': 4579, 'caputo': 704, 'discussed': 1315, 'cathy': 756, 'foreclosure': 1771, 'subprime': 4427, 'homeowner': 2184, 'inciting': 2289, 'riot': 3849, 'completed': 966, 'intensive': 2332, 'program': 3572, 'cellulite': 776, 'stretch': 4403, 'priyanka': 3556, 'chopra': 853, 'yuletide': 5048, 'reign': 3728, 'kendrick': 2513, 'sza': 4494, 'gabrielle': 1843, 'union': 4769, 'infertility': 2307, 'eight': 1461, 'linden': 2707, 'mcadams': 2907, 'ortiz': 3265, 'magro': 2814, 'stability': 4320, 'blur': 513, 'steven': 4369, 'alexandra': 102, 'silva': 4170, 'brunette': 621, 'baskett': 371, 'swoon': 4489, 'octavia': 3214, 'redemption': 3712, 'geyer': 1898, 'amount': 151, 'descendant': 1257, 'honored': 2193, 'soundsational': 4266, 'marshal': 2878, 'ownership': 3294, 'photograph': 3416, 'copyright': 1039, 'lawusit': 2625, 'conrad': 1005, 'anything': 197, 'nightshade': 3170, 'fruit': 1822, 'arizona': 224, 'deluca': 1230, 'audrina': 286, 'patridge': 3354, 'cabrera': 666, 'shaved': 4109, 'currently': 1135, 'meg': 2934, 'babe': 309, 'cromwell': 1107, 'protesting': 3589, 'upstate': 4785, 'ny': 3203, 'existential': 1579, 'henry': 2132, 'sylvester': 4490, 'movement': 3062, 'che': 818, 'hater': 2082, 'taraji': 4512, 'henson': 2133, 'beech': 402, 'squash': 4317, 'ludacris': 2779, 'mommy': 3032, 'convincing': 1027, 'guillermo': 2006, 'vol': 4856, 'bares': 355, 'scalloped': 3981, 'simone': 4173, 'bile': 460, 'field': 1688, 'honorary': 2192, 'cheerleader': 829, 'trolling': 4705, 'sassy': 3965, 'sorrentino': 4259, 'sentenced': 4051, 'evasion': 1553, 'birthing': 480, 'nears': 3129, 'writer': 5017, 'lumet': 2783, 'violated': 4841, 'column': 940, 'highly': 2147, 'farewell': 1636, 'possibility': 3499, 'footstep': 1765, 'eliza': 1471, 'dushku': 1422, 'awakened': 300, 'horrific': 2208, 'kesha': 2520, 'hated': 2081, 'psa': 3594, 'washing': 4891, 'politically': 3473, 'chappelle': 803, 'dylan': 1431, 'palvin': 3313, 'reprise': 3776, 'nighttime': 3171, 'routine': 3901, 'spectatorship': 4281, 'goldblum': 1939, 'statue': 4350, 'erected': 1529, 'tourist': 4662, 'mesmerized': 2954, 'detailed': 1267, 'ricky': 3836, 'fiebre': 1687, 'featuring': 1662, 'convert': 1025, 'costar': 1052, 'refused': 3722, 'someone': 4248, 'stole': 4378, 'helena': 2120, 'pen': 3380, 'till': 4615, 'aaliyah': 0, 'sultry': 4444, 'arena': 219, 'miz': 3019, 'zoe': 5056, 'saldana': 3945, 'daenerys': 1156, 'targaryen': 4513, 'sacrifice': 3934, 'spoil': 4299, 'bearing': 387, 'mcdormand': 2915, 'arthur': 241, 'mischa': 3005, 'barton': 363, 'knox': 2562, 'relatable': 3737, 'fitness': 1724, 'instructor': 2329, 'easy': 1444, 'emily': 1489, 'blunt': 512, 'romeo': 3882, 'juliet': 2473, 'bruno': 623, 'antebellum': 188, 'thank': 4572, 'lord': 2751, 'transformer': 4681, 'arc': 217, 'trans': 4677, 'empowering': 1496, 'teenage': 4537, 'jaden': 2379}\n",
            "Shape is: (2540, 5464)\n",
            "Type: <class 'scipy.sparse._csr.csr_matrix'>\n",
            "VOCABULARY (lenght 5464)\n",
            "{'trump': 5049, 'whine': 5322, 'like': 2832, 'baby': 367, 'defense': 1269, 'russia': 4197, 'get': 2036, 'obliterated': 3335, 'twitter': 5086, 'hillary': 2268, 'clinton': 897, 'want': 5256, 'strong': 4713, 'wait': 5247, 'say': 4244, 'must': 3197, 'watch': 5276, 'monica': 3141, 'crowley': 1156, 'warns': 5267, 'force': 1913, 'destroy': 1339, 'war': 5259, 'video': 5202, 'left': 2785, 'go': 2073, 'nut': 3319, 'chemist': 834, 'dc': 1223, 'win': 5356, 'miss': 3105, 'usa': 5164, 'title': 4947, 'saying': 4245, 'health': 2223, 'care': 740, 'privilege': 3748, 'right': 4124, 'sunday': 4762, 'screening': 4292, 'deep': 1261, 'state': 4656, 'hiding': 2254, 'plain': 3605, 'sight': 4452, 'comment': 959, 'nutritious': 3320, 'food': 1906, 'help': 2239, 'reduce': 3962, 'asthma': 315, 'attack': 322, 'boost': 574, 'alternative': 170, 'solution': 4547, 'happens': 2193, 'brain': 604, 'lie': 2823, 'studie': 4720, 'beweist': 484, 'indianer': 2448, 'kennen': 2653, 'doch': 1448, 'schmerz': 4265, 'laura': 2751, 'ingraham': 2468, 'rip': 4131, 'press': 3721, 'crowd': 1154, 'wild': 5347, 'job': 2598, 'accuses': 33, 'obama': 3327, 'founding': 1940, 'daesh': 1195, 'hardest': 2197, 'feeling': 1815, 'fight': 1832, 'former': 1927, 'baywatch': 433, 'babe': 366, 'bond': 570, 'first': 1862, 'lady': 2717, 'melania': 3032, 'unlikely': 5128, 'cause': 766, 'hate': 2208, 'told': 4955, 'black': 518, 'voter': 5237, 'could': 1101, 'gop': 2095, 'breaking': 617, 'huma': 2340, 'abedin': 5, 'thrown': 4925, 'campaign': 721, 'plane': 3607, 'iraq': 2536, 'confident': 1011, 'retake': 4083, 'mosul': 3157, 'conduct': 1004, 'full': 1983, 'fledged': 1882, 'military': 3081, 'action': 44, 'freedom': 1961, 'center': 789, 'urge': 5160, 'college': 931, 'president': 3719, 'end': 1599, 'aid': 114, 'campus': 724, 'supporter': 4774, 'terror': 4884, 'lewandowski': 2807, 'admits': 66, 'fbi': 1800, 'comey': 951, 'letter': 2804, 'election': 1564, 'mar': 2967, 'lago': 2719, 'trip': 5035, 'secret': 4313, 'service': 4364, 'divert': 1441, 'crime': 1138, 'fighting': 1834, 'fund': 1986, 'pay': 3512, 'security': 4317, 'need': 3237, 'burn': 681, 'fat': 1791, 'eat': 1533, 'dinner': 1376, 'early': 1525, 'skip': 4485, 'weight': 5303, 'loss': 2884, 'slam': 4493, 'dunk': 1519, 'golden': 2083, 'nba': 3227, 'punk': 3830, 'stephen': 4670, 'curry': 1180, 'bragged': 602, 'going': 2080, 'white': 5328, 'house': 2328, 'celebrate': 776, 'championship': 806, 'mike': 3077, 'penny': 3536, 'viciously': 5199, 'refused': 3974, 'pardon': 3475, 'man': 2947, 'wrongfully': 5419, 'imprisoned': 2421, 'year': 5434, 'humiliates': 2346, 'chris': 850, 'christie': 853, 'face': 1748, 'hated': 2209, 'make': 2936, 'point': 3636, 'texas': 4894, 'elector': 1565, 'resigns': 4055, 'voting': 5238, 'would': 5402, 'bring': 636, 'dishonor': 1411, 'god': 2076, 'tough': 4975, 'message': 3053, 'serious': 4358, 'woman': 5383, 'use': 5165, 'genitalia': 2023, 'reason': 3927, 'vote': 5235, 'next': 3264, 'feel': 1814, 'safe': 4209, 'warned': 5264, 'american': 184, 'sick': 4443, 'winning': 5362, 'cnn': 911, 'cry': 1165, 'making': 2939, 'stock': 4680, 'market': 2978, 'rise': 4134, 'much': 3173, 'hurt': 2356, 'chance': 807, 'fired': 1859, 'racist': 3877, 'breitbart': 621, 'writer': 5415, 'medical': 3021, 'bill': 500, 'smallest': 4509, 'violin': 5219, 'play': 3613, 'whopping': 5335, 'ohio': 3361, 'pennsylvania': 3535, 'support': 4773, 'michelle': 3066, 'replacement': 4031, 'nominee': 3288, 'email': 1577, 'investigation': 2525, 'hilarious': 2264, 'totally': 4974, 'rabid': 3871, 'liberal': 2813, 'msnbc': 3172, 'host': 2320, 'rachel': 3873, 'maddow': 2915, 'announces': 219, 'bombshell': 569, 'release': 4001, 'tax': 4855, 'tonight': 4963, 'show': 4429, 'isi': 2544, 'declares': 1252, 'kill': 2668, 'palestinian': 3458, 'one': 3377, 'yet': 5440, 'remains': 4009, 'quiet': 3862, 'israel': 2551, 'sharapova': 4397, 'becomes': 444, 'un': 5101, 'ambassador': 175, 'global': 2062, 'drug': 1510, 'runner': 4190, 'guess': 2143, 'leftist': 2786, 'millennials': 3086, 'life': 2825, 'matter': 3001, 'moron': 3153, 'decided': 1249, 'th': 4895, 'july': 2623, 'syria': 4821, 'waiting': 5248, 'move': 3165, 'representative': 4039, 'government': 2104, 'thugocracy': 4927, 'tree': 5026, 'shaped': 4395, 'vertical': 5191, 'farm': 1784, 'grow': 2132, 'acre': 40, 'crop': 1150, 'lol': 2866, 'new': 3258, 'anti': 229, 'ad': 52, 'backfire': 370, 'amazing': 173, 'pro': 3750, 'broke': 647, 'law': 2753, 'raise': 3885, 'money': 3139, 'yes': 5439, 'appoint': 253, 'supreme': 4779, 'court': 1111, 'justice': 2630, 'leaf': 2765, 'ted': 4865, 'cruz': 1164, 'used': 5166, 'sciencefacts': 4276, 'hashtag': 2205, 'instantly': 2486, 'became': 441, 'laughingstock': 2747, 'scientific': 4277, 'community': 972, 'believe': 462, 'foundation': 1938, 'case': 757, 'moving': 3169, 'towards': 4982, 'likely': 2833, 'indictment': 2451, 'justin': 2632, 'timberlake': 4940, 'day': 1222, 'jail': 2567, 'taking': 4834, 'selfie': 4329, 'booth': 577, 'glenn': 2061, 'sad': 4207, 'sack': 4206, 'santorum': 4229, 'visited': 5225, 'pizza': 3602, 'ranch': 3894, 'iowa': 2531, 'ceo': 794, 'endorsed': 1604, 'lest': 2801, 'forget': 1924, 'independent': 2442, 'mueller': 3174, 'part': 3485, 'establishment': 1659, 'helped': 2240, 'sell': 4331, 'scalia': 4246, 'found': 1937, 'dead': 1226, 'pillow': 3587, 'head': 2219, 'autopsy': 347, 'nancy': 3211, 'pelosi': 3527, 'went': 5313, 'grandchild': 2114, 'disgusting': 1409, 'fox': 1943, 'news': 3260, 'jesse': 2590, 'watters': 5281, 'take': 4831, 'vacation': 5173, 'ivanka': 2559, 'girl': 2048, 'behaving': 454, 'comedy': 950, 'gold': 2081, 'bernie': 477, 'sander': 4226, 'meltdown': 3035, 'repeal': 4026, 'obamacare': 3328, 'old': 3369, 'yr': 5450, 'age': 97, 'insurance': 2492, 'die': 1367, 'surrogate': 4788, 'appear': 246, 'network': 3250, 'promote': 3776, 'agenda': 99, 'nasty': 3216, 'san': 4222, 'juan': 2619, 'mayor': 3008, 'continues': 1058, 'bite': 514, 'hand': 2185, 'feed': 1813, 'people': 3540, 'elected': 1563, 'supremacist': 4778, 'congressman': 1028, 'colleague': 929, 'patting': 3507, 'back': 368, 'tweet': 5081, 'beef': 446, 'jerky': 2587, 'company': 974, 'bit': 513, 'chew': 836, 'direct': 1381, 'appeal': 245, 'nazi': 3226, 'apple': 251, 'kindly': 2674, 'offer': 3352, 'time': 4941, 'remaining': 4008, 'calais': 706, 'refugee': 3971, 'child': 840, 'doj': 1456, 'announcement': 218, 'gun': 2151, 'era': 1644, 'operation': 3387, 'choke': 846, 'commends': 958, 'weinstein': 5306, 'accuser': 32, 'coming': 953, 'forward': 1933, 'sex': 4379, 'claim': 876, 'clearly': 890, 'past': 3498, 'admitted': 67, 'sexual': 4381, 'assaulter': 307, 'oval': 3431, 'office': 3353, 'rural': 4193, 'hospital': 2318, 'medium': 3025, 'ignores': 2383, 'director': 1384, 'vince': 5211, 'foster': 1934, 'gave': 2014, 'birth': 508, 'know': 2689, 'reilly': 3993, 'embarrasses': 1580, 'megyn': 3029, 'kelly': 2649, 'publishes': 3817, 'wrote': 5420, 'thanking': 4897, 'dear': 1235, 'friend': 1970, 'bashed': 421, 'flailing': 1871, 'nbc': 3228, 'morning': 3152, 'islamic': 2546, 'rape': 3901, 'europe': 1670, 'nation': 3217, 'politically': 3649, 'incorrect': 2435, 'way': 5283, 'psychic': 3808, 'listen': 2847, 'word': 5388, 'ago': 104, 'look': 2873, 'happened': 2191, 'huffing': 2336, 'ton': 4961, 'post': 3679, 'cover': 1114, 'republican': 4044, 'frontrunner': 1974, 'donald': 1461, 'foul': 1936, 'mouthed': 3164, 'model': 3131, 'chrissy': 851, 'teigen': 4868, 'blame': 524, 'mental': 3044, 'physical': 3575, 'breakdown': 615, 'demand': 1291, 'amount': 190, 'kid': 2664, 'local': 2861, 'night': 3276, 'club': 907, 'brad': 600, 'pitt': 3600, 'shock': 4416, 'america': 183, 'tired': 4945, 'ex': 1696, 'manager': 2949, 'even': 1682, 'star': 4648, 'family': 1774, 'body': 560, 'shamed': 4391, 'bos': 582, 'response': 4067, 'perfect': 3545, 'image': 2394, 'oops': 3380, 'proof': 3780, 'schlonged': 4264, 'referring': 3967, 'cowardice': 1118, 'congress': 1026, 'proved': 3801, 'planted': 3612, 'spy': 4623, 'ensure': 1622, 'cabinet': 698, 'loyalty': 2895, 'calling': 712, 'terrifying': 4883, 'church': 859, 'never': 3254, 'paid': 3448, 'taxpayer': 4856, 'playground': 3616, 'democrat': 1295, 'niece': 3272, 'percent': 3543, 'behind': 456, 'choice': 845, 'selfish': 4330, 'aunt': 339, 'charged': 817, 'obstruction': 3339, 'prison': 3743, 'kingdom': 2676, 'ag': 96, 'lynch': 2907, 'recuse': 3955, 'mail': 2927, 'probe': 3752, 'asap': 290, 'blast': 529, 'precise': 3702, 'sonoma': 4556, 'county': 1107, 'california': 709, 'voted': 5236, 'create': 1129, 'largest': 2733, 'gmo': 2071, 'free': 1957, 'zone': 5458, 'immigrant': 2401, 'grew': 2126, 'communism': 970, 'equality': 1641, 'double': 1473, 'amputee': 191, 'vet': 5193, 'strategy': 4702, 'saw': 4243, 'expendable': 1724, 'explains': 1730, 'wish': 5367, 'quid': 3861, 'quo': 3867, 'wikileaks': 5345, 'reveals': 4097, 'eyeing': 1746, 'paul': 3508, 'ryan': 4201, 'relative': 4000, 'lenore': 2796, 'lee': 2783, 'hard': 2196, 'truth': 5055, 'country': 1106, 'evolves': 1694, 'fascism': 1786, 'meme': 3038, 'wow': 5404, 'awesome': 362, 'billboard': 501, 'slamming': 4495, 'abc': 3, 'fake': 1766, 'coverage': 1115, 'sent': 4346, 'staff': 4635, 'admitting': 69, 'botched': 585, 'angry': 210, 'dems': 1299, 'outraged': 3426, 'detail': 1342, 'revealed': 4096, 'classified': 884, 'briefing': 633, 'kidding': 2665, 'forcing': 1915, 'manhattan': 2954, 'landlord': 2724, 'give': 2052, 'month': 3144, 'apartment': 238, 'follow': 1903, 'receiving': 3939, 'treatment': 5025, 'blood': 547, 'clot': 905, 'york': 5442, 'city': 870, 'value': 5178, 'masturbation': 2994, 'station': 4658, 'set': 4369, 'men': 3041, 'relieve': 4004, 'stress': 4706, 'midday': 3071, 'view': 5206, 'hammer': 2182, 'ignoring': 2384, 'scandal': 4249, 'survive': 4791, 'lost': 2885, 'wood': 5386, 'tip': 4944, 'trick': 5030, 'may': 3007, 'save': 4240, 'encryption': 1597, 'telling': 4872, 'battle': 430, 'bernardino': 475, 'acknowledges': 36, 'al': 129, 'qaeda': 3841, 'priority': 3742, 'silence': 4457, 'pentagon': 3539, 'deploys': 1314, 'ranger': 3897, 'armoured': 276, 'regiment': 3981, 'ground': 2129, 'speak': 4582, 'teen': 4867, 'caught': 765, 'robbery': 4146, 'shot': 4426, 'killed': 2670, 'clothes': 906, 'school': 4267, 'someone': 4551, 'finally': 1846, 'done': 1464, 'long': 2871, 'inciting': 2429, 'violence': 5217, 'debbie': 1240, 'wasserman': 5274, 'schultz': 4271, 'refuse': 3973, 'debate': 1239, 'primary': 3736, 'challenger': 802, 'orleans': 3409, 'learn': 2771, 'history': 2276, 'erased': 1646, 'rocked': 4149, 'wounded': 5403, 'warrior': 5270, 'project': 3772, 'fire': 1858, 'top': 4967, 'exec': 1709, 'intruder': 2517, 'got': 2100, 'close': 900, 'comfort': 952, 'tch': 4857, 'nfl': 3265, 'tell': 4871, 'ck': 873, 'huge': 2338, 'shady': 4386, 'bully': 674, 'artist': 288, 'artwork': 289, 'wall': 5253, 'embarrassed': 1579, 'seen': 4324, 'exact': 1697, 'moment': 3137, 'marco': 2972, 'rubio': 4178, 'presidential': 3720, 'hope': 2309, 'super': 4765, 'bowl': 590, 'shocking': 4418, 'connects': 1030, 'beyonc': 485, 'dallas': 1199, 'cop': 1081, 'killer': 2671, 'wtf': 5423, 'already': 167, 'paying': 3515, 'myth': 3201, 'mcmahon': 3013, 'line': 2841, 'ukraine': 5096, 'economy': 1539, 'away': 361, 'european': 1671, 'standard': 4644, 'ever': 1685, 'hodges': 2284, 'hagmann': 2166, 'hour': 2327, 'last': 2736, 'conservative': 1037, 'convicted': 1067, 'trying': 5059, 'assassinate': 303, 'slingshot': 4502, 'screenshots': 4293, 'hypocritical': 2362, 'alabama': 130, 'governor': 2105, 'booted': 576, 'affair': 83, 'staffer': 4636, 'pastor': 3499, 'preaches': 3700, 'banned': 402, 'confined': 1012, 'home': 2295, 'wittingly': 5378, 'james': 2571, 'clapper': 879, 'bitterness': 516, 'institution': 2488, 'assault': 306, 'dirty': 1385, 'daca': 1193, 'recipient': 3942, 'really': 3926, 'criminal': 1139, 'record': 3947, 'airhead': 122, 'stuffed': 4723, 'armadillo': 274, 'disproves': 1424, 'climate': 895, 'change': 808, 'boom': 573, 'vp': 5241, 'candidate': 730, 'tim': 4939, 'kaine': 2634, 'skirt': 4487, 'issue': 2553, 'trustworthiness': 5054, 'condemns': 1001, 'david': 1219, 'duke': 1515, 'call': 710, 'bigot': 496, 'open': 3383, 'border': 579, 'advisor': 80, 'leak': 2767, 'tape': 4844, 'setting': 4372, 'romney': 4164, 'bid': 491, 'misleading': 3104, 'mainstream': 2932, 'pushing': 3836, 'false': 1771, 'narrative': 3213, 'steal': 4664, 'gon': 2088, 'na': 3202, 'happen': 2190, 'democracy': 1294, 'bad': 375, 'idea': 2369, 'shocker': 4417, 'public': 3813, 'turn': 5073, 'computer': 990, 'lab': 2713, 'mosque': 3155, 'bar': 405, 'non': 3289, 'muslim': 3196, 'student': 4719, 'expert': 1726, 'recommend': 3944, 'crushing': 1163, 'defeat': 1264, 'smaller': 4508, 'manageable': 2948, 'failure': 1762, 'onion': 3378, 'finest': 1852, 'source': 4567, 'something': 4552, 'lgbt': 2809, 'explode': 1732, 'albert': 133, 'pike': 3586, 'migrant': 3075, 'crisis': 1142, 'defiant': 1271, 'national': 3218, 'park': 3480, 'rogue': 4155, 'mount': 3162, 'headed': 2220, 'treason': 5021, 'fraud': 1954, 'holter': 2292, 'eu': 1667, 'red': 3958, 'scare': 4253, 'brussels': 658, 'pass': 3493, 'resolution': 4058, 'counter': 1104, 'russian': 4198, 'propaganda': 3782, 'target': 4848, 'decision': 1250, 'endanger': 1600, 'allowing': 159, 'little': 2856, 'bathroom': 428, 'rigged': 4122, 'system': 4823, 'materialist': 3000, 'analysis': 196, 'green': 2125, 'cia': 863, 'brennan': 622, 'opposing': 3395, 'insist': 2483, 'expose': 1734, 'sealed': 4304, 'caution': 768, 'document': 1451, 'whoa': 5330, 'disturbing': 1435, 'faked': 1767, 'audience': 333, 'nc': 3229, 'rally': 3887, 'alcoholic': 136, 'jonathan': 2606, 'brook': 651, 'profit': 3769, 'carly': 748, 'fiorina': 1857, 'ambush': 179, 'preschooler': 3717, 'field': 1831, 'prove': 3800, 'abortion': 10, 'massive': 2992, 'marine': 2975, 'declared': 1251, 'antarctic': 226, 'ocean': 3341, 'heartbroken': 2231, 'death': 1237, 'rep': 4025, 'steve': 4672, 'scalise': 4247, 'still': 4678, 'alive': 146, 'terrible': 4882, 'deal': 1232, 'iran': 2534, 'brilliant': 634, 'recount': 3949, 'battleground': 431, 'throw': 4924, 'gasoline': 2010, 'terrorist': 4887, 'aha': 111, 'honcho': 2300, 'rupert': 4192, 'murdoch': 3191, 'ordered': 3403, 'august': 338, 'mock': 3128, 'constitutional': 1047, 'scholar': 4266, 'nato': 3221, 'buildup': 668, 'eastern': 1531, 'iceberg': 2366, 'group': 2131, 'absolutely': 15, 'destroys': 1341, 'nra': 3306, 'marketing': 2979, 'senior': 4342, 'senator': 4337, 'stupid': 4732, 'collude': 934, 'asks': 296, 'wrong': 5418, 'question': 3854, 'slammed': 4494, 'bratty': 608, 'said': 4213, 'screw': 4294, 'drew': 1498, 'carey': 743, 'son': 4553, 'coincidence': 923, 'effect': 1547, 'ford': 1916, 'course': 1110, 'brings': 638, 'mexico': 3062, 'plant': 3611, 'threat': 4917, 'outsourcing': 3430, 'fan': 1776, 'wisconsin': 5366, 'game': 2002, 'wear': 5288, 'mask': 2987, 'noose': 3292, 'attached': 321, 'federal': 1808, 'crush': 1161, 'labor': 2715, 'union': 5117, 'nationwide': 3219, 'dramatic': 1488, 'increase': 2436, 'blm': 540, 'employee': 1593, 'thanks': 4898, 'bundy': 675, 'two': 5087, 'poll': 3653, 'washington': 5273, 'hit': 2277, 'roy': 4175, 'moore': 3147, 'backfired': 371, 'sollers': 4546, 'start': 4651, 'serial': 4356, 'production': 3764, 'car': 738, 'glonass': 2065, 'father': 1795, 'slain': 4492, 'soldier': 4541, 'ripped': 4132, 'ban': 394, 'pick': 3578, 'senate': 4336, 'bipartisan': 505, 'facilitate': 1752, 'better': 482, 'access': 22, 'gov': 2101, 'juror': 2628, 'oregon': 3405, 'militia': 3082, 'trial': 5028, 'dismissed': 1414, 'bias': 490, 'judge': 2620, 'spokesperson': 4608, 'katrina': 2642, 'pierson': 3585, 'blatant': 531, 'threatened': 4919, 'lawsuit': 2757, 'claiming': 877, 'hypocrite': 2361, 'quote': 3868, 'volunteer': 5234, 'deliver': 1286, 'lawless': 2754, 'restore': 4072, 'order': 3402, 'honor': 2304, 'veteran': 5194, 'blacklivesmatter': 521, 'activist': 47, 'staged': 4638, 'police': 3645, 'brutality': 660, 'protestor': 3798, 'golf': 2085, 'addicted': 55, 'le': 2760, 'hundred': 2349, 'classmate': 885, 'parent': 3476, 'protest': 3795, 'let': 2802, 'transgender': 5008, 'boy': 593, 'missouri': 3108, 'dcg': 1224, 'self': 4328, 'proclaimed': 3760, 'defender': 1267, 'speech': 4588, 'maher': 2926, 'belief': 461, 'comedian': 949, 'russell': 4196, 'brand': 607, 'stand': 4643, 'routine': 4172, 'anniversary': 216, 'berlin': 473, 'building': 667, 'crazy': 1127, 'japanese': 2575, 'invention': 2520, 'simply': 4465, 'beck': 442, 'bullsh': 673, 'bigoted': 497, 'pure': 3831, 'stupidity': 4733, 'audio': 334, 'secretary': 4314, 'mattis': 3003, 'speaks': 4585, 'incompetent': 2434, 'north': 3296, 'korea': 2698, 'definitely': 1273, 'cnbc': 910, 'hack': 2162, 'prof': 3766, 'allegiance': 150, 'party': 3490, 'celebrating': 778, 'mass': 2988, 'murder': 3187, 'fugitive': 1980, 'preparing': 3716, 'run': 4188, 'qatar': 3842, 'billion': 502, 'principal': 3738, 'picture': 3579, 'yearbook': 5435, 'dad': 1194, 'steaming': 4666, 'mad': 2914, 'live': 2857, 'pummel': 3823, 'donation': 1463, 'pa': 3441, 'epic': 1638, 'challenge': 801, 'jump': 2624, 'shark': 4401, 'server': 4363, 'conspiracy': 1042, 'theory': 4902, 'statement': 4657, 'dangerous': 1205, 'cult': 1172, 'asked': 294, 'bribery': 628, 'immediately': 2399, 'boiler': 562, 'room': 4165, 'smoking': 4516, 'gunz': 2155, 'jedi': 2582, 'mind': 3091, 'mark': 2977, 'hamill': 2181, 'panic': 3464, 'threaten': 4918, 'harm': 2198, 'reporter': 4037, 'snapping': 4520, 'photo': 3573, 'tillerson': 4937, 'note': 3301, 'confirmation': 1015, 'hearing': 2227, 'break': 614, 'update': 5148, 'wapo': 5258, 'four': 1941, 'desperately': 1335, 'try': 5058, 'explain': 1728, 'polling': 3654, 'number': 3316, 'dnc': 1447, 'leaked': 2768, 'nd': 3231, 'dodge': 1453, 'goldman': 2084, 'sachs': 4205, 'shut': 4439, 'st': 4632, 'mn': 3120, 'interstate': 2509, 'molotov': 3135, 'cocktail': 916, 'concrete': 999, 'injure': 2470, 'attempt': 325, 'christian': 852, 'evangelist': 1678, 'jewish': 2595, 'hitler': 2278, 'card': 739, 'tumbling': 5067, 'mutiny': 3198, 'billionaire': 503, 'guru': 2156, 'benefit': 467, 'paleo': 3456, 'diet': 1369, 'banana': 395, 'republic': 4043, 'putin': 3838, 'valdai': 5175, 'act': 42, 'ny': 3321, 'shakedown': 4388, 'sharpton': 4403, 'meet': 3026, 'gm': 2070, 'pressure': 3723, 'dropping': 1508, 'rock': 4148, 'confederatef': 1008, 'flag': 1870, 'michael': 3065, 'though': 4913, 'majority': 2935, 'er': 1643, 'send': 4338, 'clear': 889, 'anthem': 227, 'singer': 4472, 'shirt': 4415, 'keep': 2645, 'politics': 3652, 'moderator': 3132, 'fact': 1755, 'irrelevant': 2542, 'matthew': 3002, 'compare': 975, 'jared': 2576, 'kushner': 2708, 'saddam': 4208, 'hussein': 2359, 'murderous': 3190, 'rapist': 3903, 'eye': 1744, 'contact': 1051, 'without': 5376, 'getting': 2038, 'best': 478, 'comeback': 948, 'allegation': 147, 'worker': 5391, 'skipping': 4486, 'work': 5389, 'behalf': 453, 'illegal': 2387, 'employer': 1594, 'welcome': 5307, 'germany': 2034, 'interview': 2510, 'swear': 4802, 'oath': 3326, 'store': 4690, 'owner': 3439, 'report': 4034, 'florida': 1895, 'week': 5297, 'massacre': 2990, 'hoax': 2281, 'biggest': 494, 'season': 4308, 'lawyer': 2758, 'skewer': 4483, 'village': 5209, 'idiot': 2374, 'violation': 5216, 'advises': 79, 'changing': 809, 'doxxed': 1481, 'chicago': 837, 'strip': 4712, 'honorary': 2305, 'street': 4705, 'designation': 1330, 'training': 5002, 'teacher': 4859, 'hood': 2307, 'britain': 641, 'longer': 2872, 'sovereign': 4574, 'investor': 2527, 'pulled': 3820, 'deutsche': 1352, 'bank': 400, 'etf': 1663, 'unit': 5120, 'cuomo': 1176, 'defends': 1268, 'endorsing': 1607, 'de': 1225, 'blasio': 528, 'offensive': 3351, 'statue': 4660, 'christopher': 855, 'columbus': 944, 'stealing': 4665, 'cbs': 772, 'anyone': 234, 'easy': 1532, 'rig': 4121, 'pretend': 3725, 'started': 4652, 'race': 3872, 'push': 3834, 'untangle': 5142, 'motif': 3159, 'shooter': 4422, 'nypd': 3323, 'koala': 2691, 'excited': 1704, 'map': 2965, 'podesta': 3634, 'alphabetical': 166, 'index': 2443, 'sender': 4339, 'version': 5189, 'updated': 5149, 'anderson': 200, 'cooper': 1077, 'air': 120, 'busted': 688, 'using': 5169, 'crap': 1124, 'suppress': 4777, 'nostradamus': 3300, 'predicted': 3706, 'alien': 145, 'invasion': 2519, 'nyc': 3322, 'ramping': 3892, 'million': 3088, 'illegals': 2388, 'chairman': 799, 'yell': 5437, 'together': 4953, 'shoot': 4421, 'middle': 3072, 'finger': 1853, 'stage': 4637, 'crooked': 1148, 'soros': 4560, 'popular': 3664, 'landslide': 2726, 'lose': 2881, 'electoral': 1566, 'tubman': 5064, 'jackson': 2564, 'democratic': 1296, 'base': 417, 'ready': 3921, 'rid': 4117, 'hilariously': 2265, 'rib': 4111, 'insane': 2478, 'obsession': 3337, 'impeaching': 2409, 'illegitimate': 2389, 'elect': 1562, 'delay': 1279, 'schedule': 4258, 'fed': 1807, 'control': 1061, 'okeefe': 3366, 'radio': 3879, 'wed': 5292, 'oct': 3342, 'bottom': 586, 'pm': 3629, 'edt': 1542, 'description': 1328, 'uk': 5095, 'brexit': 624, 'cheer': 830, 'accuse': 30, 'intimidation': 2512, 'reminding': 4014, 'wan': 5255, 'ignore': 2381, 'criticism': 1146, 'west': 5314, 'youth': 5448, 'another': 223, 'world': 5394, 'possible': 3677, 'clone': 899, 'translated': 5011, 'chinese': 844, 'english': 1617, 'subtitle': 4742, 'jorge': 2610, 'ramos': 3890, 'hannity': 2189, 'coddling': 918, 'lengthy': 2795, 'article': 287, 'dem': 1289, 'corruption': 1094, 'critical': 1145, 'story': 4692, 'mother': 3158, 'daughter': 1217, 'arrive': 283, 'nude': 3311, 'exam': 1699, 'radical': 3878, 'whose': 5336, 'includes': 2431, 'aiding': 116, 'cross': 1151, 'dump': 1518, 'corey': 1086, 'spa': 4575, 'enferm': 1611, 'depuis': 1320, 'trois': 5037, 'jours': 2615, 'dans': 1208, 'une': 5113, 'cage': 700, 'mi': 3063, 'gaillard': 1997, 'serum': 4361, 'euthanasi': 1673, 'demain': 1290, 'il': 2386, 'est': 1658, 'adopt': 70, 'gorafi': 2097, 'henningsen': 2242, 'nuclear': 3310, 'deterrent': 1349, 'rabbi': 3870, 'lerner': 2798, 'ali': 144, 'funeral': 1989, 'colbert': 925, 'tapper': 4846, 'feud': 1826, 'master': 2993, 'estate': 1660, 'moscow': 3154, 'working': 5392, 'arranging': 280, 'palestine': 3457, 'summit': 4759, 'hugging': 2339, 'peaceful': 3519, 'charlotte': 821, 'riot': 4128, 'objective': 3334, 'loud': 2888, 'outburst': 3418, 'latina': 2741, 'guest': 2144, 'forbids': 1912, 'private': 3745, 'jet': 2592, 'travel': 5017, 'cost': 1096, 'brother': 654, 'prosecuted': 3787, 'nevada': 3253, 'following': 1905, 'acquittal': 39, 'sean': 4305, 'spicer': 4594, 'december': 1246, 'strongly': 4714, 'opposed': 3394, 'exactly': 1698, 'today': 4951, 'tx': 5088, 'professor': 3767, 'upset': 5156, 'armed': 275, 'avoid': 353, 'shooting': 4423, 'carry': 751, 'dumbass': 1516, 'alaska': 132, 'lawmaker': 2755, 'different': 1371, 'sot': 4563, 'manchester': 2951, 'council': 1103, 'contender': 1053, 'facepalm': 1751, 'semitic': 4334, 'actually': 51, 'freechrischristie': 1959, 'reacts': 3918, 'hostage': 2321, 'situation': 4480, 'think': 4908, 'nyt': 3324, 'called': 711, 'potus': 3688, 'society': 4534, 'sue': 4752, 'small': 4507, 'massachusetts': 2989, 'town': 4985, 'allocate': 156, 'space': 4576, 'embroiled': 1585, 'nsfw': 3309, 'flashback': 1876, 'labeled': 2714, 'high': 2255, 'priest': 3734, 'goddess': 2077, 'occult': 3340, 'guccifer': 2141, 'redflag': 3959, 'freebie': 1958, 'george': 2030, 'stunning': 4729, 'appoints': 255, 'coffee': 921, 'mug': 3176, 'transition': 5010, 'team': 4860, 'endorses': 1606, 'hurricane': 2355, 'storm': 4691, 'thing': 4907, 'awkward': 363, 'hoda': 2283, 'spike': 4597, 'miserable': 3101, 'rating': 3912, 'shielding': 4409, 'driver': 1503, 'protester': 3796, 'blocking': 544, 'road': 4143, 'seeing': 4319, 'easily': 1529, 'stolen': 4685, 'electronic': 1567, 'machine': 2910, 'quarterback': 3848, 'citizenship': 869, 'risk': 4135, 'annihilation': 215, 'wildly': 5350, 'unpopular': 5135, 'nh': 3267, 'uncensored': 5105, 'facebook': 1749, 'user': 5168, 'french': 1966, 'journalist': 2613, 'fine': 1851, 'true': 5047, 'designed': 1331, 'fail': 1759, 'knew': 2687, 'along': 165, 'kellyanne': 2650, 'conway': 1072, 'humiliated': 2345, 'tv': 5079, 'display': 1422, 'incompetence': 2433, 'made': 2916, 'major': 2934, 'blow': 550, 'aggressively': 102, 'defend': 1266, 'bringing': 637, 'imax': 2396, 'film': 1842, 'glory': 2067, 'shouting': 4428, 'insider': 2482, 'warning': 5266, 'nomination': 3287, 'every': 1686, 'derailed': 1324, 'information': 2463, 'wolf': 5382, 'blitzer': 539, 'walk': 5250, 'olive': 3372, 'garden': 2007, 'commercial': 961, 'announce': 217, 'result': 4077, 'lying': 2906, 'forum': 1932, 'lock': 2862, 'weiner': 5305, 'laptop': 2730, 'illuminati': 2392, 'pedophile': 3523, 'ring': 4125, 'older': 3370, 'naturally': 3222, 'improve': 2422, 'wellness': 5311, 'da': 1192, 'department': 1309, 'setzt': 4375, 'den': 1300, 'widerstand': 5340, 'gegen': 2018, 'imperialismus': 2411, 'terrorismus': 4886, 'gleich': 2060, 'carl': 746, 'jung': 2626, 'attitude': 331, 'type': 5089, 'sash': 4234, 'solitude': 4545, 'welfare': 5309, 'leech': 2784, 'boston': 584, 'jihadist': 2596, 'jury': 2629, 'class': 883, 'ticket': 4931, 'hell': 2238, 'iraqi': 2537, 'elite': 1571, 'stretched': 4708, 'thin': 4906, 'tactic': 4829, 'around': 279, 'losing': 2883, 'band': 396, 'member': 3037, 'predicts': 3707, 'cker': 874, 'dhs': 1359, 'johnson': 2602, 'drinking': 1501, 'kool': 2696, 'verdict': 5187, 'crookedhillary': 1149, 'deleted': 1284, 'personal': 3557, 'recovered': 3950, 'benghazi': 468, 'linked': 2845, 'political': 3648, 'endingfed': 1602, 'hacking': 2165, 'tomi': 4959, 'lahren': 2720, 'rocker': 4151, 'marilyn': 2974, 'manson': 2961, 'thrilled': 4923, 'imploding': 2415, 'tally': 4838, 'total': 4973, 'queen': 3851, 'syndicate': 4819, 'ridiculous': 4119, 'maxine': 3006, 'water': 5279, 'receives': 3938, 'glamour': 2057, 'award': 359, 'lead': 2761, 'screaming': 4290, 'chant': 811, 'libertarian': 2817, 'jake': 2569, 'touting': 4981, 'assassination': 305, 'place': 3603, 'worry': 5397, 'wing': 5359, 'regret': 3986, 'turned': 5074, 'monster': 3143, 'return': 4091, 'furious': 1993, 'smack': 4506, 'everyone': 1688, 'complex': 984, 'attention': 330, 'see': 4318, 'switching': 4814, 'agree': 105, 'camera': 718, 'fatal': 1792, 'illusion': 2393, 'bag': 377, 'weed': 5295, 'rushed': 4195, 'london': 2867, 'arkansas': 272, 'pas': 3492, 'giving': 2054, 'power': 3694, 'stop': 4687, 'victim': 5200, 'patriot': 3502, 'removal': 4016, 'communist': 971, 'neighbor': 3241, 'indicted': 2450, 'hacker': 2164, 'five': 1867, 'crowdstrike': 1155, 'completely': 983, 'chelsea': 832, 'spread': 4619, 'outrageous': 3427, 'michigan': 3067, 'gay': 2015, 'passed': 3495, 'sergei': 4355, 'shoigu': 4420, 'admiral': 62, 'kuznetsov': 2710, 'aircraft': 121, 'carrying': 752, 'cruiser': 1158, 'begun': 452, 'navy': 3225, 'nusra': 3318, 'including': 2432, 'commander': 955, 'aleppo': 139, 'logic': 2865, 'find': 1849, 'supposed': 4776, 'anything': 235, 'anymore': 233, 'tesla': 4888, 'elon': 1575, 'musk': 3195, 'sends': 4341, 'bail': 384, 'paris': 3479, 'approval': 256, 'took': 4965, 'nosedive': 3299, 'sieben': 4450, 'sprachen': 4616, 'nur': 3317, 'vier': 5204, 'jahren': 2566, 'ist': 2554, 'bella': 464, 'ein': 1557, 'wunderkind': 5424, 'stamp': 4641, 'takedown': 4832, 'common': 968, 'thread': 4916, 'jamelle': 2570, 'bouie': 587, 'science': 4275, 'half': 2174, 'deplorable': 1313, 'debt': 1241, 'paula': 3509, 'jones': 2607, 'stunned': 4727, 'pope': 3662, 'rome': 4163, 'erdogan': 1648, 'thug': 4926, 'rough': 4170, 'outrage': 3425, 'instruction': 2489, 'acceptable': 21, 'migration': 3076, 'conquering': 1032, 'nobel': 3283, 'prize': 3749, 'economist': 1538, 'unreal': 5136, 'scream': 4288, 'prayer': 3699, 'pledge': 3621, 'hall': 2175, 'laser': 2734, 'truly': 5048, 'upon': 5153, 'john': 2601, 'oliver': 3373, 'smear': 4512, 'exposed': 1735, 'sailor': 4215, 'held': 2237, 'iranian': 2535, 'sign': 4453, 'neocon': 3244, 'stunt': 4731, 'future': 1994, 'declaring': 1253, 'winner': 5361, 'goon': 2094, 'schooled': 4268, 'hysterical': 2364, 'confused': 1020, 'cosby': 1095, 'bargained': 408, 'tried': 5032, 'discredit': 1401, 'husband': 2358, 'ruffalo': 4182, 'delivers': 1287, 'mobile': 3125, 'solar': 4539, 'trailer': 5000, 'standing': 4645, 'camp': 720, 'preparation': 3714, 'harsh': 2203, 'winter': 5363, 'attacking': 324, 'grandson': 2116, 'okay': 3365, 'loudmouth': 2889, 'entertainer': 1628, 'milo': 3089, 'kicked': 2663, 'williamsburg': 5353, 'punch': 3824, 'mouth': 3163, 'concerned': 995, 'potential': 3687, 'xi': 5427, 'western': 5316, 'xjp': 5429, 'lightly': 2831, 'beijing': 457, 'express': 1737, 'saker': 4216, 'latest': 2739, 'scapegoat': 4250, 'implosion': 2416, 'nothing': 3302, 'short': 4425, 'absurd': 16, 'talk': 4836, 'admittedly': 68, 'joke': 2605, 'nail': 3204, 'immigration': 2402, 'violent': 5218, 'ferguson': 1822, 'cellphone': 781, 'capture': 737, 'traffic': 4997, 'mowed': 3170, 'erupt': 1654, 'maryland': 2985, 'switched': 4813, 'nrcc': 3307, 'brag': 601, 'movement': 3167, 'spent': 4593, 'gambling': 2001, 'unknowable': 5125, 'ben': 465, 'jerry': 2588, 'ice': 2365, 'cream': 1128, 'founder': 1939, 'arrested': 282, 'capitol': 736, 'submarine': 4737, 'sea': 4301, 'poverty': 3692, 'rose': 4166, 'district': 1433, 'presidency': 3718, 'petition': 3564, 'remove': 4017, 'owned': 3438, 'signature': 4455, 'brutally': 661, 'hilarity': 2266, 'ensues': 1621, 'rap': 3900, 'song': 4554, 'oligarchy': 3371, 'exit': 1716, 'outlook': 3423, 'cheaper': 827, 'worst': 5400, 'doucyet': 1475, 'fcc': 1801, 'net': 3247, 'neutrality': 3252, 'rule': 4185, 'bomb': 566, 'whining': 5324, 'rush': 4194, 'limbaugh': 2834, 'financial': 1848, 'ruin': 4183, 'boycott': 594, 'palin': 3459, 'stuns': 4730, 'latino': 2742, 'enticed': 1630, 'soccer': 4530, 'ball': 390, 'filled': 1841, 'gift': 2045, 'basket': 424, 'risked': 4136, 'legal': 2789, 'mill': 3084, 'ep': 1636, 'simple': 4464, 'chart': 823, 'journal': 2612, 'wrecked': 5410, 'trumpcare': 5050, 'love': 2891, 'spineless': 4601, 'doctor': 1450, 'list': 2846, 'procedure': 3756, 'hot': 2324, 'dog': 1455, 'cart': 754, 'causing': 767, 'warming': 5262, 'dr': 1483, 'eowyn': 1635, 'lavar': 2752, 'allegedly': 149, 'surgery': 4783, 'portion': 3670, 'skull': 4488, 'flat': 1878, 'admit': 65, 'promising': 3775, 'internet': 2508, 'career': 741, 'vine': 5213, 'write': 5414, 'newsbiscuit': 3261, 'copied': 1082, 'east': 1530, 'coast': 914, 'seth': 4371, 'rich': 4114, 'sickening': 4444, 'lecture': 2780, 'mom': 3136, 'terrorism': 4885, 'manufactured': 2962, 'remember': 4011, 'operative': 3388, 'bragging': 603, 'wi': 5337, 'funny': 1991, 'asking': 295, 'postman': 3682, 'spider': 4595, 'flasher': 1877, 'sheriff': 4407, 'clarke': 881, 'conglomeration': 1022, 'misfit': 3102, 'plan': 3606, 'giddy': 2043, 'frothing': 1975, 'intercepted': 2502, 'communication': 969, 'implicate': 2413, 'three': 4922, 'plot': 3622, 'francis': 1950, 'assimilate': 310, 'superstar': 4770, 'marc': 2970, 'anthony': 228, 'madison': 2918, 'square': 4626, 'veritas': 5188, 'bartender': 415, 'recorded': 3948, 'coordinated': 1079, 'invited': 2530, 'pop': 3661, 'perform': 3547, 'inauguration': 2426, 'sing': 4471, 'lynching': 2908, 'flip': 1886, 'flop': 1893, 'met': 3055, 'dictator': 1365, 'la': 2712, 'vega': 5183, 'suspect': 4794, 'drive': 1502, 'missing': 3107, 'price': 3729, 'rex': 4108, 'rolling': 4159, 'thunder': 4929, 'player': 3615, 'patrick': 3501, 'parallax': 3472, 'daniel': 1206, 'faraci': 1781, 'bahaha': 381, 'bet': 480, 'homeless': 2297, 'guard': 2139, 'hollywood': 2290, 'blvd': 555, 'sleep': 4501, 'intel': 2498, 'produce': 3761, 'showing': 4432, 'administration': 61, 'spied': 4596, 'sings': 4474, 'bird': 506, 'dickileak': 1364, 'provides': 3803, 'sequestered': 4353, 'weather': 5290, 'comprehensive': 988, 'date': 1215, 'ally': 162, 'offended': 3348, 'evidence': 1691, 'reopens': 4024, 'charleston': 820, 'eggshell': 1550, 'eve': 1681, 'racially': 3875, 'tool': 4966, 'swedish': 4805, 'colonizer': 941, 'preference': 3708, 'housing': 2329, 'native': 3220, 'swede': 4803, 'cold': 926, 'object': 3333, 'jennifer': 2586, 'lopez': 2877, 'shake': 4387, 'thong': 4911, 'stuff': 4722, 'homeland': 2296, 'mishandling': 3103, 'truthfeed': 5057, 'anchor': 198, 'lemon': 2793, 'georgia': 2032, 'openly': 3385, 'displaying': 1423, 'dislike': 1413, 'barnicle': 411, 'andrea': 202, 'mitchell': 3116, 'annoyed': 221, 'trash': 5014, 'newt': 3263, 'available': 348, 'televised': 4870, 'since': 4470, 'ambushed': 180, 'outside': 3429, 'courthouse': 1112, 'gunman': 2153, 'riveting': 4141, 'youtube': 5449, 'urging': 5162, 'execute': 1710, 'dan': 1203, 'rather': 3911, 'shame': 4390, 'great': 2120, 'reopening': 4023, 'due': 1514, 'recent': 3940, 'development': 1356, 'empty': 1595, 'barrel': 413, 'noise': 3285, 'general': 2021, 'disgrace': 1406, 'uniform': 5115, 'far': 1780, 'mccain': 3010, 'pieczenik': 3582, 'intelligence': 2499, 'waging': 5245, 'coup': 1108, 'corrupt': 1093, 'regated': 3977, 'maga': 2924, 'mania': 2956, 'motor': 3160, 'diamond': 1361, 'silk': 4459, 'large': 2731, 'whoop': 5333, 'painfully': 3450, 'come': 947, 'big': 493, 'somali': 4549, 'smithsonian': 4514, 'museum': 3193, 'planning': 3610, 'hero': 2244, 'third': 4910, 'rate': 3908, 'qb': 3843, 'agitator': 103, 'colin': 927, 'kaepernick': 2633, 'affleck': 86, 'realized': 3925, 'batman': 429, 'superman': 4769, 'aide': 115, 'advised': 77, 'stranger': 4698, 'fiction': 1828, 'survivor': 4792, 'sponsored': 4611, 'firm': 1861, 'phony': 3572, 'pull': 3819, 'jay': 2578, 'beyonce': 486, 'gig': 2046, 'glass': 2059, 'ceiling': 775, 'crack': 1122, 'concentration': 993, 'dapl': 1209, 'kennel': 2652, 'sharon': 4402, 'jeanguenat': 2580, 'redux': 3963, 'neurosurgeon': 3251, 'prez': 3728, 'huffington': 2337, 'living': 2858, 'trunk': 5052, 'oppression': 3397, 'commiseration': 963, 'similar': 4462, 'topic': 4968, 'woo': 5385, 'meditation': 3023, 'shout': 4427, 'killing': 2672, 'wife': 5343, 'persecution': 3553, 'evangelism': 1677, 'china': 843, 'torn': 4969, 'lawn': 2756, 'beyond': 487, 'limit': 2836, 'minnesota': 3098, 'join': 2603, 'voice': 5231, 'dossier': 1471, 'spoke': 4605, 'fate': 1794, 'ucla': 5092, 'basketball': 425, 'detained': 1343, 'allow': 157, 'convenient': 1065, 'active': 45, 'fort': 1930, 'lauderdale': 2743, 'agreeing': 107, 'predator': 3703, 'harvey': 2204, 'fundraiser': 1988, 'anyway': 236, 'fabricating': 1747, 'innocent': 2475, 'dreamer': 1495, 'deported': 1317, 'session': 4368, 'intimidated': 2511, 'answer': 224, 'harris': 2201, 'scorch': 4282, 'actor': 48, 'approved': 257, 'meryl': 3051, 'streep': 4704, 'rant': 3899, 'check': 828, 'vaughn': 5182, 'mel': 3031, 'gibson': 2042, 'reaction': 3917, 'reportedly': 4036, 'tower': 4983, 'layout': 2759, 'sneak': 4521, 'peek': 3525, 'sits': 4479, 'portrays': 3673, 'laughing': 2746, 'demonstration': 1298, 'coke': 924, 'harmful': 2199, 'informed': 2464, 'mascot': 2986, 'real': 3923, 'art': 286, 'donated': 1462, 'tourist': 4979, 'decaying': 1245, 'charm': 822, 'dublin': 1513, 'least': 2773, 'corporate': 1089, 'presstitutes': 3722, 'colluded': 935, 'hide': 2252, 'explodes': 1733, 'moral': 3148, 'stance': 4642, 'bizarre': 517, 'starring': 4650, 'omarosa': 3376, 'surface': 4781, 'hair': 2170, 'ewao': 1695, 'hawking': 2217, 'searching': 4307, 'late': 2737, 'mitch': 3115, 'mcconnell': 3012, 'beat': 436, 'snorting': 4525, 'cocaine': 915, 'hotel': 2326, 'cyber': 1188, 'pocalypse': 3632, 'mcafee': 3009, 'pressured': 3724, 'argentina': 268, 'honoring': 2306, 'jimmy': 2597, 'carter': 756, 'turkey': 5071, 'rivalry': 4139, 'kurd': 2705, 'complicate': 985, 'raqqa': 3905, 'placed': 3604, 'donor': 1465, 'funding': 1987, 'allows': 160, 'christmas': 854, 'light': 2830, 'offending': 3350, 'pittsburgh': 3601, 'officer': 3354, 'boycotting': 596, 'baiting': 386, 'diva': 1436, 'concert': 996, 'forced': 1914, 'satanist': 4235, 'brilliantly': 635, 'troll': 5038, 'baker': 387, 'requesting': 4046, 'birthday': 509, 'cake': 705, 'lucifer': 2897, 'decide': 1248, 'screwed': 4295, 'steel': 4667, 'buying': 693, 'metal': 3056, 'instead': 2487, 'ya': 5431, 'mitt': 3117, 'chooses': 849, 'exxon': 1743, 'mobil': 3124, 'sec': 4310, 'path': 3500, 'consortiumnews': 1041, 'congratulates': 1024, 'bless': 533, 'discovered': 1399, 'sunken': 4763, 'roman': 4160, 'atlantis': 319, 'official': 3355, 'exposing': 1736, 'german': 2033, 'us': 5163, 'nudity': 3312, 'outlet': 3421, 'loon': 2876, 'versus': 5190, 'sarah': 4230, 'entertainingly': 1629, 'apart': 237, 'toblerone': 4949, 'sponsor': 4610, 'premier': 3712, 'league': 2766, 'goalpost': 2075, 'metre': 3060, 'soon': 4558, 'confirms': 1017, 'sold': 4540, 'weapon': 5287, 'drop': 1506, 'italian': 2555, 'struggling': 4717, 'stay': 4662, 'afloat': 90, 'warship': 5271, 'targeting': 4850, 'syrian': 4822, 'civilian': 872, 'slapped': 4497, 'dose': 1470, 'reality': 3924, 'brexiter': 625, 'refusing': 3975, 'finance': 1847, 'bn': 556, 'worse': 5398, 'written': 5417, 'bus': 684, 'rosneft': 4168, 'baut': 432, 'ehemalige': 1555, 'romanow': 4162, 'residenz': 4053, 'wieder': 5341, 'auf': 336, 'regular': 3987, 'pulse': 3822, 'nightclub': 3277, 'often': 3359, 'dating': 1216, 'app': 242, 'abuse': 17, 'multibillion': 3181, 'dollar': 1458, 'adele': 58, 'pregnant': 3710, 'aint': 119, 'fun': 1985, 'mum': 3185, 'paper': 3467, 'fourth': 1942, 'nonexistent': 3291, 'rethink': 4086, 'surprise': 4784, 'pride': 3732, 'parade': 3470, 'apparently': 244, 'predict': 3705, 'couple': 1109, 'stump': 4726, 'admire': 63, 'beautiful': 439, 'jr': 2618, 'pushed': 3835, 'read': 3919, 'eight': 1556, 'wrought': 5421, 'pitch': 3598, 'daily': 1197, 'perfectly': 3546, 'encyclopaedia': 1598, 'pokiespedia': 3641, 'rob': 4145, 'fannie': 1778, 'freddie': 1956, 'carson': 753, 'discovery': 1400, 'hud': 2335, 'clue': 908, 'globo': 2064, 'pokego': 3640, 'rnc': 4142, 'chair': 798, 'loses': 2882, 'honestly': 2301, 'lecturing': 2781, 'seriousness': 4360, 'smart': 4510, 'shamelessly': 4392, 'freeloader': 1962, 'subway': 4745, 'riding': 4120, 'book': 572, 'level': 2806, 'shred': 4434, 'clean': 887, 'scotus': 4286, 'disney': 1417, 'rated': 3909, 'targeted': 4849, 'kidnapping': 2667, 'slavery': 4500, 'charity': 819, 'author': 344, 'mongering': 3140, 'dot': 1472, 'connect': 1029, 'huckabee': 2334, 'cool': 1074, 'cucumber': 1171, 'appointed': 254, 'yates': 5433, 'defying': 1275, 'monumentally': 3146, 'humiliating': 2347, 'constituent': 1044, 'expertly': 1727, 'trolled': 5039, 'dress': 1497, 'code': 919, 'promotes': 3777, 'culture': 1173, 'underoos': 5111, 'officially': 3356, 'wad': 5242, 'tupolev': 5070, 'tu': 5062, 'bomber': 567, 'potent': 3686, 'rapidly': 3902, 'hoarding': 2280, 'currency': 1179, 'brave': 609, 'digital': 1373, 'amnesty': 188, 'koch': 2693, 'influence': 2460, 'awakened': 358, 'humanity': 2343, 'awaits': 356, 'fully': 1984, 'scripted': 4297, 'ending': 1601, 'robert': 4147, 'deniro': 1303, 'wanted': 5257, 'rioter': 4129, 'movie': 3168, 'sub': 4736, 'human': 2341, 'mob': 3123, 'young': 5445, 'begging': 449, 'mercy': 3048, 'parking': 3481, 'garage': 2005, 'joe': 2599, 'piscopo': 3595, 'imitates': 2398, 'adam': 53, 'schiff': 4261, 'finish': 1854, 'slap': 4496, 'regulation': 3988, 'tiny': 4943, 'citizen': 868, 'tom': 4957, 'brokaw': 646, 'threatening': 4920, 'paranoid': 3474, 'apoplexy': 241, 'russkies': 4199, 'rundown': 4189, 'looking': 2875, 'admission': 64, 'obamas': 3331, 'reading': 3920, 'pensacola': 3537, 'fl': 1869, 'charge': 816, 'transcript': 5006, 'apologizes': 240, 'review': 4100, 'insult': 2490, 'fly': 1897, 'lao': 2729, 'except': 1702, 'directed': 1382, 'devotes': 1358, 'champ': 804, 'cast': 759, 'toll': 4956, 'milwaukee': 3090, 'neighborhood': 3242, 'literally': 2853, 'praise': 3698, 'economic': 1537, 'flynn': 1899, 'flame': 1873, 'credibility': 1135, 'important': 2418, 'horoscope': 2313, 'november': 3305, 'martha': 2983, 'stewart': 4675, 'lewd': 2808, 'gesture': 2035, 'portrait': 3672, 'fair': 1763, 'seems': 4323, 'jealous': 2579, 'leading': 2764, 'adult': 73, 'overdose': 3432, 'warmer': 5261, 'ponder': 3656, 'budgeting': 664, 'good': 2090, 'legend': 2791, 'buffalo': 665, 'thousand': 4915, 'bison': 512, 'holder': 2286, 'key': 2658, 'collusion': 936, 'unveils': 5146, 'afford': 87, 'healthcare': 2224, 'frogtown': 1972, 'alt': 169, 'triumph': 5036, 'transhumanism': 5009, 'assad': 299, 'navigate': 3224, 'aspirant': 297, 'toby': 4950, 'protect': 3792, 'librarian': 2819, 'rt': 4176, 'fear': 1802, 'begin': 450, 'raid': 3881, 'madness': 2920, 'parry': 3484, 'keith': 2648, 'olbermann': 3368, 'lash': 2735, 'fukushima': 1982, 'untouchable': 5144, 'eco': 1536, 'apocalypse': 239, 'talking': 4837, 'coolest': 1076, 'anna': 213, 'frozen': 1976, 'disneyland': 1418, 'antifa': 231, 'biker': 498, 'ask': 293, 'resume': 4078, 'bombing': 568, 'muschniwogdowis': 3192, 'business': 686, 'usual': 5171, 'alert': 140, 'destroyed': 1340, 'intent': 2501, 'stopping': 4689, 'baltimore': 393, 'embarrass': 1578, 'suggests': 4755, 'solve': 4548, 'documentary': 1452, 'hd': 2218, 'credit': 1137, 'desperate': 1334, 'mistake': 3111, 'committed': 966, 'keeping': 2646, 'divisive': 1444, 'cannabis': 732, 'incurable': 2440, 'cancer': 728, 'criminalized': 1140, 'actress': 49, 'panicking': 3465, 'ugly': 5094, 'divorce': 1445, 'unsealed': 5141, 'seal': 4303, 'dare': 1210, 'worthy': 5401, 'serving': 4366, 'separate': 4349, 'emotion': 1590, 'spiritual': 4603, 'therapy': 4903, 'loving': 2893, 'srt': 4630, 'animal': 211, 'executes': 1711, 'front': 1973, 'unthinkable': 5143, 'plus': 3627, 'wildfire': 5348, 'october': 3343, 'running': 4191, 'reopened': 4022, 'wiretapping': 5365, 'accusation': 29, 'complete': 982, 'lesser': 2799, 'evil': 1692, 'argument': 270, 'block': 542, 'flint': 1885, 'backlash': 373, 'betraying': 481, 'laugh': 2744, 'philippine': 3570, 'leader': 2762, 'routinely': 4173, 'murdered': 3188, 'fill': 1840, 'exhausted': 1714, 'sidekick': 4446, 'valerie': 5177, 'jarrett': 2577, 'speaking': 4584, 'fee': 1812, 'university': 5124, 'witness': 5377, 'breathtaking': 620, 'century': 793, 'event': 1684, 'nic': 3269, 'mega': 3028, 'enough': 1620, 'vile': 5208, 'fooled': 1907, 'disguised': 1407, 'lied': 2824, 'misspoke': 3110, 'bowling': 591, 'franklin': 1953, 'graham': 2112, 'pulling': 3821, 'marriage': 2980, 'adoption': 71, 'osu': 3413, 'diversity': 1440, 'sympathizes': 4818, 'sharing': 4400, 'share': 4398, 'truck': 5045, 'minute': 3099, 'oil': 3362, 'tanker': 4840, 'mln': 3119, 'scientist': 4278, 'piece': 3581, 'dna': 1446, 'genome': 2027, 'anonymous': 222, 'vindicate': 5212, 'entire': 1631, 'felon': 1817, 'girlfriend': 2049, 'grab': 2107, 'stick': 4676, 'partner': 3489, 'exonerated': 1717, 'penalty': 3530, 'kevin': 2657, 'proposition': 3786, 'whoopi': 5334, 'goldberg': 2082, 'surprised': 4785, 'hindu': 2269, 'religious': 4006, 'bloc': 541, 'ok': 3364, 'promise': 3774, 'grandfather': 2115, 'ran': 3893, 'canadian': 726, 'brothel': 653, 'optimistic': 3399, 'ahead': 112, 'pack': 3445, 'assembly': 308, 'disrespectful': 1429, 'also': 168, 'boycotted': 595, 'bush': 685, 'fought': 1935, 'palm': 3460, 'beach': 435, 'welcomed': 5308, 'jew': 2594, 'excluded': 1705, 'african': 93, 'leave': 2774, 'napolitano': 3212, 'surveillance': 4790, 'success': 4746, 'mean': 3016, 'denzel': 1308, 'blaming': 526, 'despicable': 1337, 'kick': 2662, 'neverforget': 3255, 'gummy': 2150, 'candy': 731, 'churchgoer': 860, 'trapped': 5013, 'inside': 2481, 'cathedral': 763, 'guarding': 2140, 'authority': 345, 'mentor': 3046, 'kkk': 2684, 'byrd': 696, 'deserves': 1329, 'scaramucci': 4251, 'uncomfortable': 5106, 'wallace': 5254, 'creates': 1131, 'arizona': 271, 'poster': 3681, 'study': 4721, 'insurer': 2493, 'aca': 19, 'pharma': 3567, 'prep': 3713, 'spend': 4591, 'creator': 1134, 'mess': 3052, 'created': 1130, 'knock': 2688, 'stamen': 4640, 'gate': 2012, 'unlimited': 5129, 'permit': 3551, 'slash': 4498, 'saudi': 4238, 'cut': 1185, 'breast': 618, 'social': 4531, 'activism': 46, 'dramatically': 1489, 'chaos': 814, 'irs': 2543, 'audit': 335, 'breakfast': 616, 'bahrain': 382, 'rajab': 3886, 'hospitalized': 2319, 'heart': 2229, 'condition': 1002, 'sense': 4343, 'expansion': 1720, 'nasa': 3214, 'six': 4481, 'glossed': 2068, 'emerge': 1586, 'antonin': 232, 'primaried': 3735, 'horrified': 2315, 'nevertrump': 3256, 'gutless': 2157, 'coward': 1117, 'simpson': 4466, 'idiocy': 2373, 'correct': 1091, 'lamb': 2722, 'murderer': 3189, 'put': 3837, 'vetted': 5196, 'notice': 3303, 'name': 3208, 'minded': 3092, 'snake': 4518, 'salesman': 4219, 'chief': 839, 'guy': 2159, 'executive': 1712, 'traced': 4990, 'barack': 406, 'swinging': 4810, 'reply': 4033, 'aclu': 37, 'page': 3447, 'via': 5197, 'hole': 2287, 'sucker': 4751, 'southside': 4571, 'sucked': 4750, 'erik': 1651, 'erikson': 1652, 'reported': 4035, 'delusional': 1288, 'facing': 1754, 'filming': 1843, 'tar': 4847, 'sand': 4225, 'pipeline': 3592, 'dakota': 1198, 'nj': 3282, 'infiltrate': 2456, 'colorado': 943, 'discriminate': 1402, 'reward': 4107, 'person': 3556, 'bacon': 374, 'bonkers': 571, 'withdrawal': 5370, 'accord': 26, 'hail': 2168, 'victory': 5201, 'salute': 4221, 'everyday': 1687, 'woke': 5381, 'neil': 3243, 'armstrong': 277, 'ship': 4413, 'superior': 4768, 'soul': 4564, 'forest': 1921, 'joel': 2600, 'osteen': 3412, 'wrath': 5408, 'locking': 2864, 'door': 1467, 'devastated': 1353, 'houston': 2330, 'flood': 1889, 'difference': 1370, 'ratgeber': 3910, 'alles': 153, 'sie': 4449, 'jetzt': 2593, 'ber': 469, 'wahl': 5246, 'wissen': 5368, 'ssen': 4631, 'entering': 1627, 'chalkening': 800, 'across': 41, 'chuck': 857, 'todd': 4952, 'normalize': 3295, 'dartmouth': 1213, 'ethical': 1665, 'awkwardly': 364, 'angrily': 209, 'choose': 848, 'row': 4174, 'nervous': 3246, 'handle': 2186, 'jeff': 2583, 'flake': 1872, 'denounced': 1304, 'brent': 623, 'bozell': 598, 'conscience': 1033, 'photographer': 3574, 'eyebrow': 1745, 'problem': 3755, 'roll': 4158, 'ramadi': 3888, 'rudy': 4181, 'giuliani': 2051, 'blew': 535, 'khantroversy': 2661, 'wide': 5338, 'warplane': 5268, 'fleeing': 1883, 'fighter': 1833, 'weighs': 5302, 'hissy': 2274, 'fit': 1866, 'appears': 249, 'disoriented': 1419, 'airport': 125, 'racism': 3876, 'dumbest': 1517, 'imaginable': 2395, 'creative': 1133, 'chriswallace': 856, 'heated': 2233, 'exchange': 1703, 'tie': 4932, 'mod': 3130, 'shrinking': 4437, 'core': 1085, 'capital': 735, 'signal': 4454, 'recession': 3941, 'socialist': 4533, 'pee': 3524, 'came': 717, 'underage': 5107, 'pest': 3561, 'egyptian': 1554, 'troop': 5041, 'train': 5001, 'boris': 580, 'egorov': 1551, 'voucher': 5239, 'kasich': 2641, 'education': 1545, 'cair': 702, 'ignorance': 2379, 'hijab': 2260, 'hike': 2263, 'gitmo': 2050, 'serviceman': 4365, 'punished': 3827, 'heat': 2232, 'saved': 4241, 'leavenworth': 2775, 'spokesman': 4607, 'fogle': 1902, 'attacked': 323, 'beaten': 437, 'beg': 448, 'goer': 2079, 'sexy': 4383, 'sandy': 4227, 'hook': 2308, 'known': 2690, 'prior': 3741, 'ignored': 2382, 'urgent': 5161, 'consulate': 1049, 'lt': 2896, 'statistic': 4659, 'damned': 1202, 'tease': 4862, 'pale': 3455, 'gore': 2098, 'gone': 2089, 'snl': 4524, 'failing': 1761, 'clip': 898, 'writing': 5416, 'pen': 3529, 'hailed': 2169, 'twatty': 5080, 'midnight': 3073, 'loretta': 2879, 'grassley': 2118, 'testimony': 4892, 'detroit': 1351, 'assistant': 313, 'supervisor': 4771, 'special': 4586, 'received': 3937, 'cash': 758, 'woodshed': 5387, 'trail': 4999, 'heartbreaking': 2230, 'tweeted': 5082, 'oh': 3360, 'lovely': 2892, 'gang': 2003, 'broadcasted': 644, 'stuck': 4718, 'brink': 639, 'civil': 871, 'kamala': 2636, 'scathing': 4255, 'athlete': 318, 'diplomatic': 1380, 'kerry': 2656, 'kirby': 2679, 'shilling': 4412, 'highlight': 2258, 'pervert': 3559, 'appearance': 247, 'holy': 2293, 'released': 4002, 'closing': 903, 'sociopathic': 4535, 'liar': 2811, 'hid': 2250, 'moratorium': 3150, 'demented': 1293, 'imbecile': 2397, 'killary': 2669, 'reign': 3992, 'soar': 4528, 'asia': 291, 'libs': 2820, 'shoe': 4419, 'couch': 1098, 'probably': 3751, 'forgot': 1925, 'pic': 3577, 'cdc': 773, 'whistle': 5326, 'severe': 4378, 'malpractice': 2943, 'accused': 31, 'injury': 2472, 'blog': 545, 'investigating': 2524, 'lunatic': 2902, 'scolded': 4280, 'pier': 3583, 'morgan': 3151, 'trashing': 5015, 'wearing': 5289, 'confederate': 1007, 'whiner': 5323, 'georgetown': 2031, 'track': 4991, 'recruit': 3951, 'descendant': 1327, 'slave': 4499, 'vow': 5240, 'fascist': 1787, 'critic': 1144, 'saboteur': 4204, 'blind': 536, 'opera': 3386, 'performance': 3548, 'imminent': 2403, 'trolling': 5040, 'susan': 4793, 'sarandon': 4231, 'cleavage': 891, 'elderly': 1561, 'hispanic': 2273, 'pepper': 3541, 'sprayed': 4618, 'eric': 1650, 'vision': 5223, 'publicly': 3815, 'starting': 4653, 'cave': 770, 'scrabble': 4287, 'spell': 4590, 'doom': 1466, 'racial': 3874, 'hypothesis': 2363, 'reset': 4049, 'tabloid': 4825, 'rambling': 3889, 'turkish': 5072, 'disinfo': 1412, 'baghdadi': 380, 'follower': 1904, 'side': 4445, 'wedding': 5293, 'fanboy': 1777, 'blasted': 530, 'tweeting': 5083, 'wonder': 5384, 'else': 1576, 'fence': 1820, 'mansion': 2960, 'islamophobia': 2548, 'ultra': 5099, 'melissa': 3033, 'mccarthy': 3011, 'add': 54, 'admin': 60, 'ridicule': 4118, 'glorious': 2066, 'spoof': 4612, 'clueless': 909, 'unaware': 5103, 'adviser': 78, 'foreign': 1919, 'agent': 100, 'sinatra': 4469, 'firing': 1860, 'squad': 4625, 'testifying': 4891, 'unless': 5126, 'obey': 3332, 'modesty': 3133, 'denier': 1302, 'madonna': 2921, 'trey': 5027, 'gowdy': 2106, 'deemed': 1259, 'oklahoma': 3367, 'substitute': 4741, 'intoxication': 2513, 'bangalore': 398, 'km': 2685, 'search': 4306, 'reach': 3914, 'hampshire': 2184, 'almost': 164, 'collide': 932, 'portland': 3671, 'elijah': 1570, 'cummings': 1174, 'sure': 4780, 'well': 5310, 'aware': 360, 'regarding': 3976, 'indianapolis': 2447, 'screamed': 4289, 'tricked': 5031, 'fiddling': 1829, 'temperature': 4874, 'data': 1214, 'scam': 4248, 'welp': 5312, 'belgian': 459, 'receive': 3936, 'visa': 5222, 'asylum': 317, 'cycle': 1189, 'complacency': 979, 'servitude': 4367, 'sniveling': 4523, 'nevertrumpers': 3257, 'erect': 1649, 'foot': 1909, 'naked': 3206, 'stare': 4649, 'monument': 3145, 'several': 4377, 'energize': 1609, 'mobilize': 3127, 'grisly': 2128, 'scene': 4256, 'decapitated': 1244, 'doll': 1457, 'overrun': 3435, 'darpa': 1212, 'transfer': 5007, 'sophisticated': 4559, 'telescope': 4869, 'developed': 1355, 'command': 954, 'scarborough': 4252, 'emotional': 1591, 'weil': 5304, 'sich': 4442, 'pr': 3696, 'gelten': 2019, 'gef': 2017, 'ngnisdirektor': 3266, 'erteilt': 1653, 'ftlingen': 1979, 'lebenslanges': 2778, 'hausverbot': 2213, 'committee': 967, 'honey': 2302, 'fatally': 1793, 'gunned': 2154, 'bitter': 515, 'account': 27, 'blackliesmatter': 519, 'bastard': 426, 'handsupdontshoot': 2188, 'bpa': 599, 'malia': 2942, 'pounding': 3689, 'fist': 1865, 'lallapalooza': 2721, 'festival': 1824, 'arrives': 285, 'hawaii': 2215, 'wealthy': 5286, 'drunk': 1511, 'disrespect': 1428, 'carolina': 749, 'porn': 3668, 'site': 4478, 'blocked': 543, 'vladimir': 5228, 'united': 5121, 'warren': 5269, 'drag': 1485, 'sideways': 4448, 'brutal': 659, 'commencement': 957, 'serve': 4362, 'become': 443, 'facto': 1757, 'regime': 3980, 'turning': 5075, 'blessed': 534, 'congressional': 1027, 'hawk': 2216, 'intensify': 2500, 'recruitment': 3953, 'obamaphone': 3330, 'program': 3770, 'stashed': 4655, 'windfall': 5357, 'phone': 3571, 'creating': 1132, 'actual': 50, 'screen': 4291, 'hurting': 2357, 'growth': 2134, 'whole': 5332, 'alex': 141, 'episode': 1639, 'drank': 1490, 'gallon': 2000, 'younger': 5446, 'commie': 962, 'pictured': 3580, 'vietnam': 5205, 'attorney': 332, 'janet': 2572, 'reno': 4021, 'opeds': 3382, 'zuesse': 5460, 'link': 2844, 'zwo': 5463, 'drei': 1496, 'threatens': 4921, 'bench': 466, 'inappropriate': 2424, 'behavior': 455, 'facility': 1753, 'impeached': 2408, 'enter': 1625, 'reviewing': 4102, 'giant': 2041, 'tantrum': 4841, 'decries': 1257, 'letting': 2805, 'extortion': 1741, 'nuke': 3314, 'retreat': 4089, 'embarrassing': 1581, 'hacked': 2163, 'choking': 847, 'coughing': 1099, 'alma': 163, 'mater': 2998, 'cleverer': 894, 'schachzug': 4257, 'spd': 4581, 'schickt': 4260, 'ebenfalls': 1534, 'angela': 205, 'merkel': 3050, 'kandidatin': 2638, 'in': 2423, 'rennen': 4020, 'reckless': 3943, 'population': 3666, 'exceed': 1701, 'birmingham': 507, 'highest': 2257, 'minimum': 3094, 'wage': 5244, 'south': 4568, 'unlike': 5127, 'horse': 2317, 'humor': 2348, 'crazed': 1126, 'lefty': 2788, 'protesting': 3797, 'disagrees': 1387, 'phew': 3568, 'easier': 1528, 'convulsing': 1070, 'falling': 1769, 'lift': 2827, 'van': 5179, 'inquiry': 2477, 'launched': 2749, 'smashed': 4511, 'pint': 3591, 'pub': 3812, 'sarcastic': 4232, 'safer': 4210, 'strike': 4710, 'grounded': 2130, 'fix': 1868, 'postmodernism': 3683, 'diego': 1368, 'zoo': 5459, 'taped': 4845, 'planet': 3608, 'podcast': 3633, 'serenity': 4354, 'stoicism': 4682, 'inflatable': 2457, 'chicken': 838, 'spirit': 4602, 'peeping': 3526, 'might': 3074, 'penis': 3534, 'jailed': 2568, 'egypt': 1552, 'secured': 4316, 'kim': 2673, 'davis': 1220, 'publicity': 3814, 'disparity': 1421, 'bribe': 627, 'prop': 3781, 'iceland': 2367, 'proudly': 3799, 'eradicated': 1645, 'syndrome': 4820, 'gruesome': 2136, 'stir': 4679, 'pot': 3684, 'rigging': 4123, 'yorkers': 5444, 'opinion': 3389, 'wire': 5364, 'drill': 1499, 'dyer': 1524, 'harry': 2202, 'reid': 3991, 'sound': 4565, 'pleading': 3618, 'seriously': 4359, 'physically': 3576, 'contraception': 1059, 'latin': 2740, 'condom': 1003, 'drama': 1487, 'tear': 4861, 'happening': 2192, 'philadelphia': 3569, 'delete': 1283, 'dropped': 1507, 'wwn': 5426, 'allen': 152, 'allowed': 158, 'reminds': 4015, 'herpes': 2246, 'gabby': 1995, 'giffords': 2044, 'excuse': 1708, 'controlled': 1062, 'arrived': 284, 'greece': 2123, 'glow': 2069, 'dark': 1211, 'withholding': 5374, 'butt': 689, 'rioting': 4130, 'crybaby': 1166, 'assistance': 312, 'viral': 5220, 'powerful': 3695, 'reconquista': 3946, 'arab': 260, 'brotherhood': 655, 'kiss': 2680, 'cam': 714, 'featured': 1805, 'nhl': 3268, 'waste': 5275, 'deceptive': 1247, 'clinic': 896, 'horror': 2316, 'gatecrash': 2013, 'cynical': 1190, 'ploy': 3624, 'crisitunity': 1143, 'india': 2444, 'crunch': 1160, 'defy': 1274, 'kneel': 2686, 'solidarity': 4542, 'celebrates': 777, 'unity': 5122, 'liberation': 2816, 'polish': 3647, 'papist': 3468, 'army': 278, 'hill': 2267, 'highly': 2259, 'partisan': 3488, 'bye': 695, 'leaving': 2776, 'property': 3784, 'selling': 4332, 'hotcake': 2325, 'tendency': 4879, 'color': 942, 'binary': 504, 'blonde': 546, 'triggly': 5034, 'convulsion': 1071, 'tomgram': 4958, 'nomi': 3286, 'prins': 3739, 'style': 4735, 'retaliate': 4084, 'cutting': 1187, 'cell': 780, 'cowardly': 1119, 'listening': 2849, 'bride': 630, 'liberalism': 2814, 'silly': 4460, 'leonardo': 2797, 'dicaprio': 1362, 'outed': 3420, 'unimaginable': 5116, 'violated': 5214, 'iv': 2558, 'belize': 463, 'returned': 4092, 'agriculture': 110, 'infuriate': 2466, 'pelt': 3528, 'egg': 1549, 'reprimanded': 4041, 'comparing': 976, 'female': 1819, 'dehumanizing': 1277, 'devastating': 1354, 'wiki': 5344, 'scope': 4281, 'boil': 561, 'equal': 1640, 'bridge': 631, 'heckler': 2235, 'bold': 563, 'chanting': 812, 'cpac': 1121, 'attendee': 328, 'wave': 5282, 'stunner': 4728, 'haitian': 2172, 'unbelievable': 5104, 'burned': 682, 'spray': 4617, 'painted': 3451, 'reich': 3990, 'nearly': 3234, 'melt': 3034, 'needed': 3238, 'sober': 4529, 'afternoon': 95, 'introduces': 2516, 'decorated': 1255, 'sending': 4340, 'fellow': 1816, 'leaker': 2769, 'lindsey': 2840, 'focus': 1900, 'energy': 1610, 'always': 172, 'wwiii': 5425, 'grand': 2113, 'greatest': 2121, 'hometown': 2298, 'resident': 4052, 'surrounded': 4789, 'louis': 2890, 'window': 5358, 'burka': 679, 'flooding': 1891, 'mostly': 3156, 'sunlight': 4764, 'per': 3542, 'depression': 1318, 'proving': 3804, 'witch': 5369, 'hunt': 2352, 'remind': 4013, 'upside': 5157, 'miley': 3078, 'cyrus': 1191, 'score': 4283, 'feature': 1804, 'yikes': 5441, 'trace': 4989, 'hypocrisy': 2360, 'federalist': 1809, 'quasi': 3849, 'quietly': 3863, 'backing': 372, 'peace': 3518, 'yemen': 5438, 'advice': 75, 'insulting': 2491, 'forever': 1922, 'dupont': 1520, 'freeze': 1964, 'payment': 3516, 'pension': 3538, 'famille': 1773, 'erdo': 1647, 'et': 1662, 'suite': 4758, 'thanksgiving': 4899, 'ii': 2385, 'memo': 3039, 'single': 4473, 'delegate': 1281, 'nightmare': 3278, 'land': 2723, 'position': 3675, 'keiser': 2647, 'gaddafi': 1996, 'opec': 3381, 'cartel': 755, 'whiff': 5321, 'marathon': 2968, 'golfing': 2087, 'despite': 1338, 'ordering': 3404, 'pool': 3657, 'horizon': 2312, 'confirming': 1016, 'complicit': 986, 'stevens': 4674, 'cs': 1167, 'printed': 3740, 'barge': 409, 'haired': 2171, 'thought': 4914, 'ouch': 3414, 'given': 2053, 'disclaimer': 1393, 'sharia': 4399, 'patrolling': 3506, 'gove': 2102, 'partying': 3491, 'relationship': 3999, 'biden': 492, 'commitment': 965, 'champion': 805, 'overpriced': 3434, 'chachkies': 797, 'cahoot': 701, 'confronts': 1019, 'board': 557, 'finding': 1850, 'taught': 4854, 'islam': 2545, 'chase': 824, 'tackle': 4826, 'vogue': 5230, 'teach': 4858, 'anal': 195, 'beginner': 451, 'nordstrom': 3293, 'discontinues': 1397, 'trashy': 5016, 'bashing': 422, 'obsessed': 3336, 'consequence': 1036, 'sanctuary': 4224, 'resource': 4063, 'shall': 4389, 'assist': 311, 'enforcement': 1614, 'liberty': 2818, 'registered': 3985, 'applauds': 250, 'infuriates': 2467, 'eviscerates': 1693, 'gasp': 2011, 'sounded': 4566, 'lot': 2886, 'skype': 4490, 'fortune': 1931, 'built': 669, 'protects': 3794, 'endorse': 1603, 'priceless': 3730, 'heritage': 2243, 'generation': 2022, 'brit': 640, 'dearly': 1236, 'naive': 3205, 'arm': 273, 'policy': 3646, 'football': 1911, 'build': 666, 'purifier': 3832, 'salt': 4220, 'fresh': 1968, 'bravo': 610, 'bailout': 385, 'puerto': 3818, 'rico': 4116, 'madman': 2919, 'closed': 901, 'funhouse': 1990, 'manufacturing': 2963, 'consent': 1035, 'suffering': 4754, 'rockefeller': 4150, 'kissinger': 2681, 'industrial': 2454, 'scheme': 4259, 'possibly': 3678, 'violates': 5215, 'raider': 3883, 'dereck': 1326, 'carr': 750, 'injured': 2471, 'payback': 3513, 'supporting': 4775, 'gingrich': 2047, 'enforce': 1613, 'skyrocket': 4491, 'prepare': 3715, 'considering': 1039, 'incredibly': 2439, 'ironic': 2541, 'vatican': 5181, 'ambassadorship': 176, 'historic': 2275, 'google': 2093, 'domination': 1460, 'tech': 4864, 'crash': 1125, 'recycled': 3957, 'diverse': 1439, 'londoner': 2868, 'demanding': 1292, 'autonomy': 346, 'reuters': 4094, 'agency': 98, 'dragged': 1486, 'courtroom': 1113, 'arrest': 281, 'globalists': 2063, 'lebron': 2779, 'spoken': 4606, 'proceeds': 3758, 'vocabulary': 5229, 'pollution': 3655, 'tony': 4964, 'blair': 523, 'second': 4312, 'referendum': 3965, 'reverse': 4099, 'commuted': 973, 'manning': 2959, 'sentence': 4347, 'brian': 626, 'stelter': 4668, 'manages': 2950, 'socialism': 4532, 'stepping': 4671, 'stone': 4686, 'goper': 2096, 'resurrected': 4080, 'brake': 606, 'iphone': 2532, 'android': 204, 'int': 2497, 'tradition': 4995, 'worldwide': 5395, 'hatred': 2211, 'dent': 1305, 'notre': 3304, 'batal': 427, 'coul': 1100, 'par': 3469, 'homme': 2299, 'qui': 3856, 'fait': 1764, 'blagues': 522, 'douteuses': 1477, 'pendant': 3531, 'naufrage': 3223, 'zing': 5457, 'defeating': 1265, 'snowden': 4526, 'hire': 2270, 'breach': 613, 'bullied': 672, 'dorm': 1469, 'speechless': 4589, 'spox': 4615, 'amendment': 182, 'meeting': 3027, 'strain': 4694, 'hears': 2228, 'tenant': 4877, 'arabic': 262, 'rage': 3880, 'gary': 2008, 'embrace': 1584, 'colonization': 940, 'roast': 4144, 'ignorant': 2380, 'directly': 1383, 'tied': 4933, 'hold': 2285, 'wrenching': 5411, 'flavor': 1879, 'favorite': 1799, 'rick': 4115, 'perry': 3552, 'extremely': 1742, 'franken': 1952, 'resettlement': 4050, 'pointless': 3637, 'ambulance': 178, 'draw': 1491, 'restaurant': 4070, 'jeanine': 2581, 'towergate': 4984, 'wildlife': 5349, 'fall': 1768, 'unsc': 5140, 'zealand': 5453, 'draft': 1484, 'blamed': 525, 'holocaust': 2291, 'lord': 2878, 'france': 1949, 'reject': 3997, 'elizabeth': 1572, 'pocahontas': 3631, 'pet': 3562, 'cambodia': 715, 'thorny': 4912, 'aftermath': 94, 'twin': 5084, 'quake': 3845, 'italy': 2556, 'drone': 1505, 'footage': 1910, 'gardasil': 2006, 'vaccine': 5174, 'buried': 677, 'mentioned': 3045, 'suicide': 4756, 'stabbing': 4633, 'everywhere': 1690, 'organic': 3406, 'beauty': 440, 'product': 3763, 'containing': 1052, 'chemical': 833, 'dick': 1363, 'durbin': 1521, 'confirm': 1014, 'circuit': 866, 'gorsuch': 2099, 'caring': 745, 'dedicated': 1258, 'successfully': 4748, 'whitewash': 5329, 'andrew': 203, 'replaced': 4030, 'harriet': 2200, 'mistrial': 3113, 'prosecutor': 3789, 'willfully': 5351, 'withheld': 5372, 'sniper': 4522, 'standoff': 4646, 'entered': 1626, 'menagh': 3042, 'alchemy': 135, 'israeli': 2552, 'trumpess': 5051, 'bash': 420, 'obamaites': 3329, 'shuts': 4441, 'pooper': 3658, 'responds': 4066, 'outcry': 3419, 'crude': 1157, 'swipe': 4811, 'weekend': 5298, 'flying': 1898, 'banner': 403, 'investigate': 2521, 'islamist': 2547, 'among': 189, 'espn': 1657, 'employed': 1592, 'berating': 471, 'attendant': 327, 'curt': 1181, 'schilling': 4262, 'dodger': 1454, 'baseball': 418, 'mid': 3070, 'corporation': 1090, 'bilderberger': 499, 'nullify': 3315, 'straight': 4693, 'parenting': 3478, 'fault': 1796, 'melting': 3036, 'glacier': 2055, 'bolivian': 564, 'andes': 201, 'laughed': 2745, 'sh': 4384, 'planned': 3609, 'parenthood': 3477, 'term': 4881, 'incapable': 2427, 'answering': 225, 'surge': 4782, 'blue': 553, 'investigates': 2523, 'abusing': 18, 'straw': 4703, 'treat': 5023, 'treated': 5024, 'ellen': 1573, 'degeneres': 1276, 'medal': 3019, 'freezing': 1965, 'reagan': 3922, 'rest': 4069, 'crosstalk': 1153, 'sorry': 4561, 'qualified': 3846, 'microsoft': 3069, 'introduce': 2515, 'button': 691, 'en': 1596, 'masse': 2991, 'status': 4661, 'responsible': 4068, 'hijacking': 2262, 'utah': 5172, 'opposition': 3396, 'dictatorship': 1366, 'shadow': 4385, 'silent': 4458, 'buries': 678, 'temper': 4873, 'british': 642, 'mp': 3171, 'nigel': 3273, 'evans': 1679, 'parliament': 3482, 'roundly': 4171, 'condemned': 1000, 'politician': 3650, 'uranium': 5159, 'shipment': 4414, 'develops': 1357, 'range': 3896, 'missile': 3106, 'joseph': 2611, 'watson': 5280, 'censoring': 786, 'zapatistas': 5451, 'solidarizam': 4543, 'se': 4300, 'com': 945, 'resist': 4056, 'ncia': 3230, 'yaqui': 5432, 'tutor': 5078, 'euklidean': 1668, 'geometry': 2029, 'pundit': 3826, 'greek': 2124, 'spending': 4592, 'coercing': 920, 'virginia': 5221, 'qualify': 3847, 'subsidized': 4739, 'palo': 3461, 'alto': 171, 'idiotic': 2375, 'inflation': 2458, 'floor': 1892, 'sexism': 4380, 'shifted': 4411, 'significantly': 4456, 'favor': 1798, 'performing': 3549, 'pax': 3511, 'americana': 185, 'exclusive': 1706, 'eduard': 1543, 'popov': 3663, 'failed': 1760, 'remembered': 4012, 'mocking': 3129, 'eulogy': 1669, 'walking': 5252, 'ft': 1978, 'pierce': 3584, 'king': 2675, 'stumble': 4725, 'rd': 3913, 'grader': 2109, 'pronounce': 3779, 'disturbance': 1434, 'offend': 3347, 'remark': 4010, 'indian': 2445, 'kit': 2682, 'channel': 810, 'responded': 4065, 'withdrawing': 5371, 'strangely': 4697, 'gulag': 2148, 'schooling': 4270, 'bedtime': 445, 'ritual': 4137, 'disgust': 1408, 'requirement': 4047, 'ransom': 3898, 'peacenik': 3521, 'swoop': 4815, 'loneliest': 2870, 'abandoned': 2, 'traditional': 4996, 'structure': 4715, 'banking': 401, 'broken': 648, 'insolvent': 2484, 'workplace': 5393, 'microaggression': 3068, 'alluha': 161, 'akbar': 128, 'accidentally': 24, 'blowing': 552, 'inner': 2474, 'pain': 3449, 'gain': 1998, 'lockheed': 2863, 'struggle': 4716, 'finalize': 1845, 'norwegian': 3298, 'deport': 1315, 'swamped': 4799, 'ten': 4876, 'invader': 2518, 'fade': 1758, 'eisenhower': 1558, 'restoring': 4073, 'balance': 388, 'acting': 43, 'fragile': 1944, 'snowflake': 4527, 'ruining': 4184, 'meddling': 3020, 'petrodollar': 3566, 'pouring': 3691, 'leaning': 2770, 'stuffing': 4724, 'absentee': 14, 'ballot': 391, 'literature': 2854, 'el': 1559, 'nuevo': 3313, 'consejo': 1034, 'ministros': 3096, 'rosenstein': 4167, 'karma': 2640, 'considers': 1040, 'sailing': 4214, 'mediterranean': 3024, 'moved': 3166, 'oust': 3416, 'willst': 5354, 'du': 1512, 'mich': 3064, 'heiraten': 2236, 'hat': 2206, 'kampf': 2637, 'ums': 5100, 'wei': 5299, 'haus': 2212, 'noch': 3284, 'nicht': 3271, 'aufgegeben': 337, 'trigger': 5033, 'titanic': 4946, 'celebs': 779, 'lister': 2850, 'plutonium': 3628, 'patrol': 3505, 'denied': 1301, 'mandatory': 2953, 'offender': 3349, 'conflict': 1018, 'faith': 1765, 'visit': 5224, 'cooler': 1075, 'refusal': 3972, 'acknowledge': 35, 'uniqueness': 5119, 'constitutes': 1045, 'genocide': 2026, 'ammon': 187, 'tackled': 4827, 'tasered': 4852, 'marshal': 2982, 'surreal': 4786, 'whether': 5320, 'legalize': 2790, 'marijuana': 2973, 'continue': 1057, 'truthbomb': 5056, 'pissed': 3596, 'collapse': 928, 'ultimate': 5098, 'bagged': 378, 'pitfall': 3599, 'partial': 3486, 'disclosure': 1396, 'string': 4711, 'necessary': 3236, 'purple': 3833, 'http': 2332, 'fedup': 1811, 'wpengine': 5406, 'wp': 5405, 'content': 1054, 'uploads': 5152, 'entitled': 1632, 'jpg': 2617, 'buy': 692, 'orlando': 3408, 'godfather': 2078, 'williams': 5352, 'airstrikes': 127, 'kansa': 2639, 'impeach': 2407, 'disagree': 1386, 'thumb': 4928, 'hopelessly': 2311, 'confusing': 1021, 'payer': 3514, 'healthy': 2225, 'smile': 4513, 'coconut': 917, 'hateful': 2210, 'drawing': 1492, 'effort': 1548, 'berned': 476, 'maine': 2931, 'horrible': 2314, 'outright': 3428, 'enemy': 1608, 'insanely': 2479, 'somebody': 4550, 'bannon': 404, 'slur': 4505, 'wh': 5318, 'toxic': 4986, 'quickly': 3860, 'jesuit': 2591, 'gala': 1999, 'seek': 4320, 'info': 2462, 'berates': 470, 'evasive': 1680, 'difficult': 1372, 'turnover': 5077, 'controversial': 1063, 'famine': 1775, 'potato': 3685, 'affecting': 85, 'clerk': 893, 'hired': 2271, 'illiterate': 2391, 'semen': 4333, 'breastmilk': 619, 'whistleblower': 5327, 'chilling': 842, 'percentfedup': 3544, 'patriotism': 3504, 'tribute': 5029, 'birthers': 510, 'candace': 729, 'cameron': 719, 'bure': 676, 'dish': 1410, 'main': 2930, 'driving': 1504, 'jacket': 2562, 'rwanda': 4200, 'crushed': 1162, 'lung': 2904, 'advise': 76, 'peddling': 3522, 'tty': 5061, 'morale': 3149, 'lunacy': 2901, 'justified': 2631, 'unarmed': 5102, 'swastika': 4801, 'malcolm': 2940, 'chump': 858, 'traitor': 5003, 'pirro': 3594, 'handling': 2187, 'whale': 5319, 'floating': 1888, 'near': 3233, 'daly': 1200, 'reince': 3995, 'priebus': 3733, 'freak': 1955, 'decrease': 1256, 'playboy': 3614, 'centerfold': 790, 'increasing': 2438, 'deportation': 1316, 'bolton': 565, 'divide': 1442, 'canoe': 733, 'reek': 3964, 'panther': 3466, 'examine': 1700, 'pimp': 3589, 'prostitute': 3791, 'biggie': 495, 'designer': 1332, 'forscher': 1929, 'entdecken': 1624, 'abgelegenen': 7, 'regenwaldstamm': 3979, 'der': 1322, 'immer': 2400, 'verwendet': 5192, 'reasonable': 3928, 'confidence': 1010, 'reveal': 4095, 'happy': 2194, 'grabbing': 2108, 'protection': 3793, 'unsafe': 5138, 'punishes': 3828, 'loan': 2859, 'music': 3194, 'looked': 2874, 'amazon': 174, 'julian': 2622, 'assange': 302, 'viewer': 5207, 'jackpot': 2563, 'many': 2964, 'lottery': 2887, 'hey': 2248, 'schumer': 4273, 'tighten': 4936, 'average': 350, 'astroturfing': 316, 'brainwashing': 605, 'manipulate': 2957, 'tucker': 5065, 'carlson': 747, 'ayaan': 365, 'hirsi': 2272, 'discus': 1404, 'danger': 1204, 'ricains': 4112, 'ne': 3232, 'sont': 4557, 'qu': 3844, 'quelques': 3853, 'heures': 2247, 'tre': 5020, 'enfin': 1612, 'tranquilles': 5004, 'pour': 3690, 'quatre': 3850, 'an': 194, 'underhanded': 5110, 'cuba': 1169, 'ra': 3869, 'castro': 760, 'appearing': 248, 'unnamed': 5133, 'sinking': 4476, 'secessionist': 4311, 'dream': 1494, 'revisited': 4105, 'sweeping': 4807, 'invite': 2529, 'netanyahu': 3248, 'menon': 3043, 'assassinating': 304, 'interest': 2503, 'saga': 4211, 'adequate': 59, 'evacuation': 1675, 'churkin': 861, 'launch': 2748, 'opnodapl': 3390, 'seahawks': 4302, 'spill': 4598, 'river': 4140, 'epa': 1637, 'secure': 4315, 'superfund': 4767, 'cringe': 1141, 'watching': 5278, 'sexually': 4382, 'humiliate': 2344, 'revenge': 4098, 'bahraini': 383, 'downing': 1480, 'squashed': 4627, 'finland': 1855, 'australia': 340, 'ustr': 5170, 'trade': 4992, 'convenes': 1064, 'gaza': 2016, 'reconcile': 3945, 'hamas': 2180, 'denying': 1307, 'resolve': 4059, 'slovenia': 4503, 'tourism': 4978, 'enmeshed': 1618, 'coalition': 913, 'agreed': 106, 'eurozone': 1672, 'budget': 663, 'penguin': 3533, 'stanley': 4647, 'cup': 1177, 'reform': 3969, 'blueprint': 554, 'ninth': 3281, 'australian': 341, 'quits': 3866, 'widens': 5339, 'afghan': 88, 'reunite': 4093, 'tension': 4880, 'simmer': 4463, 'irma': 2540, 'havana': 2214, 'deadly': 1230, 'crumbling': 1159, 'taiwan': 4830, 'tsai': 5060, 'shift': 4410, 'flare': 1875, 'embassy': 1582, 'lebanon': 2777, 'crossing': 1152, 'hurdle': 2353, 'faced': 1750, 'yearn': 5436, 'ipsos': 2533, 'pakistan': 3453, 'crackdown': 1123, 'cuny': 1175, 'hosting': 2323, 'bd': 434, 'linda': 2839, 'sarsour': 4233, 'watchdog': 5277, 'shepherded': 4406, 'panama': 3462, 'constrained': 1048, 'deems': 1260, 'skeptical': 4482, 'predatory': 3704, 'lending': 2794, 'illinois': 2390, 'speaker': 4583, 'proceed': 3757, 'sumner': 4760, 'redstone': 3961, 'replace': 4029, 'ousted': 3417, 'trust': 5053, 'sanction': 4223, 'drudge': 1509, 'mammoth': 2946, 'bust': 687, 'transportation': 5012, 'tunnel': 5069, 'withhold': 5373, 'related': 3998, 'rhetoric': 4109, 'aside': 292, 'listened': 2848, 'venezuela': 5184, 'reiterates': 3996, 'resolving': 4061, 'xinhua': 5428, 'agrees': 109, 'cowboy': 1120, 'saakashvili': 4202, 'catalan': 761, 'increased': 2437, 'abe': 4, 'spanish': 4578, 'custody': 1183, 'pending': 3532, 'webb': 5291, 'mull': 3179, 'deepstategate': 1263, 'innuendo': 2476, 'dealing': 1233, 'tune': 5068, 'opening': 3384, 'custom': 1184, 'minister': 3095, 'austrian': 343, 'interior': 2507, 'ministry': 3097, 'westchester': 5315, 'shutdown': 4440, 'boast': 558, 'greatness': 2122, 'lesson': 2800, 'learned': 2772, 'danish': 1207, 'identify': 2370, 'torso': 4971, 'please': 3620, 'leadership': 2763, 'commission': 964, 'instant': 2485, 'replay': 4032, 'corner': 1088, 'elaine': 1560, 'chao': 813, 'collect': 930, 'fargo': 1783, 'panel': 3463, 'january': 2573, 'spokeswoman': 4609, 'dozen': 1482, 'barrio': 414, 'gangster': 2004, 'escape': 1655, 'ruling': 4186, 'twisted': 5085, 'factbox': 1756, 'seven': 4376, 'contention': 1055, 'central': 791, 'seeking': 4322, 'shelter': 4405, 'fiscal': 1863, 'buddhist': 662, 'mistrust': 3114, 'hamper': 2183, 'relief': 4003, 'myanmar': 3199, 'rohingya': 4156, 'biafra': 489, 'separatist': 4350, 'nigerian': 3275, 'opponent': 3391, 'damaged': 1201, 'baloch': 392, 'militant': 3079, 'surrender': 4787, 'step': 4669, 'shaping': 4396, 'canada': 725, 'trudeau': 5046, 'shuffle': 4438, 'aboriginal': 9, 'woe': 5380, 'final': 1844, 'friday': 1969, 'reviewed': 4101, 'freeport': 1963, 'indonesia': 2453, 'mine': 3093, 'fragment': 1945, 'florence': 1894, 'basilica': 423, 'blazing': 532, 'hockey': 2282, 'larger': 2732, 'tougher': 4976, 'specific': 4587, 'expands': 1719, 'disappointed': 1388, 'wsj': 5422, 'multiplied': 3183, 'june': 2625, 'detention': 1347, 'coincide': 922, 'dip': 1377, 'constant': 1043, 'rarely': 3907, 'abroad': 11, 'script': 4296, 'process': 3759, 'uproar': 5155, 'disparaging': 1420, 'trademark': 4993, 'berlusconi': 474, 'probed': 3753, 'mafia': 2923, 'meal': 3015, 'brooklyn': 652, 'fast': 1789, 'pleads': 3619, 'guilty': 2147, 'theft': 4901, 'resurfaces': 4079, 'aim': 117, 'disrupt': 1430, 'organizer': 3407, 'engaged': 1615, 'strict': 4709, 'upbringing': 5147, 'repressed': 4040, 'obsolete': 3338, 'bob': 559, 'iger': 2378, 'advisory': 81, 'agreement': 108, 'argentine': 269, 'cook': 1073, 'macau': 2909, 'suspends': 4797, 'extend': 1739, 'doping': 1468, 'test': 4889, 'lower': 2894, 'tier': 4934, 'silver': 4461, 'lining': 2843, 'cheese': 831, 'producer': 3762, 'defensive': 1270, 'amber': 177, 'heard': 2226, 'humanitarian': 2342, 'worsen': 5399, 'saleh': 4218, 'poet': 3635, 'dock': 1449, 'lone': 2869, 'assailant': 300, 'online': 3379, 'expected': 1721, 'cap': 734, 'bossie': 583, 'snapchat': 4519, 'discover': 1398, 'explicit': 1731, 'maduro': 2922, 'hague': 2167, 'lincoln': 2838, 'abrupt': 12, 'departure': 1310, 'prompted': 3778, 'gen': 2020, 'petraeus': 3565, 'stability': 4634, 'backed': 369, 'uprising': 5154, 'jerusalem': 2589, 'complain': 980, 'slow': 4504, 'mein': 3030, 'bestseller': 479, 'publisher': 3816, 'spar': 4579, 'kurdish': 2706, 'rudaw': 4180, 'wake': 5249, 'solitary': 4544, 'uphill': 5150, 'bishop': 511, 'suspected': 4795, 'congratulation': 1025, 'option': 3400, 'accusing': 34, 'flight': 1884, 'pregnancy': 3709, 'semitism': 4335, 'legislator': 2792, 'caucus': 764, 'intrigued': 2514, 'swiss': 4812, 'clarify': 880, 'port': 3669, 'conducting': 1006, 'niger': 3274, 'mali': 2941, 'afghanistan': 89, 'avert': 351, 'travis': 5019, 'kalanick': 2635, 'uber': 5090, 'volkswagen': 5233, 'cfo': 795, 'hr': 2331, 'raided': 3882, 'upholds': 5151, 'quickie': 3859, 'wilbur': 5346, 'ross': 4169, 'commerce': 960, 'offshored': 3358, 'divided': 1443, 'colombia': 937, 'farc': 1782, 'rebel': 3931, 'include': 2430, 'boot': 575, 'kitchen': 2683, 'supply': 4772, 'asset': 309, 'poised': 3638, 'grueling': 2135, 'antidoping': 230, 'barred': 412, 'rio': 4127, 'olympics': 3374, 'determined': 1348, 'maintain': 2933, 'accession': 23, 'multi': 3180, 'macron': 2912, 'unique': 5118, 'stranded': 4695, 'cuban': 1170, 'traveler': 5018, 'box': 592, 'strange': 4696, 'lucky': 2898, 'marvel': 2984, 'amy': 193, 'netflix': 3249, 'flooded': 1890, 'kris': 2703, 'kobach': 2692, 'calculator': 707, 'affect': 84, 'ann': 212, 'coulter': 1102, 'miller': 3087, 'patriotic': 3503, 'genius': 2024, 'figure': 1835, 'austria': 342, 'mailer': 2929, 'li': 2810, 'indigenous': 2452, 'undergoes': 5108, 'census': 788, 'goodlatte': 2092, 'peacefully': 3520, 'libyan': 2822, 'airliner': 124, 'malta': 2944, 'limiting': 2837, 'blacklist': 520, 'hubbard': 2333, 'felony': 1818, 'ethic': 1664, 'cordon': 1084, 'japan': 2574, 'toyota': 4987, 'broadside': 645, 'mexican': 3061, 'aimed': 118, 'ensuring': 1623, 'editorialist': 1541, 'abadi': 0, 'area': 267, 'gas': 2009, 'formula': 1928, 'treasury': 5022, 'april': 259, 'lifted': 2828, 'cbo': 771, 'repealed': 4027, 'uganda': 5093, 'role': 4157, 'jacqueline': 2565, 'kennedy': 2651, 'marry': 2981, 'dismissing': 1416, 'gennifer': 2025, 'flower': 1896, 'attend': 326, 'hunger': 2351, 'bloody': 548, 'plead': 3617, 'profile': 3768, 'jong': 2608, 'nam': 3207, 'indiana': 2446, 'painting': 3452, 'graffiti': 2110, 'rice': 4113, 'memorial': 3040, 'amending': 181, 'constitution': 1046, 'miracle': 3100, 'metaxas': 3057, 'universe': 5123, 'bettor': 483, 'odds': 3345, 'coal': 912, 'rehearses': 3989, 'spin': 4599, 'makeover': 2937, 'diplomacy': 1378, 'impact': 2404, 'rocket': 4152, 'calendar': 708, 'dependent': 1311, 'korean': 2699, 'caitlyn': 704, 'jenner': 2585, 'repealing': 4028, 'rare': 3906, 'insurgent': 2495, 'southern': 4570, 'thailand': 4896, 'recusal': 3954, 'request': 4045, 'cementing': 783, 'cigar': 864, 'rum': 4187, 'dahlan': 1196, 'tackling': 4828, 'los': 2880, 'angeles': 206, 'smog': 4515, 'tuesday': 5066, 'ifx': 2377, 'cite': 867, 'kremlin': 2702, 'ireland': 2538, 'deputy': 1321, 'quit': 3864, 'guantanamo': 2137, 'oversight': 3437, 'disclose': 1394, 'estimate': 1661, 'equifax': 1642, 'consumer': 1050, 'mulvaney': 3184, 'cfpb': 796, 'disregard': 1427, 'polarized': 3644, 'jack': 2561, 'oscar': 3411, 'dialogue': 1360, 'northern': 3297, 'respect': 4064, 'concern': 994, 'mobility': 3126, 'poor': 3659, 'expulsion': 1738, 'diplomat': 1379, 'schulz': 4272, 'lifting': 2829, 'teaser': 4863, 'series': 4357, 'convince': 1069, 'provocation': 3806, 'monday': 3138, 'parliamentary': 3483, 'sued': 4753, 'newspaper': 3262, 'libel': 2812, 'decade': 1243, 'deny': 1306, 'cambodian': 716, 'plum': 3625, 'ideological': 2372, 'ifax': 2376, 'holiday': 2288, 'macy': 2913, 'retail': 4082, 'colombian': 938, 'symbolic': 4817, 'shanghai': 4393, 'haley': 2173, 'desperation': 1336, 'conducted': 1005, 'corbyn': 1083, 'invitation': 2528, 'ruckus': 4179, 'curb': 1178, 'calm': 713, 'zimbabwe': 5456, 'vice': 5198, 'mugabe': 3177, 'successor': 4749, 'poisoned': 3639, 'mnuchin': 3122, 'proposed': 3785, 'negotiable': 3239, 'awake': 357, 'newly': 3259, 'avoids': 355, 'borrowed': 581, 'expanded': 1718, 'canal': 727, 'successful': 4747, 'passage': 3494, 'alarmed': 131, 'ease': 1527, 'zuma': 5461, 'africa': 92, 'higher': 2256, 'fiscally': 1864, 'sustainable': 4798, 'manner': 2958, 'limbo': 2835, 'oxford': 3440, 'academic': 20, 'deadlock': 1229, 'bang': 397, 'demonstrate': 1297, 'edward': 1546, 'enninful': 1619, 'named': 3209, 'editor': 1540, 'irish': 2539, 'queue': 3855, 'revised': 4103, 'curtail': 1182, 'wreck': 5409, 'allied': 155, 'sink': 4475, 'softwood': 4538, 'lumber': 2900, 'resolved': 4060, 'spain': 4577, 'catalonia': 762, 'bark': 410, 'tariff': 4851, 'understanding': 5112, 'split': 4604, 'framed': 1946, 'framework': 1947, 'september': 4352, 'warm': 5260, 'countering': 1105, 'tout': 4980, 'cooperation': 1078, 'pacific': 3444, 'shrine': 4436, 'ethnic': 1666, 'cleansing': 888, 'monitor': 3142, 'jordan': 2609, 'schoolgirl': 4269, 'rampage': 3891, 'weighing': 5301, 'revision': 4104, 'populate': 3665, 'wimp': 5355, 'apply': 252, 'disclosing': 1395, 'flaw': 1880, 'regent': 3978, 'campaigning': 723, 'thursday': 4930, 'fearing': 1803, 'bulgarian': 671, 'detects': 1346, 'finnish': 1856, 'dismisses': 1415, 'eligibility': 1569, 'complaint': 981, 'centre': 792, 'falter': 1772, 'sit': 4477, 'poland': 3642, 'frequently': 1967, 'leftward': 2787, 'sprint': 4621, 'resistance': 4057, 'deficit': 1272, 'impacting': 2405, 'burkina': 680, 'faso': 1788, 'recall': 3934, 'libya': 2821, 'valeant': 5176, 'contractor': 1060, 'accountable': 28, 'torture': 4972, 'kazakhstan': 2643, 'kyrgyzstan': 2711, 'redskin': 3960, 'march': 2971, 'growing': 2133, 'dread': 1493, 'vitaly': 5226, 'dy': 1523, 'torrential': 4970, 'rain': 3884, 'bulgaria': 670, 'kurt': 2707, 'andersen': 199, 'alec': 138, 'baldwin': 389, 'satire': 4236, 'cottage': 1097, 'industry': 2455, 'dims': 1374, 'spotlight': 4614, 'delaware': 1278, 'worked': 5390, 'associate': 314, 'reassurance': 3929, 'tour': 4977, 'lethem': 2803, 'oddball': 3344, 'trove': 5044, 'souvenir': 4573, 'junk': 2627, 'populist': 3667, 'impeachment': 2410, 'whip': 5325, 'brazil': 612, 'lula': 2899, 'extends': 1740, 'graft': 2111, 'conviction': 1068, 'nice': 3270, 'id': 2368, 'charging': 818, 'merit': 3049, 'superdelegates': 4766, 'simultaneous': 4468, 'overhaul': 3433, 'medicare': 3022, 'thinking': 4909, 'matchup': 2996, 'broad': 643, 'retirement': 4088, 'graphic': 2117, 'arabia': 261, 'warner': 5265, 'foolish': 1908, 'zeleny': 5454, 'disputed': 1426, 'region': 3982, 'expecting': 1722, 'weaken': 5284, 'aggressive': 101, 'combat': 946, 'manhunt': 2955, 'cabin': 697, 'upstate': 5158, 'prisoner': 3744, 'hideout': 2253, 'addressing': 57, 'practice': 3697, 'iud': 2557, 'scold': 4279, 'shield': 4408, 'weedkiller': 5296, 'seizes': 4326, 'absence': 13, 'ghana': 2040, 'ivory': 2560, 'implement': 2412, 'maritime': 2976, 'dispute': 1425, 'ria': 4110, 'journey': 2614, 'confinement': 1013, 'resonates': 4062, 'halted': 2177, 'booze': 578, 'polarize': 3643, 'avoided': 354, 'setback': 4370, 'productive': 3765, 'mailbag': 2928, 'faulty': 1797, 'headline': 2222, 'insensitive': 2480, 'maximum': 3005, 'strangest': 4699, 'shown': 4433, 'sundance': 4761, 'commando': 956, 'hijack': 2261, 'simulation': 4467, 'postage': 3680, 'homage': 2294, 'che': 826, 'guevara': 2145, 'stokes': 4683, 'genuine': 2028, 'abide': 8, 'referred': 3966, 'preventing': 3727, 'proliferation': 3773, 'halve': 2178, 'stockpile': 4681, 'arctic': 266, 'refuge': 3970, 'drilling': 1500, 'kohei': 2694, 'uchimura': 5091, 'gymnastics': 2160, 'dethroning': 1350, 'regional': 3983, 'kuwait': 2709, 'renewing': 4018, 'identity': 2371, 'unmasked': 5132, 'krauthammer': 2701, 'showed': 4430, 'judicial': 2621, 'rebuffed': 3932, 'orthodoxy': 3410, 'advocate': 82, 'emigration': 1587, 'airstrike': 126, 'overseas': 3436, 'poorly': 3660, 'educated': 1544, 'clamor': 878, 'rescue': 4048, 'nepal': 3245, 'earthquake': 1526, 'testify': 4890, 'bloomberg': 549, 'marathoner': 2969, 'mapmaking': 2966, 'fantasy': 1779, 'glance': 2058, 'swing': 4809, 'ought': 3415, 'delight': 1285, 'led': 2782, 'emigre': 1588, 'scott': 4285, 'walker': 5251, 'gutted': 2158, 'punishment': 3829, 'discharged': 1390, 'whoever': 5331, 'helpless': 2241, 'prevent': 3726, 'quite': 3865, 'doubtful': 1474, 'punched': 3825, 'dominated': 1459, 'suburb': 4743, 'brief': 632, 'credible': 1136, 'atrocity': 320, 'eln': 1574, 'alleged': 148, 'ringleader': 4126, 'venezuelan': 5185, 'chased': 825, 'nine': 3280, 'foreigner': 1920, 'plow': 3623, 'nafta': 3203, 'insures': 2494, 'lite': 2852, 'belgium': 460, 'warn': 5263, 'fran': 1948, 'ois': 3363, 'hollande': 2289, 'buzz': 694, 'aldrin': 137, 'archive': 265, 'hidden': 2251, 'foe': 1901, 'passion': 3497, 'ahmet': 113, 'davutoglu': 1221, 'prime': 3737, 'envoy': 1634, 'theresa': 4904, 'wednesday': 5294, 'evening': 1683, 'veto': 5195, 'hama': 2179, 'feb': 1806, 'forecaster': 1918, 'saving': 4242, 'sentencing': 4348, 'prospective': 3790, 'discipline': 1391, 'cutback': 1186, 'con': 991, 'roe': 4154, 'wade': 5243, 'texan': 4893, 'steven': 4673, 'symbol': 4816, 'despair': 1333, 'repository': 4038, 'selection': 4327, 'theater': 4900, 'peril': 3550, 'sri': 4629, 'lanka': 2728, 'hurl': 2354, 'decline': 1254, 'blowback': 551, 'startle': 4654, 'shaunae': 4404, 'dive': 1437, 'meter': 3059, 'muffle': 3175, 'fervent': 1823, 'multiple': 3182, 'restriction': 4075, 'excursion': 1707, 'unlock': 5130, 'vie': 5203, 'seat': 4309, 'kenya': 2654, 'announcing': 220, 'frustrated': 1977, 'pace': 3443, 'mnangagwa': 3121, 'form': 1926, 'vengeful': 5186, 'retribution': 4090, 'suspend': 4796, 'bourse': 588, 'aramco': 263, 'listing': 2851, 'debacle': 1238, 'subpoena': 4738, 'deadline': 1228, 'nears': 3235, 'seeker': 4321, 'jeffrey': 2584, 'wright': 5412, 'ass': 298, 'cking': 875, 'amid': 186, 'sale': 4217, 'convention': 1066, 'stake': 4639, 'trooper': 5042, 'investigated': 2522, 'deaf': 1231, 'motorist': 3161, 'exist': 1715, 'scotland': 4284, 'sturgeon': 4734, 'staying': 4663, 'sensible': 4344, 'restrictive': 4076, 'measure': 3017, 'boyle': 597, 'sideline': 4447, 'lunch': 2903, 'menu': 3047, 'assails': 301, 'island': 2549, 'opportunity': 3392, 'joint': 2604, 'disarm': 1389, 'delegation': 1282, 'pyongyang': 3840, 'retaliates': 4085, 'closure': 904, 'annex': 214, 'insurrection': 2496, 'taste': 4853, 'stopgap': 4688, 'conference': 1009, 'washing': 5272, 'diverge': 1438, 'endorsement': 1605, 'approves': 258, 'rebuild': 3933, 'liberated': 2815, 'adopts': 72, 'mural': 3186, 'depicts': 1312, 'portuguese': 3674, 'mugshot': 3178, 'soft': 4536, 'impasse': 2406, 'romanian': 4161, 'habit': 2161, 'joy': 2616, 'villager': 5210, 'bruising': 657, 'reluctant': 4007, 'brics': 629, 'based': 419, 'mistakenly': 3112, 'shredded': 4435, 'conciliatory': 998, 'debut': 1242, 'shannon': 4394, 'lure': 2905, 'youngster': 5447, 'paradise': 3471, 'outline': 3422, 'chapo': 815, 'ptsd': 3811, 'psychological': 3809, 'zika': 5455, 'burr': 683, 'tillis': 4938, 'oppose': 3393, 'dourson': 1476, 'interference': 2505, 'ukrainian': 5097, 'maker': 2938, 'sky': 4489, 'alleging': 151, 'flawed': 1881, 'colonial': 939, 'prosecutes': 3788, 'rubber': 4177, 'classy': 886, 'tone': 4962, 'infringement': 2465, 'suit': 4757, 'trader': 4994, 'pirate': 3593, 'perseids': 3554, 'meteor': 3058, 'shower': 4431, 'rival': 4138, 'beer': 447, 'sticking': 4677, 'worried': 5396, 'probing': 3754, 'interested': 2504, 'misspells': 3109, 'chyron': 862, 'segment': 4325, 'ripping': 4133, 'covfefe': 1116, 'impose': 2419, 'temporary': 4875, 'weigh': 5300, 'disciplining': 1392, 'millennial': 3085, 'register': 3984, 'turnout': 5076, 'linger': 2842, 'unopposed': 5134, 'competition': 978, 'franco': 1951, 'fallon': 1770, 'sept': 4351, 'odebrecht': 3346, 'peru': 3558, 'kuczynski': 2704, 'checking': 829, 'address': 56, 'amt': 192, 'hatch': 2207, 'modified': 3134, 'independence': 2441, 'baghdad': 379, 'concession': 997, 'kenyan': 2655, 'guarantee': 2138, 'bangladesh': 399, 'siege': 4451, 'recalled': 3935, 'grave': 2119, 'tube': 5063, 'incident': 2428, 'filipino': 1839, 'material': 2999, 'tight': 4935, 'mixed': 3118, 'attending': 329, 'pyeongchang': 3839, 'toilet': 4954, 'proper': 3783, 'plumbing': 3626, 'isolated': 2550, 'davi': 1218, 'freed': 1960, 'floated': 1887, 'swap': 4800, 'timetable': 4942, 'glamor': 2056, 'omar': 3375, 'mateen': 2997, 'strap': 4701, 'restive': 4071, 'southwestern': 4572, 'refinement': 3968, 'messed': 3054, 'rapper': 3904, 'wiz': 5379, 'khalifa': 2660, 'anger': 207, 'pablo': 3442, 'escobar': 1656, 'barzani': 416, 'downfall': 1478, 'laundering': 2750, 'settlement': 4374, 'tee': 4866, 'golfer': 2086, 'strangled': 4700, 'beirut': 458, 'sanford': 4228, 'partially': 3487, 'environment': 1633, 'alexandria': 143, 'filing': 1838, 'opt': 3398, 'aviation': 352, 'pact': 3446, 'deepen': 1262, 'coordination': 1080, 'quicken': 3858, 'governance': 2103, 'nason': 3215, 'corker': 1087, 'nytimes': 3325, 'ho': 2279, 'england': 1616, 'later': 2738, 'csx': 1168, 'normal': 3294, 'vito': 5227, 'acconci': 25, 'influential': 2461, 'eccentric': 1535, 'privatize': 3747, 'guerrilla': 2142, 'mandate': 2952, 'kosovo': 2700, 'reached': 3915, 'alliance': 154, 'heading': 2221, 'lobbyist': 2860, 'wrinkle': 5413, 'brown': 656, 'duterte': 1522, 'kidnapped': 2666, 'fi': 1827, 'kiosk': 2678, 'unsavory': 5139, 'spurred': 4622, 'underground': 5109, 'avenue': 349, 'lifetime': 2826, 'soften': 4537, 'keaton': 2644, 'recruiting': 3952, 'tommy': 4960, 'diner': 1375, 'contest': 1056, 'brokered': 649, 'thief': 4905, 'discriminating': 1403, 'sable': 4203, 'fur': 1992, 'shop': 4424, 'investigator': 2526, 'sonic': 4555, 'payouts': 3517, 'flammable': 1874, 'corrects': 1092, 'stressing': 4707, 'importance': 2417, 'tpp': 4988, 'sort': 4562, 'lag': 2718, 'delayed': 1280, 'file': 1837, 'challenging': 803, 'subsidy': 4740, 'abandon': 1, 'none': 3290, 'religion': 4005, 'berkeley': 472, 'lithuania': 2855, 'schism': 4263, 'within': 5375, 'tanzania': 4842, 'elephant': 1568, 'poaching': 3630, 'architect': 264, 'resuscitating': 4081, 'landmark': 2725, 'yorker': 5443, 'conquered': 1031, 'provision': 3805, 'goodbye': 2091, 'rein': 3994, 'nsa': 3308, 'hungarian': 2350, 'orban': 3401, 'precedent': 3701, 'negotiator': 3240, 'sahel': 4212, 'scrubland': 4298, 'sweden': 4804, 'baffle': 376, 'harassment': 2195, 'swift': 4808, 'implicated': 2414, 'compete': 977, 'angering': 208, 'getty': 2039, 'evacuated': 1674, 'collides': 933, 'unrest': 5137, 'emboldened': 1583, 'comply': 987, 'consider': 1038, 'censuring': 787, 'skinned': 4484, 'wingnuts': 5360, 'grip': 2127, 'macri': 2911, 'sweep': 4806, 'transcanada': 5005, 'keystone': 2659, 'xl': 5430, 'exercise': 1713, 'scared': 4254, 'butter': 690, 'fentanyl': 1821, 'outpaces': 3424, 'heroin': 2245, 'deadliest': 1227, 'hopeful': 2310, 'spinach': 4600, 'beating': 438, 'impossible': 2420, 'tancredo': 4839, 'brawl': 611, 'squeaky': 4628, 'zurich': 5462, 'tend': 4878, 'progress': 3771, 'quick': 3857, 'southeast': 4569, 'faster': 1790, 'indict': 2449, 'table': 4824, 'rand': 3895, 'crocodile': 1147, 'dept': 1319, 'forecast': 1917, 'retiree': 4087, 'fiduciary': 1830, 'resignation': 4054, 'revival': 4106, 'evangelical': 1676, 'peter': 3563, 'schweizer': 4274, 'naming': 3210, 'cleric': 892, 'apparent': 243, 'dissent': 1432, 'spying': 4624, 'alexander': 142, 'acosta': 38, 'dean': 1234, 'blankfein': 527, 'tap': 4843, 'powell': 3693, 'reassures': 3930, 'lack': 2716, 'airline': 123, 'cairo': 703, 'egyptair': 1553, 'pricing': 3731, 'initiative': 2469, 'compromised': 989, 'politico': 3651, 'derail': 1323, 'everything': 1689, 'language': 2727, 'disrupter': 1431, 'cement': 782, 'friendship': 1971, 'taken': 4833, 'offshore': 3357, 'toast': 4948, 'bromance': 650, 'wrap': 5407, 'carefree': 742, 'getaway': 2037, 'persian': 3555, 'gulf': 2149, 'maltese': 2945, 'expects': 1723, 'bow': 589, 'passenger': 3496, 'derails': 1325, 'vandalized': 5180, 'cemetery': 784, 'prejudice': 3711, 'abertis': 6, 'stole': 4684, 'pakistani': 3454, 'taliban': 4835, 'pessimistic': 3560, 'reaching': 3916, 'renews': 4019, 'clash': 882, 'sport': 4613, 'emirate': 1589, 'reshuffle': 4051, 'afraid': 91, 'madeleine': 2917, 'albright': 134, 'inflow': 2459, 'gunfire': 2152, 'recuses': 3956, 'closely': 902, 'provide': 3802, 'smooth': 4517, 'blinken': 538, 'savage': 4239, 'md': 3014, 'max': 3004, 'downgraded': 1479, 'tropical': 5043, 'inland': 2473, 'restraint': 4074, 'sdf': 4299, 'volcanic': 5232, 'koppel': 2697, 'paralyzed': 3473, 'detective': 1345, 'forgave': 1923, 'fujimori': 1981, 'zarrab': 5452, 'settle': 4373, 'nile': 3279, 'blindly': 537, 'chess': 835, 'federation': 1810, 'hosted': 2322, 'match': 2995, 'explainer': 1729, 'wields': 5342, 'discussed': 1405, 'possibility': 3676, 'halt': 2176, 'caribbean': 744, 'hong': 2303, 'kong': 2695, 'milkshake': 3083, 'farmer': 1785, 'hezbollah': 2249, 'cease': 774, 'interfering': 2506, 'useless': 5167, 'campaigned': 722, 'magazine': 2925, 'kingmaker': 2677, 'unveil': 5145, 'cavani': 769, 'goal': 2074, 'psg': 3807, 'caen': 699, 'bezos': 488, 'pilot': 3588, 'mech': 3018, 'inaugural': 2425, 'festivity': 1825, 'barefoot': 407, 'tragedy': 4998, 'satisfaction': 4237, 'reprisal': 4042, 'suburban': 4744, 'experiment': 1725, 'censored': 785, 'sensitive': 4345, 'anc': 197, 'pistorius': 3597, 'unfit': 5114, 'psychologist': 3810, 'figurehead': 1836, 'unlocking': 5131, 'rocky': 4153, 'wfp': 5317, 'congo': 1023, 'detains': 1344, 'circle': 865, 'privatization': 3746, 'heavy': 2234, 'spring': 4620, 'quelle': 3852, 'gmt': 2072, 'pause': 3510, 'spare': 4580, 'chile': 841, 'guillier': 2146, 'concedes': 992, 'pinera': 3590, 'mysterious': 3200, 'advantage': 74, 'weakening': 5285, 'militarily': 3080}\n"
          ]
        }
      ]
    },
    {
      "cell_type": "markdown",
      "metadata": {
        "id": "ajHuiElJl2gA"
      },
      "source": [
        "## Train, validation and test\n",
        "Divide prepared dataset into three subsets.\n",
        "\n",
        "Implement method to division dataset into training, validation and testing subsets.\n",
        "\n",
        "Propose different divisions (in percentage):\n",
        "1. 80/10/10 (tested in this notebook)\n",
        "2. 70/15/15\n",
        "3. 60/20/20"
      ]
    },
    {
      "cell_type": "code",
      "execution_count": null,
      "metadata": {
        "colab": {
          "base_uri": "https://localhost:8080/"
        },
        "outputId": "4563511b-b9ac-4a29-f19f-55696ede0d94",
        "id": "JUCD4fIUl2gA"
      },
      "outputs": [
        {
          "output_type": "stream",
          "name": "stdout",
          "text": [
            "Dataset 1 BOW:\n",
            "X train: (2094, 1184) y train:  (2094,)\n",
            "X val:  (262, 1184) y val:  (262,)\n",
            "X test: (262, 1184) y test:  (262,)\n",
            "\n",
            "\n",
            "Dataset 2 BOW:\n",
            "X train: (1908, 923) y train:  (1908,)\n",
            "X val:  (239, 923) y val:  (239,)\n",
            "X test: (239, 923) y test:  (239,)\n",
            "\n",
            "\n",
            "Dataset 3 BOW:\n",
            "X train: (2032, 1070) y train:  (2032,)\n",
            "X val:  (254, 1070) y val:  (254,)\n",
            "X test: (254, 1070) y test:  (254,)\n",
            "\n",
            "\n",
            "Dataset 1 TFIDF:\n",
            "X train: (2094, 5237) y train:  (2094,)\n",
            "X val:  (262, 5237) y val:  (262,)\n",
            "X test: (262, 5237) y test:  (262,)\n",
            "\n",
            "\n",
            "Dataset 2 TFIDF:\n",
            "X train: (1908, 5062) y train:  (1908,)\n",
            "X val:  (239, 5062) y val:  (239,)\n",
            "X test: (239, 5062) y test:  (239,)\n",
            "\n",
            "\n",
            "Dataset 3 TFIDF:\n",
            "X train: (2032, 5464) y train:  (2032,)\n",
            "X val:  (254, 5464) y val:  (254,)\n",
            "X test: (254, 5464) y test:  (254,)\n",
            "\n",
            "\n"
          ]
        }
      ],
      "source": [
        "# Create Feature and Label sets\n",
        "\n",
        "# BoW\n",
        "X1_bow = bow1_filter\n",
        "y1_bow = df1['fake']\n",
        "\n",
        "X2_bow = bow2_filter\n",
        "y2_bow = df2['fake']\n",
        "\n",
        "X3_bow = bow3_filter\n",
        "y3_bow = df3['fake']\n",
        "\n",
        "\n",
        "# TFIDF\n",
        "X1_tfidf = tfidf1\n",
        "y1_tfidf = df1['fake']\n",
        "\n",
        "X2_tfidf = tfidf2\n",
        "y2_tfidf = df2['fake']\n",
        "\n",
        "X3_tfidf = tfidf3\n",
        "y3_tfidf = df3['fake']\n",
        "\n",
        "\n",
        "# train, val & test split (80% train, 10% val, 10% test)\n",
        "\n",
        "#BOW split\n",
        "#df1\n",
        "X_train1, X_temp1, y_train1, y_temp1 = train_test_split(X1_bow, y1_bow, test_size=0.2, random_state=42)\n",
        "X_val1, X_test1, y_val1, y_test1 = train_test_split(X_temp1, y_temp1, test_size=0.5, random_state=42)\n",
        "\n",
        "#df2\n",
        "X_train2, X_temp2, y_train2, y_temp2 = train_test_split(X2_bow, y2_bow, test_size=0.2, random_state=42)\n",
        "X_val2, X_test2, y_val2, y_test2 = train_test_split(X_temp2, y_temp2, test_size=0.5, random_state=42)\n",
        "\n",
        "#df3\n",
        "X_train3, X_temp3, y_train3, y_temp3 = train_test_split(X3_bow, y3_bow, test_size=0.2, random_state=42)\n",
        "X_val3, X_test3, y_val3, y_test3 = train_test_split(X_temp3, y_temp3, test_size=0.5, random_state=42)\n",
        "\n",
        "print('Dataset 1 BOW:')\n",
        "print('X train:', X_train1.shape,'y train: ', y_train1.shape)\n",
        "print('X val: ', X_val1.shape,'y val: ', y_val1.shape)\n",
        "print('X test:', X_test1.shape,'y test: ', y_test1.shape)\n",
        "print('\\n')\n",
        "\n",
        "print('Dataset 2 BOW:')\n",
        "print('X train:', X_train2.shape,'y train: ', y_train2.shape)\n",
        "print('X val: ', X_val2.shape,'y val: ', y_val2.shape)\n",
        "print('X test:', X_test2.shape,'y test: ', y_test2.shape)\n",
        "print('\\n')\n",
        "\n",
        "\n",
        "print('Dataset 3 BOW:')\n",
        "print('X train:', X_train3.shape,'y train: ', y_train3.shape)\n",
        "print('X val: ', X_val3.shape,'y val: ', y_val3.shape)\n",
        "print('X test:', X_test3.shape,'y test: ', y_test3.shape)\n",
        "print('\\n')\n",
        "\n",
        "#TFIDF split\n",
        "#df1\n",
        "X_train1_tfidf, X_temp1_tfidf, y_train1_tfidf, y_temp1_tfidf = train_test_split(X1_tfidf, y1_tfidf, test_size=0.2, random_state=42)\n",
        "X_val1_tfidf, X_test1_tfidf, y_val1_tfidf, y_test1_tfidf = train_test_split(X_temp1_tfidf, y_temp1_tfidf, test_size=0.5, random_state=42)\n",
        "\n",
        "# #df2\n",
        "X_train2_tfidf, X_temp2_tfidf, y_train2_tfidf, y_temp2_tfidf = train_test_split(X2_tfidf, y2_tfidf, test_size=0.2, random_state=42)\n",
        "X_val2_tfidf, X_test2_tfidf, y_val2_tfidf, y_test2_tfidf = train_test_split(X_temp2_tfidf, y_temp2_tfidf, test_size=0.5, random_state=42)\n",
        "\n",
        "# #df3\n",
        "X_train3_tfidf, X_temp3_tfidf, y_train3_tfidf, y_temp3_tfidf = train_test_split(X3_tfidf, y3_tfidf, test_size=0.2, random_state=42)\n",
        "X_val3_tfidf, X_test3_tfidf, y_val3_tfidf, y_test3_tfidf = train_test_split(X_temp3_tfidf, y_temp3_tfidf, test_size=0.5, random_state=42)\n",
        "\n",
        "print('Dataset 1 TFIDF:')\n",
        "print('X train:', X_train1_tfidf.shape,'y train: ', y_train1_tfidf.shape)\n",
        "print('X val: ', X_val1_tfidf.shape,'y val: ', y_val1_tfidf.shape)\n",
        "print('X test:', X_test1_tfidf.shape,'y test: ', y_test1_tfidf.shape)\n",
        "print('\\n')\n",
        "\n",
        "print('Dataset 2 TFIDF:')\n",
        "print('X train:', X_train2_tfidf.shape,'y train: ', y_train2_tfidf.shape)\n",
        "print('X val: ', X_val2_tfidf.shape,'y val: ', y_val2_tfidf.shape)\n",
        "print('X test:', X_test2_tfidf.shape,'y test: ', y_test2_tfidf.shape)\n",
        "print('\\n')\n",
        "\n",
        "print('Dataset 3 TFIDF:')\n",
        "print('X train:', X_train3_tfidf.shape,'y train: ', y_train3_tfidf.shape)\n",
        "print('X val: ', X_val3_tfidf.shape,'y val: ', y_val3_tfidf.shape)\n",
        "print('X test:', X_test3_tfidf.shape,'y test: ', y_test3_tfidf.shape)\n",
        "print('\\n')"
      ]
    },
    {
      "cell_type": "markdown",
      "metadata": {
        "id": "MyG-PD3Kl2gA"
      },
      "source": [
        "## Logistic regression\n",
        "Use PyTorch library.\n",
        "\n",
        "1. Train logistic regression model using prepared training dataset\n",
        "2. Test model using testing dataset\n",
        "3. Use Optuna to find the best hyperparameters the for logistic regression.\n",
        "4. Evaluate model using k-stratified fold Cross Validation using train, test and validation part of the dataset"
      ]
    },
    {
      "cell_type": "markdown",
      "source": [
        "Create tensors"
      ],
      "metadata": {
        "id": "5D5RlrL_jfxE"
      }
    },
    {
      "cell_type": "code",
      "source": [
        "# BoW tensors for all dataset\n",
        "X1_bow_tens = torch.tensor(X1_bow.values, dtype=torch.float32)\n",
        "y1_bow_tens = torch.tensor(y1_bow.values, dtype=torch.float32).reshape(-1,1)\n",
        "print(X1_bow_tens.shape,y1_bow_tens.shape)\n",
        "\n",
        "X2_bow_tens = torch.tensor(X2_bow.values, dtype=torch.float32)\n",
        "y2_bow_tens = torch.tensor(y2_bow.values, dtype=torch.float32).reshape(-1,1)\n",
        "print(X2_bow_tens.shape,y2_bow_tens.shape)\n",
        "\n",
        "X3_bow_tens = torch.tensor(X3_bow.values, dtype=torch.float32)\n",
        "y3_bow_tens = torch.tensor(y3_bow.values, dtype=torch.float32).reshape(-1,1)\n",
        "print(X2_bow_tens.shape,y3_bow_tens.shape)\n",
        "\n",
        "\n",
        "# TFIDF tensors for all dataset\n",
        "X1_tfidf_tens = torch.tensor(X1_tfidf, dtype=torch.float32)\n",
        "y1_tfidf_tens = torch.tensor(y1_tfidf.values, dtype=torch.float32).reshape(-1,1)\n",
        "print(X1_tfidf_tens.shape,y1_tfidf_tens.shape)\n",
        "\n",
        "X2_tfidf_tens = torch.tensor(X2_tfidf, dtype=torch.float32)\n",
        "y2_tfidf_tens = torch.tensor(y2_tfidf.values, dtype=torch.float32).reshape(-1,1)\n",
        "print(X2_tfidf_tens.shape,y2_tfidf_tens.shape)\n",
        "\n",
        "X3_tfidf_tens = torch.tensor(X3_tfidf, dtype=torch.float32)\n",
        "y3_tfidf_tens = torch.tensor(y3_tfidf.values, dtype=torch.float32).reshape(-1,1)\n",
        "print(X3_tfidf_tens.shape,y3_tfidf_tens.shape)"
      ],
      "metadata": {
        "colab": {
          "base_uri": "https://localhost:8080/"
        },
        "outputId": "d972be7c-cb18-4bbd-e5b7-df3855497d34",
        "id": "7zF_-Ht1l2gB"
      },
      "execution_count": null,
      "outputs": [
        {
          "output_type": "stream",
          "name": "stdout",
          "text": [
            "torch.Size([2618, 1184]) torch.Size([2618, 1])\n",
            "torch.Size([2386, 923]) torch.Size([2386, 1])\n",
            "torch.Size([2386, 923]) torch.Size([2540, 1])\n",
            "torch.Size([2618, 5237]) torch.Size([2618, 1])\n",
            "torch.Size([2386, 5062]) torch.Size([2386, 1])\n",
            "torch.Size([2540, 5464]) torch.Size([2540, 1])\n"
          ]
        }
      ]
    },
    {
      "cell_type": "code",
      "source": [
        "# BOW train tensors\n",
        "X1_tens_train = torch.tensor(X_train1.values, dtype=torch.float32)\n",
        "y1_tens_train = torch.tensor(y_train1.values, dtype=torch.float32).reshape(-1,1)\n",
        "print('BOW Train sets:\\n',X1_tens_train.shape,y1_tens_train.shape)\n",
        "\n",
        "X2_tens_train = torch.tensor(X_train2.values, dtype=torch.float32)\n",
        "y2_tens_train = torch.tensor(y_train2.values, dtype=torch.float32).reshape(-1,1)\n",
        "print(X2_tens_train.shape,y2_tens_train.shape)\n",
        "\n",
        "X3_tens_train = torch.tensor(X_train3.values, dtype=torch.float32)\n",
        "y3_tens_train = torch.tensor(y_train3.values, dtype=torch.float32).reshape(-1,1)\n",
        "print(X3_tens_train.shape,y3_tens_train.shape)\n",
        "\n",
        "# BOW val tensors\n",
        "X1_tens_val = torch.tensor(X_val1.values, dtype=torch.float32)\n",
        "y1_tens_val = torch.tensor(y_val1.values, dtype=torch.float32).reshape(-1,1)\n",
        "print('BOW Val sets:\\n',X1_tens_val.shape,y1_tens_val.shape)\n",
        "\n",
        "X2_tens_val = torch.tensor(X_val2.values, dtype=torch.float32)\n",
        "y2_tens_val = torch.tensor(y_val2.values, dtype=torch.float32).reshape(-1,1)\n",
        "print(X2_tens_val.shape,y2_tens_val.shape)\n",
        "\n",
        "X3_tens_val = torch.tensor(X_val3.values, dtype=torch.float32)\n",
        "y3_tens_val = torch.tensor(y_val3.values, dtype=torch.float32).reshape(-1,1)\n",
        "print(X3_tens_val.shape,y3_tens_val.shape)\n",
        "\n",
        "# BOW test tensors\n",
        "X1_tens_test = torch.tensor(X_test1.values, dtype=torch.float32)\n",
        "y1_tens_test = torch.tensor(y_test1.values, dtype=torch.float32).reshape(-1,1)\n",
        "print('BOW Test sets:\\n',X1_tens_test.shape,y1_tens_test.shape)\n",
        "\n",
        "X2_tens_test = torch.tensor(X_test2.values, dtype=torch.float32)\n",
        "y2_tens_test = torch.tensor(y_test2.values, dtype=torch.float32).reshape(-1,1)\n",
        "print(X2_tens_test.shape,y2_tens_test.shape)\n",
        "\n",
        "X3_tens_test = torch.tensor(X_test3.values, dtype=torch.float32)\n",
        "y3_tens_test = torch.tensor(y_test3.values, dtype=torch.float32).reshape(-1,1)\n",
        "print(X1_tens_test.shape,y1_tens_test.shape)\n",
        "\n",
        "\n",
        "\n",
        "# TFIDF train tensors\n",
        "X1_tens_train_tfidf = torch.tensor(X_train1_tfidf, dtype=torch.float32)\n",
        "# X2_tens2_tfidf = torch.from_numpy(X_train2).type(torch.float)\n",
        "y1_tens_train_tfidf = torch.tensor(y_train1_tfidf.values, dtype=torch.float32).reshape(-1,1)\n",
        "print('TFIDF train:\\n',X1_tens_train_tfidf.shape,y1_tens_train_tfidf.shape)\n",
        "\n",
        "X2_tens_train_tfidf = torch.tensor(X_train2_tfidf, dtype=torch.float32)\n",
        "y2_tens_train_tfidf = torch.tensor(y_train2_tfidf.values, dtype=torch.float32).reshape(-1,1)\n",
        "print(X2_tens_train_tfidf.shape,y2_tens_train_tfidf.shape)\n",
        "\n",
        "X3_tens_train_tfidf = torch.tensor(X_train3_tfidf, dtype=torch.float32)\n",
        "y3_tens_train_tfidf = torch.tensor(y_train3_tfidf.values, dtype=torch.float32).reshape(-1,1)\n",
        "print(X3_tens_train_tfidf.shape,y3_tens_train_tfidf.shape)\n",
        "\n",
        "# TFIDF val tensors\n",
        "X1_tens_val_tfidf = torch.tensor(X_val1_tfidf, dtype=torch.float32)\n",
        "# X2_tens2_tfidf = torch.from_numpy(X_val2).type(torch.float)\n",
        "y1_tens_val_tfidf = torch.tensor(y_val1_tfidf.values, dtype=torch.float32).reshape(-1,1)\n",
        "print('TFIDF val:\\n',X1_tens_val_tfidf.shape,y1_tens_val_tfidf.shape)\n",
        "\n",
        "X2_tens_val_tfidf = torch.tensor(X_val2_tfidf, dtype=torch.float32)\n",
        "y2_tens_val_tfidf = torch.tensor(y_val2_tfidf.values, dtype=torch.float32).reshape(-1,1)\n",
        "print(X2_tens_val_tfidf.shape,y2_tens_val_tfidf.shape)\n",
        "\n",
        "X3_tens_val_tfidf = torch.tensor(X_val3_tfidf, dtype=torch.float32)\n",
        "y3_tens_val_tfidf = torch.tensor(y_val3_tfidf.values, dtype=torch.float32).reshape(-1,1)\n",
        "print(X3_tens_val_tfidf.shape,y3_tens_val_tfidf.shape)\n",
        "\n",
        "# TFIDF test tensors\n",
        "X1_tens_test_tfidf = torch.tensor(X_test1_tfidf, dtype=torch.float32)\n",
        "# X2_tens2_tfidf = torch.from_numpy(X_train2).type(torch.float)\n",
        "y1_tens_test_tfidf = torch.tensor(y_test1_tfidf.values, dtype=torch.float32).reshape(-1,1)\n",
        "print('TFIDF test:\\n',X1_tens_test_tfidf.shape,y1_tens_test_tfidf.shape)\n",
        "\n",
        "X2_tens_test_tfidf = torch.tensor(X_test2_tfidf, dtype=torch.float32)\n",
        "y2_tens_test_tfidf = torch.tensor(y_test2_tfidf.values, dtype=torch.float32).reshape(-1,1)\n",
        "print(X2_tens_test_tfidf.shape,y2_tens_test_tfidf.shape)\n",
        "\n",
        "X3_tens_test_tfidf = torch.tensor(X_test3_tfidf, dtype=torch.float32)\n",
        "y3_tens_test_tfidf = torch.tensor(y_test3_tfidf.values, dtype=torch.float32).reshape(-1,1)\n",
        "print(X3_tens_test_tfidf.shape,y3_tens_test_tfidf.shape)"
      ],
      "metadata": {
        "colab": {
          "base_uri": "https://localhost:8080/"
        },
        "outputId": "4503d60d-4b6b-45b8-db11-fe042cab4351",
        "id": "fgdfBN1Il2gB"
      },
      "execution_count": null,
      "outputs": [
        {
          "output_type": "stream",
          "name": "stdout",
          "text": [
            "BOW Train sets:\n",
            " torch.Size([2094, 1184]) torch.Size([2094, 1])\n",
            "torch.Size([1908, 923]) torch.Size([1908, 1])\n",
            "torch.Size([2032, 1070]) torch.Size([2032, 1])\n",
            "BOW Val sets:\n",
            " torch.Size([262, 1184]) torch.Size([262, 1])\n",
            "torch.Size([239, 923]) torch.Size([239, 1])\n",
            "torch.Size([254, 1070]) torch.Size([254, 1])\n",
            "BOW Test sets:\n",
            " torch.Size([262, 1184]) torch.Size([262, 1])\n",
            "torch.Size([239, 923]) torch.Size([239, 1])\n",
            "torch.Size([262, 1184]) torch.Size([262, 1])\n",
            "TFIDF train:\n",
            " torch.Size([2094, 5237]) torch.Size([2094, 1])\n",
            "torch.Size([1908, 5062]) torch.Size([1908, 1])\n",
            "torch.Size([2032, 5464]) torch.Size([2032, 1])\n",
            "TFIDF val:\n",
            " torch.Size([262, 5237]) torch.Size([262, 1])\n",
            "torch.Size([239, 5062]) torch.Size([239, 1])\n",
            "torch.Size([254, 5464]) torch.Size([254, 1])\n",
            "TFIDF test:\n",
            " torch.Size([262, 5237]) torch.Size([262, 1])\n",
            "torch.Size([239, 5062]) torch.Size([239, 1])\n",
            "torch.Size([254, 5464]) torch.Size([254, 1])\n"
          ]
        }
      ]
    },
    {
      "cell_type": "code",
      "execution_count": null,
      "metadata": {
        "id": "TLXuGAT9l2gB"
      },
      "outputs": [],
      "source": [
        "# build custom module/net Logistic regression\n",
        "class LogisticRegression(torch.nn.Module):\n",
        "    # build the constructor\n",
        "    def __init__(self, vocab_size, num_labels):\n",
        "        super().__init__()\n",
        "        self.linear = torch.nn.Linear(vocab_size, num_labels)\n",
        "    # make predictions\n",
        "    def forward(self, x):\n",
        "        y_pred = torch.sigmoid(self.linear(x))\n",
        "        return y_pred"
      ]
    },
    {
      "cell_type": "code",
      "source": [
        "def model_train(model, X_train, y_train, X_val, y_val):\n",
        "    # loss function and optimizer\n",
        "    loss_fn = nn.BCELoss()  # binary cross entropy\n",
        "    optimizer = optim.SGD(model.parameters(), lr=0.01)\n",
        "\n",
        "    n_epochs = 10   # number of epochs to run\n",
        "    batch_size = 10  # size of each batch\n",
        "    batch_start = torch.arange(0, len(X_train), batch_size)\n",
        "\n",
        "    # Hold the best model\n",
        "    best_acc = - np.inf   # init to negative infinity\n",
        "    best_weights = None\n",
        "\n",
        "    for epoch in range(n_epochs):\n",
        "        model.train()\n",
        "        with tqdm(batch_start, unit=\"batch\", mininterval=0, disable=True) as bar:\n",
        "            bar.set_description(f\"Epoch {epoch}\")\n",
        "            for start in bar:\n",
        "                # take a batch\n",
        "                X_batch = X_train[start:start+batch_size]\n",
        "                y_batch = y_train[start:start+batch_size]\n",
        "                # forward pass\n",
        "                y_pred = model(X_batch)\n",
        "                loss = loss_fn(y_pred, y_batch)\n",
        "                # backward pass\n",
        "                optimizer.zero_grad()\n",
        "                loss.backward()\n",
        "                # update weights\n",
        "                optimizer.step()\n",
        "                # print progress\n",
        "                acc = (y_pred.round() == y_batch).float().mean()\n",
        "                bar.set_postfix(\n",
        "                    loss=float(loss),\n",
        "                    acc=float(acc)\n",
        "                )\n",
        "        # evaluate accuracy at end of each epoch\n",
        "        model.eval()\n",
        "        y_pred = model(X_val)\n",
        "        acc = (y_pred.round() == y_val).float().mean()\n",
        "        acc = float(acc)\n",
        "        if acc > best_acc:\n",
        "            best_acc = acc\n",
        "            best_weights = copy.deepcopy(model.state_dict())\n",
        "\n",
        "    # restore model and return best accuracy\n",
        "    model.load_state_dict(best_weights)\n",
        "    return best_acc"
      ],
      "metadata": {
        "id": "S-A6U7djl2gB"
      },
      "execution_count": null,
      "outputs": []
    },
    {
      "cell_type": "markdown",
      "source": [
        "Evaluate model on each df test subset"
      ],
      "metadata": {
        "id": "wITGfoK6XtvN"
      }
    },
    {
      "cell_type": "code",
      "source": [
        "# create model, train, and get accuracy\n",
        "model1 = LogisticRegression(bow1_vocab_size,1)\n",
        "acc1 = model_train(model1, X1_tens_train, y1_tens_train, X1_tens_val, y1_tens_val)\n",
        "print(\"BOW df1\\n\",'Accuracy (LogReg): %.2f' % acc1)\n",
        "\n",
        "\n",
        "# evaluate the model on the test set\n",
        "model1.eval()\n",
        "with torch.no_grad():\n",
        "  # Test out inference with 5 samples\n",
        "  for i in range(5):\n",
        "    y_pred1 = model1(X1_tens_test[i:i+1])\n",
        "    print(f\"{y_pred1[0].numpy()} \" +\n",
        "      f\"(expected {y1_tens_test[i].numpy()})\")"
      ],
      "metadata": {
        "id": "mNUIS9aHTcYX",
        "colab": {
          "base_uri": "https://localhost:8080/"
        },
        "outputId": "2260f216-6da3-480b-b628-3c1d19d01ac0"
      },
      "execution_count": null,
      "outputs": [
        {
          "output_type": "stream",
          "name": "stdout",
          "text": [
            "BOW df1\n",
            " Accuracy (LogReg): 0.83\n",
            "[0.40036616] (expected [0.])\n",
            "[0.38600034] (expected [0.])\n",
            "[0.5444438] (expected [1.])\n",
            "[0.42703295] (expected [0.])\n",
            "[0.42258814] (expected [0.])\n"
          ]
        }
      ]
    },
    {
      "cell_type": "code",
      "source": [
        "# create model, train, and get accuracy\n",
        "model2 = LogisticRegression(bow2_vocab_size,1)\n",
        "acc2 = model_train(model2, X2_tens_train, y2_tens_train, X2_tens_val, y2_tens_val)\n",
        "print(\"BOW df2\\n\",'Accuracy (LogReg): %.2f' % acc2)\n",
        "\n",
        "\n",
        "# evaluate the model on the test set\n",
        "model2.eval()\n",
        "with torch.no_grad():\n",
        "  # Test out inference with 5 samples\n",
        "  for i in range(5):\n",
        "    y_pred2 = model2(X2_tens_test[i:i+1])\n",
        "    print(f\"{y_pred2[0].numpy()} \" +\n",
        "      f\"(expected {y2_tens_test[i].numpy()})\")"
      ],
      "metadata": {
        "id": "Sbvo8cwI1cXk",
        "colab": {
          "base_uri": "https://localhost:8080/"
        },
        "outputId": "3c0baa3b-9e6e-48a9-d0b8-42e7826aa9f6"
      },
      "execution_count": null,
      "outputs": [
        {
          "output_type": "stream",
          "name": "stdout",
          "text": [
            "BOW df2\n",
            " Accuracy (LogReg): 0.71\n",
            "[0.54540294] (expected [1.])\n",
            "[0.5508097] (expected [1.])\n",
            "[0.54348] (expected [0.])\n",
            "[0.4955767] (expected [0.])\n",
            "[0.52054876] (expected [1.])\n"
          ]
        }
      ]
    },
    {
      "cell_type": "code",
      "source": [
        "# create model, train, and get accuracy\n",
        "model3 = LogisticRegression(bow3_vocab_size,1)\n",
        "acc3 = model_train(model3, X3_tens_train, y3_tens_train, X3_tens_val, y3_tens_val)\n",
        "print(\"BOW df3\\n\",'Accuracy (LogReg): %.2f' % acc3)\n",
        "\n",
        "\n",
        "# evaluate the model on the test set\n",
        "model3.eval()\n",
        "with torch.no_grad():\n",
        "  # Test out inference with 5 samples\n",
        "  for i in range(5):\n",
        "    y_pred3 = model3(X3_tens_test[i:i+1])\n",
        "    print(f\"{y_pred3[0].numpy()} \" +\n",
        "      f\"(expected {y3_tens_test[i].numpy()})\")"
      ],
      "metadata": {
        "id": "TMMi6F1v1c8W",
        "colab": {
          "base_uri": "https://localhost:8080/"
        },
        "outputId": "c9da8e7c-1184-4707-960f-a4d1adb9970d"
      },
      "execution_count": null,
      "outputs": [
        {
          "output_type": "stream",
          "name": "stdout",
          "text": [
            "BOW df3\n",
            " Accuracy (LogReg): 0.80\n",
            "[0.31962997] (expected [0.])\n",
            "[0.47888017] (expected [0.])\n",
            "[0.5913829] (expected [1.])\n",
            "[0.5673602] (expected [1.])\n",
            "[0.46168706] (expected [0.])\n"
          ]
        }
      ]
    },
    {
      "cell_type": "code",
      "source": [
        "# create model, train, and get accuracy\n",
        "model4 = LogisticRegression(get_vocab_size(X1_tens_train_tfidf),1)\n",
        "acc4 = model_train(model4, X1_tens_train_tfidf, y1_tens_train_tfidf, X1_tens_val_tfidf, y1_tens_val_tfidf)\n",
        "print(\"TFIDF df1\\n\",'Accuracy (LogReg): %.2f' % acc4)\n",
        "\n",
        "\n",
        "# evaluate the model on the test set\n",
        "model4.eval()\n",
        "with torch.no_grad():\n",
        "  # Test out inference with 5 samples\n",
        "  for i in range(5):\n",
        "    y_pred4 = model4(X1_tens_test_tfidf[i:i+1])\n",
        "    print(f\"{y_pred4[0].numpy()} \" +\n",
        "      f\"(expected {y1_tens_test_tfidf[i].numpy()})\")"
      ],
      "metadata": {
        "colab": {
          "base_uri": "https://localhost:8080/"
        },
        "id": "VzBrEYYdHJAh",
        "outputId": "6458cc45-a91a-4184-ae55-8d529d156e5e"
      },
      "execution_count": null,
      "outputs": [
        {
          "output_type": "stream",
          "name": "stdout",
          "text": [
            "TFIDF df1\n",
            " Accuracy (LogReg): 0.85\n",
            "[0.4965447] (expected [0.])\n",
            "[0.4944224] (expected [0.])\n",
            "[0.505687] (expected [1.])\n",
            "[0.49815083] (expected [0.])\n",
            "[0.4937417] (expected [0.])\n"
          ]
        }
      ]
    },
    {
      "cell_type": "code",
      "source": [
        "# create model, train, and get accuracy\n",
        "model5 = LogisticRegression(get_vocab_size(X2_tens_train_tfidf),1)\n",
        "acc5 = model_train(model5, X2_tens_train_tfidf, y2_tens_train_tfidf, X2_tens_val_tfidf, y2_tens_val_tfidf)\n",
        "print(\"TFIDF df2\\n\",'Accuracy (LogReg): %.2f' % acc5)\n",
        "\n",
        "\n",
        "# evaluate the model on the test set\n",
        "model5.eval()\n",
        "with torch.no_grad():\n",
        "  # Test out inference with 5 samples\n",
        "  for i in range(5):\n",
        "    y_pred5 = model5(X2_tens_test_tfidf[i:i+1])\n",
        "    print(f\"{y_pred5[0].numpy()} \" +\n",
        "      f\"(expected {y2_tens_test_tfidf[i].numpy()})\")"
      ],
      "metadata": {
        "colab": {
          "base_uri": "https://localhost:8080/"
        },
        "id": "_OE-hmR5HI2r",
        "outputId": "fa04e9f6-c718-4389-8466-6b7a07a64f36"
      },
      "execution_count": null,
      "outputs": [
        {
          "output_type": "stream",
          "name": "stdout",
          "text": [
            "TFIDF df2\n",
            " Accuracy (LogReg): 0.67\n",
            "[0.5092374] (expected [1.])\n",
            "[0.5115051] (expected [1.])\n",
            "[0.5062474] (expected [0.])\n",
            "[0.5060356] (expected [0.])\n",
            "[0.50337833] (expected [1.])\n"
          ]
        }
      ]
    },
    {
      "cell_type": "code",
      "source": [
        "# create model, train, and get accuracy\n",
        "model6 = LogisticRegression(get_vocab_size(X3_tens_train_tfidf),1)\n",
        "acc6 = model_train(model6, X3_tens_train_tfidf, y3_tens_train_tfidf, X3_tens_val_tfidf, y3_tens_val_tfidf)\n",
        "print(\"TFIDF df3\\n\",'Accuracy (LogReg): %.2f' % acc6)\n",
        "\n",
        "\n",
        "# evaluate the model on the test set\n",
        "model6.eval()\n",
        "with torch.no_grad():\n",
        "  # Test out inference with 5 samples\n",
        "  for i in range(5):\n",
        "    y_pred6 = model6(X3_tens_test_tfidf[i:i+1])\n",
        "    print(f\"{y_pred6[0].numpy()} \" +\n",
        "      f\"(expected {y3_tens_test_tfidf[i].numpy()})\")"
      ],
      "metadata": {
        "colab": {
          "base_uri": "https://localhost:8080/"
        },
        "id": "_lorGRCOHInY",
        "outputId": "49c29662-5845-437f-becb-31e7d931fadf"
      },
      "execution_count": null,
      "outputs": [
        {
          "output_type": "stream",
          "name": "stdout",
          "text": [
            "TFIDF df3\n",
            " Accuracy (LogReg): 0.76\n",
            "[0.4869378] (expected [0.])\n",
            "[0.4995272] (expected [0.])\n",
            "[0.5073697] (expected [1.])\n",
            "[0.5094066] (expected [1.])\n",
            "[0.49771306] (expected [0.])\n"
          ]
        }
      ]
    },
    {
      "cell_type": "markdown",
      "source": [
        "### Optuna"
      ],
      "metadata": {
        "id": "qzjlAv2kl2gC"
      }
    },
    {
      "cell_type": "code",
      "source": [
        "def model_train_optuna(model, X_train, y_train, X_val, y_val, param):\n",
        "    # loss function and optimizer\n",
        "    loss_fn = nn.BCELoss()  # binary cross entropy\n",
        "    optimizer = getattr(optim, param['optimizer'])(model.parameters(), lr= param['learning_rate'])\n",
        "\n",
        "    n_epochs = 10   # number of epochs to run\n",
        "    batch_size = 10  # size of each batch\n",
        "    batch_start = torch.arange(0, len(X_train), batch_size)\n",
        "\n",
        "    # Hold the best model\n",
        "    best_acc = - np.inf   # init to negative infinity\n",
        "    best_weights = None\n",
        "\n",
        "    for epoch in range(n_epochs):\n",
        "        model.train()\n",
        "        with tqdm(batch_start, unit=\"batch\", mininterval=0, disable=True) as bar:\n",
        "            bar.set_description(f\"Epoch {epoch}\")\n",
        "            for start in bar:\n",
        "                # take a batch\n",
        "                X_batch = X_train[start:start+batch_size]\n",
        "                y_batch = y_train[start:start+batch_size]\n",
        "                # forward pass\n",
        "                y_pred = model(X_batch)\n",
        "                loss = loss_fn(y_pred, y_batch)\n",
        "                # backward pass\n",
        "                optimizer.zero_grad()\n",
        "                loss.backward()\n",
        "                # update weights\n",
        "                optimizer.step()\n",
        "                # print progress\n",
        "                acc = (y_pred.round() == y_batch).float().mean()\n",
        "                bar.set_postfix(\n",
        "                    loss=float(loss),\n",
        "                    acc=float(acc)\n",
        "                )\n",
        "        # evaluate accuracy at end of each epoch\n",
        "        model.eval()\n",
        "        y_pred = model(X_val)\n",
        "        acc = (y_pred.round() == y_val).float().mean()\n",
        "        acc = float(acc)\n",
        "        if acc > best_acc:\n",
        "            best_acc = acc\n",
        "            best_weights = copy.deepcopy(model.state_dict())\n",
        "\n",
        "    # restore model and return best accuracy\n",
        "    model.load_state_dict(best_weights)\n",
        "    return best_acc"
      ],
      "metadata": {
        "id": "bqNIUY65l2gC"
      },
      "execution_count": null,
      "outputs": []
    },
    {
      "cell_type": "code",
      "source": [
        "# objective class with specific arguments\n",
        "class Objective:\n",
        "    def __init__(self, X_train, y_train, X_test, y_test, vocab_size):\n",
        "        # Hold this implementation specific arguments as the fields of the class.\n",
        "        self.X_train = X_train\n",
        "        self.y_train = y_train\n",
        "        self.X_test = X_test\n",
        "        self.y_test = y_test\n",
        "        self.vocab_size = vocab_size\n",
        "\n",
        "    def __call__(self, trial):\n",
        "        # Calculate an objective value by using the extra arguments.\n",
        "        params = {\n",
        "              'learning_rate': trial.suggest_loguniform('learning_rate', 1e-5, 1e-1),\n",
        "              'optimizer': trial.suggest_categorical('optimizer', [\"Adam\", \"SGD\", \"RMSprop\"]),\n",
        "              'batch_size': trial.suggest_categorical('batch_size', [16, 32, 64]),\n",
        "              'epochs': trial.suggest_int('epochs', 10, 50)\n",
        "              }\n",
        "        model = LogisticRegression(self.vocab_size, 1)\n",
        "        accuracy = model_train_optuna(model, self.X_train, self.y_train, self.X_test, self.y_test, params)\n",
        "        return accuracy"
      ],
      "metadata": {
        "id": "_NshubEkl2gD"
      },
      "execution_count": null,
      "outputs": []
    },
    {
      "cell_type": "code",
      "source": [
        "# Execute an optimization by using an `Objective` instance.\n",
        "\n",
        "# BOW for df1\n",
        "study_bow1 = optuna.create_study()\n",
        "study_bow1.optimize(Objective(X1_tens_train, y1_tens_train, X1_tens_test, y1_tens_test, get_vocab_size(X1_tens_train)), n_trials=10)\n",
        "best_trial_bow1 = study_bow1.best_trial\n",
        "\n",
        "for key, value in best_trial_bow1.params.items():\n",
        "    print(\"{}: {}\".format(key, value))"
      ],
      "metadata": {
        "colab": {
          "base_uri": "https://localhost:8080/"
        },
        "id": "rKvtKmMtkskL",
        "outputId": "61d1a108-60ff-4999-af16-736a7bef3fd2"
      },
      "execution_count": null,
      "outputs": [
        {
          "output_type": "stream",
          "name": "stderr",
          "text": [
            "\u001b[32m[I 2023-05-24 21:18:56,611]\u001b[0m A new study created in memory with name: no-name-03c4d61a-8e1a-4d0b-8976-433f96a73bf9\u001b[0m\n",
            "<ipython-input-35-8c98eff8b77e>:14: FutureWarning: suggest_loguniform has been deprecated in v3.0.0. This feature will be removed in v6.0.0. See https://github.com/optuna/optuna/releases/tag/v3.0.0. Use :func:`~optuna.trial.Trial.suggest_float` instead.\n",
            "  'learning_rate': trial.suggest_loguniform('learning_rate', 1e-5, 1e-1),\n",
            "\u001b[32m[I 2023-05-24 21:18:57,928]\u001b[0m Trial 0 finished with value: 0.9160305261611938 and parameters: {'learning_rate': 0.002223267484741923, 'optimizer': 'Adam', 'batch_size': 32, 'epochs': 41}. Best is trial 0 with value: 0.9160305261611938.\u001b[0m\n",
            "\u001b[32m[I 2023-05-24 21:18:59,234]\u001b[0m Trial 1 finished with value: 0.9236640930175781 and parameters: {'learning_rate': 0.03060725099332623, 'optimizer': 'Adam', 'batch_size': 16, 'epochs': 22}. Best is trial 0 with value: 0.9160305261611938.\u001b[0m\n",
            "\u001b[32m[I 2023-05-24 21:19:00,158]\u001b[0m Trial 2 finished with value: 0.9045801758766174 and parameters: {'learning_rate': 0.08533229815550283, 'optimizer': 'SGD', 'batch_size': 32, 'epochs': 14}. Best is trial 2 with value: 0.9045801758766174.\u001b[0m\n",
            "\u001b[32m[I 2023-05-24 21:19:01,072]\u001b[0m Trial 3 finished with value: 0.8969465494155884 and parameters: {'learning_rate': 0.03707283172704917, 'optimizer': 'SGD', 'batch_size': 64, 'epochs': 26}. Best is trial 3 with value: 0.8969465494155884.\u001b[0m\n",
            "\u001b[32m[I 2023-05-24 21:19:02,333]\u001b[0m Trial 4 finished with value: 0.8587786555290222 and parameters: {'learning_rate': 5.2198075091475116e-05, 'optimizer': 'Adam', 'batch_size': 32, 'epochs': 18}. Best is trial 4 with value: 0.8587786555290222.\u001b[0m\n",
            "\u001b[32m[I 2023-05-24 21:19:03,408]\u001b[0m Trial 5 finished with value: 0.8625954389572144 and parameters: {'learning_rate': 6.3128337483836e-05, 'optimizer': 'RMSprop', 'batch_size': 64, 'epochs': 17}. Best is trial 4 with value: 0.8587786555290222.\u001b[0m\n",
            "\u001b[32m[I 2023-05-24 21:19:04,429]\u001b[0m Trial 6 finished with value: 0.9007633328437805 and parameters: {'learning_rate': 0.00021631383790414945, 'optimizer': 'RMSprop', 'batch_size': 64, 'epochs': 50}. Best is trial 4 with value: 0.8587786555290222.\u001b[0m\n",
            "\u001b[32m[I 2023-05-24 21:19:05,495]\u001b[0m Trial 7 finished with value: 0.8893129825592041 and parameters: {'learning_rate': 0.00014322966919350658, 'optimizer': 'RMSprop', 'batch_size': 32, 'epochs': 29}. Best is trial 4 with value: 0.8587786555290222.\u001b[0m\n",
            "\u001b[32m[I 2023-05-24 21:19:06,781]\u001b[0m Trial 8 finished with value: 0.8816794157028198 and parameters: {'learning_rate': 8.449477280254932e-05, 'optimizer': 'RMSprop', 'batch_size': 32, 'epochs': 13}. Best is trial 4 with value: 0.8587786555290222.\u001b[0m\n",
            "\u001b[32m[I 2023-05-24 21:19:08,015]\u001b[0m Trial 9 finished with value: 0.8931297659873962 and parameters: {'learning_rate': 0.041647253402339594, 'optimizer': 'SGD', 'batch_size': 64, 'epochs': 39}. Best is trial 4 with value: 0.8587786555290222.\u001b[0m\n"
          ]
        },
        {
          "output_type": "stream",
          "name": "stdout",
          "text": [
            "learning_rate: 5.2198075091475116e-05\n",
            "optimizer: Adam\n",
            "batch_size: 32\n",
            "epochs: 18\n"
          ]
        }
      ]
    },
    {
      "cell_type": "code",
      "source": [
        "# BOW for df2\n",
        "study_bow2 = optuna.create_study()\n",
        "study_bow2.optimize(Objective(X2_tens_train, y2_tens_train, X2_tens_test, y2_tens_test, get_vocab_size(X2_tens_train)), n_trials=10)\n",
        "best_trial_bow2 = study_bow2.best_trial\n",
        "\n",
        "for key, value in best_trial_bow2.params.items():\n",
        "    print(\"{}: {}\".format(key, value))"
      ],
      "metadata": {
        "colab": {
          "base_uri": "https://localhost:8080/"
        },
        "id": "M-SrqzX4kuxw",
        "outputId": "4d0b2cdf-fea0-41bf-bc94-bb15ae2d6244"
      },
      "execution_count": null,
      "outputs": [
        {
          "output_type": "stream",
          "name": "stderr",
          "text": [
            "\u001b[32m[I 2023-05-24 21:19:08,031]\u001b[0m A new study created in memory with name: no-name-b33b9d35-66b9-4ac7-805a-4db6d84edd0a\u001b[0m\n",
            "<ipython-input-35-8c98eff8b77e>:14: FutureWarning: suggest_loguniform has been deprecated in v3.0.0. This feature will be removed in v6.0.0. See https://github.com/optuna/optuna/releases/tag/v3.0.0. Use :func:`~optuna.trial.Trial.suggest_float` instead.\n",
            "  'learning_rate': trial.suggest_loguniform('learning_rate', 1e-5, 1e-1),\n",
            "\u001b[32m[I 2023-05-24 21:19:09,714]\u001b[0m Trial 0 finished with value: 0.7280334830284119 and parameters: {'learning_rate': 0.0032507670540180746, 'optimizer': 'Adam', 'batch_size': 32, 'epochs': 26}. Best is trial 0 with value: 0.7280334830284119.\u001b[0m\n",
            "\u001b[32m[I 2023-05-24 21:19:11,485]\u001b[0m Trial 1 finished with value: 0.7280334830284119 and parameters: {'learning_rate': 0.0002944429851430488, 'optimizer': 'Adam', 'batch_size': 16, 'epochs': 13}. Best is trial 0 with value: 0.7280334830284119.\u001b[0m\n",
            "\u001b[32m[I 2023-05-24 21:19:12,335]\u001b[0m Trial 2 finished with value: 0.6987447738647461 and parameters: {'learning_rate': 0.006152589842755186, 'optimizer': 'SGD', 'batch_size': 64, 'epochs': 22}. Best is trial 2 with value: 0.6987447738647461.\u001b[0m\n",
            "\u001b[32m[I 2023-05-24 21:19:13,153]\u001b[0m Trial 3 finished with value: 0.4686192572116852 and parameters: {'learning_rate': 1.5130566581990684e-05, 'optimizer': 'SGD', 'batch_size': 64, 'epochs': 31}. Best is trial 3 with value: 0.4686192572116852.\u001b[0m\n",
            "\u001b[32m[I 2023-05-24 21:19:13,959]\u001b[0m Trial 4 finished with value: 0.7071129679679871 and parameters: {'learning_rate': 0.025581542118353482, 'optimizer': 'SGD', 'batch_size': 16, 'epochs': 38}. Best is trial 3 with value: 0.4686192572116852.\u001b[0m\n",
            "\u001b[32m[I 2023-05-24 21:19:15,116]\u001b[0m Trial 5 finished with value: 0.715481162071228 and parameters: {'learning_rate': 0.0009528229687666731, 'optimizer': 'Adam', 'batch_size': 64, 'epochs': 49}. Best is trial 3 with value: 0.4686192572116852.\u001b[0m\n",
            "\u001b[32m[I 2023-05-24 21:19:15,924]\u001b[0m Trial 6 finished with value: 0.7029288411140442 and parameters: {'learning_rate': 0.014978800192532414, 'optimizer': 'SGD', 'batch_size': 32, 'epochs': 35}. Best is trial 3 with value: 0.4686192572116852.\u001b[0m\n",
            "\u001b[32m[I 2023-05-24 21:19:16,891]\u001b[0m Trial 7 finished with value: 0.6401673555374146 and parameters: {'learning_rate': 4.6009723110310514e-05, 'optimizer': 'RMSprop', 'batch_size': 32, 'epochs': 46}. Best is trial 3 with value: 0.4686192572116852.\u001b[0m\n",
            "\u001b[32m[I 2023-05-24 21:19:17,692]\u001b[0m Trial 8 finished with value: 0.6778242588043213 and parameters: {'learning_rate': 0.021617630827866687, 'optimizer': 'SGD', 'batch_size': 64, 'epochs': 22}. Best is trial 3 with value: 0.4686192572116852.\u001b[0m\n",
            "\u001b[32m[I 2023-05-24 21:19:18,859]\u001b[0m Trial 9 finished with value: 0.6025104522705078 and parameters: {'learning_rate': 3.402925180911045e-05, 'optimizer': 'Adam', 'batch_size': 32, 'epochs': 33}. Best is trial 3 with value: 0.4686192572116852.\u001b[0m\n"
          ]
        },
        {
          "output_type": "stream",
          "name": "stdout",
          "text": [
            "learning_rate: 1.5130566581990684e-05\n",
            "optimizer: SGD\n",
            "batch_size: 64\n",
            "epochs: 31\n"
          ]
        }
      ]
    },
    {
      "cell_type": "code",
      "source": [
        "# BOW for df3\n",
        "study_bow3 = optuna.create_study()\n",
        "study_bow3.optimize(Objective(X3_tens_train, y3_tens_train, X3_tens_test, y3_tens_test, get_vocab_size(X3_tens_train)), n_trials=10)\n",
        "best_trial_bow3 = study_bow3.best_trial\n",
        "\n",
        "for key, value in best_trial_bow3.params.items():\n",
        "    print(\"{}: {}\".format(key, value))"
      ],
      "metadata": {
        "colab": {
          "base_uri": "https://localhost:8080/"
        },
        "id": "CGzY_4nPkwYO",
        "outputId": "09d23758-26c8-4f24-9546-7af5184f15c7"
      },
      "execution_count": null,
      "outputs": [
        {
          "output_type": "stream",
          "name": "stderr",
          "text": [
            "\u001b[32m[I 2023-05-24 21:19:18,872]\u001b[0m A new study created in memory with name: no-name-4c68dcc1-b288-4ea2-8801-acfda1081b35\u001b[0m\n",
            "<ipython-input-35-8c98eff8b77e>:14: FutureWarning: suggest_loguniform has been deprecated in v3.0.0. This feature will be removed in v6.0.0. See https://github.com/optuna/optuna/releases/tag/v3.0.0. Use :func:`~optuna.trial.Trial.suggest_float` instead.\n",
            "  'learning_rate': trial.suggest_loguniform('learning_rate', 1e-5, 1e-1),\n",
            "\u001b[32m[I 2023-05-24 21:19:20,124]\u001b[0m Trial 0 finished with value: 0.7992125749588013 and parameters: {'learning_rate': 8.435950617654025e-05, 'optimizer': 'Adam', 'batch_size': 32, 'epochs': 50}. Best is trial 0 with value: 0.7992125749588013.\u001b[0m\n",
            "\u001b[32m[I 2023-05-24 21:19:21,342]\u001b[0m Trial 1 finished with value: 0.7716535329818726 and parameters: {'learning_rate': 6.646040943107781e-05, 'optimizer': 'Adam', 'batch_size': 16, 'epochs': 26}. Best is trial 1 with value: 0.7716535329818726.\u001b[0m\n",
            "\u001b[32m[I 2023-05-24 21:19:22,612]\u001b[0m Trial 2 finished with value: 0.8385826945304871 and parameters: {'learning_rate': 0.046905271906637874, 'optimizer': 'RMSprop', 'batch_size': 64, 'epochs': 11}. Best is trial 1 with value: 0.7716535329818726.\u001b[0m\n",
            "\u001b[32m[I 2023-05-24 21:19:23,797]\u001b[0m Trial 3 finished with value: 0.6535432934761047 and parameters: {'learning_rate': 0.00039090648642125755, 'optimizer': 'SGD', 'batch_size': 32, 'epochs': 36}. Best is trial 3 with value: 0.6535432934761047.\u001b[0m\n",
            "\u001b[32m[I 2023-05-24 21:19:25,229]\u001b[0m Trial 4 finished with value: 0.8385826945304871 and parameters: {'learning_rate': 0.032658289848576987, 'optimizer': 'RMSprop', 'batch_size': 16, 'epochs': 40}. Best is trial 3 with value: 0.6535432934761047.\u001b[0m\n",
            "\u001b[32m[I 2023-05-24 21:19:27,119]\u001b[0m Trial 5 finished with value: 0.8110235929489136 and parameters: {'learning_rate': 0.0003649207923478327, 'optimizer': 'Adam', 'batch_size': 32, 'epochs': 32}. Best is trial 3 with value: 0.6535432934761047.\u001b[0m\n",
            "\u001b[32m[I 2023-05-24 21:19:28,077]\u001b[0m Trial 6 finished with value: 0.7086614370346069 and parameters: {'learning_rate': 0.0011675176941136048, 'optimizer': 'SGD', 'batch_size': 64, 'epochs': 46}. Best is trial 3 with value: 0.6535432934761047.\u001b[0m\n",
            "\u001b[32m[I 2023-05-24 21:19:29,097]\u001b[0m Trial 7 finished with value: 0.6692913174629211 and parameters: {'learning_rate': 1.0436645841313788e-05, 'optimizer': 'RMSprop', 'batch_size': 32, 'epochs': 40}. Best is trial 3 with value: 0.6535432934761047.\u001b[0m\n",
            "\u001b[32m[I 2023-05-24 21:19:30,116]\u001b[0m Trial 8 finished with value: 0.7440944910049438 and parameters: {'learning_rate': 4.138367328863615e-05, 'optimizer': 'RMSprop', 'batch_size': 32, 'epochs': 33}. Best is trial 3 with value: 0.6535432934761047.\u001b[0m\n",
            "\u001b[32m[I 2023-05-24 21:19:31,343]\u001b[0m Trial 9 finished with value: 0.8031495809555054 and parameters: {'learning_rate': 0.00011660588807491627, 'optimizer': 'Adam', 'batch_size': 64, 'epochs': 30}. Best is trial 3 with value: 0.6535432934761047.\u001b[0m\n"
          ]
        },
        {
          "output_type": "stream",
          "name": "stdout",
          "text": [
            "learning_rate: 0.00039090648642125755\n",
            "optimizer: SGD\n",
            "batch_size: 32\n",
            "epochs: 36\n"
          ]
        }
      ]
    },
    {
      "cell_type": "code",
      "source": [
        "#TFIDF for df1\n",
        "study_tfidf1 = optuna.create_study()\n",
        "study_tfidf1.optimize(Objective(X1_tens_train_tfidf, y1_tens_train_tfidf, X1_tens_test_tfidf, y1_tens_test_tfidf, tfidf1_vocab_size), n_trials=10)\n",
        "best_trial_tfidf1 = study_tfidf1.best_trial\n",
        "\n",
        "for key, value in best_trial_tfidf1.params.items():\n",
        "    print(\"{}: {}\".format(key, value))"
      ],
      "metadata": {
        "colab": {
          "base_uri": "https://localhost:8080/"
        },
        "id": "LHdSaJ1IkS4j",
        "outputId": "6b7d3cdf-2308-42bd-d6e0-697c64ba2e33"
      },
      "execution_count": null,
      "outputs": [
        {
          "output_type": "stream",
          "name": "stderr",
          "text": [
            "\u001b[32m[I 2023-05-24 21:19:31,355]\u001b[0m A new study created in memory with name: no-name-bde90631-dc25-4510-81d7-f09a71300b51\u001b[0m\n",
            "<ipython-input-35-8c98eff8b77e>:14: FutureWarning: suggest_loguniform has been deprecated in v3.0.0. This feature will be removed in v6.0.0. See https://github.com/optuna/optuna/releases/tag/v3.0.0. Use :func:`~optuna.trial.Trial.suggest_float` instead.\n",
            "  'learning_rate': trial.suggest_loguniform('learning_rate', 1e-5, 1e-1),\n",
            "\u001b[32m[I 2023-05-24 21:19:32,792]\u001b[0m Trial 0 finished with value: 0.9389312863349915 and parameters: {'learning_rate': 0.043915281634564526, 'optimizer': 'Adam', 'batch_size': 16, 'epochs': 37}. Best is trial 0 with value: 0.9389312863349915.\u001b[0m\n",
            "\u001b[32m[I 2023-05-24 21:19:34,189]\u001b[0m Trial 1 finished with value: 0.9465649127960205 and parameters: {'learning_rate': 0.013049003098027354, 'optimizer': 'Adam', 'batch_size': 32, 'epochs': 15}. Best is trial 0 with value: 0.9389312863349915.\u001b[0m\n",
            "\u001b[32m[I 2023-05-24 21:19:35,406]\u001b[0m Trial 2 finished with value: 0.8816794157028198 and parameters: {'learning_rate': 4.021331867974475e-05, 'optimizer': 'RMSprop', 'batch_size': 64, 'epochs': 41}. Best is trial 2 with value: 0.8816794157028198.\u001b[0m\n",
            "\u001b[32m[I 2023-05-24 21:19:36,593]\u001b[0m Trial 3 finished with value: 0.9351145029067993 and parameters: {'learning_rate': 0.001753926258686483, 'optimizer': 'RMSprop', 'batch_size': 16, 'epochs': 31}. Best is trial 2 with value: 0.8816794157028198.\u001b[0m\n",
            "\u001b[32m[I 2023-05-24 21:19:38,212]\u001b[0m Trial 4 finished with value: 0.9465649127960205 and parameters: {'learning_rate': 0.015357853121458624, 'optimizer': 'Adam', 'batch_size': 16, 'epochs': 42}. Best is trial 2 with value: 0.8816794157028198.\u001b[0m\n",
            "\u001b[32m[I 2023-05-24 21:19:39,821]\u001b[0m Trial 5 finished with value: 0.9389312863349915 and parameters: {'learning_rate': 0.0010470503450001269, 'optimizer': 'RMSprop', 'batch_size': 64, 'epochs': 31}. Best is trial 2 with value: 0.8816794157028198.\u001b[0m\n",
            "\u001b[32m[I 2023-05-24 21:19:41,143]\u001b[0m Trial 6 finished with value: 0.48473283648490906 and parameters: {'learning_rate': 0.0002285373866022774, 'optimizer': 'SGD', 'batch_size': 32, 'epochs': 25}. Best is trial 6 with value: 0.48473283648490906.\u001b[0m\n",
            "\u001b[32m[I 2023-05-24 21:19:42,953]\u001b[0m Trial 7 finished with value: 0.8778625726699829 and parameters: {'learning_rate': 4.127438977671536e-05, 'optimizer': 'RMSprop', 'batch_size': 64, 'epochs': 42}. Best is trial 6 with value: 0.48473283648490906.\u001b[0m\n",
            "\u001b[32m[I 2023-05-24 21:19:44,459]\u001b[0m Trial 8 finished with value: 0.9427480697631836 and parameters: {'learning_rate': 0.03164741688516907, 'optimizer': 'Adam', 'batch_size': 64, 'epochs': 19}. Best is trial 6 with value: 0.48473283648490906.\u001b[0m\n",
            "\u001b[32m[I 2023-05-24 21:19:45,894]\u001b[0m Trial 9 finished with value: 0.9465649127960205 and parameters: {'learning_rate': 0.004545409480525609, 'optimizer': 'Adam', 'batch_size': 32, 'epochs': 18}. Best is trial 6 with value: 0.48473283648490906.\u001b[0m\n"
          ]
        },
        {
          "output_type": "stream",
          "name": "stdout",
          "text": [
            "learning_rate: 0.0002285373866022774\n",
            "optimizer: SGD\n",
            "batch_size: 32\n",
            "epochs: 25\n"
          ]
        }
      ]
    },
    {
      "cell_type": "code",
      "source": [
        "#TFIDF for df2\n",
        "study_tfidf2 = optuna.create_study()\n",
        "study_tfidf2.optimize(Objective(X2_tens_train_tfidf, y2_tens_train_tfidf, X2_tens_test_tfidf, y2_tens_test_tfidf, tfidf2_vocab_size), n_trials=10)\n",
        "best_trial_tfidf2 = study_tfidf2.best_trial\n",
        "\n",
        "for key, value in best_trial_tfidf2.params.items():\n",
        "    print(\"{}: {}\".format(key, value))\n"
      ],
      "metadata": {
        "colab": {
          "base_uri": "https://localhost:8080/"
        },
        "id": "vPbMbtL0lF94",
        "outputId": "d723beb9-5aea-4810-cdf3-ea291a5cfc89"
      },
      "execution_count": null,
      "outputs": [
        {
          "output_type": "stream",
          "name": "stderr",
          "text": [
            "\u001b[32m[I 2023-05-24 21:19:45,907]\u001b[0m A new study created in memory with name: no-name-ffb5ab99-4d85-46c2-861e-56e77233f90f\u001b[0m\n",
            "<ipython-input-35-8c98eff8b77e>:14: FutureWarning: suggest_loguniform has been deprecated in v3.0.0. This feature will be removed in v6.0.0. See https://github.com/optuna/optuna/releases/tag/v3.0.0. Use :func:`~optuna.trial.Trial.suggest_float` instead.\n",
            "  'learning_rate': trial.suggest_loguniform('learning_rate', 1e-5, 1e-1),\n",
            "\u001b[32m[I 2023-05-24 21:19:46,835]\u001b[0m Trial 0 finished with value: 0.589958131313324 and parameters: {'learning_rate': 0.003882372609750014, 'optimizer': 'SGD', 'batch_size': 32, 'epochs': 48}. Best is trial 0 with value: 0.589958131313324.\u001b[0m\n",
            "\u001b[32m[I 2023-05-24 21:19:47,899]\u001b[0m Trial 1 finished with value: 0.73221755027771 and parameters: {'learning_rate': 0.002913102566594277, 'optimizer': 'RMSprop', 'batch_size': 64, 'epochs': 46}. Best is trial 0 with value: 0.589958131313324.\u001b[0m\n",
            "\u001b[32m[I 2023-05-24 21:19:49,230]\u001b[0m Trial 2 finished with value: 0.73221755027771 and parameters: {'learning_rate': 0.03204964050192771, 'optimizer': 'Adam', 'batch_size': 64, 'epochs': 13}. Best is trial 0 with value: 0.589958131313324.\u001b[0m\n",
            "\u001b[32m[I 2023-05-24 21:19:50,315]\u001b[0m Trial 3 finished with value: 0.7364016771316528 and parameters: {'learning_rate': 0.05312772808423896, 'optimizer': 'RMSprop', 'batch_size': 64, 'epochs': 47}. Best is trial 0 with value: 0.589958131313324.\u001b[0m\n",
            "\u001b[32m[I 2023-05-24 21:19:51,398]\u001b[0m Trial 4 finished with value: 0.73221755027771 and parameters: {'learning_rate': 0.0034757803728426894, 'optimizer': 'RMSprop', 'batch_size': 32, 'epochs': 35}. Best is trial 0 with value: 0.589958131313324.\u001b[0m\n",
            "\u001b[32m[I 2023-05-24 21:19:52,298]\u001b[0m Trial 5 finished with value: 0.6820083856582642 and parameters: {'learning_rate': 0.026260496528559635, 'optimizer': 'SGD', 'batch_size': 16, 'epochs': 34}. Best is trial 0 with value: 0.589958131313324.\u001b[0m\n",
            "\u001b[32m[I 2023-05-24 21:19:53,193]\u001b[0m Trial 6 finished with value: 0.6527196764945984 and parameters: {'learning_rate': 0.01494689896029377, 'optimizer': 'SGD', 'batch_size': 64, 'epochs': 24}. Best is trial 0 with value: 0.589958131313324.\u001b[0m\n",
            "\u001b[32m[I 2023-05-24 21:19:54,403]\u001b[0m Trial 7 finished with value: 0.5104602575302124 and parameters: {'learning_rate': 0.00012735470749111524, 'optimizer': 'SGD', 'batch_size': 16, 'epochs': 31}. Best is trial 7 with value: 0.5104602575302124.\u001b[0m\n",
            "\u001b[32m[I 2023-05-24 21:19:56,129]\u001b[0m Trial 8 finished with value: 0.7196652889251709 and parameters: {'learning_rate': 0.09400942021360287, 'optimizer': 'Adam', 'batch_size': 32, 'epochs': 43}. Best is trial 7 with value: 0.5104602575302124.\u001b[0m\n",
            "\u001b[32m[I 2023-05-24 21:19:57,939]\u001b[0m Trial 9 finished with value: 0.589958131313324 and parameters: {'learning_rate': 1.1756011607620275e-05, 'optimizer': 'RMSprop', 'batch_size': 16, 'epochs': 29}. Best is trial 7 with value: 0.5104602575302124.\u001b[0m\n"
          ]
        },
        {
          "output_type": "stream",
          "name": "stdout",
          "text": [
            "learning_rate: 0.00012735470749111524\n",
            "optimizer: SGD\n",
            "batch_size: 16\n",
            "epochs: 31\n"
          ]
        }
      ]
    },
    {
      "cell_type": "code",
      "source": [
        "#TFIDF for df3\n",
        "study_tfidf3 = optuna.create_study()\n",
        "study_tfidf3.optimize(Objective(X3_tens_train_tfidf, y3_tens_train_tfidf, X3_tens_test_tfidf, y3_tens_test_tfidf, tfidf3_vocab_size), n_trials=10)\n",
        "best_trial_tfidf3 = study_tfidf3.best_trial\n",
        "\n",
        "for key, value in best_trial_tfidf3.params.items():\n",
        "    print(\"{}: {}\".format(key, value))"
      ],
      "metadata": {
        "colab": {
          "base_uri": "https://localhost:8080/"
        },
        "id": "ujcMQ8FWlGax",
        "outputId": "cb73c269-ab2b-41d1-f2fd-31c977062cb0"
      },
      "execution_count": null,
      "outputs": [
        {
          "output_type": "stream",
          "name": "stderr",
          "text": [
            "\u001b[32m[I 2023-05-24 21:19:57,955]\u001b[0m A new study created in memory with name: no-name-d38d0def-934a-4bb7-89df-e2fc5bb84a4b\u001b[0m\n",
            "<ipython-input-35-8c98eff8b77e>:14: FutureWarning: suggest_loguniform has been deprecated in v3.0.0. This feature will be removed in v6.0.0. See https://github.com/optuna/optuna/releases/tag/v3.0.0. Use :func:`~optuna.trial.Trial.suggest_float` instead.\n",
            "  'learning_rate': trial.suggest_loguniform('learning_rate', 1e-5, 1e-1),\n",
            "\u001b[32m[I 2023-05-24 21:20:00,175]\u001b[0m Trial 0 finished with value: 0.874015748500824 and parameters: {'learning_rate': 0.01821692826420452, 'optimizer': 'RMSprop', 'batch_size': 16, 'epochs': 20}. Best is trial 0 with value: 0.874015748500824.\u001b[0m\n",
            "\u001b[32m[I 2023-05-24 21:20:01,543]\u001b[0m Trial 1 finished with value: 0.6023622155189514 and parameters: {'learning_rate': 0.0012173455352747873, 'optimizer': 'SGD', 'batch_size': 64, 'epochs': 12}. Best is trial 1 with value: 0.6023622155189514.\u001b[0m\n",
            "\u001b[32m[I 2023-05-24 21:20:03,299]\u001b[0m Trial 2 finished with value: 0.7086614370346069 and parameters: {'learning_rate': 2.1033612831500556e-05, 'optimizer': 'RMSprop', 'batch_size': 32, 'epochs': 27}. Best is trial 1 with value: 0.6023622155189514.\u001b[0m\n",
            "\u001b[32m[I 2023-05-24 21:20:04,859]\u001b[0m Trial 3 finished with value: 0.8543307185173035 and parameters: {'learning_rate': 0.007489558516812415, 'optimizer': 'Adam', 'batch_size': 16, 'epochs': 28}. Best is trial 1 with value: 0.6023622155189514.\u001b[0m\n",
            "\u001b[32m[I 2023-05-24 21:20:06,247]\u001b[0m Trial 4 finished with value: 0.8543307185173035 and parameters: {'learning_rate': 0.0019866713626997424, 'optimizer': 'Adam', 'batch_size': 16, 'epochs': 25}. Best is trial 1 with value: 0.6023622155189514.\u001b[0m\n",
            "\u001b[32m[I 2023-05-24 21:20:07,237]\u001b[0m Trial 5 finished with value: 0.8031495809555054 and parameters: {'learning_rate': 0.023848804692825097, 'optimizer': 'SGD', 'batch_size': 32, 'epochs': 47}. Best is trial 1 with value: 0.6023622155189514.\u001b[0m\n",
            "\u001b[32m[I 2023-05-24 21:20:08,226]\u001b[0m Trial 6 finished with value: 0.6535432934761047 and parameters: {'learning_rate': 0.003863170923260688, 'optimizer': 'SGD', 'batch_size': 16, 'epochs': 17}. Best is trial 1 with value: 0.6023622155189514.\u001b[0m\n",
            "\u001b[32m[I 2023-05-24 21:20:09,629]\u001b[0m Trial 7 finished with value: 0.6614173054695129 and parameters: {'learning_rate': 2.4688242815108113e-05, 'optimizer': 'Adam', 'batch_size': 64, 'epochs': 46}. Best is trial 1 with value: 0.6023622155189514.\u001b[0m\n",
            "\u001b[32m[I 2023-05-24 21:20:11,428]\u001b[0m Trial 8 finished with value: 0.8700787425041199 and parameters: {'learning_rate': 0.021817827444065244, 'optimizer': 'Adam', 'batch_size': 64, 'epochs': 32}. Best is trial 1 with value: 0.6023622155189514.\u001b[0m\n",
            "\u001b[32m[I 2023-05-24 21:20:13,344]\u001b[0m Trial 9 finished with value: 0.8622047305107117 and parameters: {'learning_rate': 0.01565038094053123, 'optimizer': 'Adam', 'batch_size': 32, 'epochs': 35}. Best is trial 1 with value: 0.6023622155189514.\u001b[0m\n"
          ]
        },
        {
          "output_type": "stream",
          "name": "stdout",
          "text": [
            "learning_rate: 0.0012173455352747873\n",
            "optimizer: SGD\n",
            "batch_size: 64\n",
            "epochs: 12\n"
          ]
        }
      ]
    },
    {
      "cell_type": "markdown",
      "source": [
        "### Best parameters evaluation"
      ],
      "metadata": {
        "id": "WD8JCqfAFe5N"
      }
    },
    {
      "cell_type": "code",
      "source": [
        "def model_train_best(model, X_train, y_train, X_test, y_test, best_trial, vocab_size):\n",
        "    # train the model on the full training set with the best hyperparameters\n",
        "    lr = best_trial.params['learning_rate']\n",
        "    optimizer_best = best_trial.params['optimizer']\n",
        "    batch_size = best_trial.params['batch_size']\n",
        "    epochs = best_trial.params['epochs']\n",
        "\n",
        "    optimizer_temp = 'optim.'+optimizer_best+'(model.parameters(), lr=lr)'\n",
        "    optimizer = eval(optimizer_temp)\n",
        "\n",
        "    loss_fn = nn.BCELoss()  # binary cross entropy\n",
        "\n",
        "    # batch_size = batch_size  # size of each batch\n",
        "    batch_start = torch.arange(0, len(X_train), batch_size)\n",
        "    model = LogisticRegression(vocab_size, 1)\n",
        "\n",
        "    # Hold the best model\n",
        "    best_acc = - np.inf   # init to negative infinity\n",
        "    best_weights = None\n",
        "\n",
        "    for epoch in range(epochs):\n",
        "        model.train()\n",
        "        with tqdm(batch_start, unit=\"batch\", mininterval=0, disable=True) as bar:\n",
        "            bar.set_description(f\"Epoch {epoch}\")\n",
        "            for start in bar:\n",
        "                # take a batch\n",
        "                X_batch = X_train[start:start+batch_size]\n",
        "                y_batch = y_train[start:start+batch_size]\n",
        "                # forward pass\n",
        "                y_pred = model(X_batch)\n",
        "                loss = loss_fn(y_pred, y_batch)\n",
        "                # backward pass\n",
        "                optimizer.zero_grad()\n",
        "                loss.backward()\n",
        "                # update weights\n",
        "                optimizer.step()\n",
        "                # print progress\n",
        "                acc = (y_pred.round() == y_batch).float().mean()\n",
        "                bar.set_postfix(\n",
        "                    loss=float(loss),\n",
        "                    acc=float(acc))\n",
        "\n",
        "    # evaluate accuracy at end of epochs\n",
        "    model.eval()\n",
        "    y_pred = model(X_test)\n",
        "    acc = (y_pred.round() == y_test).float().mean()\n",
        "    acc = float(acc)\n",
        "    return acc"
      ],
      "metadata": {
        "id": "0y6t6liG_YrF"
      },
      "execution_count": null,
      "outputs": []
    },
    {
      "cell_type": "markdown",
      "source": [
        "Retrain model with best hyperparameters on concatenated X_train with X_val and evaluate using X_test"
      ],
      "metadata": {
        "id": "i4udm1dEq1aJ"
      }
    },
    {
      "cell_type": "code",
      "source": [
        "# BOW\n",
        "X1_tens_train_full = torch.cat((X1_tens_train, X1_tens_val), 0)\n",
        "y1_tens_train_full = torch.cat((y1_tens_train, y1_tens_val), 0)\n",
        "\n",
        "X2_tens_train_full = torch.cat((X2_tens_train, X2_tens_val), 0)\n",
        "y2_tens_train_full = torch.cat((y2_tens_train, y2_tens_val), 0)\n",
        "\n",
        "X3_tens_train_full = torch.cat((X3_tens_train, X3_tens_val), 0)\n",
        "y3_tens_train_full = torch.cat((y3_tens_train, y3_tens_val), 0)\n",
        "\n",
        "best_acc1 = model_train_best(model1, X1_tens_train_full, y1_tens_train_full, X1_tens_test, y1_tens_test, best_trial_bow1, get_vocab_size(X1_tens_train_full))\n",
        "best_acc2 = model_train_best(model2, X2_tens_train_full, y2_tens_train_full, X2_tens_test, y2_tens_test, best_trial_bow2, get_vocab_size(X2_tens_train_full))\n",
        "best_acc3 = model_train_best(model3, X3_tens_train_full, y3_tens_train_full, X3_tens_test, y3_tens_test, best_trial_bow3, get_vocab_size(X3_tens_train_full))\n",
        "\n",
        "# print the metrics for the three datasets\n",
        "print(f'Accuracy on df1 {best_acc1:.3f}')\n",
        "print(f'Accuracy on df2 {best_acc2:.3f}')\n",
        "print(f'Accuracy on df3 {best_acc3:.3f}')"
      ],
      "metadata": {
        "id": "PkLt909AEQf9",
        "colab": {
          "base_uri": "https://localhost:8080/"
        },
        "outputId": "41481d17-81b4-4523-e400-90c39930c5b4"
      },
      "execution_count": null,
      "outputs": [
        {
          "output_type": "stream",
          "name": "stdout",
          "text": [
            "Accuracy on df1 0.508\n",
            "Accuracy on df2 0.460\n",
            "Accuracy on df3 0.500\n"
          ]
        }
      ]
    },
    {
      "cell_type": "code",
      "source": [
        "# TFIDF\n",
        "X1_tens_train_tfidf_full = torch.cat((X1_tens_train_tfidf, X1_tens_val_tfidf), 0)\n",
        "y1_tens_train_tfidf_full = torch.cat((y1_tens_train_tfidf, y1_tens_val_tfidf), 0)\n",
        "\n",
        "X2_tens_train_tfidf_full = torch.cat((X2_tens_train_tfidf, X2_tens_val_tfidf), 0)\n",
        "y2_tens_train_tfidf_full = torch.cat((y2_tens_train_tfidf, y2_tens_val_tfidf), 0)\n",
        "\n",
        "X3_tens_train_tfidf_full = torch.cat((X3_tens_train_tfidf, X3_tens_val_tfidf), 0)\n",
        "y3_tens_train_tfidf_full = torch.cat((y3_tens_train_tfidf, y3_tens_val_tfidf), 0)\n",
        "\n",
        "best_acc1_tfidf = model_train_best(model4, X1_tens_train_tfidf_full, y1_tens_train_tfidf_full, X1_tens_test_tfidf, y1_tens_test_tfidf, best_trial_tfidf1, get_vocab_size(X1_tens_train_tfidf_full))\n",
        "best_acc2_tfidf = model_train_best(model5, X2_tens_train_tfidf_full, y2_tens_train_tfidf_full, X2_tens_test_tfidf, y2_tens_test_tfidf, best_trial_tfidf2, get_vocab_size(X2_tens_train_tfidf_full))\n",
        "best_acc3_tfidf = model_train_best(model6, X3_tens_train_tfidf_full, y3_tens_train_tfidf_full, X3_tens_test_tfidf, y3_tens_test_tfidf, best_trial_tfidf3, get_vocab_size(X3_tens_train_tfidf_full))\n",
        "\n",
        "# print the metrics for the three datasets\n",
        "print(f'Accuracy on df1 {best_acc1_tfidf:.3f}')\n",
        "print(f'Accuracy on df2 {best_acc2_tfidf:.3f}')\n",
        "print(f'Accuracy on df3 {best_acc3_tfidf:.3f}')"
      ],
      "metadata": {
        "id": "6-PU1-61aZ76",
        "colab": {
          "base_uri": "https://localhost:8080/"
        },
        "outputId": "575372e8-2633-4f10-f144-2b49b3808314"
      },
      "execution_count": null,
      "outputs": [
        {
          "output_type": "stream",
          "name": "stdout",
          "text": [
            "Accuracy on df1 0.515\n",
            "Accuracy on df2 0.498\n",
            "Accuracy on df3 0.520\n"
          ]
        }
      ]
    },
    {
      "cell_type": "markdown",
      "metadata": {
        "id": "ns5aiyOCl2gC"
      },
      "source": [
        "### Cross-validation"
      ]
    },
    {
      "cell_type": "code",
      "execution_count": null,
      "metadata": {
        "id": "07JmuI9hl2gC"
      },
      "outputs": [],
      "source": [
        "# BOW 5-fold cross-validation test harness\n",
        "kfold = StratifiedKFold(n_splits=5, shuffle=True)\n",
        "\n",
        "def lr_cross_validate(model, X_train, y_train, best_trial, vocab_size):\n",
        "  cv_scores = []\n",
        "  for train, test in kfold.split(X_train, y_train):\n",
        "    # create model, train, and get accuracy\n",
        "    model = LogisticRegression(vocab_size, 1)\n",
        "    acc = model_train_best(model, X_train[train], y_train[train], X_train[test], y_train[test], best_trial, vocab_size)\n",
        "    print(\"Accuracy (LogReg): %.3f\" % acc)\n",
        "    cv_scores.append(acc)\n",
        "\n",
        "  # evaluate the model\n",
        "  acc = np.mean(cv_scores)\n",
        "  std = np.std(cv_scores)\n",
        "  # print(\"Model LogReg accuracy: %.2f%% (+/- %.2f%%)\" % (acc2*100, std2*100))\n",
        "  return print(\"Model LogReg accuracy: %.2f%% (+/- %.2f%%)\" % (acc*100, std*100))\n",
        "\n"
      ]
    },
    {
      "cell_type": "code",
      "source": [
        "#BOW CV\n",
        "model11 = LogisticRegression(get_vocab_size(X1_bow_tens), 1)\n",
        "df1_bow_lr_eval = lr_cross_validate(model11, X1_bow_tens, y1_bow_tens, best_trial_bow1, get_vocab_size(X1_bow_tens))\n",
        "\n",
        "model22 = LogisticRegression(get_vocab_size(X2_bow_tens), 1)\n",
        "df2_bow_lr_eval = lr_cross_validate(model22, X2_bow_tens, y2_bow_tens, best_trial_bow2, get_vocab_size(X2_bow_tens))\n",
        "\n",
        "model33 = LogisticRegression(get_vocab_size(X3_bow_tens), 1)\n",
        "df3_bow_lr_eval = lr_cross_validate(model33, X3_bow_tens, y3_bow_tens, best_trial_bow3, get_vocab_size(X3_bow_tens))"
      ],
      "metadata": {
        "colab": {
          "base_uri": "https://localhost:8080/"
        },
        "id": "yEz7uMGSMQeG",
        "outputId": "d2465165-6c18-4ebe-d2f2-937ea940014a"
      },
      "execution_count": null,
      "outputs": [
        {
          "output_type": "stream",
          "name": "stdout",
          "text": [
            "Accuracy (LogReg): 0.498\n",
            "Accuracy (LogReg): 0.534\n",
            "Accuracy (LogReg): 0.529\n",
            "Accuracy (LogReg): 0.511\n",
            "Accuracy (LogReg): 0.543\n",
            "Model LogReg accuracy: 52.29% (+/- 1.64%)\n",
            "Accuracy (LogReg): 0.483\n",
            "Accuracy (LogReg): 0.514\n",
            "Accuracy (LogReg): 0.484\n",
            "Accuracy (LogReg): 0.512\n",
            "Accuracy (LogReg): 0.516\n",
            "Model LogReg accuracy: 50.17% (+/- 1.47%)\n",
            "Accuracy (LogReg): 0.551\n",
            "Accuracy (LogReg): 0.498\n",
            "Accuracy (LogReg): 0.565\n",
            "Accuracy (LogReg): 0.518\n",
            "Accuracy (LogReg): 0.484\n",
            "Model LogReg accuracy: 52.32% (+/- 3.07%)\n"
          ]
        }
      ]
    },
    {
      "cell_type": "code",
      "source": [
        "#TFID CV\n",
        "model44 = LogisticRegression(get_vocab_size(X1_bow_tens), 1)\n",
        "df1_tfidf_lr_eval = lr_cross_validate(model44, X1_tens_train_tfidf_full, y1_tens_train_tfidf_full, best_trial_tfidf1, get_vocab_size(X1_tens_train_tfidf_full))\n",
        "\n",
        "model55 = LogisticRegression(get_vocab_size(X1_bow_tens), 1)\n",
        "df2_tfidf_lr_eval = lr_cross_validate(model55, X2_tens_train_tfidf_full, y2_tens_train_tfidf_full, best_trial_tfidf2, get_vocab_size(X2_tens_train_tfidf_full))\n",
        "\n",
        "model66 = LogisticRegression(get_vocab_size(X1_bow_tens), 1)\n",
        "df3_tfidf_lr_eval = lr_cross_validate(model66, X3_tens_train_tfidf_full, y3_tens_train_tfidf_full, best_trial_tfidf3, get_vocab_size(X3_tens_train_tfidf_full))"
      ],
      "metadata": {
        "colab": {
          "base_uri": "https://localhost:8080/"
        },
        "id": "blfNfha9MRmb",
        "outputId": "5dc1861e-5507-4299-f8da-d0e76c4552f4"
      },
      "execution_count": null,
      "outputs": [
        {
          "output_type": "stream",
          "name": "stdout",
          "text": [
            "Accuracy (LogReg): 0.477\n",
            "Accuracy (LogReg): 0.518\n",
            "Accuracy (LogReg): 0.533\n",
            "Accuracy (LogReg): 0.495\n",
            "Accuracy (LogReg): 0.507\n",
            "Model LogReg accuracy: 50.60% (+/- 1.93%)\n",
            "Accuracy (LogReg): 0.484\n",
            "Accuracy (LogReg): 0.479\n",
            "Accuracy (LogReg): 0.506\n",
            "Accuracy (LogReg): 0.513\n",
            "Accuracy (LogReg): 0.457\n",
            "Model LogReg accuracy: 48.77% (+/- 2.00%)\n",
            "Accuracy (LogReg): 0.522\n",
            "Accuracy (LogReg): 0.499\n",
            "Accuracy (LogReg): 0.486\n",
            "Accuracy (LogReg): 0.486\n",
            "Accuracy (LogReg): 0.475\n",
            "Model LogReg accuracy: 49.34% (+/- 1.61%)\n"
          ]
        }
      ]
    },
    {
      "cell_type": "markdown",
      "metadata": {
        "id": "GmaskAPyl2gE"
      },
      "source": [
        "# Project demonstration\n",
        "Prepare a summary of your work and discuss your choices with other course mates.\n",
        "\n",
        "1. Prepare and carry out 5-10 min demo of your results and achievements in this project.\n",
        "2. Publish your project on the GitHub or GitLab repository\n",
        "3. Don't remember to add README file with description of this project, specification of your goals and assumptions and explanation of your approach and results."
      ]
    }
  ],
  "metadata": {
    "colab": {
      "provenance": [],
      "toc_visible": true,
      "mount_file_id": "1gD4c3OiOAOpTo-4d_dPZvUIcDhHOWC7L",
      "authorship_tag": "ABX9TyOv0G5BGA7/hB9ztm6tcifW",
      "include_colab_link": true
    },
    "gpuClass": "standard",
    "kernelspec": {
      "display_name": "Python 3",
      "name": "python3"
    },
    "language_info": {
      "name": "python"
    },
    "accelerator": "GPU",
    "widgets": {
      "application/vnd.jupyter.widget-state+json": {
        "7a005946dff84148814cea45417256ab": {
          "model_module": "@jupyter-widgets/controls",
          "model_name": "HBoxModel",
          "model_module_version": "1.5.0",
          "state": {
            "_dom_classes": [],
            "_model_module": "@jupyter-widgets/controls",
            "_model_module_version": "1.5.0",
            "_model_name": "HBoxModel",
            "_view_count": null,
            "_view_module": "@jupyter-widgets/controls",
            "_view_module_version": "1.5.0",
            "_view_name": "HBoxView",
            "box_style": "",
            "children": [
              "IPY_MODEL_d48f578a53d147e2ab11077871300906",
              "IPY_MODEL_7f99994c1e5a447ab48ae5845fafff39",
              "IPY_MODEL_ddf596c3688246dc83d6ac9bf1b617c9"
            ],
            "layout": "IPY_MODEL_9447bf6bf84f4766af902828d2f4e88a"
          }
        },
        "d48f578a53d147e2ab11077871300906": {
          "model_module": "@jupyter-widgets/controls",
          "model_name": "HTMLModel",
          "model_module_version": "1.5.0",
          "state": {
            "_dom_classes": [],
            "_model_module": "@jupyter-widgets/controls",
            "_model_module_version": "1.5.0",
            "_model_name": "HTMLModel",
            "_view_count": null,
            "_view_module": "@jupyter-widgets/controls",
            "_view_module_version": "1.5.0",
            "_view_name": "HTMLView",
            "description": "",
            "description_tooltip": null,
            "layout": "IPY_MODEL_c246b408851241f288927db559e576ef",
            "placeholder": "​",
            "style": "IPY_MODEL_c7e796ca0b154d498002b4cd0f86109b",
            "value": "100%"
          }
        },
        "7f99994c1e5a447ab48ae5845fafff39": {
          "model_module": "@jupyter-widgets/controls",
          "model_name": "FloatProgressModel",
          "model_module_version": "1.5.0",
          "state": {
            "_dom_classes": [],
            "_model_module": "@jupyter-widgets/controls",
            "_model_module_version": "1.5.0",
            "_model_name": "FloatProgressModel",
            "_view_count": null,
            "_view_module": "@jupyter-widgets/controls",
            "_view_module_version": "1.5.0",
            "_view_name": "ProgressView",
            "bar_style": "success",
            "description": "",
            "description_tooltip": null,
            "layout": "IPY_MODEL_3fc070de6fe446819fe2aed0602f4ebb",
            "max": 3,
            "min": 0,
            "orientation": "horizontal",
            "style": "IPY_MODEL_39e06527e15d4dd3a2427e389b4f67cf",
            "value": 3
          }
        },
        "ddf596c3688246dc83d6ac9bf1b617c9": {
          "model_module": "@jupyter-widgets/controls",
          "model_name": "HTMLModel",
          "model_module_version": "1.5.0",
          "state": {
            "_dom_classes": [],
            "_model_module": "@jupyter-widgets/controls",
            "_model_module_version": "1.5.0",
            "_model_name": "HTMLModel",
            "_view_count": null,
            "_view_module": "@jupyter-widgets/controls",
            "_view_module_version": "1.5.0",
            "_view_name": "HTMLView",
            "description": "",
            "description_tooltip": null,
            "layout": "IPY_MODEL_f769dae29aa546e0af02ecfb51b0a2fb",
            "placeholder": "​",
            "style": "IPY_MODEL_ec411d617b5b4c72aaa5509b256f16f9",
            "value": " 3/3 [00:12&lt;00:00,  3.66s/it]"
          }
        },
        "9447bf6bf84f4766af902828d2f4e88a": {
          "model_module": "@jupyter-widgets/base",
          "model_name": "LayoutModel",
          "model_module_version": "1.2.0",
          "state": {
            "_model_module": "@jupyter-widgets/base",
            "_model_module_version": "1.2.0",
            "_model_name": "LayoutModel",
            "_view_count": null,
            "_view_module": "@jupyter-widgets/base",
            "_view_module_version": "1.2.0",
            "_view_name": "LayoutView",
            "align_content": null,
            "align_items": null,
            "align_self": null,
            "border": null,
            "bottom": null,
            "display": null,
            "flex": null,
            "flex_flow": null,
            "grid_area": null,
            "grid_auto_columns": null,
            "grid_auto_flow": null,
            "grid_auto_rows": null,
            "grid_column": null,
            "grid_gap": null,
            "grid_row": null,
            "grid_template_areas": null,
            "grid_template_columns": null,
            "grid_template_rows": null,
            "height": null,
            "justify_content": null,
            "justify_items": null,
            "left": null,
            "margin": null,
            "max_height": null,
            "max_width": null,
            "min_height": null,
            "min_width": null,
            "object_fit": null,
            "object_position": null,
            "order": null,
            "overflow": null,
            "overflow_x": null,
            "overflow_y": null,
            "padding": null,
            "right": null,
            "top": null,
            "visibility": null,
            "width": null
          }
        },
        "c246b408851241f288927db559e576ef": {
          "model_module": "@jupyter-widgets/base",
          "model_name": "LayoutModel",
          "model_module_version": "1.2.0",
          "state": {
            "_model_module": "@jupyter-widgets/base",
            "_model_module_version": "1.2.0",
            "_model_name": "LayoutModel",
            "_view_count": null,
            "_view_module": "@jupyter-widgets/base",
            "_view_module_version": "1.2.0",
            "_view_name": "LayoutView",
            "align_content": null,
            "align_items": null,
            "align_self": null,
            "border": null,
            "bottom": null,
            "display": null,
            "flex": null,
            "flex_flow": null,
            "grid_area": null,
            "grid_auto_columns": null,
            "grid_auto_flow": null,
            "grid_auto_rows": null,
            "grid_column": null,
            "grid_gap": null,
            "grid_row": null,
            "grid_template_areas": null,
            "grid_template_columns": null,
            "grid_template_rows": null,
            "height": null,
            "justify_content": null,
            "justify_items": null,
            "left": null,
            "margin": null,
            "max_height": null,
            "max_width": null,
            "min_height": null,
            "min_width": null,
            "object_fit": null,
            "object_position": null,
            "order": null,
            "overflow": null,
            "overflow_x": null,
            "overflow_y": null,
            "padding": null,
            "right": null,
            "top": null,
            "visibility": null,
            "width": null
          }
        },
        "c7e796ca0b154d498002b4cd0f86109b": {
          "model_module": "@jupyter-widgets/controls",
          "model_name": "DescriptionStyleModel",
          "model_module_version": "1.5.0",
          "state": {
            "_model_module": "@jupyter-widgets/controls",
            "_model_module_version": "1.5.0",
            "_model_name": "DescriptionStyleModel",
            "_view_count": null,
            "_view_module": "@jupyter-widgets/base",
            "_view_module_version": "1.2.0",
            "_view_name": "StyleView",
            "description_width": ""
          }
        },
        "3fc070de6fe446819fe2aed0602f4ebb": {
          "model_module": "@jupyter-widgets/base",
          "model_name": "LayoutModel",
          "model_module_version": "1.2.0",
          "state": {
            "_model_module": "@jupyter-widgets/base",
            "_model_module_version": "1.2.0",
            "_model_name": "LayoutModel",
            "_view_count": null,
            "_view_module": "@jupyter-widgets/base",
            "_view_module_version": "1.2.0",
            "_view_name": "LayoutView",
            "align_content": null,
            "align_items": null,
            "align_self": null,
            "border": null,
            "bottom": null,
            "display": null,
            "flex": null,
            "flex_flow": null,
            "grid_area": null,
            "grid_auto_columns": null,
            "grid_auto_flow": null,
            "grid_auto_rows": null,
            "grid_column": null,
            "grid_gap": null,
            "grid_row": null,
            "grid_template_areas": null,
            "grid_template_columns": null,
            "grid_template_rows": null,
            "height": null,
            "justify_content": null,
            "justify_items": null,
            "left": null,
            "margin": null,
            "max_height": null,
            "max_width": null,
            "min_height": null,
            "min_width": null,
            "object_fit": null,
            "object_position": null,
            "order": null,
            "overflow": null,
            "overflow_x": null,
            "overflow_y": null,
            "padding": null,
            "right": null,
            "top": null,
            "visibility": null,
            "width": null
          }
        },
        "39e06527e15d4dd3a2427e389b4f67cf": {
          "model_module": "@jupyter-widgets/controls",
          "model_name": "ProgressStyleModel",
          "model_module_version": "1.5.0",
          "state": {
            "_model_module": "@jupyter-widgets/controls",
            "_model_module_version": "1.5.0",
            "_model_name": "ProgressStyleModel",
            "_view_count": null,
            "_view_module": "@jupyter-widgets/base",
            "_view_module_version": "1.2.0",
            "_view_name": "StyleView",
            "bar_color": null,
            "description_width": ""
          }
        },
        "f769dae29aa546e0af02ecfb51b0a2fb": {
          "model_module": "@jupyter-widgets/base",
          "model_name": "LayoutModel",
          "model_module_version": "1.2.0",
          "state": {
            "_model_module": "@jupyter-widgets/base",
            "_model_module_version": "1.2.0",
            "_model_name": "LayoutModel",
            "_view_count": null,
            "_view_module": "@jupyter-widgets/base",
            "_view_module_version": "1.2.0",
            "_view_name": "LayoutView",
            "align_content": null,
            "align_items": null,
            "align_self": null,
            "border": null,
            "bottom": null,
            "display": null,
            "flex": null,
            "flex_flow": null,
            "grid_area": null,
            "grid_auto_columns": null,
            "grid_auto_flow": null,
            "grid_auto_rows": null,
            "grid_column": null,
            "grid_gap": null,
            "grid_row": null,
            "grid_template_areas": null,
            "grid_template_columns": null,
            "grid_template_rows": null,
            "height": null,
            "justify_content": null,
            "justify_items": null,
            "left": null,
            "margin": null,
            "max_height": null,
            "max_width": null,
            "min_height": null,
            "min_width": null,
            "object_fit": null,
            "object_position": null,
            "order": null,
            "overflow": null,
            "overflow_x": null,
            "overflow_y": null,
            "padding": null,
            "right": null,
            "top": null,
            "visibility": null,
            "width": null
          }
        },
        "ec411d617b5b4c72aaa5509b256f16f9": {
          "model_module": "@jupyter-widgets/controls",
          "model_name": "DescriptionStyleModel",
          "model_module_version": "1.5.0",
          "state": {
            "_model_module": "@jupyter-widgets/controls",
            "_model_module_version": "1.5.0",
            "_model_name": "DescriptionStyleModel",
            "_view_count": null,
            "_view_module": "@jupyter-widgets/base",
            "_view_module_version": "1.2.0",
            "_view_name": "StyleView",
            "description_width": ""
          }
        }
      }
    }
  },
  "nbformat": 4,
  "nbformat_minor": 0
}